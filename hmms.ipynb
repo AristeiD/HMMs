{
 "cells": [
  {
   "cell_type": "markdown",
   "metadata": {
    "deletable": true,
    "editable": true
   },
   "source": [
    "HMMs Library \n",
    "============================\n",
    "#### (Discrete & Continuous hidden markov models )\n",
    "\n",
    "The document contain the tutorial ( usage explained by example ) for the hidden markov models library [link to pip].\n",
    "* [The **first** part](#dthmm) will cover disrete-time hidden markov model (**DtHMM**)\n",
    "* [The **second** part](#cthmm) will be dedicated to continuous-time hidden markov model (**CtHMM**)\n",
    "* [The **third** part](#conv) will compare the convergences of **both** models\n",
    "* [The **fourth** part](#dataset) will explain how to use more complex **datasets** and run **multiple trains** by one function call\n",
    "\n",
    "The all of the part are independent, so you do not need to run all notebook, if you are interested only in one of them. \n",
    "\n",
    "\n",
    "If you are not familiar with the hidden markov model theory, We recommend ...\n",
    "%todo: refer to DP theory, (simple guide to cthmm?), github, sources\n"
   ]
  },
  {
   "cell_type": "markdown",
   "metadata": {
    "deletable": true,
    "editable": true
   },
   "source": [
    "<a id='dthmm'></a>\n",
    "Part 1: Discrete Time Hidden Markov Model\n",
    "---------------------------------------------------"
   ]
  },
  {
   "cell_type": "code",
   "execution_count": 1,
   "metadata": {
    "collapsed": false,
    "deletable": true,
    "editable": true
   },
   "outputs": [],
   "source": [
    "import numpy as np\n",
    "import matplotlib.pyplot as plt\n",
    "import hmms\n",
    "\n",
    "%matplotlib inline"
   ]
  },
  {
   "cell_type": "markdown",
   "metadata": {
    "deletable": true,
    "editable": true
   },
   "source": [
    "### Construct DtHMM \n",
    "You can directly initialize the DtHMM by passing the **model parameters**.  \n",
    "\n",
    "We will create simple DtHMM of two hidden states and three output variables."
   ]
  },
  {
   "cell_type": "code",
   "execution_count": 2,
   "metadata": {
    "collapsed": false,
    "deletable": true,
    "editable": true
   },
   "outputs": [],
   "source": [
    "# A is the matrix of transition probabilities from state [row] to state [column].\n",
    "A = np.array([[0.9,0.1],[0.4,0.6]])\n",
    "# B is the matrix of probabilities that the state [row] will emmit output variable [column].\n",
    "B = np.array([[0.9,0.08,0.02],[0.2,0.5,0.3]])\n",
    "# Pi is the vector of initial state probabilities.   \n",
    "Pi = np.array( [0.8,0.2] )\n",
    "\n",
    "# Create DtHMM by given parameters.\n",
    "dhmm = hmms.DtHMM(A,B,Pi)"
   ]
  },
  {
   "cell_type": "markdown",
   "metadata": {
    "deletable": true,
    "editable": true
   },
   "source": [
    "Or you can initialize it by **random parameters**. Passing the number of hidden states and output variables. "
   ]
  },
  {
   "cell_type": "code",
   "execution_count": 3,
   "metadata": {
    "collapsed": false,
    "deletable": true,
    "editable": true
   },
   "outputs": [],
   "source": [
    "dhmm_random = hmms.DtHMM.random(2,3)"
   ]
  },
  {
   "cell_type": "markdown",
   "metadata": {
    "deletable": true,
    "editable": true
   },
   "source": [
    "### Save & Read from File\n",
    "Once you have created the model you can **save** its parameters in file simply by calling *save_params* method.  "
   ]
  },
  {
   "cell_type": "code",
   "execution_count": 4,
   "metadata": {
    "collapsed": false,
    "deletable": true,
    "editable": true
   },
   "outputs": [],
   "source": [
    "dhmm.save_params(\"Models/hello_dthmm\") "
   ]
  },
  {
   "cell_type": "markdown",
   "metadata": {
    "deletable": true,
    "editable": true
   },
   "source": [
    "The method stored the parameters in *.npz* format.  \n",
    "\n",
    "The saved file can be later used to **read** parametrs for model initialization."
   ]
  },
  {
   "cell_type": "code",
   "execution_count": 5,
   "metadata": {
    "collapsed": false,
    "deletable": true,
    "editable": true
   },
   "outputs": [],
   "source": [
    "dhmm_from_file = hmms.DtHMM.from_file( \"Models/hello_dthmm.npz\" )"
   ]
  },
  {
   "cell_type": "markdown",
   "metadata": {
    "deletable": true,
    "editable": true
   },
   "source": [
    "### Set & Get Parameters\n",
    "Later you can always **set** parameters with triple of methods corresponding to the constructors."
   ]
  },
  {
   "cell_type": "code",
   "execution_count": 6,
   "metadata": {
    "collapsed": false,
    "deletable": true,
    "editable": true,
    "scrolled": true
   },
   "outputs": [],
   "source": [
    "dhmm.set_params(A,B,Pi)\n",
    "dhmm.set_params_random(2,3)\n",
    "dhmm.set_params_from_file( \"Models/hello_dthmm.npz\" )"
   ]
  },
  {
   "cell_type": "markdown",
   "metadata": {
    "deletable": true,
    "editable": true
   },
   "source": [
    "You can **get** parameters by calling them separately,"
   ]
  },
  {
   "cell_type": "code",
   "execution_count": 7,
   "metadata": {
    "collapsed": false,
    "deletable": true,
    "editable": true
   },
   "outputs": [
    {
     "data": {
      "text/plain": [
       "(array([[ 0.9,  0.1],\n",
       "        [ 0.4,  0.6]]), array([[ 0.9 ,  0.08,  0.02],\n",
       "        [ 0.2 ,  0.5 ,  0.3 ]]), array([ 0.8,  0.2]))"
      ]
     },
     "execution_count": 7,
     "metadata": {},
     "output_type": "execute_result"
    }
   ],
   "source": [
    "dhmm.a, dhmm.b, dhmm.pi"
   ]
  },
  {
   "cell_type": "markdown",
   "metadata": {
    "deletable": true,
    "editable": true
   },
   "source": [
    "or **get** them **all** together as the triple."
   ]
  },
  {
   "cell_type": "code",
   "execution_count": 8,
   "metadata": {
    "collapsed": false,
    "deletable": true,
    "editable": true
   },
   "outputs": [],
   "source": [
    "(A,B,Pi) = dhmm.params"
   ]
  },
  {
   "cell_type": "markdown",
   "metadata": {
    "deletable": true,
    "editable": true
   },
   "source": [
    "### Generate Random State and Emission Sequence\n",
    " Now we can use our model to generate state and emission sequence.   \n",
    " The model will randomly choose which transition or emission will happen, taking into consideration the parameters we have previously defined.\n"
   ]
  },
  {
   "cell_type": "code",
   "execution_count": 9,
   "metadata": {
    "collapsed": false,
    "deletable": true,
    "editable": true
   },
   "outputs": [
    {
     "data": {
      "image/png": "[encoded data removed]",
      "text/plain": [
       "<matplotlib.figure.Figure at 0x7f61c90c1c18>"
      ]
     },
     "metadata": {},
     "output_type": "display_data"
    }
   ],
   "source": [
    "seq_len = 20\n",
    "s_seq, e_seq = dhmm.generate( seq_len )\n",
    "\n",
    "#resize plot\n",
    "plt.rcParams['figure.figsize'] = [20,20]\n",
    "\n",
    "hmms.plot_hmm( s_seq, e_seq )"
   ]
  },
  {
   "cell_type": "markdown",
   "metadata": {
    "collapsed": false,
    "deletable": true,
    "editable": true
   },
   "source": [
    "### Find Most Likely State Sequence\n",
    "If we have the model parameters and emission sequence, we can find the most probable state sequence that would generate it. Notice, that it can be different, than the actual sequence that has generated the emissions.  \n",
    "We will use Viterbi algorithm for the calculation.\n"
   ]
  },
  {
   "cell_type": "code",
   "execution_count": 10,
   "metadata": {
    "collapsed": false,
    "deletable": true,
    "editable": true
   },
   "outputs": [
    {
     "data": {
      "image/png": "[encoded data removed]",
      "text/plain": [
       "<matplotlib.figure.Figure at 0x7f619980fe48>"
      ]
     },
     "metadata": {},
     "output_type": "display_data"
    }
   ],
   "source": [
    "( log_prob, s_seq ) =  dhmm.viterbi( e_seq )\n",
    "# Let's print the most likely state sequence, it can be same or differ from the sequence above.\n",
    "hmms.plot_hmm( s_seq, e_seq )"
   ]
  },
  {
   "cell_type": "markdown",
   "metadata": {
    "collapsed": true,
    "deletable": true,
    "editable": true
   },
   "source": [
    "The *log_prob* parameter store the probability of the sequence.  \n",
    "All the probabilities in the library are stored in the logarithm of their actual value. As the number of possible sequences grows exponentialy by it length, it could easily lead to float underflow.  \n",
    "You can easily transform it to the normal scale value applying *exp* function. "
   ]
  },
  {
   "cell_type": "code",
   "execution_count": 11,
   "metadata": {
    "collapsed": false,
    "deletable": true,
    "editable": true
   },
   "outputs": [
    {
     "data": {
      "text/plain": [
       "4.3408546073821611e-08"
      ]
     },
     "execution_count": 11,
     "metadata": {},
     "output_type": "execute_result"
    }
   ],
   "source": [
    "np.exp( log_prob )"
   ]
  },
  {
   "cell_type": "markdown",
   "metadata": {},
   "source": [
    "### State Confidence "
   ]
  },
  {
   "cell_type": "markdown",
   "metadata": {},
   "source": [
    "We may want to know what is the probability that the emission was generated by some concrete state. You can get the result for every state in every time by calling the method *states_confidence*. **Notice** that the viterbi most probable sequence,  presented above, doesn't neccessery contain the most probable states from this method as here is not important the consecutive states transition probability. "
   ]
  },
  {
   "cell_type": "code",
   "execution_count": 12,
   "metadata": {
    "collapsed": false
   },
   "outputs": [
    {
     "data": {
      "text/plain": [
       "array([[ 0.94637815,  0.05362185],\n",
       "       [ 0.86930062,  0.13069938],\n",
       "       [ 0.20955153,  0.79044847],\n",
       "       [ 0.2876288 ,  0.7123712 ],\n",
       "       [ 0.8803935 ,  0.1196065 ],\n",
       "       [ 0.94807529,  0.05192471],\n",
       "       [ 0.87036898,  0.12963102],\n",
       "       [ 0.21134216,  0.78865784],\n",
       "       [ 0.29126207,  0.70873793],\n",
       "       [ 0.89266574,  0.10733426],\n",
       "       [ 0.97310635,  0.02689365],\n",
       "       [ 0.98385571,  0.01614429],\n",
       "       [ 0.98521775,  0.01478225],\n",
       "       [ 0.98483346,  0.01516654],\n",
       "       [ 0.98054702,  0.01945298],\n",
       "       [ 0.94831146,  0.05168854],\n",
       "       [ 0.70728533,  0.29271467],\n",
       "       [ 0.94755856,  0.05244144],\n",
       "       [ 0.97818459,  0.02181541],\n",
       "       [ 0.97097544,  0.02902456]])"
      ]
     },
     "execution_count": 12,
     "metadata": {},
     "output_type": "execute_result"
    }
   ],
   "source": [
    "log_prob_table = dhmm.states_confidence( e_seq )\n",
    "np.exp( log_prob_table )"
   ]
  },
  {
   "cell_type": "markdown",
   "metadata": {
    "deletable": true,
    "editable": true
   },
   "source": [
    "<a id='dtest'></a>\n",
    "### The Probability of the Emission Sequence"
   ]
  },
  {
   "cell_type": "markdown",
   "metadata": {
    "deletable": true,
    "editable": true
   },
   "source": [
    "We can compute the probability, that the model will generate the emission sequence."
   ]
  },
  {
   "cell_type": "code",
   "execution_count": 13,
   "metadata": {
    "collapsed": false,
    "deletable": true,
    "editable": true
   },
   "outputs": [
    {
     "data": {
      "text/plain": [
       "3.2860498556028471e-07"
      ]
     },
     "execution_count": 13,
     "metadata": {},
     "output_type": "execute_result"
    }
   ],
   "source": [
    "np.exp( dhmm.emission_estimate( e_seq ) )"
   ]
  },
  {
   "cell_type": "markdown",
   "metadata": {
    "deletable": true,
    "editable": true
   },
   "source": [
    "### The Probability of the State and Emission Sequences "
   ]
  },
  {
   "cell_type": "markdown",
   "metadata": {
    "deletable": true,
    "editable": true
   },
   "source": [
    "Similary we can compute the probabilty of the state and emission sequences given the model parameters."
   ]
  },
  {
   "cell_type": "code",
   "execution_count": 14,
   "metadata": {
    "collapsed": false,
    "deletable": true,
    "editable": true
   },
   "outputs": [
    {
     "data": {
      "text/plain": [
       "4.3408546073821611e-08"
      ]
     },
     "execution_count": 14,
     "metadata": {},
     "output_type": "execute_result"
    }
   ],
   "source": [
    "np.exp( dhmm.estimate( s_seq, e_seq ) )"
   ]
  },
  {
   "cell_type": "markdown",
   "metadata": {
    "deletable": true,
    "editable": true
   },
   "source": [
    "**Notice!**  - You can simply count the probability estimations for whole dataset by one command, watch [The chapter 4](#dsest)."
   ]
  },
  {
   "cell_type": "markdown",
   "metadata": {
    "deletable": true,
    "editable": true
   },
   "source": [
    "### Generate Artificial Dataset\n",
    "\n",
    "You can easily generate many sequences in once by using the generate_data function.\n",
    "The generated emission sequences are in the form that is suitable for training of parameters. You can switch times=True, if you want to generate also the corresponding equidistant time sequences."
   ]
  },
  {
   "cell_type": "code",
   "execution_count": 15,
   "metadata": {
    "collapsed": false,
    "deletable": true,
    "editable": true
   },
   "outputs": [
    {
     "data": {
      "text/plain": [
       "(array([[1, 0, 0, 0, 0, 0, 0, 0, 0, 0],\n",
       "        [0, 0, 0, 0, 0, 0, 0, 0, 0, 0],\n",
       "        [1, 0, 0, 0, 0, 0, 0, 0, 0, 0]]),\n",
       " array([[2, 0, 1, 0, 0, 0, 0, 0, 1, 0],\n",
       "        [0, 0, 0, 0, 0, 0, 0, 0, 0, 0],\n",
       "        [2, 0, 0, 1, 0, 0, 0, 1, 0, 0]]))"
      ]
     },
     "execution_count": 15,
     "metadata": {},
     "output_type": "execute_result"
    }
   ],
   "source": [
    "seq_num= 3   #number of data sequences\n",
    "seq_len= 10  #length of each sequence\n",
    "\n",
    "dhmm.generate_data( (seq_num,seq_len) )"
   ]
  },
  {
   "cell_type": "markdown",
   "metadata": {
    "deletable": true,
    "editable": true
   },
   "source": [
    "### Parameters Estimation - Baum Welch Algorithm\n",
    "We usually do not know the real parameters of the model. But, if we have sufficient data, we can estimate them by EM algorithm.  \n",
    "Here we will have several output variables (emissions) sequences and we will show, how to use them to train the model parameters\n",
    "\n",
    "Let's start by creating some artifficial data. We will use the previously defined *dhmm* model for it.\n",
    "\n",
    "**Notice!**  - For more detail information about possible datasets watch  [The chapter 4](#datasets).\n"
   ]
  },
  {
   "cell_type": "code",
   "execution_count": 16,
   "metadata": {
    "collapsed": false,
    "deletable": true,
    "editable": true
   },
   "outputs": [
    {
     "data": {
      "text/plain": [
       "array([[0, 0, 0, 0, 0, 0, 1, 1, 0, 0, 0, 0, 1, 2, 1, 0, 0, 2, 0, 0, 0, 0,\n",
       "        0, 0, 0, 1, 1, 1, 0, 0, 1, 1, 1, 0, 1, 0, 1, 0, 0, 0, 0, 0, 2, 0,\n",
       "        0, 0, 0, 0, 2, 0],\n",
       "       [0, 0, 0, 0, 0, 0, 0, 0, 1, 2, 0, 0, 0, 0, 0, 0, 0, 0, 0, 0, 0, 0,\n",
       "        0, 0, 0, 0, 0, 0, 1, 0, 0, 0, 1, 0, 0, 0, 0, 0, 1, 0, 0, 0, 0, 0,\n",
       "        0, 0, 0, 0, 0, 2],\n",
       "       [0, 0, 0, 0, 0, 0, 0, 0, 1, 0, 1, 0, 1, 0, 0, 0, 0, 0, 0, 0, 0, 0,\n",
       "        1, 0, 1, 0, 0, 0, 0, 1, 1, 2, 0, 0, 0, 0, 0, 0, 1, 1, 0, 0, 0, 0,\n",
       "        0, 0, 0, 0, 0, 1],\n",
       "       [0, 0, 0, 0, 0, 0, 0, 0, 1, 0, 0, 0, 0, 0, 1, 0, 0, 0, 0, 0, 0, 1,\n",
       "        0, 0, 1, 0, 0, 1, 0, 0, 2, 0, 0, 1, 0, 0, 0, 0, 1, 0, 0, 0, 0, 2,\n",
       "        0, 0, 0, 0, 0, 2],\n",
       "       [0, 1, 2, 1, 1, 1, 1, 1, 2, 0, 1, 2, 2, 0, 0, 0, 0, 1, 1, 0, 0, 0,\n",
       "        0, 0, 0, 0, 0, 0, 0, 0, 0, 0, 0, 0, 0, 0, 0, 0, 0, 0, 0, 0, 0, 0,\n",
       "        0, 0, 1, 0, 0, 0]])"
      ]
     },
     "execution_count": 16,
     "metadata": {},
     "output_type": "execute_result"
    }
   ],
   "source": [
    "seq_num = 5\n",
    "seq_len = 50\n",
    "\n",
    "_ , data = dhmm.generate_data( (seq_num,seq_len) )\n",
    "\n",
    "data"
   ]
  },
  {
   "cell_type": "markdown",
   "metadata": {
    "deletable": true,
    "editable": true
   },
   "source": [
    "Now, we will create the model with random parameters, that will be eventually trained to match the data."
   ]
  },
  {
   "cell_type": "code",
   "execution_count": 17,
   "metadata": {
    "collapsed": false,
    "deletable": true,
    "editable": true
   },
   "outputs": [
    {
     "name": "stdout",
     "output_type": "stream",
     "text": [
      "Initial probabilities (π) :\n"
     ]
    },
    {
     "data": {
      "text/html": [
       "<div>\n",
       "<table border=\"1\" class=\"dataframe\">\n",
       "  <thead>\n",
       "    <tr style=\"text-align: right;\">\n",
       "      <th></th>\n",
       "      <th>0</th>\n",
       "    </tr>\n",
       "  </thead>\n",
       "  <tbody>\n",
       "    <tr>\n",
       "      <th>0</th>\n",
       "      <td>0.813999</td>\n",
       "    </tr>\n",
       "    <tr>\n",
       "      <th>1</th>\n",
       "      <td>0.186001</td>\n",
       "    </tr>\n",
       "  </tbody>\n",
       "</table>\n",
       "</div>"
      ],
      "text/plain": [
       "          0\n",
       "0  0.813999\n",
       "1  0.186001"
      ]
     },
     "metadata": {},
     "output_type": "display_data"
    },
    {
     "name": "stdout",
     "output_type": "stream",
     "text": [
      "Transition probabilities matrix (A):\n"
     ]
    },
    {
     "data": {
      "text/html": [
       "<div>\n",
       "<table border=\"1\" class=\"dataframe\">\n",
       "  <thead>\n",
       "    <tr style=\"text-align: right;\">\n",
       "      <th></th>\n",
       "      <th>0</th>\n",
       "      <th>1</th>\n",
       "    </tr>\n",
       "  </thead>\n",
       "  <tbody>\n",
       "    <tr>\n",
       "      <th>0</th>\n",
       "      <td>0.000476</td>\n",
       "      <td>0.999524</td>\n",
       "    </tr>\n",
       "    <tr>\n",
       "      <th>1</th>\n",
       "      <td>0.686858</td>\n",
       "      <td>0.313142</td>\n",
       "    </tr>\n",
       "  </tbody>\n",
       "</table>\n",
       "</div>"
      ],
      "text/plain": [
       "          0         1\n",
       "0  0.000476  0.999524\n",
       "1  0.686858  0.313142"
      ]
     },
     "metadata": {},
     "output_type": "display_data"
    },
    {
     "name": "stdout",
     "output_type": "stream",
     "text": [
      "Emission probabilities matrix (B):\n"
     ]
    },
    {
     "data": {
      "text/html": [
       "<div>\n",
       "<table border=\"1\" class=\"dataframe\">\n",
       "  <thead>\n",
       "    <tr style=\"text-align: right;\">\n",
       "      <th></th>\n",
       "      <th>0</th>\n",
       "      <th>1</th>\n",
       "      <th>2</th>\n",
       "    </tr>\n",
       "  </thead>\n",
       "  <tbody>\n",
       "    <tr>\n",
       "      <th>0</th>\n",
       "      <td>0.073790</td>\n",
       "      <td>0.496047</td>\n",
       "      <td>0.430163</td>\n",
       "    </tr>\n",
       "    <tr>\n",
       "      <th>1</th>\n",
       "      <td>0.218958</td>\n",
       "      <td>0.280999</td>\n",
       "      <td>0.500043</td>\n",
       "    </tr>\n",
       "  </tbody>\n",
       "</table>\n",
       "</div>"
      ],
      "text/plain": [
       "          0         1         2\n",
       "0  0.073790  0.496047  0.430163\n",
       "1  0.218958  0.280999  0.500043"
      ]
     },
     "metadata": {},
     "output_type": "display_data"
    }
   ],
   "source": [
    "dhmm_r = hmms.DtHMM.random( 2,3 )\n",
    "# We can print all the parameters.\n",
    "hmms.print_parameters( dhmm_r )"
   ]
  },
  {
   "cell_type": "markdown",
   "metadata": {
    "deletable": true,
    "editable": true
   },
   "source": [
    "Let's compare the dataset likelihood estimation of model used for generating the data and the random parameters model. "
   ]
  },
  {
   "cell_type": "code",
   "execution_count": 18,
   "metadata": {
    "collapsed": false,
    "deletable": true,
    "editable": true
   },
   "outputs": [
    {
     "name": "stdout",
     "output_type": "stream",
     "text": [
      "Generator model: 6.02785805331e-71\n",
      "Random model:    6.58995682844e-184\n"
     ]
    }
   ],
   "source": [
    "print( \"Generator model:\" , np.exp( dhmm.data_estimate(data)   ) )\n",
    "print( \"Random model:   \" ,np.exp( dhmm_r.data_estimate(data) ) )"
   ]
  },
  {
   "cell_type": "markdown",
   "metadata": {
    "deletable": true,
    "editable": true
   },
   "source": [
    "Most likely the probability that the data was generated by random model is extremly low.\n",
    "\n",
    "Now we can take the random model and reestimate it to fit the data better."
   ]
  },
  {
   "cell_type": "code",
   "execution_count": 19,
   "metadata": {
    "collapsed": false,
    "deletable": true,
    "editable": true
   },
   "outputs": [
    {
     "name": "stdout",
     "output_type": "stream",
     "text": [
      "Reestimated model after 10 iterations:    9.67556768624e-73\n"
     ]
    }
   ],
   "source": [
    "dhmm_r.baum_welch( data, 10 )\n",
    "print( \"Reestimated model after 10 iterations:   \" ,np.exp( dhmm_r.data_estimate(data) ) )"
   ]
  },
  {
   "cell_type": "markdown",
   "metadata": {
    "deletable": true,
    "editable": true
   },
   "source": [
    "The probability of the reestimated model should now be similiar (possibly even higher) that the generator's model. If it is not, you can try to run the estimation procedure more time at different randomly generated models. It could happen that the estimation fall in the local optima.\n",
    "\n",
    "If you are satisfied with the results, you can run some more iteration to fine-tune it."
   ]
  },
  {
   "cell_type": "code",
   "execution_count": 20,
   "metadata": {
    "collapsed": false,
    "deletable": true,
    "editable": true
   },
   "outputs": [
    {
     "name": "stdout",
     "output_type": "stream",
     "text": [
      "Reestimated model after 110 iterations:    1.82462331013e-72\n"
     ]
    }
   ],
   "source": [
    "dhmm_r.baum_welch( data, 100 )\n",
    "print( \"Reestimated model after 110 iterations:   \" ,np.exp( dhmm_r.data_estimate(data) ) )"
   ]
  },
  {
   "cell_type": "markdown",
   "metadata": {
    "deletable": true,
    "editable": true
   },
   "source": [
    "We can compare the parameters of the model."
   ]
  },
  {
   "cell_type": "code",
   "execution_count": 21,
   "metadata": {
    "collapsed": false,
    "deletable": true,
    "editable": true
   },
   "outputs": [
    {
     "name": "stdout",
     "output_type": "stream",
     "text": [
      "Initial probabilities (π) :\n"
     ]
    },
    {
     "data": {
      "text/html": [
       "<div>\n",
       "<table border=\"1\" class=\"dataframe\">\n",
       "  <thead>\n",
       "    <tr style=\"text-align: right;\">\n",
       "      <th></th>\n",
       "      <th>0</th>\n",
       "    </tr>\n",
       "  </thead>\n",
       "  <tbody>\n",
       "    <tr>\n",
       "      <th>0</th>\n",
       "      <td>1.232788e-07</td>\n",
       "    </tr>\n",
       "    <tr>\n",
       "      <th>1</th>\n",
       "      <td>9.999999e-01</td>\n",
       "    </tr>\n",
       "  </tbody>\n",
       "</table>\n",
       "</div>"
      ],
      "text/plain": [
       "              0\n",
       "0  1.232788e-07\n",
       "1  9.999999e-01"
      ]
     },
     "metadata": {},
     "output_type": "display_data"
    },
    {
     "name": "stdout",
     "output_type": "stream",
     "text": [
      "Transition probabilities matrix (A):\n"
     ]
    },
    {
     "data": {
      "text/html": [
       "<div>\n",
       "<table border=\"1\" class=\"dataframe\">\n",
       "  <thead>\n",
       "    <tr style=\"text-align: right;\">\n",
       "      <th></th>\n",
       "      <th>0</th>\n",
       "      <th>1</th>\n",
       "    </tr>\n",
       "  </thead>\n",
       "  <tbody>\n",
       "    <tr>\n",
       "      <th>0</th>\n",
       "      <td>0.000064</td>\n",
       "      <td>0.999936</td>\n",
       "    </tr>\n",
       "    <tr>\n",
       "      <th>1</th>\n",
       "      <td>0.770227</td>\n",
       "      <td>0.229773</td>\n",
       "    </tr>\n",
       "  </tbody>\n",
       "</table>\n",
       "</div>"
      ],
      "text/plain": [
       "          0         1\n",
       "0  0.000064  0.999936\n",
       "1  0.770227  0.229773"
      ]
     },
     "metadata": {},
     "output_type": "display_data"
    },
    {
     "name": "stdout",
     "output_type": "stream",
     "text": [
      "Emission probabilities matrix (B):\n"
     ]
    },
    {
     "data": {
      "text/html": [
       "<div>\n",
       "<table border=\"1\" class=\"dataframe\">\n",
       "  <thead>\n",
       "    <tr style=\"text-align: right;\">\n",
       "      <th></th>\n",
       "      <th>0</th>\n",
       "      <th>1</th>\n",
       "      <th>2</th>\n",
       "    </tr>\n",
       "  </thead>\n",
       "  <tbody>\n",
       "    <tr>\n",
       "      <th>0</th>\n",
       "      <td>0.738838</td>\n",
       "      <td>0.251303</td>\n",
       "      <td>0.009860</td>\n",
       "    </tr>\n",
       "    <tr>\n",
       "      <th>1</th>\n",
       "      <td>0.796973</td>\n",
       "      <td>0.112281</td>\n",
       "      <td>0.090746</td>\n",
       "    </tr>\n",
       "  </tbody>\n",
       "</table>\n",
       "</div>"
      ],
      "text/plain": [
       "          0         1         2\n",
       "0  0.738838  0.251303  0.009860\n",
       "1  0.796973  0.112281  0.090746"
      ]
     },
     "metadata": {},
     "output_type": "display_data"
    },
    {
     "name": "stdout",
     "output_type": "stream",
     "text": [
      "Initial probabilities (π) :\n"
     ]
    },
    {
     "data": {
      "text/html": [
       "<div>\n",
       "<table border=\"1\" class=\"dataframe\">\n",
       "  <thead>\n",
       "    <tr style=\"text-align: right;\">\n",
       "      <th></th>\n",
       "      <th>0</th>\n",
       "    </tr>\n",
       "  </thead>\n",
       "  <tbody>\n",
       "    <tr>\n",
       "      <th>0</th>\n",
       "      <td>0.8</td>\n",
       "    </tr>\n",
       "    <tr>\n",
       "      <th>1</th>\n",
       "      <td>0.2</td>\n",
       "    </tr>\n",
       "  </tbody>\n",
       "</table>\n",
       "</div>"
      ],
      "text/plain": [
       "     0\n",
       "0  0.8\n",
       "1  0.2"
      ]
     },
     "metadata": {},
     "output_type": "display_data"
    },
    {
     "name": "stdout",
     "output_type": "stream",
     "text": [
      "Transition probabilities matrix (A):\n"
     ]
    },
    {
     "data": {
      "text/html": [
       "<div>\n",
       "<table border=\"1\" class=\"dataframe\">\n",
       "  <thead>\n",
       "    <tr style=\"text-align: right;\">\n",
       "      <th></th>\n",
       "      <th>0</th>\n",
       "      <th>1</th>\n",
       "    </tr>\n",
       "  </thead>\n",
       "  <tbody>\n",
       "    <tr>\n",
       "      <th>0</th>\n",
       "      <td>0.9</td>\n",
       "      <td>0.1</td>\n",
       "    </tr>\n",
       "    <tr>\n",
       "      <th>1</th>\n",
       "      <td>0.4</td>\n",
       "      <td>0.6</td>\n",
       "    </tr>\n",
       "  </tbody>\n",
       "</table>\n",
       "</div>"
      ],
      "text/plain": [
       "     0    1\n",
       "0  0.9  0.1\n",
       "1  0.4  0.6"
      ]
     },
     "metadata": {},
     "output_type": "display_data"
    },
    {
     "name": "stdout",
     "output_type": "stream",
     "text": [
      "Emission probabilities matrix (B):\n"
     ]
    },
    {
     "data": {
      "text/html": [
       "<div>\n",
       "<table border=\"1\" class=\"dataframe\">\n",
       "  <thead>\n",
       "    <tr style=\"text-align: right;\">\n",
       "      <th></th>\n",
       "      <th>0</th>\n",
       "      <th>1</th>\n",
       "      <th>2</th>\n",
       "    </tr>\n",
       "  </thead>\n",
       "  <tbody>\n",
       "    <tr>\n",
       "      <th>0</th>\n",
       "      <td>0.9</td>\n",
       "      <td>0.08</td>\n",
       "      <td>0.02</td>\n",
       "    </tr>\n",
       "    <tr>\n",
       "      <th>1</th>\n",
       "      <td>0.2</td>\n",
       "      <td>0.50</td>\n",
       "      <td>0.30</td>\n",
       "    </tr>\n",
       "  </tbody>\n",
       "</table>\n",
       "</div>"
      ],
      "text/plain": [
       "     0     1     2\n",
       "0  0.9  0.08  0.02\n",
       "1  0.2  0.50  0.30"
      ]
     },
     "metadata": {},
     "output_type": "display_data"
    }
   ],
   "source": [
    "hmms.print_parameters( dhmm_r )\n",
    "hmms.print_parameters( dhmm )"
   ]
  },
  {
   "cell_type": "markdown",
   "metadata": {
    "collapsed": false,
    "deletable": true,
    "editable": true,
    "scrolled": true
   },
   "source": [
    "Alternatively, we can run *baum_welch_graph* method to get learning curve of estimated probabilities."
   ]
  },
  {
   "cell_type": "code",
   "execution_count": 22,
   "metadata": {
    "collapsed": false,
    "deletable": true,
    "editable": true,
    "scrolled": false
   },
   "outputs": [
    {
     "data": {
      "text/plain": [
       "array([  7.11280708e-110,   7.69264275e-073,   7.81867732e-073,\n",
       "         7.91047891e-073,   7.97718424e-073,   8.02560095e-073,\n",
       "         8.06074623e-073,   8.08628990e-073,   8.10490241e-073,\n",
       "         8.11852008e-073,   8.12854368e-073,   8.13598513e-073,\n",
       "         8.14157493e-073,   8.14584050e-073,   8.14916292e-073,\n",
       "         8.15181806e-073,   8.15400619e-073,   8.15587343e-073,\n",
       "         8.15752720e-073,   8.15904731e-073,   8.16049408e-073,\n",
       "         8.16191412e-073,   8.16334456e-073,   8.16481617e-073,\n",
       "         8.16635556e-073,   8.16798697e-073,   8.16973344e-073,\n",
       "         8.17161787e-073,   8.17366378e-073,   8.17589595e-073,\n",
       "         8.17834098e-073,   8.18102780e-073,   8.18398816e-073,\n",
       "         8.18725703e-073,   8.19087312e-073,   8.19487932e-073,\n",
       "         8.19932319e-073,   8.20425748e-073,   8.20974063e-073,\n",
       "         8.21583739e-073,   8.22261933e-073,   8.23016547e-073,\n",
       "         8.23856288e-073,   8.24790728e-073,   8.25830363e-073,\n",
       "         8.26986665e-073,   8.28272135e-073,   8.29700337e-073,\n",
       "         8.31285927e-073,   8.33044659e-073,   8.34993368e-073])"
      ]
     },
     "execution_count": 22,
     "metadata": {},
     "output_type": "execute_result"
    }
   ],
   "source": [
    "dhmm_r = hmms.DtHMM.random(2,3) \n",
    "out = dhmm_r.baum_welch( data, 50, est=True )\n",
    "\n",
    "np.exp(out)"
   ]
  },
  {
   "cell_type": "markdown",
   "metadata": {
    "deletable": true,
    "editable": true
   },
   "source": [
    "Let's plot it in the graph, comparing the results in ratio with *real* data-generator model. ( Notice, it is the ratio of logaritmic probability values. )"
   ]
  },
  {
   "cell_type": "code",
   "execution_count": 23,
   "metadata": {
    "collapsed": false,
    "deletable": true,
    "editable": true
   },
   "outputs": [
    {
     "data": {
      "image/png": "[encoded data removed]",
      "text/plain": [
       "<matplotlib.figure.Figure at 0x7f619737bef0>"
      ]
     },
     "metadata": {},
     "output_type": "display_data"
    }
   ],
   "source": [
    "real = dhmm.data_estimate(data)\n",
    "#For better visibility of the graph, we cut first two values.\n",
    "plt.plot( out[2:] / real  )\n",
    "plt.show()"
   ]
  },
  {
   "cell_type": "markdown",
   "metadata": {},
   "source": [
    "### Maximum Likelihood Estimation"
   ]
  },
  {
   "cell_type": "markdown",
   "metadata": {},
   "source": [
    "Sometimes, we can have a dataset of full observations (i.e. both emission and hidden states sequences). We can use method *maximum_likelihood estimation* to estimate most likely parameters. "
   ]
  },
  {
   "cell_type": "code",
   "execution_count": 31,
   "metadata": {
    "collapsed": false
   },
   "outputs": [
    {
     "name": "stdout",
     "output_type": "stream",
     "text": [
      "The probability of the dataset being generated by the original model is: 4.1766178523e-79 .\n",
      "The probability of the dataset being generated by the MLE model is: 1.89650365362e-77 .\n"
     ]
    }
   ],
   "source": [
    "seq_num = 5\n",
    "seq_len = 50\n",
    "\n",
    "#generate artificial dataset of both hidden states and emissions sequences\n",
    "s_seqs , e_seqs = dhmm.generate_data( (seq_num,seq_len) )\n",
    "\n",
    "dhmm_r = hmms.DtHMM.random(2,3) \n",
    "dhmm_r.maximum_likelihood_estimation(s_seqs,e_seqs)\n",
    "\n",
    "log_est =     dhmm.full_data_estimate  ( s_seqs, e_seqs )\n",
    "log_est_mle = dhmm_r.full_data_estimate( s_seqs, e_seqs )\n",
    "\n",
    "print(\"The probability of the dataset being generated by the original model is:\", np.exp(log_est), \".\" )\n",
    "print(\"The probability of the dataset being generated by the MLE model is:\", np.exp(log_est_mle), \".\" )"
   ]
  },
  {
   "cell_type": "markdown",
   "metadata": {},
   "source": [
    "For the discrete-time model will be the probability of dataset estimated by parameters from *maximum_likelihood_estimation* always higher equal to probability of being generated by original model.  "
   ]
  },
  {
   "cell_type": "markdown",
   "metadata": {
    "deletable": true,
    "editable": true
   },
   "source": [
    "<a id='cthmm'></a>\n",
    "Part 2: Continuous Time Hidden Markov Model\n",
    "-----------------------------------------------------"
   ]
  },
  {
   "cell_type": "code",
   "execution_count": null,
   "metadata": {
    "collapsed": true,
    "deletable": true,
    "editable": true
   },
   "outputs": [],
   "source": [
    "import numpy as np\n",
    "import matplotlib.pyplot as plt\n",
    "import hmms\n",
    "\n",
    "%matplotlib inline"
   ]
  },
  {
   "cell_type": "markdown",
   "metadata": {
    "deletable": true,
    "editable": true
   },
   "source": [
    "### Construct CtHMM \n",
    "Construction of CtHMM is similar to the discrete model. \n",
    "\n",
    "You can directly initialize the CtHMM by passing the **model parameters**.  \n",
    "We will create simple CtHMM of three hidden states and three output variables."
   ]
  },
  {
   "cell_type": "code",
   "execution_count": null,
   "metadata": {
    "collapsed": false,
    "deletable": true,
    "editable": true
   },
   "outputs": [],
   "source": [
    "# Q is the matrix of transition rates from state [row] to state [column].\n",
    "Q = np.array( [[-0.375,0.125,0.25],[0.25,-0.5,0.25],[0.25,0.125,-0.375]] )\n",
    "# B is the matrix of probabilities that the state [row] will emmit output variable [column].\n",
    "B = np.array( [[0.8,0.05,0.15],[0.05,0.9,0.05],[0.2,0.05,0.75]] )\n",
    "# Pi is the vector of initial state probabilities.   \n",
    "Pi = np.array( [0.6,0,0.4] )\n",
    "\n",
    "# Create CtHMM by given parameters.\n",
    "chmm = hmms.CtHMM(Q,B,Pi)"
   ]
  },
  {
   "cell_type": "markdown",
   "metadata": {
    "deletable": true,
    "editable": true
   },
   "source": [
    "Or you can initialize it by **random parameters**. Passing the number of hidden states and output variables.  \n",
    "By default are the parameters generated by exponential distribution and than normalized to sum to one."
   ]
  },
  {
   "cell_type": "code",
   "execution_count": null,
   "metadata": {
    "collapsed": true,
    "deletable": true,
    "editable": true
   },
   "outputs": [],
   "source": [
    "chmm_random = hmms.CtHMM.random(3,3)"
   ]
  },
  {
   "cell_type": "markdown",
   "metadata": {
    "deletable": true,
    "editable": true
   },
   "source": [
    "You can choose generating by uniform distribution passing the parameter *method*. "
   ]
  },
  {
   "cell_type": "code",
   "execution_count": null,
   "metadata": {
    "collapsed": true,
    "deletable": true,
    "editable": true
   },
   "outputs": [],
   "source": [
    "chmm_random = hmms.CtHMM.random(3,3,method=\"unif\")"
   ]
  },
  {
   "cell_type": "markdown",
   "metadata": {
    "deletable": true,
    "editable": true
   },
   "source": [
    "### Save & Read from File\n",
    "\n",
    "Once you have created the model you can save its parameters in file simply by calling save_params method."
   ]
  },
  {
   "cell_type": "code",
   "execution_count": null,
   "metadata": {
    "collapsed": false,
    "deletable": true,
    "editable": true
   },
   "outputs": [],
   "source": [
    "chmm.save_params(\"Models/hello_cthmm\") "
   ]
  },
  {
   "cell_type": "markdown",
   "metadata": {
    "deletable": true,
    "editable": true
   },
   "source": [
    "The method stored the parameters in .npz format.\n",
    "The saved file can be later used to read parametrs for model initialization."
   ]
  },
  {
   "cell_type": "code",
   "execution_count": null,
   "metadata": {
    "collapsed": false,
    "deletable": true,
    "editable": true
   },
   "outputs": [],
   "source": [
    "chmm_from_file = hmms.CtHMM.from_file( \"Models/hello_cthmm.npz\" )"
   ]
  },
  {
   "cell_type": "markdown",
   "metadata": {
    "deletable": true,
    "editable": true
   },
   "source": [
    "### Set & Get Parameters\n",
    "Later you can always set parameters with triple of methods corresponding to the constructors."
   ]
  },
  {
   "cell_type": "code",
   "execution_count": null,
   "metadata": {
    "collapsed": false,
    "deletable": true,
    "editable": true
   },
   "outputs": [],
   "source": [
    "chmm.set_params(Q,B,Pi)\n",
    "chmm.set_params_random(3,3)\n",
    "chmm.set_params_from_file( \"Models/hello_cthmm.npz\" )"
   ]
  },
  {
   "cell_type": "markdown",
   "metadata": {
    "deletable": true,
    "editable": true
   },
   "source": [
    "You can **get** parameters by calling them separately,"
   ]
  },
  {
   "cell_type": "code",
   "execution_count": null,
   "metadata": {
    "collapsed": false,
    "deletable": true,
    "editable": true
   },
   "outputs": [],
   "source": [
    "chmm.q, chmm.b, chmm.pi"
   ]
  },
  {
   "cell_type": "markdown",
   "metadata": {
    "deletable": true,
    "editable": true
   },
   "source": [
    "or get them all together as the triple."
   ]
  },
  {
   "cell_type": "code",
   "execution_count": null,
   "metadata": {
    "collapsed": false,
    "deletable": true,
    "editable": true
   },
   "outputs": [],
   "source": [
    "(A,B,Pi) = chmm.params"
   ]
  },
  {
   "cell_type": "markdown",
   "metadata": {
    "deletable": true,
    "editable": true
   },
   "source": [
    "### Generate Random Sequence\n",
    "Now we can use our model to **generate** time, state and emission sequence.\n",
    "The model will **randomly** choose which transition or emission will happen, taking into consideration the parameters we have previously defined.\n",
    "\n",
    "The times are generated with **exponencial** waiting times, you can define the parameter of exponencial distribution as second optional parameter. \n"
   ]
  },
  {
   "cell_type": "code",
   "execution_count": null,
   "metadata": {
    "collapsed": false,
    "deletable": true,
    "editable": true
   },
   "outputs": [],
   "source": [
    "seq_len = 10\n",
    "t_seq, s_seq, e_seq = chmm.generate( seq_len, 0.5)\n",
    "\n",
    "#resize plot\n",
    "plt.rcParams['figure.figsize'] = [20,20]\n",
    "\n",
    "hmms.plot_hmm( s_seq, e_seq, time=t_seq )"
   ]
  },
  {
   "cell_type": "markdown",
   "metadata": {
    "deletable": true,
    "editable": true
   },
   "source": [
    "### Find Most Likely State Sequence\n",
    "If we have corresponding time and emission sequence, we can find the most probable state sequence that would generate it given the current model parameters. Notice, that it can be different, than the actual sequence that has generated the emissions.  \n",
    "We will use Viterbi algorithm for the calculation."
   ]
  },
  {
   "cell_type": "code",
   "execution_count": null,
   "metadata": {
    "collapsed": false,
    "deletable": true,
    "editable": true
   },
   "outputs": [],
   "source": [
    "( log_prob, s_seq ) =  chmm.viterbi( t_seq, e_seq )\n",
    "# Let's print the most likely state sequence, it can be same or differ from the sequence above.\n",
    "hmms.plot_hmm( s_seq, e_seq, time = t_seq )\n",
    "print( \"Probability of being generated by the found state sequence:\", np.exp( log_prob ) )"
   ]
  },
  {
   "cell_type": "markdown",
   "metadata": {},
   "source": [
    "### State Confidence"
   ]
  },
  {
   "cell_type": "markdown",
   "metadata": {},
   "source": [
    "We may want to know what is the probability that the emission was generated by some concrete state. You can get the result for every state in every time by calling the method *states_confidence*. **Notice** that the viterbi most probable sequence,  presented above, doesn't neccessery contain the most probable states from this method as here is not important the consecutive states transition probability."
   ]
  },
  {
   "cell_type": "code",
   "execution_count": null,
   "metadata": {
    "collapsed": false,
    "deletable": true,
    "editable": true
   },
   "outputs": [],
   "source": [
    "log_prob_table = chmm.states_confidence( t_seq, e_seq )\n",
    "np.exp( log_prob_table )"
   ]
  },
  {
   "cell_type": "markdown",
   "metadata": {},
   "source": [
    "### The Probability of the Time and Emission Sequences"
   ]
  },
  {
   "cell_type": "markdown",
   "metadata": {
    "deletable": true,
    "editable": true
   },
   "source": [
    "We can compute the probability, of the emission sequence given model and its time sequence."
   ]
  },
  {
   "cell_type": "code",
   "execution_count": null,
   "metadata": {
    "collapsed": false,
    "deletable": true,
    "editable": true
   },
   "outputs": [],
   "source": [
    "np.exp( chmm.emission_estimate( t_seq, e_seq ) )"
   ]
  },
  {
   "cell_type": "markdown",
   "metadata": {
    "deletable": true,
    "editable": true
   },
   "source": [
    "### The Probability of the State, Time and Emission Sequences"
   ]
  },
  {
   "cell_type": "markdown",
   "metadata": {
    "deletable": true,
    "editable": true
   },
   "source": [
    "Similary we can compute the probabilty of the state, time and emission sequences given the model parameters."
   ]
  },
  {
   "cell_type": "code",
   "execution_count": null,
   "metadata": {
    "collapsed": false,
    "deletable": true,
    "editable": true
   },
   "outputs": [],
   "source": [
    "np.exp( chmm.estimate( s_seq, t_seq, e_seq ) )"
   ]
  },
  {
   "cell_type": "markdown",
   "metadata": {
    "deletable": true,
    "editable": true
   },
   "source": [
    "**Notice!**  - You can simply count the probability estimations for whole dataset by one command, watch [The chapter 4](#dsest)."
   ]
  },
  {
   "cell_type": "markdown",
   "metadata": {
    "deletable": true,
    "editable": true
   },
   "source": [
    "### Generate Artificial  Dataset\n",
    "You can easily generate many sequences in once by using the *generate_data* function.  \n",
    "The generated data are in the form that is suitable for training of parameters. \n",
    "You can switch *states=True*, if you want to generate also the corresponding state sequences.\n",
    "\n",
    "TODO: The times are generated with **exponencial** waiting times, you can define the parameter of exponencial distribution as second optional parameter. "
   ]
  },
  {
   "cell_type": "code",
   "execution_count": null,
   "metadata": {
    "collapsed": false,
    "deletable": true,
    "editable": true
   },
   "outputs": [],
   "source": [
    "seq_num= 5   #number of data sequences\n",
    "seq_len= 30  #length of each sequence\n",
    "\n",
    "t,e = chmm.generate_data( (seq_num,seq_len) )\n",
    "t,e"
   ]
  },
  {
   "cell_type": "markdown",
   "metadata": {
    "collapsed": true,
    "deletable": true,
    "editable": true
   },
   "source": [
    "### Parameters Estimation - Continuous Version of Baum Welch Algorithm\n",
    "\n",
    "We will use the previously generated data for the training of randomly generated model.\n",
    "\n",
    "**Notice!**  - Always use the integers in your time points dataset. Floats times are also supported, but it can make the computation significantly slower and you should know, why you are using them. For more detail information watch [The chapter 4](#dataset)."
   ]
  },
  {
   "cell_type": "code",
   "execution_count": null,
   "metadata": {
    "collapsed": false,
    "deletable": true,
    "editable": true
   },
   "outputs": [],
   "source": [
    "chmm_r = hmms.CtHMM.random( 3,3 )\n",
    "# We can print all the parameters.\n",
    "hmms.print_parameters( chmm_r )"
   ]
  },
  {
   "cell_type": "markdown",
   "metadata": {
    "deletable": true,
    "editable": true
   },
   "source": [
    "Now we can compare the probabilities, that the data was generated by the given model. Its ratio is most probably not so big as in the disrete model. It is because the intervals between the observations are the source of many unknown, so it is pushing the probability of real model down. "
   ]
  },
  {
   "cell_type": "code",
   "execution_count": null,
   "metadata": {
    "collapsed": false,
    "deletable": true,
    "editable": true
   },
   "outputs": [],
   "source": [
    "print( \"Generator model:\" , np.exp( chmm.data_estimate(t,e)   ) )\n",
    "print( \"Random model:   \" ,np.exp( chmm_r.data_estimate(t,e) ) )"
   ]
  },
  {
   "cell_type": "markdown",
   "metadata": {
    "deletable": true,
    "editable": true
   },
   "source": [
    "Let's run the EM algorithm for couple of iterations."
   ]
  },
  {
   "cell_type": "code",
   "execution_count": null,
   "metadata": {
    "collapsed": false,
    "deletable": true,
    "editable": true
   },
   "outputs": [],
   "source": [
    "out = chmm_r.baum_welch( t,e, 100, est=True )\n",
    "\n",
    "np.exp(out)"
   ]
  },
  {
   "cell_type": "markdown",
   "metadata": {
    "deletable": true,
    "editable": true
   },
   "source": [
    "We will plot its probabilities estimations in ratio with generator model. (Notice, it is the ratio of logarithms of probabilities)"
   ]
  },
  {
   "cell_type": "code",
   "execution_count": null,
   "metadata": {
    "collapsed": false,
    "deletable": true,
    "editable": true
   },
   "outputs": [],
   "source": [
    "real = chmm.data_estimate( t, e )\n",
    "#For better visibility of the graph, we cut first two values.\n",
    "plt.plot( out[2:] / real  )\n",
    "\n",
    "plt.show()"
   ]
  },
  {
   "cell_type": "markdown",
   "metadata": {
    "deletable": true,
    "editable": true
   },
   "source": [
    "<a id='conv'></a>\n",
    "Part 3: Comparison of Models Convergences\n",
    "-----------------------------------------------------"
   ]
  },
  {
   "cell_type": "markdown",
   "metadata": {
    "deletable": true,
    "editable": true
   },
   "source": [
    "In this chapter we will compare the convergence rate of discrete and continuous models. It will show some functions usefull for convergence among model parameters.  "
   ]
  },
  {
   "cell_type": "code",
   "execution_count": null,
   "metadata": {
    "collapsed": true,
    "deletable": true,
    "editable": true
   },
   "outputs": [],
   "source": [
    "import numpy as np\n",
    "import matplotlib.pyplot as plt\n",
    "import hmms\n",
    "\n",
    "%matplotlib inline"
   ]
  },
  {
   "cell_type": "markdown",
   "metadata": {
    "deletable": true,
    "editable": true
   },
   "source": [
    "We will start by defining the continuous time model. For that, who have read the previous section, it will be the familiar."
   ]
  },
  {
   "cell_type": "code",
   "execution_count": null,
   "metadata": {
    "collapsed": false,
    "deletable": true,
    "editable": true
   },
   "outputs": [],
   "source": [
    "Q = np.array( [[-0.375,0.125,0.25],[0.25,-0.5,0.25],[0.25,0.125,-0.375]] )\n",
    "B = np.array( [[0.8,0.05,0.15],[0.05,0.9,0.05],[0.2,0.05,0.75]] )\n",
    "Pi = np.array( [0.6,0,0.4] )\n",
    "\n",
    "chmm = hmms.CtHMM( Q,B,Pi )\n",
    "hmms.print_parameters( chmm )"
   ]
  },
  {
   "cell_type": "markdown",
   "metadata": {
    "deletable": true,
    "editable": true
   },
   "source": [
    "We can simply create discrete model with equivalent parameters, using function *get_dthmm_params*.  \n",
    "By default, it will create the model with transition probabilities equal to one time unit probability transition in continuous model. You can pass the optional parameter for different time steps.\n"
   ]
  },
  {
   "cell_type": "code",
   "execution_count": null,
   "metadata": {
    "collapsed": false,
    "deletable": true,
    "editable": true
   },
   "outputs": [],
   "source": [
    "dhmm = hmms.DtHMM( *chmm.get_dthmm_params() )\n",
    "hmms.print_parameters( dhmm )"
   ]
  },
  {
   "cell_type": "markdown",
   "metadata": {
    "deletable": true,
    "editable": true
   },
   "source": [
    "We can let the disrete model to generate the data sufficient for both models by passing the *times* parameter as *True*."
   ]
  },
  {
   "cell_type": "code",
   "execution_count": null,
   "metadata": {
    "collapsed": false,
    "deletable": true,
    "editable": true
   },
   "outputs": [],
   "source": [
    "t,_,e = dhmm.generate_data( (50,50), times=True )   \n",
    "# The free space in the return triple is for the state sequences, we do not need them for the training "
   ]
  },
  {
   "cell_type": "markdown",
   "metadata": {
    "deletable": true,
    "editable": true
   },
   "source": [
    "We can compare the estimation of the data, using both of the model. (They should be the same.)"
   ]
  },
  {
   "cell_type": "code",
   "execution_count": null,
   "metadata": {
    "collapsed": false,
    "deletable": true,
    "editable": true
   },
   "outputs": [],
   "source": [
    "creal = chmm.data_estimate(t,e)\n",
    "dreal = dhmm.data_estimate(e)\n",
    "print(\"Data estimation by continuous model:\", creal)\n",
    "print(\"Data estimation by discrete model:  \", dreal)"
   ]
  },
  {
   "cell_type": "markdown",
   "metadata": {
    "deletable": true,
    "editable": true
   },
   "source": [
    "Now we will create two equivalent random models. "
   ]
  },
  {
   "cell_type": "code",
   "execution_count": null,
   "metadata": {
    "collapsed": false,
    "deletable": true,
    "editable": true
   },
   "outputs": [],
   "source": [
    "ct = hmms.CtHMM.random(3,3)\n",
    "dt = hmms.DtHMM( *ct.get_dthmm_params() )\n",
    "    \n",
    "hmms.print_parameters( ct )\n",
    "hmms.print_parameters( dt )"
   ]
  },
  {
   "cell_type": "markdown",
   "metadata": {
    "deletable": true,
    "editable": true
   },
   "source": [
    "We will train them at our dataset. (It can take a while.)"
   ]
  },
  {
   "cell_type": "code",
   "execution_count": null,
   "metadata": {
    "collapsed": false,
    "deletable": true,
    "editable": true
   },
   "outputs": [],
   "source": [
    "iter_num = 50\n",
    "outd = dt.baum_welch( e,   iter_num, est=True )\n",
    "outc = ct.baum_welch( t,e, iter_num, est=True )\n",
    "outd,outc"
   ]
  },
  {
   "cell_type": "markdown",
   "metadata": {
    "collapsed": false,
    "deletable": true,
    "editable": true
   },
   "source": [
    "We can plot and compare both convergence rates. From the essence of models, the continuous model will probably  converge a bit slower, but finally will reach the similar value."
   ]
  },
  {
   "cell_type": "code",
   "execution_count": null,
   "metadata": {
    "collapsed": false,
    "deletable": true,
    "editable": true
   },
   "outputs": [],
   "source": [
    "plt.plot( outd[1:] / dreal  )\n",
    "plt.plot( outc[1:] / dreal, color=\"red\"  )\n",
    "#plt.savefig('my_plot.svg')  #Optional save the figure\n",
    "plt.show()"
   ]
  },
  {
   "cell_type": "markdown",
   "metadata": {
    "deletable": true,
    "editable": true
   },
   "source": [
    "<a id='dataset'></a>\n",
    "## Part 4: Advance Work with Datasets"
   ]
  },
  {
   "cell_type": "code",
   "execution_count": null,
   "metadata": {
    "collapsed": true,
    "deletable": true,
    "editable": true
   },
   "outputs": [],
   "source": [
    "import numpy as np\n",
    "import matplotlib.pyplot as plt\n",
    "import hmms\n",
    "\n",
    "%matplotlib inline"
   ]
  },
  {
   "cell_type": "markdown",
   "metadata": {
    "collapsed": false,
    "deletable": true,
    "editable": true
   },
   "source": [
    "### Various Length of Training Vectors"
   ]
  },
  {
   "cell_type": "markdown",
   "metadata": {
    "deletable": true,
    "editable": true
   },
   "source": [
    "There are two supported data-structures, that you can pass toward training:"
   ]
  },
  {
   "cell_type": "markdown",
   "metadata": {
    "deletable": true,
    "editable": true
   },
   "source": [
    "#### 1. The Numpy Matrix\n",
    "The two dimensional array, where the rows consist of training sequences.  \n",
    "Though, this way is restricted in the way that all the vectors need to have the same size. "
   ]
  },
  {
   "cell_type": "code",
   "execution_count": null,
   "metadata": {
    "collapsed": true,
    "deletable": true,
    "editable": true
   },
   "outputs": [],
   "source": [
    "data_n = np.array(  [[0, 0, 0, 1, 1, 1, 1, 1, 1, 1],\n",
    "                     [0, 0, 0, 0, 1, 1, 1, 0, 1, 0],\n",
    "                     [2, 0, 1, 0, 0, 0, 0, 0, 0, 0]] )"
   ]
  },
  {
   "cell_type": "code",
   "execution_count": null,
   "metadata": {
    "collapsed": false,
    "deletable": true,
    "editable": true
   },
   "outputs": [],
   "source": [
    "dhmm_r = hmms.DtHMM.random( 2,3 )\n",
    "graph_n = dhmm_r.baum_welch( data_n, 10, est=True )\n",
    "np.exp( dhmm_r.data_estimate(data_n) )"
   ]
  },
  {
   "cell_type": "markdown",
   "metadata": {
    "deletable": true,
    "editable": true
   },
   "source": [
    "#### 2. The List of Numpy Vectors\n",
    "The standard Python list, consisting of Numpy vectors.\n",
    "Every vector can have different length."
   ]
  },
  {
   "cell_type": "code",
   "execution_count": null,
   "metadata": {
    "collapsed": true,
    "deletable": true,
    "editable": true
   },
   "outputs": [],
   "source": [
    "data_l = [ np.array( [0, 0, 0, 0, 1, 1, 1, 1, 1, 1, 1, 1] ) ,\n",
    "           np.array( [0, 1, 0, 0, 1, 0, 1 ] ),\n",
    "           np.array( [2, 0, 1, 0, 0, 0, 0, 0, 0, 0] ) ]"
   ]
  },
  {
   "cell_type": "code",
   "execution_count": null,
   "metadata": {
    "collapsed": false,
    "deletable": true,
    "editable": true
   },
   "outputs": [],
   "source": [
    "dhmm_r = hmms.DtHMM.random( 2,3 )\n",
    "graph_l = dhmm_r.baum_welch( data_l, 10, est=True )\n",
    "np.exp( dhmm_r.data_estimate(data_l) )"
   ]
  },
  {
   "cell_type": "code",
   "execution_count": null,
   "metadata": {
    "collapsed": false,
    "deletable": true,
    "editable": true
   },
   "outputs": [],
   "source": [
    "# you can plot the graphs, just for fun.\n",
    "plt.plot( graph_n, color='red' )\n",
    "plt.plot( graph_l )"
   ]
  },
  {
   "cell_type": "markdown",
   "metadata": {
    "deletable": true,
    "editable": true
   },
   "source": [
    "#### Continuous-Time HMM\n",
    "The work with datasets in CtHMM is analogous."
   ]
  },
  {
   "cell_type": "code",
   "execution_count": null,
   "metadata": {
    "collapsed": false,
    "deletable": true,
    "editable": true
   },
   "outputs": [],
   "source": [
    "data_n = np.array(  [[0, 0, 0, 1],\n",
    "                     [0, 2, 0, 0],\n",
    "                     [2, 0, 1, 0] ] )\n",
    "time_n = np.array(  [[0, 1, 3, 4],\n",
    "                     [0, 2, 3, 5],\n",
    "                     [0, 2, 4, 6] ] )\n",
    "\n",
    "chmm_r = hmms.CtHMM.random( 2,3 )\n",
    "graph_n = chmm_r.baum_welch( time_n, data_n, 10, est=True ) \n",
    "np.exp( chmm_r.data_estimate(time_n, data_n) )"
   ]
  },
  {
   "cell_type": "code",
   "execution_count": null,
   "metadata": {
    "collapsed": false,
    "deletable": true,
    "editable": true
   },
   "outputs": [],
   "source": [
    "data_l = [ np.array( [0, 0, 2, 0 ] ) ,\n",
    "           np.array( [0, 1, 0, 0, 1 ] ),\n",
    "           np.array( [2, 0, 1 ] ) ]\n",
    "time_l = [ np.array( [0, 1, 2, 4 ] ) ,\n",
    "           np.array( [0, 1, 3, 5, 6 ] ),\n",
    "           np.array( [0, 2, 3 ] ) ]\n",
    "\n",
    "chmm_r = hmms.CtHMM.random( 2,3 )\n",
    "graph_n = chmm_r.baum_welch( time_l, data_l, 10, est=True ) \n",
    "np.exp( chmm_r.data_estimate(time_l, data_l) )"
   ]
  },
  {
   "cell_type": "markdown",
   "metadata": {
    "deletable": true,
    "editable": true
   },
   "source": [
    "### Time Parameters in Floats"
   ]
  },
  {
   "cell_type": "markdown",
   "metadata": {
    "deletable": true,
    "editable": true
   },
   "source": [
    "The time parameters are supported as the **integers** or **floats**.\n",
    "However both datatypes are allowed, it is strongly *adviced* to *use* integers or floats with *integral distance*\n",
    "(be carefull about float operation unprecision here.)  \n",
    "The *non-integral* time intervals among two neigbouring observation are *computationaly costly*, as it doesn't allow to compute matrix power and more complex operations are needed.  \n",
    "Later are showed two examples with the float data and possible *tricks* how to make computation *faster*."
   ]
  },
  {
   "cell_type": "markdown",
   "metadata": {
    "deletable": true,
    "editable": true
   },
   "source": [
    "#### Example one:  Change intervals length to integer"
   ]
  },
  {
   "cell_type": "code",
   "execution_count": null,
   "metadata": {
    "collapsed": false,
    "deletable": true,
    "editable": true
   },
   "outputs": [],
   "source": [
    "data = np.array(  [[0, 0, 0, 1],\n",
    "                   [0, 2, 0, 0],\n",
    "                   [2, 0, 1, 0] ] )\n",
    "time = np.array(  [[0, 1.5, 3.4, 4.7],\n",
    "                   [0, 2.6, 5.7, 8.9],\n",
    "                   [0, 2.2, 4.1, 9.8] ] )"
   ]
  },
  {
   "cell_type": "markdown",
   "metadata": {
    "deletable": true,
    "editable": true
   },
   "source": [
    "Use data as float"
   ]
  },
  {
   "cell_type": "code",
   "execution_count": null,
   "metadata": {
    "collapsed": false,
    "deletable": true,
    "editable": true
   },
   "outputs": [],
   "source": [
    "chmm_r = hmms.CtHMM.random( 2,3 )\n",
    "graph_f = chmm_r.baum_welch( time, data, 10, est=True ) \n",
    "np.exp( chmm_r.data_estimate(time, data) )"
   ]
  },
  {
   "cell_type": "markdown",
   "metadata": {
    "deletable": true,
    "editable": true
   },
   "source": [
    "or use the **trick** so the intervals were integral.\n",
    "Here it is enough to **multiply** it times 10.   \n",
    "**Notice**: Here we are working with randomly generated jump rates matrix, otherwise you would need to reevaluate its values, when multiplying times. "
   ]
  },
  {
   "cell_type": "code",
   "execution_count": null,
   "metadata": {
    "collapsed": false,
    "deletable": true,
    "editable": true
   },
   "outputs": [],
   "source": [
    "chmm_r = hmms.CtHMM.random( 2,3 )\n",
    "graph = chmm_r.baum_welch( time*10, data, 10, est=True ) \n",
    "np.exp( chmm_r.data_estimate( time*10, data ) )"
   ]
  },
  {
   "cell_type": "markdown",
   "metadata": {
    "deletable": true,
    "editable": true
   },
   "source": [
    "#### Example 2: Approximate the time values"
   ]
  },
  {
   "cell_type": "markdown",
   "metadata": {
    "deletable": true,
    "editable": true
   },
   "source": [
    "Sometimes, depending upon the data, the exact observation time may not be important, so the small approximation can be helpful to get better computational time."
   ]
  },
  {
   "cell_type": "code",
   "execution_count": null,
   "metadata": {
    "collapsed": true,
    "deletable": true,
    "editable": true
   },
   "outputs": [],
   "source": [
    "data = np.array(  [[0, 0, 0, 1],\n",
    "                   [0, 2, 0, 0],\n",
    "                   [2, 0, 1, 0] ] )\n",
    "time = np.array(  [[0, 1.54587435, 3.4435434, 4.74535345],\n",
    "                   [0, 2.64353245, 5.7435435, 8.94353454],\n",
    "                   [0, 2.24353455, 4.1345435, 9.83454354] ] )"
   ]
  },
  {
   "cell_type": "markdown",
   "metadata": {
    "deletable": true,
    "editable": true
   },
   "source": [
    "Use data as float"
   ]
  },
  {
   "cell_type": "code",
   "execution_count": null,
   "metadata": {
    "collapsed": false,
    "deletable": true,
    "editable": true
   },
   "outputs": [],
   "source": [
    "chmm_r = hmms.CtHMM.random( 2,3 )\n",
    "graph_f = chmm_r.baum_welch( time, data, 10, est=True ) \n",
    "np.exp( chmm_r.data_estimate(time, data) )"
   ]
  },
  {
   "cell_type": "markdown",
   "metadata": {
    "deletable": true,
    "editable": true
   },
   "source": [
    "or perform the **trick**. Here multiply by 100 and round to the integers."
   ]
  },
  {
   "cell_type": "code",
   "execution_count": null,
   "metadata": {
    "collapsed": false,
    "deletable": true,
    "editable": true
   },
   "outputs": [],
   "source": [
    "time = np.round( time * 100 )\n",
    "\n",
    "chmm_r = hmms.CtHMM.random( 2,3 )\n",
    "graph = chmm_r.baum_welch( time, data, 10, est=True ) \n",
    "np.exp( chmm_r.data_estimate(time, data) )"
   ]
  },
  {
   "cell_type": "markdown",
   "metadata": {
    "deletable": true,
    "editable": true
   },
   "source": [
    "<a id='dsest'></a>\n",
    "### Datasets Probability Estimations "
   ]
  },
  {
   "cell_type": "markdown",
   "metadata": {
    "deletable": true,
    "editable": true
   },
   "source": [
    "We have showed previously how to compute sequence probability estimations in [The discrete](#dtest) and [continuous](#ctest) model.  \n",
    "Here it is showed, how to make it for whole dataset by using just one command.  \n",
    "(We will show it at continuous time model, the discrete one is analogous, just omit the time sequences.)"
   ]
  },
  {
   "cell_type": "code",
   "execution_count": null,
   "metadata": {
    "collapsed": true,
    "deletable": true,
    "editable": true
   },
   "outputs": [],
   "source": [
    "seq_num= 10   #number of data sequences\n",
    "seq_len= 10   #length of each sequence\n",
    "\n",
    "# Create data and generate model\n",
    "\n",
    "chmm = hmms.CtHMM.random(3,3)\n",
    "t,s,e = chmm.generate_data( (seq_num,seq_len), states=True )"
   ]
  },
  {
   "cell_type": "markdown",
   "metadata": {
    "deletable": true,
    "editable": true
   },
   "source": [
    "#### The Probability of the Time and Emission Sequences\n",
    "We can compute the probability, of the emissions sequence given model and its time sequences."
   ]
  },
  {
   "cell_type": "code",
   "execution_count": null,
   "metadata": {
    "collapsed": false,
    "deletable": true,
    "editable": true
   },
   "outputs": [],
   "source": [
    "np.exp( chmm.data_estimate( t, e ) )"
   ]
  },
  {
   "cell_type": "markdown",
   "metadata": {
    "deletable": true,
    "editable": true
   },
   "source": [
    "#### The Probability of the State, Time and Emission Sequences\n",
    "Similary we can compute the probabilty of the state, time and emission sequences given the model parameters."
   ]
  },
  {
   "cell_type": "code",
   "execution_count": null,
   "metadata": {
    "collapsed": false,
    "deletable": true,
    "editable": true
   },
   "outputs": [],
   "source": [
    "np.exp( chmm.full_data_estimate( s, t, e ) )"
   ]
  },
  {
   "cell_type": "markdown",
   "metadata": {
    "deletable": true,
    "editable": true
   },
   "source": [
    "### Multi Training"
   ]
  },
  {
   "cell_type": "markdown",
   "metadata": {
    "deletable": true,
    "editable": true
   },
   "source": [
    "\n",
    "For more convenient train from various random begnings, you can use *multi_train* function.  \n",
    "It has parameters   \n",
    "method: \n",
    "- 'exp' - [default] Use exponential distribution for random initialization\n",
    "- 'unif' - Use uniform distribution for random initialization  \n",
    "\n",
    "and ret: \n",
    "- 'all' - Return all trained models, sorted by their probability estimation\n",
    "- 'best' - [default] Return only the model with the best probability estimation"
   ]
  },
  {
   "cell_type": "code",
   "execution_count": null,
   "metadata": {
    "collapsed": false,
    "deletable": true,
    "editable": true
   },
   "outputs": [],
   "source": [
    "t,e = chmm.generate_data( (5,10) )\n",
    "hidden_states = 3\n",
    "runs = 10\n",
    "iterations = 50\n",
    "out = hmms.multi_train_ct( hidden_states , t, e, runs, iterations, ret='all', method='exp')\n",
    "out"
   ]
  },
  {
   "cell_type": "markdown",
   "metadata": {
    "collapsed": false,
    "deletable": true,
    "editable": true
   },
   "source": [
    "<hr/>\n",
    "You can play with the models as you like and feel free to share your result with me, if you have made some interesting experiment!"
   ]
  },
  {
   "cell_type": "markdown",
   "metadata": {
    "collapsed": true,
    "deletable": true,
    "editable": true
   },
   "source": [
    "Contact: (lopatovsky@gmail.com)"
   ]
  },
  {
   "cell_type": "markdown",
   "metadata": {
    "deletable": true,
    "editable": true
   },
   "source": [
    "### Experimental features\n",
    "#### Fast Convergence "
   ]
  },
  {
   "cell_type": "code",
   "execution_count": null,
   "metadata": {
    "collapsed": false,
    "deletable": true,
    "editable": true
   },
   "outputs": [],
   "source": [
    "#The experiment is frozen\n",
    "\n",
    "\n",
    "seq_num= 1   #number of data sequences\n",
    "seq_len= 4  #length of each sequence\n",
    "\n",
    "t,e = chmm.generate_data( (seq_num,seq_len) )\n",
    "t,e\n",
    "\n",
    "\n",
    "t = np.array([[ 0,1,3,5,6,7,9,11,12]])\n",
    "e = np.array([[ 0,0,0,1,2,1,0,0,1]])\n"
   ]
  },
  {
   "cell_type": "code",
   "execution_count": null,
   "metadata": {
    "collapsed": false,
    "deletable": true,
    "editable": true
   },
   "outputs": [],
   "source": [
    "ct1 = hmms.CtHMM.random(3,3)\n",
    "ct2 = hmms.CtHMM( *ct1.params )"
   ]
  },
  {
   "cell_type": "code",
   "execution_count": null,
   "metadata": {
    "collapsed": false,
    "deletable": true,
    "editable": true
   },
   "outputs": [],
   "source": [
    "iter_num = 50\n",
    "out1 = ct1.baum_welch( t,e, iter_num, est=True )\n",
    "#out2 = ct2.baum_welch( t,e, iter_num )\n",
    "out1,out2"
   ]
  },
  {
   "cell_type": "code",
   "execution_count": null,
   "metadata": {
    "collapsed": false,
    "deletable": true,
    "editable": true
   },
   "outputs": [],
   "source": [
    "plt.plot( out1[1:] / dreal , color = \"red\" )\n",
    "plt.plot( out2[1:] / dreal  )\n",
    "#plt.savefig('graph.svg')  #Optional save the figure\n",
    "\n",
    "plt.show()"
   ]
  },
  {
   "cell_type": "code",
   "execution_count": null,
   "metadata": {
    "collapsed": false,
    "deletable": true,
    "editable": true
   },
   "outputs": [],
   "source": [
    "hmms.print_parameters(ct1)\n",
    "hmms.print_parameters(ct2)"
   ]
  },
  {
   "cell_type": "markdown",
   "metadata": {
    "collapsed": true,
    "deletable": true,
    "editable": true
   },
   "source": [
    "#### Exponential random generation"
   ]
  },
  {
   "cell_type": "code",
   "execution_count": null,
   "metadata": {
    "collapsed": true,
    "deletable": true,
    "editable": true
   },
   "outputs": [],
   "source": [
    "import numpy as np\n",
    "import matplotlib.pyplot as plt\n",
    "import hmms\n",
    "\n",
    "%matplotlib inline"
   ]
  },
  {
   "cell_type": "code",
   "execution_count": null,
   "metadata": {
    "collapsed": false,
    "deletable": true,
    "editable": true
   },
   "outputs": [],
   "source": [
    "# Q is the matrix of transition rates from state [row] to state [column].\n",
    "Q = np.array( [[-0.375,0.125,0.25],[0.25,-0.5,0.25],[0.25,0.125,-0.375]] )\n",
    "# B is the matrix of probabilities that the state [row] will emmit output variable [column].\n",
    "B = np.array( [[0.8,0.05,0.15],[0.05,0.9,0.05],[0.2,0.05,0.75]] )\n",
    "# Pi is the vector of initial state probabilities.   \n",
    "Pi = np.array( [0.6,0,0.4] )\n",
    "\n",
    "# Create CtHMM by given parameters.\n",
    "chmm = hmms.CtHMM(Q,B,Pi)"
   ]
  },
  {
   "cell_type": "code",
   "execution_count": null,
   "metadata": {
    "collapsed": true,
    "deletable": true,
    "editable": true
   },
   "outputs": [],
   "source": [
    "seq_num= 5   #number of data sequences\n",
    "seq_len= 30  #length of each sequence\n",
    "\n",
    "t,e = chmm.generate_data( (seq_num,seq_len) )"
   ]
  },
  {
   "cell_type": "code",
   "execution_count": null,
   "metadata": {
    "collapsed": false,
    "deletable": true,
    "editable": true
   },
   "outputs": [],
   "source": [
    "chmm_r = hmms.CtHMM.random( 3,3, method='unif' )\n",
    "chmm_re = hmms.CtHMM.random( 3,3, method='exp' )\n",
    "\n",
    "out  =  chmm_r.baum_welch( t,e, 10 )\n",
    "oute = chmm_re.baum_welch( t,e, 10 )\n",
    "\n",
    "\n",
    "#aout =  np.average(out,  axis=0)\n",
    "#aoute = np.average(oute, axis=0)\n"
   ]
  },
  {
   "cell_type": "code",
   "execution_count": null,
   "metadata": {
    "collapsed": false,
    "deletable": true,
    "editable": true
   },
   "outputs": [],
   "source": [
    "out = hmms.multi_train(3, t, e, 10, 200, ret='all', method='exp')"
   ]
  },
  {
   "cell_type": "code",
   "execution_count": null,
   "metadata": {
    "collapsed": false,
    "deletable": true,
    "editable": true
   },
   "outputs": [],
   "source": [
    "aout =  np.average(out,  axis=0)\n",
    "aoute = np.average(oute, axis=0)\n",
    "\n",
    "mout =  np.min(out,  axis=0)\n",
    "moute = np.min(oute, axis=0)\n",
    "\n",
    "\n",
    "real = chmm.data_estimate( t, e )\n",
    "#For better visibility of the graph, we cut first two values.\n",
    "\n",
    "offset = 3\n",
    "\n",
    "#plt.plot(  aout[offset:] / real , color = \"red\" )\n",
    "#plt.plot( aoute[offset:] / real , color = \"blue\" )\n",
    "\n",
    "#plt.plot(  mout[offset:] / real , color = \"orange\" )\n",
    "#plt.plot( moute[offset:] / real , color = \"green\")\n",
    "\n",
    "for line in out:\n",
    "    print( line/real )\n",
    "    plt.plot(  line[offset:] / real )\n",
    "\n",
    "\n",
    "plt.show()"
   ]
  },
  {
   "cell_type": "code",
   "execution_count": null,
   "metadata": {
    "collapsed": false,
    "deletable": true,
    "editable": true
   },
   "outputs": [],
   "source": [
    "real = chmm.data_estimate( t, e )\n",
    "\n",
    "offset = 3\n",
    "\n",
    "print(out)\n",
    "\n",
    "for line in out:\n",
    "    #graph= line[1]\n",
    "    #print( type(line) )\n",
    "    #print( line[1]/real )\n",
    "    plt.plot(  line[1][offset:] / real )\n",
    "\n",
    "\n",
    "\n",
    "\n"
   ]
  },
  {
   "cell_type": "code",
   "execution_count": null,
   "metadata": {
    "collapsed": false,
    "deletable": true,
    "editable": true
   },
   "outputs": [],
   "source": [
    "oute"
   ]
  },
  {
   "cell_type": "markdown",
   "metadata": {
    "collapsed": true,
    "deletable": true,
    "editable": true
   },
   "source": [
    "### Test different length of vectors"
   ]
  },
  {
   "cell_type": "code",
   "execution_count": null,
   "metadata": {
    "collapsed": true,
    "deletable": true,
    "editable": true
   },
   "outputs": [],
   "source": [
    "import numpy as np\n",
    "import matplotlib.pyplot as plt\n",
    "import hmms\n",
    "\n",
    "%matplotlib inline"
   ]
  },
  {
   "cell_type": "code",
   "execution_count": null,
   "metadata": {
    "collapsed": false,
    "deletable": true,
    "editable": true
   },
   "outputs": [],
   "source": [
    "data_l = [ np.array( [0, 0, 0, 0, 1, 1, 1, 1, 1, 1, 1, 1] ) ,\n",
    "         np.array( [0, 1, 0, 0, 1, 0, 1 ] ),\n",
    "         np.array( [2, 0, 1, 0, 0, 0, 0, 0, 0, 0] ) ]\n",
    "\n",
    "data_n = np.array(  [[0, 0, 0, 1, 1, 1, 1, 1, 1, 1],\n",
    "        [0, 0, 0, 2, 2, 2, 1, 0, 1, 0],\n",
    "        [2, 0, 1, 0, 0, 0, 0, 0, 0, 0]] )"
   ]
  },
  {
   "cell_type": "markdown",
   "metadata": {
    "deletable": true,
    "editable": true
   },
   "source": [
    "#### Test Numpy matrix"
   ]
  },
  {
   "cell_type": "code",
   "execution_count": null,
   "metadata": {
    "collapsed": true,
    "deletable": true,
    "editable": true
   },
   "outputs": [],
   "source": [
    "dhmm_r = hmms.DtHMM.random( 2,3 )"
   ]
  },
  {
   "cell_type": "code",
   "execution_count": null,
   "metadata": {
    "collapsed": false,
    "deletable": true,
    "editable": true
   },
   "outputs": [],
   "source": [
    "graph_n = dhmm_r.baum_welch( data_n, 10, est=True ) "
   ]
  },
  {
   "cell_type": "code",
   "execution_count": null,
   "metadata": {
    "collapsed": false,
    "deletable": true,
    "editable": true
   },
   "outputs": [],
   "source": [
    "dhmm_r.maximum_likelihood_estimation(data_n, data_n)"
   ]
  },
  {
   "cell_type": "code",
   "execution_count": null,
   "metadata": {
    "collapsed": false,
    "deletable": true,
    "editable": true
   },
   "outputs": [],
   "source": [
    "np.exp( dhmm_r.data_estimate(data_n) )"
   ]
  },
  {
   "cell_type": "markdown",
   "metadata": {
    "deletable": true,
    "editable": true
   },
   "source": [
    "#### Test List of numpy arrays"
   ]
  },
  {
   "cell_type": "code",
   "execution_count": null,
   "metadata": {
    "collapsed": true,
    "deletable": true,
    "editable": true
   },
   "outputs": [],
   "source": [
    "dhmm_r = hmms.DtHMM.random( 2,3 )"
   ]
  },
  {
   "cell_type": "code",
   "execution_count": null,
   "metadata": {
    "collapsed": false,
    "deletable": true,
    "editable": true
   },
   "outputs": [],
   "source": [
    "graph_l = dhmm_r.baum_welch( data_l, 10, est=True )"
   ]
  },
  {
   "cell_type": "code",
   "execution_count": null,
   "metadata": {
    "collapsed": false,
    "deletable": true,
    "editable": true
   },
   "outputs": [],
   "source": [
    "np.exp( dhmm_r.data_estimate(data_l) )"
   ]
  },
  {
   "cell_type": "code",
   "execution_count": null,
   "metadata": {
    "collapsed": false,
    "deletable": true,
    "editable": true
   },
   "outputs": [],
   "source": [
    "plt.plot( graph_n, color='red' )\n",
    "plt.plot( graph_l )"
   ]
  },
  {
   "cell_type": "markdown",
   "metadata": {
    "deletable": true,
    "editable": true
   },
   "source": [
    "Make the similar for the continuous model "
   ]
  },
  {
   "cell_type": "code",
   "execution_count": null,
   "metadata": {
    "collapsed": true,
    "deletable": true,
    "editable": true
   },
   "outputs": [],
   "source": [
    "data_l = [ np.array( [0, 0, 2, 0 ] ) ,\n",
    "         np.array( [0, 1, 0, 0, 1 ] ),\n",
    "         np.array( [2, 0, 1 ] ) ]\n",
    "\n",
    "data_n = np.array(  [[0, 0, 0, 1],\n",
    "        [0, 2, 0, 0],\n",
    "        [2, 0, 1, 0] ] )\n",
    "\n",
    "time_l = [ np.array( [0, 1, 2, 4 ] ) ,\n",
    "         np.array( [0, 1, 3, 5, 6 ] ),\n",
    "         np.array( [0, 2, 3 ] ) ]\n",
    "\n",
    "time_n = np.array(  [[0, 1, 3, 4],\n",
    "        [0, 2, 3, 5],\n",
    "        [0, 2, 4, 6] ] )"
   ]
  },
  {
   "cell_type": "code",
   "execution_count": null,
   "metadata": {
    "collapsed": true,
    "deletable": true,
    "editable": true
   },
   "outputs": [],
   "source": [
    "chmm_r = hmms.CtHMM.random( 2,3 )"
   ]
  },
  {
   "cell_type": "code",
   "execution_count": null,
   "metadata": {
    "collapsed": false,
    "deletable": true,
    "editable": true
   },
   "outputs": [],
   "source": [
    "graph_n = chmm_r.baum_welch( time_n, data_n, 10, est=True ) "
   ]
  },
  {
   "cell_type": "code",
   "execution_count": null,
   "metadata": {
    "collapsed": false,
    "deletable": true,
    "editable": true
   },
   "outputs": [],
   "source": [
    "np.exp( chmm_r.data_estimate(time_n, data_n) )"
   ]
  },
  {
   "cell_type": "code",
   "execution_count": null,
   "metadata": {
    "collapsed": true,
    "deletable": true,
    "editable": true
   },
   "outputs": [],
   "source": [
    "chmm_r = hmms.CtHMM.random( 2,3 )"
   ]
  },
  {
   "cell_type": "code",
   "execution_count": null,
   "metadata": {
    "collapsed": false,
    "deletable": true,
    "editable": true
   },
   "outputs": [],
   "source": [
    "graph_n = chmm_r.baum_welch( time_l, data_l, 10, est=True ) "
   ]
  },
  {
   "cell_type": "code",
   "execution_count": null,
   "metadata": {
    "collapsed": false,
    "deletable": true,
    "editable": true
   },
   "outputs": [],
   "source": [
    "np.exp( chmm_r.data_estimate(time_l, data_l) )"
   ]
  },
  {
   "cell_type": "markdown",
   "metadata": {
    "collapsed": true,
    "deletable": true,
    "editable": true
   },
   "source": [
    "### Test double times"
   ]
  },
  {
   "cell_type": "code",
   "execution_count": null,
   "metadata": {
    "collapsed": true,
    "deletable": true,
    "editable": true
   },
   "outputs": [],
   "source": [
    "import numpy as np\n",
    "import matplotlib.pyplot as plt\n",
    "import hmms\n",
    "\n",
    "%matplotlib inline"
   ]
  },
  {
   "cell_type": "code",
   "execution_count": null,
   "metadata": {
    "collapsed": true,
    "deletable": true,
    "editable": true
   },
   "outputs": [],
   "source": [
    "data = [ np.array( [0, 0, 2, 0 ] ) ,\n",
    "         np.array( [0, 1, 0, 0, 1 ] ),\n",
    "         np.array( [2, 0, 1 ] ) ]\n",
    "\n",
    "time_i = [ np.array( [0, 1, 2, 4 ] ) ,\n",
    "         np.array( [0, 1, 3, 5, 6 ] ),\n",
    "         np.array( [0, 2, 3 ] ) ]\n",
    "\n",
    "time_f = [ np.array( [0, 1.1, 2.1, 4.1 ] ) ,\n",
    "         np.array( [0, 1.1, 3.1, 5.1, 6.1 ] ),\n",
    "         np.array( [0, 2.1, 3.1 ] ) ]"
   ]
  },
  {
   "cell_type": "code",
   "execution_count": null,
   "metadata": {
    "collapsed": true,
    "deletable": true,
    "editable": true
   },
   "outputs": [],
   "source": [
    "chmm_r = hmms.CtHMM.random( 2,3 )"
   ]
  },
  {
   "cell_type": "code",
   "execution_count": null,
   "metadata": {
    "collapsed": false,
    "deletable": true,
    "editable": true
   },
   "outputs": [],
   "source": [
    "graph_i = chmm_r.baum_welch( time_i, data, 10, est=True ) "
   ]
  },
  {
   "cell_type": "code",
   "execution_count": null,
   "metadata": {
    "collapsed": false,
    "deletable": true,
    "editable": true
   },
   "outputs": [],
   "source": [
    "np.exp( chmm_r.data_estimate(time_i, data) )"
   ]
  },
  {
   "cell_type": "markdown",
   "metadata": {
    "deletable": true,
    "editable": true
   },
   "source": [
    "double"
   ]
  },
  {
   "cell_type": "code",
   "execution_count": null,
   "metadata": {
    "collapsed": true,
    "deletable": true,
    "editable": true
   },
   "outputs": [],
   "source": [
    "chmm_r = hmms.CtHMM.random( 2,3 )"
   ]
  },
  {
   "cell_type": "code",
   "execution_count": null,
   "metadata": {
    "collapsed": false,
    "deletable": true,
    "editable": true
   },
   "outputs": [],
   "source": [
    "graph_f = chmm_r.baum_welch( time_f, data, 10, est=True ) "
   ]
  },
  {
   "cell_type": "code",
   "execution_count": null,
   "metadata": {
    "collapsed": false,
    "deletable": true,
    "editable": true
   },
   "outputs": [],
   "source": [
    "np.exp( chmm_r.data_estimate(time_f, data) )"
   ]
  },
  {
   "cell_type": "code",
   "execution_count": null,
   "metadata": {
    "collapsed": false,
    "deletable": true,
    "editable": true
   },
   "outputs": [],
   "source": [
    "plt.plot( graph_i, color='red' )\n",
    "plt.plot( graph_f )"
   ]
  },
  {
   "cell_type": "markdown",
   "metadata": {
    "collapsed": true,
    "deletable": true,
    "editable": true
   },
   "source": [
    "### Soft & Hard"
   ]
  },
  {
   "cell_type": "code",
   "execution_count": null,
   "metadata": {
    "collapsed": true,
    "deletable": true,
    "editable": true
   },
   "outputs": [],
   "source": [
    "import numpy as np\n",
    "import matplotlib.pyplot as plt\n",
    "import hmms\n",
    "\n",
    "%matplotlib inline"
   ]
  },
  {
   "cell_type": "code",
   "execution_count": null,
   "metadata": {
    "collapsed": false,
    "deletable": true,
    "editable": true
   },
   "outputs": [],
   "source": [
    "Q = np.array( [[-0.375,0.125,0.25],[0.25,-0.5,0.25],[0.25,0.125,-0.375]] )\n",
    "B = np.array( [[0.8,0.05,0.15],[0.05,0.9,0.05],[0.2,0.05,0.75]] )\n",
    "Pi = np.array( [0.6,0,0.4] )\n",
    "\n",
    "chmm = hmms.CtHMM( Q,B,Pi )\n",
    "#chmm = hmms.CtHMM.random(15,15)"
   ]
  },
  {
   "cell_type": "code",
   "execution_count": null,
   "metadata": {
    "collapsed": false,
    "deletable": true,
    "editable": true
   },
   "outputs": [],
   "source": [
    "t,e = chmm.generate_data( (50,10) )"
   ]
  },
  {
   "cell_type": "code",
   "execution_count": null,
   "metadata": {
    "collapsed": false,
    "deletable": true,
    "editable": true,
    "scrolled": false
   },
   "outputs": [],
   "source": [
    "chmm_s = hmms.CtHMM.random( 3,3 )\n",
    "chmm_h = hmms.CtHMM( * chmm_s.params )\n",
    "chmm_c = hmms.CtHMM( * chmm_s.params )\n",
    "\n",
    "print(\"comb\")\n",
    "#graph_comb = chmm_c.baum_welch( t, e, 5, est=True, method=\"hard\" ) \n",
    "#graph_comb = np.append( graph_comb,  chmm_c.baum_welch( t, e, 95, est=True, method=\"soft\" ) )\n",
    "print(\"hard\")\n",
    "graph_hard = chmm_h.baum_welch( t, e, 100, est=True, method=\"hard\" )\n",
    "print(\"soft\")\n",
    "graph_soft = chmm_s.baum_welch( t, e, 100, est=True, method=\"soft\" ) \n",
    "\n"
   ]
  },
  {
   "cell_type": "code",
   "execution_count": null,
   "metadata": {
    "collapsed": false,
    "deletable": true,
    "editable": true
   },
   "outputs": [],
   "source": [
    "real = chmm.data_estimate( t,e )\n",
    "#real = 0\n",
    "#for tt,ee in zip(t,e): \n",
    "#   x,_ = chmm.viterbi( tt, ee )\n",
    "#    real += x\n",
    "\n",
    "#For better visibility of the graph, we cut first two values.\n",
    "plt.plot( graph_soft[1:] / real, color=\"red\"  )\n",
    "plt.plot( graph_hard[1:] / real, color=\"blue\"  )\n",
    "##plt.plot( graph_comb[1:-1] / real, color=\"purple\")\n",
    "plt.rcParams['figure.figsize'] = [20,20]\n",
    "plt.savefig('graph.png')\n",
    "plt.show()"
   ]
  },
  {
   "cell_type": "code",
   "execution_count": null,
   "metadata": {
    "collapsed": false,
    "deletable": true,
    "editable": true
   },
   "outputs": [],
   "source": [
    "print( chmm_h.data_estimate( t,e ) )"
   ]
  },
  {
   "cell_type": "code",
   "execution_count": null,
   "metadata": {
    "collapsed": false,
    "deletable": true,
    "editable": true
   },
   "outputs": [],
   "source": [
    "hmms.print_parameters( chmm )\n",
    "hmms.print_parameters( chmm_s )\n",
    "hmms.print_parameters( chmm_h )"
   ]
  },
  {
   "cell_type": "code",
   "execution_count": null,
   "metadata": {
    "collapsed": false,
    "deletable": true,
    "editable": true
   },
   "outputs": [],
   "source": [
    "chmm_h.check_params() "
   ]
  },
  {
   "cell_type": "markdown",
   "metadata": {
    "deletable": true,
    "editable": true
   },
   "source": [
    "### Int-intervals vs Double-intervals"
   ]
  },
  {
   "cell_type": "code",
   "execution_count": null,
   "metadata": {
    "collapsed": true,
    "deletable": true,
    "editable": true
   },
   "outputs": [],
   "source": [
    "import numpy as np\n",
    "import matplotlib.pyplot as plt\n",
    "import hmms\n",
    "\n",
    "%matplotlib inline"
   ]
  },
  {
   "cell_type": "code",
   "execution_count": null,
   "metadata": {
    "collapsed": true,
    "deletable": true,
    "editable": true
   },
   "outputs": [],
   "source": [
    "Q = np.array( [[-0.375,0.125,0.25],[0.25,-0.5,0.25],[0.25,0.125,-0.375]] )\n",
    "B = np.array( [[0.8,0.05,0.15],[0.05,0.9,0.05],[0.2,0.05,0.75]] )\n",
    "Pi = np.array( [0.6,0,0.4] )\n",
    "\n",
    "chmm = hmms.CtHMM( Q,B,Pi )"
   ]
  },
  {
   "cell_type": "code",
   "execution_count": null,
   "metadata": {
    "collapsed": true,
    "deletable": true,
    "editable": true
   },
   "outputs": [],
   "source": [
    "t,e = chmm.generate_data( (50,50) )"
   ]
  },
  {
   "cell_type": "code",
   "execution_count": null,
   "metadata": {
    "collapsed": false,
    "deletable": true,
    "editable": true
   },
   "outputs": [],
   "source": [
    "chmm_i = hmms.CtHMM.random( 3,3 )\n",
    "chmm_d = hmms.CtHMM( * chmm_i.params )\n",
    "\n",
    "import time\n",
    "\n",
    "time0 = time.time()\n",
    "graph_i = chmm_i.baum_welch( t, e, 100, est=True, method=\"soft\", fast=True )\n",
    "time1 = time.time()\n",
    "graph_d = chmm_d.baum_welch( t, e, 100, est=True, method=\"soft\", fast=False ) \n",
    "time2 = time.time()\n",
    "print(time2-time1)\n",
    "print(time1-time0)\n",
    "chmm_i.print_ts()\n",
    "chmm_d.print_ts()"
   ]
  },
  {
   "cell_type": "code",
   "execution_count": null,
   "metadata": {
    "collapsed": false,
    "deletable": true,
    "editable": true
   },
   "outputs": [],
   "source": [
    "real = chmm.data_estimate( t,e )\n",
    "plt.plot( graph_i[1:] / real, color=\"red\"  )\n",
    "plt.plot( graph_d[1:] / real, color=\"blue\"  )\n",
    "\n",
    "hmms.print_parameters( chmm_i )\n",
    "hmms.print_parameters( chmm_d )\n",
    "\n",
    "plt.rcParams['figure.figsize'] = [25,25]\n",
    "plt.show()"
   ]
  },
  {
   "cell_type": "code",
   "execution_count": null,
   "metadata": {
    "collapsed": false,
    "deletable": true,
    "editable": true
   },
   "outputs": [],
   "source": [
    "chmm_i.q[0,0]"
   ]
  },
  {
   "cell_type": "code",
   "execution_count": null,
   "metadata": {
    "collapsed": false,
    "deletable": true,
    "editable": true
   },
   "outputs": [],
   "source": [
    "chmm_d.q[0,0]"
   ]
  },
  {
   "cell_type": "markdown",
   "metadata": {
    "deletable": true,
    "editable": true
   },
   "source": [
    "#### zeros"
   ]
  },
  {
   "cell_type": "code",
   "execution_count": null,
   "metadata": {
    "collapsed": true,
    "deletable": true,
    "editable": true
   },
   "outputs": [],
   "source": [
    "import numpy as np\n",
    "import matplotlib.pyplot as plt\n",
    "import hmms\n",
    "\n",
    "%matplotlib inline"
   ]
  },
  {
   "cell_type": "code",
   "execution_count": null,
   "metadata": {
    "collapsed": false,
    "deletable": true,
    "editable": true
   },
   "outputs": [],
   "source": [
    "\n",
    "\n",
    "# Q is the matrix of transition rates from state [row] to state [column].\n",
    "Q = np.array( [[-0.375,0.125,0.25],[0.25,-0.5,0.25],[0.25,0.125,-0.375]] )\n",
    "# B is the matrix of probabilities that the state [row] will emmit output variable [column].\n",
    "B = np.array( [[0.8,0.05,0.15],[0.05,0.9,0.05],[0.2,0.05,0.75]] )\n",
    "# Pi is the vector of initial state probabilities.   \n",
    "Pi = np.array( [0.6,0,0.4] )\n",
    "\n",
    "# Create CtHMM by given parameters.\n",
    "chmm = hmms.CtHMM(Q,B,Pi)\n",
    "\n",
    "\n",
    "t,e = chmm.generate_data( (10,50) )\n",
    "\n",
    "\n",
    "\n",
    "# Q is the matrix of transition rates from state [row] to state [column].\n",
    "Q = np.array( [[-0.125,0.125,0.0],[0.45,-0.45,0.0],[0.25,0.125,-0.375]] )\n",
    "# B is the matrix of probabilities that the state [row] will emmit output variable [column].\n",
    "B = np.array( [[0.8,0.05,0.15],[0.05,0.9,0.05],[0.2,0.05,0.75]] )\n",
    "# Pi is the vector of initial state probabilities.   \n",
    "Pi = np.array( [0.6,0.4,0.0] )\n",
    "\n",
    "# Create CtHMM by given parameters.\n",
    "chmm_i = hmms.CtHMM(Q,B,Pi)\n"
   ]
  },
  {
   "cell_type": "code",
   "execution_count": null,
   "metadata": {
    "collapsed": false,
    "deletable": true,
    "editable": true
   },
   "outputs": [],
   "source": [
    "graph_i = chmm_i.baum_welch( t, e, 100, est=True, method=\"soft\", fast=True )"
   ]
  },
  {
   "cell_type": "code",
   "execution_count": null,
   "metadata": {
    "collapsed": false,
    "deletable": true,
    "editable": true
   },
   "outputs": [],
   "source": [
    "hmms.print_parameters( chmm_i )"
   ]
  },
  {
   "cell_type": "markdown",
   "metadata": {
    "collapsed": true,
    "deletable": true,
    "editable": true
   },
   "source": [
    "#### random tests"
   ]
  },
  {
   "cell_type": "code",
   "execution_count": null,
   "metadata": {
    "collapsed": true,
    "deletable": true,
    "editable": true
   },
   "outputs": [],
   "source": [
    "import numpy as np\n",
    "import matplotlib.pyplot as plt\n",
    "import hmms\n",
    "\n",
    "%matplotlib inline"
   ]
  },
  {
   "cell_type": "code",
   "execution_count": null,
   "metadata": {
    "collapsed": false,
    "deletable": true,
    "editable": true
   },
   "outputs": [],
   "source": [
    "Q = np.array( [[-0.375,0.125,0.25],[0.25,-0.5,0.25],[0.25,0.125,-0.375]] )\n",
    "B = np.array( [[0.8,0.05,0.15],[0.05,0.9,0.05],[0.2,0.05,0.75]] )\n",
    "Pi = np.array( [0.6,0,0.4] )\n",
    "\n",
    "chmm = hmms.CtHMM( Q,B,Pi )\n",
    "t,e = chmm.generate_data( (50,50) )"
   ]
  },
  {
   "cell_type": "code",
   "execution_count": null,
   "metadata": {
    "collapsed": false,
    "deletable": true,
    "editable": true
   },
   "outputs": [],
   "source": [
    "chmm_i = hmms.CtHMM.random( 3,3 )\n",
    "chmm_d = hmms.CtHMM( * chmm_i.params )\n",
    "\n",
    "graph_i = chmm_i.baum_welch( t, e, 100, est=True, method=\"soft\", fast=True )\n"
   ]
  },
  {
   "cell_type": "code",
   "execution_count": null,
   "metadata": {
    "collapsed": false,
    "deletable": true,
    "editable": true
   },
   "outputs": [],
   "source": [
    "real = chmm.data_estimate( t,e )\n",
    "plt.plot( graph_i[1:]/real , color=\"red\"  )\n",
    "\n",
    "#hmms.print_parameters( chmm_i )\n",
    "\n",
    "#plt.rcParams['figure.figsize'] = [25,25]\n",
    "plt.show()"
   ]
  },
  {
   "cell_type": "code",
   "execution_count": null,
   "metadata": {
    "collapsed": false,
    "deletable": true,
    "editable": true
   },
   "outputs": [],
   "source": [
    "real = chmm.data_estimate( t,e )\n",
    "plt.plot(  real-graph_i[1:]  , color=\"red\"  )\n",
    "\n",
    "#hmms.print_parameters( chmm_i )\n",
    "\n",
    "#plt.rcParams['figure.figsize'] = [25,25]\n",
    "plt.show()"
   ]
  },
  {
   "cell_type": "code",
   "execution_count": null,
   "metadata": {
    "collapsed": false,
    "deletable": true,
    "editable": true
   },
   "outputs": [],
   "source": [
    "real = chmm.data_estimate( t,e )\n",
    "plt.plot(  np.exp(graph_i[1:] - real) , color=\"red\"  )\n",
    "print(np.exp(graph_i[1:] - real))\n",
    "#hmms.print_parameters( chmm_i )\n",
    "\n",
    "#plt.rcParams['figure.figsize'] = [25,25]\n",
    "plt.show()"
   ]
  },
  {
   "cell_type": "code",
   "execution_count": null,
   "metadata": {
    "collapsed": false,
    "deletable": true,
    "editable": true
   },
   "outputs": [],
   "source": [
    "real = chmm.data_estimate( t,e )\n",
    "\n",
    "\n",
    "fig = plt.figure()\n",
    "ax = fig.add_subplot(111)\n",
    "ax.set_yscale(\"log\", nonposx='clip')\n",
    "\n",
    "plt.plot(  np.exp(graph_i[1:] - real) , color=\"red\"  )\n",
    "\n",
    "#plt.rcParams['figure.figsize'] = [25,25]\n",
    "plt.show()"
   ]
  },
  {
   "cell_type": "markdown",
   "metadata": {
    "collapsed": true,
    "deletable": true,
    "editable": true
   },
   "source": [
    "TODO - ukazka prace zo sparse matrices. "
   ]
  },
  {
   "cell_type": "code",
   "execution_count": null,
   "metadata": {
    "collapsed": true,
    "deletable": true,
    "editable": true
   },
   "outputs": [],
   "source": []
  }
 ],
 "metadata": {
  "kernelspec": {
   "display_name": "Python 3",
   "language": "python",
   "name": "python3"
  },
  "language_info": {
   "codemirror_mode": {
    "name": "ipython",
    "version": 3
   },
   "file_extension": ".py",
   "mimetype": "text/x-python",
   "name": "python",
   "nbconvert_exporter": "python",
   "pygments_lexer": "ipython3",
   "version": "3.5.2"
  }
 },
 "nbformat": 4,
 "nbformat_minor": 2
}
