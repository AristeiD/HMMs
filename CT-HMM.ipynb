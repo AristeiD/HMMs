{
 "cells": [
  {
   "cell_type": "markdown",
   "metadata": {
    "deletable": true,
    "editable": true
   },
   "source": [
    "HMMs Library \n",
    "============================\n",
    "#### (Discrete & Continuous hidden markov models )\n",
    "\n",
    "The document contain the tutorial ( usage explained by example ) for the hidden markov models library [link to pip].\n",
    "* [The **first** part](#dthmm) will cover disrete-time hidden markov model (**DtHMM**)\n",
    "* [The **second** part](#cthmm) will be dedicated to continuous-time hidden markov model (**CtHMM**)\n",
    "* [The **third** part](#conv) will compare the convergences of **both** models\n",
    "\n",
    "The all of the part are independent, so you do not need to run all notebook, if you are interested only in one of them. \n",
    "\n",
    "\n",
    "If you are not familiar with the hidden markov model theory, We recommend ...\n",
    "%todo: refer to DP theory, (simple guide to cthmm?), github, sources\n"
   ]
  },
  {
   "cell_type": "markdown",
   "metadata": {
    "deletable": true,
    "editable": true
   },
   "source": [
    "<a id='dthmm'></a>\n",
    "Part 1: Discrete Time Hidden Markov Model\n",
    "---------------------------------------------------"
   ]
  },
  {
   "cell_type": "code",
   "execution_count": null,
   "metadata": {
    "collapsed": false,
    "deletable": true,
    "editable": true
   },
   "outputs": [],
   "source": [
    "import numpy as np\n",
    "import matplotlib.pyplot as plt\n",
    "import hmms\n",
    "\n",
    "%matplotlib inline"
   ]
  },
  {
   "cell_type": "markdown",
   "metadata": {
    "deletable": true,
    "editable": true
   },
   "source": [
    "### Construct DtHMM \n",
    "You can directly initialize the DtHMM by passing the **model parameters**.  \n",
    "\n",
    "We will create simple DtHMM of two hidden states and three output variables."
   ]
  },
  {
   "cell_type": "code",
   "execution_count": null,
   "metadata": {
    "collapsed": false,
    "deletable": true,
    "editable": true
   },
   "outputs": [],
   "source": [
    "# A is the matrix of transition probabilities from state [row] to state [column].\n",
    "A = np.array([[0.9,0.1],[0.4,0.6]])\n",
    "# B is the matrix of probabilities that the state [row] will emmit output variable [column].\n",
    "B = np.array([[0.9,0.08,0.02],[0.2,0.5,0.3]])\n",
    "# Pi is the vector of initial state probabilities.   \n",
    "Pi = np.array( [0.8,0.2] )\n",
    "\n",
    "# Create DtHMM by given parameters.\n",
    "dhmm = hmms.DtHMM(A,B,Pi)"
   ]
  },
  {
   "cell_type": "markdown",
   "metadata": {
    "deletable": true,
    "editable": true
   },
   "source": [
    "Or you can initialize it by **random parameters**. Passing the number of hidden states and output variables. "
   ]
  },
  {
   "cell_type": "code",
   "execution_count": null,
   "metadata": {
    "collapsed": false,
    "deletable": true,
    "editable": true
   },
   "outputs": [],
   "source": [
    "dhmm_random = hmms.DtHMM.random(2,3)"
   ]
  },
  {
   "cell_type": "markdown",
   "metadata": {
    "deletable": true,
    "editable": true
   },
   "source": [
    "### Save & Read from File\n",
    "Once you have created the model you can **save** its parameters in file simply by calling *save_params* method.  "
   ]
  },
  {
   "cell_type": "code",
   "execution_count": null,
   "metadata": {
    "collapsed": false,
    "deletable": true,
    "editable": true
   },
   "outputs": [],
   "source": [
    "dhmm.save_params(\"Models/hello_dthmm\") "
   ]
  },
  {
   "cell_type": "markdown",
   "metadata": {
    "deletable": true,
    "editable": true
   },
   "source": [
    "The method stored the parameters in *.npz* format.  \n",
    "\n",
    "The saved file can be later used to **read** parametrs for model initialization."
   ]
  },
  {
   "cell_type": "code",
   "execution_count": null,
   "metadata": {
    "collapsed": false,
    "deletable": true,
    "editable": true
   },
   "outputs": [],
   "source": [
    "dhmm_from_file = hmms.DtHMM.from_file( \"Models/hello_dthmm.npz\" )"
   ]
  },
  {
   "cell_type": "markdown",
   "metadata": {
    "deletable": true,
    "editable": true
   },
   "source": [
    "### Set & Get Parameters\n",
    "Later you can always **set** parameters with triple of methods corresponding to the constructors."
   ]
  },
  {
   "cell_type": "code",
   "execution_count": null,
   "metadata": {
    "collapsed": false,
    "deletable": true,
    "editable": true,
    "scrolled": true
   },
   "outputs": [],
   "source": [
    "dhmm.set_params(A,B,Pi)\n",
    "dhmm.set_params_random(2,3)\n",
    "dhmm.set_params_from_file( \"Models/hello_dthmm.npz\" )"
   ]
  },
  {
   "cell_type": "markdown",
   "metadata": {
    "deletable": true,
    "editable": true
   },
   "source": [
    "You can **get** parameters by calling them separately,"
   ]
  },
  {
   "cell_type": "code",
   "execution_count": null,
   "metadata": {
    "collapsed": false,
    "deletable": true,
    "editable": true
   },
   "outputs": [],
   "source": [
    "dhmm.a, dhmm.b, dhmm.pi"
   ]
  },
  {
   "cell_type": "markdown",
   "metadata": {
    "deletable": true,
    "editable": true
   },
   "source": [
    "or **get** them **all** together as the triple."
   ]
  },
  {
   "cell_type": "code",
   "execution_count": null,
   "metadata": {
    "collapsed": false,
    "deletable": true,
    "editable": true
   },
   "outputs": [],
   "source": [
    "(A,B,Pi) = dhmm.params"
   ]
  },
  {
   "cell_type": "markdown",
   "metadata": {
    "deletable": true,
    "editable": true
   },
   "source": [
    "### Generate Random State and Emission Sequence\n",
    " Now we can use our model to generate state and emission sequence.   \n",
    " The model will randomly choose which transition or emission will happen, taking into consideration the parameters we have previously defined.\n"
   ]
  },
  {
   "cell_type": "code",
   "execution_count": null,
   "metadata": {
    "collapsed": false,
    "deletable": true,
    "editable": true
   },
   "outputs": [],
   "source": [
    "seq_len = 20\n",
    "s_seq, e_seq = dhmm.generate( seq_len )\n",
    "\n",
    "#resize plot\n",
    "plt.rcParams['figure.figsize'] = [20,20]\n",
    "\n",
    "hmms.plot_hmm( s_seq, e_seq )"
   ]
  },
  {
   "cell_type": "markdown",
   "metadata": {
    "collapsed": false,
    "deletable": true,
    "editable": true
   },
   "source": [
    "### Find Most Likely State Sequence\n",
    "If we have the model parameters and emission sequence, we can find the most probable state sequence that would generate it. Notice, that it can be different, than the actual sequence that has generated the emissions.  \n",
    "We will use Viterbi algorithm for the calculation.\n"
   ]
  },
  {
   "cell_type": "code",
   "execution_count": null,
   "metadata": {
    "collapsed": false,
    "deletable": true,
    "editable": true
   },
   "outputs": [],
   "source": [
    "( log_prob, s_seq ) =  dhmm.viterbi( e_seq )\n",
    "# Let's print the most likely state sequence, it can be same or differ from the sequence above.\n",
    "hmms.plot_hmm( s_seq, e_seq )"
   ]
  },
  {
   "cell_type": "markdown",
   "metadata": {
    "collapsed": true,
    "deletable": true,
    "editable": true
   },
   "source": [
    "The *log_prob* parameter store the probability of the sequence.  \n",
    "All the probabilities in the library are stored in the logarithm of their actual value. As the number of possible sequences grows exponentialy by it length, it could easily lead to float underflow.  \n",
    "You can easily transform it to the normal scale value applying *exp* function. "
   ]
  },
  {
   "cell_type": "code",
   "execution_count": null,
   "metadata": {
    "collapsed": false,
    "deletable": true,
    "editable": true
   },
   "outputs": [],
   "source": [
    "np.exp( log_prob )"
   ]
  },
  {
   "cell_type": "markdown",
   "metadata": {
    "deletable": true,
    "editable": true
   },
   "source": [
    "### The Probability of the Emission Sequence\n",
    "We can compute the probability of the model generating the emission sequence."
   ]
  },
  {
   "cell_type": "code",
   "execution_count": null,
   "metadata": {
    "collapsed": false,
    "deletable": true,
    "editable": true
   },
   "outputs": [],
   "source": [
    "np.exp( dhmm.emission_estimate( e_seq ) )"
   ]
  },
  {
   "cell_type": "markdown",
   "metadata": {
    "deletable": true,
    "editable": true
   },
   "source": [
    "### The Probability of the State and Emission Sequences "
   ]
  },
  {
   "cell_type": "markdown",
   "metadata": {
    "deletable": true,
    "editable": true
   },
   "source": [
    "Similary we can compute the probabilty of the state and emission sequences given the model parameters."
   ]
  },
  {
   "cell_type": "code",
   "execution_count": null,
   "metadata": {
    "collapsed": false,
    "deletable": true,
    "editable": true
   },
   "outputs": [],
   "source": [
    "np.exp( dhmm.estimate( s_seq, e_seq ) )"
   ]
  },
  {
   "cell_type": "markdown",
   "metadata": {
    "deletable": true,
    "editable": true
   },
   "source": [
    "### Generate Artificial Dataset\n",
    "\n",
    "You can easily generate many sequences in once by using the generate_data function.\n",
    "The generated emission sequences are in the form that is suitable for training of parameters. You can switch times=True, if you want to generate also the corresponding equidistant time sequences."
   ]
  },
  {
   "cell_type": "code",
   "execution_count": null,
   "metadata": {
    "collapsed": false,
    "deletable": true,
    "editable": true
   },
   "outputs": [],
   "source": [
    "seq_num= 3   #number of data sequences\n",
    "seq_len= 10  #length of each sequence\n",
    "\n",
    "dhmm.generate_data( (seq_num,seq_len) )"
   ]
  },
  {
   "cell_type": "markdown",
   "metadata": {
    "deletable": true,
    "editable": true
   },
   "source": [
    "### Parameters Estimation - Baum Welch Algorithm\n",
    "We usually do not know the real parameters of the model. But, if we have sufficient data, we can estimate them by EM algorithm.  \n",
    "Here we will have several output variables (emissions) sequences and we will show, how to use them to train the model parameters\n",
    "\n",
    "Let's start by creating some artifficial data. We will use the previously defined *dhmm* model for it.\n"
   ]
  },
  {
   "cell_type": "code",
   "execution_count": null,
   "metadata": {
    "collapsed": false,
    "deletable": true,
    "editable": true
   },
   "outputs": [],
   "source": [
    "seq_num = 5\n",
    "seq_len = 50\n",
    "data = np.empty( (seq_num, seq_len), dtype=int )\n",
    "\n",
    "_ , data = dhmm.generate_data( (seq_num,seq_len) )\n",
    "\n",
    "data"
   ]
  },
  {
   "cell_type": "markdown",
   "metadata": {
    "deletable": true,
    "editable": true
   },
   "source": [
    "Now, we will create the model with random parameters, that will be eventually trained to much the data."
   ]
  },
  {
   "cell_type": "code",
   "execution_count": null,
   "metadata": {
    "collapsed": false,
    "deletable": true,
    "editable": true
   },
   "outputs": [],
   "source": [
    "dhmm_r = hmms.DtHMM.random( 2,3 )\n",
    "# We can print all the parameters.\n",
    "hmms.print_parameters( dhmm_r )"
   ]
  },
  {
   "cell_type": "markdown",
   "metadata": {
    "deletable": true,
    "editable": true
   },
   "source": [
    "Let's compare the dataset likelihood estimation of model used for generating the data and the random parameters model. "
   ]
  },
  {
   "cell_type": "code",
   "execution_count": null,
   "metadata": {
    "collapsed": false,
    "deletable": true,
    "editable": true
   },
   "outputs": [],
   "source": [
    "print( \"Generator model:\" , np.exp( dhmm.data_estimate(data)   ) )\n",
    "print( \"Random model:   \" ,np.exp( dhmm_r.data_estimate(data) ) )"
   ]
  },
  {
   "cell_type": "markdown",
   "metadata": {
    "deletable": true,
    "editable": true
   },
   "source": [
    "Most likely the probability that the data was generated by random model is extremly low.\n",
    "\n",
    "Now we can take the random model and reestimate it to fit the data better."
   ]
  },
  {
   "cell_type": "code",
   "execution_count": null,
   "metadata": {
    "collapsed": false,
    "deletable": true,
    "editable": true
   },
   "outputs": [],
   "source": [
    "dhmm_r.baum_welch( data, 10 )\n",
    "print( \"Reestimated model after 10 iterations:   \" ,np.exp( dhmm_r.data_estimate(data) ) )"
   ]
  },
  {
   "cell_type": "markdown",
   "metadata": {
    "deletable": true,
    "editable": true
   },
   "source": [
    "The probability of the reestimated model should now be similiar (possibly even higher) that the generator's model. If it is not, you can try to run the estimation procedure more time at different randomly generated models. It could happen that the estimation fall in the local optima.\n",
    "\n",
    "If you are satisfied with the results, you can run some more iteration to fine-tune it."
   ]
  },
  {
   "cell_type": "code",
   "execution_count": null,
   "metadata": {
    "collapsed": false,
    "deletable": true,
    "editable": true
   },
   "outputs": [],
   "source": [
    "dhmm_r.baum_welch( data, 100 )\n",
    "print( \"Reestimated model after 110 iterations:   \" ,np.exp( dhmm_r.data_estimate(data) ) )"
   ]
  },
  {
   "cell_type": "markdown",
   "metadata": {
    "deletable": true,
    "editable": true
   },
   "source": [
    "We can compare the parameters of the model."
   ]
  },
  {
   "cell_type": "code",
   "execution_count": null,
   "metadata": {
    "collapsed": false,
    "deletable": true,
    "editable": true
   },
   "outputs": [],
   "source": [
    "hmms.print_parameters( dhmm_r )\n",
    "hmms.print_parameters( dhmm )"
   ]
  },
  {
   "cell_type": "markdown",
   "metadata": {
    "collapsed": false,
    "deletable": true,
    "editable": true,
    "scrolled": true
   },
   "source": [
    "Alternatively, we can run *baum_welch_graph* method to get learning curve of estimated probabilities."
   ]
  },
  {
   "cell_type": "code",
   "execution_count": null,
   "metadata": {
    "collapsed": false,
    "deletable": true,
    "editable": true,
    "scrolled": false
   },
   "outputs": [],
   "source": [
    "dhmm_r = hmms.DtHMM.random(2,3) \n",
    "out = dhmm_r.baum_welch( data, 50, est=True )\n",
    "\n",
    "np.exp(out)"
   ]
  },
  {
   "cell_type": "markdown",
   "metadata": {
    "deletable": true,
    "editable": true
   },
   "source": [
    "Let's plot it in the graph, comparing the results in ratio with *real* data-generator model. ( Notice, it is the ratio of logaritmic probability values. )"
   ]
  },
  {
   "cell_type": "code",
   "execution_count": null,
   "metadata": {
    "collapsed": false,
    "deletable": true,
    "editable": true
   },
   "outputs": [],
   "source": [
    "real = dhmm.data_estimate(data)\n",
    "#For better visibility of the graph, we cut first two values.\n",
    "plt.plot( out[2:] / real  )\n",
    "plt.show()"
   ]
  },
  {
   "cell_type": "markdown",
   "metadata": {
    "deletable": true,
    "editable": true
   },
   "source": [
    "<a id='cthmm'></a>\n",
    "Part 2: Continuous Time Hidden Markov Model\n",
    "-----------------------------------------------------"
   ]
  },
  {
   "cell_type": "code",
   "execution_count": null,
   "metadata": {
    "collapsed": true,
    "deletable": true,
    "editable": true
   },
   "outputs": [],
   "source": [
    "import numpy as np\n",
    "import matplotlib.pyplot as plt\n",
    "import hmms\n",
    "\n",
    "%matplotlib inline"
   ]
  },
  {
   "cell_type": "markdown",
   "metadata": {
    "deletable": true,
    "editable": true
   },
   "source": [
    "### Construct CtHMM \n",
    "Construction of CtHMM is similar to the discrete model. \n",
    "\n",
    "You can directly initialize the CtHMM by passing the **model parameters**.  \n",
    "We will create simple CtHMM of three hidden states and three output variables."
   ]
  },
  {
   "cell_type": "code",
   "execution_count": null,
   "metadata": {
    "collapsed": false,
    "deletable": true,
    "editable": true
   },
   "outputs": [],
   "source": [
    "# Q is the matrix of transition rates from state [row] to state [column].\n",
    "Q = np.array( [[-0.375,0.125,0.25],[0.25,-0.5,0.25],[0.25,0.125,-0.375]] )\n",
    "# B is the matrix of probabilities that the state [row] will emmit output variable [column].\n",
    "B = np.array( [[0.8,0.05,0.15],[0.05,0.9,0.05],[0.2,0.05,0.75]] )\n",
    "# Pi is the vector of initial state probabilities.   \n",
    "Pi = np.array( [0.6,0,0.4] )\n",
    "\n",
    "# Create CtHMM by given parameters.\n",
    "chmm = hmms.CtHMM(Q,B,Pi)"
   ]
  },
  {
   "cell_type": "markdown",
   "metadata": {
    "deletable": true,
    "editable": true
   },
   "source": [
    "Or you can initialize it by **random parameters**. Passing the number of hidden states and output variables. "
   ]
  },
  {
   "cell_type": "code",
   "execution_count": null,
   "metadata": {
    "collapsed": true,
    "deletable": true,
    "editable": true
   },
   "outputs": [],
   "source": [
    "chmm_random = hmms.CtHMM.random(3,3)"
   ]
  },
  {
   "cell_type": "markdown",
   "metadata": {
    "deletable": true,
    "editable": true
   },
   "source": [
    "### Save & Read from File\n",
    "\n",
    "Once you have created the model you can save its parameters in file simply by calling save_params method."
   ]
  },
  {
   "cell_type": "code",
   "execution_count": null,
   "metadata": {
    "collapsed": false,
    "deletable": true,
    "editable": true
   },
   "outputs": [],
   "source": [
    "chmm.save_params(\"Models/hello_cthmm\") "
   ]
  },
  {
   "cell_type": "markdown",
   "metadata": {
    "deletable": true,
    "editable": true
   },
   "source": [
    "The method stored the parameters in .npz format.\n",
    "The saved file can be later used to read parametrs for model initialization."
   ]
  },
  {
   "cell_type": "code",
   "execution_count": null,
   "metadata": {
    "collapsed": false,
    "deletable": true,
    "editable": true
   },
   "outputs": [],
   "source": [
    "chmm_from_file = hmms.CtHMM.from_file( \"Models/hello_cthmm.npz\" )"
   ]
  },
  {
   "cell_type": "markdown",
   "metadata": {
    "deletable": true,
    "editable": true
   },
   "source": [
    "### Set & Get Parameters\n",
    "Later you can always set parameters with triple of methods corresponding to the constructors."
   ]
  },
  {
   "cell_type": "code",
   "execution_count": null,
   "metadata": {
    "collapsed": false,
    "deletable": true,
    "editable": true
   },
   "outputs": [],
   "source": [
    "chmm.set_params(Q,B,Pi)\n",
    "chmm.set_params_random(3,3)\n",
    "chmm.set_params_from_file( \"Models/hello_cthmm.npz\" )"
   ]
  },
  {
   "cell_type": "markdown",
   "metadata": {
    "deletable": true,
    "editable": true
   },
   "source": [
    "You can **get** parameters by calling them separately,"
   ]
  },
  {
   "cell_type": "code",
   "execution_count": null,
   "metadata": {
    "collapsed": false,
    "deletable": true,
    "editable": true
   },
   "outputs": [],
   "source": [
    "chmm.q, chmm.b, chmm.pi"
   ]
  },
  {
   "cell_type": "markdown",
   "metadata": {
    "deletable": true,
    "editable": true
   },
   "source": [
    "or get them all together as the triple."
   ]
  },
  {
   "cell_type": "code",
   "execution_count": null,
   "metadata": {
    "collapsed": false,
    "deletable": true,
    "editable": true
   },
   "outputs": [],
   "source": [
    "(A,B,Pi) = chmm.params"
   ]
  },
  {
   "cell_type": "markdown",
   "metadata": {
    "deletable": true,
    "editable": true
   },
   "source": [
    "### Generate Random Sequence\n",
    "Now we can use our model to **generate** time, state and emission sequence.\n",
    "The model will **randomly** choose which transition or emission will happen, taking into consideration the parameters we have previously defined.\n",
    "\n",
    "The times are generated with **exponencial** waiting times, you can define the parameter of exponencial distribution as second optional parameter. \n"
   ]
  },
  {
   "cell_type": "code",
   "execution_count": null,
   "metadata": {
    "collapsed": false,
    "deletable": true,
    "editable": true
   },
   "outputs": [],
   "source": [
    "seq_len = 10\n",
    "t_seq, s_seq, e_seq = chmm.generate( seq_len, 0.5)\n",
    "\n",
    "#resize plot\n",
    "plt.rcParams['figure.figsize'] = [20,20]\n",
    "\n",
    "hmms.plot_hmm( s_seq, e_seq, time=t_seq )"
   ]
  },
  {
   "cell_type": "markdown",
   "metadata": {
    "deletable": true,
    "editable": true
   },
   "source": [
    "### Find Most Likely State Sequence\n",
    "If we have corresponding time and emission sequence, we can find the most probable state sequence that would generate it given the current model parameters. Notice, that it can be different, than the actual sequence that has generated the emissions.  \n",
    "We will use Viterbi algorithm for the calculation."
   ]
  },
  {
   "cell_type": "code",
   "execution_count": null,
   "metadata": {
    "collapsed": false,
    "deletable": true,
    "editable": true
   },
   "outputs": [],
   "source": [
    "( log_prob, s_seq ) =  chmm.viterbi( t_seq, e_seq )\n",
    "# Let's print the most likely state sequence, it can be same or differ from the sequence above.\n",
    "hmms.plot_hmm( s_seq, e_seq, time = t_seq )\n",
    "print( \"Probability of being generated by the found state sequence:\", np.exp( log_prob ) )"
   ]
  },
  {
   "cell_type": "markdown",
   "metadata": {
    "deletable": true,
    "editable": true
   },
   "source": [
    "### Generate Artificial  Dataset\n",
    "You can easily generate many sequences in once by using the *generate_data* function.  \n",
    "The generated data are in the form that is suitable for training of parameters. \n",
    "You can switch *states=True*, if you want to generate also the corresponding state sequences.\n",
    "\n",
    "TODO: The times are generated with **exponencial** waiting times, you can define the parameter of exponencial distribution as second optional parameter. "
   ]
  },
  {
   "cell_type": "code",
   "execution_count": null,
   "metadata": {
    "collapsed": false,
    "deletable": true,
    "editable": true
   },
   "outputs": [],
   "source": [
    "seq_num= 5   #number of data sequences\n",
    "seq_len= 30  #length of each sequence\n",
    "\n",
    "t,e = chmm.generate_data( (seq_num,seq_len) )\n",
    "t,e"
   ]
  },
  {
   "cell_type": "markdown",
   "metadata": {
    "collapsed": true,
    "deletable": true,
    "editable": true
   },
   "source": [
    "### Parameters Estimation - Continuous Version of Baum Welch Algorithm\n",
    "\n",
    "We will use the previously generated data for the training of randomly generated model."
   ]
  },
  {
   "cell_type": "code",
   "execution_count": null,
   "metadata": {
    "collapsed": false,
    "deletable": true,
    "editable": true
   },
   "outputs": [],
   "source": [
    "chmm_r = hmms.CtHMM.random( 3,3 )\n",
    "# We can print all the parameters.\n",
    "hmms.print_parameters( chmm_r )"
   ]
  },
  {
   "cell_type": "markdown",
   "metadata": {
    "deletable": true,
    "editable": true
   },
   "source": [
    "Now we can compare the probabilities, that the data was generated by the given model. Its ratio is most probably not so big as in the disrete model. It is because the intervals between the observations are the source of many unknown, so it is pushing the probability of real model down. "
   ]
  },
  {
   "cell_type": "code",
   "execution_count": null,
   "metadata": {
    "collapsed": false,
    "deletable": true,
    "editable": true
   },
   "outputs": [],
   "source": [
    "print( \"Generator model:\" , np.exp( chmm.data_estimate(t,e)   ) )\n",
    "print( \"Random model:   \" ,np.exp( chmm_r.data_estimate(t,e) ) )"
   ]
  },
  {
   "cell_type": "markdown",
   "metadata": {
    "deletable": true,
    "editable": true
   },
   "source": [
    "Let's run the EM algorithm for couple of iterations."
   ]
  },
  {
   "cell_type": "code",
   "execution_count": null,
   "metadata": {
    "collapsed": false,
    "deletable": true,
    "editable": true
   },
   "outputs": [],
   "source": [
    "out = chmm_r.baum_welch( t,e, 100, est=True )\n",
    "\n",
    "np.exp(out)"
   ]
  },
  {
   "cell_type": "markdown",
   "metadata": {
    "deletable": true,
    "editable": true
   },
   "source": [
    "We will plot its probabilities estimations in ratio with generator model. (Notice, it is the ratio of logarithms of probabilities)"
   ]
  },
  {
   "cell_type": "code",
   "execution_count": null,
   "metadata": {
    "collapsed": false,
    "deletable": true,
    "editable": true
   },
   "outputs": [],
   "source": [
    "real = chmm.data_estimate( t, e )\n",
    "#For better visibility of the graph, we cut first two values.\n",
    "plt.plot( out[2:] / real  )\n",
    "\n",
    "plt.show()"
   ]
  },
  {
   "cell_type": "markdown",
   "metadata": {
    "deletable": true,
    "editable": true
   },
   "source": [
    "<a id='conv'></a>\n",
    "Part 3: Comparison of Models Convergences\n",
    "-----------------------------------------------------"
   ]
  },
  {
   "cell_type": "markdown",
   "metadata": {
    "deletable": true,
    "editable": true
   },
   "source": [
    "In this chapter we will compare the convergence rate of discrete and continuous models. It will show some functions usefull for convergence among model parameters.  "
   ]
  },
  {
   "cell_type": "code",
   "execution_count": null,
   "metadata": {
    "collapsed": true,
    "deletable": true,
    "editable": true
   },
   "outputs": [],
   "source": [
    "import numpy as np\n",
    "import matplotlib.pyplot as plt\n",
    "import hmms\n",
    "\n",
    "%matplotlib inline"
   ]
  },
  {
   "cell_type": "markdown",
   "metadata": {
    "deletable": true,
    "editable": true
   },
   "source": [
    "We will start by defining the continuous time model. For that, who have read the previous section, it will be the familiar."
   ]
  },
  {
   "cell_type": "code",
   "execution_count": null,
   "metadata": {
    "collapsed": false,
    "deletable": true,
    "editable": true
   },
   "outputs": [],
   "source": [
    "Q = np.array( [[-0.375,0.125,0.25],[0.25,-0.5,0.25],[0.25,0.125,-0.375]] )\n",
    "B = np.array( [[0.8,0.05,0.15],[0.05,0.9,0.05],[0.2,0.05,0.75]] )\n",
    "Pi = np.array( [0.6,0,0.4] )\n",
    "\n",
    "chmm = hmms.CtHMM( Q,B,Pi )\n",
    "hmms.print_parameters( chmm )"
   ]
  },
  {
   "cell_type": "markdown",
   "metadata": {
    "deletable": true,
    "editable": true
   },
   "source": [
    "We can simply create discrete model with equivalent parameters, using function *get_dthmm_params*.  \n",
    "By default, it will create the model with transition probabilities equal to one time unit probability transition in continuous model. You can pass the optional parameter for different time steps.\n"
   ]
  },
  {
   "cell_type": "code",
   "execution_count": null,
   "metadata": {
    "collapsed": false,
    "deletable": true,
    "editable": true
   },
   "outputs": [],
   "source": [
    "dhmm = hmms.DtHMM( *chmm.get_dthmm_params() )\n",
    "hmms.print_parameters( dhmm )"
   ]
  },
  {
   "cell_type": "markdown",
   "metadata": {
    "deletable": true,
    "editable": true
   },
   "source": [
    "We can let the disrete model to generate the data sufficient for both models by passing the *times* parameter as *True*."
   ]
  },
  {
   "cell_type": "code",
   "execution_count": null,
   "metadata": {
    "collapsed": false,
    "deletable": true,
    "editable": true
   },
   "outputs": [],
   "source": [
    "t,_,e = dhmm.generate_data( (50,50), times=True )   \n",
    "# The free space in the return triple is for the state sequences, we do not need them for the training "
   ]
  },
  {
   "cell_type": "markdown",
   "metadata": {
    "deletable": true,
    "editable": true
   },
   "source": [
    "We can compare the estimation of the data, using both of the model. (They should be the same.)"
   ]
  },
  {
   "cell_type": "code",
   "execution_count": null,
   "metadata": {
    "collapsed": false,
    "deletable": true,
    "editable": true
   },
   "outputs": [],
   "source": [
    "creal = chmm.data_estimate(t,e)\n",
    "dreal = dhmm.data_estimate(e)\n",
    "print(\"Data estimation by continuous model:\", creal)\n",
    "print(\"Data estimation by discrete model:  \", dreal)"
   ]
  },
  {
   "cell_type": "markdown",
   "metadata": {
    "deletable": true,
    "editable": true
   },
   "source": [
    "Now we will create two equivalent random models. "
   ]
  },
  {
   "cell_type": "code",
   "execution_count": null,
   "metadata": {
    "collapsed": false,
    "deletable": true,
    "editable": true
   },
   "outputs": [],
   "source": [
    "ct = hmms.CtHMM.random(3,3)\n",
    "dt = hmms.DtHMM( *ct.get_dthmm_params() )\n",
    "    \n",
    "hmms.print_parameters( ct )\n",
    "hmms.print_parameters( dt )"
   ]
  },
  {
   "cell_type": "markdown",
   "metadata": {
    "deletable": true,
    "editable": true
   },
   "source": [
    "We will train them at our dataset. (It can take a while.)"
   ]
  },
  {
   "cell_type": "code",
   "execution_count": null,
   "metadata": {
    "collapsed": false,
    "deletable": true,
    "editable": true
   },
   "outputs": [],
   "source": [
    "iter_num = 50\n",
    "outd = dt.baum_welch( e,   iter_num, est=True )\n",
    "outc = ct.baum_welch( t,e, iter_num, est=True )\n",
    "outd,outc"
   ]
  },
  {
   "cell_type": "markdown",
   "metadata": {
    "collapsed": false,
    "deletable": true,
    "editable": true
   },
   "source": [
    "We can plot and compare both convergence rates. From the essence of models, the continuous model will probably  converge a bit slower, but finally will reach the similar value."
   ]
  },
  {
   "cell_type": "code",
   "execution_count": null,
   "metadata": {
    "collapsed": false,
    "deletable": true,
    "editable": true
   },
   "outputs": [],
   "source": [
    "plt.plot( outd[1:] / dreal  )\n",
    "plt.plot( outc[1:] / dreal  )\n",
    "#plt.savefig('my_plot.svg')  #Optional save the figure\n",
    "plt.show()"
   ]
  },
  {
   "cell_type": "code",
   "execution_count": null,
   "metadata": {
    "collapsed": false,
    "deletable": true,
    "editable": true
   },
   "outputs": [],
   "source": []
  },
  {
   "cell_type": "markdown",
   "metadata": {
    "collapsed": false,
    "deletable": true,
    "editable": true
   },
   "source": [
    "<hr/>\n",
    "You can play with the models as you like and feel free to share your result with me, if you have made some interesting experiment!"
   ]
  },
  {
   "cell_type": "markdown",
   "metadata": {
    "collapsed": true,
    "deletable": true,
    "editable": true
   },
   "source": [
    "Contact: (lopatovsky@gmail.com)"
   ]
  },
  {
   "cell_type": "markdown",
   "metadata": {
    "deletable": true,
    "editable": true
   },
   "source": [
    "### Experimental features\n",
    "#### Fast Convergence "
   ]
  },
  {
   "cell_type": "code",
   "execution_count": null,
   "metadata": {
    "collapsed": false,
    "deletable": true,
    "editable": true
   },
   "outputs": [],
   "source": [
    "#The experiment is frozen\n",
    "\n",
    "\n",
    "seq_num= 1   #number of data sequences\n",
    "seq_len= 4  #length of each sequence\n",
    "\n",
    "t,e = chmm.generate_data( (seq_num,seq_len) )\n",
    "t,e\n",
    "\n",
    "\n",
    "t = np.array([[ 0,1,3,5,6,7,9,11,12]])\n",
    "e = np.array([[ 0,0,0,1,2,1,0,0,1]])\n"
   ]
  },
  {
   "cell_type": "code",
   "execution_count": null,
   "metadata": {
    "collapsed": false,
    "deletable": true,
    "editable": true
   },
   "outputs": [],
   "source": [
    "ct1 = hmms.CtHMM.random(3,3)\n",
    "ct2 = hmms.CtHMM( *ct1.params )"
   ]
  },
  {
   "cell_type": "code",
   "execution_count": null,
   "metadata": {
    "collapsed": false,
    "deletable": true,
    "editable": true
   },
   "outputs": [],
   "source": [
    "iter_num = 50\n",
    "out1 = ct1.baum_welch( t,e, iter_num, est=True )\n",
    "#out2 = ct2.baum_welch( t,e, iter_num )\n",
    "out1,out2"
   ]
  },
  {
   "cell_type": "code",
   "execution_count": null,
   "metadata": {
    "collapsed": false,
    "deletable": true,
    "editable": true
   },
   "outputs": [],
   "source": [
    "plt.plot( out1[1:] / dreal , color = \"red\" )\n",
    "plt.plot( out2[1:] / dreal  )\n",
    "#plt.savefig('graph.svg')  #Optional save the figure\n",
    "\n",
    "plt.show()"
   ]
  },
  {
   "cell_type": "code",
   "execution_count": null,
   "metadata": {
    "collapsed": false,
    "deletable": true,
    "editable": true
   },
   "outputs": [],
   "source": [
    "hmms.print_parameters(ct1)\n",
    "hmms.print_parameters(ct2)"
   ]
  },
  {
   "cell_type": "markdown",
   "metadata": {
    "collapsed": true,
    "deletable": true,
    "editable": true
   },
   "source": [
    "#### Exponential random generation"
   ]
  },
  {
   "cell_type": "code",
   "execution_count": 1,
   "metadata": {
    "collapsed": true,
    "deletable": true,
    "editable": true
   },
   "outputs": [],
   "source": [
    "import numpy as np\n",
    "import matplotlib.pyplot as plt\n",
    "import hmms\n",
    "\n",
    "%matplotlib inline"
   ]
  },
  {
   "cell_type": "code",
   "execution_count": 2,
   "metadata": {
    "collapsed": false,
    "deletable": true,
    "editable": true
   },
   "outputs": [],
   "source": [
    "# Q is the matrix of transition rates from state [row] to state [column].\n",
    "Q = np.array( [[-0.375,0.125,0.25],[0.25,-0.5,0.25],[0.25,0.125,-0.375]] )\n",
    "# B is the matrix of probabilities that the state [row] will emmit output variable [column].\n",
    "B = np.array( [[0.8,0.05,0.15],[0.05,0.9,0.05],[0.2,0.05,0.75]] )\n",
    "# Pi is the vector of initial state probabilities.   \n",
    "Pi = np.array( [0.6,0,0.4] )\n",
    "\n",
    "# Create CtHMM by given parameters.\n",
    "chmm = hmms.CtHMM(Q,B,Pi)"
   ]
  },
  {
   "cell_type": "code",
   "execution_count": 3,
   "metadata": {
    "collapsed": true,
    "deletable": true,
    "editable": true
   },
   "outputs": [],
   "source": [
    "seq_num= 5   #number of data sequences\n",
    "seq_len= 30  #length of each sequence\n",
    "\n",
    "t,e = chmm.generate_data( (seq_num,seq_len) )"
   ]
  },
  {
   "cell_type": "code",
   "execution_count": null,
   "metadata": {
    "collapsed": false,
    "deletable": true,
    "editable": true
   },
   "outputs": [
    {
     "name": "stdout",
     "output_type": "stream",
     "text": [
      "[[ 0  1  5  9 17 21 22 25 27 32 34 41 47 49 50 53 54 55 56 57 58 63 69 73\n",
      "  76 77 79 80 84 85]\n",
      " [ 0  1  2  4  5  6  7  8 11 14 15 17 19 21 23 24 28 29 31 32 34 35 38 40\n",
      "  42 44 45 46 47 48]\n",
      " [ 0  1  5  7 10 18 19 21 22 24 26 27 28 30 32 33 35 37 38 39 41 43 47 48\n",
      "  49 50 51 56 58 65]\n",
      " [ 0  1  2  3  5 10 13 14 16 17 18 22 23 28 33 35 36 37 38 41 48 51 52 54\n",
      "  56 58 59 69 72 73]\n",
      " [ 0  2  5  6  8  9 10 11 12 14 15 16 19 22 26 28 35 39 42 46 47 49 50 52\n",
      "  54 56 62 63 66 67]]\n",
      "Max_len 145\n",
      "[[ 0  1  5  9 17 21 22 25 27 32 34 41 47 49 50 53 54 55 56 57 58 63 69 73\n",
      "  76 77 79 80 84 85]\n",
      " [ 0  1  2  4  5  6  7  8 11 14 15 17 19 21 23 24 28 29 31 32 34 35 38 40\n",
      "  42 44 45 46 47 48]\n",
      " [ 0  1  5  7 10 18 19 21 22 24 26 27 28 30 32 33 35 37 38 39 41 43 47 48\n",
      "  49 50 51 56 58 65]\n",
      " [ 0  1  2  3  5 10 13 14 16 17 18 22 23 28 33 35 36 37 38 41 48 51 52 54\n",
      "  56 58 59 69 72 73]\n",
      " [ 0  2  5  6  8  9 10 11 12 14 15 16 19 22 26 28 35 39 42 46 47 49 50 52\n",
      "  54 56 62 63 66 67]]\n",
      "Max_len 145\n",
      "[[ 0  1  5  9 17 21 22 25 27 32 34 41 47 49 50 53 54 55 56 57 58 63 69 73\n",
      "  76 77 79 80 84 85]\n",
      " [ 0  1  2  4  5  6  7  8 11 14 15 17 19 21 23 24 28 29 31 32 34 35 38 40\n",
      "  42 44 45 46 47 48]\n",
      " [ 0  1  5  7 10 18 19 21 22 24 26 27 28 30 32 33 35 37 38 39 41 43 47 48\n",
      "  49 50 51 56 58 65]\n",
      " [ 0  1  2  3  5 10 13 14 16 17 18 22 23 28 33 35 36 37 38 41 48 51 52 54\n",
      "  56 58 59 69 72 73]\n",
      " [ 0  2  5  6  8  9 10 11 12 14 15 16 19 22 26 28 35 39 42 46 47 49 50 52\n",
      "  54 56 62 63 66 67]]\n",
      "Max_len 145\n",
      "[[ 0  1  5  9 17 21 22 25 27 32 34 41 47 49 50 53 54 55 56 57 58 63 69 73\n",
      "  76 77 79 80 84 85]\n",
      " [ 0  1  2  4  5  6  7  8 11 14 15 17 19 21 23 24 28 29 31 32 34 35 38 40\n",
      "  42 44 45 46 47 48]\n",
      " [ 0  1  5  7 10 18 19 21 22 24 26 27 28 30 32 33 35 37 38 39 41 43 47 48\n",
      "  49 50 51 56 58 65]\n",
      " [ 0  1  2  3  5 10 13 14 16 17 18 22 23 28 33 35 36 37 38 41 48 51 52 54\n",
      "  56 58 59 69 72 73]\n",
      " [ 0  2  5  6  8  9 10 11 12 14 15 16 19 22 26 28 35 39 42 46 47 49 50 52\n",
      "  54 56 62 63 66 67]]\n",
      "Max_len 145\n",
      "[[ 0  1  5  9 17 21 22 25 27 32 34 41 47 49 50 53 54 55 56 57 58 63 69 73\n",
      "  76 77 79 80 84 85]\n",
      " [ 0  1  2  4  5  6  7  8 11 14 15 17 19 21 23 24 28 29 31 32 34 35 38 40\n",
      "  42 44 45 46 47 48]\n",
      " [ 0  1  5  7 10 18 19 21 22 24 26 27 28 30 32 33 35 37 38 39 41 43 47 48\n",
      "  49 50 51 56 58 65]\n",
      " [ 0  1  2  3  5 10 13 14 16 17 18 22 23 28 33 35 36 37 38 41 48 51 52 54\n",
      "  56 58 59 69 72 73]\n",
      " [ 0  2  5  6  8  9 10 11 12 14 15 16 19 22 26 28 35 39 42 46 47 49 50 52\n",
      "  54 56 62 63 66 67]]\n",
      "Max_len 145\n",
      "[[ 0  1  5  9 17 21 22 25 27 32 34 41 47 49 50 53 54 55 56 57 58 63 69 73\n",
      "  76 77 79 80 84 85]\n",
      " [ 0  1  2  4  5  6  7  8 11 14 15 17 19 21 23 24 28 29 31 32 34 35 38 40\n",
      "  42 44 45 46 47 48]\n",
      " [ 0  1  5  7 10 18 19 21 22 24 26 27 28 30 32 33 35 37 38 39 41 43 47 48\n",
      "  49 50 51 56 58 65]\n",
      " [ 0  1  2  3  5 10 13 14 16 17 18 22 23 28 33 35 36 37 38 41 48 51 52 54\n",
      "  56 58 59 69 72 73]\n",
      " [ 0  2  5  6  8  9 10 11 12 14 15 16 19 22 26 28 35 39 42 46 47 49 50 52\n",
      "  54 56 62 63 66 67]]\n",
      "Max_len 145\n",
      "[[ 0  1  5  9 17 21 22 25 27 32 34 41 47 49 50 53 54 55 56 57 58 63 69 73\n",
      "  76 77 79 80 84 85]\n",
      " [ 0  1  2  4  5  6  7  8 11 14 15 17 19 21 23 24 28 29 31 32 34 35 38 40\n",
      "  42 44 45 46 47 48]\n",
      " [ 0  1  5  7 10 18 19 21 22 24 26 27 28 30 32 33 35 37 38 39 41 43 47 48\n",
      "  49 50 51 56 58 65]\n",
      " [ 0  1  2  3  5 10 13 14 16 17 18 22 23 28 33 35 36 37 38 41 48 51 52 54\n",
      "  56 58 59 69 72 73]\n",
      " [ 0  2  5  6  8  9 10 11 12 14 15 16 19 22 26 28 35 39 42 46 47 49 50 52\n",
      "  54 56 62 63 66 67]]\n",
      "Max_len 145\n",
      "[[ 0  1  5  9 17 21 22 25 27 32 34 41 47 49 50 53 54 55 56 57 58 63 69 73\n",
      "  76 77 79 80 84 85]\n",
      " [ 0  1  2  4  5  6  7  8 11 14 15 17 19 21 23 24 28 29 31 32 34 35 38 40\n",
      "  42 44 45 46 47 48]\n",
      " [ 0  1  5  7 10 18 19 21 22 24 26 27 28 30 32 33 35 37 38 39 41 43 47 48\n",
      "  49 50 51 56 58 65]\n",
      " [ 0  1  2  3  5 10 13 14 16 17 18 22 23 28 33 35 36 37 38 41 48 51 52 54\n",
      "  56 58 59 69 72 73]\n",
      " [ 0  2  5  6  8  9 10 11 12 14 15 16 19 22 26 28 35 39 42 46 47 49 50 52\n",
      "  54 56 62 63 66 67]]\n",
      "Max_len 145\n",
      "[[ 0  1  5  9 17 21 22 25 27 32 34 41 47 49 50 53 54 55 56 57 58 63 69 73\n",
      "  76 77 79 80 84 85]\n",
      " [ 0  1  2  4  5  6  7  8 11 14 15 17 19 21 23 24 28 29 31 32 34 35 38 40\n",
      "  42 44 45 46 47 48]\n",
      " [ 0  1  5  7 10 18 19 21 22 24 26 27 28 30 32 33 35 37 38 39 41 43 47 48\n",
      "  49 50 51 56 58 65]\n",
      " [ 0  1  2  3  5 10 13 14 16 17 18 22 23 28 33 35 36 37 38 41 48 51 52 54\n",
      "  56 58 59 69 72 73]\n",
      " [ 0  2  5  6  8  9 10 11 12 14 15 16 19 22 26 28 35 39 42 46 47 49 50 52\n",
      "  54 56 62 63 66 67]]\n",
      "Max_len 145\n",
      "[[ 0  1  5  9 17 21 22 25 27 32 34 41 47 49 50 53 54 55 56 57 58 63 69 73\n",
      "  76 77 79 80 84 85]\n",
      " [ 0  1  2  4  5  6  7  8 11 14 15 17 19 21 23 24 28 29 31 32 34 35 38 40\n",
      "  42 44 45 46 47 48]\n",
      " [ 0  1  5  7 10 18 19 21 22 24 26 27 28 30 32 33 35 37 38 39 41 43 47 48\n",
      "  49 50 51 56 58 65]\n",
      " [ 0  1  2  3  5 10 13 14 16 17 18 22 23 28 33 35 36 37 38 41 48 51 52 54\n",
      "  56 58 59 69 72 73]\n",
      " [ 0  2  5  6  8  9 10 11 12 14 15 16 19 22 26 28 35 39 42 46 47 49 50 52\n",
      "  54 56 62 63 66 67]]\n",
      "Max_len 145\n",
      "[[ 0  1  5  9 17 21 22 25 27 32 34 41 47 49 50 53 54 55 56 57 58 63 69 73\n",
      "  76 77 79 80 84 85]\n",
      " [ 0  1  2  4  5  6  7  8 11 14 15 17 19 21 23 24 28 29 31 32 34 35 38 40\n",
      "  42 44 45 46 47 48]\n",
      " [ 0  1  5  7 10 18 19 21 22 24 26 27 28 30 32 33 35 37 38 39 41 43 47 48\n",
      "  49 50 51 56 58 65]\n",
      " [ 0  1  2  3  5 10 13 14 16 17 18 22 23 28 33 35 36 37 38 41 48 51 52 54\n",
      "  56 58 59 69 72 73]\n",
      " [ 0  2  5  6  8  9 10 11 12 14 15 16 19 22 26 28 35 39 42 46 47 49 50 52\n",
      "  54 56 62 63 66 67]]\n",
      "Max_len 145\n",
      "[[ 0  1  5  9 17 21 22 25 27 32 34 41 47 49 50 53 54 55 56 57 58 63 69 73\n",
      "  76 77 79 80 84 85]\n",
      " [ 0  1  2  4  5  6  7  8 11 14 15 17 19 21 23 24 28 29 31 32 34 35 38 40\n",
      "  42 44 45 46 47 48]\n",
      " [ 0  1  5  7 10 18 19 21 22 24 26 27 28 30 32 33 35 37 38 39 41 43 47 48\n",
      "  49 50 51 56 58 65]\n",
      " [ 0  1  2  3  5 10 13 14 16 17 18 22 23 28 33 35 36 37 38 41 48 51 52 54\n",
      "  56 58 59 69 72 73]\n",
      " [ 0  2  5  6  8  9 10 11 12 14 15 16 19 22 26 28 35 39 42 46 47 49 50 52\n",
      "  54 56 62 63 66 67]]\n",
      "Max_len 145\n",
      "[[ 0  1  5  9 17 21 22 25 27 32 34 41 47 49 50 53 54 55 56 57 58 63 69 73\n",
      "  76 77 79 80 84 85]\n",
      " [ 0  1  2  4  5  6  7  8 11 14 15 17 19 21 23 24 28 29 31 32 34 35 38 40\n",
      "  42 44 45 46 47 48]\n",
      " [ 0  1  5  7 10 18 19 21 22 24 26 27 28 30 32 33 35 37 38 39 41 43 47 48\n",
      "  49 50 51 56 58 65]\n",
      " [ 0  1  2  3  5 10 13 14 16 17 18 22 23 28 33 35 36 37 38 41 48 51 52 54\n",
      "  56 58 59 69 72 73]\n",
      " [ 0  2  5  6  8  9 10 11 12 14 15 16 19 22 26 28 35 39 42 46 47 49 50 52\n",
      "  54 56 62 63 66 67]]\n",
      "Max_len 145\n",
      "[[ 0  1  5  9 17 21 22 25 27 32 34 41 47 49 50 53 54 55 56 57 58 63 69 73\n",
      "  76 77 79 80 84 85]\n",
      " [ 0  1  2  4  5  6  7  8 11 14 15 17 19 21 23 24 28 29 31 32 34 35 38 40\n",
      "  42 44 45 46 47 48]\n",
      " [ 0  1  5  7 10 18 19 21 22 24 26 27 28 30 32 33 35 37 38 39 41 43 47 48\n",
      "  49 50 51 56 58 65]\n",
      " [ 0  1  2  3  5 10 13 14 16 17 18 22 23 28 33 35 36 37 38 41 48 51 52 54\n",
      "  56 58 59 69 72 73]\n",
      " [ 0  2  5  6  8  9 10 11 12 14 15 16 19 22 26 28 35 39 42 46 47 49 50 52\n",
      "  54 56 62 63 66 67]]\n",
      "Max_len 145\n",
      "[[ 0  1  5  9 17 21 22 25 27 32 34 41 47 49 50 53 54 55 56 57 58 63 69 73\n",
      "  76 77 79 80 84 85]\n",
      " [ 0  1  2  4  5  6  7  8 11 14 15 17 19 21 23 24 28 29 31 32 34 35 38 40\n",
      "  42 44 45 46 47 48]\n",
      " [ 0  1  5  7 10 18 19 21 22 24 26 27 28 30 32 33 35 37 38 39 41 43 47 48\n",
      "  49 50 51 56 58 65]\n",
      " [ 0  1  2  3  5 10 13 14 16 17 18 22 23 28 33 35 36 37 38 41 48 51 52 54\n",
      "  56 58 59 69 72 73]\n",
      " [ 0  2  5  6  8  9 10 11 12 14 15 16 19 22 26 28 35 39 42 46 47 49 50 52\n",
      "  54 56 62 63 66 67]]\n",
      "Max_len 145\n",
      "[[ 0  1  5  9 17 21 22 25 27 32 34 41 47 49 50 53 54 55 56 57 58 63 69 73\n",
      "  76 77 79 80 84 85]\n",
      " [ 0  1  2  4  5  6  7  8 11 14 15 17 19 21 23 24 28 29 31 32 34 35 38 40\n",
      "  42 44 45 46 47 48]\n",
      " [ 0  1  5  7 10 18 19 21 22 24 26 27 28 30 32 33 35 37 38 39 41 43 47 48\n",
      "  49 50 51 56 58 65]\n",
      " [ 0  1  2  3  5 10 13 14 16 17 18 22 23 28 33 35 36 37 38 41 48 51 52 54\n",
      "  56 58 59 69 72 73]\n",
      " [ 0  2  5  6  8  9 10 11 12 14 15 16 19 22 26 28 35 39 42 46 47 49 50 52\n",
      "  54 56 62 63 66 67]]\n",
      "Max_len 145\n",
      "[[ 0  1  5  9 17 21 22 25 27 32 34 41 47 49 50 53 54 55 56 57 58 63 69 73\n",
      "  76 77 79 80 84 85]\n",
      " [ 0  1  2  4  5  6  7  8 11 14 15 17 19 21 23 24 28 29 31 32 34 35 38 40\n",
      "  42 44 45 46 47 48]\n",
      " [ 0  1  5  7 10 18 19 21 22 24 26 27 28 30 32 33 35 37 38 39 41 43 47 48\n",
      "  49 50 51 56 58 65]\n",
      " [ 0  1  2  3  5 10 13 14 16 17 18 22 23 28 33 35 36 37 38 41 48 51 52 54\n",
      "  56 58 59 69 72 73]\n",
      " [ 0  2  5  6  8  9 10 11 12 14 15 16 19 22 26 28 35 39 42 46 47 49 50 52\n",
      "  54 56 62 63 66 67]]\n",
      "Max_len 145\n",
      "[[ 0  1  5  9 17 21 22 25 27 32 34 41 47 49 50 53 54 55 56 57 58 63 69 73\n",
      "  76 77 79 80 84 85]\n",
      " [ 0  1  2  4  5  6  7  8 11 14 15 17 19 21 23 24 28 29 31 32 34 35 38 40\n",
      "  42 44 45 46 47 48]\n",
      " [ 0  1  5  7 10 18 19 21 22 24 26 27 28 30 32 33 35 37 38 39 41 43 47 48\n",
      "  49 50 51 56 58 65]\n",
      " [ 0  1  2  3  5 10 13 14 16 17 18 22 23 28 33 35 36 37 38 41 48 51 52 54\n",
      "  56 58 59 69 72 73]\n",
      " [ 0  2  5  6  8  9 10 11 12 14 15 16 19 22 26 28 35 39 42 46 47 49 50 52\n",
      "  54 56 62 63 66 67]]\n",
      "Max_len 145\n",
      "[[ 0  1  5  9 17 21 22 25 27 32 34 41 47 49 50 53 54 55 56 57 58 63 69 73\n",
      "  76 77 79 80 84 85]\n",
      " [ 0  1  2  4  5  6  7  8 11 14 15 17 19 21 23 24 28 29 31 32 34 35 38 40\n",
      "  42 44 45 46 47 48]\n",
      " [ 0  1  5  7 10 18 19 21 22 24 26 27 28 30 32 33 35 37 38 39 41 43 47 48\n",
      "  49 50 51 56 58 65]\n",
      " [ 0  1  2  3  5 10 13 14 16 17 18 22 23 28 33 35 36 37 38 41 48 51 52 54\n",
      "  56 58 59 69 72 73]\n",
      " [ 0  2  5  6  8  9 10 11 12 14 15 16 19 22 26 28 35 39 42 46 47 49 50 52\n",
      "  54 56 62 63 66 67]]\n",
      "Max_len 145\n",
      "[[ 0  1  5  9 17 21 22 25 27 32 34 41 47 49 50 53 54 55 56 57 58 63 69 73\n",
      "  76 77 79 80 84 85]\n",
      " [ 0  1  2  4  5  6  7  8 11 14 15 17 19 21 23 24 28 29 31 32 34 35 38 40\n",
      "  42 44 45 46 47 48]\n",
      " [ 0  1  5  7 10 18 19 21 22 24 26 27 28 30 32 33 35 37 38 39 41 43 47 48\n",
      "  49 50 51 56 58 65]\n",
      " [ 0  1  2  3  5 10 13 14 16 17 18 22 23 28 33 35 36 37 38 41 48 51 52 54\n",
      "  56 58 59 69 72 73]\n",
      " [ 0  2  5  6  8  9 10 11 12 14 15 16 19 22 26 28 35 39 42 46 47 49 50 52\n",
      "  54 56 62 63 66 67]]\n",
      "Max_len 145\n"
     ]
    }
   ],
   "source": [
    "chmm_r = hmms.CtHMM.random( 3,3, method='unif' )\n",
    "chmm_re = hmms.CtHMM.random( 3,3, method='exp' )\n",
    "\n",
    "out  =  chmm_r.baum_welch( t,e, 10 )\n",
    "oute = chmm_re.baum_welch( t,e, 10 )\n",
    "\n",
    "\n",
    "#aout =  np.average(out,  axis=0)\n",
    "#aoute = np.average(oute, axis=0)\n"
   ]
  },
  {
   "cell_type": "code",
   "execution_count": null,
   "metadata": {
    "collapsed": false,
    "deletable": true,
    "editable": true
   },
   "outputs": [
    {
     "name": "stdout",
     "output_type": "stream",
     "text": [
      "3 3\n",
      "[[ 0  1  5  9 17 21 22 25 27 32 34 41 47 49 50 53 54 55 56 57 58 63 69 73\n",
      "  76 77 79 80 84 85]\n",
      " [ 0  1  2  4  5  6  7  8 11 14 15 17 19 21 23 24 28 29 31 32 34 35 38 40\n",
      "  42 44 45 46 47 48]\n",
      " [ 0  1  5  7 10 18 19 21 22 24 26 27 28 30 32 33 35 37 38 39 41 43 47 48\n",
      "  49 50 51 56 58 65]\n",
      " [ 0  1  2  3  5 10 13 14 16 17 18 22 23 28 33 35 36 37 38 41 48 51 52 54\n",
      "  56 58 59 69 72 73]\n",
      " [ 0  2  5  6  8  9 10 11 12 14 15 16 19 22 26 28 35 39 42 46 47 49 50 52\n",
      "  54 56 62 63 66 67]]\n",
      "Max_len 145\n",
      "[[ 0  1  5  9 17 21 22 25 27 32 34 41 47 49 50 53 54 55 56 57 58 63 69 73\n",
      "  76 77 79 80 84 85]\n",
      " [ 0  1  2  4  5  6  7  8 11 14 15 17 19 21 23 24 28 29 31 32 34 35 38 40\n",
      "  42 44 45 46 47 48]\n",
      " [ 0  1  5  7 10 18 19 21 22 24 26 27 28 30 32 33 35 37 38 39 41 43 47 48\n",
      "  49 50 51 56 58 65]\n",
      " [ 0  1  2  3  5 10 13 14 16 17 18 22 23 28 33 35 36 37 38 41 48 51 52 54\n",
      "  56 58 59 69 72 73]\n",
      " [ 0  2  5  6  8  9 10 11 12 14 15 16 19 22 26 28 35 39 42 46 47 49 50 52\n",
      "  54 56 62 63 66 67]]\n",
      "Max_len 145\n",
      "[[ 0  1  5  9 17 21 22 25 27 32 34 41 47 49 50 53 54 55 56 57 58 63 69 73\n",
      "  76 77 79 80 84 85]\n",
      " [ 0  1  2  4  5  6  7  8 11 14 15 17 19 21 23 24 28 29 31 32 34 35 38 40\n",
      "  42 44 45 46 47 48]\n",
      " [ 0  1  5  7 10 18 19 21 22 24 26 27 28 30 32 33 35 37 38 39 41 43 47 48\n",
      "  49 50 51 56 58 65]\n",
      " [ 0  1  2  3  5 10 13 14 16 17 18 22 23 28 33 35 36 37 38 41 48 51 52 54\n",
      "  56 58 59 69 72 73]\n",
      " [ 0  2  5  6  8  9 10 11 12 14 15 16 19 22 26 28 35 39 42 46 47 49 50 52\n",
      "  54 56 62 63 66 67]]\n",
      "Max_len 145\n",
      "[[ 0  1  5  9 17 21 22 25 27 32 34 41 47 49 50 53 54 55 56 57 58 63 69 73\n",
      "  76 77 79 80 84 85]\n",
      " [ 0  1  2  4  5  6  7  8 11 14 15 17 19 21 23 24 28 29 31 32 34 35 38 40\n",
      "  42 44 45 46 47 48]\n",
      " [ 0  1  5  7 10 18 19 21 22 24 26 27 28 30 32 33 35 37 38 39 41 43 47 48\n",
      "  49 50 51 56 58 65]\n",
      " [ 0  1  2  3  5 10 13 14 16 17 18 22 23 28 33 35 36 37 38 41 48 51 52 54\n",
      "  56 58 59 69 72 73]\n",
      " [ 0  2  5  6  8  9 10 11 12 14 15 16 19 22 26 28 35 39 42 46 47 49 50 52\n",
      "  54 56 62 63 66 67]]\n",
      "Max_len 145\n",
      "[[ 0  1  5  9 17 21 22 25 27 32 34 41 47 49 50 53 54 55 56 57 58 63 69 73\n",
      "  76 77 79 80 84 85]\n",
      " [ 0  1  2  4  5  6  7  8 11 14 15 17 19 21 23 24 28 29 31 32 34 35 38 40\n",
      "  42 44 45 46 47 48]\n",
      " [ 0  1  5  7 10 18 19 21 22 24 26 27 28 30 32 33 35 37 38 39 41 43 47 48\n",
      "  49 50 51 56 58 65]\n",
      " [ 0  1  2  3  5 10 13 14 16 17 18 22 23 28 33 35 36 37 38 41 48 51 52 54\n",
      "  56 58 59 69 72 73]\n",
      " [ 0  2  5  6  8  9 10 11 12 14 15 16 19 22 26 28 35 39 42 46 47 49 50 52\n",
      "  54 56 62 63 66 67]]\n",
      "Max_len 145\n",
      "[[ 0  1  5  9 17 21 22 25 27 32 34 41 47 49 50 53 54 55 56 57 58 63 69 73\n",
      "  76 77 79 80 84 85]\n",
      " [ 0  1  2  4  5  6  7  8 11 14 15 17 19 21 23 24 28 29 31 32 34 35 38 40\n",
      "  42 44 45 46 47 48]\n",
      " [ 0  1  5  7 10 18 19 21 22 24 26 27 28 30 32 33 35 37 38 39 41 43 47 48\n",
      "  49 50 51 56 58 65]\n",
      " [ 0  1  2  3  5 10 13 14 16 17 18 22 23 28 33 35 36 37 38 41 48 51 52 54\n",
      "  56 58 59 69 72 73]\n",
      " [ 0  2  5  6  8  9 10 11 12 14 15 16 19 22 26 28 35 39 42 46 47 49 50 52\n",
      "  54 56 62 63 66 67]]\n",
      "Max_len 145\n",
      "[[ 0  1  5  9 17 21 22 25 27 32 34 41 47 49 50 53 54 55 56 57 58 63 69 73\n",
      "  76 77 79 80 84 85]\n",
      " [ 0  1  2  4  5  6  7  8 11 14 15 17 19 21 23 24 28 29 31 32 34 35 38 40\n",
      "  42 44 45 46 47 48]\n",
      " [ 0  1  5  7 10 18 19 21 22 24 26 27 28 30 32 33 35 37 38 39 41 43 47 48\n",
      "  49 50 51 56 58 65]\n",
      " [ 0  1  2  3  5 10 13 14 16 17 18 22 23 28 33 35 36 37 38 41 48 51 52 54\n",
      "  56 58 59 69 72 73]\n",
      " [ 0  2  5  6  8  9 10 11 12 14 15 16 19 22 26 28 35 39 42 46 47 49 50 52\n",
      "  54 56 62 63 66 67]]\n",
      "Max_len 145\n",
      "[[ 0  1  5  9 17 21 22 25 27 32 34 41 47 49 50 53 54 55 56 57 58 63 69 73\n",
      "  76 77 79 80 84 85]\n",
      " [ 0  1  2  4  5  6  7  8 11 14 15 17 19 21 23 24 28 29 31 32 34 35 38 40\n",
      "  42 44 45 46 47 48]\n",
      " [ 0  1  5  7 10 18 19 21 22 24 26 27 28 30 32 33 35 37 38 39 41 43 47 48\n",
      "  49 50 51 56 58 65]\n",
      " [ 0  1  2  3  5 10 13 14 16 17 18 22 23 28 33 35 36 37 38 41 48 51 52 54\n",
      "  56 58 59 69 72 73]\n",
      " [ 0  2  5  6  8  9 10 11 12 14 15 16 19 22 26 28 35 39 42 46 47 49 50 52\n",
      "  54 56 62 63 66 67]]\n",
      "Max_len 145\n",
      "[[ 0  1  5  9 17 21 22 25 27 32 34 41 47 49 50 53 54 55 56 57 58 63 69 73\n",
      "  76 77 79 80 84 85]\n",
      " [ 0  1  2  4  5  6  7  8 11 14 15 17 19 21 23 24 28 29 31 32 34 35 38 40\n",
      "  42 44 45 46 47 48]\n",
      " [ 0  1  5  7 10 18 19 21 22 24 26 27 28 30 32 33 35 37 38 39 41 43 47 48\n",
      "  49 50 51 56 58 65]\n",
      " [ 0  1  2  3  5 10 13 14 16 17 18 22 23 28 33 35 36 37 38 41 48 51 52 54\n",
      "  56 58 59 69 72 73]\n",
      " [ 0  2  5  6  8  9 10 11 12 14 15 16 19 22 26 28 35 39 42 46 47 49 50 52\n",
      "  54 56 62 63 66 67]]\n",
      "Max_len 145\n",
      "[[ 0  1  5  9 17 21 22 25 27 32 34 41 47 49 50 53 54 55 56 57 58 63 69 73\n",
      "  76 77 79 80 84 85]\n",
      " [ 0  1  2  4  5  6  7  8 11 14 15 17 19 21 23 24 28 29 31 32 34 35 38 40\n",
      "  42 44 45 46 47 48]\n",
      " [ 0  1  5  7 10 18 19 21 22 24 26 27 28 30 32 33 35 37 38 39 41 43 47 48\n",
      "  49 50 51 56 58 65]\n",
      " [ 0  1  2  3  5 10 13 14 16 17 18 22 23 28 33 35 36 37 38 41 48 51 52 54\n",
      "  56 58 59 69 72 73]\n",
      " [ 0  2  5  6  8  9 10 11 12 14 15 16 19 22 26 28 35 39 42 46 47 49 50 52\n",
      "  54 56 62 63 66 67]]\n",
      "Max_len 145\n",
      "[[ 0  1  5  9 17 21 22 25 27 32 34 41 47 49 50 53 54 55 56 57 58 63 69 73\n",
      "  76 77 79 80 84 85]\n",
      " [ 0  1  2  4  5  6  7  8 11 14 15 17 19 21 23 24 28 29 31 32 34 35 38 40\n",
      "  42 44 45 46 47 48]\n",
      " [ 0  1  5  7 10 18 19 21 22 24 26 27 28 30 32 33 35 37 38 39 41 43 47 48\n",
      "  49 50 51 56 58 65]\n",
      " [ 0  1  2  3  5 10 13 14 16 17 18 22 23 28 33 35 36 37 38 41 48 51 52 54\n",
      "  56 58 59 69 72 73]\n",
      " [ 0  2  5  6  8  9 10 11 12 14 15 16 19 22 26 28 35 39 42 46 47 49 50 52\n",
      "  54 56 62 63 66 67]]\n",
      "Max_len 145\n",
      "[[ 0  1  5  9 17 21 22 25 27 32 34 41 47 49 50 53 54 55 56 57 58 63 69 73\n",
      "  76 77 79 80 84 85]\n",
      " [ 0  1  2  4  5  6  7  8 11 14 15 17 19 21 23 24 28 29 31 32 34 35 38 40\n",
      "  42 44 45 46 47 48]\n",
      " [ 0  1  5  7 10 18 19 21 22 24 26 27 28 30 32 33 35 37 38 39 41 43 47 48\n",
      "  49 50 51 56 58 65]\n",
      " [ 0  1  2  3  5 10 13 14 16 17 18 22 23 28 33 35 36 37 38 41 48 51 52 54\n",
      "  56 58 59 69 72 73]\n",
      " [ 0  2  5  6  8  9 10 11 12 14 15 16 19 22 26 28 35 39 42 46 47 49 50 52\n",
      "  54 56 62 63 66 67]]\n",
      "Max_len 145\n",
      "[[ 0  1  5  9 17 21 22 25 27 32 34 41 47 49 50 53 54 55 56 57 58 63 69 73\n",
      "  76 77 79 80 84 85]\n",
      " [ 0  1  2  4  5  6  7  8 11 14 15 17 19 21 23 24 28 29 31 32 34 35 38 40\n",
      "  42 44 45 46 47 48]\n",
      " [ 0  1  5  7 10 18 19 21 22 24 26 27 28 30 32 33 35 37 38 39 41 43 47 48\n",
      "  49 50 51 56 58 65]\n",
      " [ 0  1  2  3  5 10 13 14 16 17 18 22 23 28 33 35 36 37 38 41 48 51 52 54\n",
      "  56 58 59 69 72 73]\n",
      " [ 0  2  5  6  8  9 10 11 12 14 15 16 19 22 26 28 35 39 42 46 47 49 50 52\n",
      "  54 56 62 63 66 67]]\n",
      "Max_len 145\n",
      "[[ 0  1  5  9 17 21 22 25 27 32 34 41 47 49 50 53 54 55 56 57 58 63 69 73\n",
      "  76 77 79 80 84 85]\n",
      " [ 0  1  2  4  5  6  7  8 11 14 15 17 19 21 23 24 28 29 31 32 34 35 38 40\n",
      "  42 44 45 46 47 48]\n",
      " [ 0  1  5  7 10 18 19 21 22 24 26 27 28 30 32 33 35 37 38 39 41 43 47 48\n",
      "  49 50 51 56 58 65]\n",
      " [ 0  1  2  3  5 10 13 14 16 17 18 22 23 28 33 35 36 37 38 41 48 51 52 54\n",
      "  56 58 59 69 72 73]\n",
      " [ 0  2  5  6  8  9 10 11 12 14 15 16 19 22 26 28 35 39 42 46 47 49 50 52\n",
      "  54 56 62 63 66 67]]\n",
      "Max_len 145\n",
      "[[ 0  1  5  9 17 21 22 25 27 32 34 41 47 49 50 53 54 55 56 57 58 63 69 73\n",
      "  76 77 79 80 84 85]\n",
      " [ 0  1  2  4  5  6  7  8 11 14 15 17 19 21 23 24 28 29 31 32 34 35 38 40\n",
      "  42 44 45 46 47 48]\n",
      " [ 0  1  5  7 10 18 19 21 22 24 26 27 28 30 32 33 35 37 38 39 41 43 47 48\n",
      "  49 50 51 56 58 65]\n",
      " [ 0  1  2  3  5 10 13 14 16 17 18 22 23 28 33 35 36 37 38 41 48 51 52 54\n",
      "  56 58 59 69 72 73]\n",
      " [ 0  2  5  6  8  9 10 11 12 14 15 16 19 22 26 28 35 39 42 46 47 49 50 52\n",
      "  54 56 62 63 66 67]]\n",
      "Max_len 145\n",
      "[[ 0  1  5  9 17 21 22 25 27 32 34 41 47 49 50 53 54 55 56 57 58 63 69 73\n",
      "  76 77 79 80 84 85]\n",
      " [ 0  1  2  4  5  6  7  8 11 14 15 17 19 21 23 24 28 29 31 32 34 35 38 40\n",
      "  42 44 45 46 47 48]\n",
      " [ 0  1  5  7 10 18 19 21 22 24 26 27 28 30 32 33 35 37 38 39 41 43 47 48\n",
      "  49 50 51 56 58 65]\n",
      " [ 0  1  2  3  5 10 13 14 16 17 18 22 23 28 33 35 36 37 38 41 48 51 52 54\n",
      "  56 58 59 69 72 73]\n",
      " [ 0  2  5  6  8  9 10 11 12 14 15 16 19 22 26 28 35 39 42 46 47 49 50 52\n",
      "  54 56 62 63 66 67]]\n",
      "Max_len 145\n",
      "[[ 0  1  5  9 17 21 22 25 27 32 34 41 47 49 50 53 54 55 56 57 58 63 69 73\n",
      "  76 77 79 80 84 85]\n",
      " [ 0  1  2  4  5  6  7  8 11 14 15 17 19 21 23 24 28 29 31 32 34 35 38 40\n",
      "  42 44 45 46 47 48]\n",
      " [ 0  1  5  7 10 18 19 21 22 24 26 27 28 30 32 33 35 37 38 39 41 43 47 48\n",
      "  49 50 51 56 58 65]\n",
      " [ 0  1  2  3  5 10 13 14 16 17 18 22 23 28 33 35 36 37 38 41 48 51 52 54\n",
      "  56 58 59 69 72 73]\n",
      " [ 0  2  5  6  8  9 10 11 12 14 15 16 19 22 26 28 35 39 42 46 47 49 50 52\n",
      "  54 56 62 63 66 67]]\n",
      "Max_len 145\n",
      "[[ 0  1  5  9 17 21 22 25 27 32 34 41 47 49 50 53 54 55 56 57 58 63 69 73\n",
      "  76 77 79 80 84 85]\n",
      " [ 0  1  2  4  5  6  7  8 11 14 15 17 19 21 23 24 28 29 31 32 34 35 38 40\n",
      "  42 44 45 46 47 48]\n",
      " [ 0  1  5  7 10 18 19 21 22 24 26 27 28 30 32 33 35 37 38 39 41 43 47 48\n",
      "  49 50 51 56 58 65]\n",
      " [ 0  1  2  3  5 10 13 14 16 17 18 22 23 28 33 35 36 37 38 41 48 51 52 54\n",
      "  56 58 59 69 72 73]\n",
      " [ 0  2  5  6  8  9 10 11 12 14 15 16 19 22 26 28 35 39 42 46 47 49 50 52\n",
      "  54 56 62 63 66 67]]\n",
      "Max_len 145\n",
      "[[ 0  1  5  9 17 21 22 25 27 32 34 41 47 49 50 53 54 55 56 57 58 63 69 73\n",
      "  76 77 79 80 84 85]\n",
      " [ 0  1  2  4  5  6  7  8 11 14 15 17 19 21 23 24 28 29 31 32 34 35 38 40\n",
      "  42 44 45 46 47 48]\n",
      " [ 0  1  5  7 10 18 19 21 22 24 26 27 28 30 32 33 35 37 38 39 41 43 47 48\n",
      "  49 50 51 56 58 65]\n",
      " [ 0  1  2  3  5 10 13 14 16 17 18 22 23 28 33 35 36 37 38 41 48 51 52 54\n",
      "  56 58 59 69 72 73]\n",
      " [ 0  2  5  6  8  9 10 11 12 14 15 16 19 22 26 28 35 39 42 46 47 49 50 52\n",
      "  54 56 62 63 66 67]]\n",
      "Max_len 145\n",
      "[[ 0  1  5  9 17 21 22 25 27 32 34 41 47 49 50 53 54 55 56 57 58 63 69 73\n",
      "  76 77 79 80 84 85]\n",
      " [ 0  1  2  4  5  6  7  8 11 14 15 17 19 21 23 24 28 29 31 32 34 35 38 40\n",
      "  42 44 45 46 47 48]\n",
      " [ 0  1  5  7 10 18 19 21 22 24 26 27 28 30 32 33 35 37 38 39 41 43 47 48\n",
      "  49 50 51 56 58 65]\n",
      " [ 0  1  2  3  5 10 13 14 16 17 18 22 23 28 33 35 36 37 38 41 48 51 52 54\n",
      "  56 58 59 69 72 73]\n",
      " [ 0  2  5  6  8  9 10 11 12 14 15 16 19 22 26 28 35 39 42 46 47 49 50 52\n",
      "  54 56 62 63 66 67]]\n",
      "Max_len 145\n",
      "[[ 0  1  5  9 17 21 22 25 27 32 34 41 47 49 50 53 54 55 56 57 58 63 69 73\n",
      "  76 77 79 80 84 85]\n",
      " [ 0  1  2  4  5  6  7  8 11 14 15 17 19 21 23 24 28 29 31 32 34 35 38 40\n",
      "  42 44 45 46 47 48]\n",
      " [ 0  1  5  7 10 18 19 21 22 24 26 27 28 30 32 33 35 37 38 39 41 43 47 48\n",
      "  49 50 51 56 58 65]\n",
      " [ 0  1  2  3  5 10 13 14 16 17 18 22 23 28 33 35 36 37 38 41 48 51 52 54\n",
      "  56 58 59 69 72 73]\n",
      " [ 0  2  5  6  8  9 10 11 12 14 15 16 19 22 26 28 35 39 42 46 47 49 50 52\n",
      "  54 56 62 63 66 67]]\n",
      "Max_len 145\n",
      "[[ 0  1  5  9 17 21 22 25 27 32 34 41 47 49 50 53 54 55 56 57 58 63 69 73\n",
      "  76 77 79 80 84 85]\n",
      " [ 0  1  2  4  5  6  7  8 11 14 15 17 19 21 23 24 28 29 31 32 34 35 38 40\n",
      "  42 44 45 46 47 48]\n",
      " [ 0  1  5  7 10 18 19 21 22 24 26 27 28 30 32 33 35 37 38 39 41 43 47 48\n",
      "  49 50 51 56 58 65]\n",
      " [ 0  1  2  3  5 10 13 14 16 17 18 22 23 28 33 35 36 37 38 41 48 51 52 54\n",
      "  56 58 59 69 72 73]\n",
      " [ 0  2  5  6  8  9 10 11 12 14 15 16 19 22 26 28 35 39 42 46 47 49 50 52\n",
      "  54 56 62 63 66 67]]\n",
      "Max_len 145\n",
      "[[ 0  1  5  9 17 21 22 25 27 32 34 41 47 49 50 53 54 55 56 57 58 63 69 73\n",
      "  76 77 79 80 84 85]\n",
      " [ 0  1  2  4  5  6  7  8 11 14 15 17 19 21 23 24 28 29 31 32 34 35 38 40\n",
      "  42 44 45 46 47 48]\n",
      " [ 0  1  5  7 10 18 19 21 22 24 26 27 28 30 32 33 35 37 38 39 41 43 47 48\n",
      "  49 50 51 56 58 65]\n",
      " [ 0  1  2  3  5 10 13 14 16 17 18 22 23 28 33 35 36 37 38 41 48 51 52 54\n",
      "  56 58 59 69 72 73]\n",
      " [ 0  2  5  6  8  9 10 11 12 14 15 16 19 22 26 28 35 39 42 46 47 49 50 52\n",
      "  54 56 62 63 66 67]]\n",
      "Max_len 145\n",
      "[[ 0  1  5  9 17 21 22 25 27 32 34 41 47 49 50 53 54 55 56 57 58 63 69 73\n",
      "  76 77 79 80 84 85]\n",
      " [ 0  1  2  4  5  6  7  8 11 14 15 17 19 21 23 24 28 29 31 32 34 35 38 40\n",
      "  42 44 45 46 47 48]\n",
      " [ 0  1  5  7 10 18 19 21 22 24 26 27 28 30 32 33 35 37 38 39 41 43 47 48\n",
      "  49 50 51 56 58 65]\n",
      " [ 0  1  2  3  5 10 13 14 16 17 18 22 23 28 33 35 36 37 38 41 48 51 52 54\n",
      "  56 58 59 69 72 73]\n",
      " [ 0  2  5  6  8  9 10 11 12 14 15 16 19 22 26 28 35 39 42 46 47 49 50 52\n",
      "  54 56 62 63 66 67]]\n",
      "Max_len 145\n",
      "[[ 0  1  5  9 17 21 22 25 27 32 34 41 47 49 50 53 54 55 56 57 58 63 69 73\n",
      "  76 77 79 80 84 85]\n",
      " [ 0  1  2  4  5  6  7  8 11 14 15 17 19 21 23 24 28 29 31 32 34 35 38 40\n",
      "  42 44 45 46 47 48]\n",
      " [ 0  1  5  7 10 18 19 21 22 24 26 27 28 30 32 33 35 37 38 39 41 43 47 48\n",
      "  49 50 51 56 58 65]\n",
      " [ 0  1  2  3  5 10 13 14 16 17 18 22 23 28 33 35 36 37 38 41 48 51 52 54\n",
      "  56 58 59 69 72 73]\n",
      " [ 0  2  5  6  8  9 10 11 12 14 15 16 19 22 26 28 35 39 42 46 47 49 50 52\n",
      "  54 56 62 63 66 67]]\n",
      "Max_len 145\n",
      "[[ 0  1  5  9 17 21 22 25 27 32 34 41 47 49 50 53 54 55 56 57 58 63 69 73\n",
      "  76 77 79 80 84 85]\n",
      " [ 0  1  2  4  5  6  7  8 11 14 15 17 19 21 23 24 28 29 31 32 34 35 38 40\n",
      "  42 44 45 46 47 48]\n",
      " [ 0  1  5  7 10 18 19 21 22 24 26 27 28 30 32 33 35 37 38 39 41 43 47 48\n",
      "  49 50 51 56 58 65]\n",
      " [ 0  1  2  3  5 10 13 14 16 17 18 22 23 28 33 35 36 37 38 41 48 51 52 54\n",
      "  56 58 59 69 72 73]\n",
      " [ 0  2  5  6  8  9 10 11 12 14 15 16 19 22 26 28 35 39 42 46 47 49 50 52\n",
      "  54 56 62 63 66 67]]\n",
      "Max_len 145\n",
      "[[ 0  1  5  9 17 21 22 25 27 32 34 41 47 49 50 53 54 55 56 57 58 63 69 73\n",
      "  76 77 79 80 84 85]\n",
      " [ 0  1  2  4  5  6  7  8 11 14 15 17 19 21 23 24 28 29 31 32 34 35 38 40\n",
      "  42 44 45 46 47 48]\n",
      " [ 0  1  5  7 10 18 19 21 22 24 26 27 28 30 32 33 35 37 38 39 41 43 47 48\n",
      "  49 50 51 56 58 65]\n",
      " [ 0  1  2  3  5 10 13 14 16 17 18 22 23 28 33 35 36 37 38 41 48 51 52 54\n",
      "  56 58 59 69 72 73]\n",
      " [ 0  2  5  6  8  9 10 11 12 14 15 16 19 22 26 28 35 39 42 46 47 49 50 52\n",
      "  54 56 62 63 66 67]]\n",
      "Max_len 145\n",
      "[[ 0  1  5  9 17 21 22 25 27 32 34 41 47 49 50 53 54 55 56 57 58 63 69 73\n",
      "  76 77 79 80 84 85]\n",
      " [ 0  1  2  4  5  6  7  8 11 14 15 17 19 21 23 24 28 29 31 32 34 35 38 40\n",
      "  42 44 45 46 47 48]\n",
      " [ 0  1  5  7 10 18 19 21 22 24 26 27 28 30 32 33 35 37 38 39 41 43 47 48\n",
      "  49 50 51 56 58 65]\n",
      " [ 0  1  2  3  5 10 13 14 16 17 18 22 23 28 33 35 36 37 38 41 48 51 52 54\n",
      "  56 58 59 69 72 73]\n",
      " [ 0  2  5  6  8  9 10 11 12 14 15 16 19 22 26 28 35 39 42 46 47 49 50 52\n",
      "  54 56 62 63 66 67]]\n",
      "Max_len 145\n",
      "[[ 0  1  5  9 17 21 22 25 27 32 34 41 47 49 50 53 54 55 56 57 58 63 69 73\n",
      "  76 77 79 80 84 85]\n",
      " [ 0  1  2  4  5  6  7  8 11 14 15 17 19 21 23 24 28 29 31 32 34 35 38 40\n",
      "  42 44 45 46 47 48]\n",
      " [ 0  1  5  7 10 18 19 21 22 24 26 27 28 30 32 33 35 37 38 39 41 43 47 48\n",
      "  49 50 51 56 58 65]\n",
      " [ 0  1  2  3  5 10 13 14 16 17 18 22 23 28 33 35 36 37 38 41 48 51 52 54\n",
      "  56 58 59 69 72 73]\n",
      " [ 0  2  5  6  8  9 10 11 12 14 15 16 19 22 26 28 35 39 42 46 47 49 50 52\n",
      "  54 56 62 63 66 67]]\n",
      "Max_len 145\n",
      "[[ 0  1  5  9 17 21 22 25 27 32 34 41 47 49 50 53 54 55 56 57 58 63 69 73\n",
      "  76 77 79 80 84 85]\n",
      " [ 0  1  2  4  5  6  7  8 11 14 15 17 19 21 23 24 28 29 31 32 34 35 38 40\n",
      "  42 44 45 46 47 48]\n",
      " [ 0  1  5  7 10 18 19 21 22 24 26 27 28 30 32 33 35 37 38 39 41 43 47 48\n",
      "  49 50 51 56 58 65]\n",
      " [ 0  1  2  3  5 10 13 14 16 17 18 22 23 28 33 35 36 37 38 41 48 51 52 54\n",
      "  56 58 59 69 72 73]\n",
      " [ 0  2  5  6  8  9 10 11 12 14 15 16 19 22 26 28 35 39 42 46 47 49 50 52\n",
      "  54 56 62 63 66 67]]\n",
      "Max_len 145\n",
      "[[ 0  1  5  9 17 21 22 25 27 32 34 41 47 49 50 53 54 55 56 57 58 63 69 73\n",
      "  76 77 79 80 84 85]\n",
      " [ 0  1  2  4  5  6  7  8 11 14 15 17 19 21 23 24 28 29 31 32 34 35 38 40\n",
      "  42 44 45 46 47 48]\n",
      " [ 0  1  5  7 10 18 19 21 22 24 26 27 28 30 32 33 35 37 38 39 41 43 47 48\n",
      "  49 50 51 56 58 65]\n",
      " [ 0  1  2  3  5 10 13 14 16 17 18 22 23 28 33 35 36 37 38 41 48 51 52 54\n",
      "  56 58 59 69 72 73]\n",
      " [ 0  2  5  6  8  9 10 11 12 14 15 16 19 22 26 28 35 39 42 46 47 49 50 52\n",
      "  54 56 62 63 66 67]]\n",
      "Max_len 145\n",
      "[[ 0  1  5  9 17 21 22 25 27 32 34 41 47 49 50 53 54 55 56 57 58 63 69 73\n",
      "  76 77 79 80 84 85]\n",
      " [ 0  1  2  4  5  6  7  8 11 14 15 17 19 21 23 24 28 29 31 32 34 35 38 40\n",
      "  42 44 45 46 47 48]\n",
      " [ 0  1  5  7 10 18 19 21 22 24 26 27 28 30 32 33 35 37 38 39 41 43 47 48\n",
      "  49 50 51 56 58 65]\n",
      " [ 0  1  2  3  5 10 13 14 16 17 18 22 23 28 33 35 36 37 38 41 48 51 52 54\n",
      "  56 58 59 69 72 73]\n",
      " [ 0  2  5  6  8  9 10 11 12 14 15 16 19 22 26 28 35 39 42 46 47 49 50 52\n",
      "  54 56 62 63 66 67]]\n",
      "Max_len 145\n",
      "[[ 0  1  5  9 17 21 22 25 27 32 34 41 47 49 50 53 54 55 56 57 58 63 69 73\n",
      "  76 77 79 80 84 85]\n",
      " [ 0  1  2  4  5  6  7  8 11 14 15 17 19 21 23 24 28 29 31 32 34 35 38 40\n",
      "  42 44 45 46 47 48]\n",
      " [ 0  1  5  7 10 18 19 21 22 24 26 27 28 30 32 33 35 37 38 39 41 43 47 48\n",
      "  49 50 51 56 58 65]\n",
      " [ 0  1  2  3  5 10 13 14 16 17 18 22 23 28 33 35 36 37 38 41 48 51 52 54\n",
      "  56 58 59 69 72 73]\n",
      " [ 0  2  5  6  8  9 10 11 12 14 15 16 19 22 26 28 35 39 42 46 47 49 50 52\n",
      "  54 56 62 63 66 67]]\n",
      "Max_len 145\n",
      "[[ 0  1  5  9 17 21 22 25 27 32 34 41 47 49 50 53 54 55 56 57 58 63 69 73\n",
      "  76 77 79 80 84 85]\n",
      " [ 0  1  2  4  5  6  7  8 11 14 15 17 19 21 23 24 28 29 31 32 34 35 38 40\n",
      "  42 44 45 46 47 48]\n",
      " [ 0  1  5  7 10 18 19 21 22 24 26 27 28 30 32 33 35 37 38 39 41 43 47 48\n",
      "  49 50 51 56 58 65]\n",
      " [ 0  1  2  3  5 10 13 14 16 17 18 22 23 28 33 35 36 37 38 41 48 51 52 54\n",
      "  56 58 59 69 72 73]\n",
      " [ 0  2  5  6  8  9 10 11 12 14 15 16 19 22 26 28 35 39 42 46 47 49 50 52\n",
      "  54 56 62 63 66 67]]\n",
      "Max_len 145\n",
      "[[ 0  1  5  9 17 21 22 25 27 32 34 41 47 49 50 53 54 55 56 57 58 63 69 73\n",
      "  76 77 79 80 84 85]\n",
      " [ 0  1  2  4  5  6  7  8 11 14 15 17 19 21 23 24 28 29 31 32 34 35 38 40\n",
      "  42 44 45 46 47 48]\n",
      " [ 0  1  5  7 10 18 19 21 22 24 26 27 28 30 32 33 35 37 38 39 41 43 47 48\n",
      "  49 50 51 56 58 65]\n",
      " [ 0  1  2  3  5 10 13 14 16 17 18 22 23 28 33 35 36 37 38 41 48 51 52 54\n",
      "  56 58 59 69 72 73]\n",
      " [ 0  2  5  6  8  9 10 11 12 14 15 16 19 22 26 28 35 39 42 46 47 49 50 52\n",
      "  54 56 62 63 66 67]]\n",
      "Max_len 145\n",
      "[[ 0  1  5  9 17 21 22 25 27 32 34 41 47 49 50 53 54 55 56 57 58 63 69 73\n",
      "  76 77 79 80 84 85]\n",
      " [ 0  1  2  4  5  6  7  8 11 14 15 17 19 21 23 24 28 29 31 32 34 35 38 40\n",
      "  42 44 45 46 47 48]\n",
      " [ 0  1  5  7 10 18 19 21 22 24 26 27 28 30 32 33 35 37 38 39 41 43 47 48\n",
      "  49 50 51 56 58 65]\n",
      " [ 0  1  2  3  5 10 13 14 16 17 18 22 23 28 33 35 36 37 38 41 48 51 52 54\n",
      "  56 58 59 69 72 73]\n",
      " [ 0  2  5  6  8  9 10 11 12 14 15 16 19 22 26 28 35 39 42 46 47 49 50 52\n",
      "  54 56 62 63 66 67]]\n",
      "Max_len 145\n",
      "[[ 0  1  5  9 17 21 22 25 27 32 34 41 47 49 50 53 54 55 56 57 58 63 69 73\n",
      "  76 77 79 80 84 85]\n",
      " [ 0  1  2  4  5  6  7  8 11 14 15 17 19 21 23 24 28 29 31 32 34 35 38 40\n",
      "  42 44 45 46 47 48]\n",
      " [ 0  1  5  7 10 18 19 21 22 24 26 27 28 30 32 33 35 37 38 39 41 43 47 48\n",
      "  49 50 51 56 58 65]\n",
      " [ 0  1  2  3  5 10 13 14 16 17 18 22 23 28 33 35 36 37 38 41 48 51 52 54\n",
      "  56 58 59 69 72 73]\n",
      " [ 0  2  5  6  8  9 10 11 12 14 15 16 19 22 26 28 35 39 42 46 47 49 50 52\n",
      "  54 56 62 63 66 67]]\n",
      "Max_len 145\n",
      "[[ 0  1  5  9 17 21 22 25 27 32 34 41 47 49 50 53 54 55 56 57 58 63 69 73\n",
      "  76 77 79 80 84 85]\n",
      " [ 0  1  2  4  5  6  7  8 11 14 15 17 19 21 23 24 28 29 31 32 34 35 38 40\n",
      "  42 44 45 46 47 48]\n",
      " [ 0  1  5  7 10 18 19 21 22 24 26 27 28 30 32 33 35 37 38 39 41 43 47 48\n",
      "  49 50 51 56 58 65]\n",
      " [ 0  1  2  3  5 10 13 14 16 17 18 22 23 28 33 35 36 37 38 41 48 51 52 54\n",
      "  56 58 59 69 72 73]\n",
      " [ 0  2  5  6  8  9 10 11 12 14 15 16 19 22 26 28 35 39 42 46 47 49 50 52\n",
      "  54 56 62 63 66 67]]\n",
      "Max_len 145\n",
      "[[ 0  1  5  9 17 21 22 25 27 32 34 41 47 49 50 53 54 55 56 57 58 63 69 73\n",
      "  76 77 79 80 84 85]\n",
      " [ 0  1  2  4  5  6  7  8 11 14 15 17 19 21 23 24 28 29 31 32 34 35 38 40\n",
      "  42 44 45 46 47 48]\n",
      " [ 0  1  5  7 10 18 19 21 22 24 26 27 28 30 32 33 35 37 38 39 41 43 47 48\n",
      "  49 50 51 56 58 65]\n",
      " [ 0  1  2  3  5 10 13 14 16 17 18 22 23 28 33 35 36 37 38 41 48 51 52 54\n",
      "  56 58 59 69 72 73]\n",
      " [ 0  2  5  6  8  9 10 11 12 14 15 16 19 22 26 28 35 39 42 46 47 49 50 52\n",
      "  54 56 62 63 66 67]]\n",
      "Max_len 145\n",
      "[[ 0  1  5  9 17 21 22 25 27 32 34 41 47 49 50 53 54 55 56 57 58 63 69 73\n",
      "  76 77 79 80 84 85]\n",
      " [ 0  1  2  4  5  6  7  8 11 14 15 17 19 21 23 24 28 29 31 32 34 35 38 40\n",
      "  42 44 45 46 47 48]\n",
      " [ 0  1  5  7 10 18 19 21 22 24 26 27 28 30 32 33 35 37 38 39 41 43 47 48\n",
      "  49 50 51 56 58 65]\n",
      " [ 0  1  2  3  5 10 13 14 16 17 18 22 23 28 33 35 36 37 38 41 48 51 52 54\n",
      "  56 58 59 69 72 73]\n",
      " [ 0  2  5  6  8  9 10 11 12 14 15 16 19 22 26 28 35 39 42 46 47 49 50 52\n",
      "  54 56 62 63 66 67]]\n",
      "Max_len 145\n",
      "[[ 0  1  5  9 17 21 22 25 27 32 34 41 47 49 50 53 54 55 56 57 58 63 69 73\n",
      "  76 77 79 80 84 85]\n",
      " [ 0  1  2  4  5  6  7  8 11 14 15 17 19 21 23 24 28 29 31 32 34 35 38 40\n",
      "  42 44 45 46 47 48]\n",
      " [ 0  1  5  7 10 18 19 21 22 24 26 27 28 30 32 33 35 37 38 39 41 43 47 48\n",
      "  49 50 51 56 58 65]\n",
      " [ 0  1  2  3  5 10 13 14 16 17 18 22 23 28 33 35 36 37 38 41 48 51 52 54\n",
      "  56 58 59 69 72 73]\n",
      " [ 0  2  5  6  8  9 10 11 12 14 15 16 19 22 26 28 35 39 42 46 47 49 50 52\n",
      "  54 56 62 63 66 67]]\n",
      "Max_len 145\n",
      "[[ 0  1  5  9 17 21 22 25 27 32 34 41 47 49 50 53 54 55 56 57 58 63 69 73\n",
      "  76 77 79 80 84 85]\n",
      " [ 0  1  2  4  5  6  7  8 11 14 15 17 19 21 23 24 28 29 31 32 34 35 38 40\n",
      "  42 44 45 46 47 48]\n",
      " [ 0  1  5  7 10 18 19 21 22 24 26 27 28 30 32 33 35 37 38 39 41 43 47 48\n",
      "  49 50 51 56 58 65]\n",
      " [ 0  1  2  3  5 10 13 14 16 17 18 22 23 28 33 35 36 37 38 41 48 51 52 54\n",
      "  56 58 59 69 72 73]\n",
      " [ 0  2  5  6  8  9 10 11 12 14 15 16 19 22 26 28 35 39 42 46 47 49 50 52\n",
      "  54 56 62 63 66 67]]\n",
      "Max_len 145\n",
      "[[ 0  1  5  9 17 21 22 25 27 32 34 41 47 49 50 53 54 55 56 57 58 63 69 73\n",
      "  76 77 79 80 84 85]\n",
      " [ 0  1  2  4  5  6  7  8 11 14 15 17 19 21 23 24 28 29 31 32 34 35 38 40\n",
      "  42 44 45 46 47 48]\n",
      " [ 0  1  5  7 10 18 19 21 22 24 26 27 28 30 32 33 35 37 38 39 41 43 47 48\n",
      "  49 50 51 56 58 65]\n",
      " [ 0  1  2  3  5 10 13 14 16 17 18 22 23 28 33 35 36 37 38 41 48 51 52 54\n",
      "  56 58 59 69 72 73]\n",
      " [ 0  2  5  6  8  9 10 11 12 14 15 16 19 22 26 28 35 39 42 46 47 49 50 52\n",
      "  54 56 62 63 66 67]]\n",
      "Max_len 145\n",
      "[[ 0  1  5  9 17 21 22 25 27 32 34 41 47 49 50 53 54 55 56 57 58 63 69 73\n",
      "  76 77 79 80 84 85]\n",
      " [ 0  1  2  4  5  6  7  8 11 14 15 17 19 21 23 24 28 29 31 32 34 35 38 40\n",
      "  42 44 45 46 47 48]\n",
      " [ 0  1  5  7 10 18 19 21 22 24 26 27 28 30 32 33 35 37 38 39 41 43 47 48\n",
      "  49 50 51 56 58 65]\n",
      " [ 0  1  2  3  5 10 13 14 16 17 18 22 23 28 33 35 36 37 38 41 48 51 52 54\n",
      "  56 58 59 69 72 73]\n",
      " [ 0  2  5  6  8  9 10 11 12 14 15 16 19 22 26 28 35 39 42 46 47 49 50 52\n",
      "  54 56 62 63 66 67]]\n",
      "Max_len 145\n",
      "[[ 0  1  5  9 17 21 22 25 27 32 34 41 47 49 50 53 54 55 56 57 58 63 69 73\n",
      "  76 77 79 80 84 85]\n",
      " [ 0  1  2  4  5  6  7  8 11 14 15 17 19 21 23 24 28 29 31 32 34 35 38 40\n",
      "  42 44 45 46 47 48]\n",
      " [ 0  1  5  7 10 18 19 21 22 24 26 27 28 30 32 33 35 37 38 39 41 43 47 48\n",
      "  49 50 51 56 58 65]\n",
      " [ 0  1  2  3  5 10 13 14 16 17 18 22 23 28 33 35 36 37 38 41 48 51 52 54\n",
      "  56 58 59 69 72 73]\n",
      " [ 0  2  5  6  8  9 10 11 12 14 15 16 19 22 26 28 35 39 42 46 47 49 50 52\n",
      "  54 56 62 63 66 67]]\n",
      "Max_len 145\n",
      "[[ 0  1  5  9 17 21 22 25 27 32 34 41 47 49 50 53 54 55 56 57 58 63 69 73\n",
      "  76 77 79 80 84 85]\n",
      " [ 0  1  2  4  5  6  7  8 11 14 15 17 19 21 23 24 28 29 31 32 34 35 38 40\n",
      "  42 44 45 46 47 48]\n",
      " [ 0  1  5  7 10 18 19 21 22 24 26 27 28 30 32 33 35 37 38 39 41 43 47 48\n",
      "  49 50 51 56 58 65]\n",
      " [ 0  1  2  3  5 10 13 14 16 17 18 22 23 28 33 35 36 37 38 41 48 51 52 54\n",
      "  56 58 59 69 72 73]\n",
      " [ 0  2  5  6  8  9 10 11 12 14 15 16 19 22 26 28 35 39 42 46 47 49 50 52\n",
      "  54 56 62 63 66 67]]\n",
      "Max_len 145\n",
      "[[ 0  1  5  9 17 21 22 25 27 32 34 41 47 49 50 53 54 55 56 57 58 63 69 73\n",
      "  76 77 79 80 84 85]\n",
      " [ 0  1  2  4  5  6  7  8 11 14 15 17 19 21 23 24 28 29 31 32 34 35 38 40\n",
      "  42 44 45 46 47 48]\n",
      " [ 0  1  5  7 10 18 19 21 22 24 26 27 28 30 32 33 35 37 38 39 41 43 47 48\n",
      "  49 50 51 56 58 65]\n",
      " [ 0  1  2  3  5 10 13 14 16 17 18 22 23 28 33 35 36 37 38 41 48 51 52 54\n",
      "  56 58 59 69 72 73]\n",
      " [ 0  2  5  6  8  9 10 11 12 14 15 16 19 22 26 28 35 39 42 46 47 49 50 52\n",
      "  54 56 62 63 66 67]]\n",
      "Max_len 145\n",
      "[[ 0  1  5  9 17 21 22 25 27 32 34 41 47 49 50 53 54 55 56 57 58 63 69 73\n",
      "  76 77 79 80 84 85]\n",
      " [ 0  1  2  4  5  6  7  8 11 14 15 17 19 21 23 24 28 29 31 32 34 35 38 40\n",
      "  42 44 45 46 47 48]\n",
      " [ 0  1  5  7 10 18 19 21 22 24 26 27 28 30 32 33 35 37 38 39 41 43 47 48\n",
      "  49 50 51 56 58 65]\n",
      " [ 0  1  2  3  5 10 13 14 16 17 18 22 23 28 33 35 36 37 38 41 48 51 52 54\n",
      "  56 58 59 69 72 73]\n",
      " [ 0  2  5  6  8  9 10 11 12 14 15 16 19 22 26 28 35 39 42 46 47 49 50 52\n",
      "  54 56 62 63 66 67]]\n",
      "Max_len 145\n",
      "[[ 0  1  5  9 17 21 22 25 27 32 34 41 47 49 50 53 54 55 56 57 58 63 69 73\n",
      "  76 77 79 80 84 85]\n",
      " [ 0  1  2  4  5  6  7  8 11 14 15 17 19 21 23 24 28 29 31 32 34 35 38 40\n",
      "  42 44 45 46 47 48]\n",
      " [ 0  1  5  7 10 18 19 21 22 24 26 27 28 30 32 33 35 37 38 39 41 43 47 48\n",
      "  49 50 51 56 58 65]\n",
      " [ 0  1  2  3  5 10 13 14 16 17 18 22 23 28 33 35 36 37 38 41 48 51 52 54\n",
      "  56 58 59 69 72 73]\n",
      " [ 0  2  5  6  8  9 10 11 12 14 15 16 19 22 26 28 35 39 42 46 47 49 50 52\n",
      "  54 56 62 63 66 67]]\n",
      "Max_len 145\n",
      "[[ 0  1  5  9 17 21 22 25 27 32 34 41 47 49 50 53 54 55 56 57 58 63 69 73\n",
      "  76 77 79 80 84 85]\n",
      " [ 0  1  2  4  5  6  7  8 11 14 15 17 19 21 23 24 28 29 31 32 34 35 38 40\n",
      "  42 44 45 46 47 48]\n",
      " [ 0  1  5  7 10 18 19 21 22 24 26 27 28 30 32 33 35 37 38 39 41 43 47 48\n",
      "  49 50 51 56 58 65]\n",
      " [ 0  1  2  3  5 10 13 14 16 17 18 22 23 28 33 35 36 37 38 41 48 51 52 54\n",
      "  56 58 59 69 72 73]\n",
      " [ 0  2  5  6  8  9 10 11 12 14 15 16 19 22 26 28 35 39 42 46 47 49 50 52\n",
      "  54 56 62 63 66 67]]\n",
      "Max_len 145\n",
      "[[ 0  1  5  9 17 21 22 25 27 32 34 41 47 49 50 53 54 55 56 57 58 63 69 73\n",
      "  76 77 79 80 84 85]\n",
      " [ 0  1  2  4  5  6  7  8 11 14 15 17 19 21 23 24 28 29 31 32 34 35 38 40\n",
      "  42 44 45 46 47 48]\n",
      " [ 0  1  5  7 10 18 19 21 22 24 26 27 28 30 32 33 35 37 38 39 41 43 47 48\n",
      "  49 50 51 56 58 65]\n",
      " [ 0  1  2  3  5 10 13 14 16 17 18 22 23 28 33 35 36 37 38 41 48 51 52 54\n",
      "  56 58 59 69 72 73]\n",
      " [ 0  2  5  6  8  9 10 11 12 14 15 16 19 22 26 28 35 39 42 46 47 49 50 52\n",
      "  54 56 62 63 66 67]]\n",
      "Max_len 145\n",
      "[[ 0  1  5  9 17 21 22 25 27 32 34 41 47 49 50 53 54 55 56 57 58 63 69 73\n",
      "  76 77 79 80 84 85]\n",
      " [ 0  1  2  4  5  6  7  8 11 14 15 17 19 21 23 24 28 29 31 32 34 35 38 40\n",
      "  42 44 45 46 47 48]\n",
      " [ 0  1  5  7 10 18 19 21 22 24 26 27 28 30 32 33 35 37 38 39 41 43 47 48\n",
      "  49 50 51 56 58 65]\n",
      " [ 0  1  2  3  5 10 13 14 16 17 18 22 23 28 33 35 36 37 38 41 48 51 52 54\n",
      "  56 58 59 69 72 73]\n",
      " [ 0  2  5  6  8  9 10 11 12 14 15 16 19 22 26 28 35 39 42 46 47 49 50 52\n",
      "  54 56 62 63 66 67]]\n",
      "Max_len 145\n",
      "[[ 0  1  5  9 17 21 22 25 27 32 34 41 47 49 50 53 54 55 56 57 58 63 69 73\n",
      "  76 77 79 80 84 85]\n",
      " [ 0  1  2  4  5  6  7  8 11 14 15 17 19 21 23 24 28 29 31 32 34 35 38 40\n",
      "  42 44 45 46 47 48]\n",
      " [ 0  1  5  7 10 18 19 21 22 24 26 27 28 30 32 33 35 37 38 39 41 43 47 48\n",
      "  49 50 51 56 58 65]\n",
      " [ 0  1  2  3  5 10 13 14 16 17 18 22 23 28 33 35 36 37 38 41 48 51 52 54\n",
      "  56 58 59 69 72 73]\n",
      " [ 0  2  5  6  8  9 10 11 12 14 15 16 19 22 26 28 35 39 42 46 47 49 50 52\n",
      "  54 56 62 63 66 67]]\n",
      "Max_len 145\n",
      "[[ 0  1  5  9 17 21 22 25 27 32 34 41 47 49 50 53 54 55 56 57 58 63 69 73\n",
      "  76 77 79 80 84 85]\n",
      " [ 0  1  2  4  5  6  7  8 11 14 15 17 19 21 23 24 28 29 31 32 34 35 38 40\n",
      "  42 44 45 46 47 48]\n",
      " [ 0  1  5  7 10 18 19 21 22 24 26 27 28 30 32 33 35 37 38 39 41 43 47 48\n",
      "  49 50 51 56 58 65]\n",
      " [ 0  1  2  3  5 10 13 14 16 17 18 22 23 28 33 35 36 37 38 41 48 51 52 54\n",
      "  56 58 59 69 72 73]\n",
      " [ 0  2  5  6  8  9 10 11 12 14 15 16 19 22 26 28 35 39 42 46 47 49 50 52\n",
      "  54 56 62 63 66 67]]\n",
      "Max_len 145\n",
      "[[ 0  1  5  9 17 21 22 25 27 32 34 41 47 49 50 53 54 55 56 57 58 63 69 73\n",
      "  76 77 79 80 84 85]\n",
      " [ 0  1  2  4  5  6  7  8 11 14 15 17 19 21 23 24 28 29 31 32 34 35 38 40\n",
      "  42 44 45 46 47 48]\n",
      " [ 0  1  5  7 10 18 19 21 22 24 26 27 28 30 32 33 35 37 38 39 41 43 47 48\n",
      "  49 50 51 56 58 65]\n",
      " [ 0  1  2  3  5 10 13 14 16 17 18 22 23 28 33 35 36 37 38 41 48 51 52 54\n",
      "  56 58 59 69 72 73]\n",
      " [ 0  2  5  6  8  9 10 11 12 14 15 16 19 22 26 28 35 39 42 46 47 49 50 52\n",
      "  54 56 62 63 66 67]]\n",
      "Max_len 145\n",
      "[[ 0  1  5  9 17 21 22 25 27 32 34 41 47 49 50 53 54 55 56 57 58 63 69 73\n",
      "  76 77 79 80 84 85]\n",
      " [ 0  1  2  4  5  6  7  8 11 14 15 17 19 21 23 24 28 29 31 32 34 35 38 40\n",
      "  42 44 45 46 47 48]\n",
      " [ 0  1  5  7 10 18 19 21 22 24 26 27 28 30 32 33 35 37 38 39 41 43 47 48\n",
      "  49 50 51 56 58 65]\n",
      " [ 0  1  2  3  5 10 13 14 16 17 18 22 23 28 33 35 36 37 38 41 48 51 52 54\n",
      "  56 58 59 69 72 73]\n",
      " [ 0  2  5  6  8  9 10 11 12 14 15 16 19 22 26 28 35 39 42 46 47 49 50 52\n",
      "  54 56 62 63 66 67]]\n",
      "Max_len 145\n",
      "[[ 0  1  5  9 17 21 22 25 27 32 34 41 47 49 50 53 54 55 56 57 58 63 69 73\n",
      "  76 77 79 80 84 85]\n",
      " [ 0  1  2  4  5  6  7  8 11 14 15 17 19 21 23 24 28 29 31 32 34 35 38 40\n",
      "  42 44 45 46 47 48]\n",
      " [ 0  1  5  7 10 18 19 21 22 24 26 27 28 30 32 33 35 37 38 39 41 43 47 48\n",
      "  49 50 51 56 58 65]\n",
      " [ 0  1  2  3  5 10 13 14 16 17 18 22 23 28 33 35 36 37 38 41 48 51 52 54\n",
      "  56 58 59 69 72 73]\n",
      " [ 0  2  5  6  8  9 10 11 12 14 15 16 19 22 26 28 35 39 42 46 47 49 50 52\n",
      "  54 56 62 63 66 67]]\n",
      "Max_len 145\n",
      "[[ 0  1  5  9 17 21 22 25 27 32 34 41 47 49 50 53 54 55 56 57 58 63 69 73\n",
      "  76 77 79 80 84 85]\n",
      " [ 0  1  2  4  5  6  7  8 11 14 15 17 19 21 23 24 28 29 31 32 34 35 38 40\n",
      "  42 44 45 46 47 48]\n",
      " [ 0  1  5  7 10 18 19 21 22 24 26 27 28 30 32 33 35 37 38 39 41 43 47 48\n",
      "  49 50 51 56 58 65]\n",
      " [ 0  1  2  3  5 10 13 14 16 17 18 22 23 28 33 35 36 37 38 41 48 51 52 54\n",
      "  56 58 59 69 72 73]\n",
      " [ 0  2  5  6  8  9 10 11 12 14 15 16 19 22 26 28 35 39 42 46 47 49 50 52\n",
      "  54 56 62 63 66 67]]\n",
      "Max_len 145\n",
      "[[ 0  1  5  9 17 21 22 25 27 32 34 41 47 49 50 53 54 55 56 57 58 63 69 73\n",
      "  76 77 79 80 84 85]\n",
      " [ 0  1  2  4  5  6  7  8 11 14 15 17 19 21 23 24 28 29 31 32 34 35 38 40\n",
      "  42 44 45 46 47 48]\n",
      " [ 0  1  5  7 10 18 19 21 22 24 26 27 28 30 32 33 35 37 38 39 41 43 47 48\n",
      "  49 50 51 56 58 65]\n",
      " [ 0  1  2  3  5 10 13 14 16 17 18 22 23 28 33 35 36 37 38 41 48 51 52 54\n",
      "  56 58 59 69 72 73]\n",
      " [ 0  2  5  6  8  9 10 11 12 14 15 16 19 22 26 28 35 39 42 46 47 49 50 52\n",
      "  54 56 62 63 66 67]]\n",
      "Max_len 145\n",
      "[[ 0  1  5  9 17 21 22 25 27 32 34 41 47 49 50 53 54 55 56 57 58 63 69 73\n",
      "  76 77 79 80 84 85]\n",
      " [ 0  1  2  4  5  6  7  8 11 14 15 17 19 21 23 24 28 29 31 32 34 35 38 40\n",
      "  42 44 45 46 47 48]\n",
      " [ 0  1  5  7 10 18 19 21 22 24 26 27 28 30 32 33 35 37 38 39 41 43 47 48\n",
      "  49 50 51 56 58 65]\n",
      " [ 0  1  2  3  5 10 13 14 16 17 18 22 23 28 33 35 36 37 38 41 48 51 52 54\n",
      "  56 58 59 69 72 73]\n",
      " [ 0  2  5  6  8  9 10 11 12 14 15 16 19 22 26 28 35 39 42 46 47 49 50 52\n",
      "  54 56 62 63 66 67]]\n",
      "Max_len 145\n",
      "[[ 0  1  5  9 17 21 22 25 27 32 34 41 47 49 50 53 54 55 56 57 58 63 69 73\n",
      "  76 77 79 80 84 85]\n",
      " [ 0  1  2  4  5  6  7  8 11 14 15 17 19 21 23 24 28 29 31 32 34 35 38 40\n",
      "  42 44 45 46 47 48]\n",
      " [ 0  1  5  7 10 18 19 21 22 24 26 27 28 30 32 33 35 37 38 39 41 43 47 48\n",
      "  49 50 51 56 58 65]\n",
      " [ 0  1  2  3  5 10 13 14 16 17 18 22 23 28 33 35 36 37 38 41 48 51 52 54\n",
      "  56 58 59 69 72 73]\n",
      " [ 0  2  5  6  8  9 10 11 12 14 15 16 19 22 26 28 35 39 42 46 47 49 50 52\n",
      "  54 56 62 63 66 67]]\n",
      "Max_len 145\n",
      "[[ 0  1  5  9 17 21 22 25 27 32 34 41 47 49 50 53 54 55 56 57 58 63 69 73\n",
      "  76 77 79 80 84 85]\n",
      " [ 0  1  2  4  5  6  7  8 11 14 15 17 19 21 23 24 28 29 31 32 34 35 38 40\n",
      "  42 44 45 46 47 48]\n",
      " [ 0  1  5  7 10 18 19 21 22 24 26 27 28 30 32 33 35 37 38 39 41 43 47 48\n",
      "  49 50 51 56 58 65]\n",
      " [ 0  1  2  3  5 10 13 14 16 17 18 22 23 28 33 35 36 37 38 41 48 51 52 54\n",
      "  56 58 59 69 72 73]\n",
      " [ 0  2  5  6  8  9 10 11 12 14 15 16 19 22 26 28 35 39 42 46 47 49 50 52\n",
      "  54 56 62 63 66 67]]\n",
      "Max_len 145\n",
      "[[ 0  1  5  9 17 21 22 25 27 32 34 41 47 49 50 53 54 55 56 57 58 63 69 73\n",
      "  76 77 79 80 84 85]\n",
      " [ 0  1  2  4  5  6  7  8 11 14 15 17 19 21 23 24 28 29 31 32 34 35 38 40\n",
      "  42 44 45 46 47 48]\n",
      " [ 0  1  5  7 10 18 19 21 22 24 26 27 28 30 32 33 35 37 38 39 41 43 47 48\n",
      "  49 50 51 56 58 65]\n",
      " [ 0  1  2  3  5 10 13 14 16 17 18 22 23 28 33 35 36 37 38 41 48 51 52 54\n",
      "  56 58 59 69 72 73]\n",
      " [ 0  2  5  6  8  9 10 11 12 14 15 16 19 22 26 28 35 39 42 46 47 49 50 52\n",
      "  54 56 62 63 66 67]]\n",
      "Max_len 145\n",
      "[[ 0  1  5  9 17 21 22 25 27 32 34 41 47 49 50 53 54 55 56 57 58 63 69 73\n",
      "  76 77 79 80 84 85]\n",
      " [ 0  1  2  4  5  6  7  8 11 14 15 17 19 21 23 24 28 29 31 32 34 35 38 40\n",
      "  42 44 45 46 47 48]\n",
      " [ 0  1  5  7 10 18 19 21 22 24 26 27 28 30 32 33 35 37 38 39 41 43 47 48\n",
      "  49 50 51 56 58 65]\n",
      " [ 0  1  2  3  5 10 13 14 16 17 18 22 23 28 33 35 36 37 38 41 48 51 52 54\n",
      "  56 58 59 69 72 73]\n",
      " [ 0  2  5  6  8  9 10 11 12 14 15 16 19 22 26 28 35 39 42 46 47 49 50 52\n",
      "  54 56 62 63 66 67]]\n",
      "Max_len 145\n",
      "[[ 0  1  5  9 17 21 22 25 27 32 34 41 47 49 50 53 54 55 56 57 58 63 69 73\n",
      "  76 77 79 80 84 85]\n",
      " [ 0  1  2  4  5  6  7  8 11 14 15 17 19 21 23 24 28 29 31 32 34 35 38 40\n",
      "  42 44 45 46 47 48]\n",
      " [ 0  1  5  7 10 18 19 21 22 24 26 27 28 30 32 33 35 37 38 39 41 43 47 48\n",
      "  49 50 51 56 58 65]\n",
      " [ 0  1  2  3  5 10 13 14 16 17 18 22 23 28 33 35 36 37 38 41 48 51 52 54\n",
      "  56 58 59 69 72 73]\n",
      " [ 0  2  5  6  8  9 10 11 12 14 15 16 19 22 26 28 35 39 42 46 47 49 50 52\n",
      "  54 56 62 63 66 67]]\n",
      "Max_len 145\n",
      "[[ 0  1  5  9 17 21 22 25 27 32 34 41 47 49 50 53 54 55 56 57 58 63 69 73\n",
      "  76 77 79 80 84 85]\n",
      " [ 0  1  2  4  5  6  7  8 11 14 15 17 19 21 23 24 28 29 31 32 34 35 38 40\n",
      "  42 44 45 46 47 48]\n",
      " [ 0  1  5  7 10 18 19 21 22 24 26 27 28 30 32 33 35 37 38 39 41 43 47 48\n",
      "  49 50 51 56 58 65]\n",
      " [ 0  1  2  3  5 10 13 14 16 17 18 22 23 28 33 35 36 37 38 41 48 51 52 54\n",
      "  56 58 59 69 72 73]\n",
      " [ 0  2  5  6  8  9 10 11 12 14 15 16 19 22 26 28 35 39 42 46 47 49 50 52\n",
      "  54 56 62 63 66 67]]\n",
      "Max_len 145\n",
      "[[ 0  1  5  9 17 21 22 25 27 32 34 41 47 49 50 53 54 55 56 57 58 63 69 73\n",
      "  76 77 79 80 84 85]\n",
      " [ 0  1  2  4  5  6  7  8 11 14 15 17 19 21 23 24 28 29 31 32 34 35 38 40\n",
      "  42 44 45 46 47 48]\n",
      " [ 0  1  5  7 10 18 19 21 22 24 26 27 28 30 32 33 35 37 38 39 41 43 47 48\n",
      "  49 50 51 56 58 65]\n",
      " [ 0  1  2  3  5 10 13 14 16 17 18 22 23 28 33 35 36 37 38 41 48 51 52 54\n",
      "  56 58 59 69 72 73]\n",
      " [ 0  2  5  6  8  9 10 11 12 14 15 16 19 22 26 28 35 39 42 46 47 49 50 52\n",
      "  54 56 62 63 66 67]]\n",
      "Max_len 145\n",
      "[[ 0  1  5  9 17 21 22 25 27 32 34 41 47 49 50 53 54 55 56 57 58 63 69 73\n",
      "  76 77 79 80 84 85]\n",
      " [ 0  1  2  4  5  6  7  8 11 14 15 17 19 21 23 24 28 29 31 32 34 35 38 40\n",
      "  42 44 45 46 47 48]\n",
      " [ 0  1  5  7 10 18 19 21 22 24 26 27 28 30 32 33 35 37 38 39 41 43 47 48\n",
      "  49 50 51 56 58 65]\n",
      " [ 0  1  2  3  5 10 13 14 16 17 18 22 23 28 33 35 36 37 38 41 48 51 52 54\n",
      "  56 58 59 69 72 73]\n",
      " [ 0  2  5  6  8  9 10 11 12 14 15 16 19 22 26 28 35 39 42 46 47 49 50 52\n",
      "  54 56 62 63 66 67]]\n",
      "Max_len 145\n",
      "[[ 0  1  5  9 17 21 22 25 27 32 34 41 47 49 50 53 54 55 56 57 58 63 69 73\n",
      "  76 77 79 80 84 85]\n",
      " [ 0  1  2  4  5  6  7  8 11 14 15 17 19 21 23 24 28 29 31 32 34 35 38 40\n",
      "  42 44 45 46 47 48]\n",
      " [ 0  1  5  7 10 18 19 21 22 24 26 27 28 30 32 33 35 37 38 39 41 43 47 48\n",
      "  49 50 51 56 58 65]\n",
      " [ 0  1  2  3  5 10 13 14 16 17 18 22 23 28 33 35 36 37 38 41 48 51 52 54\n",
      "  56 58 59 69 72 73]\n",
      " [ 0  2  5  6  8  9 10 11 12 14 15 16 19 22 26 28 35 39 42 46 47 49 50 52\n",
      "  54 56 62 63 66 67]]\n",
      "Max_len 145\n",
      "[[ 0  1  5  9 17 21 22 25 27 32 34 41 47 49 50 53 54 55 56 57 58 63 69 73\n",
      "  76 77 79 80 84 85]\n",
      " [ 0  1  2  4  5  6  7  8 11 14 15 17 19 21 23 24 28 29 31 32 34 35 38 40\n",
      "  42 44 45 46 47 48]\n",
      " [ 0  1  5  7 10 18 19 21 22 24 26 27 28 30 32 33 35 37 38 39 41 43 47 48\n",
      "  49 50 51 56 58 65]\n",
      " [ 0  1  2  3  5 10 13 14 16 17 18 22 23 28 33 35 36 37 38 41 48 51 52 54\n",
      "  56 58 59 69 72 73]\n",
      " [ 0  2  5  6  8  9 10 11 12 14 15 16 19 22 26 28 35 39 42 46 47 49 50 52\n",
      "  54 56 62 63 66 67]]\n",
      "Max_len 145\n",
      "[[ 0  1  5  9 17 21 22 25 27 32 34 41 47 49 50 53 54 55 56 57 58 63 69 73\n",
      "  76 77 79 80 84 85]\n",
      " [ 0  1  2  4  5  6  7  8 11 14 15 17 19 21 23 24 28 29 31 32 34 35 38 40\n",
      "  42 44 45 46 47 48]\n",
      " [ 0  1  5  7 10 18 19 21 22 24 26 27 28 30 32 33 35 37 38 39 41 43 47 48\n",
      "  49 50 51 56 58 65]\n",
      " [ 0  1  2  3  5 10 13 14 16 17 18 22 23 28 33 35 36 37 38 41 48 51 52 54\n",
      "  56 58 59 69 72 73]\n",
      " [ 0  2  5  6  8  9 10 11 12 14 15 16 19 22 26 28 35 39 42 46 47 49 50 52\n",
      "  54 56 62 63 66 67]]\n",
      "Max_len 145\n",
      "[[ 0  1  5  9 17 21 22 25 27 32 34 41 47 49 50 53 54 55 56 57 58 63 69 73\n",
      "  76 77 79 80 84 85]\n",
      " [ 0  1  2  4  5  6  7  8 11 14 15 17 19 21 23 24 28 29 31 32 34 35 38 40\n",
      "  42 44 45 46 47 48]\n",
      " [ 0  1  5  7 10 18 19 21 22 24 26 27 28 30 32 33 35 37 38 39 41 43 47 48\n",
      "  49 50 51 56 58 65]\n",
      " [ 0  1  2  3  5 10 13 14 16 17 18 22 23 28 33 35 36 37 38 41 48 51 52 54\n",
      "  56 58 59 69 72 73]\n",
      " [ 0  2  5  6  8  9 10 11 12 14 15 16 19 22 26 28 35 39 42 46 47 49 50 52\n",
      "  54 56 62 63 66 67]]\n",
      "Max_len 145\n",
      "[[ 0  1  5  9 17 21 22 25 27 32 34 41 47 49 50 53 54 55 56 57 58 63 69 73\n",
      "  76 77 79 80 84 85]\n",
      " [ 0  1  2  4  5  6  7  8 11 14 15 17 19 21 23 24 28 29 31 32 34 35 38 40\n",
      "  42 44 45 46 47 48]\n",
      " [ 0  1  5  7 10 18 19 21 22 24 26 27 28 30 32 33 35 37 38 39 41 43 47 48\n",
      "  49 50 51 56 58 65]\n",
      " [ 0  1  2  3  5 10 13 14 16 17 18 22 23 28 33 35 36 37 38 41 48 51 52 54\n",
      "  56 58 59 69 72 73]\n",
      " [ 0  2  5  6  8  9 10 11 12 14 15 16 19 22 26 28 35 39 42 46 47 49 50 52\n",
      "  54 56 62 63 66 67]]\n",
      "Max_len 145\n",
      "[[ 0  1  5  9 17 21 22 25 27 32 34 41 47 49 50 53 54 55 56 57 58 63 69 73\n",
      "  76 77 79 80 84 85]\n",
      " [ 0  1  2  4  5  6  7  8 11 14 15 17 19 21 23 24 28 29 31 32 34 35 38 40\n",
      "  42 44 45 46 47 48]\n",
      " [ 0  1  5  7 10 18 19 21 22 24 26 27 28 30 32 33 35 37 38 39 41 43 47 48\n",
      "  49 50 51 56 58 65]\n",
      " [ 0  1  2  3  5 10 13 14 16 17 18 22 23 28 33 35 36 37 38 41 48 51 52 54\n",
      "  56 58 59 69 72 73]\n",
      " [ 0  2  5  6  8  9 10 11 12 14 15 16 19 22 26 28 35 39 42 46 47 49 50 52\n",
      "  54 56 62 63 66 67]]\n",
      "Max_len 145\n",
      "[[ 0  1  5  9 17 21 22 25 27 32 34 41 47 49 50 53 54 55 56 57 58 63 69 73\n",
      "  76 77 79 80 84 85]\n",
      " [ 0  1  2  4  5  6  7  8 11 14 15 17 19 21 23 24 28 29 31 32 34 35 38 40\n",
      "  42 44 45 46 47 48]\n",
      " [ 0  1  5  7 10 18 19 21 22 24 26 27 28 30 32 33 35 37 38 39 41 43 47 48\n",
      "  49 50 51 56 58 65]\n",
      " [ 0  1  2  3  5 10 13 14 16 17 18 22 23 28 33 35 36 37 38 41 48 51 52 54\n",
      "  56 58 59 69 72 73]\n",
      " [ 0  2  5  6  8  9 10 11 12 14 15 16 19 22 26 28 35 39 42 46 47 49 50 52\n",
      "  54 56 62 63 66 67]]\n",
      "Max_len 145\n",
      "[[ 0  1  5  9 17 21 22 25 27 32 34 41 47 49 50 53 54 55 56 57 58 63 69 73\n",
      "  76 77 79 80 84 85]\n",
      " [ 0  1  2  4  5  6  7  8 11 14 15 17 19 21 23 24 28 29 31 32 34 35 38 40\n",
      "  42 44 45 46 47 48]\n",
      " [ 0  1  5  7 10 18 19 21 22 24 26 27 28 30 32 33 35 37 38 39 41 43 47 48\n",
      "  49 50 51 56 58 65]\n",
      " [ 0  1  2  3  5 10 13 14 16 17 18 22 23 28 33 35 36 37 38 41 48 51 52 54\n",
      "  56 58 59 69 72 73]\n",
      " [ 0  2  5  6  8  9 10 11 12 14 15 16 19 22 26 28 35 39 42 46 47 49 50 52\n",
      "  54 56 62 63 66 67]]\n",
      "Max_len 145\n",
      "[[ 0  1  5  9 17 21 22 25 27 32 34 41 47 49 50 53 54 55 56 57 58 63 69 73\n",
      "  76 77 79 80 84 85]\n",
      " [ 0  1  2  4  5  6  7  8 11 14 15 17 19 21 23 24 28 29 31 32 34 35 38 40\n",
      "  42 44 45 46 47 48]\n",
      " [ 0  1  5  7 10 18 19 21 22 24 26 27 28 30 32 33 35 37 38 39 41 43 47 48\n",
      "  49 50 51 56 58 65]\n",
      " [ 0  1  2  3  5 10 13 14 16 17 18 22 23 28 33 35 36 37 38 41 48 51 52 54\n",
      "  56 58 59 69 72 73]\n",
      " [ 0  2  5  6  8  9 10 11 12 14 15 16 19 22 26 28 35 39 42 46 47 49 50 52\n",
      "  54 56 62 63 66 67]]\n",
      "Max_len 145\n",
      "[[ 0  1  5  9 17 21 22 25 27 32 34 41 47 49 50 53 54 55 56 57 58 63 69 73\n",
      "  76 77 79 80 84 85]\n",
      " [ 0  1  2  4  5  6  7  8 11 14 15 17 19 21 23 24 28 29 31 32 34 35 38 40\n",
      "  42 44 45 46 47 48]\n",
      " [ 0  1  5  7 10 18 19 21 22 24 26 27 28 30 32 33 35 37 38 39 41 43 47 48\n",
      "  49 50 51 56 58 65]\n",
      " [ 0  1  2  3  5 10 13 14 16 17 18 22 23 28 33 35 36 37 38 41 48 51 52 54\n",
      "  56 58 59 69 72 73]\n",
      " [ 0  2  5  6  8  9 10 11 12 14 15 16 19 22 26 28 35 39 42 46 47 49 50 52\n",
      "  54 56 62 63 66 67]]\n",
      "Max_len 145\n",
      "[[ 0  1  5  9 17 21 22 25 27 32 34 41 47 49 50 53 54 55 56 57 58 63 69 73\n",
      "  76 77 79 80 84 85]\n",
      " [ 0  1  2  4  5  6  7  8 11 14 15 17 19 21 23 24 28 29 31 32 34 35 38 40\n",
      "  42 44 45 46 47 48]\n",
      " [ 0  1  5  7 10 18 19 21 22 24 26 27 28 30 32 33 35 37 38 39 41 43 47 48\n",
      "  49 50 51 56 58 65]\n",
      " [ 0  1  2  3  5 10 13 14 16 17 18 22 23 28 33 35 36 37 38 41 48 51 52 54\n",
      "  56 58 59 69 72 73]\n",
      " [ 0  2  5  6  8  9 10 11 12 14 15 16 19 22 26 28 35 39 42 46 47 49 50 52\n",
      "  54 56 62 63 66 67]]\n",
      "Max_len 145\n",
      "[[ 0  1  5  9 17 21 22 25 27 32 34 41 47 49 50 53 54 55 56 57 58 63 69 73\n",
      "  76 77 79 80 84 85]\n",
      " [ 0  1  2  4  5  6  7  8 11 14 15 17 19 21 23 24 28 29 31 32 34 35 38 40\n",
      "  42 44 45 46 47 48]\n",
      " [ 0  1  5  7 10 18 19 21 22 24 26 27 28 30 32 33 35 37 38 39 41 43 47 48\n",
      "  49 50 51 56 58 65]\n",
      " [ 0  1  2  3  5 10 13 14 16 17 18 22 23 28 33 35 36 37 38 41 48 51 52 54\n",
      "  56 58 59 69 72 73]\n",
      " [ 0  2  5  6  8  9 10 11 12 14 15 16 19 22 26 28 35 39 42 46 47 49 50 52\n",
      "  54 56 62 63 66 67]]\n",
      "Max_len 145\n",
      "[[ 0  1  5  9 17 21 22 25 27 32 34 41 47 49 50 53 54 55 56 57 58 63 69 73\n",
      "  76 77 79 80 84 85]\n",
      " [ 0  1  2  4  5  6  7  8 11 14 15 17 19 21 23 24 28 29 31 32 34 35 38 40\n",
      "  42 44 45 46 47 48]\n",
      " [ 0  1  5  7 10 18 19 21 22 24 26 27 28 30 32 33 35 37 38 39 41 43 47 48\n",
      "  49 50 51 56 58 65]\n",
      " [ 0  1  2  3  5 10 13 14 16 17 18 22 23 28 33 35 36 37 38 41 48 51 52 54\n",
      "  56 58 59 69 72 73]\n",
      " [ 0  2  5  6  8  9 10 11 12 14 15 16 19 22 26 28 35 39 42 46 47 49 50 52\n",
      "  54 56 62 63 66 67]]\n",
      "Max_len 145\n",
      "[[ 0  1  5  9 17 21 22 25 27 32 34 41 47 49 50 53 54 55 56 57 58 63 69 73\n",
      "  76 77 79 80 84 85]\n",
      " [ 0  1  2  4  5  6  7  8 11 14 15 17 19 21 23 24 28 29 31 32 34 35 38 40\n",
      "  42 44 45 46 47 48]\n",
      " [ 0  1  5  7 10 18 19 21 22 24 26 27 28 30 32 33 35 37 38 39 41 43 47 48\n",
      "  49 50 51 56 58 65]\n",
      " [ 0  1  2  3  5 10 13 14 16 17 18 22 23 28 33 35 36 37 38 41 48 51 52 54\n",
      "  56 58 59 69 72 73]\n",
      " [ 0  2  5  6  8  9 10 11 12 14 15 16 19 22 26 28 35 39 42 46 47 49 50 52\n",
      "  54 56 62 63 66 67]]\n",
      "Max_len 145\n",
      "[[ 0  1  5  9 17 21 22 25 27 32 34 41 47 49 50 53 54 55 56 57 58 63 69 73\n",
      "  76 77 79 80 84 85]\n",
      " [ 0  1  2  4  5  6  7  8 11 14 15 17 19 21 23 24 28 29 31 32 34 35 38 40\n",
      "  42 44 45 46 47 48]\n",
      " [ 0  1  5  7 10 18 19 21 22 24 26 27 28 30 32 33 35 37 38 39 41 43 47 48\n",
      "  49 50 51 56 58 65]\n",
      " [ 0  1  2  3  5 10 13 14 16 17 18 22 23 28 33 35 36 37 38 41 48 51 52 54\n",
      "  56 58 59 69 72 73]\n",
      " [ 0  2  5  6  8  9 10 11 12 14 15 16 19 22 26 28 35 39 42 46 47 49 50 52\n",
      "  54 56 62 63 66 67]]\n",
      "Max_len 145\n",
      "[[ 0  1  5  9 17 21 22 25 27 32 34 41 47 49 50 53 54 55 56 57 58 63 69 73\n",
      "  76 77 79 80 84 85]\n",
      " [ 0  1  2  4  5  6  7  8 11 14 15 17 19 21 23 24 28 29 31 32 34 35 38 40\n",
      "  42 44 45 46 47 48]\n",
      " [ 0  1  5  7 10 18 19 21 22 24 26 27 28 30 32 33 35 37 38 39 41 43 47 48\n",
      "  49 50 51 56 58 65]\n",
      " [ 0  1  2  3  5 10 13 14 16 17 18 22 23 28 33 35 36 37 38 41 48 51 52 54\n",
      "  56 58 59 69 72 73]\n",
      " [ 0  2  5  6  8  9 10 11 12 14 15 16 19 22 26 28 35 39 42 46 47 49 50 52\n",
      "  54 56 62 63 66 67]]\n",
      "Max_len 145\n",
      "[[ 0  1  5  9 17 21 22 25 27 32 34 41 47 49 50 53 54 55 56 57 58 63 69 73\n",
      "  76 77 79 80 84 85]\n",
      " [ 0  1  2  4  5  6  7  8 11 14 15 17 19 21 23 24 28 29 31 32 34 35 38 40\n",
      "  42 44 45 46 47 48]\n",
      " [ 0  1  5  7 10 18 19 21 22 24 26 27 28 30 32 33 35 37 38 39 41 43 47 48\n",
      "  49 50 51 56 58 65]\n",
      " [ 0  1  2  3  5 10 13 14 16 17 18 22 23 28 33 35 36 37 38 41 48 51 52 54\n",
      "  56 58 59 69 72 73]\n",
      " [ 0  2  5  6  8  9 10 11 12 14 15 16 19 22 26 28 35 39 42 46 47 49 50 52\n",
      "  54 56 62 63 66 67]]\n",
      "Max_len 145\n",
      "[[ 0  1  5  9 17 21 22 25 27 32 34 41 47 49 50 53 54 55 56 57 58 63 69 73\n",
      "  76 77 79 80 84 85]\n",
      " [ 0  1  2  4  5  6  7  8 11 14 15 17 19 21 23 24 28 29 31 32 34 35 38 40\n",
      "  42 44 45 46 47 48]\n",
      " [ 0  1  5  7 10 18 19 21 22 24 26 27 28 30 32 33 35 37 38 39 41 43 47 48\n",
      "  49 50 51 56 58 65]\n",
      " [ 0  1  2  3  5 10 13 14 16 17 18 22 23 28 33 35 36 37 38 41 48 51 52 54\n",
      "  56 58 59 69 72 73]\n",
      " [ 0  2  5  6  8  9 10 11 12 14 15 16 19 22 26 28 35 39 42 46 47 49 50 52\n",
      "  54 56 62 63 66 67]]\n",
      "Max_len 145\n",
      "[[ 0  1  5  9 17 21 22 25 27 32 34 41 47 49 50 53 54 55 56 57 58 63 69 73\n",
      "  76 77 79 80 84 85]\n",
      " [ 0  1  2  4  5  6  7  8 11 14 15 17 19 21 23 24 28 29 31 32 34 35 38 40\n",
      "  42 44 45 46 47 48]\n",
      " [ 0  1  5  7 10 18 19 21 22 24 26 27 28 30 32 33 35 37 38 39 41 43 47 48\n",
      "  49 50 51 56 58 65]\n",
      " [ 0  1  2  3  5 10 13 14 16 17 18 22 23 28 33 35 36 37 38 41 48 51 52 54\n",
      "  56 58 59 69 72 73]\n",
      " [ 0  2  5  6  8  9 10 11 12 14 15 16 19 22 26 28 35 39 42 46 47 49 50 52\n",
      "  54 56 62 63 66 67]]\n",
      "Max_len 145\n",
      "[[ 0  1  5  9 17 21 22 25 27 32 34 41 47 49 50 53 54 55 56 57 58 63 69 73\n",
      "  76 77 79 80 84 85]\n",
      " [ 0  1  2  4  5  6  7  8 11 14 15 17 19 21 23 24 28 29 31 32 34 35 38 40\n",
      "  42 44 45 46 47 48]\n",
      " [ 0  1  5  7 10 18 19 21 22 24 26 27 28 30 32 33 35 37 38 39 41 43 47 48\n",
      "  49 50 51 56 58 65]\n",
      " [ 0  1  2  3  5 10 13 14 16 17 18 22 23 28 33 35 36 37 38 41 48 51 52 54\n",
      "  56 58 59 69 72 73]\n",
      " [ 0  2  5  6  8  9 10 11 12 14 15 16 19 22 26 28 35 39 42 46 47 49 50 52\n",
      "  54 56 62 63 66 67]]\n",
      "Max_len 145\n",
      "[[ 0  1  5  9 17 21 22 25 27 32 34 41 47 49 50 53 54 55 56 57 58 63 69 73\n",
      "  76 77 79 80 84 85]\n",
      " [ 0  1  2  4  5  6  7  8 11 14 15 17 19 21 23 24 28 29 31 32 34 35 38 40\n",
      "  42 44 45 46 47 48]\n",
      " [ 0  1  5  7 10 18 19 21 22 24 26 27 28 30 32 33 35 37 38 39 41 43 47 48\n",
      "  49 50 51 56 58 65]\n",
      " [ 0  1  2  3  5 10 13 14 16 17 18 22 23 28 33 35 36 37 38 41 48 51 52 54\n",
      "  56 58 59 69 72 73]\n",
      " [ 0  2  5  6  8  9 10 11 12 14 15 16 19 22 26 28 35 39 42 46 47 49 50 52\n",
      "  54 56 62 63 66 67]]\n",
      "Max_len 145\n",
      "[[ 0  1  5  9 17 21 22 25 27 32 34 41 47 49 50 53 54 55 56 57 58 63 69 73\n",
      "  76 77 79 80 84 85]\n",
      " [ 0  1  2  4  5  6  7  8 11 14 15 17 19 21 23 24 28 29 31 32 34 35 38 40\n",
      "  42 44 45 46 47 48]\n",
      " [ 0  1  5  7 10 18 19 21 22 24 26 27 28 30 32 33 35 37 38 39 41 43 47 48\n",
      "  49 50 51 56 58 65]\n",
      " [ 0  1  2  3  5 10 13 14 16 17 18 22 23 28 33 35 36 37 38 41 48 51 52 54\n",
      "  56 58 59 69 72 73]\n",
      " [ 0  2  5  6  8  9 10 11 12 14 15 16 19 22 26 28 35 39 42 46 47 49 50 52\n",
      "  54 56 62 63 66 67]]\n",
      "Max_len 145\n",
      "[[ 0  1  5  9 17 21 22 25 27 32 34 41 47 49 50 53 54 55 56 57 58 63 69 73\n",
      "  76 77 79 80 84 85]\n",
      " [ 0  1  2  4  5  6  7  8 11 14 15 17 19 21 23 24 28 29 31 32 34 35 38 40\n",
      "  42 44 45 46 47 48]\n",
      " [ 0  1  5  7 10 18 19 21 22 24 26 27 28 30 32 33 35 37 38 39 41 43 47 48\n",
      "  49 50 51 56 58 65]\n",
      " [ 0  1  2  3  5 10 13 14 16 17 18 22 23 28 33 35 36 37 38 41 48 51 52 54\n",
      "  56 58 59 69 72 73]\n",
      " [ 0  2  5  6  8  9 10 11 12 14 15 16 19 22 26 28 35 39 42 46 47 49 50 52\n",
      "  54 56 62 63 66 67]]\n",
      "Max_len 145\n",
      "[[ 0  1  5  9 17 21 22 25 27 32 34 41 47 49 50 53 54 55 56 57 58 63 69 73\n",
      "  76 77 79 80 84 85]\n",
      " [ 0  1  2  4  5  6  7  8 11 14 15 17 19 21 23 24 28 29 31 32 34 35 38 40\n",
      "  42 44 45 46 47 48]\n",
      " [ 0  1  5  7 10 18 19 21 22 24 26 27 28 30 32 33 35 37 38 39 41 43 47 48\n",
      "  49 50 51 56 58 65]\n",
      " [ 0  1  2  3  5 10 13 14 16 17 18 22 23 28 33 35 36 37 38 41 48 51 52 54\n",
      "  56 58 59 69 72 73]\n",
      " [ 0  2  5  6  8  9 10 11 12 14 15 16 19 22 26 28 35 39 42 46 47 49 50 52\n",
      "  54 56 62 63 66 67]]\n",
      "Max_len 145\n",
      "[[ 0  1  5  9 17 21 22 25 27 32 34 41 47 49 50 53 54 55 56 57 58 63 69 73\n",
      "  76 77 79 80 84 85]\n",
      " [ 0  1  2  4  5  6  7  8 11 14 15 17 19 21 23 24 28 29 31 32 34 35 38 40\n",
      "  42 44 45 46 47 48]\n",
      " [ 0  1  5  7 10 18 19 21 22 24 26 27 28 30 32 33 35 37 38 39 41 43 47 48\n",
      "  49 50 51 56 58 65]\n",
      " [ 0  1  2  3  5 10 13 14 16 17 18 22 23 28 33 35 36 37 38 41 48 51 52 54\n",
      "  56 58 59 69 72 73]\n",
      " [ 0  2  5  6  8  9 10 11 12 14 15 16 19 22 26 28 35 39 42 46 47 49 50 52\n",
      "  54 56 62 63 66 67]]\n",
      "Max_len 145\n",
      "[[ 0  1  5  9 17 21 22 25 27 32 34 41 47 49 50 53 54 55 56 57 58 63 69 73\n",
      "  76 77 79 80 84 85]\n",
      " [ 0  1  2  4  5  6  7  8 11 14 15 17 19 21 23 24 28 29 31 32 34 35 38 40\n",
      "  42 44 45 46 47 48]\n",
      " [ 0  1  5  7 10 18 19 21 22 24 26 27 28 30 32 33 35 37 38 39 41 43 47 48\n",
      "  49 50 51 56 58 65]\n",
      " [ 0  1  2  3  5 10 13 14 16 17 18 22 23 28 33 35 36 37 38 41 48 51 52 54\n",
      "  56 58 59 69 72 73]\n",
      " [ 0  2  5  6  8  9 10 11 12 14 15 16 19 22 26 28 35 39 42 46 47 49 50 52\n",
      "  54 56 62 63 66 67]]\n",
      "Max_len 145\n",
      "[[ 0  1  5  9 17 21 22 25 27 32 34 41 47 49 50 53 54 55 56 57 58 63 69 73\n",
      "  76 77 79 80 84 85]\n",
      " [ 0  1  2  4  5  6  7  8 11 14 15 17 19 21 23 24 28 29 31 32 34 35 38 40\n",
      "  42 44 45 46 47 48]\n",
      " [ 0  1  5  7 10 18 19 21 22 24 26 27 28 30 32 33 35 37 38 39 41 43 47 48\n",
      "  49 50 51 56 58 65]\n",
      " [ 0  1  2  3  5 10 13 14 16 17 18 22 23 28 33 35 36 37 38 41 48 51 52 54\n",
      "  56 58 59 69 72 73]\n",
      " [ 0  2  5  6  8  9 10 11 12 14 15 16 19 22 26 28 35 39 42 46 47 49 50 52\n",
      "  54 56 62 63 66 67]]\n",
      "Max_len 145\n",
      "[[ 0  1  5  9 17 21 22 25 27 32 34 41 47 49 50 53 54 55 56 57 58 63 69 73\n",
      "  76 77 79 80 84 85]\n",
      " [ 0  1  2  4  5  6  7  8 11 14 15 17 19 21 23 24 28 29 31 32 34 35 38 40\n",
      "  42 44 45 46 47 48]\n",
      " [ 0  1  5  7 10 18 19 21 22 24 26 27 28 30 32 33 35 37 38 39 41 43 47 48\n",
      "  49 50 51 56 58 65]\n",
      " [ 0  1  2  3  5 10 13 14 16 17 18 22 23 28 33 35 36 37 38 41 48 51 52 54\n",
      "  56 58 59 69 72 73]\n",
      " [ 0  2  5  6  8  9 10 11 12 14 15 16 19 22 26 28 35 39 42 46 47 49 50 52\n",
      "  54 56 62 63 66 67]]\n",
      "Max_len 145\n",
      "[[ 0  1  5  9 17 21 22 25 27 32 34 41 47 49 50 53 54 55 56 57 58 63 69 73\n",
      "  76 77 79 80 84 85]\n",
      " [ 0  1  2  4  5  6  7  8 11 14 15 17 19 21 23 24 28 29 31 32 34 35 38 40\n",
      "  42 44 45 46 47 48]\n",
      " [ 0  1  5  7 10 18 19 21 22 24 26 27 28 30 32 33 35 37 38 39 41 43 47 48\n",
      "  49 50 51 56 58 65]\n",
      " [ 0  1  2  3  5 10 13 14 16 17 18 22 23 28 33 35 36 37 38 41 48 51 52 54\n",
      "  56 58 59 69 72 73]\n",
      " [ 0  2  5  6  8  9 10 11 12 14 15 16 19 22 26 28 35 39 42 46 47 49 50 52\n",
      "  54 56 62 63 66 67]]\n",
      "Max_len 145\n",
      "[[ 0  1  5  9 17 21 22 25 27 32 34 41 47 49 50 53 54 55 56 57 58 63 69 73\n",
      "  76 77 79 80 84 85]\n",
      " [ 0  1  2  4  5  6  7  8 11 14 15 17 19 21 23 24 28 29 31 32 34 35 38 40\n",
      "  42 44 45 46 47 48]\n",
      " [ 0  1  5  7 10 18 19 21 22 24 26 27 28 30 32 33 35 37 38 39 41 43 47 48\n",
      "  49 50 51 56 58 65]\n",
      " [ 0  1  2  3  5 10 13 14 16 17 18 22 23 28 33 35 36 37 38 41 48 51 52 54\n",
      "  56 58 59 69 72 73]\n",
      " [ 0  2  5  6  8  9 10 11 12 14 15 16 19 22 26 28 35 39 42 46 47 49 50 52\n",
      "  54 56 62 63 66 67]]\n",
      "Max_len 145\n",
      "[[ 0  1  5  9 17 21 22 25 27 32 34 41 47 49 50 53 54 55 56 57 58 63 69 73\n",
      "  76 77 79 80 84 85]\n",
      " [ 0  1  2  4  5  6  7  8 11 14 15 17 19 21 23 24 28 29 31 32 34 35 38 40\n",
      "  42 44 45 46 47 48]\n",
      " [ 0  1  5  7 10 18 19 21 22 24 26 27 28 30 32 33 35 37 38 39 41 43 47 48\n",
      "  49 50 51 56 58 65]\n",
      " [ 0  1  2  3  5 10 13 14 16 17 18 22 23 28 33 35 36 37 38 41 48 51 52 54\n",
      "  56 58 59 69 72 73]\n",
      " [ 0  2  5  6  8  9 10 11 12 14 15 16 19 22 26 28 35 39 42 46 47 49 50 52\n",
      "  54 56 62 63 66 67]]\n",
      "Max_len 145\n",
      "[[ 0  1  5  9 17 21 22 25 27 32 34 41 47 49 50 53 54 55 56 57 58 63 69 73\n",
      "  76 77 79 80 84 85]\n",
      " [ 0  1  2  4  5  6  7  8 11 14 15 17 19 21 23 24 28 29 31 32 34 35 38 40\n",
      "  42 44 45 46 47 48]\n",
      " [ 0  1  5  7 10 18 19 21 22 24 26 27 28 30 32 33 35 37 38 39 41 43 47 48\n",
      "  49 50 51 56 58 65]\n",
      " [ 0  1  2  3  5 10 13 14 16 17 18 22 23 28 33 35 36 37 38 41 48 51 52 54\n",
      "  56 58 59 69 72 73]\n",
      " [ 0  2  5  6  8  9 10 11 12 14 15 16 19 22 26 28 35 39 42 46 47 49 50 52\n",
      "  54 56 62 63 66 67]]\n",
      "Max_len 145\n",
      "[[ 0  1  5  9 17 21 22 25 27 32 34 41 47 49 50 53 54 55 56 57 58 63 69 73\n",
      "  76 77 79 80 84 85]\n",
      " [ 0  1  2  4  5  6  7  8 11 14 15 17 19 21 23 24 28 29 31 32 34 35 38 40\n",
      "  42 44 45 46 47 48]\n",
      " [ 0  1  5  7 10 18 19 21 22 24 26 27 28 30 32 33 35 37 38 39 41 43 47 48\n",
      "  49 50 51 56 58 65]\n",
      " [ 0  1  2  3  5 10 13 14 16 17 18 22 23 28 33 35 36 37 38 41 48 51 52 54\n",
      "  56 58 59 69 72 73]\n",
      " [ 0  2  5  6  8  9 10 11 12 14 15 16 19 22 26 28 35 39 42 46 47 49 50 52\n",
      "  54 56 62 63 66 67]]\n",
      "Max_len 145\n",
      "[[ 0  1  5  9 17 21 22 25 27 32 34 41 47 49 50 53 54 55 56 57 58 63 69 73\n",
      "  76 77 79 80 84 85]\n",
      " [ 0  1  2  4  5  6  7  8 11 14 15 17 19 21 23 24 28 29 31 32 34 35 38 40\n",
      "  42 44 45 46 47 48]\n",
      " [ 0  1  5  7 10 18 19 21 22 24 26 27 28 30 32 33 35 37 38 39 41 43 47 48\n",
      "  49 50 51 56 58 65]\n",
      " [ 0  1  2  3  5 10 13 14 16 17 18 22 23 28 33 35 36 37 38 41 48 51 52 54\n",
      "  56 58 59 69 72 73]\n",
      " [ 0  2  5  6  8  9 10 11 12 14 15 16 19 22 26 28 35 39 42 46 47 49 50 52\n",
      "  54 56 62 63 66 67]]\n",
      "Max_len 145\n",
      "[[ 0  1  5  9 17 21 22 25 27 32 34 41 47 49 50 53 54 55 56 57 58 63 69 73\n",
      "  76 77 79 80 84 85]\n",
      " [ 0  1  2  4  5  6  7  8 11 14 15 17 19 21 23 24 28 29 31 32 34 35 38 40\n",
      "  42 44 45 46 47 48]\n",
      " [ 0  1  5  7 10 18 19 21 22 24 26 27 28 30 32 33 35 37 38 39 41 43 47 48\n",
      "  49 50 51 56 58 65]\n",
      " [ 0  1  2  3  5 10 13 14 16 17 18 22 23 28 33 35 36 37 38 41 48 51 52 54\n",
      "  56 58 59 69 72 73]\n",
      " [ 0  2  5  6  8  9 10 11 12 14 15 16 19 22 26 28 35 39 42 46 47 49 50 52\n",
      "  54 56 62 63 66 67]]\n",
      "Max_len 145\n",
      "[[ 0  1  5  9 17 21 22 25 27 32 34 41 47 49 50 53 54 55 56 57 58 63 69 73\n",
      "  76 77 79 80 84 85]\n",
      " [ 0  1  2  4  5  6  7  8 11 14 15 17 19 21 23 24 28 29 31 32 34 35 38 40\n",
      "  42 44 45 46 47 48]\n",
      " [ 0  1  5  7 10 18 19 21 22 24 26 27 28 30 32 33 35 37 38 39 41 43 47 48\n",
      "  49 50 51 56 58 65]\n",
      " [ 0  1  2  3  5 10 13 14 16 17 18 22 23 28 33 35 36 37 38 41 48 51 52 54\n",
      "  56 58 59 69 72 73]\n",
      " [ 0  2  5  6  8  9 10 11 12 14 15 16 19 22 26 28 35 39 42 46 47 49 50 52\n",
      "  54 56 62 63 66 67]]\n",
      "Max_len 145\n",
      "[[ 0  1  5  9 17 21 22 25 27 32 34 41 47 49 50 53 54 55 56 57 58 63 69 73\n",
      "  76 77 79 80 84 85]\n",
      " [ 0  1  2  4  5  6  7  8 11 14 15 17 19 21 23 24 28 29 31 32 34 35 38 40\n",
      "  42 44 45 46 47 48]\n",
      " [ 0  1  5  7 10 18 19 21 22 24 26 27 28 30 32 33 35 37 38 39 41 43 47 48\n",
      "  49 50 51 56 58 65]\n",
      " [ 0  1  2  3  5 10 13 14 16 17 18 22 23 28 33 35 36 37 38 41 48 51 52 54\n",
      "  56 58 59 69 72 73]\n",
      " [ 0  2  5  6  8  9 10 11 12 14 15 16 19 22 26 28 35 39 42 46 47 49 50 52\n",
      "  54 56 62 63 66 67]]\n",
      "Max_len 145\n",
      "[[ 0  1  5  9 17 21 22 25 27 32 34 41 47 49 50 53 54 55 56 57 58 63 69 73\n",
      "  76 77 79 80 84 85]\n",
      " [ 0  1  2  4  5  6  7  8 11 14 15 17 19 21 23 24 28 29 31 32 34 35 38 40\n",
      "  42 44 45 46 47 48]\n",
      " [ 0  1  5  7 10 18 19 21 22 24 26 27 28 30 32 33 35 37 38 39 41 43 47 48\n",
      "  49 50 51 56 58 65]\n",
      " [ 0  1  2  3  5 10 13 14 16 17 18 22 23 28 33 35 36 37 38 41 48 51 52 54\n",
      "  56 58 59 69 72 73]\n",
      " [ 0  2  5  6  8  9 10 11 12 14 15 16 19 22 26 28 35 39 42 46 47 49 50 52\n",
      "  54 56 62 63 66 67]]\n",
      "Max_len 145\n",
      "[[ 0  1  5  9 17 21 22 25 27 32 34 41 47 49 50 53 54 55 56 57 58 63 69 73\n",
      "  76 77 79 80 84 85]\n",
      " [ 0  1  2  4  5  6  7  8 11 14 15 17 19 21 23 24 28 29 31 32 34 35 38 40\n",
      "  42 44 45 46 47 48]\n",
      " [ 0  1  5  7 10 18 19 21 22 24 26 27 28 30 32 33 35 37 38 39 41 43 47 48\n",
      "  49 50 51 56 58 65]\n",
      " [ 0  1  2  3  5 10 13 14 16 17 18 22 23 28 33 35 36 37 38 41 48 51 52 54\n",
      "  56 58 59 69 72 73]\n",
      " [ 0  2  5  6  8  9 10 11 12 14 15 16 19 22 26 28 35 39 42 46 47 49 50 52\n",
      "  54 56 62 63 66 67]]\n",
      "Max_len 145\n",
      "[[ 0  1  5  9 17 21 22 25 27 32 34 41 47 49 50 53 54 55 56 57 58 63 69 73\n",
      "  76 77 79 80 84 85]\n",
      " [ 0  1  2  4  5  6  7  8 11 14 15 17 19 21 23 24 28 29 31 32 34 35 38 40\n",
      "  42 44 45 46 47 48]\n",
      " [ 0  1  5  7 10 18 19 21 22 24 26 27 28 30 32 33 35 37 38 39 41 43 47 48\n",
      "  49 50 51 56 58 65]\n",
      " [ 0  1  2  3  5 10 13 14 16 17 18 22 23 28 33 35 36 37 38 41 48 51 52 54\n",
      "  56 58 59 69 72 73]\n",
      " [ 0  2  5  6  8  9 10 11 12 14 15 16 19 22 26 28 35 39 42 46 47 49 50 52\n",
      "  54 56 62 63 66 67]]\n",
      "Max_len 145\n",
      "[[ 0  1  5  9 17 21 22 25 27 32 34 41 47 49 50 53 54 55 56 57 58 63 69 73\n",
      "  76 77 79 80 84 85]\n",
      " [ 0  1  2  4  5  6  7  8 11 14 15 17 19 21 23 24 28 29 31 32 34 35 38 40\n",
      "  42 44 45 46 47 48]\n",
      " [ 0  1  5  7 10 18 19 21 22 24 26 27 28 30 32 33 35 37 38 39 41 43 47 48\n",
      "  49 50 51 56 58 65]\n",
      " [ 0  1  2  3  5 10 13 14 16 17 18 22 23 28 33 35 36 37 38 41 48 51 52 54\n",
      "  56 58 59 69 72 73]\n",
      " [ 0  2  5  6  8  9 10 11 12 14 15 16 19 22 26 28 35 39 42 46 47 49 50 52\n",
      "  54 56 62 63 66 67]]\n",
      "Max_len 145\n",
      "[[ 0  1  5  9 17 21 22 25 27 32 34 41 47 49 50 53 54 55 56 57 58 63 69 73\n",
      "  76 77 79 80 84 85]\n",
      " [ 0  1  2  4  5  6  7  8 11 14 15 17 19 21 23 24 28 29 31 32 34 35 38 40\n",
      "  42 44 45 46 47 48]\n",
      " [ 0  1  5  7 10 18 19 21 22 24 26 27 28 30 32 33 35 37 38 39 41 43 47 48\n",
      "  49 50 51 56 58 65]\n",
      " [ 0  1  2  3  5 10 13 14 16 17 18 22 23 28 33 35 36 37 38 41 48 51 52 54\n",
      "  56 58 59 69 72 73]\n",
      " [ 0  2  5  6  8  9 10 11 12 14 15 16 19 22 26 28 35 39 42 46 47 49 50 52\n",
      "  54 56 62 63 66 67]]\n",
      "Max_len 145\n",
      "[[ 0  1  5  9 17 21 22 25 27 32 34 41 47 49 50 53 54 55 56 57 58 63 69 73\n",
      "  76 77 79 80 84 85]\n",
      " [ 0  1  2  4  5  6  7  8 11 14 15 17 19 21 23 24 28 29 31 32 34 35 38 40\n",
      "  42 44 45 46 47 48]\n",
      " [ 0  1  5  7 10 18 19 21 22 24 26 27 28 30 32 33 35 37 38 39 41 43 47 48\n",
      "  49 50 51 56 58 65]\n",
      " [ 0  1  2  3  5 10 13 14 16 17 18 22 23 28 33 35 36 37 38 41 48 51 52 54\n",
      "  56 58 59 69 72 73]\n",
      " [ 0  2  5  6  8  9 10 11 12 14 15 16 19 22 26 28 35 39 42 46 47 49 50 52\n",
      "  54 56 62 63 66 67]]\n",
      "Max_len 145\n",
      "[[ 0  1  5  9 17 21 22 25 27 32 34 41 47 49 50 53 54 55 56 57 58 63 69 73\n",
      "  76 77 79 80 84 85]\n",
      " [ 0  1  2  4  5  6  7  8 11 14 15 17 19 21 23 24 28 29 31 32 34 35 38 40\n",
      "  42 44 45 46 47 48]\n",
      " [ 0  1  5  7 10 18 19 21 22 24 26 27 28 30 32 33 35 37 38 39 41 43 47 48\n",
      "  49 50 51 56 58 65]\n",
      " [ 0  1  2  3  5 10 13 14 16 17 18 22 23 28 33 35 36 37 38 41 48 51 52 54\n",
      "  56 58 59 69 72 73]\n",
      " [ 0  2  5  6  8  9 10 11 12 14 15 16 19 22 26 28 35 39 42 46 47 49 50 52\n",
      "  54 56 62 63 66 67]]\n",
      "Max_len 145\n",
      "[[ 0  1  5  9 17 21 22 25 27 32 34 41 47 49 50 53 54 55 56 57 58 63 69 73\n",
      "  76 77 79 80 84 85]\n",
      " [ 0  1  2  4  5  6  7  8 11 14 15 17 19 21 23 24 28 29 31 32 34 35 38 40\n",
      "  42 44 45 46 47 48]\n",
      " [ 0  1  5  7 10 18 19 21 22 24 26 27 28 30 32 33 35 37 38 39 41 43 47 48\n",
      "  49 50 51 56 58 65]\n",
      " [ 0  1  2  3  5 10 13 14 16 17 18 22 23 28 33 35 36 37 38 41 48 51 52 54\n",
      "  56 58 59 69 72 73]\n",
      " [ 0  2  5  6  8  9 10 11 12 14 15 16 19 22 26 28 35 39 42 46 47 49 50 52\n",
      "  54 56 62 63 66 67]]\n",
      "Max_len 145\n",
      "[[ 0  1  5  9 17 21 22 25 27 32 34 41 47 49 50 53 54 55 56 57 58 63 69 73\n",
      "  76 77 79 80 84 85]\n",
      " [ 0  1  2  4  5  6  7  8 11 14 15 17 19 21 23 24 28 29 31 32 34 35 38 40\n",
      "  42 44 45 46 47 48]\n",
      " [ 0  1  5  7 10 18 19 21 22 24 26 27 28 30 32 33 35 37 38 39 41 43 47 48\n",
      "  49 50 51 56 58 65]\n",
      " [ 0  1  2  3  5 10 13 14 16 17 18 22 23 28 33 35 36 37 38 41 48 51 52 54\n",
      "  56 58 59 69 72 73]\n",
      " [ 0  2  5  6  8  9 10 11 12 14 15 16 19 22 26 28 35 39 42 46 47 49 50 52\n",
      "  54 56 62 63 66 67]]\n",
      "Max_len 145\n",
      "[[ 0  1  5  9 17 21 22 25 27 32 34 41 47 49 50 53 54 55 56 57 58 63 69 73\n",
      "  76 77 79 80 84 85]\n",
      " [ 0  1  2  4  5  6  7  8 11 14 15 17 19 21 23 24 28 29 31 32 34 35 38 40\n",
      "  42 44 45 46 47 48]\n",
      " [ 0  1  5  7 10 18 19 21 22 24 26 27 28 30 32 33 35 37 38 39 41 43 47 48\n",
      "  49 50 51 56 58 65]\n",
      " [ 0  1  2  3  5 10 13 14 16 17 18 22 23 28 33 35 36 37 38 41 48 51 52 54\n",
      "  56 58 59 69 72 73]\n",
      " [ 0  2  5  6  8  9 10 11 12 14 15 16 19 22 26 28 35 39 42 46 47 49 50 52\n",
      "  54 56 62 63 66 67]]\n",
      "Max_len 145\n",
      "[[ 0  1  5  9 17 21 22 25 27 32 34 41 47 49 50 53 54 55 56 57 58 63 69 73\n",
      "  76 77 79 80 84 85]\n",
      " [ 0  1  2  4  5  6  7  8 11 14 15 17 19 21 23 24 28 29 31 32 34 35 38 40\n",
      "  42 44 45 46 47 48]\n",
      " [ 0  1  5  7 10 18 19 21 22 24 26 27 28 30 32 33 35 37 38 39 41 43 47 48\n",
      "  49 50 51 56 58 65]\n",
      " [ 0  1  2  3  5 10 13 14 16 17 18 22 23 28 33 35 36 37 38 41 48 51 52 54\n",
      "  56 58 59 69 72 73]\n",
      " [ 0  2  5  6  8  9 10 11 12 14 15 16 19 22 26 28 35 39 42 46 47 49 50 52\n",
      "  54 56 62 63 66 67]]\n",
      "Max_len 145\n",
      "[[ 0  1  5  9 17 21 22 25 27 32 34 41 47 49 50 53 54 55 56 57 58 63 69 73\n",
      "  76 77 79 80 84 85]\n",
      " [ 0  1  2  4  5  6  7  8 11 14 15 17 19 21 23 24 28 29 31 32 34 35 38 40\n",
      "  42 44 45 46 47 48]\n",
      " [ 0  1  5  7 10 18 19 21 22 24 26 27 28 30 32 33 35 37 38 39 41 43 47 48\n",
      "  49 50 51 56 58 65]\n",
      " [ 0  1  2  3  5 10 13 14 16 17 18 22 23 28 33 35 36 37 38 41 48 51 52 54\n",
      "  56 58 59 69 72 73]\n",
      " [ 0  2  5  6  8  9 10 11 12 14 15 16 19 22 26 28 35 39 42 46 47 49 50 52\n",
      "  54 56 62 63 66 67]]\n",
      "Max_len 145\n",
      "[[ 0  1  5  9 17 21 22 25 27 32 34 41 47 49 50 53 54 55 56 57 58 63 69 73\n",
      "  76 77 79 80 84 85]\n",
      " [ 0  1  2  4  5  6  7  8 11 14 15 17 19 21 23 24 28 29 31 32 34 35 38 40\n",
      "  42 44 45 46 47 48]\n",
      " [ 0  1  5  7 10 18 19 21 22 24 26 27 28 30 32 33 35 37 38 39 41 43 47 48\n",
      "  49 50 51 56 58 65]\n",
      " [ 0  1  2  3  5 10 13 14 16 17 18 22 23 28 33 35 36 37 38 41 48 51 52 54\n",
      "  56 58 59 69 72 73]\n",
      " [ 0  2  5  6  8  9 10 11 12 14 15 16 19 22 26 28 35 39 42 46 47 49 50 52\n",
      "  54 56 62 63 66 67]]\n",
      "Max_len 145\n",
      "[[ 0  1  5  9 17 21 22 25 27 32 34 41 47 49 50 53 54 55 56 57 58 63 69 73\n",
      "  76 77 79 80 84 85]\n",
      " [ 0  1  2  4  5  6  7  8 11 14 15 17 19 21 23 24 28 29 31 32 34 35 38 40\n",
      "  42 44 45 46 47 48]\n",
      " [ 0  1  5  7 10 18 19 21 22 24 26 27 28 30 32 33 35 37 38 39 41 43 47 48\n",
      "  49 50 51 56 58 65]\n",
      " [ 0  1  2  3  5 10 13 14 16 17 18 22 23 28 33 35 36 37 38 41 48 51 52 54\n",
      "  56 58 59 69 72 73]\n",
      " [ 0  2  5  6  8  9 10 11 12 14 15 16 19 22 26 28 35 39 42 46 47 49 50 52\n",
      "  54 56 62 63 66 67]]\n",
      "Max_len 145\n",
      "[[ 0  1  5  9 17 21 22 25 27 32 34 41 47 49 50 53 54 55 56 57 58 63 69 73\n",
      "  76 77 79 80 84 85]\n",
      " [ 0  1  2  4  5  6  7  8 11 14 15 17 19 21 23 24 28 29 31 32 34 35 38 40\n",
      "  42 44 45 46 47 48]\n",
      " [ 0  1  5  7 10 18 19 21 22 24 26 27 28 30 32 33 35 37 38 39 41 43 47 48\n",
      "  49 50 51 56 58 65]\n",
      " [ 0  1  2  3  5 10 13 14 16 17 18 22 23 28 33 35 36 37 38 41 48 51 52 54\n",
      "  56 58 59 69 72 73]\n",
      " [ 0  2  5  6  8  9 10 11 12 14 15 16 19 22 26 28 35 39 42 46 47 49 50 52\n",
      "  54 56 62 63 66 67]]\n",
      "Max_len 145\n",
      "[[ 0  1  5  9 17 21 22 25 27 32 34 41 47 49 50 53 54 55 56 57 58 63 69 73\n",
      "  76 77 79 80 84 85]\n",
      " [ 0  1  2  4  5  6  7  8 11 14 15 17 19 21 23 24 28 29 31 32 34 35 38 40\n",
      "  42 44 45 46 47 48]\n",
      " [ 0  1  5  7 10 18 19 21 22 24 26 27 28 30 32 33 35 37 38 39 41 43 47 48\n",
      "  49 50 51 56 58 65]\n",
      " [ 0  1  2  3  5 10 13 14 16 17 18 22 23 28 33 35 36 37 38 41 48 51 52 54\n",
      "  56 58 59 69 72 73]\n",
      " [ 0  2  5  6  8  9 10 11 12 14 15 16 19 22 26 28 35 39 42 46 47 49 50 52\n",
      "  54 56 62 63 66 67]]\n",
      "Max_len 145\n",
      "[[ 0  1  5  9 17 21 22 25 27 32 34 41 47 49 50 53 54 55 56 57 58 63 69 73\n",
      "  76 77 79 80 84 85]\n",
      " [ 0  1  2  4  5  6  7  8 11 14 15 17 19 21 23 24 28 29 31 32 34 35 38 40\n",
      "  42 44 45 46 47 48]\n",
      " [ 0  1  5  7 10 18 19 21 22 24 26 27 28 30 32 33 35 37 38 39 41 43 47 48\n",
      "  49 50 51 56 58 65]\n",
      " [ 0  1  2  3  5 10 13 14 16 17 18 22 23 28 33 35 36 37 38 41 48 51 52 54\n",
      "  56 58 59 69 72 73]\n",
      " [ 0  2  5  6  8  9 10 11 12 14 15 16 19 22 26 28 35 39 42 46 47 49 50 52\n",
      "  54 56 62 63 66 67]]\n",
      "Max_len 145\n",
      "[[ 0  1  5  9 17 21 22 25 27 32 34 41 47 49 50 53 54 55 56 57 58 63 69 73\n",
      "  76 77 79 80 84 85]\n",
      " [ 0  1  2  4  5  6  7  8 11 14 15 17 19 21 23 24 28 29 31 32 34 35 38 40\n",
      "  42 44 45 46 47 48]\n",
      " [ 0  1  5  7 10 18 19 21 22 24 26 27 28 30 32 33 35 37 38 39 41 43 47 48\n",
      "  49 50 51 56 58 65]\n",
      " [ 0  1  2  3  5 10 13 14 16 17 18 22 23 28 33 35 36 37 38 41 48 51 52 54\n",
      "  56 58 59 69 72 73]\n",
      " [ 0  2  5  6  8  9 10 11 12 14 15 16 19 22 26 28 35 39 42 46 47 49 50 52\n",
      "  54 56 62 63 66 67]]\n",
      "Max_len 145\n",
      "[[ 0  1  5  9 17 21 22 25 27 32 34 41 47 49 50 53 54 55 56 57 58 63 69 73\n",
      "  76 77 79 80 84 85]\n",
      " [ 0  1  2  4  5  6  7  8 11 14 15 17 19 21 23 24 28 29 31 32 34 35 38 40\n",
      "  42 44 45 46 47 48]\n",
      " [ 0  1  5  7 10 18 19 21 22 24 26 27 28 30 32 33 35 37 38 39 41 43 47 48\n",
      "  49 50 51 56 58 65]\n",
      " [ 0  1  2  3  5 10 13 14 16 17 18 22 23 28 33 35 36 37 38 41 48 51 52 54\n",
      "  56 58 59 69 72 73]\n",
      " [ 0  2  5  6  8  9 10 11 12 14 15 16 19 22 26 28 35 39 42 46 47 49 50 52\n",
      "  54 56 62 63 66 67]]\n",
      "Max_len 145\n",
      "[[ 0  1  5  9 17 21 22 25 27 32 34 41 47 49 50 53 54 55 56 57 58 63 69 73\n",
      "  76 77 79 80 84 85]\n",
      " [ 0  1  2  4  5  6  7  8 11 14 15 17 19 21 23 24 28 29 31 32 34 35 38 40\n",
      "  42 44 45 46 47 48]\n",
      " [ 0  1  5  7 10 18 19 21 22 24 26 27 28 30 32 33 35 37 38 39 41 43 47 48\n",
      "  49 50 51 56 58 65]\n",
      " [ 0  1  2  3  5 10 13 14 16 17 18 22 23 28 33 35 36 37 38 41 48 51 52 54\n",
      "  56 58 59 69 72 73]\n",
      " [ 0  2  5  6  8  9 10 11 12 14 15 16 19 22 26 28 35 39 42 46 47 49 50 52\n",
      "  54 56 62 63 66 67]]\n",
      "Max_len 145\n",
      "[[ 0  1  5  9 17 21 22 25 27 32 34 41 47 49 50 53 54 55 56 57 58 63 69 73\n",
      "  76 77 79 80 84 85]\n",
      " [ 0  1  2  4  5  6  7  8 11 14 15 17 19 21 23 24 28 29 31 32 34 35 38 40\n",
      "  42 44 45 46 47 48]\n",
      " [ 0  1  5  7 10 18 19 21 22 24 26 27 28 30 32 33 35 37 38 39 41 43 47 48\n",
      "  49 50 51 56 58 65]\n",
      " [ 0  1  2  3  5 10 13 14 16 17 18 22 23 28 33 35 36 37 38 41 48 51 52 54\n",
      "  56 58 59 69 72 73]\n",
      " [ 0  2  5  6  8  9 10 11 12 14 15 16 19 22 26 28 35 39 42 46 47 49 50 52\n",
      "  54 56 62 63 66 67]]\n",
      "Max_len 145\n",
      "[[ 0  1  5  9 17 21 22 25 27 32 34 41 47 49 50 53 54 55 56 57 58 63 69 73\n",
      "  76 77 79 80 84 85]\n",
      " [ 0  1  2  4  5  6  7  8 11 14 15 17 19 21 23 24 28 29 31 32 34 35 38 40\n",
      "  42 44 45 46 47 48]\n",
      " [ 0  1  5  7 10 18 19 21 22 24 26 27 28 30 32 33 35 37 38 39 41 43 47 48\n",
      "  49 50 51 56 58 65]\n",
      " [ 0  1  2  3  5 10 13 14 16 17 18 22 23 28 33 35 36 37 38 41 48 51 52 54\n",
      "  56 58 59 69 72 73]\n",
      " [ 0  2  5  6  8  9 10 11 12 14 15 16 19 22 26 28 35 39 42 46 47 49 50 52\n",
      "  54 56 62 63 66 67]]\n",
      "Max_len 145\n",
      "[[ 0  1  5  9 17 21 22 25 27 32 34 41 47 49 50 53 54 55 56 57 58 63 69 73\n",
      "  76 77 79 80 84 85]\n",
      " [ 0  1  2  4  5  6  7  8 11 14 15 17 19 21 23 24 28 29 31 32 34 35 38 40\n",
      "  42 44 45 46 47 48]\n",
      " [ 0  1  5  7 10 18 19 21 22 24 26 27 28 30 32 33 35 37 38 39 41 43 47 48\n",
      "  49 50 51 56 58 65]\n",
      " [ 0  1  2  3  5 10 13 14 16 17 18 22 23 28 33 35 36 37 38 41 48 51 52 54\n",
      "  56 58 59 69 72 73]\n",
      " [ 0  2  5  6  8  9 10 11 12 14 15 16 19 22 26 28 35 39 42 46 47 49 50 52\n",
      "  54 56 62 63 66 67]]\n",
      "Max_len 145\n",
      "[[ 0  1  5  9 17 21 22 25 27 32 34 41 47 49 50 53 54 55 56 57 58 63 69 73\n",
      "  76 77 79 80 84 85]\n",
      " [ 0  1  2  4  5  6  7  8 11 14 15 17 19 21 23 24 28 29 31 32 34 35 38 40\n",
      "  42 44 45 46 47 48]\n",
      " [ 0  1  5  7 10 18 19 21 22 24 26 27 28 30 32 33 35 37 38 39 41 43 47 48\n",
      "  49 50 51 56 58 65]\n",
      " [ 0  1  2  3  5 10 13 14 16 17 18 22 23 28 33 35 36 37 38 41 48 51 52 54\n",
      "  56 58 59 69 72 73]\n",
      " [ 0  2  5  6  8  9 10 11 12 14 15 16 19 22 26 28 35 39 42 46 47 49 50 52\n",
      "  54 56 62 63 66 67]]\n",
      "Max_len 145\n",
      "[[ 0  1  5  9 17 21 22 25 27 32 34 41 47 49 50 53 54 55 56 57 58 63 69 73\n",
      "  76 77 79 80 84 85]\n",
      " [ 0  1  2  4  5  6  7  8 11 14 15 17 19 21 23 24 28 29 31 32 34 35 38 40\n",
      "  42 44 45 46 47 48]\n",
      " [ 0  1  5  7 10 18 19 21 22 24 26 27 28 30 32 33 35 37 38 39 41 43 47 48\n",
      "  49 50 51 56 58 65]\n",
      " [ 0  1  2  3  5 10 13 14 16 17 18 22 23 28 33 35 36 37 38 41 48 51 52 54\n",
      "  56 58 59 69 72 73]\n",
      " [ 0  2  5  6  8  9 10 11 12 14 15 16 19 22 26 28 35 39 42 46 47 49 50 52\n",
      "  54 56 62 63 66 67]]\n",
      "Max_len 145\n",
      "[[ 0  1  5  9 17 21 22 25 27 32 34 41 47 49 50 53 54 55 56 57 58 63 69 73\n",
      "  76 77 79 80 84 85]\n",
      " [ 0  1  2  4  5  6  7  8 11 14 15 17 19 21 23 24 28 29 31 32 34 35 38 40\n",
      "  42 44 45 46 47 48]\n",
      " [ 0  1  5  7 10 18 19 21 22 24 26 27 28 30 32 33 35 37 38 39 41 43 47 48\n",
      "  49 50 51 56 58 65]\n",
      " [ 0  1  2  3  5 10 13 14 16 17 18 22 23 28 33 35 36 37 38 41 48 51 52 54\n",
      "  56 58 59 69 72 73]\n",
      " [ 0  2  5  6  8  9 10 11 12 14 15 16 19 22 26 28 35 39 42 46 47 49 50 52\n",
      "  54 56 62 63 66 67]]\n",
      "Max_len 145\n",
      "[[ 0  1  5  9 17 21 22 25 27 32 34 41 47 49 50 53 54 55 56 57 58 63 69 73\n",
      "  76 77 79 80 84 85]\n",
      " [ 0  1  2  4  5  6  7  8 11 14 15 17 19 21 23 24 28 29 31 32 34 35 38 40\n",
      "  42 44 45 46 47 48]\n",
      " [ 0  1  5  7 10 18 19 21 22 24 26 27 28 30 32 33 35 37 38 39 41 43 47 48\n",
      "  49 50 51 56 58 65]\n",
      " [ 0  1  2  3  5 10 13 14 16 17 18 22 23 28 33 35 36 37 38 41 48 51 52 54\n",
      "  56 58 59 69 72 73]\n",
      " [ 0  2  5  6  8  9 10 11 12 14 15 16 19 22 26 28 35 39 42 46 47 49 50 52\n",
      "  54 56 62 63 66 67]]\n",
      "Max_len 145\n",
      "[[ 0  1  5  9 17 21 22 25 27 32 34 41 47 49 50 53 54 55 56 57 58 63 69 73\n",
      "  76 77 79 80 84 85]\n",
      " [ 0  1  2  4  5  6  7  8 11 14 15 17 19 21 23 24 28 29 31 32 34 35 38 40\n",
      "  42 44 45 46 47 48]\n",
      " [ 0  1  5  7 10 18 19 21 22 24 26 27 28 30 32 33 35 37 38 39 41 43 47 48\n",
      "  49 50 51 56 58 65]\n",
      " [ 0  1  2  3  5 10 13 14 16 17 18 22 23 28 33 35 36 37 38 41 48 51 52 54\n",
      "  56 58 59 69 72 73]\n",
      " [ 0  2  5  6  8  9 10 11 12 14 15 16 19 22 26 28 35 39 42 46 47 49 50 52\n",
      "  54 56 62 63 66 67]]\n",
      "Max_len 145\n",
      "[[ 0  1  5  9 17 21 22 25 27 32 34 41 47 49 50 53 54 55 56 57 58 63 69 73\n",
      "  76 77 79 80 84 85]\n",
      " [ 0  1  2  4  5  6  7  8 11 14 15 17 19 21 23 24 28 29 31 32 34 35 38 40\n",
      "  42 44 45 46 47 48]\n",
      " [ 0  1  5  7 10 18 19 21 22 24 26 27 28 30 32 33 35 37 38 39 41 43 47 48\n",
      "  49 50 51 56 58 65]\n",
      " [ 0  1  2  3  5 10 13 14 16 17 18 22 23 28 33 35 36 37 38 41 48 51 52 54\n",
      "  56 58 59 69 72 73]\n",
      " [ 0  2  5  6  8  9 10 11 12 14 15 16 19 22 26 28 35 39 42 46 47 49 50 52\n",
      "  54 56 62 63 66 67]]\n",
      "Max_len 145\n",
      "[[ 0  1  5  9 17 21 22 25 27 32 34 41 47 49 50 53 54 55 56 57 58 63 69 73\n",
      "  76 77 79 80 84 85]\n",
      " [ 0  1  2  4  5  6  7  8 11 14 15 17 19 21 23 24 28 29 31 32 34 35 38 40\n",
      "  42 44 45 46 47 48]\n",
      " [ 0  1  5  7 10 18 19 21 22 24 26 27 28 30 32 33 35 37 38 39 41 43 47 48\n",
      "  49 50 51 56 58 65]\n",
      " [ 0  1  2  3  5 10 13 14 16 17 18 22 23 28 33 35 36 37 38 41 48 51 52 54\n",
      "  56 58 59 69 72 73]\n",
      " [ 0  2  5  6  8  9 10 11 12 14 15 16 19 22 26 28 35 39 42 46 47 49 50 52\n",
      "  54 56 62 63 66 67]]\n",
      "Max_len 145\n",
      "[[ 0  1  5  9 17 21 22 25 27 32 34 41 47 49 50 53 54 55 56 57 58 63 69 73\n",
      "  76 77 79 80 84 85]\n",
      " [ 0  1  2  4  5  6  7  8 11 14 15 17 19 21 23 24 28 29 31 32 34 35 38 40\n",
      "  42 44 45 46 47 48]\n",
      " [ 0  1  5  7 10 18 19 21 22 24 26 27 28 30 32 33 35 37 38 39 41 43 47 48\n",
      "  49 50 51 56 58 65]\n",
      " [ 0  1  2  3  5 10 13 14 16 17 18 22 23 28 33 35 36 37 38 41 48 51 52 54\n",
      "  56 58 59 69 72 73]\n",
      " [ 0  2  5  6  8  9 10 11 12 14 15 16 19 22 26 28 35 39 42 46 47 49 50 52\n",
      "  54 56 62 63 66 67]]\n",
      "Max_len 145\n",
      "[[ 0  1  5  9 17 21 22 25 27 32 34 41 47 49 50 53 54 55 56 57 58 63 69 73\n",
      "  76 77 79 80 84 85]\n",
      " [ 0  1  2  4  5  6  7  8 11 14 15 17 19 21 23 24 28 29 31 32 34 35 38 40\n",
      "  42 44 45 46 47 48]\n",
      " [ 0  1  5  7 10 18 19 21 22 24 26 27 28 30 32 33 35 37 38 39 41 43 47 48\n",
      "  49 50 51 56 58 65]\n",
      " [ 0  1  2  3  5 10 13 14 16 17 18 22 23 28 33 35 36 37 38 41 48 51 52 54\n",
      "  56 58 59 69 72 73]\n",
      " [ 0  2  5  6  8  9 10 11 12 14 15 16 19 22 26 28 35 39 42 46 47 49 50 52\n",
      "  54 56 62 63 66 67]]\n",
      "Max_len 145\n",
      "[[ 0  1  5  9 17 21 22 25 27 32 34 41 47 49 50 53 54 55 56 57 58 63 69 73\n",
      "  76 77 79 80 84 85]\n",
      " [ 0  1  2  4  5  6  7  8 11 14 15 17 19 21 23 24 28 29 31 32 34 35 38 40\n",
      "  42 44 45 46 47 48]\n",
      " [ 0  1  5  7 10 18 19 21 22 24 26 27 28 30 32 33 35 37 38 39 41 43 47 48\n",
      "  49 50 51 56 58 65]\n",
      " [ 0  1  2  3  5 10 13 14 16 17 18 22 23 28 33 35 36 37 38 41 48 51 52 54\n",
      "  56 58 59 69 72 73]\n",
      " [ 0  2  5  6  8  9 10 11 12 14 15 16 19 22 26 28 35 39 42 46 47 49 50 52\n",
      "  54 56 62 63 66 67]]\n",
      "Max_len 145\n",
      "[[ 0  1  5  9 17 21 22 25 27 32 34 41 47 49 50 53 54 55 56 57 58 63 69 73\n",
      "  76 77 79 80 84 85]\n",
      " [ 0  1  2  4  5  6  7  8 11 14 15 17 19 21 23 24 28 29 31 32 34 35 38 40\n",
      "  42 44 45 46 47 48]\n",
      " [ 0  1  5  7 10 18 19 21 22 24 26 27 28 30 32 33 35 37 38 39 41 43 47 48\n",
      "  49 50 51 56 58 65]\n",
      " [ 0  1  2  3  5 10 13 14 16 17 18 22 23 28 33 35 36 37 38 41 48 51 52 54\n",
      "  56 58 59 69 72 73]\n",
      " [ 0  2  5  6  8  9 10 11 12 14 15 16 19 22 26 28 35 39 42 46 47 49 50 52\n",
      "  54 56 62 63 66 67]]\n",
      "Max_len 145\n",
      "[[ 0  1  5  9 17 21 22 25 27 32 34 41 47 49 50 53 54 55 56 57 58 63 69 73\n",
      "  76 77 79 80 84 85]\n",
      " [ 0  1  2  4  5  6  7  8 11 14 15 17 19 21 23 24 28 29 31 32 34 35 38 40\n",
      "  42 44 45 46 47 48]\n",
      " [ 0  1  5  7 10 18 19 21 22 24 26 27 28 30 32 33 35 37 38 39 41 43 47 48\n",
      "  49 50 51 56 58 65]\n",
      " [ 0  1  2  3  5 10 13 14 16 17 18 22 23 28 33 35 36 37 38 41 48 51 52 54\n",
      "  56 58 59 69 72 73]\n",
      " [ 0  2  5  6  8  9 10 11 12 14 15 16 19 22 26 28 35 39 42 46 47 49 50 52\n",
      "  54 56 62 63 66 67]]\n",
      "Max_len 145\n",
      "[[ 0  1  5  9 17 21 22 25 27 32 34 41 47 49 50 53 54 55 56 57 58 63 69 73\n",
      "  76 77 79 80 84 85]\n",
      " [ 0  1  2  4  5  6  7  8 11 14 15 17 19 21 23 24 28 29 31 32 34 35 38 40\n",
      "  42 44 45 46 47 48]\n",
      " [ 0  1  5  7 10 18 19 21 22 24 26 27 28 30 32 33 35 37 38 39 41 43 47 48\n",
      "  49 50 51 56 58 65]\n",
      " [ 0  1  2  3  5 10 13 14 16 17 18 22 23 28 33 35 36 37 38 41 48 51 52 54\n",
      "  56 58 59 69 72 73]\n",
      " [ 0  2  5  6  8  9 10 11 12 14 15 16 19 22 26 28 35 39 42 46 47 49 50 52\n",
      "  54 56 62 63 66 67]]\n",
      "Max_len 145\n",
      "[[ 0  1  5  9 17 21 22 25 27 32 34 41 47 49 50 53 54 55 56 57 58 63 69 73\n",
      "  76 77 79 80 84 85]\n",
      " [ 0  1  2  4  5  6  7  8 11 14 15 17 19 21 23 24 28 29 31 32 34 35 38 40\n",
      "  42 44 45 46 47 48]\n",
      " [ 0  1  5  7 10 18 19 21 22 24 26 27 28 30 32 33 35 37 38 39 41 43 47 48\n",
      "  49 50 51 56 58 65]\n",
      " [ 0  1  2  3  5 10 13 14 16 17 18 22 23 28 33 35 36 37 38 41 48 51 52 54\n",
      "  56 58 59 69 72 73]\n",
      " [ 0  2  5  6  8  9 10 11 12 14 15 16 19 22 26 28 35 39 42 46 47 49 50 52\n",
      "  54 56 62 63 66 67]]\n",
      "Max_len 145\n",
      "[[ 0  1  5  9 17 21 22 25 27 32 34 41 47 49 50 53 54 55 56 57 58 63 69 73\n",
      "  76 77 79 80 84 85]\n",
      " [ 0  1  2  4  5  6  7  8 11 14 15 17 19 21 23 24 28 29 31 32 34 35 38 40\n",
      "  42 44 45 46 47 48]\n",
      " [ 0  1  5  7 10 18 19 21 22 24 26 27 28 30 32 33 35 37 38 39 41 43 47 48\n",
      "  49 50 51 56 58 65]\n",
      " [ 0  1  2  3  5 10 13 14 16 17 18 22 23 28 33 35 36 37 38 41 48 51 52 54\n",
      "  56 58 59 69 72 73]\n",
      " [ 0  2  5  6  8  9 10 11 12 14 15 16 19 22 26 28 35 39 42 46 47 49 50 52\n",
      "  54 56 62 63 66 67]]\n",
      "Max_len 145\n",
      "[[ 0  1  5  9 17 21 22 25 27 32 34 41 47 49 50 53 54 55 56 57 58 63 69 73\n",
      "  76 77 79 80 84 85]\n",
      " [ 0  1  2  4  5  6  7  8 11 14 15 17 19 21 23 24 28 29 31 32 34 35 38 40\n",
      "  42 44 45 46 47 48]\n",
      " [ 0  1  5  7 10 18 19 21 22 24 26 27 28 30 32 33 35 37 38 39 41 43 47 48\n",
      "  49 50 51 56 58 65]\n",
      " [ 0  1  2  3  5 10 13 14 16 17 18 22 23 28 33 35 36 37 38 41 48 51 52 54\n",
      "  56 58 59 69 72 73]\n",
      " [ 0  2  5  6  8  9 10 11 12 14 15 16 19 22 26 28 35 39 42 46 47 49 50 52\n",
      "  54 56 62 63 66 67]]\n",
      "Max_len 145\n",
      "[[ 0  1  5  9 17 21 22 25 27 32 34 41 47 49 50 53 54 55 56 57 58 63 69 73\n",
      "  76 77 79 80 84 85]\n",
      " [ 0  1  2  4  5  6  7  8 11 14 15 17 19 21 23 24 28 29 31 32 34 35 38 40\n",
      "  42 44 45 46 47 48]\n",
      " [ 0  1  5  7 10 18 19 21 22 24 26 27 28 30 32 33 35 37 38 39 41 43 47 48\n",
      "  49 50 51 56 58 65]\n",
      " [ 0  1  2  3  5 10 13 14 16 17 18 22 23 28 33 35 36 37 38 41 48 51 52 54\n",
      "  56 58 59 69 72 73]\n",
      " [ 0  2  5  6  8  9 10 11 12 14 15 16 19 22 26 28 35 39 42 46 47 49 50 52\n",
      "  54 56 62 63 66 67]]\n",
      "Max_len 145\n",
      "[[ 0  1  5  9 17 21 22 25 27 32 34 41 47 49 50 53 54 55 56 57 58 63 69 73\n",
      "  76 77 79 80 84 85]\n",
      " [ 0  1  2  4  5  6  7  8 11 14 15 17 19 21 23 24 28 29 31 32 34 35 38 40\n",
      "  42 44 45 46 47 48]\n",
      " [ 0  1  5  7 10 18 19 21 22 24 26 27 28 30 32 33 35 37 38 39 41 43 47 48\n",
      "  49 50 51 56 58 65]\n",
      " [ 0  1  2  3  5 10 13 14 16 17 18 22 23 28 33 35 36 37 38 41 48 51 52 54\n",
      "  56 58 59 69 72 73]\n",
      " [ 0  2  5  6  8  9 10 11 12 14 15 16 19 22 26 28 35 39 42 46 47 49 50 52\n",
      "  54 56 62 63 66 67]]\n",
      "Max_len 145\n",
      "[[ 0  1  5  9 17 21 22 25 27 32 34 41 47 49 50 53 54 55 56 57 58 63 69 73\n",
      "  76 77 79 80 84 85]\n",
      " [ 0  1  2  4  5  6  7  8 11 14 15 17 19 21 23 24 28 29 31 32 34 35 38 40\n",
      "  42 44 45 46 47 48]\n",
      " [ 0  1  5  7 10 18 19 21 22 24 26 27 28 30 32 33 35 37 38 39 41 43 47 48\n",
      "  49 50 51 56 58 65]\n",
      " [ 0  1  2  3  5 10 13 14 16 17 18 22 23 28 33 35 36 37 38 41 48 51 52 54\n",
      "  56 58 59 69 72 73]\n",
      " [ 0  2  5  6  8  9 10 11 12 14 15 16 19 22 26 28 35 39 42 46 47 49 50 52\n",
      "  54 56 62 63 66 67]]\n",
      "Max_len 145\n",
      "[[ 0  1  5  9 17 21 22 25 27 32 34 41 47 49 50 53 54 55 56 57 58 63 69 73\n",
      "  76 77 79 80 84 85]\n",
      " [ 0  1  2  4  5  6  7  8 11 14 15 17 19 21 23 24 28 29 31 32 34 35 38 40\n",
      "  42 44 45 46 47 48]\n",
      " [ 0  1  5  7 10 18 19 21 22 24 26 27 28 30 32 33 35 37 38 39 41 43 47 48\n",
      "  49 50 51 56 58 65]\n",
      " [ 0  1  2  3  5 10 13 14 16 17 18 22 23 28 33 35 36 37 38 41 48 51 52 54\n",
      "  56 58 59 69 72 73]\n",
      " [ 0  2  5  6  8  9 10 11 12 14 15 16 19 22 26 28 35 39 42 46 47 49 50 52\n",
      "  54 56 62 63 66 67]]\n",
      "Max_len 145\n",
      "[[ 0  1  5  9 17 21 22 25 27 32 34 41 47 49 50 53 54 55 56 57 58 63 69 73\n",
      "  76 77 79 80 84 85]\n",
      " [ 0  1  2  4  5  6  7  8 11 14 15 17 19 21 23 24 28 29 31 32 34 35 38 40\n",
      "  42 44 45 46 47 48]\n",
      " [ 0  1  5  7 10 18 19 21 22 24 26 27 28 30 32 33 35 37 38 39 41 43 47 48\n",
      "  49 50 51 56 58 65]\n",
      " [ 0  1  2  3  5 10 13 14 16 17 18 22 23 28 33 35 36 37 38 41 48 51 52 54\n",
      "  56 58 59 69 72 73]\n",
      " [ 0  2  5  6  8  9 10 11 12 14 15 16 19 22 26 28 35 39 42 46 47 49 50 52\n",
      "  54 56 62 63 66 67]]\n",
      "Max_len 145\n",
      "[[ 0  1  5  9 17 21 22 25 27 32 34 41 47 49 50 53 54 55 56 57 58 63 69 73\n",
      "  76 77 79 80 84 85]\n",
      " [ 0  1  2  4  5  6  7  8 11 14 15 17 19 21 23 24 28 29 31 32 34 35 38 40\n",
      "  42 44 45 46 47 48]\n",
      " [ 0  1  5  7 10 18 19 21 22 24 26 27 28 30 32 33 35 37 38 39 41 43 47 48\n",
      "  49 50 51 56 58 65]\n",
      " [ 0  1  2  3  5 10 13 14 16 17 18 22 23 28 33 35 36 37 38 41 48 51 52 54\n",
      "  56 58 59 69 72 73]\n",
      " [ 0  2  5  6  8  9 10 11 12 14 15 16 19 22 26 28 35 39 42 46 47 49 50 52\n",
      "  54 56 62 63 66 67]]\n",
      "Max_len 145\n",
      "[[ 0  1  5  9 17 21 22 25 27 32 34 41 47 49 50 53 54 55 56 57 58 63 69 73\n",
      "  76 77 79 80 84 85]\n",
      " [ 0  1  2  4  5  6  7  8 11 14 15 17 19 21 23 24 28 29 31 32 34 35 38 40\n",
      "  42 44 45 46 47 48]\n",
      " [ 0  1  5  7 10 18 19 21 22 24 26 27 28 30 32 33 35 37 38 39 41 43 47 48\n",
      "  49 50 51 56 58 65]\n",
      " [ 0  1  2  3  5 10 13 14 16 17 18 22 23 28 33 35 36 37 38 41 48 51 52 54\n",
      "  56 58 59 69 72 73]\n",
      " [ 0  2  5  6  8  9 10 11 12 14 15 16 19 22 26 28 35 39 42 46 47 49 50 52\n",
      "  54 56 62 63 66 67]]\n",
      "Max_len 145\n",
      "[[ 0  1  5  9 17 21 22 25 27 32 34 41 47 49 50 53 54 55 56 57 58 63 69 73\n",
      "  76 77 79 80 84 85]\n",
      " [ 0  1  2  4  5  6  7  8 11 14 15 17 19 21 23 24 28 29 31 32 34 35 38 40\n",
      "  42 44 45 46 47 48]\n",
      " [ 0  1  5  7 10 18 19 21 22 24 26 27 28 30 32 33 35 37 38 39 41 43 47 48\n",
      "  49 50 51 56 58 65]\n",
      " [ 0  1  2  3  5 10 13 14 16 17 18 22 23 28 33 35 36 37 38 41 48 51 52 54\n",
      "  56 58 59 69 72 73]\n",
      " [ 0  2  5  6  8  9 10 11 12 14 15 16 19 22 26 28 35 39 42 46 47 49 50 52\n",
      "  54 56 62 63 66 67]]\n",
      "Max_len 145\n",
      "[[ 0  1  5  9 17 21 22 25 27 32 34 41 47 49 50 53 54 55 56 57 58 63 69 73\n",
      "  76 77 79 80 84 85]\n",
      " [ 0  1  2  4  5  6  7  8 11 14 15 17 19 21 23 24 28 29 31 32 34 35 38 40\n",
      "  42 44 45 46 47 48]\n",
      " [ 0  1  5  7 10 18 19 21 22 24 26 27 28 30 32 33 35 37 38 39 41 43 47 48\n",
      "  49 50 51 56 58 65]\n",
      " [ 0  1  2  3  5 10 13 14 16 17 18 22 23 28 33 35 36 37 38 41 48 51 52 54\n",
      "  56 58 59 69 72 73]\n",
      " [ 0  2  5  6  8  9 10 11 12 14 15 16 19 22 26 28 35 39 42 46 47 49 50 52\n",
      "  54 56 62 63 66 67]]\n",
      "Max_len 145\n",
      "[[ 0  1  5  9 17 21 22 25 27 32 34 41 47 49 50 53 54 55 56 57 58 63 69 73\n",
      "  76 77 79 80 84 85]\n",
      " [ 0  1  2  4  5  6  7  8 11 14 15 17 19 21 23 24 28 29 31 32 34 35 38 40\n",
      "  42 44 45 46 47 48]\n",
      " [ 0  1  5  7 10 18 19 21 22 24 26 27 28 30 32 33 35 37 38 39 41 43 47 48\n",
      "  49 50 51 56 58 65]\n",
      " [ 0  1  2  3  5 10 13 14 16 17 18 22 23 28 33 35 36 37 38 41 48 51 52 54\n",
      "  56 58 59 69 72 73]\n",
      " [ 0  2  5  6  8  9 10 11 12 14 15 16 19 22 26 28 35 39 42 46 47 49 50 52\n",
      "  54 56 62 63 66 67]]\n",
      "Max_len 145\n",
      "[[ 0  1  5  9 17 21 22 25 27 32 34 41 47 49 50 53 54 55 56 57 58 63 69 73\n",
      "  76 77 79 80 84 85]\n",
      " [ 0  1  2  4  5  6  7  8 11 14 15 17 19 21 23 24 28 29 31 32 34 35 38 40\n",
      "  42 44 45 46 47 48]\n",
      " [ 0  1  5  7 10 18 19 21 22 24 26 27 28 30 32 33 35 37 38 39 41 43 47 48\n",
      "  49 50 51 56 58 65]\n",
      " [ 0  1  2  3  5 10 13 14 16 17 18 22 23 28 33 35 36 37 38 41 48 51 52 54\n",
      "  56 58 59 69 72 73]\n",
      " [ 0  2  5  6  8  9 10 11 12 14 15 16 19 22 26 28 35 39 42 46 47 49 50 52\n",
      "  54 56 62 63 66 67]]\n",
      "Max_len 145\n",
      "[[ 0  1  5  9 17 21 22 25 27 32 34 41 47 49 50 53 54 55 56 57 58 63 69 73\n",
      "  76 77 79 80 84 85]\n",
      " [ 0  1  2  4  5  6  7  8 11 14 15 17 19 21 23 24 28 29 31 32 34 35 38 40\n",
      "  42 44 45 46 47 48]\n",
      " [ 0  1  5  7 10 18 19 21 22 24 26 27 28 30 32 33 35 37 38 39 41 43 47 48\n",
      "  49 50 51 56 58 65]\n",
      " [ 0  1  2  3  5 10 13 14 16 17 18 22 23 28 33 35 36 37 38 41 48 51 52 54\n",
      "  56 58 59 69 72 73]\n",
      " [ 0  2  5  6  8  9 10 11 12 14 15 16 19 22 26 28 35 39 42 46 47 49 50 52\n",
      "  54 56 62 63 66 67]]\n",
      "Max_len 145\n",
      "[[ 0  1  5  9 17 21 22 25 27 32 34 41 47 49 50 53 54 55 56 57 58 63 69 73\n",
      "  76 77 79 80 84 85]\n",
      " [ 0  1  2  4  5  6  7  8 11 14 15 17 19 21 23 24 28 29 31 32 34 35 38 40\n",
      "  42 44 45 46 47 48]\n",
      " [ 0  1  5  7 10 18 19 21 22 24 26 27 28 30 32 33 35 37 38 39 41 43 47 48\n",
      "  49 50 51 56 58 65]\n",
      " [ 0  1  2  3  5 10 13 14 16 17 18 22 23 28 33 35 36 37 38 41 48 51 52 54\n",
      "  56 58 59 69 72 73]\n",
      " [ 0  2  5  6  8  9 10 11 12 14 15 16 19 22 26 28 35 39 42 46 47 49 50 52\n",
      "  54 56 62 63 66 67]]\n",
      "Max_len 145\n",
      "[[ 0  1  5  9 17 21 22 25 27 32 34 41 47 49 50 53 54 55 56 57 58 63 69 73\n",
      "  76 77 79 80 84 85]\n",
      " [ 0  1  2  4  5  6  7  8 11 14 15 17 19 21 23 24 28 29 31 32 34 35 38 40\n",
      "  42 44 45 46 47 48]\n",
      " [ 0  1  5  7 10 18 19 21 22 24 26 27 28 30 32 33 35 37 38 39 41 43 47 48\n",
      "  49 50 51 56 58 65]\n",
      " [ 0  1  2  3  5 10 13 14 16 17 18 22 23 28 33 35 36 37 38 41 48 51 52 54\n",
      "  56 58 59 69 72 73]\n",
      " [ 0  2  5  6  8  9 10 11 12 14 15 16 19 22 26 28 35 39 42 46 47 49 50 52\n",
      "  54 56 62 63 66 67]]\n",
      "Max_len 145\n",
      "[[ 0  1  5  9 17 21 22 25 27 32 34 41 47 49 50 53 54 55 56 57 58 63 69 73\n",
      "  76 77 79 80 84 85]\n",
      " [ 0  1  2  4  5  6  7  8 11 14 15 17 19 21 23 24 28 29 31 32 34 35 38 40\n",
      "  42 44 45 46 47 48]\n",
      " [ 0  1  5  7 10 18 19 21 22 24 26 27 28 30 32 33 35 37 38 39 41 43 47 48\n",
      "  49 50 51 56 58 65]\n",
      " [ 0  1  2  3  5 10 13 14 16 17 18 22 23 28 33 35 36 37 38 41 48 51 52 54\n",
      "  56 58 59 69 72 73]\n",
      " [ 0  2  5  6  8  9 10 11 12 14 15 16 19 22 26 28 35 39 42 46 47 49 50 52\n",
      "  54 56 62 63 66 67]]\n",
      "Max_len 145\n",
      "[[ 0  1  5  9 17 21 22 25 27 32 34 41 47 49 50 53 54 55 56 57 58 63 69 73\n",
      "  76 77 79 80 84 85]\n",
      " [ 0  1  2  4  5  6  7  8 11 14 15 17 19 21 23 24 28 29 31 32 34 35 38 40\n",
      "  42 44 45 46 47 48]\n",
      " [ 0  1  5  7 10 18 19 21 22 24 26 27 28 30 32 33 35 37 38 39 41 43 47 48\n",
      "  49 50 51 56 58 65]\n",
      " [ 0  1  2  3  5 10 13 14 16 17 18 22 23 28 33 35 36 37 38 41 48 51 52 54\n",
      "  56 58 59 69 72 73]\n",
      " [ 0  2  5  6  8  9 10 11 12 14 15 16 19 22 26 28 35 39 42 46 47 49 50 52\n",
      "  54 56 62 63 66 67]]\n",
      "Max_len 145\n",
      "[[ 0  1  5  9 17 21 22 25 27 32 34 41 47 49 50 53 54 55 56 57 58 63 69 73\n",
      "  76 77 79 80 84 85]\n",
      " [ 0  1  2  4  5  6  7  8 11 14 15 17 19 21 23 24 28 29 31 32 34 35 38 40\n",
      "  42 44 45 46 47 48]\n",
      " [ 0  1  5  7 10 18 19 21 22 24 26 27 28 30 32 33 35 37 38 39 41 43 47 48\n",
      "  49 50 51 56 58 65]\n",
      " [ 0  1  2  3  5 10 13 14 16 17 18 22 23 28 33 35 36 37 38 41 48 51 52 54\n",
      "  56 58 59 69 72 73]\n",
      " [ 0  2  5  6  8  9 10 11 12 14 15 16 19 22 26 28 35 39 42 46 47 49 50 52\n",
      "  54 56 62 63 66 67]]\n",
      "Max_len 145\n",
      "[[ 0  1  5  9 17 21 22 25 27 32 34 41 47 49 50 53 54 55 56 57 58 63 69 73\n",
      "  76 77 79 80 84 85]\n",
      " [ 0  1  2  4  5  6  7  8 11 14 15 17 19 21 23 24 28 29 31 32 34 35 38 40\n",
      "  42 44 45 46 47 48]\n",
      " [ 0  1  5  7 10 18 19 21 22 24 26 27 28 30 32 33 35 37 38 39 41 43 47 48\n",
      "  49 50 51 56 58 65]\n",
      " [ 0  1  2  3  5 10 13 14 16 17 18 22 23 28 33 35 36 37 38 41 48 51 52 54\n",
      "  56 58 59 69 72 73]\n",
      " [ 0  2  5  6  8  9 10 11 12 14 15 16 19 22 26 28 35 39 42 46 47 49 50 52\n",
      "  54 56 62 63 66 67]]\n",
      "Max_len 145\n",
      "[[ 0  1  5  9 17 21 22 25 27 32 34 41 47 49 50 53 54 55 56 57 58 63 69 73\n",
      "  76 77 79 80 84 85]\n",
      " [ 0  1  2  4  5  6  7  8 11 14 15 17 19 21 23 24 28 29 31 32 34 35 38 40\n",
      "  42 44 45 46 47 48]\n",
      " [ 0  1  5  7 10 18 19 21 22 24 26 27 28 30 32 33 35 37 38 39 41 43 47 48\n",
      "  49 50 51 56 58 65]\n",
      " [ 0  1  2  3  5 10 13 14 16 17 18 22 23 28 33 35 36 37 38 41 48 51 52 54\n",
      "  56 58 59 69 72 73]\n",
      " [ 0  2  5  6  8  9 10 11 12 14 15 16 19 22 26 28 35 39 42 46 47 49 50 52\n",
      "  54 56 62 63 66 67]]\n",
      "Max_len 145\n",
      "[[ 0  1  5  9 17 21 22 25 27 32 34 41 47 49 50 53 54 55 56 57 58 63 69 73\n",
      "  76 77 79 80 84 85]\n",
      " [ 0  1  2  4  5  6  7  8 11 14 15 17 19 21 23 24 28 29 31 32 34 35 38 40\n",
      "  42 44 45 46 47 48]\n",
      " [ 0  1  5  7 10 18 19 21 22 24 26 27 28 30 32 33 35 37 38 39 41 43 47 48\n",
      "  49 50 51 56 58 65]\n",
      " [ 0  1  2  3  5 10 13 14 16 17 18 22 23 28 33 35 36 37 38 41 48 51 52 54\n",
      "  56 58 59 69 72 73]\n",
      " [ 0  2  5  6  8  9 10 11 12 14 15 16 19 22 26 28 35 39 42 46 47 49 50 52\n",
      "  54 56 62 63 66 67]]\n",
      "Max_len 145\n",
      "[[ 0  1  5  9 17 21 22 25 27 32 34 41 47 49 50 53 54 55 56 57 58 63 69 73\n",
      "  76 77 79 80 84 85]\n",
      " [ 0  1  2  4  5  6  7  8 11 14 15 17 19 21 23 24 28 29 31 32 34 35 38 40\n",
      "  42 44 45 46 47 48]\n",
      " [ 0  1  5  7 10 18 19 21 22 24 26 27 28 30 32 33 35 37 38 39 41 43 47 48\n",
      "  49 50 51 56 58 65]\n",
      " [ 0  1  2  3  5 10 13 14 16 17 18 22 23 28 33 35 36 37 38 41 48 51 52 54\n",
      "  56 58 59 69 72 73]\n",
      " [ 0  2  5  6  8  9 10 11 12 14 15 16 19 22 26 28 35 39 42 46 47 49 50 52\n",
      "  54 56 62 63 66 67]]\n",
      "Max_len 145\n",
      "[[ 0  1  5  9 17 21 22 25 27 32 34 41 47 49 50 53 54 55 56 57 58 63 69 73\n",
      "  76 77 79 80 84 85]\n",
      " [ 0  1  2  4  5  6  7  8 11 14 15 17 19 21 23 24 28 29 31 32 34 35 38 40\n",
      "  42 44 45 46 47 48]\n",
      " [ 0  1  5  7 10 18 19 21 22 24 26 27 28 30 32 33 35 37 38 39 41 43 47 48\n",
      "  49 50 51 56 58 65]\n",
      " [ 0  1  2  3  5 10 13 14 16 17 18 22 23 28 33 35 36 37 38 41 48 51 52 54\n",
      "  56 58 59 69 72 73]\n",
      " [ 0  2  5  6  8  9 10 11 12 14 15 16 19 22 26 28 35 39 42 46 47 49 50 52\n",
      "  54 56 62 63 66 67]]\n",
      "Max_len 145\n",
      "[[ 0  1  5  9 17 21 22 25 27 32 34 41 47 49 50 53 54 55 56 57 58 63 69 73\n",
      "  76 77 79 80 84 85]\n",
      " [ 0  1  2  4  5  6  7  8 11 14 15 17 19 21 23 24 28 29 31 32 34 35 38 40\n",
      "  42 44 45 46 47 48]\n",
      " [ 0  1  5  7 10 18 19 21 22 24 26 27 28 30 32 33 35 37 38 39 41 43 47 48\n",
      "  49 50 51 56 58 65]\n",
      " [ 0  1  2  3  5 10 13 14 16 17 18 22 23 28 33 35 36 37 38 41 48 51 52 54\n",
      "  56 58 59 69 72 73]\n",
      " [ 0  2  5  6  8  9 10 11 12 14 15 16 19 22 26 28 35 39 42 46 47 49 50 52\n",
      "  54 56 62 63 66 67]]\n",
      "Max_len 145\n",
      "[[ 0  1  5  9 17 21 22 25 27 32 34 41 47 49 50 53 54 55 56 57 58 63 69 73\n",
      "  76 77 79 80 84 85]\n",
      " [ 0  1  2  4  5  6  7  8 11 14 15 17 19 21 23 24 28 29 31 32 34 35 38 40\n",
      "  42 44 45 46 47 48]\n",
      " [ 0  1  5  7 10 18 19 21 22 24 26 27 28 30 32 33 35 37 38 39 41 43 47 48\n",
      "  49 50 51 56 58 65]\n",
      " [ 0  1  2  3  5 10 13 14 16 17 18 22 23 28 33 35 36 37 38 41 48 51 52 54\n",
      "  56 58 59 69 72 73]\n",
      " [ 0  2  5  6  8  9 10 11 12 14 15 16 19 22 26 28 35 39 42 46 47 49 50 52\n",
      "  54 56 62 63 66 67]]\n",
      "Max_len 145\n",
      "[[ 0  1  5  9 17 21 22 25 27 32 34 41 47 49 50 53 54 55 56 57 58 63 69 73\n",
      "  76 77 79 80 84 85]\n",
      " [ 0  1  2  4  5  6  7  8 11 14 15 17 19 21 23 24 28 29 31 32 34 35 38 40\n",
      "  42 44 45 46 47 48]\n",
      " [ 0  1  5  7 10 18 19 21 22 24 26 27 28 30 32 33 35 37 38 39 41 43 47 48\n",
      "  49 50 51 56 58 65]\n",
      " [ 0  1  2  3  5 10 13 14 16 17 18 22 23 28 33 35 36 37 38 41 48 51 52 54\n",
      "  56 58 59 69 72 73]\n",
      " [ 0  2  5  6  8  9 10 11 12 14 15 16 19 22 26 28 35 39 42 46 47 49 50 52\n",
      "  54 56 62 63 66 67]]\n",
      "Max_len 145\n",
      "[[ 0  1  5  9 17 21 22 25 27 32 34 41 47 49 50 53 54 55 56 57 58 63 69 73\n",
      "  76 77 79 80 84 85]\n",
      " [ 0  1  2  4  5  6  7  8 11 14 15 17 19 21 23 24 28 29 31 32 34 35 38 40\n",
      "  42 44 45 46 47 48]\n",
      " [ 0  1  5  7 10 18 19 21 22 24 26 27 28 30 32 33 35 37 38 39 41 43 47 48\n",
      "  49 50 51 56 58 65]\n",
      " [ 0  1  2  3  5 10 13 14 16 17 18 22 23 28 33 35 36 37 38 41 48 51 52 54\n",
      "  56 58 59 69 72 73]\n",
      " [ 0  2  5  6  8  9 10 11 12 14 15 16 19 22 26 28 35 39 42 46 47 49 50 52\n",
      "  54 56 62 63 66 67]]\n",
      "Max_len 145\n",
      "[[ 0  1  5  9 17 21 22 25 27 32 34 41 47 49 50 53 54 55 56 57 58 63 69 73\n",
      "  76 77 79 80 84 85]\n",
      " [ 0  1  2  4  5  6  7  8 11 14 15 17 19 21 23 24 28 29 31 32 34 35 38 40\n",
      "  42 44 45 46 47 48]\n",
      " [ 0  1  5  7 10 18 19 21 22 24 26 27 28 30 32 33 35 37 38 39 41 43 47 48\n",
      "  49 50 51 56 58 65]\n",
      " [ 0  1  2  3  5 10 13 14 16 17 18 22 23 28 33 35 36 37 38 41 48 51 52 54\n",
      "  56 58 59 69 72 73]\n",
      " [ 0  2  5  6  8  9 10 11 12 14 15 16 19 22 26 28 35 39 42 46 47 49 50 52\n",
      "  54 56 62 63 66 67]]\n",
      "Max_len 145\n",
      "[[ 0  1  5  9 17 21 22 25 27 32 34 41 47 49 50 53 54 55 56 57 58 63 69 73\n",
      "  76 77 79 80 84 85]\n",
      " [ 0  1  2  4  5  6  7  8 11 14 15 17 19 21 23 24 28 29 31 32 34 35 38 40\n",
      "  42 44 45 46 47 48]\n",
      " [ 0  1  5  7 10 18 19 21 22 24 26 27 28 30 32 33 35 37 38 39 41 43 47 48\n",
      "  49 50 51 56 58 65]\n",
      " [ 0  1  2  3  5 10 13 14 16 17 18 22 23 28 33 35 36 37 38 41 48 51 52 54\n",
      "  56 58 59 69 72 73]\n",
      " [ 0  2  5  6  8  9 10 11 12 14 15 16 19 22 26 28 35 39 42 46 47 49 50 52\n",
      "  54 56 62 63 66 67]]\n",
      "Max_len 145\n",
      "[[ 0  1  5  9 17 21 22 25 27 32 34 41 47 49 50 53 54 55 56 57 58 63 69 73\n",
      "  76 77 79 80 84 85]\n",
      " [ 0  1  2  4  5  6  7  8 11 14 15 17 19 21 23 24 28 29 31 32 34 35 38 40\n",
      "  42 44 45 46 47 48]\n",
      " [ 0  1  5  7 10 18 19 21 22 24 26 27 28 30 32 33 35 37 38 39 41 43 47 48\n",
      "  49 50 51 56 58 65]\n",
      " [ 0  1  2  3  5 10 13 14 16 17 18 22 23 28 33 35 36 37 38 41 48 51 52 54\n",
      "  56 58 59 69 72 73]\n",
      " [ 0  2  5  6  8  9 10 11 12 14 15 16 19 22 26 28 35 39 42 46 47 49 50 52\n",
      "  54 56 62 63 66 67]]\n",
      "Max_len 145\n",
      "[[ 0  1  5  9 17 21 22 25 27 32 34 41 47 49 50 53 54 55 56 57 58 63 69 73\n",
      "  76 77 79 80 84 85]\n",
      " [ 0  1  2  4  5  6  7  8 11 14 15 17 19 21 23 24 28 29 31 32 34 35 38 40\n",
      "  42 44 45 46 47 48]\n",
      " [ 0  1  5  7 10 18 19 21 22 24 26 27 28 30 32 33 35 37 38 39 41 43 47 48\n",
      "  49 50 51 56 58 65]\n",
      " [ 0  1  2  3  5 10 13 14 16 17 18 22 23 28 33 35 36 37 38 41 48 51 52 54\n",
      "  56 58 59 69 72 73]\n",
      " [ 0  2  5  6  8  9 10 11 12 14 15 16 19 22 26 28 35 39 42 46 47 49 50 52\n",
      "  54 56 62 63 66 67]]\n",
      "Max_len 145\n",
      "[[ 0  1  5  9 17 21 22 25 27 32 34 41 47 49 50 53 54 55 56 57 58 63 69 73\n",
      "  76 77 79 80 84 85]\n",
      " [ 0  1  2  4  5  6  7  8 11 14 15 17 19 21 23 24 28 29 31 32 34 35 38 40\n",
      "  42 44 45 46 47 48]\n",
      " [ 0  1  5  7 10 18 19 21 22 24 26 27 28 30 32 33 35 37 38 39 41 43 47 48\n",
      "  49 50 51 56 58 65]\n",
      " [ 0  1  2  3  5 10 13 14 16 17 18 22 23 28 33 35 36 37 38 41 48 51 52 54\n",
      "  56 58 59 69 72 73]\n",
      " [ 0  2  5  6  8  9 10 11 12 14 15 16 19 22 26 28 35 39 42 46 47 49 50 52\n",
      "  54 56 62 63 66 67]]\n",
      "Max_len 145\n",
      "[[ 0  1  5  9 17 21 22 25 27 32 34 41 47 49 50 53 54 55 56 57 58 63 69 73\n",
      "  76 77 79 80 84 85]\n",
      " [ 0  1  2  4  5  6  7  8 11 14 15 17 19 21 23 24 28 29 31 32 34 35 38 40\n",
      "  42 44 45 46 47 48]\n",
      " [ 0  1  5  7 10 18 19 21 22 24 26 27 28 30 32 33 35 37 38 39 41 43 47 48\n",
      "  49 50 51 56 58 65]\n",
      " [ 0  1  2  3  5 10 13 14 16 17 18 22 23 28 33 35 36 37 38 41 48 51 52 54\n",
      "  56 58 59 69 72 73]\n",
      " [ 0  2  5  6  8  9 10 11 12 14 15 16 19 22 26 28 35 39 42 46 47 49 50 52\n",
      "  54 56 62 63 66 67]]\n",
      "Max_len 145\n",
      "[[ 0  1  5  9 17 21 22 25 27 32 34 41 47 49 50 53 54 55 56 57 58 63 69 73\n",
      "  76 77 79 80 84 85]\n",
      " [ 0  1  2  4  5  6  7  8 11 14 15 17 19 21 23 24 28 29 31 32 34 35 38 40\n",
      "  42 44 45 46 47 48]\n",
      " [ 0  1  5  7 10 18 19 21 22 24 26 27 28 30 32 33 35 37 38 39 41 43 47 48\n",
      "  49 50 51 56 58 65]\n",
      " [ 0  1  2  3  5 10 13 14 16 17 18 22 23 28 33 35 36 37 38 41 48 51 52 54\n",
      "  56 58 59 69 72 73]\n",
      " [ 0  2  5  6  8  9 10 11 12 14 15 16 19 22 26 28 35 39 42 46 47 49 50 52\n",
      "  54 56 62 63 66 67]]\n",
      "Max_len 145\n",
      "[[ 0  1  5  9 17 21 22 25 27 32 34 41 47 49 50 53 54 55 56 57 58 63 69 73\n",
      "  76 77 79 80 84 85]\n",
      " [ 0  1  2  4  5  6  7  8 11 14 15 17 19 21 23 24 28 29 31 32 34 35 38 40\n",
      "  42 44 45 46 47 48]\n",
      " [ 0  1  5  7 10 18 19 21 22 24 26 27 28 30 32 33 35 37 38 39 41 43 47 48\n",
      "  49 50 51 56 58 65]\n",
      " [ 0  1  2  3  5 10 13 14 16 17 18 22 23 28 33 35 36 37 38 41 48 51 52 54\n",
      "  56 58 59 69 72 73]\n",
      " [ 0  2  5  6  8  9 10 11 12 14 15 16 19 22 26 28 35 39 42 46 47 49 50 52\n",
      "  54 56 62 63 66 67]]\n",
      "Max_len 145\n",
      "[[ 0  1  5  9 17 21 22 25 27 32 34 41 47 49 50 53 54 55 56 57 58 63 69 73\n",
      "  76 77 79 80 84 85]\n",
      " [ 0  1  2  4  5  6  7  8 11 14 15 17 19 21 23 24 28 29 31 32 34 35 38 40\n",
      "  42 44 45 46 47 48]\n",
      " [ 0  1  5  7 10 18 19 21 22 24 26 27 28 30 32 33 35 37 38 39 41 43 47 48\n",
      "  49 50 51 56 58 65]\n",
      " [ 0  1  2  3  5 10 13 14 16 17 18 22 23 28 33 35 36 37 38 41 48 51 52 54\n",
      "  56 58 59 69 72 73]\n",
      " [ 0  2  5  6  8  9 10 11 12 14 15 16 19 22 26 28 35 39 42 46 47 49 50 52\n",
      "  54 56 62 63 66 67]]\n",
      "Max_len 145\n",
      "[[ 0  1  5  9 17 21 22 25 27 32 34 41 47 49 50 53 54 55 56 57 58 63 69 73\n",
      "  76 77 79 80 84 85]\n",
      " [ 0  1  2  4  5  6  7  8 11 14 15 17 19 21 23 24 28 29 31 32 34 35 38 40\n",
      "  42 44 45 46 47 48]\n",
      " [ 0  1  5  7 10 18 19 21 22 24 26 27 28 30 32 33 35 37 38 39 41 43 47 48\n",
      "  49 50 51 56 58 65]\n",
      " [ 0  1  2  3  5 10 13 14 16 17 18 22 23 28 33 35 36 37 38 41 48 51 52 54\n",
      "  56 58 59 69 72 73]\n",
      " [ 0  2  5  6  8  9 10 11 12 14 15 16 19 22 26 28 35 39 42 46 47 49 50 52\n",
      "  54 56 62 63 66 67]]\n",
      "Max_len 145\n",
      "[[ 0  1  5  9 17 21 22 25 27 32 34 41 47 49 50 53 54 55 56 57 58 63 69 73\n",
      "  76 77 79 80 84 85]\n",
      " [ 0  1  2  4  5  6  7  8 11 14 15 17 19 21 23 24 28 29 31 32 34 35 38 40\n",
      "  42 44 45 46 47 48]\n",
      " [ 0  1  5  7 10 18 19 21 22 24 26 27 28 30 32 33 35 37 38 39 41 43 47 48\n",
      "  49 50 51 56 58 65]\n",
      " [ 0  1  2  3  5 10 13 14 16 17 18 22 23 28 33 35 36 37 38 41 48 51 52 54\n",
      "  56 58 59 69 72 73]\n",
      " [ 0  2  5  6  8  9 10 11 12 14 15 16 19 22 26 28 35 39 42 46 47 49 50 52\n",
      "  54 56 62 63 66 67]]\n",
      "Max_len 145\n"
     ]
    }
   ],
   "source": [
    "out = hmms.multi_train(3, t, e, 10, 200, ret='all', method='exp')"
   ]
  },
  {
   "cell_type": "code",
   "execution_count": null,
   "metadata": {
    "collapsed": false,
    "deletable": true,
    "editable": true
   },
   "outputs": [],
   "source": [
    "aout =  np.average(out,  axis=0)\n",
    "aoute = np.average(oute, axis=0)\n",
    "\n",
    "mout =  np.min(out,  axis=0)\n",
    "moute = np.min(oute, axis=0)\n",
    "\n",
    "\n",
    "real = chmm.data_estimate( t, e )\n",
    "#For better visibility of the graph, we cut first two values.\n",
    "\n",
    "offset = 3\n",
    "\n",
    "#plt.plot(  aout[offset:] / real , color = \"red\" )\n",
    "#plt.plot( aoute[offset:] / real , color = \"blue\" )\n",
    "\n",
    "#plt.plot(  mout[offset:] / real , color = \"orange\" )\n",
    "#plt.plot( moute[offset:] / real , color = \"green\")\n",
    "\n",
    "for line in out:\n",
    "    print( line/real )\n",
    "    plt.plot(  line[offset:] / real )\n",
    "\n",
    "\n",
    "plt.show()"
   ]
  },
  {
   "cell_type": "code",
   "execution_count": null,
   "metadata": {
    "collapsed": false,
    "deletable": true,
    "editable": true
   },
   "outputs": [],
   "source": [
    "real = chmm.data_estimate( t, e )\n",
    "\n",
    "offset = 3\n",
    "\n",
    "print(out)\n",
    "\n",
    "for line in out:\n",
    "    #graph= line[1]\n",
    "    #print( type(line) )\n",
    "    #print( line[1]/real )\n",
    "    plt.plot(  line[1][offset:] / real )\n",
    "\n",
    "\n",
    "\n",
    "\n"
   ]
  },
  {
   "cell_type": "code",
   "execution_count": null,
   "metadata": {
    "collapsed": false,
    "deletable": true,
    "editable": true
   },
   "outputs": [],
   "source": [
    "oute"
   ]
  },
  {
   "cell_type": "markdown",
   "metadata": {
    "collapsed": true,
    "deletable": true,
    "editable": true
   },
   "source": [
    "### Test different length of vectors"
   ]
  },
  {
   "cell_type": "code",
   "execution_count": 1,
   "metadata": {
    "collapsed": true
   },
   "outputs": [],
   "source": [
    "import numpy as np\n",
    "import matplotlib.pyplot as plt\n",
    "import hmms\n",
    "\n",
    "%matplotlib inline"
   ]
  },
  {
   "cell_type": "code",
   "execution_count": 2,
   "metadata": {
    "collapsed": false
   },
   "outputs": [],
   "source": [
    "data_l = [ np.array( [0, 0, 0, 0, 1, 1, 1, 1, 1, 1, 1, 1] ) ,\n",
    "         np.array( [0, 1, 0, 0, 1, 0, 1 ] ),\n",
    "         np.array( [2, 0, 1, 0, 0, 0, 0, 0, 0, 0] ) ]\n",
    "\n",
    "data_n = np.array(  [[0, 0, 0, 1, 1, 1, 1, 1, 1, 1],\n",
    "        [0, 0, 0, 0, 1, 1, 1, 0, 1, 0],\n",
    "        [2, 0, 1, 0, 0, 0, 0, 0, 0, 0]] )"
   ]
  },
  {
   "cell_type": "markdown",
   "metadata": {},
   "source": [
    "#### Test Numpy matrix"
   ]
  },
  {
   "cell_type": "code",
   "execution_count": 3,
   "metadata": {
    "collapsed": true
   },
   "outputs": [],
   "source": [
    "dhmm_r = hmms.DtHMM.random( 2,3 )"
   ]
  },
  {
   "cell_type": "code",
   "execution_count": 4,
   "metadata": {
    "collapsed": false
   },
   "outputs": [],
   "source": [
    "graph_n = dhmm_r.baum_welch( data_n, 10, est=True ) "
   ]
  },
  {
   "cell_type": "code",
   "execution_count": 5,
   "metadata": {
    "collapsed": false
   },
   "outputs": [
    {
     "data": {
      "text/plain": [
       "4.8293019969102226e-10"
      ]
     },
     "execution_count": 5,
     "metadata": {},
     "output_type": "execute_result"
    }
   ],
   "source": [
    "np.exp( dhmm_r.data_estimate(data_n) )"
   ]
  },
  {
   "cell_type": "markdown",
   "metadata": {},
   "source": [
    "#### Test List of numpy arrays"
   ]
  },
  {
   "cell_type": "code",
   "execution_count": 6,
   "metadata": {
    "collapsed": true
   },
   "outputs": [],
   "source": [
    "dhmm_r = hmms.DtHMM.random( 2,3 )"
   ]
  },
  {
   "cell_type": "code",
   "execution_count": 7,
   "metadata": {
    "collapsed": false
   },
   "outputs": [],
   "source": [
    "graph_l = dhmm_r.baum_welch( data_l, 10, est=True )"
   ]
  },
  {
   "cell_type": "code",
   "execution_count": 8,
   "metadata": {
    "collapsed": false
   },
   "outputs": [
    {
     "data": {
      "text/plain": [
       "2.2986814160440115e-09"
      ]
     },
     "execution_count": 8,
     "metadata": {},
     "output_type": "execute_result"
    }
   ],
   "source": [
    "np.exp( dhmm_r.data_estimate(data_l) )"
   ]
  },
  {
   "cell_type": "code",
   "execution_count": 9,
   "metadata": {
    "collapsed": false
   },
   "outputs": [
    {
     "data": {
      "text/plain": [
       "[<matplotlib.lines.Line2D at 0x7fbf6d9cf898>]"
      ]
     },
     "execution_count": 9,
     "metadata": {},
     "output_type": "execute_result"
    },
    {
     "data": {
      "image/png": "[encoded data removed]",
      "text/plain": [
       "<matplotlib.figure.Figure at 0x7fbf6d9cf7f0>"
      ]
     },
     "metadata": {},
     "output_type": "display_data"
    }
   ],
   "source": [
    "plt.plot( graph_n, color='red' )\n",
    "plt.plot( graph_l )"
   ]
  },
  {
   "cell_type": "markdown",
   "metadata": {},
   "source": [
    "Make the similar for the continuous model "
   ]
  },
  {
   "cell_type": "code",
   "execution_count": 10,
   "metadata": {
    "collapsed": true
   },
   "outputs": [],
   "source": [
    "data_l = [ np.array( [0, 0, 2, 0 ] ) ,\n",
    "         np.array( [0, 1, 0, 0, 1 ] ),\n",
    "         np.array( [2, 0, 1 ] ) ]\n",
    "\n",
    "data_n = np.array(  [[0, 0, 0, 1],\n",
    "        [0, 2, 0, 0],\n",
    "        [2, 0, 1, 0] ] )\n",
    "\n",
    "time_l = [ np.array( [0, 1, 2, 4 ] ) ,\n",
    "         np.array( [0, 1, 3, 5, 6 ] ),\n",
    "         np.array( [0, 2, 3 ] ) ]\n",
    "\n",
    "time_n = np.array(  [[0, 1, 3, 4],\n",
    "        [0, 2, 3, 5],\n",
    "        [0, 2, 4, 6] ] )"
   ]
  },
  {
   "cell_type": "code",
   "execution_count": 11,
   "metadata": {
    "collapsed": true
   },
   "outputs": [],
   "source": [
    "chmm_r = hmms.CtHMM.random( 2,3 )"
   ]
  },
  {
   "cell_type": "code",
   "execution_count": 12,
   "metadata": {
    "collapsed": false
   },
   "outputs": [],
   "source": [
    "graph_n = chmm_r.baum_welch( time_n, data_n, 10, est=True ) "
   ]
  },
  {
   "cell_type": "code",
   "execution_count": 13,
   "metadata": {
    "collapsed": false
   },
   "outputs": [
    {
     "data": {
      "text/plain": [
       "6.8588896911192439e-05"
      ]
     },
     "execution_count": 13,
     "metadata": {},
     "output_type": "execute_result"
    }
   ],
   "source": [
    "np.exp( chmm_r.data_estimate(time_n, data_n) )"
   ]
  },
  {
   "cell_type": "code",
   "execution_count": 14,
   "metadata": {
    "collapsed": true
   },
   "outputs": [],
   "source": [
    "chmm_r = hmms.CtHMM.random( 2,3 )"
   ]
  },
  {
   "cell_type": "code",
   "execution_count": 15,
   "metadata": {
    "collapsed": false
   },
   "outputs": [
    {
     "ename": "TypeError",
     "evalue": "Cannot convert list to numpy.ndarray",
     "output_type": "error",
     "traceback": [
      "\u001b[0;31m---------------------------------------------------------------------------\u001b[0m",
      "\u001b[0;31mTypeError\u001b[0m                                 Traceback (most recent call last)",
      "\u001b[0;32m<ipython-input-15-666d426a3562>\u001b[0m in \u001b[0;36m<module>\u001b[0;34m()\u001b[0m\n\u001b[0;32m----> 1\u001b[0;31m \u001b[0mgraph_n\u001b[0m \u001b[0;34m=\u001b[0m \u001b[0mchmm_r\u001b[0m\u001b[0;34m.\u001b[0m\u001b[0mbaum_welch\u001b[0m\u001b[0;34m(\u001b[0m \u001b[0mtime_l\u001b[0m\u001b[0;34m,\u001b[0m \u001b[0mdata_l\u001b[0m\u001b[0;34m,\u001b[0m \u001b[0;36m10\u001b[0m\u001b[0;34m,\u001b[0m \u001b[0mest\u001b[0m\u001b[0;34m=\u001b[0m\u001b[0;32mTrue\u001b[0m \u001b[0;34m)\u001b[0m\u001b[0;34m\u001b[0m\u001b[0m\n\u001b[0m",
      "\u001b[0;32m/home/jamaisvu/Desktop/HMMs/hmms/cthmm.pyx\u001b[0m in \u001b[0;36mhmms.cthmm.CtHMM.baum_welch (hmms/cthmm.c:16074)\u001b[0;34m()\u001b[0m\n\u001b[1;32m    517\u001b[0m         \u001b[0;32mif\u001b[0m \u001b[0;34m'est'\u001b[0m \u001b[0;32min\u001b[0m \u001b[0mkvargs\u001b[0m\u001b[0;34m:\u001b[0m\u001b[0;34m\u001b[0m\u001b[0m\n\u001b[1;32m    518\u001b[0m             \u001b[0;32mif\u001b[0m \u001b[0mkvargs\u001b[0m\u001b[0;34m[\u001b[0m\u001b[0;34m'est'\u001b[0m\u001b[0;34m]\u001b[0m \u001b[0;34m==\u001b[0m \u001b[0;32mTrue\u001b[0m\u001b[0;34m:\u001b[0m\u001b[0;34m\u001b[0m\u001b[0m\n\u001b[0;32m--> 519\u001b[0;31m                 \u001b[0;32mreturn\u001b[0m \u001b[0mself\u001b[0m\u001b[0;34m.\u001b[0m\u001b[0m_baum_welch\u001b[0m\u001b[0;34m(\u001b[0m \u001b[0mtimes\u001b[0m\u001b[0;34m,\u001b[0m \u001b[0mdata\u001b[0m\u001b[0;34m,\u001b[0m \u001b[0;32mTrue\u001b[0m\u001b[0;34m,\u001b[0m \u001b[0miteration\u001b[0m \u001b[0;34m)\u001b[0m\u001b[0;34m\u001b[0m\u001b[0m\n\u001b[0m\u001b[1;32m    520\u001b[0m \u001b[0;34m\u001b[0m\u001b[0m\n\u001b[1;32m    521\u001b[0m \u001b[0;34m\u001b[0m\u001b[0m\n",
      "\u001b[0;32m/home/jamaisvu/Desktop/HMMs/hmms/cthmm.pyx\u001b[0m in \u001b[0;36mhmms.cthmm.CtHMM._baum_welch (hmms/cthmm.c:19505)\u001b[0;34m()\u001b[0m\n\u001b[1;32m    736\u001b[0m \u001b[0;34m\u001b[0m\u001b[0m\n\u001b[1;32m    737\u001b[0m         \u001b[0;32mif\u001b[0m \u001b[0mest\u001b[0m\u001b[0;34m:\u001b[0m\u001b[0;34m\u001b[0m\u001b[0m\n\u001b[0;32m--> 738\u001b[0;31m             \u001b[0mgraph\u001b[0m\u001b[0;34m[\u001b[0m\u001b[0miterations\u001b[0m\u001b[0;34m]\u001b[0m \u001b[0;34m=\u001b[0m \u001b[0mself\u001b[0m\u001b[0;34m.\u001b[0m\u001b[0mdata_estimate\u001b[0m\u001b[0;34m(\u001b[0m\u001b[0mtimes\u001b[0m\u001b[0;34m,\u001b[0m \u001b[0mdata\u001b[0m\u001b[0;34m)\u001b[0m\u001b[0;34m\u001b[0m\u001b[0m\n\u001b[0m\u001b[1;32m    739\u001b[0m             \u001b[0;32mreturn\u001b[0m \u001b[0mgraph\u001b[0m\u001b[0;34m\u001b[0m\u001b[0m\n\u001b[1;32m    740\u001b[0m \u001b[0;34m\u001b[0m\u001b[0m\n",
      "\u001b[0;31mTypeError\u001b[0m: Cannot convert list to numpy.ndarray"
     ]
    }
   ],
   "source": [
    "graph_n = chmm_r.baum_welch( time_l, data_l, 10, est=True ) "
   ]
  },
  {
   "cell_type": "code",
   "execution_count": 16,
   "metadata": {
    "collapsed": false
   },
   "outputs": [
    {
     "ename": "TypeError",
     "evalue": "Argument 'times' has incorrect type (expected numpy.ndarray, got list)",
     "output_type": "error",
     "traceback": [
      "\u001b[0;31m---------------------------------------------------------------------------\u001b[0m",
      "\u001b[0;31mTypeError\u001b[0m                                 Traceback (most recent call last)",
      "\u001b[0;32m<ipython-input-16-cb0d9083d7dd>\u001b[0m in \u001b[0;36m<module>\u001b[0;34m()\u001b[0m\n\u001b[0;32m----> 1\u001b[0;31m \u001b[0mnp\u001b[0m\u001b[0;34m.\u001b[0m\u001b[0mexp\u001b[0m\u001b[0;34m(\u001b[0m \u001b[0mchmm_r\u001b[0m\u001b[0;34m.\u001b[0m\u001b[0mdata_estimate\u001b[0m\u001b[0;34m(\u001b[0m\u001b[0mtime_l\u001b[0m\u001b[0;34m,\u001b[0m \u001b[0mdata_l\u001b[0m\u001b[0;34m)\u001b[0m \u001b[0;34m)\u001b[0m\u001b[0;34m\u001b[0m\u001b[0m\n\u001b[0m",
      "\u001b[0;31mTypeError\u001b[0m: Argument 'times' has incorrect type (expected numpy.ndarray, got list)"
     ]
    }
   ],
   "source": [
    "np.exp( chmm_r.data_estimate(time_l, data_l) )"
   ]
  },
  {
   "cell_type": "code",
   "execution_count": null,
   "metadata": {
    "collapsed": true
   },
   "outputs": [],
   "source": []
  },
  {
   "cell_type": "code",
   "execution_count": null,
   "metadata": {
    "collapsed": true
   },
   "outputs": [],
   "source": []
  }
 ],
 "metadata": {
  "kernelspec": {
   "display_name": "Python 3",
   "language": "python",
   "name": "python3"
  },
  "language_info": {
   "codemirror_mode": {
    "name": "ipython",
    "version": 3
   },
   "file_extension": ".py",
   "mimetype": "text/x-python",
   "name": "python",
   "nbconvert_exporter": "python",
   "pygments_lexer": "ipython3",
   "version": "3.5.2"
  }
 },
 "nbformat": 4,
 "nbformat_minor": 2
}
