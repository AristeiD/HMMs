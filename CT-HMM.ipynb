{
 "cells": [
  {
   "cell_type": "markdown",
   "metadata": {},
   "source": [
    "HMMs Library \n",
    "============================\n",
    "#### (Discrete & Continuous hidden markov models )\n",
    "\n",
    "The document contain the tutorial ( usage explained by example ) for the hidden markov models library [link to pip].\n",
    "* [The **first** part](#dthmm) will cover disrete-time hidden markov model (**DtHMM**)\n",
    "* [The **second** part](#cthmm) will be dedicated to continuous-time hidden markov model (**CtHMM**)\n",
    "* [The **third** part](#conv) will compare the convergences of **both** models\n",
    "\n",
    "The all of the part are independent, so you do not need to run all notebook, if you are interested only in one of them. \n",
    "\n",
    "\n",
    "If you are not familiar with the hidden markov model theory, We recommend ...\n",
    "%todo: refer to DP theory, (simple guide to cthmm?), github, sources\n"
   ]
  },
  {
   "cell_type": "markdown",
   "metadata": {},
   "source": [
    "<a id='dthmm'></a>\n",
    "Part 1: Discrete Time Hidden Markov Model\n",
    "---------------------------------------------------"
   ]
  },
  {
   "cell_type": "code",
   "execution_count": 1,
   "metadata": {
    "collapsed": false
   },
   "outputs": [],
   "source": [
    "import numpy as np\n",
    "import matplotlib.pyplot as plt\n",
    "import hmms\n",
    "\n",
    "%matplotlib inline"
   ]
  },
  {
   "cell_type": "markdown",
   "metadata": {},
   "source": [
    "### Construct DtHMM \n",
    "You can directly initialize the DtHMM by passing the **model parameters**.  \n",
    "\n",
    "We will create simple DtHMM of two hidden states and three output variables."
   ]
  },
  {
   "cell_type": "code",
   "execution_count": 2,
   "metadata": {
    "collapsed": false
   },
   "outputs": [],
   "source": [
    "# A is the matrix of transition probabilities from state [row] to state [column].\n",
    "A = np.array([[0.9,0.1],[0.4,0.6]])\n",
    "# B is the matrix of probabilities that the state [row] will emmit output variable [column].\n",
    "B = np.array([[0.9,0.08,0.02],[0.2,0.5,0.3]])\n",
    "# Pi is the vector of initial state probabilities.   \n",
    "Pi = np.array( [0.8,0.2] )\n",
    "\n",
    "# Create DtHMM by given parameters.\n",
    "dhmm = hmms.DtHMM(A,B,Pi)"
   ]
  },
  {
   "cell_type": "markdown",
   "metadata": {},
   "source": [
    "Or you can initialize it by **random parameters**. Passing the number of hidden states and output variables. "
   ]
  },
  {
   "cell_type": "code",
   "execution_count": 3,
   "metadata": {
    "collapsed": false
   },
   "outputs": [],
   "source": [
    "dhmm_random = hmms.DtHMM.random(2,3)"
   ]
  },
  {
   "cell_type": "markdown",
   "metadata": {},
   "source": [
    "### Save & Read from File\n",
    "Once you have created the model you can **save** its parameters in file simply by calling *save_params* method.  "
   ]
  },
  {
   "cell_type": "code",
   "execution_count": 4,
   "metadata": {
    "collapsed": true
   },
   "outputs": [],
   "source": [
    "dhmm.save_params(\"Models/hello_dthmm\") "
   ]
  },
  {
   "cell_type": "markdown",
   "metadata": {},
   "source": [
    "The method stored the parameters in *.npz* format.  \n",
    "\n",
    "The saved file can be later used to **read** parametrs for model initialization."
   ]
  },
  {
   "cell_type": "code",
   "execution_count": 5,
   "metadata": {
    "collapsed": false
   },
   "outputs": [],
   "source": [
    "dhmm_from_file = hmms.DtHMM.from_file( \"Models/hello_dthmm.npz\" )"
   ]
  },
  {
   "cell_type": "markdown",
   "metadata": {},
   "source": [
    "### Set & Get Parameters\n",
    "Later you can always **set** parameters with triple of methods corresponding to the constructors."
   ]
  },
  {
   "cell_type": "code",
   "execution_count": 6,
   "metadata": {
    "collapsed": false,
    "scrolled": true
   },
   "outputs": [],
   "source": [
    "dhmm.set_params(A,B,Pi)\n",
    "dhmm.set_params_random(2,3)\n",
    "dhmm.set_params_from_file( \"Models/hello_dthmm.npz\" )"
   ]
  },
  {
   "cell_type": "markdown",
   "metadata": {},
   "source": [
    "You can **get** parameters by calling them separately,"
   ]
  },
  {
   "cell_type": "code",
   "execution_count": 7,
   "metadata": {
    "collapsed": false
   },
   "outputs": [
    {
     "data": {
      "text/plain": [
       "(array([[ 0.9,  0.1],\n",
       "        [ 0.4,  0.6]]), array([[ 0.9 ,  0.08,  0.02],\n",
       "        [ 0.2 ,  0.5 ,  0.3 ]]), array([ 0.8,  0.2]))"
      ]
     },
     "execution_count": 7,
     "metadata": {},
     "output_type": "execute_result"
    }
   ],
   "source": [
    "dhmm.a, dhmm.b, dhmm.pi"
   ]
  },
  {
   "cell_type": "markdown",
   "metadata": {},
   "source": [
    "or **get** them **all** together as the triple."
   ]
  },
  {
   "cell_type": "code",
   "execution_count": 8,
   "metadata": {
    "collapsed": false
   },
   "outputs": [],
   "source": [
    "(A,B,Pi) = dhmm.params"
   ]
  },
  {
   "cell_type": "markdown",
   "metadata": {},
   "source": [
    "### Generate Random State and Emission Sequence\n",
    " Now we can use our model to generate state and emission sequence.   \n",
    " The model will randomly choose which transition or emission will happen, taking into consideration the parameters we have previously defined.\n"
   ]
  },
  {
   "cell_type": "code",
   "execution_count": 11,
   "metadata": {
    "collapsed": false
   },
   "outputs": [
    {
     "data": {
      "image/png": "[encoded data removed]",
      "text/plain": [
       "<matplotlib.figure.Figure at 0x7fdedcd80390>"
      ]
     },
     "metadata": {},
     "output_type": "display_data"
    }
   ],
   "source": [
    "seq_len = 20\n",
    "s_seq, e_seq = dhmm.generate( seq_len )\n",
    "\n",
    "#resize plot\n",
    "plt.rcParams['figure.figsize'] = [20,20]\n",
    "\n",
    "hmms.plot_hmm( s_seq, e_seq )"
   ]
  },
  {
   "cell_type": "markdown",
   "metadata": {
    "collapsed": false
   },
   "source": [
    "### Find Most Likely State Sequence\n",
    "If we have the model parameters and emission sequence, we can find the most probable state sequence that would generate it. Notice, that it can be different, than the actual sequence that has generated the emissions.  \n",
    "We will use Viterbi algorithm for the calculation.\n"
   ]
  },
  {
   "cell_type": "code",
   "execution_count": 12,
   "metadata": {
    "collapsed": false
   },
   "outputs": [
    {
     "data": {
      "image/png": "[encoded data removed]",
      "text/plain": [
       "<matplotlib.figure.Figure at 0x7fdedd19a4e0>"
      ]
     },
     "metadata": {},
     "output_type": "display_data"
    }
   ],
   "source": [
    "( log_prob, s_seq ) =  dhmm.viterbi( e_seq )\n",
    "# Let's print the most likely state sequence, it can be same or differ from the sequence above.\n",
    "hmms.plot_hmm( s_seq, e_seq )"
   ]
  },
  {
   "cell_type": "markdown",
   "metadata": {
    "collapsed": true
   },
   "source": [
    "The *log_prob* parameter store the probability of the sequence.  \n",
    "All the probabilities in the library are stored in the logarithm of their actual value. As the number of possible sequences grows exponentialy by it length, it could easily lead to float underflow.  \n",
    "You can easily transform it to the normal scale value applying *exp* function. "
   ]
  },
  {
   "cell_type": "code",
   "execution_count": 13,
   "metadata": {
    "collapsed": false
   },
   "outputs": [
    {
     "data": {
      "text/plain": [
       "3.9556037609769817e-07"
      ]
     },
     "execution_count": 13,
     "metadata": {},
     "output_type": "execute_result"
    }
   ],
   "source": [
    "np.exp( log_prob )"
   ]
  },
  {
   "cell_type": "markdown",
   "metadata": {},
   "source": [
    "### The Probability of the Emission Sequence\n",
    "We can compute the probabilityoft the model generating the emission sequence."
   ]
  },
  {
   "cell_type": "code",
   "execution_count": 14,
   "metadata": {
    "collapsed": false
   },
   "outputs": [
    {
     "data": {
      "text/plain": [
       "1.8172828762902109e-06"
      ]
     },
     "execution_count": 14,
     "metadata": {},
     "output_type": "execute_result"
    }
   ],
   "source": [
    "np.exp( dhmm.emission_estimate( e_seq ) )"
   ]
  },
  {
   "cell_type": "markdown",
   "metadata": {},
   "source": [
    "### Generate Artificial Dataset\n",
    "\n",
    "You can easily generate many sequences in once by using the generate_data function.\n",
    "The generated emission sequences are in the form that is suitable for training of parameters. You can switch times=True, if you want to generate also the corresponding equidistant time sequences."
   ]
  },
  {
   "cell_type": "code",
   "execution_count": 16,
   "metadata": {
    "collapsed": false
   },
   "outputs": [
    {
     "data": {
      "text/plain": [
       "(array([[0, 0, 0, 0, 1, 1, 1, 0, 0, 0],\n",
       "        [0, 0, 0, 0, 1, 1, 1, 1, 1, 1],\n",
       "        [0, 0, 0, 0, 1, 1, 1, 1, 0, 0]]),\n",
       " array([[0, 0, 0, 0, 1, 2, 2, 0, 0, 0],\n",
       "        [1, 0, 0, 0, 1, 1, 2, 2, 0, 0],\n",
       "        [0, 0, 0, 0, 1, 1, 2, 1, 1, 0]]))"
      ]
     },
     "execution_count": 16,
     "metadata": {},
     "output_type": "execute_result"
    }
   ],
   "source": [
    "seq_num= 3   #number of data sequences\n",
    "seq_len= 10  #length of each sequence\n",
    "\n",
    "dhmm.generate_data( (seq_num,seq_len) )"
   ]
  },
  {
   "cell_type": "markdown",
   "metadata": {},
   "source": [
    "### Parameters Estimation - Baum Welch Algorithm\n",
    "We usually do not know the real parameters of the model. But, if we have sufficient data, we can estimate them by EM algorithm.  \n",
    "Here we will have several output variables (emissions) sequences and we will show, how to use them to train the model parameters\n",
    "\n",
    "Let's start by creating some artifficial data. We will use the previously defined *dhmm* model for it.\n"
   ]
  },
  {
   "cell_type": "code",
   "execution_count": 15,
   "metadata": {
    "collapsed": false
   },
   "outputs": [
    {
     "data": {
      "text/plain": [
       "array([[0, 0, 2, 0, 0, 0, 1, 0, 0, 0, 0, 0, 0, 1, 0, 0, 0, 1, 0, 0, 0, 0,\n",
       "        0, 1, 1, 0, 0, 0, 0, 0, 0, 0, 0, 0, 0, 1, 0, 0, 0, 0, 0, 0, 0, 0,\n",
       "        1, 2, 0, 0, 0, 1],\n",
       "       [1, 1, 1, 0, 0, 0, 0, 0, 1, 0, 0, 0, 0, 0, 1, 0, 0, 0, 0, 0, 0, 0,\n",
       "        0, 0, 0, 1, 1, 1, 2, 1, 1, 1, 1, 0, 0, 0, 1, 0, 0, 0, 0, 0, 0, 0,\n",
       "        0, 0, 0, 0, 0, 1],\n",
       "       [0, 0, 0, 2, 0, 0, 0, 0, 2, 2, 1, 1, 2, 0, 1, 0, 0, 2, 1, 0, 1, 0,\n",
       "        0, 0, 0, 0, 0, 1, 0, 0, 0, 0, 0, 0, 0, 1, 0, 0, 0, 0, 0, 0, 0, 0,\n",
       "        0, 0, 0, 1, 0, 0],\n",
       "       [0, 1, 0, 0, 0, 0, 0, 0, 1, 0, 0, 0, 0, 0, 0, 0, 0, 0, 1, 0, 0, 0,\n",
       "        0, 2, 1, 2, 0, 1, 0, 1, 0, 0, 0, 0, 0, 0, 0, 0, 2, 0, 0, 0, 0, 0,\n",
       "        0, 0, 0, 0, 0, 0],\n",
       "       [0, 0, 0, 0, 0, 0, 0, 0, 0, 0, 0, 0, 0, 1, 0, 0, 0, 0, 0, 0, 0, 0,\n",
       "        0, 0, 2, 0, 0, 0, 0, 0, 1, 0, 0, 1, 1, 1, 0, 1, 0, 1, 0, 0, 0, 0,\n",
       "        0, 0, 0, 0, 0, 2]])"
      ]
     },
     "execution_count": 15,
     "metadata": {},
     "output_type": "execute_result"
    }
   ],
   "source": [
    "seq_num = 5\n",
    "seq_len = 50\n",
    "data = np.empty( (seq_num, seq_len), dtype=int )\n",
    "\n",
    "_ , data = dhmm.generate_data( (seq_num,seq_len) )\n",
    "\n",
    "data"
   ]
  },
  {
   "cell_type": "markdown",
   "metadata": {},
   "source": [
    "Now, we will create the model with random parameters, that will be eventually trained to much the data."
   ]
  },
  {
   "cell_type": "code",
   "execution_count": 16,
   "metadata": {
    "collapsed": false
   },
   "outputs": [
    {
     "name": "stdout",
     "output_type": "stream",
     "text": [
      "Initial probabilities (π) :\n"
     ]
    },
    {
     "data": {
      "text/html": [
       "<div>\n",
       "<table border=\"1\" class=\"dataframe\">\n",
       "  <thead>\n",
       "    <tr style=\"text-align: right;\">\n",
       "      <th></th>\n",
       "      <th>0</th>\n",
       "    </tr>\n",
       "  </thead>\n",
       "  <tbody>\n",
       "    <tr>\n",
       "      <th>0</th>\n",
       "      <td>0.714463</td>\n",
       "    </tr>\n",
       "    <tr>\n",
       "      <th>1</th>\n",
       "      <td>0.285537</td>\n",
       "    </tr>\n",
       "  </tbody>\n",
       "</table>\n",
       "</div>"
      ],
      "text/plain": [
       "          0\n",
       "0  0.714463\n",
       "1  0.285537"
      ]
     },
     "metadata": {},
     "output_type": "display_data"
    },
    {
     "name": "stdout",
     "output_type": "stream",
     "text": [
      "Transition probabilities matrix (A):\n"
     ]
    },
    {
     "data": {
      "text/html": [
       "<div>\n",
       "<table border=\"1\" class=\"dataframe\">\n",
       "  <thead>\n",
       "    <tr style=\"text-align: right;\">\n",
       "      <th></th>\n",
       "      <th>0</th>\n",
       "      <th>1</th>\n",
       "    </tr>\n",
       "  </thead>\n",
       "  <tbody>\n",
       "    <tr>\n",
       "      <th>0</th>\n",
       "      <td>0.786653</td>\n",
       "      <td>0.213347</td>\n",
       "    </tr>\n",
       "    <tr>\n",
       "      <th>1</th>\n",
       "      <td>0.569874</td>\n",
       "      <td>0.430126</td>\n",
       "    </tr>\n",
       "  </tbody>\n",
       "</table>\n",
       "</div>"
      ],
      "text/plain": [
       "          0         1\n",
       "0  0.786653  0.213347\n",
       "1  0.569874  0.430126"
      ]
     },
     "metadata": {},
     "output_type": "display_data"
    },
    {
     "name": "stdout",
     "output_type": "stream",
     "text": [
      "Emission probabilities matrix (B):\n"
     ]
    },
    {
     "data": {
      "text/html": [
       "<div>\n",
       "<table border=\"1\" class=\"dataframe\">\n",
       "  <thead>\n",
       "    <tr style=\"text-align: right;\">\n",
       "      <th></th>\n",
       "      <th>0</th>\n",
       "      <th>1</th>\n",
       "      <th>2</th>\n",
       "    </tr>\n",
       "  </thead>\n",
       "  <tbody>\n",
       "    <tr>\n",
       "      <th>0</th>\n",
       "      <td>0.063833</td>\n",
       "      <td>0.694906</td>\n",
       "      <td>0.241261</td>\n",
       "    </tr>\n",
       "    <tr>\n",
       "      <th>1</th>\n",
       "      <td>0.730397</td>\n",
       "      <td>0.023243</td>\n",
       "      <td>0.246360</td>\n",
       "    </tr>\n",
       "  </tbody>\n",
       "</table>\n",
       "</div>"
      ],
      "text/plain": [
       "          0         1         2\n",
       "0  0.063833  0.694906  0.241261\n",
       "1  0.730397  0.023243  0.246360"
      ]
     },
     "metadata": {},
     "output_type": "display_data"
    }
   ],
   "source": [
    "dhmm_r = hmms.DtHMM.random( 2,3 )\n",
    "# We can print all the parameters.\n",
    "hmms.print_parameters( dhmm_r )"
   ]
  },
  {
   "cell_type": "markdown",
   "metadata": {},
   "source": [
    "Let's compare the dataset likelihood estimation of model used for generating the data and the random parameters model. "
   ]
  },
  {
   "cell_type": "code",
   "execution_count": 17,
   "metadata": {
    "collapsed": false
   },
   "outputs": [
    {
     "name": "stdout",
     "output_type": "stream",
     "text": [
      "Generator model: 2.45108154865e-69\n",
      "Random model:    1.00266516396e-122\n"
     ]
    }
   ],
   "source": [
    "print( \"Generator model:\" , np.exp( dhmm.data_estimate(data)   ) )\n",
    "print( \"Random model:   \" ,np.exp( dhmm_r.data_estimate(data) ) )"
   ]
  },
  {
   "cell_type": "markdown",
   "metadata": {},
   "source": [
    "Most likely the probability that the data was generated by random model is extremly low.\n",
    "\n",
    "Now we can take the random model and reestimate it to fit the data better."
   ]
  },
  {
   "cell_type": "code",
   "execution_count": 18,
   "metadata": {
    "collapsed": false
   },
   "outputs": [
    {
     "name": "stdout",
     "output_type": "stream",
     "text": [
      "Reestimated model after 10 iterations:    8.1702288121e-70\n"
     ]
    }
   ],
   "source": [
    "dhmm_r.baum_welch( data, 10 )\n",
    "print( \"Reestimated model after 10 iterations:   \" ,np.exp( dhmm_r.data_estimate(data) ) )"
   ]
  },
  {
   "cell_type": "markdown",
   "metadata": {},
   "source": [
    "The probability of the reestimated model should now be similiar (possibly even higher) that the generator's model. If it is not, you can try to run the estimation procedure more time at different randomly generated models. It could happen that the estimation fall in the local optima.\n",
    "\n",
    "If you are satisfied with the results, you can run some more iteration to fine-tune it."
   ]
  },
  {
   "cell_type": "code",
   "execution_count": 19,
   "metadata": {
    "collapsed": false
   },
   "outputs": [
    {
     "name": "stdout",
     "output_type": "stream",
     "text": [
      "Reestimated model after 110 iterations:    3.20197722347e-68\n"
     ]
    }
   ],
   "source": [
    "dhmm_r.baum_welch( data, 100 )\n",
    "print( \"Reestimated model after 110 iterations:   \" ,np.exp( dhmm_r.data_estimate(data) ) )"
   ]
  },
  {
   "cell_type": "markdown",
   "metadata": {},
   "source": [
    "We can compare the parameters of the model."
   ]
  },
  {
   "cell_type": "code",
   "execution_count": 21,
   "metadata": {
    "collapsed": false
   },
   "outputs": [
    {
     "name": "stdout",
     "output_type": "stream",
     "text": [
      "Initial probabilities (π) :\n"
     ]
    },
    {
     "data": {
      "text/html": [
       "<div>\n",
       "<table border=\"1\" class=\"dataframe\">\n",
       "  <thead>\n",
       "    <tr style=\"text-align: right;\">\n",
       "      <th></th>\n",
       "      <th>0</th>\n",
       "    </tr>\n",
       "  </thead>\n",
       "  <tbody>\n",
       "    <tr>\n",
       "      <th>0</th>\n",
       "      <td>0.174729</td>\n",
       "    </tr>\n",
       "    <tr>\n",
       "      <th>1</th>\n",
       "      <td>0.825271</td>\n",
       "    </tr>\n",
       "  </tbody>\n",
       "</table>\n",
       "</div>"
      ],
      "text/plain": [
       "          0\n",
       "0  0.174729\n",
       "1  0.825271"
      ]
     },
     "metadata": {},
     "output_type": "display_data"
    },
    {
     "name": "stdout",
     "output_type": "stream",
     "text": [
      "Transition probabilities matrix (A):\n"
     ]
    },
    {
     "data": {
      "text/html": [
       "<div>\n",
       "<table border=\"1\" class=\"dataframe\">\n",
       "  <thead>\n",
       "    <tr style=\"text-align: right;\">\n",
       "      <th></th>\n",
       "      <th>0</th>\n",
       "      <th>1</th>\n",
       "    </tr>\n",
       "  </thead>\n",
       "  <tbody>\n",
       "    <tr>\n",
       "      <th>0</th>\n",
       "      <td>0.677868</td>\n",
       "      <td>0.322132</td>\n",
       "    </tr>\n",
       "    <tr>\n",
       "      <th>1</th>\n",
       "      <td>0.028776</td>\n",
       "      <td>0.971224</td>\n",
       "    </tr>\n",
       "  </tbody>\n",
       "</table>\n",
       "</div>"
      ],
      "text/plain": [
       "          0         1\n",
       "0  0.677868  0.322132\n",
       "1  0.028776  0.971224"
      ]
     },
     "metadata": {},
     "output_type": "display_data"
    },
    {
     "name": "stdout",
     "output_type": "stream",
     "text": [
      "Emission probabilities matrix (B):\n"
     ]
    },
    {
     "data": {
      "text/html": [
       "<div>\n",
       "<table border=\"1\" class=\"dataframe\">\n",
       "  <thead>\n",
       "    <tr style=\"text-align: right;\">\n",
       "      <th></th>\n",
       "      <th>0</th>\n",
       "      <th>1</th>\n",
       "      <th>2</th>\n",
       "    </tr>\n",
       "  </thead>\n",
       "  <tbody>\n",
       "    <tr>\n",
       "      <th>0</th>\n",
       "      <td>0.000290</td>\n",
       "      <td>0.716584</td>\n",
       "      <td>0.283126</td>\n",
       "    </tr>\n",
       "    <tr>\n",
       "      <th>1</th>\n",
       "      <td>0.849445</td>\n",
       "      <td>0.120438</td>\n",
       "      <td>0.030117</td>\n",
       "    </tr>\n",
       "  </tbody>\n",
       "</table>\n",
       "</div>"
      ],
      "text/plain": [
       "          0         1         2\n",
       "0  0.000290  0.716584  0.283126\n",
       "1  0.849445  0.120438  0.030117"
      ]
     },
     "metadata": {},
     "output_type": "display_data"
    },
    {
     "name": "stdout",
     "output_type": "stream",
     "text": [
      "Initial probabilities (π) :\n"
     ]
    },
    {
     "data": {
      "text/html": [
       "<div>\n",
       "<table border=\"1\" class=\"dataframe\">\n",
       "  <thead>\n",
       "    <tr style=\"text-align: right;\">\n",
       "      <th></th>\n",
       "      <th>0</th>\n",
       "    </tr>\n",
       "  </thead>\n",
       "  <tbody>\n",
       "    <tr>\n",
       "      <th>0</th>\n",
       "      <td>0.8</td>\n",
       "    </tr>\n",
       "    <tr>\n",
       "      <th>1</th>\n",
       "      <td>0.2</td>\n",
       "    </tr>\n",
       "  </tbody>\n",
       "</table>\n",
       "</div>"
      ],
      "text/plain": [
       "     0\n",
       "0  0.8\n",
       "1  0.2"
      ]
     },
     "metadata": {},
     "output_type": "display_data"
    },
    {
     "name": "stdout",
     "output_type": "stream",
     "text": [
      "Transition probabilities matrix (A):\n"
     ]
    },
    {
     "data": {
      "text/html": [
       "<div>\n",
       "<table border=\"1\" class=\"dataframe\">\n",
       "  <thead>\n",
       "    <tr style=\"text-align: right;\">\n",
       "      <th></th>\n",
       "      <th>0</th>\n",
       "      <th>1</th>\n",
       "    </tr>\n",
       "  </thead>\n",
       "  <tbody>\n",
       "    <tr>\n",
       "      <th>0</th>\n",
       "      <td>0.9</td>\n",
       "      <td>0.1</td>\n",
       "    </tr>\n",
       "    <tr>\n",
       "      <th>1</th>\n",
       "      <td>0.4</td>\n",
       "      <td>0.6</td>\n",
       "    </tr>\n",
       "  </tbody>\n",
       "</table>\n",
       "</div>"
      ],
      "text/plain": [
       "     0    1\n",
       "0  0.9  0.1\n",
       "1  0.4  0.6"
      ]
     },
     "metadata": {},
     "output_type": "display_data"
    },
    {
     "name": "stdout",
     "output_type": "stream",
     "text": [
      "Emission probabilities matrix (B):\n"
     ]
    },
    {
     "data": {
      "text/html": [
       "<div>\n",
       "<table border=\"1\" class=\"dataframe\">\n",
       "  <thead>\n",
       "    <tr style=\"text-align: right;\">\n",
       "      <th></th>\n",
       "      <th>0</th>\n",
       "      <th>1</th>\n",
       "      <th>2</th>\n",
       "    </tr>\n",
       "  </thead>\n",
       "  <tbody>\n",
       "    <tr>\n",
       "      <th>0</th>\n",
       "      <td>0.9</td>\n",
       "      <td>0.08</td>\n",
       "      <td>0.02</td>\n",
       "    </tr>\n",
       "    <tr>\n",
       "      <th>1</th>\n",
       "      <td>0.2</td>\n",
       "      <td>0.50</td>\n",
       "      <td>0.30</td>\n",
       "    </tr>\n",
       "  </tbody>\n",
       "</table>\n",
       "</div>"
      ],
      "text/plain": [
       "     0     1     2\n",
       "0  0.9  0.08  0.02\n",
       "1  0.2  0.50  0.30"
      ]
     },
     "metadata": {},
     "output_type": "display_data"
    }
   ],
   "source": [
    "hmms.print_parameters( dhmm_r )\n",
    "hmms.print_parameters( dhmm )"
   ]
  },
  {
   "cell_type": "markdown",
   "metadata": {
    "collapsed": false,
    "scrolled": true
   },
   "source": [
    "Alternatively, we can run *baum_welch_graph* method to get learning curve of estimated probabilities."
   ]
  },
  {
   "cell_type": "code",
   "execution_count": 22,
   "metadata": {
    "collapsed": false,
    "scrolled": false
   },
   "outputs": [
    {
     "data": {
      "text/plain": [
       "array([  1.64563480e-84,   3.12193229e-72,   4.39625284e-72,\n",
       "         5.56536113e-72,   6.59210947e-72,   7.47200460e-72,\n",
       "         8.21491097e-72,   8.83674365e-72,   9.35413478e-72,\n",
       "         9.78287621e-72,   1.01377168e-71,   1.04309931e-71,\n",
       "         1.06729814e-71,   1.08728638e-71,   1.10380215e-71,\n",
       "         1.11744412e-71,   1.12872009e-71,   1.13804151e-71,\n",
       "         1.14577781e-71,   1.15217698e-71,   1.15753396e-71,\n",
       "         1.16199350e-71,   1.16570511e-71,   1.16883987e-71,\n",
       "         1.17150032e-71,   1.17373692e-71,   1.17565483e-71,\n",
       "         1.17730638e-71,   1.17874440e-71,   1.18000411e-71,\n",
       "         1.18110295e-71,   1.18209459e-71,   1.18297875e-71,\n",
       "         1.18382744e-71,   1.18458636e-71,   1.18530960e-71,\n",
       "         1.18597898e-71,   1.18663064e-71,   1.18728266e-71,\n",
       "         1.18789878e-71,   1.18849708e-71,   1.18911383e-71,\n",
       "         1.18971275e-71,   1.19031197e-71,   1.19092966e-71,\n",
       "         1.19154767e-71,   1.19216601e-71,   1.19280286e-71,\n",
       "         1.19344006e-71,   1.19409582e-71,   1.19477016e-71])"
      ]
     },
     "execution_count": 22,
     "metadata": {},
     "output_type": "execute_result"
    }
   ],
   "source": [
    "dhmm_r = hmms.DtHMM.random(2,3) \n",
    "out = dhmm_r.baum_welch_graph( data, 50 )\n",
    "\n",
    "np.exp(out)"
   ]
  },
  {
   "cell_type": "markdown",
   "metadata": {},
   "source": [
    "Let's plot it in the graph, comparing the results in ratio with *real* data-generator model. ( Notice, it is the ratio of logaritmic probability values. )"
   ]
  },
  {
   "cell_type": "code",
   "execution_count": 23,
   "metadata": {
    "collapsed": false
   },
   "outputs": [
    {
     "data": {
      "image/png": "[encoded data removed]",
      "text/plain": [
       "<matplotlib.figure.Figure at 0x7fdedcb8d748>"
      ]
     },
     "metadata": {},
     "output_type": "display_data"
    }
   ],
   "source": [
    "real = dhmm.data_estimate(data)\n",
    "#For better visibility of the graph, we cut first two values.\n",
    "plt.plot( out[2:] / real  )\n",
    "plt.show()"
   ]
  },
  {
   "cell_type": "markdown",
   "metadata": {},
   "source": [
    "<a id='cthmm'></a>\n",
    "Part 2: Continuous Time Hidden Markov Model\n",
    "-----------------------------------------------------"
   ]
  },
  {
   "cell_type": "code",
   "execution_count": 1,
   "metadata": {
    "collapsed": true
   },
   "outputs": [],
   "source": [
    "import numpy as np\n",
    "import matplotlib.pyplot as plt\n",
    "import hmms\n",
    "\n",
    "%matplotlib inline"
   ]
  },
  {
   "cell_type": "markdown",
   "metadata": {},
   "source": [
    "### Construct CtHMM \n",
    "Construction of CtHMM is similar to the discrete model. \n",
    "\n",
    "You can directly initialize the CtHMM by passing the **model parameters**.  \n",
    "We will create simple CtHMM of three hidden states and three output variables."
   ]
  },
  {
   "cell_type": "code",
   "execution_count": 2,
   "metadata": {
    "collapsed": false
   },
   "outputs": [],
   "source": [
    "# Q is the matrix of transition rates from state [row] to state [column].\n",
    "Q = np.array( [[-0.375,0.125,0.25],[0.25,-0.5,0.25],[0.25,0.125,-0.375]] )\n",
    "# B is the matrix of probabilities that the state [row] will emmit output variable [column].\n",
    "B = np.array( [[0.8,0.05,0.15],[0.05,0.9,0.05],[0.2,0.05,0.75]] )\n",
    "# Pi is the vector of initial state probabilities.   \n",
    "Pi = np.array( [0.6,0,0.4] )\n",
    "\n",
    "# Create CtHMM by given parameters.\n",
    "chmm = hmms.CtHMM(Q,B,Pi)"
   ]
  },
  {
   "cell_type": "markdown",
   "metadata": {},
   "source": [
    "Or you can initialize it by **random parameters**. Passing the number of hidden states and output variables. "
   ]
  },
  {
   "cell_type": "code",
   "execution_count": 3,
   "metadata": {
    "collapsed": true
   },
   "outputs": [],
   "source": [
    "chmm_random = hmms.CtHMM.random(3,3)"
   ]
  },
  {
   "cell_type": "markdown",
   "metadata": {},
   "source": [
    "### Save & Read from File\n",
    "\n",
    "Once you have created the model you can save its parameters in file simply by calling save_params method."
   ]
  },
  {
   "cell_type": "code",
   "execution_count": 4,
   "metadata": {
    "collapsed": false
   },
   "outputs": [],
   "source": [
    "chmm.save_params(\"Models/hello_cthmm\") "
   ]
  },
  {
   "cell_type": "markdown",
   "metadata": {},
   "source": [
    "The method stored the parameters in .npz format.\n",
    "The saved file can be later used to read parametrs for model initialization."
   ]
  },
  {
   "cell_type": "code",
   "execution_count": 5,
   "metadata": {
    "collapsed": false
   },
   "outputs": [],
   "source": [
    "chmm_from_file = hmms.CtHMM.from_file( \"Models/hello_cthmm.npz\" )"
   ]
  },
  {
   "cell_type": "markdown",
   "metadata": {},
   "source": [
    "### Set & Get Parameters\n",
    "Later you can always set parameters with triple of methods corresponding to the constructors."
   ]
  },
  {
   "cell_type": "code",
   "execution_count": 6,
   "metadata": {
    "collapsed": false
   },
   "outputs": [],
   "source": [
    "chmm.set_params(Q,B,Pi)\n",
    "chmm.set_params_random(3,3)\n",
    "chmm.set_params_from_file( \"Models/hello_cthmm.npz\" )"
   ]
  },
  {
   "cell_type": "markdown",
   "metadata": {},
   "source": [
    "You can **get** parameters by calling them separately,"
   ]
  },
  {
   "cell_type": "code",
   "execution_count": 7,
   "metadata": {
    "collapsed": false
   },
   "outputs": [
    {
     "data": {
      "text/plain": [
       "(array([[-0.375,  0.125,  0.25 ],\n",
       "        [ 0.25 , -0.5  ,  0.25 ],\n",
       "        [ 0.25 ,  0.125, -0.375]]), array([[ 0.8 ,  0.05,  0.15],\n",
       "        [ 0.05,  0.9 ,  0.05],\n",
       "        [ 0.2 ,  0.05,  0.75]]), array([ 0.6,  0. ,  0.4]))"
      ]
     },
     "execution_count": 7,
     "metadata": {},
     "output_type": "execute_result"
    }
   ],
   "source": [
    "chmm.q, chmm.b, chmm.pi"
   ]
  },
  {
   "cell_type": "markdown",
   "metadata": {},
   "source": [
    "or get them all together as the triple."
   ]
  },
  {
   "cell_type": "code",
   "execution_count": 8,
   "metadata": {
    "collapsed": false
   },
   "outputs": [],
   "source": [
    "(A,B,Pi) = chmm.params"
   ]
  },
  {
   "cell_type": "markdown",
   "metadata": {},
   "source": [
    "### Generate Random Sequence\n",
    "Now we can use our model to **generate** time, state and emission sequence.\n",
    "The model will **randomly** choose which transition or emission will happen, taking into consideration the parameters we have previously defined.\n",
    "\n",
    "The times are generated with **exponencial** waiting times, you can define the parameter of exponencial distribution as second optional parameter. \n"
   ]
  },
  {
   "cell_type": "code",
   "execution_count": 14,
   "metadata": {
    "collapsed": false
   },
   "outputs": [
    {
     "data": {
      "image/png": "[encoded data removed]",
      "text/plain": [
       "<matplotlib.figure.Figure at 0x7f04f5eefe48>"
      ]
     },
     "metadata": {},
     "output_type": "display_data"
    }
   ],
   "source": [
    "seq_len = 10\n",
    "t_seq, s_seq, e_seq = chmm.generate( seq_len, 0.5)\n",
    "\n",
    "#resize plot\n",
    "plt.rcParams['figure.figsize'] = [20,20]\n",
    "\n",
    "hmms.plot_hmm( s_seq, e_seq, time=t_seq )"
   ]
  },
  {
   "cell_type": "markdown",
   "metadata": {},
   "source": [
    "### Find Most Likely State Sequence\n",
    "If we have the model parameters and emission sequence, we can find the most probable state sequence that would generate it. Notice, that it can be different, than the actual sequence that has generated the emissions.  \n",
    "We will use Viterbi algorithm for the calculation."
   ]
  },
  {
   "cell_type": "code",
   "execution_count": 13,
   "metadata": {
    "collapsed": false
   },
   "outputs": [
    {
     "data": {
      "image/png": "[encoded data removed]",
      "text/plain": [
       "<matplotlib.figure.Figure at 0x7f04f5f01240>"
      ]
     },
     "metadata": {},
     "output_type": "display_data"
    },
    {
     "name": "stdout",
     "output_type": "stream",
     "text": [
      "Initial probabilities (π) :\n"
     ]
    },
    {
     "data": {
      "text/html": [
       "<div>\n",
       "<table border=\"1\" class=\"dataframe\">\n",
       "  <thead>\n",
       "    <tr style=\"text-align: right;\">\n",
       "      <th></th>\n",
       "      <th>0</th>\n",
       "    </tr>\n",
       "  </thead>\n",
       "  <tbody>\n",
       "    <tr>\n",
       "      <th>0</th>\n",
       "      <td>0.6</td>\n",
       "    </tr>\n",
       "    <tr>\n",
       "      <th>1</th>\n",
       "      <td>0.0</td>\n",
       "    </tr>\n",
       "    <tr>\n",
       "      <th>2</th>\n",
       "      <td>0.4</td>\n",
       "    </tr>\n",
       "  </tbody>\n",
       "</table>\n",
       "</div>"
      ],
      "text/plain": [
       "     0\n",
       "0  0.6\n",
       "1  0.0\n",
       "2  0.4"
      ]
     },
     "metadata": {},
     "output_type": "display_data"
    },
    {
     "name": "stdout",
     "output_type": "stream",
     "text": [
      "Transition rate matrix (Q):\n"
     ]
    },
    {
     "data": {
      "text/html": [
       "<div>\n",
       "<table border=\"1\" class=\"dataframe\">\n",
       "  <thead>\n",
       "    <tr style=\"text-align: right;\">\n",
       "      <th></th>\n",
       "      <th>0</th>\n",
       "      <th>1</th>\n",
       "      <th>2</th>\n",
       "    </tr>\n",
       "  </thead>\n",
       "  <tbody>\n",
       "    <tr>\n",
       "      <th>0</th>\n",
       "      <td>-0.375</td>\n",
       "      <td>0.125</td>\n",
       "      <td>0.250</td>\n",
       "    </tr>\n",
       "    <tr>\n",
       "      <th>1</th>\n",
       "      <td>0.250</td>\n",
       "      <td>-0.500</td>\n",
       "      <td>0.250</td>\n",
       "    </tr>\n",
       "    <tr>\n",
       "      <th>2</th>\n",
       "      <td>0.250</td>\n",
       "      <td>0.125</td>\n",
       "      <td>-0.375</td>\n",
       "    </tr>\n",
       "  </tbody>\n",
       "</table>\n",
       "</div>"
      ],
      "text/plain": [
       "       0      1      2\n",
       "0 -0.375  0.125  0.250\n",
       "1  0.250 -0.500  0.250\n",
       "2  0.250  0.125 -0.375"
      ]
     },
     "metadata": {},
     "output_type": "display_data"
    },
    {
     "name": "stdout",
     "output_type": "stream",
     "text": [
      "Transition probabilities for one time unit :\n"
     ]
    },
    {
     "data": {
      "text/html": [
       "<div>\n",
       "<table border=\"1\" class=\"dataframe\">\n",
       "  <thead>\n",
       "    <tr style=\"text-align: right;\">\n",
       "      <th></th>\n",
       "      <th>0</th>\n",
       "      <th>1</th>\n",
       "      <th>2</th>\n",
       "    </tr>\n",
       "  </thead>\n",
       "  <tbody>\n",
       "    <tr>\n",
       "      <th>0</th>\n",
       "      <td>0.721157</td>\n",
       "      <td>0.092948</td>\n",
       "      <td>0.185895</td>\n",
       "    </tr>\n",
       "    <tr>\n",
       "      <th>1</th>\n",
       "      <td>0.185895</td>\n",
       "      <td>0.628209</td>\n",
       "      <td>0.185895</td>\n",
       "    </tr>\n",
       "    <tr>\n",
       "      <th>2</th>\n",
       "      <td>0.185895</td>\n",
       "      <td>0.092948</td>\n",
       "      <td>0.721157</td>\n",
       "    </tr>\n",
       "  </tbody>\n",
       "</table>\n",
       "</div>"
      ],
      "text/plain": [
       "          0         1         2\n",
       "0  0.721157  0.092948  0.185895\n",
       "1  0.185895  0.628209  0.185895\n",
       "2  0.185895  0.092948  0.721157"
      ]
     },
     "metadata": {},
     "output_type": "display_data"
    },
    {
     "name": "stdout",
     "output_type": "stream",
     "text": [
      "Emission probabilities matrix (B):\n"
     ]
    },
    {
     "data": {
      "text/html": [
       "<div>\n",
       "<table border=\"1\" class=\"dataframe\">\n",
       "  <thead>\n",
       "    <tr style=\"text-align: right;\">\n",
       "      <th></th>\n",
       "      <th>0</th>\n",
       "      <th>1</th>\n",
       "      <th>2</th>\n",
       "    </tr>\n",
       "  </thead>\n",
       "  <tbody>\n",
       "    <tr>\n",
       "      <th>0</th>\n",
       "      <td>0.80</td>\n",
       "      <td>0.05</td>\n",
       "      <td>0.15</td>\n",
       "    </tr>\n",
       "    <tr>\n",
       "      <th>1</th>\n",
       "      <td>0.05</td>\n",
       "      <td>0.90</td>\n",
       "      <td>0.05</td>\n",
       "    </tr>\n",
       "    <tr>\n",
       "      <th>2</th>\n",
       "      <td>0.20</td>\n",
       "      <td>0.05</td>\n",
       "      <td>0.75</td>\n",
       "    </tr>\n",
       "  </tbody>\n",
       "</table>\n",
       "</div>"
      ],
      "text/plain": [
       "      0     1     2\n",
       "0  0.80  0.05  0.15\n",
       "1  0.05  0.90  0.05\n",
       "2  0.20  0.05  0.75"
      ]
     },
     "metadata": {},
     "output_type": "display_data"
    }
   ],
   "source": [
    "( log_prob, s_seq ) =  chmm.viterbi( t_seq, e_seq )\n",
    "# Let's print the most likely state sequence, it can be same or differ from the sequence above.\n",
    "hmms.plot_hmm( s_seq, e_seq, time = t_seq )\n",
    "hmms.print_parameters( chmm )"
   ]
  },
  {
   "cell_type": "markdown",
   "metadata": {},
   "source": [
    "### Generate Artificial  Dataset\n",
    "You can easily generate many sequences in once by using the *generate_data* function.  \n",
    "The generated data are in the form that is suitable for training of parameters. \n",
    "You can switch *states=True*, if you want to generate also the corresponding state sequences.\n",
    "\n",
    "TODO: The times are generated with **exponencial** waiting times, you can define the parameter of exponencial distribution as second optional parameter. "
   ]
  },
  {
   "cell_type": "code",
   "execution_count": 34,
   "metadata": {
    "collapsed": false
   },
   "outputs": [
    {
     "data": {
      "text/plain": [
       "(array([[ 0,  3,  4,  5,  7, 10, 11, 14, 19, 20, 26, 30, 34, 37, 39, 41, 42,\n",
       "         48, 51, 52, 57, 61, 63, 65, 66, 67, 68, 70, 74, 76],\n",
       "        [ 0,  2,  3,  4,  6,  7,  9, 11, 18, 19, 21, 31, 34, 37, 40, 41, 43,\n",
       "         44, 46, 48, 51, 56, 57, 58, 60, 62, 63, 64, 66, 68],\n",
       "        [ 0,  1,  2,  3,  7,  9, 11, 12, 13, 15, 16, 23, 24, 25, 26, 27, 28,\n",
       "         34, 38, 39, 43, 44, 45, 47, 48, 50, 52, 56, 58, 59],\n",
       "        [ 0,  2,  3,  7,  9, 14, 15, 18, 19, 21, 22, 23, 24, 29, 30, 31, 38,\n",
       "         39, 45, 47, 49, 50, 53, 55, 58, 59, 60, 62, 63, 65],\n",
       "        [ 0,  1,  4,  6,  9, 11, 12, 13, 15, 18, 22, 26, 28, 29, 30, 31, 35,\n",
       "         36, 39, 40, 42, 44, 45, 49, 50, 52, 54, 56, 58, 59]]),\n",
       " array([[2, 1, 0, 0, 0, 2, 0, 0, 0, 0, 0, 0, 0, 2, 2, 0, 2, 0, 0, 0, 0, 1,\n",
       "         1, 2, 0, 1, 0, 0, 2, 2],\n",
       "        [0, 1, 0, 2, 1, 1, 1, 2, 0, 0, 0, 0, 1, 1, 1, 1, 1, 1, 0, 2, 1, 2,\n",
       "         2, 2, 1, 0, 0, 0, 0, 0],\n",
       "        [0, 0, 0, 2, 0, 2, 0, 0, 2, 2, 2, 1, 1, 1, 1, 1, 0, 0, 1, 0, 2, 2,\n",
       "         2, 2, 2, 1, 2, 0, 2, 0],\n",
       "        [2, 2, 0, 0, 2, 2, 1, 0, 0, 0, 0, 2, 0, 2, 2, 2, 0, 2, 1, 2, 0, 1,\n",
       "         0, 1, 1, 1, 2, 2, 2, 1],\n",
       "        [2, 1, 1, 0, 0, 0, 0, 0, 2, 2, 2, 2, 2, 2, 2, 2, 1, 1, 0, 0, 2, 0,\n",
       "         2, 0, 0, 0, 2, 2, 2, 2]]))"
      ]
     },
     "execution_count": 34,
     "metadata": {},
     "output_type": "execute_result"
    }
   ],
   "source": [
    "seq_num= 5   #number of data sequences\n",
    "seq_len= 30  #length of each sequence\n",
    "\n",
    "t,e = chmm.generate_data( (seq_num,seq_len) )\n",
    "t,e"
   ]
  },
  {
   "cell_type": "markdown",
   "metadata": {
    "collapsed": true
   },
   "source": [
    "### Parameters Estimation - Continuous Version of Baum Welch Algorithm\n",
    "\n",
    "We will use the previously generated data for the training of randomly generated model."
   ]
  },
  {
   "cell_type": "code",
   "execution_count": 35,
   "metadata": {
    "collapsed": false
   },
   "outputs": [
    {
     "name": "stdout",
     "output_type": "stream",
     "text": [
      "Initial probabilities (π) :\n"
     ]
    },
    {
     "data": {
      "text/html": [
       "<div>\n",
       "<table border=\"1\" class=\"dataframe\">\n",
       "  <thead>\n",
       "    <tr style=\"text-align: right;\">\n",
       "      <th></th>\n",
       "      <th>0</th>\n",
       "    </tr>\n",
       "  </thead>\n",
       "  <tbody>\n",
       "    <tr>\n",
       "      <th>0</th>\n",
       "      <td>0.101346</td>\n",
       "    </tr>\n",
       "    <tr>\n",
       "      <th>1</th>\n",
       "      <td>0.770357</td>\n",
       "    </tr>\n",
       "    <tr>\n",
       "      <th>2</th>\n",
       "      <td>0.128297</td>\n",
       "    </tr>\n",
       "  </tbody>\n",
       "</table>\n",
       "</div>"
      ],
      "text/plain": [
       "          0\n",
       "0  0.101346\n",
       "1  0.770357\n",
       "2  0.128297"
      ]
     },
     "metadata": {},
     "output_type": "display_data"
    },
    {
     "name": "stdout",
     "output_type": "stream",
     "text": [
      "Transition rate matrix (Q):\n"
     ]
    },
    {
     "data": {
      "text/html": [
       "<div>\n",
       "<table border=\"1\" class=\"dataframe\">\n",
       "  <thead>\n",
       "    <tr style=\"text-align: right;\">\n",
       "      <th></th>\n",
       "      <th>0</th>\n",
       "      <th>1</th>\n",
       "      <th>2</th>\n",
       "    </tr>\n",
       "  </thead>\n",
       "  <tbody>\n",
       "    <tr>\n",
       "      <th>0</th>\n",
       "      <td>-1.000000</td>\n",
       "      <td>0.612858</td>\n",
       "      <td>0.387142</td>\n",
       "    </tr>\n",
       "    <tr>\n",
       "      <th>1</th>\n",
       "      <td>0.472788</td>\n",
       "      <td>-1.000000</td>\n",
       "      <td>0.527212</td>\n",
       "    </tr>\n",
       "    <tr>\n",
       "      <th>2</th>\n",
       "      <td>0.924216</td>\n",
       "      <td>0.075784</td>\n",
       "      <td>-1.000000</td>\n",
       "    </tr>\n",
       "  </tbody>\n",
       "</table>\n",
       "</div>"
      ],
      "text/plain": [
       "          0         1         2\n",
       "0 -1.000000  0.612858  0.387142\n",
       "1  0.472788 -1.000000  0.527212\n",
       "2  0.924216  0.075784 -1.000000"
      ]
     },
     "metadata": {},
     "output_type": "display_data"
    },
    {
     "name": "stdout",
     "output_type": "stream",
     "text": [
      "Transition probabilities for one time unit :\n"
     ]
    },
    {
     "data": {
      "text/html": [
       "<div>\n",
       "<table border=\"1\" class=\"dataframe\">\n",
       "  <thead>\n",
       "    <tr style=\"text-align: right;\">\n",
       "      <th></th>\n",
       "      <th>0</th>\n",
       "      <th>1</th>\n",
       "      <th>2</th>\n",
       "    </tr>\n",
       "  </thead>\n",
       "  <tbody>\n",
       "    <tr>\n",
       "      <th>0</th>\n",
       "      <td>0.514495</td>\n",
       "      <td>0.261014</td>\n",
       "      <td>0.224491</td>\n",
       "    </tr>\n",
       "    <tr>\n",
       "      <th>1</th>\n",
       "      <td>0.292292</td>\n",
       "      <td>0.452288</td>\n",
       "      <td>0.255420</td>\n",
       "    </tr>\n",
       "    <tr>\n",
       "      <th>2</th>\n",
       "      <td>0.391973</td>\n",
       "      <td>0.142420</td>\n",
       "      <td>0.465606</td>\n",
       "    </tr>\n",
       "  </tbody>\n",
       "</table>\n",
       "</div>"
      ],
      "text/plain": [
       "          0         1         2\n",
       "0  0.514495  0.261014  0.224491\n",
       "1  0.292292  0.452288  0.255420\n",
       "2  0.391973  0.142420  0.465606"
      ]
     },
     "metadata": {},
     "output_type": "display_data"
    },
    {
     "name": "stdout",
     "output_type": "stream",
     "text": [
      "Emission probabilities matrix (B):\n"
     ]
    },
    {
     "data": {
      "text/html": [
       "<div>\n",
       "<table border=\"1\" class=\"dataframe\">\n",
       "  <thead>\n",
       "    <tr style=\"text-align: right;\">\n",
       "      <th></th>\n",
       "      <th>0</th>\n",
       "      <th>1</th>\n",
       "      <th>2</th>\n",
       "    </tr>\n",
       "  </thead>\n",
       "  <tbody>\n",
       "    <tr>\n",
       "      <th>0</th>\n",
       "      <td>0.532539</td>\n",
       "      <td>0.146531</td>\n",
       "      <td>0.320930</td>\n",
       "    </tr>\n",
       "    <tr>\n",
       "      <th>1</th>\n",
       "      <td>0.374366</td>\n",
       "      <td>0.008595</td>\n",
       "      <td>0.617039</td>\n",
       "    </tr>\n",
       "    <tr>\n",
       "      <th>2</th>\n",
       "      <td>0.184104</td>\n",
       "      <td>0.766563</td>\n",
       "      <td>0.049333</td>\n",
       "    </tr>\n",
       "  </tbody>\n",
       "</table>\n",
       "</div>"
      ],
      "text/plain": [
       "          0         1         2\n",
       "0  0.532539  0.146531  0.320930\n",
       "1  0.374366  0.008595  0.617039\n",
       "2  0.184104  0.766563  0.049333"
      ]
     },
     "metadata": {},
     "output_type": "display_data"
    }
   ],
   "source": [
    "chmm_r = hmms.CtHMM.random( 3,3 )\n",
    "# We can print all the parameters.\n",
    "hmms.print_parameters( chmm_r )"
   ]
  },
  {
   "cell_type": "markdown",
   "metadata": {},
   "source": [
    "Now we can compare the probabilities, that the data was generated by the given model. Its ratio is most probably not so big as in the disrete model. It is because the intervals between the observations are the source of many unknown, so it is pushing the probability of real model down. "
   ]
  },
  {
   "cell_type": "code",
   "execution_count": 36,
   "metadata": {
    "collapsed": false
   },
   "outputs": [
    {
     "name": "stdout",
     "output_type": "stream",
     "text": [
      "Generator model: 8.21271557022e-65\n",
      "Random model:    5.03151876786e-69\n"
     ]
    }
   ],
   "source": [
    "print( \"Generator model:\" , np.exp( chmm.data_estimate(t,e)   ) )\n",
    "print( \"Random model:   \" ,np.exp( chmm_r.data_estimate(t,e) ) )"
   ]
  },
  {
   "cell_type": "markdown",
   "metadata": {},
   "source": [
    "Let's run the EM algorithm for couple of iterations."
   ]
  },
  {
   "cell_type": "code",
   "execution_count": 37,
   "metadata": {
    "collapsed": false
   },
   "outputs": [
    {
     "data": {
      "text/plain": [
       "array([  5.03151877e-69,   4.06941533e-68,   7.60556949e-68,\n",
       "         1.27010279e-67,   2.11311161e-67,   3.56225444e-67,\n",
       "         6.12102565e-67,   1.07583184e-66,   1.93652134e-66,\n",
       "         3.55963455e-66,   6.62091009e-66,   1.22775365e-65,\n",
       "         2.23334078e-65,   3.93533644e-65,   6.66742224e-65,\n",
       "         1.08217991e-64,   1.67985122e-64,   2.49317479e-64,\n",
       "         3.54108355e-64,   4.82290995e-64,   6.31844602e-64,\n",
       "         7.99275048e-64,   9.80488415e-64,   1.17164811e-63,\n",
       "         1.36987902e-63,   1.57366857e-63,   1.78287363e-63,\n",
       "         1.99864412e-63,   2.22312603e-63,   2.45927471e-63,\n",
       "         2.71052205e-63,   2.98065321e-63,   3.27380694e-63,\n",
       "         3.59442155e-63,   3.94709746e-63,   4.33675866e-63,\n",
       "         4.76881535e-63,   5.24895981e-63,   5.78362153e-63,\n",
       "         6.37994400e-63,   7.04559420e-63,   7.78960426e-63,\n",
       "         8.62177968e-63,   9.55393064e-63,   1.05991463e-62,\n",
       "         1.17728932e-62,   1.30931923e-62,   1.45804581e-62,\n",
       "         1.62587285e-62,   1.81542587e-62,   2.02952300e-62,\n",
       "         2.27094724e-62,   2.54221507e-62,   2.84519151e-62,\n",
       "         3.18068262e-62,   3.54819959e-62,   3.94557900e-62,\n",
       "         4.36895750e-62,   4.81317379e-62,   5.27181853e-62,\n",
       "         5.73789359e-62,   6.20423691e-62,   6.66379632e-62,\n",
       "         7.11058821e-62,   7.53898206e-62,   7.94503245e-62,\n",
       "         8.32568729e-62,   8.67916903e-62,   9.00427506e-62,\n",
       "         9.30159075e-62,   9.57140880e-62,   9.81499806e-62,\n",
       "         1.00341181e-61,   1.02304622e-61,   1.04056902e-61,\n",
       "         1.05621398e-61,   1.07013289e-61,   1.08249948e-61,\n",
       "         1.09350625e-61,   1.10327735e-61,   1.11196439e-61,\n",
       "         1.11969426e-61,   1.12656642e-61,   1.13270272e-61,\n",
       "         1.13817755e-61,   1.14305077e-61,   1.14740198e-61,\n",
       "         1.15131291e-61,   1.15481418e-61,   1.15795500e-61,\n",
       "         1.16076778e-61,   1.16332110e-61,   1.16559543e-61,\n",
       "         1.16766038e-61,   1.16951483e-61,   1.17121137e-61,\n",
       "         1.17273141e-61,   1.17411010e-61,   1.17538279e-61,\n",
       "         1.17651323e-61,   1.17753695e-61])"
      ]
     },
     "execution_count": 37,
     "metadata": {},
     "output_type": "execute_result"
    }
   ],
   "source": [
    "out = chmm_r.baum_welch_graph( t,e, 100 )\n",
    "\n",
    "np.exp(out)"
   ]
  },
  {
   "cell_type": "markdown",
   "metadata": {},
   "source": [
    "We will plot its probabilities estimations in ratio with generator model. (Notice, it is the ratio of logarithms of probabilities)"
   ]
  },
  {
   "cell_type": "code",
   "execution_count": 38,
   "metadata": {
    "collapsed": false
   },
   "outputs": [
    {
     "data": {
      "image/png": "[encoded data removed]",
      "text/plain": [
       "<matplotlib.figure.Figure at 0x7fdedcd608d0>"
      ]
     },
     "metadata": {},
     "output_type": "display_data"
    }
   ],
   "source": [
    "real = chmm.data_estimate( t, e )\n",
    "#For better visibility of the graph, we cut first two values.\n",
    "plt.plot( out[2:] / real  )\n",
    "\n",
    "plt.show()"
   ]
  },
  {
   "cell_type": "markdown",
   "metadata": {},
   "source": [
    "<a id='conv'></a>\n",
    "Part 3: Comparison of Models Convergences\n",
    "-----------------------------------------------------"
   ]
  },
  {
   "cell_type": "markdown",
   "metadata": {},
   "source": [
    "In this chapter we will compare the convergence rate of discrete and continuous models. It will show some functions usefull for convergence among model parameters.  "
   ]
  },
  {
   "cell_type": "code",
   "execution_count": 1,
   "metadata": {
    "collapsed": true
   },
   "outputs": [],
   "source": [
    "import numpy as np\n",
    "import matplotlib.pyplot as plt\n",
    "import hmms\n",
    "\n",
    "%matplotlib inline"
   ]
  },
  {
   "cell_type": "markdown",
   "metadata": {},
   "source": [
    "We will start by defining the continuous time model. For that, who have read the previous section, it will be the familiar."
   ]
  },
  {
   "cell_type": "code",
   "execution_count": 2,
   "metadata": {
    "collapsed": false
   },
   "outputs": [
    {
     "name": "stdout",
     "output_type": "stream",
     "text": [
      "Initial probabilities (π) :\n"
     ]
    },
    {
     "data": {
      "text/html": [
       "<div>\n",
       "<table border=\"1\" class=\"dataframe\">\n",
       "  <thead>\n",
       "    <tr style=\"text-align: right;\">\n",
       "      <th></th>\n",
       "      <th>0</th>\n",
       "    </tr>\n",
       "  </thead>\n",
       "  <tbody>\n",
       "    <tr>\n",
       "      <th>0</th>\n",
       "      <td>0.6</td>\n",
       "    </tr>\n",
       "    <tr>\n",
       "      <th>1</th>\n",
       "      <td>0.0</td>\n",
       "    </tr>\n",
       "    <tr>\n",
       "      <th>2</th>\n",
       "      <td>0.4</td>\n",
       "    </tr>\n",
       "  </tbody>\n",
       "</table>\n",
       "</div>"
      ],
      "text/plain": [
       "     0\n",
       "0  0.6\n",
       "1  0.0\n",
       "2  0.4"
      ]
     },
     "metadata": {},
     "output_type": "display_data"
    },
    {
     "name": "stdout",
     "output_type": "stream",
     "text": [
      "Transition rate matrix (Q):\n"
     ]
    },
    {
     "data": {
      "text/html": [
       "<div>\n",
       "<table border=\"1\" class=\"dataframe\">\n",
       "  <thead>\n",
       "    <tr style=\"text-align: right;\">\n",
       "      <th></th>\n",
       "      <th>0</th>\n",
       "      <th>1</th>\n",
       "      <th>2</th>\n",
       "    </tr>\n",
       "  </thead>\n",
       "  <tbody>\n",
       "    <tr>\n",
       "      <th>0</th>\n",
       "      <td>-0.375</td>\n",
       "      <td>0.125</td>\n",
       "      <td>0.250</td>\n",
       "    </tr>\n",
       "    <tr>\n",
       "      <th>1</th>\n",
       "      <td>0.250</td>\n",
       "      <td>-0.500</td>\n",
       "      <td>0.250</td>\n",
       "    </tr>\n",
       "    <tr>\n",
       "      <th>2</th>\n",
       "      <td>0.250</td>\n",
       "      <td>0.125</td>\n",
       "      <td>-0.375</td>\n",
       "    </tr>\n",
       "  </tbody>\n",
       "</table>\n",
       "</div>"
      ],
      "text/plain": [
       "       0      1      2\n",
       "0 -0.375  0.125  0.250\n",
       "1  0.250 -0.500  0.250\n",
       "2  0.250  0.125 -0.375"
      ]
     },
     "metadata": {},
     "output_type": "display_data"
    },
    {
     "name": "stdout",
     "output_type": "stream",
     "text": [
      "Transition probabilities for one time unit :\n"
     ]
    },
    {
     "data": {
      "text/html": [
       "<div>\n",
       "<table border=\"1\" class=\"dataframe\">\n",
       "  <thead>\n",
       "    <tr style=\"text-align: right;\">\n",
       "      <th></th>\n",
       "      <th>0</th>\n",
       "      <th>1</th>\n",
       "      <th>2</th>\n",
       "    </tr>\n",
       "  </thead>\n",
       "  <tbody>\n",
       "    <tr>\n",
       "      <th>0</th>\n",
       "      <td>0.721157</td>\n",
       "      <td>0.092948</td>\n",
       "      <td>0.185895</td>\n",
       "    </tr>\n",
       "    <tr>\n",
       "      <th>1</th>\n",
       "      <td>0.185895</td>\n",
       "      <td>0.628209</td>\n",
       "      <td>0.185895</td>\n",
       "    </tr>\n",
       "    <tr>\n",
       "      <th>2</th>\n",
       "      <td>0.185895</td>\n",
       "      <td>0.092948</td>\n",
       "      <td>0.721157</td>\n",
       "    </tr>\n",
       "  </tbody>\n",
       "</table>\n",
       "</div>"
      ],
      "text/plain": [
       "          0         1         2\n",
       "0  0.721157  0.092948  0.185895\n",
       "1  0.185895  0.628209  0.185895\n",
       "2  0.185895  0.092948  0.721157"
      ]
     },
     "metadata": {},
     "output_type": "display_data"
    },
    {
     "name": "stdout",
     "output_type": "stream",
     "text": [
      "Emission probabilities matrix (B):\n"
     ]
    },
    {
     "data": {
      "text/html": [
       "<div>\n",
       "<table border=\"1\" class=\"dataframe\">\n",
       "  <thead>\n",
       "    <tr style=\"text-align: right;\">\n",
       "      <th></th>\n",
       "      <th>0</th>\n",
       "      <th>1</th>\n",
       "      <th>2</th>\n",
       "    </tr>\n",
       "  </thead>\n",
       "  <tbody>\n",
       "    <tr>\n",
       "      <th>0</th>\n",
       "      <td>0.80</td>\n",
       "      <td>0.05</td>\n",
       "      <td>0.15</td>\n",
       "    </tr>\n",
       "    <tr>\n",
       "      <th>1</th>\n",
       "      <td>0.05</td>\n",
       "      <td>0.90</td>\n",
       "      <td>0.05</td>\n",
       "    </tr>\n",
       "    <tr>\n",
       "      <th>2</th>\n",
       "      <td>0.20</td>\n",
       "      <td>0.05</td>\n",
       "      <td>0.75</td>\n",
       "    </tr>\n",
       "  </tbody>\n",
       "</table>\n",
       "</div>"
      ],
      "text/plain": [
       "      0     1     2\n",
       "0  0.80  0.05  0.15\n",
       "1  0.05  0.90  0.05\n",
       "2  0.20  0.05  0.75"
      ]
     },
     "metadata": {},
     "output_type": "display_data"
    }
   ],
   "source": [
    "Q = np.array( [[-0.375,0.125,0.25],[0.25,-0.5,0.25],[0.25,0.125,-0.375]] )\n",
    "B = np.array( [[0.8,0.05,0.15],[0.05,0.9,0.05],[0.2,0.05,0.75]] )\n",
    "Pi = np.array( [0.6,0,0.4] )\n",
    "\n",
    "chmm = hmms.CtHMM( Q,B,Pi )\n",
    "hmms.print_parameters( chmm )"
   ]
  },
  {
   "cell_type": "markdown",
   "metadata": {},
   "source": [
    "We can simply create discrete model with equivalent parameters, using function *get_dthmm_params*.  \n",
    "By default, it will create the model with transition probabilities equal to one time unit probability transition in continuous model. You can pass the optional parameter for different time steps.\n"
   ]
  },
  {
   "cell_type": "code",
   "execution_count": 3,
   "metadata": {
    "collapsed": false
   },
   "outputs": [
    {
     "name": "stdout",
     "output_type": "stream",
     "text": [
      "Initial probabilities (π) :\n"
     ]
    },
    {
     "data": {
      "text/html": [
       "<div>\n",
       "<table border=\"1\" class=\"dataframe\">\n",
       "  <thead>\n",
       "    <tr style=\"text-align: right;\">\n",
       "      <th></th>\n",
       "      <th>0</th>\n",
       "    </tr>\n",
       "  </thead>\n",
       "  <tbody>\n",
       "    <tr>\n",
       "      <th>0</th>\n",
       "      <td>0.6</td>\n",
       "    </tr>\n",
       "    <tr>\n",
       "      <th>1</th>\n",
       "      <td>0.0</td>\n",
       "    </tr>\n",
       "    <tr>\n",
       "      <th>2</th>\n",
       "      <td>0.4</td>\n",
       "    </tr>\n",
       "  </tbody>\n",
       "</table>\n",
       "</div>"
      ],
      "text/plain": [
       "     0\n",
       "0  0.6\n",
       "1  0.0\n",
       "2  0.4"
      ]
     },
     "metadata": {},
     "output_type": "display_data"
    },
    {
     "name": "stdout",
     "output_type": "stream",
     "text": [
      "Transition probabilities matrix (A):\n"
     ]
    },
    {
     "data": {
      "text/html": [
       "<div>\n",
       "<table border=\"1\" class=\"dataframe\">\n",
       "  <thead>\n",
       "    <tr style=\"text-align: right;\">\n",
       "      <th></th>\n",
       "      <th>0</th>\n",
       "      <th>1</th>\n",
       "      <th>2</th>\n",
       "    </tr>\n",
       "  </thead>\n",
       "  <tbody>\n",
       "    <tr>\n",
       "      <th>0</th>\n",
       "      <td>0.721157</td>\n",
       "      <td>0.092948</td>\n",
       "      <td>0.185895</td>\n",
       "    </tr>\n",
       "    <tr>\n",
       "      <th>1</th>\n",
       "      <td>0.185895</td>\n",
       "      <td>0.628209</td>\n",
       "      <td>0.185895</td>\n",
       "    </tr>\n",
       "    <tr>\n",
       "      <th>2</th>\n",
       "      <td>0.185895</td>\n",
       "      <td>0.092948</td>\n",
       "      <td>0.721157</td>\n",
       "    </tr>\n",
       "  </tbody>\n",
       "</table>\n",
       "</div>"
      ],
      "text/plain": [
       "          0         1         2\n",
       "0  0.721157  0.092948  0.185895\n",
       "1  0.185895  0.628209  0.185895\n",
       "2  0.185895  0.092948  0.721157"
      ]
     },
     "metadata": {},
     "output_type": "display_data"
    },
    {
     "name": "stdout",
     "output_type": "stream",
     "text": [
      "Emission probabilities matrix (B):\n"
     ]
    },
    {
     "data": {
      "text/html": [
       "<div>\n",
       "<table border=\"1\" class=\"dataframe\">\n",
       "  <thead>\n",
       "    <tr style=\"text-align: right;\">\n",
       "      <th></th>\n",
       "      <th>0</th>\n",
       "      <th>1</th>\n",
       "      <th>2</th>\n",
       "    </tr>\n",
       "  </thead>\n",
       "  <tbody>\n",
       "    <tr>\n",
       "      <th>0</th>\n",
       "      <td>0.80</td>\n",
       "      <td>0.05</td>\n",
       "      <td>0.15</td>\n",
       "    </tr>\n",
       "    <tr>\n",
       "      <th>1</th>\n",
       "      <td>0.05</td>\n",
       "      <td>0.90</td>\n",
       "      <td>0.05</td>\n",
       "    </tr>\n",
       "    <tr>\n",
       "      <th>2</th>\n",
       "      <td>0.20</td>\n",
       "      <td>0.05</td>\n",
       "      <td>0.75</td>\n",
       "    </tr>\n",
       "  </tbody>\n",
       "</table>\n",
       "</div>"
      ],
      "text/plain": [
       "      0     1     2\n",
       "0  0.80  0.05  0.15\n",
       "1  0.05  0.90  0.05\n",
       "2  0.20  0.05  0.75"
      ]
     },
     "metadata": {},
     "output_type": "display_data"
    }
   ],
   "source": [
    "dhmm = hmms.DtHMM( *chmm.get_dthmm_params() )\n",
    "hmms.print_parameters( dhmm )"
   ]
  },
  {
   "cell_type": "markdown",
   "metadata": {},
   "source": [
    "We can let the disrete model to generate the data sufficient for both models by passing the *times* parameter as *True*."
   ]
  },
  {
   "cell_type": "code",
   "execution_count": 4,
   "metadata": {
    "collapsed": false
   },
   "outputs": [],
   "source": [
    "t,_,e = dhmm.generate_data( (50,50), times=True )   \n",
    "# The free space in the return triple is for the state sequences, we do not need them for the training "
   ]
  },
  {
   "cell_type": "markdown",
   "metadata": {},
   "source": [
    "We can compare the estimation of the data, using both of the model. (They should be the same.)"
   ]
  },
  {
   "cell_type": "code",
   "execution_count": 5,
   "metadata": {
    "collapsed": false
   },
   "outputs": [
    {
     "name": "stdout",
     "output_type": "stream",
     "text": [
      "Data estimation by continuous model: -2461.63232421875\n",
      "Data estimation by discrete model:   -2461.63232421875\n"
     ]
    }
   ],
   "source": [
    "creal = chmm.data_estimate(t,e)\n",
    "dreal = dhmm.data_estimate(e)\n",
    "print(\"Data estimation by continuous model:\", creal)\n",
    "print(\"Data estimation by discrete model:  \", dreal)"
   ]
  },
  {
   "cell_type": "markdown",
   "metadata": {},
   "source": [
    "Now we will create two equivalent random models. "
   ]
  },
  {
   "cell_type": "code",
   "execution_count": 6,
   "metadata": {
    "collapsed": false
   },
   "outputs": [
    {
     "name": "stdout",
     "output_type": "stream",
     "text": [
      "Initial probabilities (π) :\n"
     ]
    },
    {
     "data": {
      "text/html": [
       "<div>\n",
       "<table border=\"1\" class=\"dataframe\">\n",
       "  <thead>\n",
       "    <tr style=\"text-align: right;\">\n",
       "      <th></th>\n",
       "      <th>0</th>\n",
       "    </tr>\n",
       "  </thead>\n",
       "  <tbody>\n",
       "    <tr>\n",
       "      <th>0</th>\n",
       "      <td>0.204594</td>\n",
       "    </tr>\n",
       "    <tr>\n",
       "      <th>1</th>\n",
       "      <td>0.375269</td>\n",
       "    </tr>\n",
       "    <tr>\n",
       "      <th>2</th>\n",
       "      <td>0.420137</td>\n",
       "    </tr>\n",
       "  </tbody>\n",
       "</table>\n",
       "</div>"
      ],
      "text/plain": [
       "          0\n",
       "0  0.204594\n",
       "1  0.375269\n",
       "2  0.420137"
      ]
     },
     "metadata": {},
     "output_type": "display_data"
    },
    {
     "name": "stdout",
     "output_type": "stream",
     "text": [
      "Transition rate matrix (Q):\n"
     ]
    },
    {
     "data": {
      "text/html": [
       "<div>\n",
       "<table border=\"1\" class=\"dataframe\">\n",
       "  <thead>\n",
       "    <tr style=\"text-align: right;\">\n",
       "      <th></th>\n",
       "      <th>0</th>\n",
       "      <th>1</th>\n",
       "      <th>2</th>\n",
       "    </tr>\n",
       "  </thead>\n",
       "  <tbody>\n",
       "    <tr>\n",
       "      <th>0</th>\n",
       "      <td>-1.000000</td>\n",
       "      <td>0.229409</td>\n",
       "      <td>0.770591</td>\n",
       "    </tr>\n",
       "    <tr>\n",
       "      <th>1</th>\n",
       "      <td>0.332947</td>\n",
       "      <td>-1.000000</td>\n",
       "      <td>0.667053</td>\n",
       "    </tr>\n",
       "    <tr>\n",
       "      <th>2</th>\n",
       "      <td>0.289897</td>\n",
       "      <td>0.710103</td>\n",
       "      <td>-1.000000</td>\n",
       "    </tr>\n",
       "  </tbody>\n",
       "</table>\n",
       "</div>"
      ],
      "text/plain": [
       "          0         1         2\n",
       "0 -1.000000  0.229409  0.770591\n",
       "1  0.332947 -1.000000  0.667053\n",
       "2  0.289897  0.710103 -1.000000"
      ]
     },
     "metadata": {},
     "output_type": "display_data"
    },
    {
     "name": "stdout",
     "output_type": "stream",
     "text": [
      "Transition probabilities for one time unit :\n"
     ]
    },
    {
     "data": {
      "text/html": [
       "<div>\n",
       "<table border=\"1\" class=\"dataframe\">\n",
       "  <thead>\n",
       "    <tr style=\"text-align: right;\">\n",
       "      <th></th>\n",
       "      <th>0</th>\n",
       "      <th>1</th>\n",
       "      <th>2</th>\n",
       "    </tr>\n",
       "  </thead>\n",
       "  <tbody>\n",
       "    <tr>\n",
       "      <th>0</th>\n",
       "      <td>0.441347</td>\n",
       "      <td>0.204245</td>\n",
       "      <td>0.354407</td>\n",
       "    </tr>\n",
       "    <tr>\n",
       "      <th>1</th>\n",
       "      <td>0.178175</td>\n",
       "      <td>0.490610</td>\n",
       "      <td>0.331215</td>\n",
       "    </tr>\n",
       "    <tr>\n",
       "      <th>2</th>\n",
       "      <td>0.168532</td>\n",
       "      <td>0.311922</td>\n",
       "      <td>0.519546</td>\n",
       "    </tr>\n",
       "  </tbody>\n",
       "</table>\n",
       "</div>"
      ],
      "text/plain": [
       "          0         1         2\n",
       "0  0.441347  0.204245  0.354407\n",
       "1  0.178175  0.490610  0.331215\n",
       "2  0.168532  0.311922  0.519546"
      ]
     },
     "metadata": {},
     "output_type": "display_data"
    },
    {
     "name": "stdout",
     "output_type": "stream",
     "text": [
      "Emission probabilities matrix (B):\n"
     ]
    },
    {
     "data": {
      "text/html": [
       "<div>\n",
       "<table border=\"1\" class=\"dataframe\">\n",
       "  <thead>\n",
       "    <tr style=\"text-align: right;\">\n",
       "      <th></th>\n",
       "      <th>0</th>\n",
       "      <th>1</th>\n",
       "      <th>2</th>\n",
       "    </tr>\n",
       "  </thead>\n",
       "  <tbody>\n",
       "    <tr>\n",
       "      <th>0</th>\n",
       "      <td>0.825829</td>\n",
       "      <td>0.003614</td>\n",
       "      <td>0.170557</td>\n",
       "    </tr>\n",
       "    <tr>\n",
       "      <th>1</th>\n",
       "      <td>0.180767</td>\n",
       "      <td>0.452470</td>\n",
       "      <td>0.366763</td>\n",
       "    </tr>\n",
       "    <tr>\n",
       "      <th>2</th>\n",
       "      <td>0.391868</td>\n",
       "      <td>0.452465</td>\n",
       "      <td>0.155667</td>\n",
       "    </tr>\n",
       "  </tbody>\n",
       "</table>\n",
       "</div>"
      ],
      "text/plain": [
       "          0         1         2\n",
       "0  0.825829  0.003614  0.170557\n",
       "1  0.180767  0.452470  0.366763\n",
       "2  0.391868  0.452465  0.155667"
      ]
     },
     "metadata": {},
     "output_type": "display_data"
    },
    {
     "name": "stdout",
     "output_type": "stream",
     "text": [
      "Initial probabilities (π) :\n"
     ]
    },
    {
     "data": {
      "text/html": [
       "<div>\n",
       "<table border=\"1\" class=\"dataframe\">\n",
       "  <thead>\n",
       "    <tr style=\"text-align: right;\">\n",
       "      <th></th>\n",
       "      <th>0</th>\n",
       "    </tr>\n",
       "  </thead>\n",
       "  <tbody>\n",
       "    <tr>\n",
       "      <th>0</th>\n",
       "      <td>0.204594</td>\n",
       "    </tr>\n",
       "    <tr>\n",
       "      <th>1</th>\n",
       "      <td>0.375269</td>\n",
       "    </tr>\n",
       "    <tr>\n",
       "      <th>2</th>\n",
       "      <td>0.420137</td>\n",
       "    </tr>\n",
       "  </tbody>\n",
       "</table>\n",
       "</div>"
      ],
      "text/plain": [
       "          0\n",
       "0  0.204594\n",
       "1  0.375269\n",
       "2  0.420137"
      ]
     },
     "metadata": {},
     "output_type": "display_data"
    },
    {
     "name": "stdout",
     "output_type": "stream",
     "text": [
      "Transition probabilities matrix (A):\n"
     ]
    },
    {
     "data": {
      "text/html": [
       "<div>\n",
       "<table border=\"1\" class=\"dataframe\">\n",
       "  <thead>\n",
       "    <tr style=\"text-align: right;\">\n",
       "      <th></th>\n",
       "      <th>0</th>\n",
       "      <th>1</th>\n",
       "      <th>2</th>\n",
       "    </tr>\n",
       "  </thead>\n",
       "  <tbody>\n",
       "    <tr>\n",
       "      <th>0</th>\n",
       "      <td>0.441347</td>\n",
       "      <td>0.204245</td>\n",
       "      <td>0.354407</td>\n",
       "    </tr>\n",
       "    <tr>\n",
       "      <th>1</th>\n",
       "      <td>0.178175</td>\n",
       "      <td>0.490610</td>\n",
       "      <td>0.331215</td>\n",
       "    </tr>\n",
       "    <tr>\n",
       "      <th>2</th>\n",
       "      <td>0.168532</td>\n",
       "      <td>0.311922</td>\n",
       "      <td>0.519546</td>\n",
       "    </tr>\n",
       "  </tbody>\n",
       "</table>\n",
       "</div>"
      ],
      "text/plain": [
       "          0         1         2\n",
       "0  0.441347  0.204245  0.354407\n",
       "1  0.178175  0.490610  0.331215\n",
       "2  0.168532  0.311922  0.519546"
      ]
     },
     "metadata": {},
     "output_type": "display_data"
    },
    {
     "name": "stdout",
     "output_type": "stream",
     "text": [
      "Emission probabilities matrix (B):\n"
     ]
    },
    {
     "data": {
      "text/html": [
       "<div>\n",
       "<table border=\"1\" class=\"dataframe\">\n",
       "  <thead>\n",
       "    <tr style=\"text-align: right;\">\n",
       "      <th></th>\n",
       "      <th>0</th>\n",
       "      <th>1</th>\n",
       "      <th>2</th>\n",
       "    </tr>\n",
       "  </thead>\n",
       "  <tbody>\n",
       "    <tr>\n",
       "      <th>0</th>\n",
       "      <td>0.825829</td>\n",
       "      <td>0.003614</td>\n",
       "      <td>0.170557</td>\n",
       "    </tr>\n",
       "    <tr>\n",
       "      <th>1</th>\n",
       "      <td>0.180767</td>\n",
       "      <td>0.452470</td>\n",
       "      <td>0.366763</td>\n",
       "    </tr>\n",
       "    <tr>\n",
       "      <th>2</th>\n",
       "      <td>0.391868</td>\n",
       "      <td>0.452465</td>\n",
       "      <td>0.155667</td>\n",
       "    </tr>\n",
       "  </tbody>\n",
       "</table>\n",
       "</div>"
      ],
      "text/plain": [
       "          0         1         2\n",
       "0  0.825829  0.003614  0.170557\n",
       "1  0.180767  0.452470  0.366763\n",
       "2  0.391868  0.452465  0.155667"
      ]
     },
     "metadata": {},
     "output_type": "display_data"
    }
   ],
   "source": [
    "ct = hmms.CtHMM.random(3,3)\n",
    "dt = hmms.DtHMM( *ct.get_dthmm_params() )\n",
    "    \n",
    "hmms.print_parameters( ct )\n",
    "hmms.print_parameters( dt )"
   ]
  },
  {
   "cell_type": "markdown",
   "metadata": {},
   "source": [
    "We will train them at our dataset. (It can take a while.)"
   ]
  },
  {
   "cell_type": "code",
   "execution_count": 7,
   "metadata": {
    "collapsed": false
   },
   "outputs": [
    {
     "data": {
      "text/plain": [
       "(array([-2767.83422852, -2609.86669922, -2596.01416016, -2583.61010742,\n",
       "        -2573.32324219, -2564.10839844, -2553.87695312, -2540.40893555,\n",
       "        -2522.45092773, -2501.72631836, -2483.47705078, -2471.84814453,\n",
       "        -2466.11132812, -2463.45703125, -2462.03442383, -2461.10595703,\n",
       "        -2460.42260742, -2459.89306641, -2459.47436523, -2459.13916016,\n",
       "        -2458.86816406, -2458.64770508, -2458.46630859, -2458.31665039,\n",
       "        -2458.19140625, -2458.08618164, -2457.99755859, -2457.92089844,\n",
       "        -2457.85546875, -2457.79907227, -2457.74975586, -2457.70605469,\n",
       "        -2457.66772461, -2457.63256836, -2457.60205078, -2457.57446289,\n",
       "        -2457.54980469, -2457.52685547, -2457.50585938, -2457.48681641,\n",
       "        -2457.46899414, -2457.45288086, -2457.43725586, -2457.42431641,\n",
       "        -2457.41088867, -2457.39916992, -2457.38769531, -2457.37670898,\n",
       "        -2457.36645508, -2457.35742188, -2457.34887695]),\n",
       " array([-2767.83422852, -2615.9753418 , -2607.56298828, -2599.1418457 ,\n",
       "        -2591.06933594, -2583.53369141, -2576.50878906, -2569.7734375 ,\n",
       "        -2562.97045898, -2555.68994141, -2547.57592773, -2538.42871094,\n",
       "        -2528.29418945, -2517.49951172, -2506.60742188, -2496.28369141,\n",
       "        -2487.13476562, -2479.57055664, -2473.73046875, -2469.50073242,\n",
       "        -2466.59448242, -2464.66577148, -2463.39672852, -2462.54248047,\n",
       "        -2461.93969727, -2461.48632812, -2461.12426758, -2460.82055664,\n",
       "        -2460.55615234, -2460.32080078, -2460.10668945, -2459.90991211,\n",
       "        -2459.72900391, -2459.55908203, -2459.40063477, -2459.25195312,\n",
       "        -2459.11206055, -2458.98095703, -2458.85693359, -2458.74072266,\n",
       "        -2458.63183594, -2458.53027344, -2458.43432617, -2458.34570312,\n",
       "        -2458.26245117, -2458.18530273, -2458.11352539, -2458.04760742,\n",
       "        -2457.98535156, -2457.92919922, -2457.87573242]))"
      ]
     },
     "execution_count": 7,
     "metadata": {},
     "output_type": "execute_result"
    }
   ],
   "source": [
    "iter_num = 50\n",
    "outd = dt.baum_welch_graph( e, iter_num )\n",
    "outc = ct.baum_welch_graph( t,e, iter_num )\n",
    "outd,outc"
   ]
  },
  {
   "cell_type": "markdown",
   "metadata": {
    "collapsed": false
   },
   "source": [
    "We can plot and compare both convergence rates. From the essence of models, the continuous model will probably  converge a bit slower, but finally will reach the similar value."
   ]
  },
  {
   "cell_type": "code",
   "execution_count": 8,
   "metadata": {
    "collapsed": false
   },
   "outputs": [
    {
     "data": {
      "image/png": "[encoded data removed]",
      "text/plain": [
       "<matplotlib.figure.Figure at 0x7f4349538978>"
      ]
     },
     "metadata": {},
     "output_type": "display_data"
    }
   ],
   "source": [
    "plt.plot( outd[1:] / dreal  )\n",
    "plt.plot( outc[1:] / dreal  )\n",
    "#plt.savefig('my_plot.svg')  #Optional save the figure\n",
    "plt.show()"
   ]
  },
  {
   "cell_type": "code",
   "execution_count": null,
   "metadata": {
    "collapsed": false
   },
   "outputs": [],
   "source": []
  },
  {
   "cell_type": "markdown",
   "metadata": {
    "collapsed": false
   },
   "source": [
    "<hr/>\n",
    "You can play with the models as you like and feel free to share your result with me, if you have made some interesting experiment!"
   ]
  },
  {
   "cell_type": "markdown",
   "metadata": {
    "collapsed": true
   },
   "source": [
    "Contact: (lopatovsky@gmail.com)"
   ]
  },
  {
   "cell_type": "markdown",
   "metadata": {},
   "source": [
    "### Experimental features\n",
    "#### Fast Convergence"
   ]
  },
  {
   "cell_type": "code",
   "execution_count": 26,
   "metadata": {
    "collapsed": false
   },
   "outputs": [
    {
     "ename": "NameError",
     "evalue": "name 'numpy' is not defined",
     "output_type": "error",
     "traceback": [
      "\u001b[0;31m---------------------------------------------------------------------------\u001b[0m",
      "\u001b[0;31mNameError\u001b[0m                                 Traceback (most recent call last)",
      "\u001b[0;32m<ipython-input-26-a51adadd3b4b>\u001b[0m in \u001b[0;36m<module>\u001b[0;34m()\u001b[0m\n\u001b[1;32m      6\u001b[0m \u001b[0;34m\u001b[0m\u001b[0m\n\u001b[1;32m      7\u001b[0m \u001b[0;34m\u001b[0m\u001b[0m\n\u001b[0;32m----> 8\u001b[0;31m \u001b[0mt\u001b[0m \u001b[0;34m=\u001b[0m \u001b[0mnumpy\u001b[0m\u001b[0;34m.\u001b[0m\u001b[0marray\u001b[0m\u001b[0;34m(\u001b[0m\u001b[0;34m[\u001b[0m\u001b[0;34m[\u001b[0m \u001b[0;36m0\u001b[0m\u001b[0;34m,\u001b[0m\u001b[0;36m1\u001b[0m\u001b[0;34m,\u001b[0m\u001b[0;36m3\u001b[0m\u001b[0;34m,\u001b[0m\u001b[0;36m5\u001b[0m\u001b[0;34m,\u001b[0m\u001b[0;36m6\u001b[0m\u001b[0;34m,\u001b[0m\u001b[0;36m7\u001b[0m\u001b[0;34m,\u001b[0m\u001b[0;36m9\u001b[0m\u001b[0;34m,\u001b[0m\u001b[0;36m11\u001b[0m\u001b[0;34m,\u001b[0m\u001b[0;36m12\u001b[0m\u001b[0;34m]\u001b[0m\u001b[0;34m]\u001b[0m\u001b[0;34m)\u001b[0m\u001b[0;34m\u001b[0m\u001b[0m\n\u001b[0m\u001b[1;32m      9\u001b[0m \u001b[0me\u001b[0m \u001b[0;34m=\u001b[0m \u001b[0mnumpy\u001b[0m\u001b[0;34m.\u001b[0m\u001b[0marray\u001b[0m\u001b[0;34m(\u001b[0m\u001b[0;34m[\u001b[0m\u001b[0;34m[\u001b[0m \u001b[0;36m0\u001b[0m\u001b[0;34m,\u001b[0m\u001b[0;36m0\u001b[0m\u001b[0;34m,\u001b[0m\u001b[0;36m0\u001b[0m\u001b[0;34m,\u001b[0m\u001b[0;36m1\u001b[0m\u001b[0;34m,\u001b[0m\u001b[0;36m2\u001b[0m\u001b[0;34m,\u001b[0m\u001b[0;36m1\u001b[0m\u001b[0;34m,\u001b[0m\u001b[0;36m0\u001b[0m\u001b[0;34m,\u001b[0m\u001b[0;36m0\u001b[0m\u001b[0;34m,\u001b[0m\u001b[0;36m1\u001b[0m\u001b[0;34m]\u001b[0m\u001b[0;34m]\u001b[0m\u001b[0;34m)\u001b[0m\u001b[0;34m\u001b[0m\u001b[0m\n",
      "\u001b[0;31mNameError\u001b[0m: name 'numpy' is not defined"
     ]
    }
   ],
   "source": [
    "seq_num= 1   #number of data sequences\n",
    "seq_len= 4  #length of each sequence\n",
    "\n",
    "t,e = chmm.generate_data( (seq_num,seq_len) )\n",
    "t,e\n",
    "\n",
    "\n",
    "t = numpy.array([[ 0,1,3,5,6,7,9,11,12]])\n",
    "e = numpy.array([[ 0,0,0,1,2,1,0,0,1]])\n"
   ]
  },
  {
   "cell_type": "code",
   "execution_count": 27,
   "metadata": {
    "collapsed": false
   },
   "outputs": [],
   "source": [
    "ct1 = hmms.CtHMM.random(3,3)\n",
    "ct2 = hmms.CtHMM( *ct1.params )"
   ]
  },
  {
   "cell_type": "code",
   "execution_count": 28,
   "metadata": {
    "collapsed": false
   },
   "outputs": [
    {
     "data": {
      "text/plain": [
       "(array([-6.14141989, -3.53253222, -3.14924693, -2.88619375, -2.73574424,\n",
       "        -2.63549685, -2.55013967, -2.46738291, -2.3829639 , -2.29567432,\n",
       "        -2.20573664, -2.11432576, -2.02355099, -1.93662751, -1.85789061,\n",
       "        -1.79203367, -1.74227571, -1.70862222, -1.68804777, -1.67640603,\n",
       "        -1.67014444, -1.66687322, -1.6651895 , -1.66432822, -1.66388786,\n",
       "        -1.66366208, -1.66354525, -1.66348398, -1.66345119, -1.66343296,\n",
       "        -1.66342247, -1.66341603, -1.66341174, -1.66340876, -1.66340649,\n",
       "        -1.66340482, -1.66340339, -1.6634022 , -1.66340125, -1.66340053,\n",
       "        -1.66339982, -1.66339922, -1.66339874, -1.66339827, -1.66339791,\n",
       "        -1.66339767, -1.66339731, -1.66339707, -1.66339695, -1.66339672,\n",
       "        -1.6633966 ]),\n",
       " array([-6.14141989, -3.61541343, -3.3037827 , -3.03653598, -2.78474116,\n",
       "        -2.46807981, -2.17596412, -2.08981371, -2.11808014, -2.13017344,\n",
       "        -2.13210964, -2.13232613, -2.132303  , -2.13224316, -2.13217235,\n",
       "        -2.13209271, -2.13200331, -2.13190269, -2.13178968, -2.13166237,\n",
       "        -2.13151956, -2.13135958, -2.13118124, -2.13098311, -2.13076496,\n",
       "        -2.13052607, -2.13026762, -2.12999105, -2.12969923, -2.12939692,\n",
       "        -2.12908983, -2.12878489, -2.12849045, -2.12821507, -2.12796688,\n",
       "        -2.12775326, -2.12757993, -2.12745023, -2.12736464, -2.12732196,\n",
       "        -2.12731814, -2.12734866, -2.12740707, -2.12748694, -2.12758207,\n",
       "        -2.12768722, -2.12779737, -2.12790871, -2.12801862, -2.12812495,\n",
       "        -2.12822628]))"
      ]
     },
     "execution_count": 28,
     "metadata": {},
     "output_type": "execute_result"
    }
   ],
   "source": [
    "iter_num = 50\n",
    "out1 = ct1.baum_welch_graph( t,e, iter_num )\n",
    "out2 = ct2.baum_welch_graph2( t,e, iter_num )\n",
    "out1,out2"
   ]
  },
  {
   "cell_type": "code",
   "execution_count": 29,
   "metadata": {
    "collapsed": false
   },
   "outputs": [
    {
     "data": {
      "image/png": "[encoded data removed]",
      "text/plain": [
       "<matplotlib.figure.Figure at 0x7f434730fcc0>"
      ]
     },
     "metadata": {},
     "output_type": "display_data"
    }
   ],
   "source": [
    "plt.plot( out1[1:] / dreal , color = \"red\" )\n",
    "plt.plot( out2[1:] / dreal  )\n",
    "#plt.savefig('graph.svg')  #Optional save the figure\n",
    "\n",
    "plt.show()"
   ]
  },
  {
   "cell_type": "code",
   "execution_count": 48,
   "metadata": {
    "collapsed": false
   },
   "outputs": [
    {
     "name": "stdout",
     "output_type": "stream",
     "text": [
      "Initial probabilities (π) :\n"
     ]
    },
    {
     "data": {
      "text/html": [
       "<div>\n",
       "<table border=\"1\" class=\"dataframe\">\n",
       "  <thead>\n",
       "    <tr style=\"text-align: right;\">\n",
       "      <th></th>\n",
       "      <th>0</th>\n",
       "    </tr>\n",
       "  </thead>\n",
       "  <tbody>\n",
       "    <tr>\n",
       "      <th>0</th>\n",
       "      <td>0.678244</td>\n",
       "    </tr>\n",
       "    <tr>\n",
       "      <th>1</th>\n",
       "      <td>0.000559</td>\n",
       "    </tr>\n",
       "    <tr>\n",
       "      <th>2</th>\n",
       "      <td>0.321197</td>\n",
       "    </tr>\n",
       "  </tbody>\n",
       "</table>\n",
       "</div>"
      ],
      "text/plain": [
       "          0\n",
       "0  0.678244\n",
       "1  0.000559\n",
       "2  0.321197"
      ]
     },
     "metadata": {},
     "output_type": "display_data"
    },
    {
     "name": "stdout",
     "output_type": "stream",
     "text": [
      "Transition rate matrix (Q):\n"
     ]
    },
    {
     "data": {
      "text/html": [
       "<div>\n",
       "<table border=\"1\" class=\"dataframe\">\n",
       "  <thead>\n",
       "    <tr style=\"text-align: right;\">\n",
       "      <th></th>\n",
       "      <th>0</th>\n",
       "      <th>1</th>\n",
       "      <th>2</th>\n",
       "    </tr>\n",
       "  </thead>\n",
       "  <tbody>\n",
       "    <tr>\n",
       "      <th>0</th>\n",
       "      <td>-0.645827</td>\n",
       "      <td>0.397310</td>\n",
       "      <td>0.248517</td>\n",
       "    </tr>\n",
       "    <tr>\n",
       "      <th>1</th>\n",
       "      <td>0.350691</td>\n",
       "      <td>-1.115204</td>\n",
       "      <td>0.764513</td>\n",
       "    </tr>\n",
       "    <tr>\n",
       "      <th>2</th>\n",
       "      <td>0.378523</td>\n",
       "      <td>0.399412</td>\n",
       "      <td>-0.777935</td>\n",
       "    </tr>\n",
       "  </tbody>\n",
       "</table>\n",
       "</div>"
      ],
      "text/plain": [
       "          0         1         2\n",
       "0 -0.645827  0.397310  0.248517\n",
       "1  0.350691 -1.115204  0.764513\n",
       "2  0.378523  0.399412 -0.777935"
      ]
     },
     "metadata": {},
     "output_type": "display_data"
    },
    {
     "name": "stdout",
     "output_type": "stream",
     "text": [
      "Transition probabilities for one time unit :\n"
     ]
    },
    {
     "data": {
      "text/html": [
       "<div>\n",
       "<table border=\"1\" class=\"dataframe\">\n",
       "  <thead>\n",
       "    <tr style=\"text-align: right;\">\n",
       "      <th></th>\n",
       "      <th>0</th>\n",
       "      <th>1</th>\n",
       "      <th>2</th>\n",
       "    </tr>\n",
       "  </thead>\n",
       "  <tbody>\n",
       "    <tr>\n",
       "      <th>0</th>\n",
       "      <td>0.593385</td>\n",
       "      <td>0.204944</td>\n",
       "      <td>0.201671</td>\n",
       "    </tr>\n",
       "    <tr>\n",
       "      <th>1</th>\n",
       "      <td>0.226448</td>\n",
       "      <td>0.425441</td>\n",
       "      <td>0.348112</td>\n",
       "    </tr>\n",
       "    <tr>\n",
       "      <th>2</th>\n",
       "      <td>0.234347</td>\n",
       "      <td>0.205540</td>\n",
       "      <td>0.560113</td>\n",
       "    </tr>\n",
       "  </tbody>\n",
       "</table>\n",
       "</div>"
      ],
      "text/plain": [
       "          0         1         2\n",
       "0  0.593385  0.204944  0.201671\n",
       "1  0.226448  0.425441  0.348112\n",
       "2  0.234347  0.205540  0.560113"
      ]
     },
     "metadata": {},
     "output_type": "display_data"
    },
    {
     "name": "stdout",
     "output_type": "stream",
     "text": [
      "Emission probabilities matrix (B):\n"
     ]
    },
    {
     "data": {
      "text/html": [
       "<div>\n",
       "<table border=\"1\" class=\"dataframe\">\n",
       "  <thead>\n",
       "    <tr style=\"text-align: right;\">\n",
       "      <th></th>\n",
       "      <th>0</th>\n",
       "      <th>1</th>\n",
       "      <th>2</th>\n",
       "    </tr>\n",
       "  </thead>\n",
       "  <tbody>\n",
       "    <tr>\n",
       "      <th>0</th>\n",
       "      <td>0.892944</td>\n",
       "      <td>0.001717</td>\n",
       "      <td>0.105339</td>\n",
       "    </tr>\n",
       "    <tr>\n",
       "      <th>1</th>\n",
       "      <td>0.395908</td>\n",
       "      <td>0.360690</td>\n",
       "      <td>0.243403</td>\n",
       "    </tr>\n",
       "    <tr>\n",
       "      <th>2</th>\n",
       "      <td>0.010507</td>\n",
       "      <td>0.294039</td>\n",
       "      <td>0.695454</td>\n",
       "    </tr>\n",
       "  </tbody>\n",
       "</table>\n",
       "</div>"
      ],
      "text/plain": [
       "          0         1         2\n",
       "0  0.892944  0.001717  0.105339\n",
       "1  0.395908  0.360690  0.243403\n",
       "2  0.010507  0.294039  0.695454"
      ]
     },
     "metadata": {},
     "output_type": "display_data"
    },
    {
     "name": "stdout",
     "output_type": "stream",
     "text": [
      "Initial probabilities (π) :\n"
     ]
    },
    {
     "data": {
      "text/html": [
       "<div>\n",
       "<table border=\"1\" class=\"dataframe\">\n",
       "  <thead>\n",
       "    <tr style=\"text-align: right;\">\n",
       "      <th></th>\n",
       "      <th>0</th>\n",
       "    </tr>\n",
       "  </thead>\n",
       "  <tbody>\n",
       "    <tr>\n",
       "      <th>0</th>\n",
       "      <td>0.650437</td>\n",
       "    </tr>\n",
       "    <tr>\n",
       "      <th>1</th>\n",
       "      <td>0.000430</td>\n",
       "    </tr>\n",
       "    <tr>\n",
       "      <th>2</th>\n",
       "      <td>0.349133</td>\n",
       "    </tr>\n",
       "  </tbody>\n",
       "</table>\n",
       "</div>"
      ],
      "text/plain": [
       "          0\n",
       "0  0.650437\n",
       "1  0.000430\n",
       "2  0.349133"
      ]
     },
     "metadata": {},
     "output_type": "display_data"
    },
    {
     "name": "stdout",
     "output_type": "stream",
     "text": [
      "Transition rate matrix (Q):\n"
     ]
    },
    {
     "data": {
      "text/html": [
       "<div>\n",
       "<table border=\"1\" class=\"dataframe\">\n",
       "  <thead>\n",
       "    <tr style=\"text-align: right;\">\n",
       "      <th></th>\n",
       "      <th>0</th>\n",
       "      <th>1</th>\n",
       "      <th>2</th>\n",
       "    </tr>\n",
       "  </thead>\n",
       "  <tbody>\n",
       "    <tr>\n",
       "      <th>0</th>\n",
       "      <td>-0.558960</td>\n",
       "      <td>0.353887</td>\n",
       "      <td>0.205074</td>\n",
       "    </tr>\n",
       "    <tr>\n",
       "      <th>1</th>\n",
       "      <td>0.388868</td>\n",
       "      <td>-1.232566</td>\n",
       "      <td>0.843698</td>\n",
       "    </tr>\n",
       "    <tr>\n",
       "      <th>2</th>\n",
       "      <td>0.236991</td>\n",
       "      <td>0.270316</td>\n",
       "      <td>-0.507307</td>\n",
       "    </tr>\n",
       "  </tbody>\n",
       "</table>\n",
       "</div>"
      ],
      "text/plain": [
       "          0         1         2\n",
       "0 -0.558960  0.353887  0.205074\n",
       "1  0.388868 -1.232566  0.843698\n",
       "2  0.236991  0.270316 -0.507307"
      ]
     },
     "metadata": {},
     "output_type": "display_data"
    },
    {
     "name": "stdout",
     "output_type": "stream",
     "text": [
      "Transition probabilities for one time unit :\n"
     ]
    },
    {
     "data": {
      "text/html": [
       "<div>\n",
       "<table border=\"1\" class=\"dataframe\">\n",
       "  <thead>\n",
       "    <tr style=\"text-align: right;\">\n",
       "      <th></th>\n",
       "      <th>0</th>\n",
       "      <th>1</th>\n",
       "      <th>2</th>\n",
       "    </tr>\n",
       "  </thead>\n",
       "  <tbody>\n",
       "    <tr>\n",
       "      <th>0</th>\n",
       "      <td>0.627111</td>\n",
       "      <td>0.171995</td>\n",
       "      <td>0.200894</td>\n",
       "    </tr>\n",
       "    <tr>\n",
       "      <th>1</th>\n",
       "      <td>0.222894</td>\n",
       "      <td>0.369209</td>\n",
       "      <td>0.407897</td>\n",
       "    </tr>\n",
       "    <tr>\n",
       "      <th>2</th>\n",
       "      <td>0.173664</td>\n",
       "      <td>0.144906</td>\n",
       "      <td>0.681429</td>\n",
       "    </tr>\n",
       "  </tbody>\n",
       "</table>\n",
       "</div>"
      ],
      "text/plain": [
       "          0         1         2\n",
       "0  0.627111  0.171995  0.200894\n",
       "1  0.222894  0.369209  0.407897\n",
       "2  0.173664  0.144906  0.681429"
      ]
     },
     "metadata": {},
     "output_type": "display_data"
    },
    {
     "name": "stdout",
     "output_type": "stream",
     "text": [
      "Emission probabilities matrix (B):\n"
     ]
    },
    {
     "data": {
      "text/html": [
       "<div>\n",
       "<table border=\"1\" class=\"dataframe\">\n",
       "  <thead>\n",
       "    <tr style=\"text-align: right;\">\n",
       "      <th></th>\n",
       "      <th>0</th>\n",
       "      <th>1</th>\n",
       "      <th>2</th>\n",
       "    </tr>\n",
       "  </thead>\n",
       "  <tbody>\n",
       "    <tr>\n",
       "      <th>0</th>\n",
       "      <td>0.917881</td>\n",
       "      <td>0.000748</td>\n",
       "      <td>0.081371</td>\n",
       "    </tr>\n",
       "    <tr>\n",
       "      <th>1</th>\n",
       "      <td>0.532974</td>\n",
       "      <td>0.262363</td>\n",
       "      <td>0.204663</td>\n",
       "    </tr>\n",
       "    <tr>\n",
       "      <th>2</th>\n",
       "      <td>0.011361</td>\n",
       "      <td>0.335583</td>\n",
       "      <td>0.653056</td>\n",
       "    </tr>\n",
       "  </tbody>\n",
       "</table>\n",
       "</div>"
      ],
      "text/plain": [
       "          0         1         2\n",
       "0  0.917881  0.000748  0.081371\n",
       "1  0.532974  0.262363  0.204663\n",
       "2  0.011361  0.335583  0.653056"
      ]
     },
     "metadata": {},
     "output_type": "display_data"
    }
   ],
   "source": [
    "hmms.print_parameters(ct1)\n",
    "hmms.print_parameters(ct2)"
   ]
  },
  {
   "cell_type": "code",
   "execution_count": 49,
   "metadata": {
    "collapsed": true
   },
   "outputs": [],
   "source": []
  },
  {
   "cell_type": "code",
   "execution_count": null,
   "metadata": {
    "collapsed": false
   },
   "outputs": [],
   "source": []
  },
  {
   "cell_type": "code",
   "execution_count": null,
   "metadata": {
    "collapsed": true
   },
   "outputs": [],
   "source": []
  }
 ],
 "metadata": {
  "kernelspec": {
   "display_name": "Python 3",
   "language": "python",
   "name": "python3"
  },
  "language_info": {
   "codemirror_mode": {
    "name": "ipython",
    "version": 3
   },
   "file_extension": ".py",
   "mimetype": "text/x-python",
   "name": "python",
   "nbconvert_exporter": "python",
   "pygments_lexer": "ipython3",
   "version": "3.5.2"
  }
 },
 "nbformat": 4,
 "nbformat_minor": 2
}
