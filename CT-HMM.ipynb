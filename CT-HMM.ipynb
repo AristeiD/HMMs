{
 "cells": [
  {
   "cell_type": "markdown",
   "metadata": {
    "deletable": true,
    "editable": true
   },
   "source": [
    "HMMs Library \n",
    "============================\n",
    "#### (Discrete & Continuous hidden markov models )\n",
    "\n",
    "The document contain the tutorial ( usage explained by example ) for the hidden markov models library [link to pip].\n",
    "* [The **first** part](#dthmm) will cover disrete-time hidden markov model (**DtHMM**)\n",
    "* [The **second** part](#cthmm) will be dedicated to continuous-time hidden markov model (**CtHMM**)\n",
    "* [The **third** part](#conv) will compare the convergences of **both** models\n",
    "\n",
    "The all of the part are independent, so you do not need to run all notebook, if you are interested only in one of them. \n",
    "\n",
    "\n",
    "If you are not familiar with the hidden markov model theory, We recommend ...\n",
    "%todo: refer to DP theory, (simple guide to cthmm?), github, sources\n"
   ]
  },
  {
   "cell_type": "markdown",
   "metadata": {
    "deletable": true,
    "editable": true
   },
   "source": [
    "<a id='dthmm'></a>\n",
    "Part 1: Discrete Time Hidden Markov Model\n",
    "---------------------------------------------------"
   ]
  },
  {
   "cell_type": "code",
   "execution_count": 1,
   "metadata": {
    "collapsed": false,
    "deletable": true,
    "editable": true
   },
   "outputs": [],
   "source": [
    "import numpy as np\n",
    "import matplotlib.pyplot as plt\n",
    "import hmms\n",
    "\n",
    "%matplotlib inline"
   ]
  },
  {
   "cell_type": "markdown",
   "metadata": {
    "deletable": true,
    "editable": true
   },
   "source": [
    "### Construct DtHMM \n",
    "You can directly initialize the DtHMM by passing the **model parameters**.  \n",
    "\n",
    "We will create simple DtHMM of two hidden states and three output variables."
   ]
  },
  {
   "cell_type": "code",
   "execution_count": 2,
   "metadata": {
    "collapsed": false,
    "deletable": true,
    "editable": true
   },
   "outputs": [],
   "source": [
    "# A is the matrix of transition probabilities from state [row] to state [column].\n",
    "A = np.array([[0.9,0.1],[0.4,0.6]])\n",
    "# B is the matrix of probabilities that the state [row] will emmit output variable [column].\n",
    "B = np.array([[0.9,0.08,0.02],[0.2,0.5,0.3]])\n",
    "# Pi is the vector of initial state probabilities.   \n",
    "Pi = np.array( [0.8,0.2] )\n",
    "\n",
    "# Create DtHMM by given parameters.\n",
    "dhmm = hmms.DtHMM(A,B,Pi)"
   ]
  },
  {
   "cell_type": "markdown",
   "metadata": {
    "deletable": true,
    "editable": true
   },
   "source": [
    "Or you can initialize it by **random parameters**. Passing the number of hidden states and output variables. "
   ]
  },
  {
   "cell_type": "code",
   "execution_count": 3,
   "metadata": {
    "collapsed": false,
    "deletable": true,
    "editable": true
   },
   "outputs": [],
   "source": [
    "dhmm_random = hmms.DtHMM.random(2,3)"
   ]
  },
  {
   "cell_type": "markdown",
   "metadata": {
    "deletable": true,
    "editable": true
   },
   "source": [
    "### Save & Read from File\n",
    "Once you have created the model you can **save** its parameters in file simply by calling *save_params* method.  "
   ]
  },
  {
   "cell_type": "code",
   "execution_count": 4,
   "metadata": {
    "collapsed": false,
    "deletable": true,
    "editable": true
   },
   "outputs": [],
   "source": [
    "dhmm.save_params(\"Models/hello_dthmm\") "
   ]
  },
  {
   "cell_type": "markdown",
   "metadata": {
    "deletable": true,
    "editable": true
   },
   "source": [
    "The method stored the parameters in *.npz* format.  \n",
    "\n",
    "The saved file can be later used to **read** parametrs for model initialization."
   ]
  },
  {
   "cell_type": "code",
   "execution_count": 5,
   "metadata": {
    "collapsed": false,
    "deletable": true,
    "editable": true
   },
   "outputs": [],
   "source": [
    "dhmm_from_file = hmms.DtHMM.from_file( \"Models/hello_dthmm.npz\" )"
   ]
  },
  {
   "cell_type": "markdown",
   "metadata": {
    "deletable": true,
    "editable": true
   },
   "source": [
    "### Set & Get Parameters\n",
    "Later you can always **set** parameters with triple of methods corresponding to the constructors."
   ]
  },
  {
   "cell_type": "code",
   "execution_count": 6,
   "metadata": {
    "collapsed": false,
    "deletable": true,
    "editable": true,
    "scrolled": true
   },
   "outputs": [],
   "source": [
    "dhmm.set_params(A,B,Pi)\n",
    "dhmm.set_params_random(2,3)\n",
    "dhmm.set_params_from_file( \"Models/hello_dthmm.npz\" )"
   ]
  },
  {
   "cell_type": "markdown",
   "metadata": {
    "deletable": true,
    "editable": true
   },
   "source": [
    "You can **get** parameters by calling them separately,"
   ]
  },
  {
   "cell_type": "code",
   "execution_count": 7,
   "metadata": {
    "collapsed": false,
    "deletable": true,
    "editable": true
   },
   "outputs": [
    {
     "data": {
      "text/plain": [
       "(array([[ 0.9,  0.1],\n",
       "        [ 0.4,  0.6]]), array([[ 0.9 ,  0.08,  0.02],\n",
       "        [ 0.2 ,  0.5 ,  0.3 ]]), array([ 0.8,  0.2]))"
      ]
     },
     "execution_count": 7,
     "metadata": {},
     "output_type": "execute_result"
    }
   ],
   "source": [
    "dhmm.a, dhmm.b, dhmm.pi"
   ]
  },
  {
   "cell_type": "markdown",
   "metadata": {
    "deletable": true,
    "editable": true
   },
   "source": [
    "or **get** them **all** together as the triple."
   ]
  },
  {
   "cell_type": "code",
   "execution_count": 8,
   "metadata": {
    "collapsed": false,
    "deletable": true,
    "editable": true
   },
   "outputs": [],
   "source": [
    "(A,B,Pi) = dhmm.params"
   ]
  },
  {
   "cell_type": "markdown",
   "metadata": {
    "deletable": true,
    "editable": true
   },
   "source": [
    "### Generate Random State and Emission Sequence\n",
    " Now we can use our model to generate state and emission sequence.   \n",
    " The model will randomly choose which transition or emission will happen, taking into consideration the parameters we have previously defined.\n"
   ]
  },
  {
   "cell_type": "code",
   "execution_count": 9,
   "metadata": {
    "collapsed": false,
    "deletable": true,
    "editable": true
   },
   "outputs": [
    {
     "data": {
      "image/png": "[encoded data removed]",
      "text/plain": [
       "<matplotlib.figure.Figure at 0x7f8977804908>"
      ]
     },
     "metadata": {},
     "output_type": "display_data"
    }
   ],
   "source": [
    "seq_len = 20\n",
    "s_seq, e_seq = dhmm.generate( seq_len )\n",
    "\n",
    "#resize plot\n",
    "plt.rcParams['figure.figsize'] = [20,20]\n",
    "\n",
    "hmms.plot_hmm( s_seq, e_seq )"
   ]
  },
  {
   "cell_type": "markdown",
   "metadata": {
    "collapsed": false,
    "deletable": true,
    "editable": true
   },
   "source": [
    "### Find Most Likely State Sequence\n",
    "If we have the model parameters and emission sequence, we can find the most probable state sequence that would generate it. Notice, that it can be different, than the actual sequence that has generated the emissions.  \n",
    "We will use Viterbi algorithm for the calculation.\n"
   ]
  },
  {
   "cell_type": "code",
   "execution_count": 10,
   "metadata": {
    "collapsed": false,
    "deletable": true,
    "editable": true
   },
   "outputs": [
    {
     "data": {
      "image/png": "[encoded data removed]",
      "text/plain": [
       "<matplotlib.figure.Figure at 0x7f8977804320>"
      ]
     },
     "metadata": {},
     "output_type": "display_data"
    }
   ],
   "source": [
    "( log_prob, s_seq ) =  dhmm.viterbi( e_seq )\n",
    "# Let's print the most likely state sequence, it can be same or differ from the sequence above.\n",
    "hmms.plot_hmm( s_seq, e_seq )"
   ]
  },
  {
   "cell_type": "markdown",
   "metadata": {
    "collapsed": true,
    "deletable": true,
    "editable": true
   },
   "source": [
    "The *log_prob* parameter store the probability of the sequence.  \n",
    "All the probabilities in the library are stored in the logarithm of their actual value. As the number of possible sequences grows exponentialy by it length, it could easily lead to float underflow.  \n",
    "You can easily transform it to the normal scale value applying *exp* function. "
   ]
  },
  {
   "cell_type": "code",
   "execution_count": 11,
   "metadata": {
    "collapsed": false,
    "deletable": true,
    "editable": true
   },
   "outputs": [
    {
     "data": {
      "text/plain": [
       "1.7800216924396227e-05"
      ]
     },
     "execution_count": 11,
     "metadata": {},
     "output_type": "execute_result"
    }
   ],
   "source": [
    "np.exp( log_prob )"
   ]
  },
  {
   "cell_type": "markdown",
   "metadata": {
    "deletable": true,
    "editable": true
   },
   "source": [
    "### The Probability of the Emission Sequence\n",
    "We can compute the probabilityoft the model generating the emission sequence."
   ]
  },
  {
   "cell_type": "code",
   "execution_count": 12,
   "metadata": {
    "collapsed": false,
    "deletable": true,
    "editable": true
   },
   "outputs": [
    {
     "data": {
      "text/plain": [
       "4.1630897306788923e-05"
      ]
     },
     "execution_count": 12,
     "metadata": {},
     "output_type": "execute_result"
    }
   ],
   "source": [
    "np.exp( dhmm.emission_estimate( e_seq ) )"
   ]
  },
  {
   "cell_type": "markdown",
   "metadata": {
    "deletable": true,
    "editable": true
   },
   "source": [
    "### Generate Artificial Dataset\n",
    "\n",
    "You can easily generate many sequences in once by using the generate_data function.\n",
    "The generated emission sequences are in the form that is suitable for training of parameters. You can switch times=True, if you want to generate also the corresponding equidistant time sequences."
   ]
  },
  {
   "cell_type": "code",
   "execution_count": 13,
   "metadata": {
    "collapsed": false,
    "deletable": true,
    "editable": true
   },
   "outputs": [
    {
     "data": {
      "text/plain": [
       "(array([[0, 0, 0, 0, 0, 0, 0, 0, 0, 0],\n",
       "        [1, 1, 1, 1, 1, 0, 0, 0, 0, 0],\n",
       "        [0, 0, 0, 0, 0, 0, 0, 0, 0, 1]]),\n",
       " array([[0, 0, 0, 0, 0, 0, 0, 0, 0, 0],\n",
       "        [0, 1, 1, 1, 1, 0, 0, 0, 0, 0],\n",
       "        [0, 0, 0, 2, 0, 0, 0, 0, 0, 0]]))"
      ]
     },
     "execution_count": 13,
     "metadata": {},
     "output_type": "execute_result"
    }
   ],
   "source": [
    "seq_num= 3   #number of data sequences\n",
    "seq_len= 10  #length of each sequence\n",
    "\n",
    "dhmm.generate_data( (seq_num,seq_len) )"
   ]
  },
  {
   "cell_type": "markdown",
   "metadata": {
    "deletable": true,
    "editable": true
   },
   "source": [
    "### Parameters Estimation - Baum Welch Algorithm\n",
    "We usually do not know the real parameters of the model. But, if we have sufficient data, we can estimate them by EM algorithm.  \n",
    "Here we will have several output variables (emissions) sequences and we will show, how to use them to train the model parameters\n",
    "\n",
    "Let's start by creating some artifficial data. We will use the previously defined *dhmm* model for it.\n"
   ]
  },
  {
   "cell_type": "code",
   "execution_count": 14,
   "metadata": {
    "collapsed": false,
    "deletable": true,
    "editable": true
   },
   "outputs": [
    {
     "data": {
      "text/plain": [
       "array([[0, 0, 0, 0, 1, 2, 0, 0, 0, 0, 0, 0, 0, 0, 1, 1, 2, 2, 0, 2, 2, 2,\n",
       "        1, 2, 2, 0, 0, 0, 0, 0, 2, 0, 0, 0, 0, 0, 0, 0, 0, 0, 1, 0, 0, 0,\n",
       "        0, 0, 0, 1, 0, 0],\n",
       "       [0, 0, 1, 0, 0, 0, 0, 0, 0, 0, 0, 0, 0, 0, 2, 0, 0, 0, 0, 0, 0, 0,\n",
       "        0, 0, 0, 0, 0, 0, 0, 0, 0, 0, 0, 0, 0, 0, 0, 0, 0, 0, 1, 0, 0, 0,\n",
       "        0, 0, 0, 0, 0, 0],\n",
       "       [0, 2, 1, 0, 1, 0, 2, 2, 0, 0, 2, 0, 0, 0, 1, 0, 0, 1, 0, 0, 0, 0,\n",
       "        0, 0, 0, 0, 0, 0, 0, 0, 1, 0, 0, 0, 0, 0, 0, 0, 0, 0, 0, 0, 0, 0,\n",
       "        0, 0, 0, 0, 0, 0],\n",
       "       [0, 1, 0, 0, 0, 2, 0, 0, 0, 0, 0, 0, 0, 2, 0, 0, 2, 0, 1, 0, 0, 0,\n",
       "        0, 0, 1, 0, 0, 0, 0, 0, 0, 0, 0, 0, 1, 1, 1, 0, 1, 0, 0, 0, 0, 1,\n",
       "        0, 1, 0, 0, 0, 0],\n",
       "       [1, 0, 0, 0, 0, 0, 0, 0, 0, 0, 0, 0, 0, 1, 0, 0, 0, 0, 0, 0, 0, 0,\n",
       "        0, 0, 0, 1, 0, 0, 1, 0, 1, 0, 0, 0, 0, 0, 0, 0, 0, 0, 0, 0, 0, 0,\n",
       "        0, 1, 0, 0, 0, 0]])"
      ]
     },
     "execution_count": 14,
     "metadata": {},
     "output_type": "execute_result"
    }
   ],
   "source": [
    "seq_num = 5\n",
    "seq_len = 50\n",
    "data = np.empty( (seq_num, seq_len), dtype=int )\n",
    "\n",
    "_ , data = dhmm.generate_data( (seq_num,seq_len) )\n",
    "\n",
    "data"
   ]
  },
  {
   "cell_type": "markdown",
   "metadata": {
    "deletable": true,
    "editable": true
   },
   "source": [
    "Now, we will create the model with random parameters, that will be eventually trained to much the data."
   ]
  },
  {
   "cell_type": "code",
   "execution_count": 15,
   "metadata": {
    "collapsed": false,
    "deletable": true,
    "editable": true
   },
   "outputs": [
    {
     "name": "stdout",
     "output_type": "stream",
     "text": [
      "Initial probabilities (π) :\n"
     ]
    },
    {
     "data": {
      "text/html": [
       "<div>\n",
       "<table border=\"1\" class=\"dataframe\">\n",
       "  <thead>\n",
       "    <tr style=\"text-align: right;\">\n",
       "      <th></th>\n",
       "      <th>0</th>\n",
       "    </tr>\n",
       "  </thead>\n",
       "  <tbody>\n",
       "    <tr>\n",
       "      <th>0</th>\n",
       "      <td>0.856836</td>\n",
       "    </tr>\n",
       "    <tr>\n",
       "      <th>1</th>\n",
       "      <td>0.143164</td>\n",
       "    </tr>\n",
       "  </tbody>\n",
       "</table>\n",
       "</div>"
      ],
      "text/plain": [
       "          0\n",
       "0  0.856836\n",
       "1  0.143164"
      ]
     },
     "metadata": {},
     "output_type": "display_data"
    },
    {
     "name": "stdout",
     "output_type": "stream",
     "text": [
      "Transition probabilities matrix (A):\n"
     ]
    },
    {
     "data": {
      "text/html": [
       "<div>\n",
       "<table border=\"1\" class=\"dataframe\">\n",
       "  <thead>\n",
       "    <tr style=\"text-align: right;\">\n",
       "      <th></th>\n",
       "      <th>0</th>\n",
       "      <th>1</th>\n",
       "    </tr>\n",
       "  </thead>\n",
       "  <tbody>\n",
       "    <tr>\n",
       "      <th>0</th>\n",
       "      <td>0.501476</td>\n",
       "      <td>0.498524</td>\n",
       "    </tr>\n",
       "    <tr>\n",
       "      <th>1</th>\n",
       "      <td>0.730494</td>\n",
       "      <td>0.269506</td>\n",
       "    </tr>\n",
       "  </tbody>\n",
       "</table>\n",
       "</div>"
      ],
      "text/plain": [
       "          0         1\n",
       "0  0.501476  0.498524\n",
       "1  0.730494  0.269506"
      ]
     },
     "metadata": {},
     "output_type": "display_data"
    },
    {
     "name": "stdout",
     "output_type": "stream",
     "text": [
      "Emission probabilities matrix (B):\n"
     ]
    },
    {
     "data": {
      "text/html": [
       "<div>\n",
       "<table border=\"1\" class=\"dataframe\">\n",
       "  <thead>\n",
       "    <tr style=\"text-align: right;\">\n",
       "      <th></th>\n",
       "      <th>0</th>\n",
       "      <th>1</th>\n",
       "      <th>2</th>\n",
       "    </tr>\n",
       "  </thead>\n",
       "  <tbody>\n",
       "    <tr>\n",
       "      <th>0</th>\n",
       "      <td>0.423060</td>\n",
       "      <td>0.392090</td>\n",
       "      <td>0.184850</td>\n",
       "    </tr>\n",
       "    <tr>\n",
       "      <th>1</th>\n",
       "      <td>0.442075</td>\n",
       "      <td>0.398749</td>\n",
       "      <td>0.159176</td>\n",
       "    </tr>\n",
       "  </tbody>\n",
       "</table>\n",
       "</div>"
      ],
      "text/plain": [
       "          0         1         2\n",
       "0  0.423060  0.392090  0.184850\n",
       "1  0.442075  0.398749  0.159176"
      ]
     },
     "metadata": {},
     "output_type": "display_data"
    }
   ],
   "source": [
    "dhmm_r = hmms.DtHMM.random( 2,3 )\n",
    "# We can print all the parameters.\n",
    "hmms.print_parameters( dhmm_r )"
   ]
  },
  {
   "cell_type": "markdown",
   "metadata": {
    "deletable": true,
    "editable": true
   },
   "source": [
    "Let's compare the dataset likelihood estimation of model used for generating the data and the random parameters model. "
   ]
  },
  {
   "cell_type": "code",
   "execution_count": 16,
   "metadata": {
    "collapsed": false,
    "deletable": true,
    "editable": true
   },
   "outputs": [
    {
     "name": "stdout",
     "output_type": "stream",
     "text": [
      "Generator model: 1.62144348275e-63\n",
      "Random model:    6.26916065035e-100\n"
     ]
    }
   ],
   "source": [
    "print( \"Generator model:\" , np.exp( dhmm.data_estimate(data)   ) )\n",
    "print( \"Random model:   \" ,np.exp( dhmm_r.data_estimate(data) ) )"
   ]
  },
  {
   "cell_type": "markdown",
   "metadata": {
    "deletable": true,
    "editable": true
   },
   "source": [
    "Most likely the probability that the data was generated by random model is extremly low.\n",
    "\n",
    "Now we can take the random model and reestimate it to fit the data better."
   ]
  },
  {
   "cell_type": "code",
   "execution_count": 17,
   "metadata": {
    "collapsed": false,
    "deletable": true,
    "editable": true
   },
   "outputs": [
    {
     "name": "stdout",
     "output_type": "stream",
     "text": [
      "Reestimated model after 10 iterations:    7.57410927125e-65\n"
     ]
    }
   ],
   "source": [
    "dhmm_r.baum_welch( data, 10 )\n",
    "print( \"Reestimated model after 10 iterations:   \" ,np.exp( dhmm_r.data_estimate(data) ) )"
   ]
  },
  {
   "cell_type": "markdown",
   "metadata": {
    "deletable": true,
    "editable": true
   },
   "source": [
    "The probability of the reestimated model should now be similiar (possibly even higher) that the generator's model. If it is not, you can try to run the estimation procedure more time at different randomly generated models. It could happen that the estimation fall in the local optima.\n",
    "\n",
    "If you are satisfied with the results, you can run some more iteration to fine-tune it."
   ]
  },
  {
   "cell_type": "code",
   "execution_count": 18,
   "metadata": {
    "collapsed": false,
    "deletable": true,
    "editable": true
   },
   "outputs": [
    {
     "name": "stdout",
     "output_type": "stream",
     "text": [
      "Reestimated model after 110 iterations:    9.33068232191e-65\n"
     ]
    }
   ],
   "source": [
    "dhmm_r.baum_welch( data, 100 )\n",
    "print( \"Reestimated model after 110 iterations:   \" ,np.exp( dhmm_r.data_estimate(data) ) )"
   ]
  },
  {
   "cell_type": "markdown",
   "metadata": {
    "deletable": true,
    "editable": true
   },
   "source": [
    "We can compare the parameters of the model."
   ]
  },
  {
   "cell_type": "code",
   "execution_count": 19,
   "metadata": {
    "collapsed": false,
    "deletable": true,
    "editable": true
   },
   "outputs": [
    {
     "name": "stdout",
     "output_type": "stream",
     "text": [
      "Initial probabilities (π) :\n"
     ]
    },
    {
     "data": {
      "text/html": [
       "<div>\n",
       "<table border=\"1\" class=\"dataframe\">\n",
       "  <thead>\n",
       "    <tr style=\"text-align: right;\">\n",
       "      <th></th>\n",
       "      <th>0</th>\n",
       "    </tr>\n",
       "  </thead>\n",
       "  <tbody>\n",
       "    <tr>\n",
       "      <th>0</th>\n",
       "      <td>0.999835</td>\n",
       "    </tr>\n",
       "    <tr>\n",
       "      <th>1</th>\n",
       "      <td>0.000165</td>\n",
       "    </tr>\n",
       "  </tbody>\n",
       "</table>\n",
       "</div>"
      ],
      "text/plain": [
       "          0\n",
       "0  0.999835\n",
       "1  0.000165"
      ]
     },
     "metadata": {},
     "output_type": "display_data"
    },
    {
     "name": "stdout",
     "output_type": "stream",
     "text": [
      "Transition probabilities matrix (A):\n"
     ]
    },
    {
     "data": {
      "text/html": [
       "<div>\n",
       "<table border=\"1\" class=\"dataframe\">\n",
       "  <thead>\n",
       "    <tr style=\"text-align: right;\">\n",
       "      <th></th>\n",
       "      <th>0</th>\n",
       "      <th>1</th>\n",
       "    </tr>\n",
       "  </thead>\n",
       "  <tbody>\n",
       "    <tr>\n",
       "      <th>0</th>\n",
       "      <td>0.431748</td>\n",
       "      <td>0.568252</td>\n",
       "    </tr>\n",
       "    <tr>\n",
       "      <th>1</th>\n",
       "      <td>0.737579</td>\n",
       "      <td>0.262421</td>\n",
       "    </tr>\n",
       "  </tbody>\n",
       "</table>\n",
       "</div>"
      ],
      "text/plain": [
       "          0         1\n",
       "0  0.431748  0.568252\n",
       "1  0.737579  0.262421"
      ]
     },
     "metadata": {},
     "output_type": "display_data"
    },
    {
     "name": "stdout",
     "output_type": "stream",
     "text": [
      "Emission probabilities matrix (B):\n"
     ]
    },
    {
     "data": {
      "text/html": [
       "<div>\n",
       "<table border=\"1\" class=\"dataframe\">\n",
       "  <thead>\n",
       "    <tr style=\"text-align: right;\">\n",
       "      <th></th>\n",
       "      <th>0</th>\n",
       "      <th>1</th>\n",
       "      <th>2</th>\n",
       "    </tr>\n",
       "  </thead>\n",
       "  <tbody>\n",
       "    <tr>\n",
       "      <th>0</th>\n",
       "      <td>0.778855</td>\n",
       "      <td>0.170071</td>\n",
       "      <td>0.051074</td>\n",
       "    </tr>\n",
       "    <tr>\n",
       "      <th>1</th>\n",
       "      <td>0.874861</td>\n",
       "      <td>0.034572</td>\n",
       "      <td>0.090568</td>\n",
       "    </tr>\n",
       "  </tbody>\n",
       "</table>\n",
       "</div>"
      ],
      "text/plain": [
       "          0         1         2\n",
       "0  0.778855  0.170071  0.051074\n",
       "1  0.874861  0.034572  0.090568"
      ]
     },
     "metadata": {},
     "output_type": "display_data"
    },
    {
     "name": "stdout",
     "output_type": "stream",
     "text": [
      "Initial probabilities (π) :\n"
     ]
    },
    {
     "data": {
      "text/html": [
       "<div>\n",
       "<table border=\"1\" class=\"dataframe\">\n",
       "  <thead>\n",
       "    <tr style=\"text-align: right;\">\n",
       "      <th></th>\n",
       "      <th>0</th>\n",
       "    </tr>\n",
       "  </thead>\n",
       "  <tbody>\n",
       "    <tr>\n",
       "      <th>0</th>\n",
       "      <td>0.8</td>\n",
       "    </tr>\n",
       "    <tr>\n",
       "      <th>1</th>\n",
       "      <td>0.2</td>\n",
       "    </tr>\n",
       "  </tbody>\n",
       "</table>\n",
       "</div>"
      ],
      "text/plain": [
       "     0\n",
       "0  0.8\n",
       "1  0.2"
      ]
     },
     "metadata": {},
     "output_type": "display_data"
    },
    {
     "name": "stdout",
     "output_type": "stream",
     "text": [
      "Transition probabilities matrix (A):\n"
     ]
    },
    {
     "data": {
      "text/html": [
       "<div>\n",
       "<table border=\"1\" class=\"dataframe\">\n",
       "  <thead>\n",
       "    <tr style=\"text-align: right;\">\n",
       "      <th></th>\n",
       "      <th>0</th>\n",
       "      <th>1</th>\n",
       "    </tr>\n",
       "  </thead>\n",
       "  <tbody>\n",
       "    <tr>\n",
       "      <th>0</th>\n",
       "      <td>0.9</td>\n",
       "      <td>0.1</td>\n",
       "    </tr>\n",
       "    <tr>\n",
       "      <th>1</th>\n",
       "      <td>0.4</td>\n",
       "      <td>0.6</td>\n",
       "    </tr>\n",
       "  </tbody>\n",
       "</table>\n",
       "</div>"
      ],
      "text/plain": [
       "     0    1\n",
       "0  0.9  0.1\n",
       "1  0.4  0.6"
      ]
     },
     "metadata": {},
     "output_type": "display_data"
    },
    {
     "name": "stdout",
     "output_type": "stream",
     "text": [
      "Emission probabilities matrix (B):\n"
     ]
    },
    {
     "data": {
      "text/html": [
       "<div>\n",
       "<table border=\"1\" class=\"dataframe\">\n",
       "  <thead>\n",
       "    <tr style=\"text-align: right;\">\n",
       "      <th></th>\n",
       "      <th>0</th>\n",
       "      <th>1</th>\n",
       "      <th>2</th>\n",
       "    </tr>\n",
       "  </thead>\n",
       "  <tbody>\n",
       "    <tr>\n",
       "      <th>0</th>\n",
       "      <td>0.9</td>\n",
       "      <td>0.08</td>\n",
       "      <td>0.02</td>\n",
       "    </tr>\n",
       "    <tr>\n",
       "      <th>1</th>\n",
       "      <td>0.2</td>\n",
       "      <td>0.50</td>\n",
       "      <td>0.30</td>\n",
       "    </tr>\n",
       "  </tbody>\n",
       "</table>\n",
       "</div>"
      ],
      "text/plain": [
       "     0     1     2\n",
       "0  0.9  0.08  0.02\n",
       "1  0.2  0.50  0.30"
      ]
     },
     "metadata": {},
     "output_type": "display_data"
    }
   ],
   "source": [
    "hmms.print_parameters( dhmm_r )\n",
    "hmms.print_parameters( dhmm )"
   ]
  },
  {
   "cell_type": "markdown",
   "metadata": {
    "collapsed": false,
    "deletable": true,
    "editable": true,
    "scrolled": true
   },
   "source": [
    "Alternatively, we can run *baum_welch_graph* method to get learning curve of estimated probabilities."
   ]
  },
  {
   "cell_type": "code",
   "execution_count": 20,
   "metadata": {
    "collapsed": false,
    "deletable": true,
    "editable": true,
    "scrolled": false
   },
   "outputs": [
    {
     "data": {
      "text/plain": [
       "array([  6.30281286e-127,   7.45907335e-065,   7.48621091e-065,\n",
       "         7.51516709e-065,   7.54619249e-065,   7.57942744e-065,\n",
       "         7.61501616e-065,   7.65322396e-065,   7.69385372e-065,\n",
       "         7.73717803e-065,   7.78335869e-065,   7.83220483e-065,\n",
       "         7.88388337e-065,   7.93808285e-065,   7.99509448e-065,\n",
       "         8.05448176e-065,   8.11629143e-065,   8.18032275e-065,\n",
       "         8.24611739e-065,   8.31370969e-065,   8.38262346e-065,\n",
       "         8.45262435e-065,   8.52359997e-065,   8.59504042e-065,\n",
       "         8.66668290e-065,   8.73825585e-065,   8.80947887e-065,\n",
       "         8.88019833e-065,   8.95011972e-065,   9.01907771e-065,\n",
       "         9.08690299e-065,   9.15342244e-065,   9.21874068e-065,\n",
       "         9.28254184e-065,   9.34493068e-065,   9.40572935e-065,\n",
       "         9.46504586e-065,   9.52299257e-065,   9.57939365e-065,\n",
       "         9.63465852e-065,   9.68846806e-065,   9.74109163e-065,\n",
       "         9.79250670e-065,   9.84299153e-065,   9.89252898e-065,\n",
       "         9.94125384e-065,   9.98945653e-065,   1.00368208e-064,\n",
       "         1.00839481e-064,   1.01306783e-064,   1.01771592e-064])"
      ]
     },
     "execution_count": 20,
     "metadata": {},
     "output_type": "execute_result"
    }
   ],
   "source": [
    "dhmm_r = hmms.DtHMM.random(2,3) \n",
    "out = dhmm_r.baum_welch_graph( data, 50 )\n",
    "\n",
    "np.exp(out)"
   ]
  },
  {
   "cell_type": "markdown",
   "metadata": {
    "deletable": true,
    "editable": true
   },
   "source": [
    "Let's plot it in the graph, comparing the results in ratio with *real* data-generator model. ( Notice, it is the ratio of logaritmic probability values. )"
   ]
  },
  {
   "cell_type": "code",
   "execution_count": 21,
   "metadata": {
    "collapsed": false,
    "deletable": true,
    "editable": true
   },
   "outputs": [
    {
     "data": {
      "image/png": "[encoded data removed]",
      "text/plain": [
       "<matplotlib.figure.Figure at 0x7f8975373828>"
      ]
     },
     "metadata": {},
     "output_type": "display_data"
    }
   ],
   "source": [
    "real = dhmm.data_estimate(data)\n",
    "#For better visibility of the graph, we cut first two values.\n",
    "plt.plot( out[2:] / real  )\n",
    "plt.show()"
   ]
  },
  {
   "cell_type": "markdown",
   "metadata": {
    "deletable": true,
    "editable": true
   },
   "source": [
    "<a id='cthmm'></a>\n",
    "Part 2: Continuous Time Hidden Markov Model\n",
    "-----------------------------------------------------"
   ]
  },
  {
   "cell_type": "code",
   "execution_count": 1,
   "metadata": {
    "collapsed": true,
    "deletable": true,
    "editable": true
   },
   "outputs": [],
   "source": [
    "import numpy as np\n",
    "import matplotlib.pyplot as plt\n",
    "import hmms\n",
    "\n",
    "%matplotlib inline"
   ]
  },
  {
   "cell_type": "markdown",
   "metadata": {
    "deletable": true,
    "editable": true
   },
   "source": [
    "### Construct CtHMM \n",
    "Construction of CtHMM is similar to the discrete model. \n",
    "\n",
    "You can directly initialize the CtHMM by passing the **model parameters**.  \n",
    "We will create simple CtHMM of three hidden states and three output variables."
   ]
  },
  {
   "cell_type": "code",
   "execution_count": 2,
   "metadata": {
    "collapsed": false,
    "deletable": true,
    "editable": true
   },
   "outputs": [],
   "source": [
    "# Q is the matrix of transition rates from state [row] to state [column].\n",
    "Q = np.array( [[-0.375,0.125,0.25],[0.25,-0.5,0.25],[0.25,0.125,-0.375]] )\n",
    "# B is the matrix of probabilities that the state [row] will emmit output variable [column].\n",
    "B = np.array( [[0.8,0.05,0.15],[0.05,0.9,0.05],[0.2,0.05,0.75]] )\n",
    "# Pi is the vector of initial state probabilities.   \n",
    "Pi = np.array( [0.6,0,0.4] )\n",
    "\n",
    "# Create CtHMM by given parameters.\n",
    "chmm = hmms.CtHMM(Q,B,Pi)"
   ]
  },
  {
   "cell_type": "markdown",
   "metadata": {
    "deletable": true,
    "editable": true
   },
   "source": [
    "Or you can initialize it by **random parameters**. Passing the number of hidden states and output variables. "
   ]
  },
  {
   "cell_type": "code",
   "execution_count": 3,
   "metadata": {
    "collapsed": true,
    "deletable": true,
    "editable": true
   },
   "outputs": [],
   "source": [
    "chmm_random = hmms.CtHMM.random(3,3)"
   ]
  },
  {
   "cell_type": "markdown",
   "metadata": {
    "deletable": true,
    "editable": true
   },
   "source": [
    "### Save & Read from File\n",
    "\n",
    "Once you have created the model you can save its parameters in file simply by calling save_params method."
   ]
  },
  {
   "cell_type": "code",
   "execution_count": 4,
   "metadata": {
    "collapsed": false,
    "deletable": true,
    "editable": true
   },
   "outputs": [],
   "source": [
    "chmm.save_params(\"Models/hello_cthmm\") "
   ]
  },
  {
   "cell_type": "markdown",
   "metadata": {
    "deletable": true,
    "editable": true
   },
   "source": [
    "The method stored the parameters in .npz format.\n",
    "The saved file can be later used to read parametrs for model initialization."
   ]
  },
  {
   "cell_type": "code",
   "execution_count": 5,
   "metadata": {
    "collapsed": false,
    "deletable": true,
    "editable": true
   },
   "outputs": [],
   "source": [
    "chmm_from_file = hmms.CtHMM.from_file( \"Models/hello_cthmm.npz\" )"
   ]
  },
  {
   "cell_type": "markdown",
   "metadata": {
    "deletable": true,
    "editable": true
   },
   "source": [
    "### Set & Get Parameters\n",
    "Later you can always set parameters with triple of methods corresponding to the constructors."
   ]
  },
  {
   "cell_type": "code",
   "execution_count": 6,
   "metadata": {
    "collapsed": false,
    "deletable": true,
    "editable": true
   },
   "outputs": [],
   "source": [
    "chmm.set_params(Q,B,Pi)\n",
    "chmm.set_params_random(3,3)\n",
    "chmm.set_params_from_file( \"Models/hello_cthmm.npz\" )"
   ]
  },
  {
   "cell_type": "markdown",
   "metadata": {
    "deletable": true,
    "editable": true
   },
   "source": [
    "You can **get** parameters by calling them separately,"
   ]
  },
  {
   "cell_type": "code",
   "execution_count": 7,
   "metadata": {
    "collapsed": false,
    "deletable": true,
    "editable": true
   },
   "outputs": [
    {
     "data": {
      "text/plain": [
       "(array([[-0.375,  0.125,  0.25 ],\n",
       "        [ 0.25 , -0.5  ,  0.25 ],\n",
       "        [ 0.25 ,  0.125, -0.375]]), array([[ 0.8 ,  0.05,  0.15],\n",
       "        [ 0.05,  0.9 ,  0.05],\n",
       "        [ 0.2 ,  0.05,  0.75]]), array([ 0.6,  0. ,  0.4]))"
      ]
     },
     "execution_count": 7,
     "metadata": {},
     "output_type": "execute_result"
    }
   ],
   "source": [
    "chmm.q, chmm.b, chmm.pi"
   ]
  },
  {
   "cell_type": "markdown",
   "metadata": {
    "deletable": true,
    "editable": true
   },
   "source": [
    "or get them all together as the triple."
   ]
  },
  {
   "cell_type": "code",
   "execution_count": 8,
   "metadata": {
    "collapsed": false,
    "deletable": true,
    "editable": true
   },
   "outputs": [],
   "source": [
    "(A,B,Pi) = chmm.params"
   ]
  },
  {
   "cell_type": "markdown",
   "metadata": {
    "deletable": true,
    "editable": true
   },
   "source": [
    "### Generate Random Sequence\n",
    "Now we can use our model to **generate** time, state and emission sequence.\n",
    "The model will **randomly** choose which transition or emission will happen, taking into consideration the parameters we have previously defined.\n",
    "\n",
    "The times are generated with **exponencial** waiting times, you can define the parameter of exponencial distribution as second optional parameter. \n"
   ]
  },
  {
   "cell_type": "code",
   "execution_count": 9,
   "metadata": {
    "collapsed": false,
    "deletable": true,
    "editable": true
   },
   "outputs": [
    {
     "data": {
      "image/png": "[encoded data removed]",
      "text/plain": [
       "<matplotlib.figure.Figure at 0x7f25ec063b00>"
      ]
     },
     "metadata": {},
     "output_type": "display_data"
    }
   ],
   "source": [
    "seq_len = 10\n",
    "t_seq, s_seq, e_seq = chmm.generate( seq_len, 0.5)\n",
    "\n",
    "#resize plot\n",
    "plt.rcParams['figure.figsize'] = [20,20]\n",
    "\n",
    "hmms.plot_hmm( s_seq, e_seq, time=t_seq )"
   ]
  },
  {
   "cell_type": "markdown",
   "metadata": {
    "deletable": true,
    "editable": true
   },
   "source": [
    "### Find Most Likely State Sequence\n",
    "If we have corresponding time and emission sequence, we can find the most probable state sequence that would generate it given the current model parameters. Notice, that it can be different, than the actual sequence that has generated the emissions.  \n",
    "We will use Viterbi algorithm for the calculation."
   ]
  },
  {
   "cell_type": "code",
   "execution_count": 10,
   "metadata": {
    "collapsed": false,
    "deletable": true,
    "editable": true
   },
   "outputs": [
    {
     "data": {
      "image/png": "[encoded data removed]",
      "text/plain": [
       "<matplotlib.figure.Figure at 0x7f25db5f9e10>"
      ]
     },
     "metadata": {},
     "output_type": "display_data"
    },
    {
     "name": "stdout",
     "output_type": "stream",
     "text": [
      "Probability of being generated by the found state sequence: 2.2737144944e-06\n"
     ]
    }
   ],
   "source": [
    "( log_prob, s_seq ) =  chmm.viterbi( t_seq, e_seq )\n",
    "# Let's print the most likely state sequence, it can be same or differ from the sequence above.\n",
    "hmms.plot_hmm( s_seq, e_seq, time = t_seq )\n",
    "print( \"Probability of being generated by the found state sequence:\", np.exp( log_prob ) )"
   ]
  },
  {
   "cell_type": "markdown",
   "metadata": {
    "deletable": true,
    "editable": true
   },
   "source": [
    "### Generate Artificial  Dataset\n",
    "You can easily generate many sequences in once by using the *generate_data* function.  \n",
    "The generated data are in the form that is suitable for training of parameters. \n",
    "You can switch *states=True*, if you want to generate also the corresponding state sequences.\n",
    "\n",
    "TODO: The times are generated with **exponencial** waiting times, you can define the parameter of exponencial distribution as second optional parameter. "
   ]
  },
  {
   "cell_type": "code",
   "execution_count": 11,
   "metadata": {
    "collapsed": false,
    "deletable": true,
    "editable": true
   },
   "outputs": [
    {
     "data": {
      "text/plain": [
       "(array([[ 0,  5,  6,  7,  8,  9, 10, 12, 13, 16, 19, 21, 24, 25, 26, 27, 36,\n",
       "         39, 43, 45, 46, 51, 55, 60, 64, 69, 73, 74, 75, 81],\n",
       "        [ 0,  1,  2,  3,  8,  9, 14, 15, 19, 21, 22, 23, 24, 25, 26, 30, 32,\n",
       "         33, 40, 41, 42, 43, 47, 48, 52, 54, 56, 58, 62, 67],\n",
       "        [ 0,  8, 10, 11, 14, 19, 20, 21, 25, 26, 30, 31, 35, 41, 45, 54, 55,\n",
       "         56, 60, 63, 65, 66, 68, 71, 72, 73, 76, 81, 88, 91],\n",
       "        [ 0,  2, 10, 11, 12, 13, 16, 20, 30, 31, 32, 33, 34, 44, 45, 52, 54,\n",
       "         55, 56, 60, 62, 64, 77, 79, 83, 86, 87, 89, 90, 91],\n",
       "        [ 0,  2,  3,  4,  5,  6, 11, 13, 15, 16, 18, 19, 21, 22, 28, 32, 34,\n",
       "         35, 36, 39, 42, 43, 46, 48, 49, 52, 61, 63, 65, 67]]),\n",
       " array([[2, 0, 0, 2, 2, 0, 0, 0, 0, 2, 2, 2, 0, 0, 0, 2, 0, 1, 2, 2, 2, 2,\n",
       "         1, 0, 2, 2, 0, 0, 1, 0],\n",
       "        [2, 2, 2, 0, 0, 0, 0, 0, 2, 2, 2, 0, 1, 2, 2, 0, 2, 0, 2, 0, 0, 0,\n",
       "         2, 2, 0, 1, 0, 0, 0, 1],\n",
       "        [2, 2, 2, 2, 2, 0, 0, 0, 2, 2, 0, 2, 0, 2, 1, 2, 0, 0, 0, 0, 2, 1,\n",
       "         0, 0, 0, 2, 1, 2, 2, 2],\n",
       "        [0, 0, 2, 0, 2, 2, 0, 2, 2, 2, 2, 2, 2, 2, 2, 0, 2, 0, 0, 1, 0, 2,\n",
       "         2, 2, 2, 2, 2, 2, 0, 0],\n",
       "        [0, 2, 0, 2, 2, 0, 2, 2, 0, 0, 1, 2, 2, 1, 0, 0, 0, 0, 2, 1, 0, 1,\n",
       "         1, 0, 0, 2, 1, 0, 2, 0]]))"
      ]
     },
     "execution_count": 11,
     "metadata": {},
     "output_type": "execute_result"
    }
   ],
   "source": [
    "seq_num= 5   #number of data sequences\n",
    "seq_len= 30  #length of each sequence\n",
    "\n",
    "t,e = chmm.generate_data( (seq_num,seq_len) )\n",
    "t,e"
   ]
  },
  {
   "cell_type": "markdown",
   "metadata": {
    "collapsed": true,
    "deletable": true,
    "editable": true
   },
   "source": [
    "### Parameters Estimation - Continuous Version of Baum Welch Algorithm\n",
    "\n",
    "We will use the previously generated data for the training of randomly generated model."
   ]
  },
  {
   "cell_type": "code",
   "execution_count": 12,
   "metadata": {
    "collapsed": false,
    "deletable": true,
    "editable": true
   },
   "outputs": [
    {
     "name": "stdout",
     "output_type": "stream",
     "text": [
      "Initial probabilities (π) :\n"
     ]
    },
    {
     "data": {
      "text/html": [
       "<div>\n",
       "<table border=\"1\" class=\"dataframe\">\n",
       "  <thead>\n",
       "    <tr style=\"text-align: right;\">\n",
       "      <th></th>\n",
       "      <th>0</th>\n",
       "    </tr>\n",
       "  </thead>\n",
       "  <tbody>\n",
       "    <tr>\n",
       "      <th>0</th>\n",
       "      <td>0.369163</td>\n",
       "    </tr>\n",
       "    <tr>\n",
       "      <th>1</th>\n",
       "      <td>0.063556</td>\n",
       "    </tr>\n",
       "    <tr>\n",
       "      <th>2</th>\n",
       "      <td>0.567280</td>\n",
       "    </tr>\n",
       "  </tbody>\n",
       "</table>\n",
       "</div>"
      ],
      "text/plain": [
       "          0\n",
       "0  0.369163\n",
       "1  0.063556\n",
       "2  0.567280"
      ]
     },
     "metadata": {},
     "output_type": "display_data"
    },
    {
     "name": "stdout",
     "output_type": "stream",
     "text": [
      "Transition rate matrix (Q):\n"
     ]
    },
    {
     "data": {
      "text/html": [
       "<div>\n",
       "<table border=\"1\" class=\"dataframe\">\n",
       "  <thead>\n",
       "    <tr style=\"text-align: right;\">\n",
       "      <th></th>\n",
       "      <th>0</th>\n",
       "      <th>1</th>\n",
       "      <th>2</th>\n",
       "    </tr>\n",
       "  </thead>\n",
       "  <tbody>\n",
       "    <tr>\n",
       "      <th>0</th>\n",
       "      <td>-1.000000</td>\n",
       "      <td>0.513856</td>\n",
       "      <td>0.486144</td>\n",
       "    </tr>\n",
       "    <tr>\n",
       "      <th>1</th>\n",
       "      <td>0.970245</td>\n",
       "      <td>-1.000000</td>\n",
       "      <td>0.029755</td>\n",
       "    </tr>\n",
       "    <tr>\n",
       "      <th>2</th>\n",
       "      <td>0.524612</td>\n",
       "      <td>0.475388</td>\n",
       "      <td>-1.000000</td>\n",
       "    </tr>\n",
       "  </tbody>\n",
       "</table>\n",
       "</div>"
      ],
      "text/plain": [
       "          0         1         2\n",
       "0 -1.000000  0.513856  0.486144\n",
       "1  0.970245 -1.000000  0.029755\n",
       "2  0.524612  0.475388 -1.000000"
      ]
     },
     "metadata": {},
     "output_type": "display_data"
    },
    {
     "name": "stdout",
     "output_type": "stream",
     "text": [
      "Transition probabilities for one time unit :\n"
     ]
    },
    {
     "data": {
      "text/html": [
       "<div>\n",
       "<table border=\"1\" class=\"dataframe\">\n",
       "  <thead>\n",
       "    <tr style=\"text-align: right;\">\n",
       "      <th></th>\n",
       "      <th>0</th>\n",
       "      <th>1</th>\n",
       "      <th>2</th>\n",
       "    </tr>\n",
       "  </thead>\n",
       "  <tbody>\n",
       "    <tr>\n",
       "      <th>0</th>\n",
       "      <td>0.530978</td>\n",
       "      <td>0.261569</td>\n",
       "      <td>0.207453</td>\n",
       "    </tr>\n",
       "    <tr>\n",
       "      <th>1</th>\n",
       "      <td>0.411101</td>\n",
       "      <td>0.483582</td>\n",
       "      <td>0.105317</td>\n",
       "    </tr>\n",
       "    <tr>\n",
       "      <th>2</th>\n",
       "      <td>0.311373</td>\n",
       "      <td>0.252961</td>\n",
       "      <td>0.435667</td>\n",
       "    </tr>\n",
       "  </tbody>\n",
       "</table>\n",
       "</div>"
      ],
      "text/plain": [
       "          0         1         2\n",
       "0  0.530978  0.261569  0.207453\n",
       "1  0.411101  0.483582  0.105317\n",
       "2  0.311373  0.252961  0.435667"
      ]
     },
     "metadata": {},
     "output_type": "display_data"
    },
    {
     "name": "stdout",
     "output_type": "stream",
     "text": [
      "Emission probabilities matrix (B):\n"
     ]
    },
    {
     "data": {
      "text/html": [
       "<div>\n",
       "<table border=\"1\" class=\"dataframe\">\n",
       "  <thead>\n",
       "    <tr style=\"text-align: right;\">\n",
       "      <th></th>\n",
       "      <th>0</th>\n",
       "      <th>1</th>\n",
       "      <th>2</th>\n",
       "    </tr>\n",
       "  </thead>\n",
       "  <tbody>\n",
       "    <tr>\n",
       "      <th>0</th>\n",
       "      <td>0.145419</td>\n",
       "      <td>0.429304</td>\n",
       "      <td>0.425277</td>\n",
       "    </tr>\n",
       "    <tr>\n",
       "      <th>1</th>\n",
       "      <td>0.339647</td>\n",
       "      <td>0.240212</td>\n",
       "      <td>0.420141</td>\n",
       "    </tr>\n",
       "    <tr>\n",
       "      <th>2</th>\n",
       "      <td>0.191238</td>\n",
       "      <td>0.394277</td>\n",
       "      <td>0.414484</td>\n",
       "    </tr>\n",
       "  </tbody>\n",
       "</table>\n",
       "</div>"
      ],
      "text/plain": [
       "          0         1         2\n",
       "0  0.145419  0.429304  0.425277\n",
       "1  0.339647  0.240212  0.420141\n",
       "2  0.191238  0.394277  0.414484"
      ]
     },
     "metadata": {},
     "output_type": "display_data"
    }
   ],
   "source": [
    "chmm_r = hmms.CtHMM.random( 3,3 )\n",
    "# We can print all the parameters.\n",
    "hmms.print_parameters( chmm_r )"
   ]
  },
  {
   "cell_type": "markdown",
   "metadata": {
    "deletable": true,
    "editable": true
   },
   "source": [
    "Now we can compare the probabilities, that the data was generated by the given model. Its ratio is most probably not so big as in the disrete model. It is because the intervals between the observations are the source of many unknown, so it is pushing the probability of real model down. "
   ]
  },
  {
   "cell_type": "code",
   "execution_count": 13,
   "metadata": {
    "collapsed": false,
    "deletable": true,
    "editable": true
   },
   "outputs": [
    {
     "name": "stdout",
     "output_type": "stream",
     "text": [
      "sm -28.621717086476444\n",
      "sm -57.487330977920145\n",
      "sm -86.74381982540619\n",
      "sm -113.15025167756411\n",
      "sm -145.7209352241149\n",
      "Generator model: 5.17847560133e-64\n",
      "sm -35.31813557713478\n",
      "sm -71.35389872674776\n",
      "sm -105.42619439073701\n",
      "sm -138.1307899211409\n",
      "sm -174.21821567625565\n",
      "Random model:    2.17766105723e-76\n"
     ]
    }
   ],
   "source": [
    "print( \"Generator model:\" , np.exp( chmm.data_estimate(t,e)   ) )\n",
    "print( \"Random model:   \" ,np.exp( chmm_r.data_estimate(t,e) ) )"
   ]
  },
  {
   "cell_type": "markdown",
   "metadata": {
    "deletable": true,
    "editable": true
   },
   "source": [
    "Let's run the EM algorithm for couple of iterations."
   ]
  },
  {
   "cell_type": "code",
   "execution_count": 14,
   "metadata": {
    "collapsed": false,
    "deletable": true,
    "editable": true
   },
   "outputs": [
    {
     "name": "stdout",
     "output_type": "stream",
     "text": [
      "gr -35.31813557713478\n",
      "gr -71.35389872674776\n",
      "gr -105.42619439073701\n",
      "gr -138.1307899211409\n",
      "gr -174.21821567625565\n",
      "should equal\n",
      "-174.21821567625565\n",
      "sm -35.31813557713478\n",
      "sm -71.35389872674776\n",
      "sm -105.42619439073701\n",
      "sm -138.1307899211409\n",
      "sm -174.21821567625565\n",
      "-174.21821567625565\n",
      "gr -28.462808115475998\n",
      "gr -57.01897080154519\n",
      "gr -85.28383989653383\n",
      "gr -110.66269848376027\n",
      "gr -143.65406266732603\n",
      "should equal\n",
      "-143.65406266732603\n",
      "sm -28.462808115475998\n",
      "sm -57.01897080154519\n",
      "sm -85.28383989653383\n",
      "sm -110.66269848376027\n",
      "sm -143.65406266732603\n",
      "-143.65406266732603\n",
      "gr -28.392305220533903\n",
      "gr -56.828570238833834\n",
      "gr -85.10838455604849\n",
      "gr -110.56072115576383\n",
      "gr -143.56062129809186\n",
      "should equal\n",
      "-143.56062129809186\n",
      "sm -28.392305220533903\n",
      "sm -56.828570238833834\n",
      "sm -85.10838455604849\n",
      "sm -110.56072115576383\n",
      "sm -143.56062129809186\n",
      "-143.56062129809186\n",
      "gr -28.36914923358397\n",
      "gr -56.77477761707851\n",
      "gr -85.04079200639084\n",
      "gr -110.50380547282148\n",
      "gr -143.50517674949523\n",
      "should equal\n",
      "-143.50517674949523\n",
      "sm -28.36914923358397\n",
      "sm -56.77477761707851\n",
      "sm -85.04079200639084\n",
      "sm -110.50380547282148\n",
      "sm -143.50517674949523\n",
      "-143.50517674949523\n",
      "gr -28.345684228373187\n",
      "gr -56.72187066831826\n",
      "gr -84.97160514773697\n",
      "gr -110.44234852225809\n",
      "gr -143.44553518213397\n",
      "should equal\n",
      "-143.44553518213397\n",
      "sm -28.345684228373187\n",
      "sm -56.72187066831826\n",
      "sm -84.97160514773697\n",
      "sm -110.44234852225809\n",
      "sm -143.44553518213397\n",
      "-143.44553518213397\n",
      "gr -28.320001152043858\n",
      "gr -56.66428306254596\n",
      "gr -84.89642605434292\n",
      "gr -110.37521062747813\n",
      "gr -143.38091427070796\n",
      "should equal\n",
      "-143.38091427070796\n",
      "sm -28.320001152043858\n",
      "sm -56.66428306254596\n",
      "sm -84.89642605434292\n",
      "sm -110.37521062747813\n",
      "sm -143.38091427070796\n",
      "-143.38091427070796\n",
      "gr -28.29175019966652\n",
      "gr -56.601155729513316\n",
      "gr -84.81425032489473\n",
      "gr -110.30177518816589\n",
      "gr -143.31077258228297\n",
      "should equal\n",
      "-143.31077258228297\n",
      "sm -28.29175019966652\n",
      "sm -56.601155729513316\n",
      "sm -84.81425032489473\n",
      "sm -110.30177518816589\n",
      "sm -143.31077258228297\n",
      "-143.31077258228297\n",
      "gr -28.26074607961117\n",
      "gr -56.53205639310691\n",
      "gr -84.72451828532537\n",
      "gr -110.22170629638724\n",
      "gr -143.23485625043122\n",
      "should equal\n",
      "-143.23485625043122\n",
      "sm -28.26074607961117\n",
      "sm -56.53205639310691\n",
      "sm -84.72451828532537\n",
      "sm -110.22170629638724\n",
      "sm -143.23485625043122\n",
      "-143.23485625043122\n",
      "gr -28.226940421077373\n",
      "gr -56.45686890698498\n",
      "gr -84.627083039716\n",
      "gr -110.13501382707557\n",
      "gr -143.1532536813557\n",
      "should equal\n",
      "-143.1532536813557\n",
      "sm -28.226940421077373\n",
      "sm -56.45686890698498\n",
      "sm -84.627083039716\n",
      "sm -110.13501382707557\n",
      "sm -143.1532536813557\n",
      "-143.1532536813557\n",
      "gr -28.19044730482674\n",
      "gr -56.375849725196716\n",
      "gr -84.52228773908256\n",
      "gr -110.04210084778414\n",
      "gr -143.06642492428293\n",
      "should equal\n",
      "-143.06642492428293\n",
      "sm -28.19044730482674\n",
      "sm -56.375849725196716\n",
      "sm -84.52228773908256\n",
      "sm -110.04210084778414\n",
      "sm -143.06642492428293\n",
      "-143.06642492428293\n",
      "gr -28.151559101469616\n",
      "gr -56.28966448837916\n",
      "gr -84.41101116358479\n",
      "gr -109.9437700083617\n",
      "gr -142.9751869974827\n",
      "should equal\n",
      "-142.9751869974827\n",
      "sm -28.151559101469616\n",
      "sm -56.28966448837916\n",
      "sm -84.41101116358479\n",
      "sm -109.9437700083617\n",
      "sm -142.9751869974827\n",
      "-142.9751869974827\n",
      "gr -28.11074197641701\n",
      "gr -56.19937826535916\n",
      "gr -84.2946517899269\n",
      "gr -109.84117208188624\n",
      "gr -142.8806406577056\n",
      "should equal\n",
      "-142.8806406577056\n",
      "sm -28.11074197641701\n",
      "sm -56.19937826535916\n",
      "sm -84.2946517899269\n",
      "sm -109.84117208188624\n",
      "sm -142.8806406577056\n",
      "-142.8806406577056\n",
      "gr -28.068606383140658\n",
      "gr -56.106388631065535\n",
      "gr -84.17503691711079\n",
      "gr -109.73569281205214\n",
      "gr -142.78403909571142\n",
      "should equal\n",
      "-142.78403909571142\n",
      "sm -28.068606383140658\n",
      "sm -56.106388631065535\n",
      "sm -84.17503691711079\n",
      "sm -109.73569281205214\n",
      "sm -142.78403909571142\n",
      "-142.78403909571142\n",
      "gr -28.02585438742846\n",
      "gr -56.01230583969313\n",
      "gr -84.05426338380119\n",
      "gr -109.628792955253\n",
      "gr -142.6866186757432\n",
      "should equal\n",
      "-142.6866186757432\n",
      "sm -28.02585438742846\n",
      "sm -56.01230583969313\n",
      "sm -84.05426338380119\n",
      "sm -109.628792955253\n",
      "sm -142.6866186757432\n",
      "-142.6866186757432\n",
      "gr -27.983212575277072\n",
      "gr -55.918800100293076\n",
      "gr -83.93449715171889\n",
      "gr -109.52183306783108\n",
      "gr -142.58942761616157\n",
      "should equal\n",
      "-142.58942761616157\n",
      "sm -27.983212575277072\n",
      "sm -55.918800100293076\n",
      "sm -83.93449715171889\n",
      "sm -109.52183306783108\n",
      "sm -142.58942761616157\n",
      "-142.58942761616157\n",
      "gr -27.941363596986204\n",
      "gr -55.82744562639786\n",
      "gr -83.81777129613812\n",
      "gr -109.41592099972226\n",
      "gr -142.4931922279448\n",
      "should equal\n",
      "-142.4931922279448\n",
      "sm -27.941363596986204\n",
      "sm -55.82744562639786\n",
      "sm -83.81777129613812\n",
      "sm -109.41592099972226\n",
      "sm -142.4931922279448\n",
      "-142.4931922279448\n",
      "gr -27.900889060761894\n",
      "gr -55.73959022537648\n",
      "gr -83.70581991189015\n",
      "gr -109.31181290665097\n",
      "gr -142.3982496678487\n",
      "should equal\n",
      "-142.3982496678487\n",
      "sm -27.900889060761894\n",
      "sm -55.73959022537648\n",
      "sm -83.70581991189015\n",
      "sm -109.31181290665097\n",
      "sm -142.3982496678487\n",
      "-142.3982496678487\n",
      "gr -27.8622318825377\n",
      "gr -55.65626871579771\n",
      "gr -83.59997077392524\n",
      "gr -109.20988178310827\n",
      "gr -142.30455655524025\n",
      "should equal\n",
      "-142.30455655524025\n",
      "sm -27.8622318825377\n",
      "sm -55.65626871579771\n",
      "sm -83.59997077392524\n",
      "sm -109.20988178310827\n",
      "sm -142.30455655524025\n",
      "-142.30455655524025\n",
      "gr -27.82567975251543\n",
      "gr -55.57816396539927\n",
      "gr -83.50109999588366\n",
      "gr -109.11014926164077\n",
      "gr -142.21176356515772\n",
      "should equal\n",
      "-142.21176356515772\n",
      "sm -27.82567975251543\n",
      "sm -55.57816396539927\n",
      "sm -83.50109999588366\n",
      "sm -109.11014926164077\n",
      "sm -142.21176356515772\n",
      "-142.21176356515772\n",
      "gr -27.791365944101344\n",
      "gr -55.50560719336832\n",
      "gr -83.40963599570303\n",
      "gr -109.01236377432929\n",
      "gr -142.11933427318405\n",
      "should equal\n",
      "-142.11933427318405\n",
      "sm -27.791365944101344\n",
      "sm -55.50560719336832\n",
      "sm -83.40963599570303\n",
      "sm -109.01236377432929\n",
      "sm -142.11933427318405\n",
      "-142.11933427318405\n",
      "gr -27.75928105003877\n",
      "gr -55.438603266185766\n",
      "gr -83.32559286015245\n",
      "gr -108.91610351945819\n",
      "gr -142.02668339717314\n",
      "should equal\n",
      "-142.02668339717314\n",
      "sm -27.75928105003877\n",
      "sm -55.438603266185766\n",
      "sm -83.32559286015245\n",
      "sm -108.91610351945819\n",
      "sm -142.02668339717314\n",
      "-142.02668339717314\n",
      "gr -27.72928967951699\n",
      "gr -55.37686761668388\n",
      "gr -83.2486152469787\n",
      "gr -108.82088417586013\n",
      "gr -141.93331189236295\n",
      "should equal\n",
      "-141.93331189236295\n",
      "sm -27.72928967951699\n",
      "sm -55.37686761668388\n",
      "sm -83.2486152469787\n",
      "sm -108.82088417586013\n",
      "sm -141.93331189236295\n",
      "-141.93331189236295\n",
      "gr -27.70114892377844\n",
      "gr -55.31986742414223\n",
      "gr -83.17802581266301\n",
      "gr -108.72625570527237\n",
      "gr -141.83892000914602\n",
      "should equal\n",
      "-141.83892000914602\n",
      "sm -27.70114892377844\n",
      "sm -55.31986742414223\n",
      "sm -83.17802581266301\n",
      "sm -108.72625570527237\n",
      "sm -141.83892000914602\n",
      "-141.83892000914602\n",
      "gr -27.67452916709536\n",
      "gr -55.26686793197125\n",
      "gr -83.1128778591313\n",
      "gr -108.6318777559951\n",
      "gr -141.74348275121565\n",
      "should equal\n",
      "-141.74348275121565\n",
      "sm -27.67452916709536\n",
      "sm -55.26686793197125\n",
      "sm -83.1128778591313\n",
      "sm -108.6318777559951\n",
      "sm -141.74348275121565\n",
      "-141.74348275121565\n",
      "gr -27.649040862689667\n",
      "gr -55.216991544666485\n",
      "gr -83.05202540062223\n",
      "gr -108.5375687260188\n",
      "gr -141.64727674207114\n",
      "should equal\n",
      "-141.64727674207114\n",
      "sm -27.649040862689667\n",
      "sm -55.216991544666485\n",
      "sm -83.05202540062223\n",
      "sm -108.5375687260188\n",
      "sm -141.64727674207114\n",
      "-141.64727674207114\n",
      "gr -27.624271272737722\n",
      "gr -55.16929842612843\n",
      "gr -82.9942243467252\n",
      "gr -108.44332937662915\n",
      "gr -141.55085587713924\n",
      "should equal\n",
      "-141.55085587713924\n",
      "sm -27.624271272737722\n",
      "sm -55.16929842612843\n",
      "sm -82.9942243467252\n",
      "sm -108.44332937662915\n",
      "sm -141.55085587713924\n",
      "-141.55085587713924\n",
      "gr -27.599831587718036\n",
      "gr -55.122889789249186\n",
      "gr -82.9382678539644\n",
      "gr -108.34934646390865\n",
      "gr -141.45498497485906\n",
      "should equal\n",
      "-141.45498497485906\n",
      "sm -27.599831587718036\n",
      "sm -55.122889789249186\n",
      "sm -82.9382678539644\n",
      "sm -108.34934646390865\n",
      "sm -141.45498497485906\n",
      "-141.45498497485906\n",
      "gr -27.575408142745935\n",
      "gr -55.077020594655856\n",
      "gr -82.88313835641884\n",
      "gr -108.25598253001668\n",
      "gr -141.36055091614438\n",
      "should equal\n",
      "-141.36055091614438\n",
      "sm -27.575408142745935\n",
      "sm -55.077020594655856\n",
      "sm -82.88313835641884\n",
      "sm -108.25598253001668\n",
      "sm -141.36055091614438\n",
      "-141.36055091614438\n",
      "gr -27.55080536843048\n",
      "gr -55.03119496789503\n",
      "gr -82.82813948385355\n",
      "gr -108.16375418396206\n",
      "gr -141.26847322277317\n",
      "should equal\n",
      "-141.26847322277317\n",
      "sm -27.55080536843048\n",
      "sm -55.03119496789503\n",
      "sm -82.82813948385355\n",
      "sm -108.16375418396206\n",
      "sm -141.26847322277317\n",
      "-141.26847322277317\n",
      "gr -27.525967380170705\n",
      "gr -54.98521567962249\n",
      "gr -82.77296762030574\n",
      "gr -108.07329671887035\n",
      "gr -141.1796294375044\n",
      "should equal\n",
      "-141.1796294375044\n",
      "sm -27.525967380170705\n",
      "sm -54.98521567962249\n",
      "sm -82.77296762030574\n",
      "sm -108.07329671887035\n",
      "sm -141.1796294375044\n",
      "-141.1796294375044\n",
      "gr -27.50097153048609\n",
      "gr -54.93917271231594\n",
      "gr -82.71770132895226\n",
      "gr -107.98531312823751\n",
      "gr -141.09480053355733\n",
      "should equal\n",
      "-141.09480053355733\n",
      "sm -27.50097153048609\n",
      "sm -54.93917271231594\n",
      "sm -82.71770132895226\n",
      "sm -107.98531312823751\n",
      "sm -141.09480053355733\n",
      "-141.09480053355733\n",
      "gr -27.4759975021799\n",
      "gr -54.89337824665413\n",
      "gr -82.66271765461957\n",
      "gr -107.90051150909542\n",
      "gr -141.01463468162194\n",
      "should equal\n",
      "-141.01463468162194\n",
      "sm -27.4759975021799\n",
      "sm -54.89337824665413\n",
      "sm -82.66271765461957\n",
      "sm -107.90051150909542\n",
      "sm -141.01463468162194\n",
      "-141.01463468162194\n",
      "gr -27.451283521541214\n",
      "gr -54.84827307282865\n",
      "gr -82.6085689284728\n",
      "gr -107.8195415903931\n",
      "gr -140.93962609890835\n",
      "should equal\n",
      "-140.93962609890835\n",
      "sm -27.451283521541214\n",
      "sm -54.84827307282865\n",
      "sm -82.6085689284728\n",
      "sm -107.8195415903931\n",
      "sm -140.93962609890835\n",
      "-140.93962609890835\n",
      "gr -27.42708301232956\n",
      "gr -54.80433352134216\n",
      "gr -82.55585958972841\n",
      "gr -107.74294298959569\n",
      "gr -140.8701068125648\n",
      "should equal\n",
      "-140.8701068125648\n",
      "sm -27.42708301232956\n",
      "sm -54.80433352134216\n",
      "sm -82.55585958972841\n",
      "sm -107.74294298959569\n",
      "sm -140.8701068125648\n",
      "-140.8701068125648\n",
      "gr -27.40363107931224\n",
      "gr -54.76199958699726\n",
      "gr -82.5051511173049\n",
      "gr -107.67111361395413\n",
      "gr -140.8062499698443\n",
      "should equal\n",
      "-140.8062499698443\n",
      "sm -27.40363107931224\n",
      "sm -54.76199958699726\n",
      "sm -82.5051511173049\n",
      "sm -107.67111361395413\n",
      "sm -140.8062499698443\n",
      "-140.8062499698443\n",
      "gr -27.381124194519487\n",
      "gr -54.72163176571145\n",
      "gr -82.45690520098276\n",
      "gr -107.60429974157759\n",
      "gr -140.74808295548453\n",
      "should equal\n",
      "-140.74808295548453\n",
      "sm -27.381124194519487\n",
      "sm -54.72163176571145\n",
      "sm -82.45690520098276\n",
      "sm -107.60429974157759\n",
      "sm -140.74808295548453\n",
      "-140.74808295548453\n",
      "gr -27.359711722829733\n",
      "gr -54.68349365981647\n",
      "gr -82.41146105041327\n",
      "gr -107.54260378263736\n",
      "gr -140.695507740421\n",
      "should equal\n",
      "-140.695507740421\n",
      "sm -27.359711722829733\n",
      "sm -54.68349365981647\n",
      "sm -82.41146105041327\n",
      "sm -107.54260378263736\n",
      "sm -140.695507740421\n",
      "-140.695507740421\n",
      "gr -27.339495771527663\n",
      "gr -54.64775260040577\n",
      "gr -82.36903630524918\n",
      "gr -107.48600335150412\n",
      "gr -140.64832538695683\n",
      "should equal\n",
      "-140.64832538695683\n",
      "sm -27.339495771527663\n",
      "sm -54.64775260040577\n",
      "sm -82.36903630524918\n",
      "sm -107.48600335150412\n",
      "sm -140.64832538695683\n",
      "-140.64832538695683\n",
      "gr -27.32053578894168\n",
      "gr -54.61449037256392\n",
      "gr -82.32974092099533\n",
      "gr -107.43437558694737\n",
      "gr -140.6062617377419\n",
      "should equal\n",
      "-140.6062617377419\n",
      "sm -27.32053578894168\n",
      "sm -54.61449037256392\n",
      "sm -82.32974092099533\n",
      "sm -107.43437558694737\n",
      "sm -140.6062617377419\n",
      "-140.6062617377419\n",
      "gr -27.302855253374315\n",
      "gr -54.58371816529208\n",
      "gr -82.29359626267168\n",
      "gr -107.38752224869893\n",
      "gr -140.56899188034848\n",
      "should equal\n",
      "-140.56899188034848\n",
      "sm -27.302855253374315\n",
      "sm -54.58371816529208\n",
      "sm -82.29359626267168\n",
      "sm -107.38752224869893\n",
      "sm -140.56899188034848\n",
      "-140.56899188034848\n",
      "gr -27.286448822622674\n",
      "gr -54.555392178027944\n",
      "gr -82.26055479978521\n",
      "gr -107.34519286347842\n",
      "gr -140.5361617505639\n",
      "should equal\n",
      "-140.5361617505639\n",
      "sm -27.286448822622674\n",
      "sm -54.555392178027944\n",
      "sm -82.26055479978521\n",
      "sm -107.34519286347842\n",
      "sm -140.5361617505639\n",
      "-140.5361617505639\n",
      "gr -27.271289082513952\n",
      "gr -54.52942804695761\n",
      "gr -82.230518117734\n",
      "gr -107.30710456525071\n",
      "gr -140.50740600268128\n",
      "should equal\n",
      "-140.50740600268128\n",
      "sm -27.271289082513952\n",
      "sm -54.52942804695761\n",
      "sm -82.230518117734\n",
      "sm -107.30710456525071\n",
      "sm -140.50740600268128\n",
      "-140.50740600268128\n",
      "gr -27.257332502301274\n",
      "gr -54.50571330864885\n",
      "gr -82.20335233791167\n",
      "gr -107.27295818422962\n",
      "gr -140.48236190630158\n",
      "should equal\n",
      "-140.48236190630158\n",
      "sm -27.257332502301274\n",
      "sm -54.50571330864885\n",
      "sm -82.20335233791167\n",
      "sm -107.27295818422962\n",
      "sm -140.48236190630158\n",
      "-140.48236190630158\n",
      "gr -27.24452446237269\n",
      "gr -54.48411768706697\n",
      "gr -82.17890075369823\n",
      "gr -107.24245067892748\n",
      "gr -140.46067947580846\n",
      "should equal\n",
      "-140.46067947580846\n",
      "sm -27.24452446237269\n",
      "sm -54.48411768706697\n",
      "sm -82.17890075369823\n",
      "sm -107.24245067892748\n",
      "sm -140.46067947580846\n",
      "-140.46067947580846\n",
      "gr -27.232803354868548\n",
      "gr -54.46450127649207\n",
      "gr -82.15699383046693\n",
      "gr -107.2152842927949\n",
      "gr -140.44202830421352\n",
      "should equal\n",
      "-140.44202830421352\n",
      "sm -27.232803354868548\n",
      "sm -54.46450127649207\n",
      "sm -82.15699383046693\n",
      "sm -107.2152842927949\n",
      "sm -140.44202830421352\n",
      "-140.44202830421352\n",
      "gr -27.22210382724206\n",
      "gr -54.4467208296802\n",
      "gr -82.13745686797083\n",
      "gr -107.19117294249821\n",
      "gr -140.42610169062084\n",
      "should equal\n",
      "-140.42610169062084\n",
      "sm -27.22210382724206\n",
      "sm -54.4467208296802\n",
      "sm -82.13745686797083\n",
      "sm -107.19117294249821\n",
      "sm -140.42610169062084\n",
      "-140.42610169062084\n",
      "gr -27.212359272054613\n",
      "gr -54.43063441777389\n",
      "gr -82.12011567733398\n",
      "gr -107.1698463704276\n",
      "gr -140.4126186633947\n",
      "should equal\n",
      "-140.4126186633947\n",
      "sm -27.212359272054613\n",
      "sm -54.43063441777389\n",
      "sm -82.12011567733398\n",
      "sm -107.1698463704276\n",
      "sm -140.4126186633947\n",
      "-140.4126186633947\n",
      "gr -27.203503678137245\n",
      "gr -54.41610474085105\n",
      "gr -82.10480062757796\n",
      "gr -107.15105256123451\n",
      "gr -140.40132445000773\n",
      "should equal\n",
      "-140.40132445000773\n",
      "sm -27.203503678137245\n",
      "sm -54.41610474085105\n",
      "sm -82.10480062757796\n",
      "sm -107.15105256123451\n",
      "sm -140.40132445000773\n",
      "-140.40132445000773\n",
      "gr -27.195472956945878\n",
      "gr -54.403001354462056\n",
      "gr -82.0913493913797\n",
      "gr -107.13455885941474\n",
      "gr -140.39198986177814\n",
      "should equal\n",
      "-140.39198986177814\n",
      "sm -27.195472956945878\n",
      "sm -54.403001354462056\n",
      "sm -82.0913493913797\n",
      "sm -107.13455885941474\n",
      "sm -140.39198986177814\n",
      "-140.39198986177814\n",
      "gr -27.18820584889881\n",
      "gr -54.39120204974604\n",
      "gr -82.07960868028968\n",
      "gr -107.12015215102869\n",
      "gr -140.38440996960074\n",
      "should equal\n",
      "-140.38440996960074\n",
      "sm -27.18820584889881\n",
      "sm -54.39120204974604\n",
      "sm -82.07960868028968\n",
      "sm -107.12015215102869\n",
      "sm -140.38440996960074\n",
      "-140.38440996960074\n",
      "gr -27.181644501523248\n",
      "gr -54.38059359063483\n",
      "gr -82.06943521484969\n",
      "gr -107.1076383993571\n",
      "gr -140.37840235896505\n",
      "should equal\n",
      "-140.37840235896505\n",
      "sm -27.181644501523248\n",
      "sm -54.38059359063483\n",
      "sm -82.06943521484969\n",
      "sm -107.1076383993571\n",
      "sm -140.37840235896505\n",
      "-140.37840235896505\n",
      "gr -27.1757347969561\n",
      "gr -54.3710719764596\n",
      "gr -82.06069613060511\n",
      "gr -107.09684175808816\n",
      "gr -140.37380517597842\n",
      "should equal\n",
      "-140.37380517597842\n",
      "sm -27.1757347969561\n",
      "sm -54.3710719764596\n",
      "sm -82.06069613060511\n",
      "sm -107.09684175808816\n",
      "sm -140.37380517597842\n",
      "-140.37380517597842\n",
      "gr -27.170426492410854\n",
      "gr -54.36254236519371\n",
      "gr -82.05326898026682\n",
      "gr -107.08760342941105\n",
      "gr -140.3704751133431\n",
      "should equal\n",
      "-140.3704751133431\n",
      "sm -27.170426492410854\n",
      "sm -54.36254236519371\n",
      "sm -82.05326898026682\n",
      "sm -107.08760342941105\n",
      "sm -140.3704751133431\n",
      "-140.3704751133431\n",
      "gr -27.16567322456064\n",
      "gr -54.35491876327631\n",
      "gr -82.0470414568376\n",
      "gr -107.07978038868924\n",
      "gr -140.36828543609994\n",
      "should equal\n",
      "-140.36828543609994\n",
      "sm -27.16567322456064\n",
      "sm -54.35491876327631\n",
      "sm -82.0470414568376\n",
      "sm -107.07978038868924\n",
      "sm -140.36828543609994\n",
      "-140.36828543609994\n",
      "gr -27.161432417835773\n",
      "gr -54.3481235631531\n",
      "gr -82.0419109328954\n",
      "gr -107.07324406153573\n",
      "gr -140.36712411000215\n",
      "should equal\n",
      "-140.36712411000215\n",
      "sm -27.161432417835773\n",
      "sm -54.3481235631531\n",
      "sm -82.0419109328954\n",
      "sm -107.07324406153573\n",
      "sm -140.36712411000215\n",
      "-140.36712411000215\n",
      "gr -27.15766512746993\n",
      "gr -54.34208698930999\n",
      "gr -82.03778388715675\n",
      "gr -107.0678790117292\n",
      "gr -140.36689206850505\n",
      "should equal\n",
      "-140.36689206850505\n",
      "sm -27.15766512746993\n",
      "sm -54.34208698930999\n",
      "sm -82.03778388715675\n",
      "sm -107.0678790117292\n",
      "sm -140.36689206850505\n",
      "-140.36689206850505\n",
      "gr -27.154335840676094\n",
      "gr -54.33674649732823\n",
      "gr -82.0345752703865\n",
      "gr -107.06358167805283\n",
      "gr -140.36750163551713\n",
      "should equal\n",
      "-140.36750163551713\n",
      "sm -27.154335840676094\n",
      "sm -54.33674649732823\n",
      "sm -82.0345752703865\n",
      "sm -107.06358167805283\n",
      "sm -140.36750163551713\n",
      "-140.36750163551713\n",
      "gr -27.151412253384752\n",
      "gr -54.33204615778665\n",
      "gr -82.03220784790332\n",
      "gr -107.06025918331144\n",
      "gr -140.3688751083042\n",
      "should equal\n",
      "-140.3688751083042\n",
      "sm -27.151412253384752\n",
      "sm -54.33204615778665\n",
      "sm -82.03220784790332\n",
      "sm -107.06025918331144\n",
      "sm -140.3688751083042\n",
      "-140.3688751083042\n",
      "gr -27.148865035319982\n",
      "gr -54.327936047114406\n",
      "gr -82.03061154463664\n",
      "gr -107.0578282282645\n",
      "gr -140.37094349672338\n",
      "should equal\n",
      "-140.37094349672338\n",
      "sm -27.148865035319982\n",
      "sm -54.327936047114406\n",
      "sm -82.03061154463664\n",
      "sm -107.0578282282645\n",
      "sm -140.37094349672338\n",
      "-140.37094349672338\n",
      "gr -27.146667592587153\n",
      "gr -54.32437166017006\n",
      "gr -82.02972281019399\n",
      "gr -107.05621407590213\n",
      "gr -140.37364540996776\n",
      "should equal\n",
      "-140.37364540996776\n",
      "sm -27.146667592587153\n",
      "sm -54.32437166017006\n",
      "sm -82.02972281019399\n",
      "sm -107.05621407590213\n",
      "sm -140.37364540996776\n",
      "-140.37364540996776\n",
      "gr -27.14479583420568\n",
      "gr -54.32131335391573\n",
      "gr -82.02948401513295\n",
      "gr -107.05534962659277\n",
      "gr -140.37692607929836\n",
      "should equal\n",
      "-140.37692607929836\n",
      "sm -27.14479583420568\n",
      "sm -54.32131335391573\n",
      "sm -82.02948401513295\n",
      "sm -107.05534962659277\n",
      "sm -140.37692607929836\n",
      "-140.37692607929836\n",
      "gr -27.143227946950972\n",
      "gr -54.31872582761464\n",
      "gr -82.02984288505633\n",
      "gr -107.0551745814368\n",
      "gr -140.38073650403862\n",
      "should equal\n",
      "-140.38073650403862\n",
      "sm -27.143227946950972\n",
      "sm -54.31872582761464\n",
      "sm -82.02984288505633\n",
      "sm -107.0551745814368\n",
      "sm -140.38073650403862\n",
      "-140.38073650403862\n",
      "gr -27.14194418133491\n",
      "gr -54.31657764218395\n",
      "gr -82.03075197589426\n",
      "gr -107.0556346892242\n",
      "gr -140.38503270793487\n",
      "should equal\n",
      "-140.38503270793487\n",
      "sm -27.14194418133491\n",
      "sm -54.31657764218395\n",
      "sm -82.03075197589426\n",
      "sm -107.0556346892242\n",
      "sm -140.38503270793487\n",
      "-140.38503270793487\n",
      "gr -27.14092665042329\n",
      "gr -54.314840779381925\n",
      "gr -82.03216819144674\n",
      "gr -107.05668107129759\n",
      "gr -140.38977509341248\n",
      "should equal\n",
      "-140.38977509341248\n",
      "sm -27.14092665042329\n",
      "sm -54.314840779381925\n",
      "sm -82.03216819144674\n",
      "sm -107.05668107129759\n",
      "sm -140.38977509341248\n",
      "-140.38977509341248\n",
      "gr -27.14015914237075\n",
      "gr -54.3134902401913\n",
      "gr -82.03405234270429\n",
      "gr -107.058269618129\n",
      "gr -140.39492788206138\n",
      "should equal\n",
      "-140.39492788206138\n",
      "sm -27.14015914237075\n",
      "sm -54.3134902401913\n",
      "sm -82.03405234270429\n",
      "sm -107.058269618129\n",
      "sm -140.39492788206138\n",
      "-140.39492788206138\n",
      "gr -27.139626946971084\n",
      "gr -54.3125036809055\n",
      "gr -82.03636874744039\n",
      "gr -107.06036045131032\n",
      "gr -140.4004586306628\n",
      "should equal\n",
      "-140.4004586306628\n",
      "sm -27.139626946971084\n",
      "sm -54.3125036809055\n",
      "sm -82.03636874744039\n",
      "sm -107.06036045131032\n",
      "sm -140.4004586306628\n",
      "-140.4004586306628\n",
      "gr -27.13931669611162\n",
      "gr -54.31186108489779\n",
      "gr -82.03908486792592\n",
      "gr -107.06291744479886\n",
      "gr -140.40633781311016\n",
      "should equal\n",
      "-140.40633781311016\n",
      "sm -27.13931669611162\n",
      "sm -54.31186108489779\n",
      "sm -82.03908486792592\n",
      "sm -107.06291744479886\n",
      "sm -140.40633781311016\n",
      "-140.40633781311016\n",
      "gr -27.139216217746952\n",
      "gr -54.31154446777163\n",
      "gr -82.04217098426084\n",
      "gr -107.06590779956791\n",
      "gr -140.41253845963044\n",
      "should equal\n",
      "-140.41253845963044\n",
      "sm -27.139216217746952\n",
      "sm -54.31154446777163\n",
      "sm -82.04217098426084\n",
      "sm -107.06590779956791\n",
      "sm -140.41253845963044\n",
      "-140.41253845963044\n",
      "gr -27.139314402821825\n",
      "gr -54.31153761345681\n",
      "gr -82.04559990063714\n",
      "gr -107.06930166618233\n",
      "gr -140.41903584568112\n",
      "should equal\n",
      "-140.41903584568112\n",
      "sm -27.139314402821825\n",
      "sm -54.31153761345681\n",
      "sm -82.04559990063714\n",
      "sm -107.06930166618233\n",
      "sm -140.41903584568112\n",
      "-140.41903584568112\n",
      "gr -27.139601084467056\n",
      "gr -54.31182583881301\n",
      "gr -82.04934668182574\n",
      "gr -107.07307181026363\n",
      "gr -140.42580722383778\n",
      "should equal\n",
      "-140.42580722383778\n",
      "sm -27.139601084467056\n",
      "sm -54.31182583881301\n",
      "sm -82.04934668182574\n",
      "sm -107.07307181026363\n",
      "sm -140.42580722383778\n",
      "-140.42580722383778\n",
      "gr -27.140066928726014\n",
      "gr -54.31239578435039\n",
      "gr -82.05338841721957\n",
      "gr -107.0771933162284\n",
      "gr -140.43283159279673\n",
      "should equal\n",
      "-140.43283159279673\n",
      "sm -27.140066928726014\n",
      "sm -54.31239578435039\n",
      "sm -82.05338841721957\n",
      "sm -107.0771933162284\n",
      "sm -140.43283159279673\n",
      "-140.43283159279673\n",
      "gr -27.140703336046766\n",
      "gr -54.31323522878674\n",
      "gr -82.0577040098866\n",
      "gr -107.08164332512452\n",
      "gr -140.44008949837715\n",
      "should equal\n",
      "-140.44008949837715\n",
      "sm -27.140703336046766\n",
      "sm -54.31323522878674\n",
      "sm -82.0577040098866\n",
      "sm -107.08164332512452\n",
      "sm -140.44008949837715\n",
      "-140.44008949837715\n",
      "gr -27.14150235277164\n",
      "gr -54.31433292528637\n",
      "gr -82.06227398822753\n",
      "gr -107.08640080279135\n",
      "gr -140.4475628620611\n",
      "should equal\n",
      "-140.4475628620611\n",
      "sm -27.14150235277164\n",
      "sm -54.31433292528637\n",
      "sm -82.06227398822753\n",
      "sm -107.08640080279135\n",
      "sm -140.4475628620611\n",
      "-140.4475628620611\n",
      "gr -27.142456591870808\n",
      "gr -54.315678457366474\n",
      "gr -82.06708033799725\n",
      "gr -107.09144633495225\n",
      "gr -140.45523483319212\n",
      "should equal\n",
      "-140.45523483319212\n",
      "sm -27.142456591870808\n",
      "sm -54.315678457366474\n",
      "sm -82.06708033799725\n",
      "sm -107.09144633495225\n",
      "sm -140.45523483319212\n",
      "-140.45523483319212\n",
      "gr -27.143559162193657\n",
      "gr -54.31726211260488\n",
      "gr -82.0721063526281\n",
      "gr -107.09676194620579\n",
      "gr -140.46308966147427\n",
      "should equal\n",
      "-140.46308966147427\n",
      "sm -27.143559162193657\n",
      "sm -54.31726211260488\n",
      "sm -82.0721063526281\n",
      "sm -107.09676194620579\n",
      "sm -140.46308966147427\n",
      "-140.46308966147427\n",
      "gr -27.14480360554199\n",
      "gr -54.319074772421295\n",
      "gr -82.07733649995748\n",
      "gr -107.10233094019534\n",
      "gr -140.47111258684973\n",
      "should equal\n",
      "-140.47111258684973\n",
      "sm -27.14480360554199\n",
      "sm -54.319074772421295\n",
      "sm -82.07733649995748\n",
      "sm -107.10233094019534\n",
      "sm -140.47111258684973\n",
      "-140.47111258684973\n",
      "gr -27.146183840907163\n",
      "gr -54.321107816345446\n",
      "gr -82.08275630363957\n",
      "gr -107.10813775853921\n",
      "gr -140.47928974423857\n",
      "should equal\n",
      "-140.47928974423857\n",
      "sm -27.146183840907163\n",
      "sm -54.321107816345446\n",
      "sm -82.08275630363957\n",
      "sm -107.10813775853921\n",
      "sm -140.47928974423857\n",
      "-140.47928974423857\n",
      "gr -27.14769411525012\n",
      "gr -54.32335303931291\n",
      "gr -82.08835223767639\n",
      "gr -107.11416785636254\n",
      "gr -140.48760808096068\n",
      "should equal\n",
      "-140.48760808096068\n",
      "sm -27.14769411525012\n",
      "sm -54.32335303931291\n",
      "sm -82.08835223767639\n",
      "sm -107.11416785636254\n",
      "sm -140.48760808096068\n",
      "-140.48760808096068\n",
      "gr -27.149328960240776\n",
      "gr -54.325802580649295\n",
      "gr -82.09411163265457\n",
      "gr -107.12040759250931\n",
      "gr -140.49605528495766\n",
      "should equal\n",
      "-140.49605528495766\n",
      "sm -27.149328960240776\n",
      "sm -54.325802580649295\n",
      "sm -82.09411163265457\n",
      "sm -107.12040759250931\n",
      "sm -140.49605528495766\n",
      "-140.49605528495766\n",
      "gr -27.15108315441372\n",
      "gr -54.32844886352116\n",
      "gr -82.10002259242134\n",
      "gr -107.12684413273722\n",
      "gr -140.50461972220845\n",
      "should equal\n",
      "-140.50461972220845\n",
      "sm -27.15108315441372\n",
      "sm -54.32844886352116\n",
      "sm -82.10002259242134\n",
      "sm -107.12684413273722\n",
      "sm -140.50461972220845\n",
      "-140.50461972220845\n",
      "gr -27.152951690229926\n",
      "gr -54.33128454372863\n",
      "gr -82.10607392005289\n",
      "gr -107.13346536437665\n",
      "gr -140.51329038194336\n",
      "should equal\n",
      "-140.51329038194336\n",
      "sm -27.152951690229926\n",
      "sm -54.33128454372863\n",
      "sm -82.10607392005289\n",
      "sm -107.13346536437665\n",
      "sm -140.51329038194336\n",
      "-140.51329038194336\n",
      "gr -27.15492974557317\n",
      "gr -54.33430246681702\n",
      "gr -82.11225505209677\n",
      "gr -107.14025982112011\n",
      "gr -140.52205682847836\n",
      "should equal\n",
      "-140.52205682847836\n",
      "sm -27.15492974557317\n",
      "sm -54.33430246681702\n",
      "sm -82.11225505209677\n",
      "sm -107.14025982112011\n",
      "sm -140.52205682847836\n",
      "-140.52205682847836\n",
      "gr -27.157012659240113\n",
      "gr -54.337495632567496\n",
      "gr -82.11855600016948\n",
      "gr -107.14721661675087\n",
      "gr -140.5309091586521\n",
      "should equal\n",
      "-140.5309091586521\n",
      "sm -27.157012659240113\n",
      "sm -54.337495632567496\n",
      "sm -82.11855600016948\n",
      "sm -107.14721661675087\n",
      "sm -140.5309091586521\n",
      "-140.5309091586521\n",
      "gr -27.15919591001846\n",
      "gr -54.34085716601443\n",
      "gr -82.12496729909807\n",
      "gr -107.15432538677018\n",
      "gr -140.53983796401718\n",
      "should equal\n",
      "-140.53983796401718\n",
      "sm -27.15919591001846\n",
      "sm -54.34085716601443\n",
      "sm -82.12496729909807\n",
      "sm -107.15432538677018\n",
      "sm -140.53983796401718\n",
      "-140.53983796401718\n",
      "gr -27.16147509897407\n",
      "gr -54.344380294204086\n",
      "gr -82.13147996087159\n",
      "gr -107.16157623698888\n",
      "gr -140.54883429704947\n",
      "should equal\n",
      "-140.54883429704947\n",
      "sm -27.16147509897407\n",
      "sm -54.344380294204086\n",
      "sm -82.13147996087159\n",
      "sm -107.16157623698888\n",
      "sm -140.54883429704947\n",
      "-140.54883429704947\n",
      "gr -27.1638459345999\n",
      "gr -54.348058327986564\n",
      "gr -82.13808543375856\n",
      "gr -107.16895969827274\n",
      "gr -140.55788964077323\n",
      "should equal\n",
      "-140.55788964077323\n",
      "sm -27.1638459345999\n",
      "sm -54.348058327986564\n",
      "sm -82.13808543375856\n",
      "sm -107.16895969827274\n",
      "sm -140.55788964077323\n",
      "-140.55788964077323\n",
      "gr -27.16630422050497\n",
      "gr -54.35188464819147\n",
      "gr -82.14477556601145\n",
      "gr -107.17646668671799\n",
      "gr -140.56699588128748\n",
      "should equal\n",
      "-140.56699588128748\n",
      "sm -27.16630422050497\n",
      "sm -54.35188464819147\n",
      "sm -82.14477556601145\n",
      "sm -107.17646668671799\n",
      "sm -140.56699588128748\n",
      "-140.56699588128748\n",
      "gr -27.168845845346755\n",
      "gr -54.35585269559896\n",
      "gr -82.15154257364426\n",
      "gr -107.18408846862147\n",
      "gr -140.57614528276753\n",
      "should equal\n",
      "-140.57614528276753\n",
      "sm -27.168845845346755\n",
      "sm -54.35585269559896\n",
      "sm -82.15154257364426\n",
      "sm -107.18408846862147\n",
      "sm -140.57614528276753\n",
      "-140.57614528276753\n",
      "gr -27.171466774736466\n",
      "gr -54.359955964173544\n",
      "gr -82.15837901182825\n",
      "gr -107.19181662968757\n",
      "gr -140.58533046459078\n",
      "should equal\n",
      "-140.58533046459078\n",
      "sm -27.171466774736466\n",
      "sm -54.359955964173544\n",
      "sm -82.15837901182825\n",
      "sm -107.19181662968757\n",
      "sm -140.58533046459078\n",
      "-140.58533046459078\n",
      "gr -27.17416304486761\n",
      "gr -54.36418799707842\n",
      "gr -82.16527774950045\n",
      "gr -107.19964304797855\n",
      "gr -140.59454438029746\n",
      "should equal\n",
      "-140.59454438029746\n",
      "sm -27.17416304486761\n",
      "sm -54.36418799707842\n",
      "sm -82.16527774950045\n",
      "sm -107.19964304797855\n",
      "sm -140.59454438029746\n",
      "-140.59454438029746\n",
      "gr -27.176930757639678\n",
      "gr -54.36854238503318\n",
      "gr -82.17223194682094\n",
      "gr -107.20755987017017\n",
      "gr -140.6037802981424\n",
      "should equal\n",
      "-140.6037802981424\n",
      "sm -27.176930757639678\n",
      "sm -54.36854238503318\n",
      "sm -82.17223194682094\n",
      "sm -107.20755987017017\n",
      "sm -140.6037802981424\n",
      "-140.6037802981424\n",
      "gr -27.179766077071392\n",
      "gr -54.37301276662758\n",
      "gr -82.17923503516406\n",
      "gr -107.21555949073618\n",
      "gr -140.61303178305408\n",
      "should equal\n",
      "-140.61303178305408\n",
      "sm -27.179766077071392\n",
      "sm -54.37301276662758\n",
      "sm -82.17923503516406\n",
      "sm -107.21555949073618\n",
      "sm -140.61303178305408\n",
      "-140.61303178305408\n",
      "gr -27.182665226813317\n",
      "gr -54.37759283023712\n",
      "gr -82.18628069935205\n",
      "gr -107.2236345337165\n",
      "gr -140.62229267983338\n",
      "should equal\n",
      "-140.62229267983338\n",
      "sm -27.182665226813317\n",
      "sm -54.37759283023712\n",
      "sm -82.18628069935205\n",
      "sm -107.2236345337165\n",
      "sm -140.62229267983338\n",
      "-140.62229267983338\n",
      "gr -27.185624488591138\n",
      "gr -54.382276317231145\n",
      "gr -82.19336286188259\n",
      "gr -107.23177783677627\n",
      "gr -140.6315570974726\n",
      "should equal\n",
      "-140.6315570974726\n",
      "sm -27.185624488591138\n",
      "sm -54.382276317231145\n",
      "sm -82.19336286188259\n",
      "sm -107.23177783677627\n",
      "sm -140.6315570974726\n",
      "-140.6315570974726\n",
      "gr -27.18864020142458\n",
      "gr -54.387057026193304\n",
      "gr -82.2004756689195\n",
      "gr -107.23998243728671\n",
      "gr -140.64081939448582\n",
      "should equal\n",
      "-140.64081939448582\n",
      "sm -27.18864020142458\n",
      "sm -54.387057026193304\n",
      "sm -82.2004756689195\n",
      "sm -107.23998243728671\n",
      "sm -140.64081939448582\n",
      "-140.64081939448582\n",
      "gr -27.191708761485362\n",
      "gr -54.39192881791115\n",
      "gr -82.20761347784855\n",
      "gr -107.24824156019778\n",
      "gr -140.6500741651717\n",
      "should equal\n",
      "-140.6500741651717\n",
      "sm -27.191708761485362\n",
      "sm -54.39192881791115\n",
      "sm -82.20761347784855\n",
      "sm -107.24824156019778\n",
      "sm -140.6500741651717\n",
      "-140.6500741651717\n",
      "gr -27.194826622469776\n",
      "gr -54.39688562091813\n",
      "gr -82.21477084621596\n",
      "gr -107.25654860749152\n",
      "gr -140.65931622673708\n",
      "should equal\n",
      "-140.65931622673708\n",
      "sm -27.194826622469776\n",
      "sm -54.39688562091813\n",
      "sm -82.21477084621596\n",
      "sm -107.25654860749152\n",
      "sm -140.65931622673708\n",
      "-140.65931622673708\n",
      "gr -27.197990296377327\n",
      "gr -54.401921437400404\n",
      "gr -82.22194252189007\n",
      "gr -107.2648971490329\n",
      "gr -140.66854060722693\n",
      "should equal\n",
      "-140.66854060722693\n",
      "sm -27.197990296377327\n",
      "sm -54.401921437400404\n",
      "sm -82.22194252189007\n",
      "sm -107.2648971490329\n",
      "sm -140.66854060722693\n",
      "-140.66854060722693\n",
      "gr -27.20119635459758\n",
      "gr -54.40703034930483\n",
      "gr -82.2291234343014\n",
      "gr -107.27328091465172\n",
      "gr -140.67774253421214\n",
      "should equal\n",
      "-140.67774253421214\n",
      "sm -27.20119635459758\n",
      "sm -54.40703034930483\n",
      "sm -82.2291234343014\n",
      "sm -107.27328091465172\n",
      "sm -140.67774253421214\n",
      "-140.67774253421214\n",
      "gr -27.204441429221152\n",
      "gr -54.412206524509756\n",
      "gr -82.23630868663462\n",
      "gr -107.28169378731022\n",
      "gr -140.68691742419668\n",
      "should equal\n",
      "-140.68691742419668\n",
      "sm -27.204441429221152\n",
      "sm -54.412206524509756\n",
      "sm -82.23630868663462\n",
      "sm -107.28169378731022\n",
      "sm -140.68691742419668\n",
      "-140.68691742419668\n",
      "print!!!\n",
      "[-174.21821568 -143.65406267 -143.5606213  -143.50517675 -143.44553518\n",
      " -143.38091427 -143.31077258 -143.23485625 -143.15325368 -143.06642492\n",
      " -142.975187   -142.88064066 -142.7840391  -142.68661868 -142.58942762\n",
      " -142.49319223 -142.39824967 -142.30455656 -142.21176357 -142.11933427\n",
      " -142.0266834  -141.93331189 -141.83892001 -141.74348275 -141.64727674\n",
      " -141.55085588 -141.45498497 -141.36055092 -141.26847322 -141.17962944\n",
      " -141.09480053 -141.01463468 -140.9396261  -140.87010681 -140.80624997\n",
      " -140.74808296 -140.69550774 -140.64832539 -140.60626174 -140.56899188\n",
      " -140.53616175 -140.507406   -140.48236191 -140.46067948 -140.4420283\n",
      " -140.42610169 -140.41261866 -140.40132445 -140.39198986 -140.38440997\n",
      " -140.37840236 -140.37380518 -140.37047511 -140.36828544 -140.36712411\n",
      " -140.36689207 -140.36750164 -140.36887511 -140.3709435  -140.37364541\n",
      " -140.37692608 -140.3807365  -140.38503271 -140.38977509 -140.39492788\n",
      " -140.40045863 -140.40633781 -140.41253846 -140.41903585 -140.42580722\n",
      " -140.43283159 -140.4400895  -140.44756286 -140.45523483 -140.46308966\n",
      " -140.47111259 -140.47928974 -140.48760808 -140.49605528 -140.50461972\n",
      " -140.51329038 -140.52205683 -140.53090916 -140.53983796 -140.5488343\n",
      " -140.55788964 -140.56699588 -140.57614528 -140.58533046 -140.59454438\n",
      " -140.6037803  -140.61303178 -140.62229268 -140.6315571  -140.64081939\n",
      " -140.65007417 -140.65931623 -140.66854061 -140.67774253 -140.68691742\n",
      "    0.        ]\n",
      "sm -27.207722214499704\n",
      "sm -54.41744422293752\n",
      "sm -82.2434935488549\n",
      "sm -107.29012979722181\n",
      "sm -140.69606087270563\n"
     ]
    },
    {
     "data": {
      "text/plain": [
       "array([  2.17766106e-76,   4.09103581e-63,   4.49173733e-63,\n",
       "         4.74781309e-63,   5.03959477e-63,   5.37601067e-63,\n",
       "         5.76663243e-63,   6.22146001e-63,   6.75043655e-63,\n",
       "         7.36276789e-63,   8.06613039e-63,   8.86596866e-63,\n",
       "         9.76516795e-63,   1.07643762e-62,   1.18631059e-62,\n",
       "         1.30614955e-62,   1.43623642e-62,   1.57730739e-62,\n",
       "         1.73067620e-62,   1.89826724e-62,   2.08254847e-62,\n",
       "         2.28636649e-62,   2.51269468e-62,   2.76431541e-62,\n",
       "         3.04347217e-62,   3.35153982e-62,   3.68876160e-62,\n",
       "         4.05408433e-62,   4.44510079e-62,   4.85809472e-62,\n",
       "         5.28818577e-62,   5.72957344e-62,   6.17586940e-62,\n",
       "         6.62048714e-62,   7.05704068e-62,   7.47970094e-62,\n",
       "         7.88346892e-62,   8.26434418e-62,   8.61938751e-62,\n",
       "         8.94669227e-62,   9.24528799e-62,   9.51500249e-62,\n",
       "         9.75630614e-62,   9.97015659e-62,   1.01578567e-61,\n",
       "         1.03209321e-61,   1.04610319e-61,   1.05798507e-61,\n",
       "         1.06790716e-61,   1.07603254e-61,   1.08251638e-61,\n",
       "         1.08750436e-61,   1.09113186e-61,   1.09352370e-61,\n",
       "         1.09479438e-61,   1.09504844e-61,   1.09438114e-61,\n",
       "         1.09287907e-61,   1.09062091e-61,   1.08767812e-61,\n",
       "         1.08411566e-61,   1.07999258e-61,   1.07536266e-61,\n",
       "         1.07027495e-61,   1.06477423e-61,   1.05890149e-61,\n",
       "         1.05269428e-61,   1.04618709e-61,   1.03941164e-61,\n",
       "         1.03239717e-61,   1.02517064e-61,   1.01775699e-61,\n",
       "         1.01017927e-61,   1.00245886e-61,   9.94615560e-62,\n",
       "         9.86667758e-62,   9.78632518e-62,   9.70525688e-62,\n",
       "         9.62361988e-62,   9.54155093e-62,   9.45917702e-62,\n",
       "         9.37661606e-62,   9.29397747e-62,   9.21136273e-62,\n",
       "         9.12886589e-62,   9.04657402e-62,   8.96456769e-62,\n",
       "         8.88292134e-62,   8.80170366e-62,   8.72097798e-62,\n",
       "         8.64080256e-62,   8.56123095e-62,   8.48231227e-62,\n",
       "         8.40409148e-62,   8.32660967e-62,   8.24990430e-62,\n",
       "         8.17400943e-62,   8.09895595e-62,   8.02477179e-62,\n",
       "         7.95148212e-62,   7.87910952e-62])"
      ]
     },
     "execution_count": 14,
     "metadata": {},
     "output_type": "execute_result"
    }
   ],
   "source": [
    "out = chmm_r.baum_welch( t,e, 100, out=\"est\" )\n",
    "\n",
    "np.exp(out)"
   ]
  },
  {
   "cell_type": "markdown",
   "metadata": {
    "deletable": true,
    "editable": true
   },
   "source": [
    "We will plot its probabilities estimations in ratio with generator model. (Notice, it is the ratio of logarithms of probabilities)"
   ]
  },
  {
   "cell_type": "code",
   "execution_count": 37,
   "metadata": {
    "collapsed": false,
    "deletable": true,
    "editable": true
   },
   "outputs": [
    {
     "name": "stdout",
     "output_type": "stream",
     "text": [
      "1 -28.13959180290124\n",
      "2 -28.13959180290124\n",
      "1 -28.13959180290124\n",
      "1 -30.50135083359809\n",
      "2 -30.50135083359809\n",
      "1 -30.50135083359809\n",
      "1 -31.443523384801978\n",
      "2 -31.443523384801978\n",
      "1 -31.443523384801978\n",
      "1 -33.21954412325709\n",
      "2 -33.21954412325709\n",
      "1 -33.21954412325709\n",
      "1 -30.579735470938036\n",
      "2 -30.579735470938036\n",
      "1 -30.579735470938036\n"
     ]
    },
    {
     "data": {
      "image/png": "[encoded data removed]",
      "text/plain": [
       "<matplotlib.figure.Figure at 0x7f89753fdc88>"
      ]
     },
     "metadata": {},
     "output_type": "display_data"
    }
   ],
   "source": [
    "real = chmm.data_estimate( t, e )\n",
    "#For better visibility of the graph, we cut first two values.\n",
    "plt.plot( out[2:] / real  )\n",
    "\n",
    "plt.show()"
   ]
  },
  {
   "cell_type": "markdown",
   "metadata": {
    "deletable": true,
    "editable": true
   },
   "source": [
    "<a id='conv'></a>\n",
    "Part 3: Comparison of Models Convergences\n",
    "-----------------------------------------------------"
   ]
  },
  {
   "cell_type": "markdown",
   "metadata": {
    "deletable": true,
    "editable": true
   },
   "source": [
    "In this chapter we will compare the convergence rate of discrete and continuous models. It will show some functions usefull for convergence among model parameters.  "
   ]
  },
  {
   "cell_type": "code",
   "execution_count": null,
   "metadata": {
    "collapsed": true,
    "deletable": true,
    "editable": true
   },
   "outputs": [],
   "source": [
    "import numpy as np\n",
    "import matplotlib.pyplot as plt\n",
    "import hmms\n",
    "\n",
    "%matplotlib inline"
   ]
  },
  {
   "cell_type": "markdown",
   "metadata": {
    "deletable": true,
    "editable": true
   },
   "source": [
    "We will start by defining the continuous time model. For that, who have read the previous section, it will be the familiar."
   ]
  },
  {
   "cell_type": "code",
   "execution_count": null,
   "metadata": {
    "collapsed": false,
    "deletable": true,
    "editable": true
   },
   "outputs": [],
   "source": [
    "Q = np.array( [[-0.375,0.125,0.25],[0.25,-0.5,0.25],[0.25,0.125,-0.375]] )\n",
    "B = np.array( [[0.8,0.05,0.15],[0.05,0.9,0.05],[0.2,0.05,0.75]] )\n",
    "Pi = np.array( [0.6,0,0.4] )\n",
    "\n",
    "chmm = hmms.CtHMM( Q,B,Pi )\n",
    "hmms.print_parameters( chmm )"
   ]
  },
  {
   "cell_type": "markdown",
   "metadata": {
    "deletable": true,
    "editable": true
   },
   "source": [
    "We can simply create discrete model with equivalent parameters, using function *get_dthmm_params*.  \n",
    "By default, it will create the model with transition probabilities equal to one time unit probability transition in continuous model. You can pass the optional parameter for different time steps.\n"
   ]
  },
  {
   "cell_type": "code",
   "execution_count": null,
   "metadata": {
    "collapsed": false,
    "deletable": true,
    "editable": true
   },
   "outputs": [],
   "source": [
    "dhmm = hmms.DtHMM( *chmm.get_dthmm_params() )\n",
    "hmms.print_parameters( dhmm )"
   ]
  },
  {
   "cell_type": "markdown",
   "metadata": {
    "deletable": true,
    "editable": true
   },
   "source": [
    "We can let the disrete model to generate the data sufficient for both models by passing the *times* parameter as *True*."
   ]
  },
  {
   "cell_type": "code",
   "execution_count": null,
   "metadata": {
    "collapsed": false,
    "deletable": true,
    "editable": true
   },
   "outputs": [],
   "source": [
    "t,_,e = dhmm.generate_data( (50,50), times=True )   \n",
    "# The free space in the return triple is for the state sequences, we do not need them for the training "
   ]
  },
  {
   "cell_type": "markdown",
   "metadata": {
    "deletable": true,
    "editable": true
   },
   "source": [
    "We can compare the estimation of the data, using both of the model. (They should be the same.)"
   ]
  },
  {
   "cell_type": "code",
   "execution_count": null,
   "metadata": {
    "collapsed": false,
    "deletable": true,
    "editable": true
   },
   "outputs": [],
   "source": [
    "creal = chmm.data_estimate(t,e)\n",
    "dreal = dhmm.data_estimate(e)\n",
    "print(\"Data estimation by continuous model:\", creal)\n",
    "print(\"Data estimation by discrete model:  \", dreal)"
   ]
  },
  {
   "cell_type": "markdown",
   "metadata": {
    "deletable": true,
    "editable": true
   },
   "source": [
    "Now we will create two equivalent random models. "
   ]
  },
  {
   "cell_type": "code",
   "execution_count": null,
   "metadata": {
    "collapsed": false,
    "deletable": true,
    "editable": true
   },
   "outputs": [],
   "source": [
    "ct = hmms.CtHMM.random(3,3)\n",
    "dt = hmms.DtHMM( *ct.get_dthmm_params() )\n",
    "    \n",
    "hmms.print_parameters( ct )\n",
    "hmms.print_parameters( dt )"
   ]
  },
  {
   "cell_type": "markdown",
   "metadata": {
    "deletable": true,
    "editable": true
   },
   "source": [
    "We will train them at our dataset. (It can take a while.)"
   ]
  },
  {
   "cell_type": "code",
   "execution_count": null,
   "metadata": {
    "collapsed": false,
    "deletable": true,
    "editable": true
   },
   "outputs": [],
   "source": [
    "iter_num = 50\n",
    "outd = dt.baum_welch_graph( e, iter_num )\n",
    "outc = ct.baum_welch_graph( t,e, iter_num )\n",
    "outd,outc"
   ]
  },
  {
   "cell_type": "markdown",
   "metadata": {
    "collapsed": false,
    "deletable": true,
    "editable": true
   },
   "source": [
    "We can plot and compare both convergence rates. From the essence of models, the continuous model will probably  converge a bit slower, but finally will reach the similar value."
   ]
  },
  {
   "cell_type": "code",
   "execution_count": null,
   "metadata": {
    "collapsed": false,
    "deletable": true,
    "editable": true
   },
   "outputs": [],
   "source": [
    "plt.plot( outd[1:] / dreal  )\n",
    "plt.plot( outc[1:] / dreal  )\n",
    "#plt.savefig('my_plot.svg')  #Optional save the figure\n",
    "plt.show()"
   ]
  },
  {
   "cell_type": "code",
   "execution_count": null,
   "metadata": {
    "collapsed": false,
    "deletable": true,
    "editable": true
   },
   "outputs": [],
   "source": []
  },
  {
   "cell_type": "markdown",
   "metadata": {
    "collapsed": false,
    "deletable": true,
    "editable": true
   },
   "source": [
    "<hr/>\n",
    "You can play with the models as you like and feel free to share your result with me, if you have made some interesting experiment!"
   ]
  },
  {
   "cell_type": "markdown",
   "metadata": {
    "collapsed": true,
    "deletable": true,
    "editable": true
   },
   "source": [
    "Contact: (lopatovsky@gmail.com)"
   ]
  },
  {
   "cell_type": "markdown",
   "metadata": {
    "deletable": true,
    "editable": true
   },
   "source": [
    "### Experimental features\n",
    "#### Fast Convergence"
   ]
  },
  {
   "cell_type": "code",
   "execution_count": null,
   "metadata": {
    "collapsed": false,
    "deletable": true,
    "editable": true
   },
   "outputs": [],
   "source": [
    "seq_num= 1   #number of data sequences\n",
    "seq_len= 4  #length of each sequence\n",
    "\n",
    "t,e = chmm.generate_data( (seq_num,seq_len) )\n",
    "t,e\n",
    "\n",
    "\n",
    "t = np.array([[ 0,1,3,5,6,7,9,11,12]])\n",
    "e = np.array([[ 0,0,0,1,2,1,0,0,1]])\n"
   ]
  },
  {
   "cell_type": "code",
   "execution_count": null,
   "metadata": {
    "collapsed": false,
    "deletable": true,
    "editable": true
   },
   "outputs": [],
   "source": [
    "ct1 = hmms.CtHMM.random(3,3)\n",
    "ct2 = hmms.CtHMM( *ct1.params )"
   ]
  },
  {
   "cell_type": "code",
   "execution_count": null,
   "metadata": {
    "collapsed": false,
    "deletable": true,
    "editable": true
   },
   "outputs": [],
   "source": [
    "iter_num = 50\n",
    "out1 = ct1.baum_welch_graph( t,e, iter_num )\n",
    "out2 = ct2.baum_welch_graph2( t,e, iter_num )\n",
    "out1,out2"
   ]
  },
  {
   "cell_type": "code",
   "execution_count": null,
   "metadata": {
    "collapsed": false,
    "deletable": true,
    "editable": true
   },
   "outputs": [],
   "source": [
    "plt.plot( out1[1:] / dreal , color = \"red\" )\n",
    "plt.plot( out2[1:] / dreal  )\n",
    "#plt.savefig('graph.svg')  #Optional save the figure\n",
    "\n",
    "plt.show()"
   ]
  },
  {
   "cell_type": "code",
   "execution_count": null,
   "metadata": {
    "collapsed": false,
    "deletable": true,
    "editable": true
   },
   "outputs": [],
   "source": [
    "hmms.print_parameters(ct1)\n",
    "hmms.print_parameters(ct2)"
   ]
  },
  {
   "cell_type": "markdown",
   "metadata": {
    "collapsed": true,
    "deletable": true,
    "editable": true
   },
   "source": [
    "Exponential random generation"
   ]
  },
  {
   "cell_type": "code",
   "execution_count": null,
   "metadata": {
    "collapsed": true,
    "deletable": true,
    "editable": true
   },
   "outputs": [],
   "source": [
    "import numpy as np\n",
    "import matplotlib.pyplot as plt\n",
    "import hmms\n",
    "\n",
    "%matplotlib inline"
   ]
  },
  {
   "cell_type": "code",
   "execution_count": null,
   "metadata": {
    "collapsed": false,
    "deletable": true,
    "editable": true
   },
   "outputs": [],
   "source": [
    "# Q is the matrix of transition rates from state [row] to state [column].\n",
    "Q = np.array( [[-0.375,0.125,0.25],[0.25,-0.5,0.25],[0.25,0.125,-0.375]] )\n",
    "# B is the matrix of probabilities that the state [row] will emmit output variable [column].\n",
    "B = np.array( [[0.8,0.05,0.15],[0.05,0.9,0.05],[0.2,0.05,0.75]] )\n",
    "# Pi is the vector of initial state probabilities.   \n",
    "Pi = np.array( [0.6,0,0.4] )\n",
    "\n",
    "# Create CtHMM by given parameters.\n",
    "chmm = hmms.CtHMM(Q,B,Pi)"
   ]
  },
  {
   "cell_type": "code",
   "execution_count": null,
   "metadata": {
    "collapsed": true,
    "deletable": true,
    "editable": true
   },
   "outputs": [],
   "source": [
    "seq_num= 5   #number of data sequences\n",
    "seq_len= 30  #length of each sequence\n",
    "\n",
    "t,e = chmm.generate_data( (seq_num,seq_len) )"
   ]
  },
  {
   "cell_type": "code",
   "execution_count": null,
   "metadata": {
    "collapsed": false,
    "deletable": true,
    "editable": true
   },
   "outputs": [],
   "source": [
    "chmm_r = hmms.CtHMM.random( 3,3 )\n",
    "chmm_re = hmms.CtHMM.random_exp( 3,3 )\n",
    "\n",
    "out  =  hmms.chmm_r.multi_baum_welch( 10, t,e, 100 )\n",
    "oute = chmm_re.multi_baum_welch( 10, t,e, 100 )\n",
    "\n",
    "\n",
    "#aout =  np.average(out,  axis=0)\n",
    "#aoute = np.average(oute, axis=0)\n"
   ]
  },
  {
   "cell_type": "code",
   "execution_count": null,
   "metadata": {
    "collapsed": false,
    "deletable": true,
    "editable": true
   },
   "outputs": [],
   "source": [
    "aout =  np.average(out,  axis=0)\n",
    "aoute = np.average(oute, axis=0)\n",
    "\n",
    "mout =  np.min(out,  axis=0)\n",
    "moute = np.min(oute, axis=0)\n",
    "\n",
    "\n",
    "real = chmm.data_estimate( t, e )\n",
    "#For better visibility of the graph, we cut first two values.\n",
    "\n",
    "offset = 3\n",
    "\n",
    "#plt.plot(  aout[offset:] / real , color = \"red\" )\n",
    "#plt.plot( aoute[offset:] / real , color = \"blue\" )\n",
    "\n",
    "#plt.plot(  mout[offset:] / real , color = \"orange\" )\n",
    "#plt.plot( moute[offset:] / real , color = \"green\")\n",
    "\n",
    "for line in out:\n",
    "    print( line/real )\n",
    "    plt.plot(  line[offset:] / real )\n",
    "\n",
    "\n",
    "plt.show()"
   ]
  },
  {
   "cell_type": "code",
   "execution_count": null,
   "metadata": {
    "collapsed": false,
    "deletable": true,
    "editable": true
   },
   "outputs": [],
   "source": [
    "out\n",
    "\n",
    "\n"
   ]
  },
  {
   "cell_type": "code",
   "execution_count": null,
   "metadata": {
    "collapsed": false,
    "deletable": true,
    "editable": true
   },
   "outputs": [],
   "source": [
    "oute"
   ]
  },
  {
   "cell_type": "code",
   "execution_count": null,
   "metadata": {
    "collapsed": true,
    "deletable": true,
    "editable": true
   },
   "outputs": [],
   "source": []
  }
 ],
 "metadata": {
  "kernelspec": {
   "display_name": "Python 3",
   "language": "python",
   "name": "python3"
  },
  "language_info": {
   "codemirror_mode": {
    "name": "ipython",
    "version": 3
   },
   "file_extension": ".py",
   "mimetype": "text/x-python",
   "name": "python",
   "nbconvert_exporter": "python",
   "pygments_lexer": "ipython3",
   "version": "3.5.2"
  }
 },
 "nbformat": 4,
 "nbformat_minor": 2
}
