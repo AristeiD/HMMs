{
 "cells": [
  {
   "cell_type": "markdown",
   "metadata": {
    "deletable": true,
    "editable": true
   },
   "source": [
    "HMMs Library \n",
    "============================\n",
    "#### (Discrete & Continuous hidden markov models )\n",
    "\n",
    "The document contain the tutorial ( usage explained by example ) for the hidden markov models library [link to pip].\n",
    "* [The **first** part](#dthmm) will cover disrete-time hidden markov model (**DtHMM**)\n",
    "* [The **second** part](#cthmm) will be dedicated to continuous-time hidden markov model (**CtHMM**)\n",
    "* [The **third** part](#conv) will compare the convergences of **both** models\n",
    "\n",
    "The all of the part are independent, so you do not need to run all notebook, if you are interested only in one of them. \n",
    "\n",
    "\n",
    "If you are not familiar with the hidden markov model theory, We recommend ...\n",
    "%todo: refer to DP theory, (simple guide to cthmm?), github, sources\n"
   ]
  },
  {
   "cell_type": "markdown",
   "metadata": {
    "deletable": true,
    "editable": true
   },
   "source": [
    "<a id='dthmm'></a>\n",
    "Part 1: Discrete Time Hidden Markov Model\n",
    "---------------------------------------------------"
   ]
  },
  {
   "cell_type": "code",
   "execution_count": null,
   "metadata": {
    "collapsed": false,
    "deletable": true,
    "editable": true
   },
   "outputs": [],
   "source": [
    "import numpy as np\n",
    "import matplotlib.pyplot as plt\n",
    "import hmms\n",
    "\n",
    "%matplotlib inline"
   ]
  },
  {
   "cell_type": "markdown",
   "metadata": {
    "deletable": true,
    "editable": true
   },
   "source": [
    "### Construct DtHMM \n",
    "You can directly initialize the DtHMM by passing the **model parameters**.  \n",
    "\n",
    "We will create simple DtHMM of two hidden states and three output variables."
   ]
  },
  {
   "cell_type": "code",
   "execution_count": null,
   "metadata": {
    "collapsed": false,
    "deletable": true,
    "editable": true
   },
   "outputs": [],
   "source": [
    "# A is the matrix of transition probabilities from state [row] to state [column].\n",
    "A = np.array([[0.9,0.1],[0.4,0.6]])\n",
    "# B is the matrix of probabilities that the state [row] will emmit output variable [column].\n",
    "B = np.array([[0.9,0.08,0.02],[0.2,0.5,0.3]])\n",
    "# Pi is the vector of initial state probabilities.   \n",
    "Pi = np.array( [0.8,0.2] )\n",
    "\n",
    "# Create DtHMM by given parameters.\n",
    "dhmm = hmms.DtHMM(A,B,Pi)"
   ]
  },
  {
   "cell_type": "markdown",
   "metadata": {
    "deletable": true,
    "editable": true
   },
   "source": [
    "Or you can initialize it by **random parameters**. Passing the number of hidden states and output variables. "
   ]
  },
  {
   "cell_type": "code",
   "execution_count": null,
   "metadata": {
    "collapsed": false,
    "deletable": true,
    "editable": true
   },
   "outputs": [],
   "source": [
    "dhmm_random = hmms.DtHMM.random(2,3)"
   ]
  },
  {
   "cell_type": "markdown",
   "metadata": {
    "deletable": true,
    "editable": true
   },
   "source": [
    "### Save & Read from File\n",
    "Once you have created the model you can **save** its parameters in file simply by calling *save_params* method.  "
   ]
  },
  {
   "cell_type": "code",
   "execution_count": null,
   "metadata": {
    "collapsed": false,
    "deletable": true,
    "editable": true
   },
   "outputs": [],
   "source": [
    "dhmm.save_params(\"Models/hello_dthmm\") "
   ]
  },
  {
   "cell_type": "markdown",
   "metadata": {
    "deletable": true,
    "editable": true
   },
   "source": [
    "The method stored the parameters in *.npz* format.  \n",
    "\n",
    "The saved file can be later used to **read** parametrs for model initialization."
   ]
  },
  {
   "cell_type": "code",
   "execution_count": null,
   "metadata": {
    "collapsed": false,
    "deletable": true,
    "editable": true
   },
   "outputs": [],
   "source": [
    "dhmm_from_file = hmms.DtHMM.from_file( \"Models/hello_dthmm.npz\" )"
   ]
  },
  {
   "cell_type": "markdown",
   "metadata": {
    "deletable": true,
    "editable": true
   },
   "source": [
    "### Set & Get Parameters\n",
    "Later you can always **set** parameters with triple of methods corresponding to the constructors."
   ]
  },
  {
   "cell_type": "code",
   "execution_count": null,
   "metadata": {
    "collapsed": false,
    "deletable": true,
    "editable": true,
    "scrolled": true
   },
   "outputs": [],
   "source": [
    "dhmm.set_params(A,B,Pi)\n",
    "dhmm.set_params_random(2,3)\n",
    "dhmm.set_params_from_file( \"Models/hello_dthmm.npz\" )"
   ]
  },
  {
   "cell_type": "markdown",
   "metadata": {
    "deletable": true,
    "editable": true
   },
   "source": [
    "You can **get** parameters by calling them separately,"
   ]
  },
  {
   "cell_type": "code",
   "execution_count": null,
   "metadata": {
    "collapsed": false,
    "deletable": true,
    "editable": true
   },
   "outputs": [],
   "source": [
    "dhmm.a, dhmm.b, dhmm.pi"
   ]
  },
  {
   "cell_type": "markdown",
   "metadata": {
    "deletable": true,
    "editable": true
   },
   "source": [
    "or **get** them **all** together as the triple."
   ]
  },
  {
   "cell_type": "code",
   "execution_count": null,
   "metadata": {
    "collapsed": false,
    "deletable": true,
    "editable": true
   },
   "outputs": [],
   "source": [
    "(A,B,Pi) = dhmm.params"
   ]
  },
  {
   "cell_type": "markdown",
   "metadata": {
    "deletable": true,
    "editable": true
   },
   "source": [
    "### Generate Random State and Emission Sequence\n",
    " Now we can use our model to generate state and emission sequence.   \n",
    " The model will randomly choose which transition or emission will happen, taking into consideration the parameters we have previously defined.\n"
   ]
  },
  {
   "cell_type": "code",
   "execution_count": null,
   "metadata": {
    "collapsed": false,
    "deletable": true,
    "editable": true
   },
   "outputs": [],
   "source": [
    "seq_len = 20\n",
    "s_seq, e_seq = dhmm.generate( seq_len )\n",
    "\n",
    "#resize plot\n",
    "plt.rcParams['figure.figsize'] = [20,20]\n",
    "\n",
    "hmms.plot_hmm( s_seq, e_seq )"
   ]
  },
  {
   "cell_type": "markdown",
   "metadata": {
    "collapsed": false,
    "deletable": true,
    "editable": true
   },
   "source": [
    "### Find Most Likely State Sequence\n",
    "If we have the model parameters and emission sequence, we can find the most probable state sequence that would generate it. Notice, that it can be different, than the actual sequence that has generated the emissions.  \n",
    "We will use Viterbi algorithm for the calculation.\n"
   ]
  },
  {
   "cell_type": "code",
   "execution_count": null,
   "metadata": {
    "collapsed": false,
    "deletable": true,
    "editable": true
   },
   "outputs": [],
   "source": [
    "( log_prob, s_seq ) =  dhmm.viterbi( e_seq )\n",
    "# Let's print the most likely state sequence, it can be same or differ from the sequence above.\n",
    "hmms.plot_hmm( s_seq, e_seq )"
   ]
  },
  {
   "cell_type": "markdown",
   "metadata": {
    "collapsed": true,
    "deletable": true,
    "editable": true
   },
   "source": [
    "The *log_prob* parameter store the probability of the sequence.  \n",
    "All the probabilities in the library are stored in the logarithm of their actual value. As the number of possible sequences grows exponentialy by it length, it could easily lead to float underflow.  \n",
    "You can easily transform it to the normal scale value applying *exp* function. "
   ]
  },
  {
   "cell_type": "code",
   "execution_count": null,
   "metadata": {
    "collapsed": false,
    "deletable": true,
    "editable": true
   },
   "outputs": [],
   "source": [
    "np.exp( log_prob )"
   ]
  },
  {
   "cell_type": "markdown",
   "metadata": {
    "deletable": true,
    "editable": true
   },
   "source": [
    "### The Probability of the Emission Sequence\n",
    "We can compute the probabilityoft the model generating the emission sequence."
   ]
  },
  {
   "cell_type": "code",
   "execution_count": null,
   "metadata": {
    "collapsed": false,
    "deletable": true,
    "editable": true
   },
   "outputs": [],
   "source": [
    "np.exp( dhmm.emission_estimate( e_seq ) )"
   ]
  },
  {
   "cell_type": "markdown",
   "metadata": {
    "deletable": true,
    "editable": true
   },
   "source": [
    "### Generate Artificial Dataset\n",
    "\n",
    "You can easily generate many sequences in once by using the generate_data function.\n",
    "The generated emission sequences are in the form that is suitable for training of parameters. You can switch times=True, if you want to generate also the corresponding equidistant time sequences."
   ]
  },
  {
   "cell_type": "code",
   "execution_count": null,
   "metadata": {
    "collapsed": false,
    "deletable": true,
    "editable": true
   },
   "outputs": [],
   "source": [
    "seq_num= 3   #number of data sequences\n",
    "seq_len= 10  #length of each sequence\n",
    "\n",
    "dhmm.generate_data( (seq_num,seq_len) )"
   ]
  },
  {
   "cell_type": "markdown",
   "metadata": {
    "deletable": true,
    "editable": true
   },
   "source": [
    "### Parameters Estimation - Baum Welch Algorithm\n",
    "We usually do not know the real parameters of the model. But, if we have sufficient data, we can estimate them by EM algorithm.  \n",
    "Here we will have several output variables (emissions) sequences and we will show, how to use them to train the model parameters\n",
    "\n",
    "Let's start by creating some artifficial data. We will use the previously defined *dhmm* model for it.\n"
   ]
  },
  {
   "cell_type": "code",
   "execution_count": null,
   "metadata": {
    "collapsed": false,
    "deletable": true,
    "editable": true
   },
   "outputs": [],
   "source": [
    "seq_num = 5\n",
    "seq_len = 50\n",
    "data = np.empty( (seq_num, seq_len), dtype=int )\n",
    "\n",
    "_ , data = dhmm.generate_data( (seq_num,seq_len) )\n",
    "\n",
    "data"
   ]
  },
  {
   "cell_type": "markdown",
   "metadata": {
    "deletable": true,
    "editable": true
   },
   "source": [
    "Now, we will create the model with random parameters, that will be eventually trained to much the data."
   ]
  },
  {
   "cell_type": "code",
   "execution_count": null,
   "metadata": {
    "collapsed": false,
    "deletable": true,
    "editable": true
   },
   "outputs": [],
   "source": [
    "dhmm_r = hmms.DtHMM.random( 2,3 )\n",
    "# We can print all the parameters.\n",
    "hmms.print_parameters( dhmm_r )"
   ]
  },
  {
   "cell_type": "markdown",
   "metadata": {
    "deletable": true,
    "editable": true
   },
   "source": [
    "Let's compare the dataset likelihood estimation of model used for generating the data and the random parameters model. "
   ]
  },
  {
   "cell_type": "code",
   "execution_count": null,
   "metadata": {
    "collapsed": false,
    "deletable": true,
    "editable": true
   },
   "outputs": [],
   "source": [
    "print( \"Generator model:\" , np.exp( dhmm.data_estimate(data)   ) )\n",
    "print( \"Random model:   \" ,np.exp( dhmm_r.data_estimate(data) ) )"
   ]
  },
  {
   "cell_type": "markdown",
   "metadata": {
    "deletable": true,
    "editable": true
   },
   "source": [
    "Most likely the probability that the data was generated by random model is extremly low.\n",
    "\n",
    "Now we can take the random model and reestimate it to fit the data better."
   ]
  },
  {
   "cell_type": "code",
   "execution_count": null,
   "metadata": {
    "collapsed": false,
    "deletable": true,
    "editable": true
   },
   "outputs": [],
   "source": [
    "dhmm_r.baum_welch( data, 10 )\n",
    "print( \"Reestimated model after 10 iterations:   \" ,np.exp( dhmm_r.data_estimate(data) ) )"
   ]
  },
  {
   "cell_type": "markdown",
   "metadata": {
    "deletable": true,
    "editable": true
   },
   "source": [
    "The probability of the reestimated model should now be similiar (possibly even higher) that the generator's model. If it is not, you can try to run the estimation procedure more time at different randomly generated models. It could happen that the estimation fall in the local optima.\n",
    "\n",
    "If you are satisfied with the results, you can run some more iteration to fine-tune it."
   ]
  },
  {
   "cell_type": "code",
   "execution_count": null,
   "metadata": {
    "collapsed": false,
    "deletable": true,
    "editable": true
   },
   "outputs": [],
   "source": [
    "dhmm_r.baum_welch( data, 100 )\n",
    "print( \"Reestimated model after 110 iterations:   \" ,np.exp( dhmm_r.data_estimate(data) ) )"
   ]
  },
  {
   "cell_type": "markdown",
   "metadata": {
    "deletable": true,
    "editable": true
   },
   "source": [
    "We can compare the parameters of the model."
   ]
  },
  {
   "cell_type": "code",
   "execution_count": null,
   "metadata": {
    "collapsed": false,
    "deletable": true,
    "editable": true
   },
   "outputs": [],
   "source": [
    "hmms.print_parameters( dhmm_r )\n",
    "hmms.print_parameters( dhmm )"
   ]
  },
  {
   "cell_type": "markdown",
   "metadata": {
    "collapsed": false,
    "deletable": true,
    "editable": true,
    "scrolled": true
   },
   "source": [
    "Alternatively, we can run *baum_welch_graph* method to get learning curve of estimated probabilities."
   ]
  },
  {
   "cell_type": "code",
   "execution_count": null,
   "metadata": {
    "collapsed": false,
    "deletable": true,
    "editable": true,
    "scrolled": false
   },
   "outputs": [],
   "source": [
    "dhmm_r = hmms.DtHMM.random(2,3) \n",
    "out = dhmm_r.baum_welch_graph( data, 50 )\n",
    "\n",
    "np.exp(out)"
   ]
  },
  {
   "cell_type": "markdown",
   "metadata": {
    "deletable": true,
    "editable": true
   },
   "source": [
    "Let's plot it in the graph, comparing the results in ratio with *real* data-generator model. ( Notice, it is the ratio of logaritmic probability values. )"
   ]
  },
  {
   "cell_type": "code",
   "execution_count": null,
   "metadata": {
    "collapsed": false,
    "deletable": true,
    "editable": true
   },
   "outputs": [],
   "source": [
    "real = dhmm.data_estimate(data)\n",
    "#For better visibility of the graph, we cut first two values.\n",
    "plt.plot( out[2:] / real  )\n",
    "plt.show()"
   ]
  },
  {
   "cell_type": "markdown",
   "metadata": {
    "deletable": true,
    "editable": true
   },
   "source": [
    "<a id='cthmm'></a>\n",
    "Part 2: Continuous Time Hidden Markov Model\n",
    "-----------------------------------------------------"
   ]
  },
  {
   "cell_type": "code",
   "execution_count": null,
   "metadata": {
    "collapsed": true,
    "deletable": true,
    "editable": true
   },
   "outputs": [],
   "source": [
    "import numpy as np\n",
    "import matplotlib.pyplot as plt\n",
    "import hmms\n",
    "\n",
    "%matplotlib inline"
   ]
  },
  {
   "cell_type": "markdown",
   "metadata": {
    "deletable": true,
    "editable": true
   },
   "source": [
    "### Construct CtHMM \n",
    "Construction of CtHMM is similar to the discrete model. \n",
    "\n",
    "You can directly initialize the CtHMM by passing the **model parameters**.  \n",
    "We will create simple CtHMM of three hidden states and three output variables."
   ]
  },
  {
   "cell_type": "code",
   "execution_count": null,
   "metadata": {
    "collapsed": false,
    "deletable": true,
    "editable": true
   },
   "outputs": [],
   "source": [
    "# Q is the matrix of transition rates from state [row] to state [column].\n",
    "Q = np.array( [[-0.375,0.125,0.25],[0.25,-0.5,0.25],[0.25,0.125,-0.375]] )\n",
    "# B is the matrix of probabilities that the state [row] will emmit output variable [column].\n",
    "B = np.array( [[0.8,0.05,0.15],[0.05,0.9,0.05],[0.2,0.05,0.75]] )\n",
    "# Pi is the vector of initial state probabilities.   \n",
    "Pi = np.array( [0.6,0,0.4] )\n",
    "\n",
    "# Create CtHMM by given parameters.\n",
    "chmm = hmms.CtHMM(Q,B,Pi)"
   ]
  },
  {
   "cell_type": "markdown",
   "metadata": {
    "deletable": true,
    "editable": true
   },
   "source": [
    "Or you can initialize it by **random parameters**. Passing the number of hidden states and output variables. "
   ]
  },
  {
   "cell_type": "code",
   "execution_count": null,
   "metadata": {
    "collapsed": true,
    "deletable": true,
    "editable": true
   },
   "outputs": [],
   "source": [
    "chmm_random = hmms.CtHMM.random(3,3)"
   ]
  },
  {
   "cell_type": "markdown",
   "metadata": {
    "deletable": true,
    "editable": true
   },
   "source": [
    "### Save & Read from File\n",
    "\n",
    "Once you have created the model you can save its parameters in file simply by calling save_params method."
   ]
  },
  {
   "cell_type": "code",
   "execution_count": null,
   "metadata": {
    "collapsed": false,
    "deletable": true,
    "editable": true
   },
   "outputs": [],
   "source": [
    "chmm.save_params(\"Models/hello_cthmm\") "
   ]
  },
  {
   "cell_type": "markdown",
   "metadata": {
    "deletable": true,
    "editable": true
   },
   "source": [
    "The method stored the parameters in .npz format.\n",
    "The saved file can be later used to read parametrs for model initialization."
   ]
  },
  {
   "cell_type": "code",
   "execution_count": null,
   "metadata": {
    "collapsed": false,
    "deletable": true,
    "editable": true
   },
   "outputs": [],
   "source": [
    "chmm_from_file = hmms.CtHMM.from_file( \"Models/hello_cthmm.npz\" )"
   ]
  },
  {
   "cell_type": "markdown",
   "metadata": {
    "deletable": true,
    "editable": true
   },
   "source": [
    "### Set & Get Parameters\n",
    "Later you can always set parameters with triple of methods corresponding to the constructors."
   ]
  },
  {
   "cell_type": "code",
   "execution_count": null,
   "metadata": {
    "collapsed": false,
    "deletable": true,
    "editable": true
   },
   "outputs": [],
   "source": [
    "chmm.set_params(Q,B,Pi)\n",
    "chmm.set_params_random(3,3)\n",
    "chmm.set_params_from_file( \"Models/hello_cthmm.npz\" )"
   ]
  },
  {
   "cell_type": "markdown",
   "metadata": {
    "deletable": true,
    "editable": true
   },
   "source": [
    "You can **get** parameters by calling them separately,"
   ]
  },
  {
   "cell_type": "code",
   "execution_count": null,
   "metadata": {
    "collapsed": false,
    "deletable": true,
    "editable": true
   },
   "outputs": [],
   "source": [
    "chmm.q, chmm.b, chmm.pi"
   ]
  },
  {
   "cell_type": "markdown",
   "metadata": {
    "deletable": true,
    "editable": true
   },
   "source": [
    "or get them all together as the triple."
   ]
  },
  {
   "cell_type": "code",
   "execution_count": null,
   "metadata": {
    "collapsed": false,
    "deletable": true,
    "editable": true
   },
   "outputs": [],
   "source": [
    "(A,B,Pi) = chmm.params"
   ]
  },
  {
   "cell_type": "markdown",
   "metadata": {
    "deletable": true,
    "editable": true
   },
   "source": [
    "### Generate Random Sequence\n",
    "Now we can use our model to **generate** time, state and emission sequence.\n",
    "The model will **randomly** choose which transition or emission will happen, taking into consideration the parameters we have previously defined.\n",
    "\n",
    "The times are generated with **exponencial** waiting times, you can define the parameter of exponencial distribution as second optional parameter. \n"
   ]
  },
  {
   "cell_type": "code",
   "execution_count": null,
   "metadata": {
    "collapsed": false,
    "deletable": true,
    "editable": true
   },
   "outputs": [],
   "source": [
    "seq_len = 10\n",
    "t_seq, s_seq, e_seq = chmm.generate( seq_len, 0.5)\n",
    "\n",
    "#resize plot\n",
    "plt.rcParams['figure.figsize'] = [20,20]\n",
    "\n",
    "hmms.plot_hmm( s_seq, e_seq, time=t_seq )"
   ]
  },
  {
   "cell_type": "markdown",
   "metadata": {
    "deletable": true,
    "editable": true
   },
   "source": [
    "### Find Most Likely State Sequence\n",
    "If we have corresponding time and emission sequence, we can find the most probable state sequence that would generate it given the current model parameters. Notice, that it can be different, than the actual sequence that has generated the emissions.  \n",
    "We will use Viterbi algorithm for the calculation."
   ]
  },
  {
   "cell_type": "code",
   "execution_count": null,
   "metadata": {
    "collapsed": false,
    "deletable": true,
    "editable": true
   },
   "outputs": [],
   "source": [
    "( log_prob, s_seq ) =  chmm.viterbi( t_seq, e_seq )\n",
    "# Let's print the most likely state sequence, it can be same or differ from the sequence above.\n",
    "hmms.plot_hmm( s_seq, e_seq, time = t_seq )\n",
    "print( \"Probability of being generated by the found state sequence:\", np.exp( log_prob ) )"
   ]
  },
  {
   "cell_type": "markdown",
   "metadata": {
    "deletable": true,
    "editable": true
   },
   "source": [
    "### Generate Artificial  Dataset\n",
    "You can easily generate many sequences in once by using the *generate_data* function.  \n",
    "The generated data are in the form that is suitable for training of parameters. \n",
    "You can switch *states=True*, if you want to generate also the corresponding state sequences.\n",
    "\n",
    "TODO: The times are generated with **exponencial** waiting times, you can define the parameter of exponencial distribution as second optional parameter. "
   ]
  },
  {
   "cell_type": "code",
   "execution_count": null,
   "metadata": {
    "collapsed": false,
    "deletable": true,
    "editable": true
   },
   "outputs": [],
   "source": [
    "seq_num= 5   #number of data sequences\n",
    "seq_len= 30  #length of each sequence\n",
    "\n",
    "t,e = chmm.generate_data( (seq_num,seq_len) )\n",
    "t,e"
   ]
  },
  {
   "cell_type": "markdown",
   "metadata": {
    "collapsed": true,
    "deletable": true,
    "editable": true
   },
   "source": [
    "### Parameters Estimation - Continuous Version of Baum Welch Algorithm\n",
    "\n",
    "We will use the previously generated data for the training of randomly generated model."
   ]
  },
  {
   "cell_type": "code",
   "execution_count": null,
   "metadata": {
    "collapsed": false,
    "deletable": true,
    "editable": true
   },
   "outputs": [],
   "source": [
    "chmm_r = hmms.CtHMM.random( 3,3 )\n",
    "# We can print all the parameters.\n",
    "hmms.print_parameters( chmm_r )"
   ]
  },
  {
   "cell_type": "markdown",
   "metadata": {
    "deletable": true,
    "editable": true
   },
   "source": [
    "Now we can compare the probabilities, that the data was generated by the given model. Its ratio is most probably not so big as in the disrete model. It is because the intervals between the observations are the source of many unknown, so it is pushing the probability of real model down. "
   ]
  },
  {
   "cell_type": "code",
   "execution_count": null,
   "metadata": {
    "collapsed": false,
    "deletable": true,
    "editable": true
   },
   "outputs": [],
   "source": [
    "print( \"Generator model:\" , np.exp( chmm.data_estimate(t,e)   ) )\n",
    "print( \"Random model:   \" ,np.exp( chmm_r.data_estimate(t,e) ) )"
   ]
  },
  {
   "cell_type": "markdown",
   "metadata": {
    "deletable": true,
    "editable": true
   },
   "source": [
    "Let's run the EM algorithm for couple of iterations."
   ]
  },
  {
   "cell_type": "code",
   "execution_count": null,
   "metadata": {
    "collapsed": false,
    "deletable": true,
    "editable": true
   },
   "outputs": [],
   "source": [
    "out = chmm_r.baum_welch_graph( t,e, 100 )\n",
    "\n",
    "np.exp(out)"
   ]
  },
  {
   "cell_type": "markdown",
   "metadata": {
    "deletable": true,
    "editable": true
   },
   "source": [
    "We will plot its probabilities estimations in ratio with generator model. (Notice, it is the ratio of logarithms of probabilities)"
   ]
  },
  {
   "cell_type": "code",
   "execution_count": null,
   "metadata": {
    "collapsed": false,
    "deletable": true,
    "editable": true
   },
   "outputs": [],
   "source": [
    "real = chmm.data_estimate( t, e )\n",
    "#For better visibility of the graph, we cut first two values.\n",
    "plt.plot( out[2:] / real  )\n",
    "\n",
    "plt.show()"
   ]
  },
  {
   "cell_type": "markdown",
   "metadata": {
    "deletable": true,
    "editable": true
   },
   "source": [
    "<a id='conv'></a>\n",
    "Part 3: Comparison of Models Convergences\n",
    "-----------------------------------------------------"
   ]
  },
  {
   "cell_type": "markdown",
   "metadata": {
    "deletable": true,
    "editable": true
   },
   "source": [
    "In this chapter we will compare the convergence rate of discrete and continuous models. It will show some functions usefull for convergence among model parameters.  "
   ]
  },
  {
   "cell_type": "code",
   "execution_count": null,
   "metadata": {
    "collapsed": true,
    "deletable": true,
    "editable": true
   },
   "outputs": [],
   "source": [
    "import numpy as np\n",
    "import matplotlib.pyplot as plt\n",
    "import hmms\n",
    "\n",
    "%matplotlib inline"
   ]
  },
  {
   "cell_type": "markdown",
   "metadata": {
    "deletable": true,
    "editable": true
   },
   "source": [
    "We will start by defining the continuous time model. For that, who have read the previous section, it will be the familiar."
   ]
  },
  {
   "cell_type": "code",
   "execution_count": null,
   "metadata": {
    "collapsed": false,
    "deletable": true,
    "editable": true
   },
   "outputs": [],
   "source": [
    "Q = np.array( [[-0.375,0.125,0.25],[0.25,-0.5,0.25],[0.25,0.125,-0.375]] )\n",
    "B = np.array( [[0.8,0.05,0.15],[0.05,0.9,0.05],[0.2,0.05,0.75]] )\n",
    "Pi = np.array( [0.6,0,0.4] )\n",
    "\n",
    "chmm = hmms.CtHMM( Q,B,Pi )\n",
    "hmms.print_parameters( chmm )"
   ]
  },
  {
   "cell_type": "markdown",
   "metadata": {
    "deletable": true,
    "editable": true
   },
   "source": [
    "We can simply create discrete model with equivalent parameters, using function *get_dthmm_params*.  \n",
    "By default, it will create the model with transition probabilities equal to one time unit probability transition in continuous model. You can pass the optional parameter for different time steps.\n"
   ]
  },
  {
   "cell_type": "code",
   "execution_count": null,
   "metadata": {
    "collapsed": false,
    "deletable": true,
    "editable": true
   },
   "outputs": [],
   "source": [
    "dhmm = hmms.DtHMM( *chmm.get_dthmm_params() )\n",
    "hmms.print_parameters( dhmm )"
   ]
  },
  {
   "cell_type": "markdown",
   "metadata": {
    "deletable": true,
    "editable": true
   },
   "source": [
    "We can let the disrete model to generate the data sufficient for both models by passing the *times* parameter as *True*."
   ]
  },
  {
   "cell_type": "code",
   "execution_count": null,
   "metadata": {
    "collapsed": false,
    "deletable": true,
    "editable": true
   },
   "outputs": [],
   "source": [
    "t,_,e = dhmm.generate_data( (50,50), times=True )   \n",
    "# The free space in the return triple is for the state sequences, we do not need them for the training "
   ]
  },
  {
   "cell_type": "markdown",
   "metadata": {
    "deletable": true,
    "editable": true
   },
   "source": [
    "We can compare the estimation of the data, using both of the model. (They should be the same.)"
   ]
  },
  {
   "cell_type": "code",
   "execution_count": null,
   "metadata": {
    "collapsed": false,
    "deletable": true,
    "editable": true
   },
   "outputs": [],
   "source": [
    "creal = chmm.data_estimate(t,e)\n",
    "dreal = dhmm.data_estimate(e)\n",
    "print(\"Data estimation by continuous model:\", creal)\n",
    "print(\"Data estimation by discrete model:  \", dreal)"
   ]
  },
  {
   "cell_type": "markdown",
   "metadata": {
    "deletable": true,
    "editable": true
   },
   "source": [
    "Now we will create two equivalent random models. "
   ]
  },
  {
   "cell_type": "code",
   "execution_count": null,
   "metadata": {
    "collapsed": false,
    "deletable": true,
    "editable": true
   },
   "outputs": [],
   "source": [
    "ct = hmms.CtHMM.random(3,3)\n",
    "dt = hmms.DtHMM( *ct.get_dthmm_params() )\n",
    "    \n",
    "hmms.print_parameters( ct )\n",
    "hmms.print_parameters( dt )"
   ]
  },
  {
   "cell_type": "markdown",
   "metadata": {
    "deletable": true,
    "editable": true
   },
   "source": [
    "We will train them at our dataset. (It can take a while.)"
   ]
  },
  {
   "cell_type": "code",
   "execution_count": null,
   "metadata": {
    "collapsed": false,
    "deletable": true,
    "editable": true
   },
   "outputs": [],
   "source": [
    "iter_num = 50\n",
    "outd = dt.baum_welch_graph( e, iter_num )\n",
    "outc = ct.baum_welch_graph( t,e, iter_num )\n",
    "outd,outc"
   ]
  },
  {
   "cell_type": "markdown",
   "metadata": {
    "collapsed": false,
    "deletable": true,
    "editable": true
   },
   "source": [
    "We can plot and compare both convergence rates. From the essence of models, the continuous model will probably  converge a bit slower, but finally will reach the similar value."
   ]
  },
  {
   "cell_type": "code",
   "execution_count": null,
   "metadata": {
    "collapsed": false,
    "deletable": true,
    "editable": true
   },
   "outputs": [],
   "source": [
    "plt.plot( outd[1:] / dreal  )\n",
    "plt.plot( outc[1:] / dreal  )\n",
    "#plt.savefig('my_plot.svg')  #Optional save the figure\n",
    "plt.show()"
   ]
  },
  {
   "cell_type": "code",
   "execution_count": null,
   "metadata": {
    "collapsed": false,
    "deletable": true,
    "editable": true
   },
   "outputs": [],
   "source": []
  },
  {
   "cell_type": "markdown",
   "metadata": {
    "collapsed": false,
    "deletable": true,
    "editable": true
   },
   "source": [
    "<hr/>\n",
    "You can play with the models as you like and feel free to share your result with me, if you have made some interesting experiment!"
   ]
  },
  {
   "cell_type": "markdown",
   "metadata": {
    "collapsed": true,
    "deletable": true,
    "editable": true
   },
   "source": [
    "Contact: (lopatovsky@gmail.com)"
   ]
  },
  {
   "cell_type": "markdown",
   "metadata": {
    "deletable": true,
    "editable": true
   },
   "source": [
    "### Experimental features\n",
    "#### Fast Convergence"
   ]
  },
  {
   "cell_type": "code",
   "execution_count": null,
   "metadata": {
    "collapsed": false,
    "deletable": true,
    "editable": true
   },
   "outputs": [],
   "source": [
    "seq_num= 1   #number of data sequences\n",
    "seq_len= 4  #length of each sequence\n",
    "\n",
    "t,e = chmm.generate_data( (seq_num,seq_len) )\n",
    "t,e\n",
    "\n",
    "\n",
    "t = np.array([[ 0,1,3,5,6,7,9,11,12]])\n",
    "e = np.array([[ 0,0,0,1,2,1,0,0,1]])\n"
   ]
  },
  {
   "cell_type": "code",
   "execution_count": null,
   "metadata": {
    "collapsed": false,
    "deletable": true,
    "editable": true
   },
   "outputs": [],
   "source": [
    "ct1 = hmms.CtHMM.random(3,3)\n",
    "ct2 = hmms.CtHMM( *ct1.params )"
   ]
  },
  {
   "cell_type": "code",
   "execution_count": null,
   "metadata": {
    "collapsed": false,
    "deletable": true,
    "editable": true
   },
   "outputs": [],
   "source": [
    "iter_num = 50\n",
    "out1 = ct1.baum_welch_graph( t,e, iter_num )\n",
    "out2 = ct2.baum_welch_graph2( t,e, iter_num )\n",
    "out1,out2"
   ]
  },
  {
   "cell_type": "code",
   "execution_count": null,
   "metadata": {
    "collapsed": false,
    "deletable": true,
    "editable": true
   },
   "outputs": [],
   "source": [
    "plt.plot( out1[1:] / dreal , color = \"red\" )\n",
    "plt.plot( out2[1:] / dreal  )\n",
    "#plt.savefig('graph.svg')  #Optional save the figure\n",
    "\n",
    "plt.show()"
   ]
  },
  {
   "cell_type": "code",
   "execution_count": null,
   "metadata": {
    "collapsed": false,
    "deletable": true,
    "editable": true
   },
   "outputs": [],
   "source": [
    "hmms.print_parameters(ct1)\n",
    "hmms.print_parameters(ct2)"
   ]
  },
  {
   "cell_type": "markdown",
   "metadata": {
    "collapsed": true,
    "deletable": true,
    "editable": true
   },
   "source": [
    "Exponential random generation"
   ]
  },
  {
   "cell_type": "code",
   "execution_count": 18,
   "metadata": {
    "collapsed": true,
    "deletable": true,
    "editable": true
   },
   "outputs": [],
   "source": [
    "import numpy as np\n",
    "import matplotlib.pyplot as plt\n",
    "import hmms\n",
    "\n",
    "%matplotlib inline"
   ]
  },
  {
   "cell_type": "code",
   "execution_count": 19,
   "metadata": {
    "collapsed": false,
    "deletable": true,
    "editable": true
   },
   "outputs": [],
   "source": [
    "# Q is the matrix of transition rates from state [row] to state [column].\n",
    "Q = np.array( [[-0.375,0.125,0.25],[0.25,-0.5,0.25],[0.25,0.125,-0.375]] )\n",
    "# B is the matrix of probabilities that the state [row] will emmit output variable [column].\n",
    "B = np.array( [[0.8,0.05,0.15],[0.05,0.9,0.05],[0.2,0.05,0.75]] )\n",
    "# Pi is the vector of initial state probabilities.   \n",
    "Pi = np.array( [0.6,0,0.4] )\n",
    "\n",
    "# Create CtHMM by given parameters.\n",
    "chmm = hmms.CtHMM(Q,B,Pi)"
   ]
  },
  {
   "cell_type": "code",
   "execution_count": 20,
   "metadata": {
    "collapsed": true,
    "deletable": true,
    "editable": true
   },
   "outputs": [],
   "source": [
    "seq_num= 5   #number of data sequences\n",
    "seq_len= 30  #length of each sequence\n",
    "\n",
    "t,e = chmm.generate_data( (seq_num,seq_len) )"
   ]
  },
  {
   "cell_type": "code",
   "execution_count": 21,
   "metadata": {
    "collapsed": false,
    "deletable": true,
    "editable": true
   },
   "outputs": [],
   "source": [
    "chmm_r = hmms.CtHMM.random( 3,3 )\n",
    "chmm_re = hmms.CtHMM.random_exp( 3,3 )\n",
    "\n",
    "out  =  hmms.chmm_r.multi_baum_welch( 10, t,e, 100 )\n",
    "oute = chmm_re.multi_baum_welch( 10, t,e, 100 )\n",
    "\n",
    "\n",
    "#aout =  np.average(out,  axis=0)\n",
    "#aoute = np.average(oute, axis=0)\n"
   ]
  },
  {
   "cell_type": "code",
   "execution_count": 31,
   "metadata": {
    "collapsed": false,
    "deletable": true,
    "editable": true
   },
   "outputs": [
    {
     "name": "stdout",
     "output_type": "stream",
     "text": [
      "[ 1.0563678   1.00813395  1.00736181  1.00668074  1.00597255  1.00524279\n",
      "  1.00449749  1.00374268  1.00298401  1.002226    1.00147317  1.00072948\n",
      "  0.9999984   0.99928305  0.9985854   0.9979081   0.99725208  0.99661857\n",
      "  0.99600794  0.9954201   0.99485449  0.99431082  0.99378796  0.9932847\n",
      "  0.99280007  0.9923325   0.99188074  0.99144358  0.99101999  0.99060844\n",
      "  0.99020792  0.98981747  0.98943616  0.98906332  0.98869821  0.98834015\n",
      "  0.98798898  0.98764411  0.98730536  0.98697255  0.98664567  0.98632473\n",
      "  0.9860099   0.9857012   0.9853989   0.98510319  0.98481426  0.98453249\n",
      "  0.98425835  0.98399183  0.98373342  0.9834832   0.98324164  0.98300865\n",
      "  0.9827847   0.9825697   0.98236374  0.98216682  0.98197904  0.9818002\n",
      "  0.98163012  0.98146871  0.98131567  0.98117055  0.98103334  0.98090357\n",
      "  0.98078067  0.98066436  0.98055427  0.98044974  0.98035057  0.98025612\n",
      "  0.98016599  0.98007982  0.97999695  0.97991709  0.97983958  0.97976434\n",
      "  0.97969079  0.97961856  0.97954727  0.97947673  0.97940647  0.97933641\n",
      "  0.97926606  0.97919552  0.97912452  0.97905294  0.97898071  0.97890782\n",
      "  0.97883427  0.97876015  0.97868557  0.97861061  0.97853555  0.9784603\n",
      "  0.97838515  0.97831019  0.97823579  0.97816177  0.9780885 ]\n",
      "[ 0.9780885   0.97801599  0.97794432  0.9778735   0.97780362  0.97773469\n",
      "  0.97766688  0.97760002  0.97753419  0.9774693   0.97740555  0.97734264\n",
      "  0.97728086  0.97721993  0.97716003  0.97710108  0.97704307  0.976986\n",
      "  0.97692987  0.97687459  0.97682035  0.97676695  0.9767144   0.97666279\n",
      "  0.97661213  0.97656221  0.97651334  0.97646521  0.97641794  0.97637151\n",
      "  0.97632593  0.9762812   0.97623731  0.97619418  0.9761518   0.97611027\n",
      "  0.97606949  0.97602947  0.97599029  0.97595178  0.97591401  0.97587691\n",
      "  0.97584065  0.97580496  0.97577002  0.97573574  0.97570212  0.97566916\n",
      "  0.97563676  0.97560512  0.97557404  0.97554362  0.97551377  0.97548448\n",
      "  0.97545576  0.9754276   0.97540001  0.97537288  0.97534642  0.97532043\n",
      "  0.97529491  0.97526995  0.97524537  0.97522145  0.97519791  0.97517474\n",
      "  0.97515214  0.97512991  0.97510825  0.97508688  0.97506597  0.97504544\n",
      "  0.97502538  0.9750056   0.9749863   0.97496727  0.97494872  0.97493045\n",
      "  0.97491256  0.97489495  0.97487771  0.97486076  0.97484419  0.9748279\n",
      "  0.97481189  0.97479625  0.97478081  0.97476565  0.97475086  0.97473617\n",
      "  0.97472186  0.97470773  0.97469389  0.97468032  0.97466695  0.97465377\n",
      "  0.97464077  0.97462815  0.97461553  0.97460329  0.97459114]\n",
      "[ 0.97459114  0.97457918  0.97456741  0.97455592  0.97454443  0.97453322\n",
      "  0.97452211  0.97451109  0.97450036  0.97448972  0.97447917  0.97446881\n",
      "  0.97445864  0.97444847  0.97443848  0.9744285   0.97441861  0.97440891\n",
      "  0.97439931  0.9743898   0.97438028  0.97437096  0.97436173  0.97435241\n",
      "  0.97434327  0.97433423  0.9743251   0.97431606  0.97430711  0.97429816\n",
      "  0.97428922  0.97428037  0.97427151  0.97426257  0.97425371  0.97424486\n",
      "  0.97423591  0.97422697  0.97421812  0.97420908  0.97420022  0.97419118\n",
      "  0.97418205  0.97417291  0.97416378  0.97415455  0.97414522  0.97413581\n",
      "  0.9741263   0.97411669  0.9741069   0.9740971   0.97408712  0.97407704\n",
      "  0.97406668  0.97405623  0.97404568  0.97403495  0.97402393  0.97401272\n",
      "  0.97400133  0.97398974  0.97397788  0.97396563  0.9739532   0.97394049\n",
      "  0.97392749  0.97391421  0.97390047  0.97388634  0.97387202  0.97385714\n",
      "  0.97384189  0.97382616  0.97380996  0.9737932   0.97377597  0.97375817\n",
      "  0.97373971  0.97372069  0.9737011   0.97368066  0.97365966  0.97363772\n",
      "  0.97361502  0.97359148  0.97356699  0.97354157  0.97351501  0.97348742\n",
      "  0.97345879  0.97342884  0.97339757  0.97336499  0.9733309   0.97329521\n",
      "  0.97325801  0.97321902  0.97317805  0.9731352   0.97309019]\n",
      "[ 0.97309019  0.97304282  0.97299309  0.97294083  0.97288564  0.97282744\n",
      "  0.97276613  0.97270125  0.97263269  0.97256008  0.97248314  0.97240149\n",
      "  0.97231475  0.97222246  0.97212424  0.97201942  0.97190754  0.97178785\n",
      "  0.97165968  0.97152218  0.9713747   0.97121593  0.971045    0.97086051\n",
      "  0.97066133  0.97044586  0.9702124   0.96995945  0.96968493  0.96938706\n",
      "  0.96906366  0.96871277  0.9683323   0.96792076  0.96747654  0.96699898\n",
      "  0.96648817  0.96594535  0.96537249  0.96477335  0.96415217  0.96351367\n",
      "  0.96286151  0.96219711  0.96151783  0.96081585  0.96007781  0.95928665\n",
      "  0.95842872  0.95750807  0.95656293  0.95566874  0.95490706  0.95431941\n",
      "  0.95389675  0.95360284  0.95339904  0.95325543  0.95315117  0.95307282\n",
      "  0.95301161  0.95296226  0.95292129  0.95288654  0.9528566   0.95283051\n",
      "  0.95280744  0.952787    0.95276873  0.95275235  0.95273765  0.95272438\n",
      "  0.95271242  0.95270159  0.9526917   0.95268275  0.95267465  0.95266721\n",
      "  0.95266053  0.95265431  0.95264875  0.95264357  0.95263887  0.95263463\n",
      "  0.95263067  0.95262709  0.9526238   0.95262088  0.95261815  0.9526156\n",
      "  0.95261334  0.95261127  0.95260929  0.9526076   0.952606    0.95260449\n",
      "  0.95260317  0.95260185  0.95260082  0.95259969  0.95259884]\n",
      "[ 0.95259884  0.9525979   0.95259724  0.95259649  0.95259573  0.95259517\n",
      "  0.9525947   0.95259413  0.95259366  0.95259328  0.95259291  0.95259253\n",
      "  0.95259225  0.95259197  0.95259168  0.9525914   0.95259131  0.95259112\n",
      "  0.95259084  0.95259065  0.95259055  0.95259037  0.95259027  0.95259018\n",
      "  0.95259008  0.95258989  0.9525898   0.95258971  0.95258971  0.95258961\n",
      "  0.95258961  0.95258952  0.95258942  0.95258942  0.95258933  0.95258933\n",
      "  0.95258933  0.95258924  0.95258924  0.95258924  0.95258924  0.95258914\n",
      "  0.95258914  0.95258905  0.95258905  0.95258905  0.95258905  0.95258905\n",
      "  0.95258905  0.95258905  0.95258905  0.95258895  0.95258905  0.95258895\n",
      "  0.95258895  0.95258895  0.95258895  0.95258895  0.95258895  0.95258905\n",
      "  0.95258895  0.95258895  0.95258895  0.95258886  0.95258886  0.95258886\n",
      "  0.95258895  0.95258895  0.95258886  0.95258886  0.95258895  0.95258895\n",
      "  0.95258895  0.95258895  0.95258886  0.95258886  0.95258895  0.95258886\n",
      "  0.95258886  0.95258895  0.95258886  0.95258895  0.95258886  0.95258886\n",
      "  0.95258895  0.95258895  0.95258886  0.95258886  0.95258886  0.95258886\n",
      "  0.95258895  0.95258886  0.95258886  0.95258886  0.95258895  0.95258886\n",
      "  0.95258895  0.95258886  0.95258895  0.95258886  0.95258895]\n",
      "[ 0.95258895  0.95258895  0.95258886  0.95258886  0.95258886  0.95258886\n",
      "  0.95258886  0.95258886  0.95258895  0.95258895  0.95258886  0.95258895\n",
      "  0.95258886  0.95258886  0.95258895  0.95258886  0.95258886  0.95258886\n",
      "  0.95258886  0.95258886  0.95258886  0.95258886  0.95258886  0.95258886\n",
      "  0.95258886  0.95258886  0.95258886  0.95258886  0.95258886  0.95258886\n",
      "  0.95258886  0.95258886  0.95258886  0.95258886  0.95258895  0.95258886\n",
      "  0.95258886  0.95258886  0.95258895  0.95258895  0.95258895  0.95258895\n",
      "  0.95258886  0.95258886  0.95258895  0.95258886  0.95258895  0.95258886\n",
      "  0.95258886  0.95258886  0.95258895  0.95258895  0.95258886  0.95258886\n",
      "  0.95258886  0.95258886  0.95258886  0.95258886  0.95258886  0.95258886\n",
      "  0.95258895  0.95258895  0.95258895  0.95258886  0.95258895  0.95258895\n",
      "  0.95258895  0.95258886  0.95258886  0.95258886  0.95258886  0.95258886\n",
      "  0.95258886  0.95258886  0.95258886  0.95258886  0.95258886  0.95258886\n",
      "  0.95258886  0.95258895  0.95258895  0.95258895  0.95258895  0.95258895\n",
      "  0.95258895  0.95258886  0.95258886  0.95258895  0.95258895  0.95258895\n",
      "  0.95258895  0.95258895  0.95258895  0.95258895  0.95258895  0.95258895\n",
      "  0.95258886  0.95258886  0.95258886  0.95258895  0.95258895]\n",
      "[ 0.95258895  0.95258895  0.95258895  0.95258895  0.95258886  0.95258886\n",
      "  0.95258886  0.95258886  0.95258886  0.95258886  0.95258886  0.95258886\n",
      "  0.95258886  0.95258886  0.95258886  0.95258886  0.95258886  0.95258886\n",
      "  0.95258886  0.95258886  0.95258886  0.95258886  0.95258886  0.95258886\n",
      "  0.95258886  0.95258886  0.95258886  0.95258886  0.95258886  0.95258886\n",
      "  0.95258886  0.95258886  0.95258886  0.95258886  0.95258886  0.95258886\n",
      "  0.95258886  0.95258886  0.95258886  0.95258886  0.95258886  0.95258886\n",
      "  0.95258886  0.95258886  0.95258886  0.95258886  0.95258886  0.95258886\n",
      "  0.95258886  0.95258886  0.95258886  0.95258886  0.95258886  0.95258886\n",
      "  0.95258886  0.95258886  0.95258886  0.95258886  0.95258886  0.95258886\n",
      "  0.95258886  0.95258886  0.95258886  0.95258886  0.95258886  0.95258886\n",
      "  0.95258886  0.95258886  0.95258886  0.95258886  0.95258886  0.95258886\n",
      "  0.95258886  0.95258886  0.95258886  0.95258886  0.95258886  0.95258886\n",
      "  0.95258886  0.95258886  0.95258886  0.95258886  0.95258886  0.95258886\n",
      "  0.95258886  0.95258886  0.95258886  0.95258886  0.95258886  0.95258886\n",
      "  0.95258886  0.95258886  0.95258886  0.95258886  0.95258886  0.95258886\n",
      "  0.95258886  0.95258886  0.95258886  0.95258886  0.95258886]\n",
      "[ 0.95258886  0.95258886  0.95258886  0.95258886  0.95258886  0.95258886\n",
      "  0.95258886  0.95258886  0.95258886  0.95258886  0.95258886  0.95258886\n",
      "  0.95258886  0.95258886  0.95258886  0.95258886  0.95258886  0.95258886\n",
      "  0.95258886  0.95258886  0.95258886  0.95258886  0.95258886  0.95258886\n",
      "  0.95258886  0.95258886  0.95258886  0.95258886  0.95258886  0.95258886\n",
      "  0.95258886  0.95258886  0.95258886  0.95258886  0.95258886  0.95258886\n",
      "  0.95258886  0.95258886  0.95258886  0.95258886  0.95258886  0.95258886\n",
      "  0.95258886  0.95258886  0.95258886  0.95258886  0.95258886  0.95258886\n",
      "  0.95258886  0.95258886  0.95258886  0.95258886  0.95258886  0.95258886\n",
      "  0.95258886  0.95258886  0.95258886  0.95258886  0.95258886  0.95258886\n",
      "  0.95258886  0.95258886  0.95258886  0.95258886  0.95258886  0.95258886\n",
      "  0.95258886  0.95258886  0.95258886  0.95258886  0.95258886  0.95258886\n",
      "  0.95258886  0.95258886  0.95258886  0.95258886  0.95258886  0.95258886\n",
      "  0.95258886  0.95258886  0.95258886  0.95258886  0.95258886  0.95258886\n",
      "  0.95258886  0.95258886  0.95258886  0.95258886  0.95258886  0.95258886\n",
      "  0.95258886  0.95258886  0.95258886  0.95258886  0.95258886  0.95258886\n",
      "  0.95258886  0.95258886  0.95258886  0.95258886  0.95258886]\n",
      "[ 0.95258886  0.95258886  0.95258886  0.95258886  0.95258886  0.95258886\n",
      "  0.95258886  0.95258886  0.95258886  0.95258886  0.95258886  0.95258886\n",
      "  0.95258886  0.95258886  0.95258886  0.95258886  0.95258886  0.95258886\n",
      "  0.95258886  0.95258886  0.95258886  0.95258886  0.95258886  0.95258886\n",
      "  0.95258886  0.95258886  0.95258886  0.95258886  0.95258886  0.95258886\n",
      "  0.95258886  0.95258886  0.95258886  0.95258886  0.95258886  0.95258886\n",
      "  0.95258886  0.95258886  0.95258886  0.95258886  0.95258886  0.95258886\n",
      "  0.95258886  0.95258886  0.95258886  0.95258886  0.95258886  0.95258886\n",
      "  0.95258886  0.95258886  0.95258886  0.95258886  0.95258886  0.95258886\n",
      "  0.95258886  0.95258886  0.95258886  0.95258886  0.95258886  0.95258886\n",
      "  0.95258886  0.95258886  0.95258886  0.95258886  0.95258886  0.95258886\n",
      "  0.95258886  0.95258886  0.95258886  0.95258886  0.95258886  0.95258886\n",
      "  0.95258886  0.95258886  0.95258886  0.95258886  0.95258886  0.95258886\n",
      "  0.95258886  0.95258886  0.95258886  0.95258886  0.95258886  0.95258886\n",
      "  0.95258886  0.95258886  0.95258886  0.95258886  0.95258886  0.95258886\n",
      "  0.95258886  0.95258886  0.95258886  0.95258886  0.95258886  0.95258886\n",
      "  0.95258886  0.95258886  0.95258886  0.95258886  0.95258886]\n",
      "[ 0.95258886  0.95258886  0.95258886  0.95258886  0.95258886  0.95258886\n",
      "  0.95258886  0.95258886  0.95258886  0.95258886  0.95258886  0.95258886\n",
      "  0.95258886  0.95258886  0.95258886  0.95258886  0.95258886  0.95258886\n",
      "  0.95258886  0.95258886  0.95258886  0.95258886  0.95258886  0.95258886\n",
      "  0.95258886  0.95258886  0.95258886  0.95258886  0.95258886  0.95258886\n",
      "  0.95258886  0.95258886  0.95258886  0.95258886  0.95258886  0.95258886\n",
      "  0.95258886  0.95258886  0.95258886  0.95258886  0.95258886  0.95258886\n",
      "  0.95258886  0.95258886  0.95258886  0.95258886  0.95258886  0.95258886\n",
      "  0.95258886  0.95258886  0.95258886  0.95258886  0.95258886  0.95258886\n",
      "  0.95258886  0.95258886  0.95258886  0.95258886  0.95258886  0.95258886\n",
      "  0.95258886  0.95258886  0.95258886  0.95258886  0.95258886  0.95258886\n",
      "  0.95258886  0.95258886  0.95258886  0.95258886  0.95258886  0.95258886\n",
      "  0.95258886  0.95258886  0.95258886  0.95258886  0.95258886  0.95258886\n",
      "  0.95258886  0.95258886  0.95258886  0.95258886  0.95258886  0.95258886\n",
      "  0.95258886  0.95258886  0.95258886  0.95258886  0.95258886  0.95258886\n",
      "  0.95258886  0.95258886  0.95258886  0.95258886  0.95258886  0.95258886\n",
      "  0.95258886  0.95258886  0.95258886  0.95258886  0.95258886]\n"
     ]
    },
    {
     "data": {
      "image/png": "[encoded data removed]",
      "text/plain": [
       "<matplotlib.figure.Figure at 0x7f1b526f62e8>"
      ]
     },
     "metadata": {},
     "output_type": "display_data"
    }
   ],
   "source": [
    "aout =  np.average(out,  axis=0)\n",
    "aoute = np.average(oute, axis=0)\n",
    "\n",
    "mout =  np.min(out,  axis=0)\n",
    "moute = np.min(oute, axis=0)\n",
    "\n",
    "\n",
    "real = chmm.data_estimate( t, e )\n",
    "#For better visibility of the graph, we cut first two values.\n",
    "\n",
    "offset = 3\n",
    "\n",
    "#plt.plot(  aout[offset:] / real , color = \"red\" )\n",
    "#plt.plot( aoute[offset:] / real , color = \"blue\" )\n",
    "\n",
    "#plt.plot(  mout[offset:] / real , color = \"orange\" )\n",
    "#plt.plot( moute[offset:] / real , color = \"green\")\n",
    "\n",
    "for line in out:\n",
    "    print( line/real )\n",
    "    plt.plot(  line[offset:] / real )\n",
    "\n",
    "\n",
    "plt.show()"
   ]
  },
  {
   "cell_type": "code",
   "execution_count": null,
   "metadata": {
    "collapsed": false,
    "deletable": true,
    "editable": true
   },
   "outputs": [],
   "source": [
    "out\n",
    "\n",
    "\n"
   ]
  },
  {
   "cell_type": "code",
   "execution_count": null,
   "metadata": {
    "collapsed": false,
    "deletable": true,
    "editable": true
   },
   "outputs": [],
   "source": [
    "oute"
   ]
  },
  {
   "cell_type": "code",
   "execution_count": null,
   "metadata": {
    "collapsed": true,
    "deletable": true,
    "editable": true
   },
   "outputs": [],
   "source": []
  }
 ],
 "metadata": {
  "kernelspec": {
   "display_name": "Python 3",
   "language": "python",
   "name": "python3"
  },
  "language_info": {
   "codemirror_mode": {
    "name": "ipython",
    "version": 3
   },
   "file_extension": ".py",
   "mimetype": "text/x-python",
   "name": "python",
   "nbconvert_exporter": "python",
   "pygments_lexer": "ipython3",
   "version": "3.5.2"
  }
 },
 "nbformat": 4,
 "nbformat_minor": 2
}
