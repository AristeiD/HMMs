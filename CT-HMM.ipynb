{
 "cells": [
  {
   "cell_type": "markdown",
   "metadata": {
    "deletable": true,
    "editable": true
   },
   "source": [
    "HMMs Library \n",
    "============================\n",
    "#### (Discrete & Continuous hidden markov models )\n",
    "\n",
    "The document contain the tutorial ( usage explained by example ) for the hidden markov models library [link to pip].\n",
    "* [The **first** part](#dthmm) will cover disrete-time hidden markov model (**DtHMM**)\n",
    "* [The **second** part](#cthmm) will be dedicated to continuous-time hidden markov model (**CtHMM**)\n",
    "* [The **third** part](#conv) will compare the convergences of **both** models\n",
    "\n",
    "The all of the part are independent, so you do not need to run all notebook, if you are interested only in one of them. \n",
    "\n",
    "\n",
    "If you are not familiar with the hidden markov model theory, We recommend ...\n",
    "%todo: refer to DP theory, (simple guide to cthmm?), github, sources\n"
   ]
  },
  {
   "cell_type": "markdown",
   "metadata": {
    "deletable": true,
    "editable": true
   },
   "source": [
    "<a id='dthmm'></a>\n",
    "Part 1: Discrete Time Hidden Markov Model\n",
    "---------------------------------------------------"
   ]
  },
  {
   "cell_type": "code",
   "execution_count": 1,
   "metadata": {
    "collapsed": false,
    "deletable": true,
    "editable": true
   },
   "outputs": [],
   "source": [
    "import numpy as np\n",
    "import matplotlib.pyplot as plt\n",
    "import hmms\n",
    "\n",
    "%matplotlib inline"
   ]
  },
  {
   "cell_type": "markdown",
   "metadata": {
    "deletable": true,
    "editable": true
   },
   "source": [
    "### Construct DtHMM \n",
    "You can directly initialize the DtHMM by passing the **model parameters**.  \n",
    "\n",
    "We will create simple DtHMM of two hidden states and three output variables."
   ]
  },
  {
   "cell_type": "code",
   "execution_count": 2,
   "metadata": {
    "collapsed": false,
    "deletable": true,
    "editable": true
   },
   "outputs": [],
   "source": [
    "# A is the matrix of transition probabilities from state [row] to state [column].\n",
    "A = np.array([[0.9,0.1],[0.4,0.6]])\n",
    "# B is the matrix of probabilities that the state [row] will emmit output variable [column].\n",
    "B = np.array([[0.9,0.08,0.02],[0.2,0.5,0.3]])\n",
    "# Pi is the vector of initial state probabilities.   \n",
    "Pi = np.array( [0.8,0.2] )\n",
    "\n",
    "# Create DtHMM by given parameters.\n",
    "dhmm = hmms.DtHMM(A,B,Pi)"
   ]
  },
  {
   "cell_type": "markdown",
   "metadata": {
    "deletable": true,
    "editable": true
   },
   "source": [
    "Or you can initialize it by **random parameters**. Passing the number of hidden states and output variables. "
   ]
  },
  {
   "cell_type": "code",
   "execution_count": 3,
   "metadata": {
    "collapsed": false,
    "deletable": true,
    "editable": true
   },
   "outputs": [],
   "source": [
    "dhmm_random = hmms.DtHMM.random(2,3)"
   ]
  },
  {
   "cell_type": "markdown",
   "metadata": {
    "deletable": true,
    "editable": true
   },
   "source": [
    "### Save & Read from File\n",
    "Once you have created the model you can **save** its parameters in file simply by calling *save_params* method.  "
   ]
  },
  {
   "cell_type": "code",
   "execution_count": 4,
   "metadata": {
    "collapsed": false,
    "deletable": true,
    "editable": true
   },
   "outputs": [],
   "source": [
    "dhmm.save_params(\"Models/hello_dthmm\") "
   ]
  },
  {
   "cell_type": "markdown",
   "metadata": {
    "deletable": true,
    "editable": true
   },
   "source": [
    "The method stored the parameters in *.npz* format.  \n",
    "\n",
    "The saved file can be later used to **read** parametrs for model initialization."
   ]
  },
  {
   "cell_type": "code",
   "execution_count": 5,
   "metadata": {
    "collapsed": false,
    "deletable": true,
    "editable": true
   },
   "outputs": [],
   "source": [
    "dhmm_from_file = hmms.DtHMM.from_file( \"Models/hello_dthmm.npz\" )"
   ]
  },
  {
   "cell_type": "markdown",
   "metadata": {
    "deletable": true,
    "editable": true
   },
   "source": [
    "### Set & Get Parameters\n",
    "Later you can always **set** parameters with triple of methods corresponding to the constructors."
   ]
  },
  {
   "cell_type": "code",
   "execution_count": 6,
   "metadata": {
    "collapsed": false,
    "deletable": true,
    "editable": true,
    "scrolled": true
   },
   "outputs": [],
   "source": [
    "dhmm.set_params(A,B,Pi)\n",
    "dhmm.set_params_random(2,3)\n",
    "dhmm.set_params_from_file( \"Models/hello_dthmm.npz\" )"
   ]
  },
  {
   "cell_type": "markdown",
   "metadata": {
    "deletable": true,
    "editable": true
   },
   "source": [
    "You can **get** parameters by calling them separately,"
   ]
  },
  {
   "cell_type": "code",
   "execution_count": 7,
   "metadata": {
    "collapsed": false,
    "deletable": true,
    "editable": true
   },
   "outputs": [
    {
     "data": {
      "text/plain": [
       "(array([[ 0.9,  0.1],\n",
       "        [ 0.4,  0.6]]), array([[ 0.9 ,  0.08,  0.02],\n",
       "        [ 0.2 ,  0.5 ,  0.3 ]]), array([ 0.8,  0.2]))"
      ]
     },
     "execution_count": 7,
     "metadata": {},
     "output_type": "execute_result"
    }
   ],
   "source": [
    "dhmm.a, dhmm.b, dhmm.pi"
   ]
  },
  {
   "cell_type": "markdown",
   "metadata": {
    "deletable": true,
    "editable": true
   },
   "source": [
    "or **get** them **all** together as the triple."
   ]
  },
  {
   "cell_type": "code",
   "execution_count": 8,
   "metadata": {
    "collapsed": false,
    "deletable": true,
    "editable": true
   },
   "outputs": [],
   "source": [
    "(A,B,Pi) = dhmm.params"
   ]
  },
  {
   "cell_type": "markdown",
   "metadata": {
    "deletable": true,
    "editable": true
   },
   "source": [
    "### Generate Random State and Emission Sequence\n",
    " Now we can use our model to generate state and emission sequence.   \n",
    " The model will randomly choose which transition or emission will happen, taking into consideration the parameters we have previously defined.\n"
   ]
  },
  {
   "cell_type": "code",
   "execution_count": 9,
   "metadata": {
    "collapsed": false,
    "deletable": true,
    "editable": true
   },
   "outputs": [
    {
     "data": {
      "image/png": "[encoded data removed]",
      "text/plain": [
       "<matplotlib.figure.Figure at 0x7fbc2a2dbd30>"
      ]
     },
     "metadata": {},
     "output_type": "display_data"
    }
   ],
   "source": [
    "seq_len = 20\n",
    "s_seq, e_seq = dhmm.generate( seq_len )\n",
    "\n",
    "#resize plot\n",
    "plt.rcParams['figure.figsize'] = [20,20]\n",
    "\n",
    "hmms.plot_hmm( s_seq, e_seq )"
   ]
  },
  {
   "cell_type": "markdown",
   "metadata": {
    "collapsed": false,
    "deletable": true,
    "editable": true
   },
   "source": [
    "### Find Most Likely State Sequence\n",
    "If we have the model parameters and emission sequence, we can find the most probable state sequence that would generate it. Notice, that it can be different, than the actual sequence that has generated the emissions.  \n",
    "We will use Viterbi algorithm for the calculation.\n"
   ]
  },
  {
   "cell_type": "code",
   "execution_count": 10,
   "metadata": {
    "collapsed": false,
    "deletable": true,
    "editable": true
   },
   "outputs": [
    {
     "data": {
      "image/png": "[encoded data removed]",
      "text/plain": [
       "<matplotlib.figure.Figure at 0x7fbc2a2dbb70>"
      ]
     },
     "metadata": {},
     "output_type": "display_data"
    }
   ],
   "source": [
    "( log_prob, s_seq ) =  dhmm.viterbi( e_seq )\n",
    "# Let's print the most likely state sequence, it can be same or differ from the sequence above.\n",
    "hmms.plot_hmm( s_seq, e_seq )"
   ]
  },
  {
   "cell_type": "markdown",
   "metadata": {
    "collapsed": true,
    "deletable": true,
    "editable": true
   },
   "source": [
    "The *log_prob* parameter store the probability of the sequence.  \n",
    "All the probabilities in the library are stored in the logarithm of their actual value. As the number of possible sequences grows exponentialy by it length, it could easily lead to float underflow.  \n",
    "You can easily transform it to the normal scale value applying *exp* function. "
   ]
  },
  {
   "cell_type": "code",
   "execution_count": 11,
   "metadata": {
    "collapsed": false,
    "deletable": true,
    "editable": true
   },
   "outputs": [
    {
     "data": {
      "text/plain": [
       "0.00010381086510308015"
      ]
     },
     "execution_count": 11,
     "metadata": {},
     "output_type": "execute_result"
    }
   ],
   "source": [
    "np.exp( log_prob )"
   ]
  },
  {
   "cell_type": "markdown",
   "metadata": {
    "deletable": true,
    "editable": true
   },
   "source": [
    "### The Probability of the Emission Sequence\n",
    "We can compute the probability of the model generating the emission sequence."
   ]
  },
  {
   "cell_type": "code",
   "execution_count": 12,
   "metadata": {
    "collapsed": false,
    "deletable": true,
    "editable": true
   },
   "outputs": [
    {
     "data": {
      "text/plain": [
       "0.00026689546984409761"
      ]
     },
     "execution_count": 12,
     "metadata": {},
     "output_type": "execute_result"
    }
   ],
   "source": [
    "np.exp( dhmm.emission_estimate( e_seq ) )"
   ]
  },
  {
   "cell_type": "markdown",
   "metadata": {
    "deletable": true,
    "editable": true
   },
   "source": [
    "### The Probability of the State and Emission Sequences "
   ]
  },
  {
   "cell_type": "markdown",
   "metadata": {
    "deletable": true,
    "editable": true
   },
   "source": [
    "Similary we can compute the probabilty of the state and emission sequences given the model parameters."
   ]
  },
  {
   "cell_type": "code",
   "execution_count": 13,
   "metadata": {
    "collapsed": false,
    "deletable": true,
    "editable": true
   },
   "outputs": [
    {
     "data": {
      "text/plain": [
       "0.00010381086510308015"
      ]
     },
     "execution_count": 13,
     "metadata": {},
     "output_type": "execute_result"
    }
   ],
   "source": [
    "np.exp( dhmm.estimate( s_seq, e_seq ) )"
   ]
  },
  {
   "cell_type": "markdown",
   "metadata": {
    "deletable": true,
    "editable": true
   },
   "source": [
    "### Generate Artificial Dataset\n",
    "\n",
    "You can easily generate many sequences in once by using the generate_data function.\n",
    "The generated emission sequences are in the form that is suitable for training of parameters. You can switch times=True, if you want to generate also the corresponding equidistant time sequences."
   ]
  },
  {
   "cell_type": "code",
   "execution_count": 14,
   "metadata": {
    "collapsed": false,
    "deletable": true,
    "editable": true
   },
   "outputs": [
    {
     "data": {
      "text/plain": [
       "(array([[0, 1, 1, 1, 0, 0, 0, 0, 0, 0],\n",
       "        [0, 0, 0, 0, 0, 0, 0, 0, 0, 0],\n",
       "        [1, 0, 0, 0, 0, 0, 0, 0, 0, 0]]),\n",
       " array([[0, 1, 1, 2, 0, 0, 0, 0, 0, 0],\n",
       "        [0, 0, 2, 0, 0, 0, 0, 0, 0, 0],\n",
       "        [1, 0, 0, 0, 0, 2, 0, 0, 0, 2]]))"
      ]
     },
     "execution_count": 14,
     "metadata": {},
     "output_type": "execute_result"
    }
   ],
   "source": [
    "seq_num= 3   #number of data sequences\n",
    "seq_len= 10  #length of each sequence\n",
    "\n",
    "dhmm.generate_data( (seq_num,seq_len) )"
   ]
  },
  {
   "cell_type": "markdown",
   "metadata": {
    "deletable": true,
    "editable": true
   },
   "source": [
    "### Parameters Estimation - Baum Welch Algorithm\n",
    "We usually do not know the real parameters of the model. But, if we have sufficient data, we can estimate them by EM algorithm.  \n",
    "Here we will have several output variables (emissions) sequences and we will show, how to use them to train the model parameters\n",
    "\n",
    "Let's start by creating some artifficial data. We will use the previously defined *dhmm* model for it.\n"
   ]
  },
  {
   "cell_type": "code",
   "execution_count": 15,
   "metadata": {
    "collapsed": false,
    "deletable": true,
    "editable": true
   },
   "outputs": [
    {
     "data": {
      "text/plain": [
       "array([[0, 0, 0, 1, 1, 0, 0, 0, 0, 0, 0, 0, 0, 0, 2, 2, 0, 0, 0, 0, 0, 0,\n",
       "        0, 0, 0, 0, 1, 0, 0, 0, 1, 0, 0, 0, 2, 0, 0, 0, 2, 2, 2, 0, 0, 1,\n",
       "        0, 0, 1, 0, 0, 0],\n",
       "       [0, 0, 1, 1, 2, 0, 0, 0, 0, 1, 0, 0, 0, 1, 0, 0, 0, 0, 1, 0, 0, 0,\n",
       "        2, 1, 1, 0, 0, 1, 0, 0, 1, 0, 0, 0, 0, 0, 0, 2, 1, 0, 1, 0, 0, 2,\n",
       "        0, 0, 0, 0, 0, 0],\n",
       "       [0, 0, 0, 2, 0, 0, 0, 0, 0, 0, 0, 0, 0, 0, 0, 0, 0, 0, 0, 0, 2, 0,\n",
       "        0, 0, 1, 2, 1, 0, 0, 0, 0, 0, 0, 0, 0, 1, 0, 0, 2, 1, 0, 0, 1, 0,\n",
       "        0, 0, 0, 0, 0, 0],\n",
       "       [2, 1, 1, 1, 0, 0, 0, 1, 1, 0, 0, 0, 0, 0, 0, 0, 0, 0, 0, 0, 0, 0,\n",
       "        0, 0, 0, 0, 0, 0, 0, 0, 0, 0, 0, 0, 0, 0, 0, 0, 1, 0, 0, 1, 0, 1,\n",
       "        0, 1, 1, 0, 0, 0],\n",
       "       [0, 0, 0, 0, 0, 0, 0, 1, 0, 0, 0, 0, 0, 0, 0, 1, 0, 1, 2, 0, 0, 0,\n",
       "        1, 2, 1, 2, 2, 2, 0, 0, 1, 0, 2, 0, 0, 0, 0, 0, 0, 0, 0, 0, 0, 0,\n",
       "        0, 0, 0, 1, 0, 0]])"
      ]
     },
     "execution_count": 15,
     "metadata": {},
     "output_type": "execute_result"
    }
   ],
   "source": [
    "seq_num = 5\n",
    "seq_len = 50\n",
    "data = np.empty( (seq_num, seq_len), dtype=int )\n",
    "\n",
    "_ , data = dhmm.generate_data( (seq_num,seq_len) )\n",
    "\n",
    "data"
   ]
  },
  {
   "cell_type": "markdown",
   "metadata": {
    "deletable": true,
    "editable": true
   },
   "source": [
    "Now, we will create the model with random parameters, that will be eventually trained to much the data."
   ]
  },
  {
   "cell_type": "code",
   "execution_count": 16,
   "metadata": {
    "collapsed": false,
    "deletable": true,
    "editable": true
   },
   "outputs": [
    {
     "name": "stdout",
     "output_type": "stream",
     "text": [
      "Initial probabilities (π) :\n"
     ]
    },
    {
     "data": {
      "text/html": [
       "<div>\n",
       "<table border=\"1\" class=\"dataframe\">\n",
       "  <thead>\n",
       "    <tr style=\"text-align: right;\">\n",
       "      <th></th>\n",
       "      <th>0</th>\n",
       "    </tr>\n",
       "  </thead>\n",
       "  <tbody>\n",
       "    <tr>\n",
       "      <th>0</th>\n",
       "      <td>0.3415</td>\n",
       "    </tr>\n",
       "    <tr>\n",
       "      <th>1</th>\n",
       "      <td>0.6585</td>\n",
       "    </tr>\n",
       "  </tbody>\n",
       "</table>\n",
       "</div>"
      ],
      "text/plain": [
       "        0\n",
       "0  0.3415\n",
       "1  0.6585"
      ]
     },
     "metadata": {},
     "output_type": "display_data"
    },
    {
     "name": "stdout",
     "output_type": "stream",
     "text": [
      "Transition probabilities matrix (A):\n"
     ]
    },
    {
     "data": {
      "text/html": [
       "<div>\n",
       "<table border=\"1\" class=\"dataframe\">\n",
       "  <thead>\n",
       "    <tr style=\"text-align: right;\">\n",
       "      <th></th>\n",
       "      <th>0</th>\n",
       "      <th>1</th>\n",
       "    </tr>\n",
       "  </thead>\n",
       "  <tbody>\n",
       "    <tr>\n",
       "      <th>0</th>\n",
       "      <td>0.485681</td>\n",
       "      <td>0.514319</td>\n",
       "    </tr>\n",
       "    <tr>\n",
       "      <th>1</th>\n",
       "      <td>0.035421</td>\n",
       "      <td>0.964579</td>\n",
       "    </tr>\n",
       "  </tbody>\n",
       "</table>\n",
       "</div>"
      ],
      "text/plain": [
       "          0         1\n",
       "0  0.485681  0.514319\n",
       "1  0.035421  0.964579"
      ]
     },
     "metadata": {},
     "output_type": "display_data"
    },
    {
     "name": "stdout",
     "output_type": "stream",
     "text": [
      "Emission probabilities matrix (B):\n"
     ]
    },
    {
     "data": {
      "text/html": [
       "<div>\n",
       "<table border=\"1\" class=\"dataframe\">\n",
       "  <thead>\n",
       "    <tr style=\"text-align: right;\">\n",
       "      <th></th>\n",
       "      <th>0</th>\n",
       "      <th>1</th>\n",
       "      <th>2</th>\n",
       "    </tr>\n",
       "  </thead>\n",
       "  <tbody>\n",
       "    <tr>\n",
       "      <th>0</th>\n",
       "      <td>0.410340</td>\n",
       "      <td>0.245079</td>\n",
       "      <td>0.344581</td>\n",
       "    </tr>\n",
       "    <tr>\n",
       "      <th>1</th>\n",
       "      <td>0.804412</td>\n",
       "      <td>0.023474</td>\n",
       "      <td>0.172114</td>\n",
       "    </tr>\n",
       "  </tbody>\n",
       "</table>\n",
       "</div>"
      ],
      "text/plain": [
       "          0         1         2\n",
       "0  0.410340  0.245079  0.344581\n",
       "1  0.804412  0.023474  0.172114"
      ]
     },
     "metadata": {},
     "output_type": "display_data"
    }
   ],
   "source": [
    "dhmm_r = hmms.DtHMM.random( 2,3 )\n",
    "# We can print all the parameters.\n",
    "hmms.print_parameters( dhmm_r )"
   ]
  },
  {
   "cell_type": "markdown",
   "metadata": {
    "deletable": true,
    "editable": true
   },
   "source": [
    "Let's compare the dataset likelihood estimation of model used for generating the data and the random parameters model. "
   ]
  },
  {
   "cell_type": "code",
   "execution_count": 17,
   "metadata": {
    "collapsed": false,
    "deletable": true,
    "editable": true
   },
   "outputs": [
    {
     "name": "stdout",
     "output_type": "stream",
     "text": [
      "Generator model: 1.63709564323e-75\n",
      "Random model:    2.63302138469e-90\n"
     ]
    }
   ],
   "source": [
    "print( \"Generator model:\" , np.exp( dhmm.data_estimate(data)   ) )\n",
    "print( \"Random model:   \" ,np.exp( dhmm_r.data_estimate(data) ) )"
   ]
  },
  {
   "cell_type": "markdown",
   "metadata": {
    "deletable": true,
    "editable": true
   },
   "source": [
    "Most likely the probability that the data was generated by random model is extremly low.\n",
    "\n",
    "Now we can take the random model and reestimate it to fit the data better."
   ]
  },
  {
   "cell_type": "code",
   "execution_count": 18,
   "metadata": {
    "collapsed": false,
    "deletable": true,
    "editable": true
   },
   "outputs": [
    {
     "name": "stdout",
     "output_type": "stream",
     "text": [
      "Reestimated model after 10 iterations:    4.74208341916e-75\n"
     ]
    }
   ],
   "source": [
    "dhmm_r.baum_welch( data, 10 )\n",
    "print( \"Reestimated model after 10 iterations:   \" ,np.exp( dhmm_r.data_estimate(data) ) )"
   ]
  },
  {
   "cell_type": "markdown",
   "metadata": {
    "deletable": true,
    "editable": true
   },
   "source": [
    "The probability of the reestimated model should now be similiar (possibly even higher) that the generator's model. If it is not, you can try to run the estimation procedure more time at different randomly generated models. It could happen that the estimation fall in the local optima.\n",
    "\n",
    "If you are satisfied with the results, you can run some more iteration to fine-tune it."
   ]
  },
  {
   "cell_type": "code",
   "execution_count": 19,
   "metadata": {
    "collapsed": false,
    "deletable": true,
    "editable": true
   },
   "outputs": [
    {
     "name": "stdout",
     "output_type": "stream",
     "text": [
      "Reestimated model after 110 iterations:    1.39560601725e-74\n"
     ]
    }
   ],
   "source": [
    "dhmm_r.baum_welch( data, 100 )\n",
    "print( \"Reestimated model after 110 iterations:   \" ,np.exp( dhmm_r.data_estimate(data) ) )"
   ]
  },
  {
   "cell_type": "markdown",
   "metadata": {
    "deletable": true,
    "editable": true
   },
   "source": [
    "We can compare the parameters of the model."
   ]
  },
  {
   "cell_type": "code",
   "execution_count": 20,
   "metadata": {
    "collapsed": false,
    "deletable": true,
    "editable": true
   },
   "outputs": [
    {
     "name": "stdout",
     "output_type": "stream",
     "text": [
      "Initial probabilities (π) :\n"
     ]
    },
    {
     "data": {
      "text/html": [
       "<div>\n",
       "<table border=\"1\" class=\"dataframe\">\n",
       "  <thead>\n",
       "    <tr style=\"text-align: right;\">\n",
       "      <th></th>\n",
       "      <th>0</th>\n",
       "    </tr>\n",
       "  </thead>\n",
       "  <tbody>\n",
       "    <tr>\n",
       "      <th>0</th>\n",
       "      <td>0.195341</td>\n",
       "    </tr>\n",
       "    <tr>\n",
       "      <th>1</th>\n",
       "      <td>0.804659</td>\n",
       "    </tr>\n",
       "  </tbody>\n",
       "</table>\n",
       "</div>"
      ],
      "text/plain": [
       "          0\n",
       "0  0.195341\n",
       "1  0.804659"
      ]
     },
     "metadata": {},
     "output_type": "display_data"
    },
    {
     "name": "stdout",
     "output_type": "stream",
     "text": [
      "Transition probabilities matrix (A):\n"
     ]
    },
    {
     "data": {
      "text/html": [
       "<div>\n",
       "<table border=\"1\" class=\"dataframe\">\n",
       "  <thead>\n",
       "    <tr style=\"text-align: right;\">\n",
       "      <th></th>\n",
       "      <th>0</th>\n",
       "      <th>1</th>\n",
       "    </tr>\n",
       "  </thead>\n",
       "  <tbody>\n",
       "    <tr>\n",
       "      <th>0</th>\n",
       "      <td>0.466120</td>\n",
       "      <td>0.533880</td>\n",
       "    </tr>\n",
       "    <tr>\n",
       "      <th>1</th>\n",
       "      <td>0.080303</td>\n",
       "      <td>0.919697</td>\n",
       "    </tr>\n",
       "  </tbody>\n",
       "</table>\n",
       "</div>"
      ],
      "text/plain": [
       "          0         1\n",
       "0  0.466120  0.533880\n",
       "1  0.080303  0.919697"
      ]
     },
     "metadata": {},
     "output_type": "display_data"
    },
    {
     "name": "stdout",
     "output_type": "stream",
     "text": [
      "Emission probabilities matrix (B):\n"
     ]
    },
    {
     "data": {
      "text/html": [
       "<div>\n",
       "<table border=\"1\" class=\"dataframe\">\n",
       "  <thead>\n",
       "    <tr style=\"text-align: right;\">\n",
       "      <th></th>\n",
       "      <th>0</th>\n",
       "      <th>1</th>\n",
       "      <th>2</th>\n",
       "    </tr>\n",
       "  </thead>\n",
       "  <tbody>\n",
       "    <tr>\n",
       "      <th>0</th>\n",
       "      <td>1.930896e-07</td>\n",
       "      <td>0.435497</td>\n",
       "      <td>0.564503</td>\n",
       "    </tr>\n",
       "    <tr>\n",
       "      <th>1</th>\n",
       "      <td>8.780980e-01</td>\n",
       "      <td>0.112568</td>\n",
       "      <td>0.009334</td>\n",
       "    </tr>\n",
       "  </tbody>\n",
       "</table>\n",
       "</div>"
      ],
      "text/plain": [
       "              0         1         2\n",
       "0  1.930896e-07  0.435497  0.564503\n",
       "1  8.780980e-01  0.112568  0.009334"
      ]
     },
     "metadata": {},
     "output_type": "display_data"
    },
    {
     "name": "stdout",
     "output_type": "stream",
     "text": [
      "Initial probabilities (π) :\n"
     ]
    },
    {
     "data": {
      "text/html": [
       "<div>\n",
       "<table border=\"1\" class=\"dataframe\">\n",
       "  <thead>\n",
       "    <tr style=\"text-align: right;\">\n",
       "      <th></th>\n",
       "      <th>0</th>\n",
       "    </tr>\n",
       "  </thead>\n",
       "  <tbody>\n",
       "    <tr>\n",
       "      <th>0</th>\n",
       "      <td>0.8</td>\n",
       "    </tr>\n",
       "    <tr>\n",
       "      <th>1</th>\n",
       "      <td>0.2</td>\n",
       "    </tr>\n",
       "  </tbody>\n",
       "</table>\n",
       "</div>"
      ],
      "text/plain": [
       "     0\n",
       "0  0.8\n",
       "1  0.2"
      ]
     },
     "metadata": {},
     "output_type": "display_data"
    },
    {
     "name": "stdout",
     "output_type": "stream",
     "text": [
      "Transition probabilities matrix (A):\n"
     ]
    },
    {
     "data": {
      "text/html": [
       "<div>\n",
       "<table border=\"1\" class=\"dataframe\">\n",
       "  <thead>\n",
       "    <tr style=\"text-align: right;\">\n",
       "      <th></th>\n",
       "      <th>0</th>\n",
       "      <th>1</th>\n",
       "    </tr>\n",
       "  </thead>\n",
       "  <tbody>\n",
       "    <tr>\n",
       "      <th>0</th>\n",
       "      <td>0.9</td>\n",
       "      <td>0.1</td>\n",
       "    </tr>\n",
       "    <tr>\n",
       "      <th>1</th>\n",
       "      <td>0.4</td>\n",
       "      <td>0.6</td>\n",
       "    </tr>\n",
       "  </tbody>\n",
       "</table>\n",
       "</div>"
      ],
      "text/plain": [
       "     0    1\n",
       "0  0.9  0.1\n",
       "1  0.4  0.6"
      ]
     },
     "metadata": {},
     "output_type": "display_data"
    },
    {
     "name": "stdout",
     "output_type": "stream",
     "text": [
      "Emission probabilities matrix (B):\n"
     ]
    },
    {
     "data": {
      "text/html": [
       "<div>\n",
       "<table border=\"1\" class=\"dataframe\">\n",
       "  <thead>\n",
       "    <tr style=\"text-align: right;\">\n",
       "      <th></th>\n",
       "      <th>0</th>\n",
       "      <th>1</th>\n",
       "      <th>2</th>\n",
       "    </tr>\n",
       "  </thead>\n",
       "  <tbody>\n",
       "    <tr>\n",
       "      <th>0</th>\n",
       "      <td>0.9</td>\n",
       "      <td>0.08</td>\n",
       "      <td>0.02</td>\n",
       "    </tr>\n",
       "    <tr>\n",
       "      <th>1</th>\n",
       "      <td>0.2</td>\n",
       "      <td>0.50</td>\n",
       "      <td>0.30</td>\n",
       "    </tr>\n",
       "  </tbody>\n",
       "</table>\n",
       "</div>"
      ],
      "text/plain": [
       "     0     1     2\n",
       "0  0.9  0.08  0.02\n",
       "1  0.2  0.50  0.30"
      ]
     },
     "metadata": {},
     "output_type": "display_data"
    }
   ],
   "source": [
    "hmms.print_parameters( dhmm_r )\n",
    "hmms.print_parameters( dhmm )"
   ]
  },
  {
   "cell_type": "markdown",
   "metadata": {
    "collapsed": false,
    "deletable": true,
    "editable": true,
    "scrolled": true
   },
   "source": [
    "Alternatively, we can run *baum_welch_graph* method to get learning curve of estimated probabilities."
   ]
  },
  {
   "cell_type": "code",
   "execution_count": 21,
   "metadata": {
    "collapsed": false,
    "deletable": true,
    "editable": true,
    "scrolled": false
   },
   "outputs": [
    {
     "data": {
      "text/plain": [
       "array([  6.97973197e-137,   3.26424892e-077,   4.49193097e-077,\n",
       "         5.77297930e-077,   7.13599618e-077,   8.64882003e-077,\n",
       "         1.04307167e-076,   1.26793074e-076,   1.57222571e-076,\n",
       "         2.01118820e-076,   2.67893128e-076,   3.73369532e-076,\n",
       "         5.42547335e-076,   8.09216315e-076,   1.20485289e-075,\n",
       "         1.73267287e-075,   2.34655097e-075,   2.97026101e-075,\n",
       "         3.54669428e-075,   4.06206516e-075,   4.53094748e-075,\n",
       "         4.97333183e-075,   5.40355540e-075,   5.82915406e-075,\n",
       "         6.25301487e-075,   6.67544898e-075,   7.09545919e-075,\n",
       "         7.51139741e-075,   7.92129989e-075,   8.32307885e-075,\n",
       "         8.71465332e-075,   9.09404936e-075,   9.45947889e-075,\n",
       "         9.80939882e-075,   1.01425508e-074,   1.04579824e-074,\n",
       "         1.07550522e-074,   1.10334194e-074,   1.12930228e-074,\n",
       "         1.15340517e-074,   1.17569111e-074,   1.19621846e-074,\n",
       "         1.21505970e-074,   1.23229794e-074,   1.24802361e-074,\n",
       "         1.26233158e-074,   1.27531873e-074,   1.28708187e-074,\n",
       "         1.29771609e-074,   1.30731350e-074,   1.31596093e-074])"
      ]
     },
     "execution_count": 21,
     "metadata": {},
     "output_type": "execute_result"
    }
   ],
   "source": [
    "dhmm_r = hmms.DtHMM.random(2,3) \n",
    "out = dhmm_r.baum_welch( data, 50, est=True )\n",
    "\n",
    "np.exp(out)"
   ]
  },
  {
   "cell_type": "markdown",
   "metadata": {
    "deletable": true,
    "editable": true
   },
   "source": [
    "Let's plot it in the graph, comparing the results in ratio with *real* data-generator model. ( Notice, it is the ratio of logaritmic probability values. )"
   ]
  },
  {
   "cell_type": "code",
   "execution_count": 22,
   "metadata": {
    "collapsed": false,
    "deletable": true,
    "editable": true
   },
   "outputs": [
    {
     "data": {
      "image/png": "[encoded data removed]",
      "text/plain": [
       "<matplotlib.figure.Figure at 0x7fbc27e48b00>"
      ]
     },
     "metadata": {},
     "output_type": "display_data"
    }
   ],
   "source": [
    "real = dhmm.data_estimate(data)\n",
    "#For better visibility of the graph, we cut first two values.\n",
    "plt.plot( out[2:] / real  )\n",
    "plt.show()"
   ]
  },
  {
   "cell_type": "markdown",
   "metadata": {
    "deletable": true,
    "editable": true
   },
   "source": [
    "<a id='cthmm'></a>\n",
    "Part 2: Continuous Time Hidden Markov Model\n",
    "-----------------------------------------------------"
   ]
  },
  {
   "cell_type": "code",
   "execution_count": 23,
   "metadata": {
    "collapsed": true,
    "deletable": true,
    "editable": true
   },
   "outputs": [],
   "source": [
    "import numpy as np\n",
    "import matplotlib.pyplot as plt\n",
    "import hmms\n",
    "\n",
    "%matplotlib inline"
   ]
  },
  {
   "cell_type": "markdown",
   "metadata": {
    "deletable": true,
    "editable": true
   },
   "source": [
    "### Construct CtHMM \n",
    "Construction of CtHMM is similar to the discrete model. \n",
    "\n",
    "You can directly initialize the CtHMM by passing the **model parameters**.  \n",
    "We will create simple CtHMM of three hidden states and three output variables."
   ]
  },
  {
   "cell_type": "code",
   "execution_count": 24,
   "metadata": {
    "collapsed": false,
    "deletable": true,
    "editable": true
   },
   "outputs": [],
   "source": [
    "# Q is the matrix of transition rates from state [row] to state [column].\n",
    "Q = np.array( [[-0.375,0.125,0.25],[0.25,-0.5,0.25],[0.25,0.125,-0.375]] )\n",
    "# B is the matrix of probabilities that the state [row] will emmit output variable [column].\n",
    "B = np.array( [[0.8,0.05,0.15],[0.05,0.9,0.05],[0.2,0.05,0.75]] )\n",
    "# Pi is the vector of initial state probabilities.   \n",
    "Pi = np.array( [0.6,0,0.4] )\n",
    "\n",
    "# Create CtHMM by given parameters.\n",
    "chmm = hmms.CtHMM(Q,B,Pi)"
   ]
  },
  {
   "cell_type": "markdown",
   "metadata": {
    "deletable": true,
    "editable": true
   },
   "source": [
    "Or you can initialize it by **random parameters**. Passing the number of hidden states and output variables. "
   ]
  },
  {
   "cell_type": "code",
   "execution_count": 25,
   "metadata": {
    "collapsed": true,
    "deletable": true,
    "editable": true
   },
   "outputs": [],
   "source": [
    "chmm_random = hmms.CtHMM.random(3,3)"
   ]
  },
  {
   "cell_type": "markdown",
   "metadata": {
    "deletable": true,
    "editable": true
   },
   "source": [
    "### Save & Read from File\n",
    "\n",
    "Once you have created the model you can save its parameters in file simply by calling save_params method."
   ]
  },
  {
   "cell_type": "code",
   "execution_count": 26,
   "metadata": {
    "collapsed": false,
    "deletable": true,
    "editable": true
   },
   "outputs": [],
   "source": [
    "chmm.save_params(\"Models/hello_cthmm\") "
   ]
  },
  {
   "cell_type": "markdown",
   "metadata": {
    "deletable": true,
    "editable": true
   },
   "source": [
    "The method stored the parameters in .npz format.\n",
    "The saved file can be later used to read parametrs for model initialization."
   ]
  },
  {
   "cell_type": "code",
   "execution_count": 27,
   "metadata": {
    "collapsed": false,
    "deletable": true,
    "editable": true
   },
   "outputs": [],
   "source": [
    "chmm_from_file = hmms.CtHMM.from_file( \"Models/hello_cthmm.npz\" )"
   ]
  },
  {
   "cell_type": "markdown",
   "metadata": {
    "deletable": true,
    "editable": true
   },
   "source": [
    "### Set & Get Parameters\n",
    "Later you can always set parameters with triple of methods corresponding to the constructors."
   ]
  },
  {
   "cell_type": "code",
   "execution_count": 28,
   "metadata": {
    "collapsed": false,
    "deletable": true,
    "editable": true
   },
   "outputs": [],
   "source": [
    "chmm.set_params(Q,B,Pi)\n",
    "chmm.set_params_random(3,3)\n",
    "chmm.set_params_from_file( \"Models/hello_cthmm.npz\" )"
   ]
  },
  {
   "cell_type": "markdown",
   "metadata": {
    "deletable": true,
    "editable": true
   },
   "source": [
    "You can **get** parameters by calling them separately,"
   ]
  },
  {
   "cell_type": "code",
   "execution_count": 29,
   "metadata": {
    "collapsed": false,
    "deletable": true,
    "editable": true
   },
   "outputs": [
    {
     "data": {
      "text/plain": [
       "(array([[-0.375,  0.125,  0.25 ],\n",
       "        [ 0.25 , -0.5  ,  0.25 ],\n",
       "        [ 0.25 ,  0.125, -0.375]]), array([[ 0.8 ,  0.05,  0.15],\n",
       "        [ 0.05,  0.9 ,  0.05],\n",
       "        [ 0.2 ,  0.05,  0.75]]), array([ 0.6,  0. ,  0.4]))"
      ]
     },
     "execution_count": 29,
     "metadata": {},
     "output_type": "execute_result"
    }
   ],
   "source": [
    "chmm.q, chmm.b, chmm.pi"
   ]
  },
  {
   "cell_type": "markdown",
   "metadata": {
    "deletable": true,
    "editable": true
   },
   "source": [
    "or get them all together as the triple."
   ]
  },
  {
   "cell_type": "code",
   "execution_count": 30,
   "metadata": {
    "collapsed": false,
    "deletable": true,
    "editable": true
   },
   "outputs": [],
   "source": [
    "(A,B,Pi) = chmm.params"
   ]
  },
  {
   "cell_type": "markdown",
   "metadata": {
    "deletable": true,
    "editable": true
   },
   "source": [
    "### Generate Random Sequence\n",
    "Now we can use our model to **generate** time, state and emission sequence.\n",
    "The model will **randomly** choose which transition or emission will happen, taking into consideration the parameters we have previously defined.\n",
    "\n",
    "The times are generated with **exponencial** waiting times, you can define the parameter of exponencial distribution as second optional parameter. \n"
   ]
  },
  {
   "cell_type": "code",
   "execution_count": 31,
   "metadata": {
    "collapsed": false,
    "deletable": true,
    "editable": true
   },
   "outputs": [
    {
     "data": {
      "image/png": "[encoded data removed]",
      "text/plain": [
       "<matplotlib.figure.Figure at 0x7fbc27dff2e8>"
      ]
     },
     "metadata": {},
     "output_type": "display_data"
    }
   ],
   "source": [
    "seq_len = 10\n",
    "t_seq, s_seq, e_seq = chmm.generate( seq_len, 0.5)\n",
    "\n",
    "#resize plot\n",
    "plt.rcParams['figure.figsize'] = [20,20]\n",
    "\n",
    "hmms.plot_hmm( s_seq, e_seq, time=t_seq )"
   ]
  },
  {
   "cell_type": "markdown",
   "metadata": {
    "deletable": true,
    "editable": true
   },
   "source": [
    "### Find Most Likely State Sequence\n",
    "If we have corresponding time and emission sequence, we can find the most probable state sequence that would generate it given the current model parameters. Notice, that it can be different, than the actual sequence that has generated the emissions.  \n",
    "We will use Viterbi algorithm for the calculation."
   ]
  },
  {
   "cell_type": "code",
   "execution_count": 32,
   "metadata": {
    "collapsed": false,
    "deletable": true,
    "editable": true
   },
   "outputs": [
    {
     "data": {
      "image/png": "[encoded data removed]",
      "text/plain": [
       "<matplotlib.figure.Figure at 0x7fbc27d99710>"
      ]
     },
     "metadata": {},
     "output_type": "display_data"
    },
    {
     "name": "stdout",
     "output_type": "stream",
     "text": [
      "Probability of being generated by the found state sequence: 3.53316370712e-05\n"
     ]
    }
   ],
   "source": [
    "( log_prob, s_seq ) =  chmm.viterbi( t_seq, e_seq )\n",
    "# Let's print the most likely state sequence, it can be same or differ from the sequence above.\n",
    "hmms.plot_hmm( s_seq, e_seq, time = t_seq )\n",
    "print( \"Probability of being generated by the found state sequence:\", np.exp( log_prob ) )"
   ]
  },
  {
   "cell_type": "markdown",
   "metadata": {
    "deletable": true,
    "editable": true
   },
   "source": [
    "### Generate Artificial  Dataset\n",
    "You can easily generate many sequences in once by using the *generate_data* function.  \n",
    "The generated data are in the form that is suitable for training of parameters. \n",
    "You can switch *states=True*, if you want to generate also the corresponding state sequences.\n",
    "\n",
    "TODO: The times are generated with **exponencial** waiting times, you can define the parameter of exponencial distribution as second optional parameter. "
   ]
  },
  {
   "cell_type": "code",
   "execution_count": 33,
   "metadata": {
    "collapsed": false,
    "deletable": true,
    "editable": true
   },
   "outputs": [
    {
     "data": {
      "text/plain": [
       "(array([[ 0,  1,  3,  5,  7,  8,  9, 11, 24, 25, 30, 35, 36, 39, 41, 42, 44,\n",
       "         47, 54, 58, 59, 60, 62, 72, 77, 81, 85, 86, 90, 96],\n",
       "        [ 0,  1,  3,  8,  9, 12, 13, 16, 28, 29, 30, 32, 33, 34, 36, 43, 44,\n",
       "         49, 55, 58, 60, 61, 63, 64, 66, 67, 68, 69, 70, 72],\n",
       "        [ 0,  2,  5,  6,  9, 11, 14, 16, 18, 19, 21, 22, 25, 27, 31, 34, 38,\n",
       "         45, 46, 47, 48, 49, 53, 55, 56, 57, 63, 66, 67, 73],\n",
       "        [ 0,  2,  3,  4,  8, 10, 12, 13, 14, 15, 16, 17, 18, 23, 28, 31, 33,\n",
       "         34, 41, 42, 49, 56, 57, 62, 63, 65, 67, 68, 69, 70],\n",
       "        [ 0,  1,  2,  5,  7,  9, 10, 12, 13, 14, 17, 20, 22, 23, 30, 35, 38,\n",
       "         43, 44, 45, 47, 49, 56, 59, 61, 64, 66, 67, 68, 75]]),\n",
       " array([[0, 1, 1, 1, 1, 2, 2, 2, 2, 0, 2, 0, 0, 2, 2, 0, 0, 2, 0, 0, 2, 1,\n",
       "         0, 0, 0, 2, 0, 0, 0, 0],\n",
       "        [0, 1, 0, 0, 1, 2, 2, 2, 0, 2, 1, 0, 2, 2, 2, 2, 0, 0, 0, 0, 0, 0,\n",
       "         0, 0, 0, 2, 2, 0, 2, 1],\n",
       "        [1, 2, 2, 2, 2, 2, 2, 2, 0, 2, 0, 1, 2, 2, 0, 1, 1, 2, 2, 0, 2, 2,\n",
       "         0, 2, 0, 2, 1, 2, 2, 2],\n",
       "        [1, 1, 1, 1, 0, 0, 2, 1, 0, 0, 0, 2, 1, 0, 2, 2, 2, 2, 0, 2, 0, 2,\n",
       "         0, 1, 1, 1, 1, 1, 2, 0],\n",
       "        [0, 0, 2, 2, 2, 0, 2, 0, 0, 0, 0, 1, 0, 1, 0, 0, 2, 1, 0, 2, 0, 1,\n",
       "         0, 2, 2, 0, 0, 0, 0, 2]]))"
      ]
     },
     "execution_count": 33,
     "metadata": {},
     "output_type": "execute_result"
    }
   ],
   "source": [
    "seq_num= 5   #number of data sequences\n",
    "seq_len= 30  #length of each sequence\n",
    "\n",
    "t,e = chmm.generate_data( (seq_num,seq_len) )\n",
    "t,e"
   ]
  },
  {
   "cell_type": "markdown",
   "metadata": {
    "collapsed": true,
    "deletable": true,
    "editable": true
   },
   "source": [
    "### Parameters Estimation - Continuous Version of Baum Welch Algorithm\n",
    "\n",
    "We will use the previously generated data for the training of randomly generated model."
   ]
  },
  {
   "cell_type": "code",
   "execution_count": 34,
   "metadata": {
    "collapsed": false,
    "deletable": true,
    "editable": true
   },
   "outputs": [
    {
     "name": "stdout",
     "output_type": "stream",
     "text": [
      "Initial probabilities (π) :\n"
     ]
    },
    {
     "data": {
      "text/html": [
       "<div>\n",
       "<table border=\"1\" class=\"dataframe\">\n",
       "  <thead>\n",
       "    <tr style=\"text-align: right;\">\n",
       "      <th></th>\n",
       "      <th>0</th>\n",
       "    </tr>\n",
       "  </thead>\n",
       "  <tbody>\n",
       "    <tr>\n",
       "      <th>0</th>\n",
       "      <td>0.974675</td>\n",
       "    </tr>\n",
       "    <tr>\n",
       "      <th>1</th>\n",
       "      <td>0.021925</td>\n",
       "    </tr>\n",
       "    <tr>\n",
       "      <th>2</th>\n",
       "      <td>0.003401</td>\n",
       "    </tr>\n",
       "  </tbody>\n",
       "</table>\n",
       "</div>"
      ],
      "text/plain": [
       "          0\n",
       "0  0.974675\n",
       "1  0.021925\n",
       "2  0.003401"
      ]
     },
     "metadata": {},
     "output_type": "display_data"
    },
    {
     "name": "stdout",
     "output_type": "stream",
     "text": [
      "Transition rate matrix (Q):\n"
     ]
    },
    {
     "data": {
      "text/html": [
       "<div>\n",
       "<table border=\"1\" class=\"dataframe\">\n",
       "  <thead>\n",
       "    <tr style=\"text-align: right;\">\n",
       "      <th></th>\n",
       "      <th>0</th>\n",
       "      <th>1</th>\n",
       "      <th>2</th>\n",
       "    </tr>\n",
       "  </thead>\n",
       "  <tbody>\n",
       "    <tr>\n",
       "      <th>0</th>\n",
       "      <td>-1.000000</td>\n",
       "      <td>0.102729</td>\n",
       "      <td>0.897271</td>\n",
       "    </tr>\n",
       "    <tr>\n",
       "      <th>1</th>\n",
       "      <td>0.644045</td>\n",
       "      <td>-1.000000</td>\n",
       "      <td>0.355955</td>\n",
       "    </tr>\n",
       "    <tr>\n",
       "      <th>2</th>\n",
       "      <td>0.583646</td>\n",
       "      <td>0.416354</td>\n",
       "      <td>-1.000000</td>\n",
       "    </tr>\n",
       "  </tbody>\n",
       "</table>\n",
       "</div>"
      ],
      "text/plain": [
       "          0         1         2\n",
       "0 -1.000000  0.102729  0.897271\n",
       "1  0.644045 -1.000000  0.355955\n",
       "2  0.583646  0.416354 -1.000000"
      ]
     },
     "metadata": {},
     "output_type": "display_data"
    },
    {
     "name": "stdout",
     "output_type": "stream",
     "text": [
      "Transition probabilities for one time unit :\n"
     ]
    },
    {
     "data": {
      "text/html": [
       "<div>\n",
       "<table border=\"1\" class=\"dataframe\">\n",
       "  <thead>\n",
       "    <tr style=\"text-align: right;\">\n",
       "      <th></th>\n",
       "      <th>0</th>\n",
       "      <th>1</th>\n",
       "      <th>2</th>\n",
       "    </tr>\n",
       "  </thead>\n",
       "  <tbody>\n",
       "    <tr>\n",
       "      <th>0</th>\n",
       "      <td>0.500407</td>\n",
       "      <td>0.116408</td>\n",
       "      <td>0.383185</td>\n",
       "    </tr>\n",
       "    <tr>\n",
       "      <th>1</th>\n",
       "      <td>0.310685</td>\n",
       "      <td>0.426674</td>\n",
       "      <td>0.262641</td>\n",
       "    </tr>\n",
       "    <tr>\n",
       "      <th>2</th>\n",
       "      <td>0.297235</td>\n",
       "      <td>0.186248</td>\n",
       "      <td>0.516517</td>\n",
       "    </tr>\n",
       "  </tbody>\n",
       "</table>\n",
       "</div>"
      ],
      "text/plain": [
       "          0         1         2\n",
       "0  0.500407  0.116408  0.383185\n",
       "1  0.310685  0.426674  0.262641\n",
       "2  0.297235  0.186248  0.516517"
      ]
     },
     "metadata": {},
     "output_type": "display_data"
    },
    {
     "name": "stdout",
     "output_type": "stream",
     "text": [
      "Emission probabilities matrix (B):\n"
     ]
    },
    {
     "data": {
      "text/html": [
       "<div>\n",
       "<table border=\"1\" class=\"dataframe\">\n",
       "  <thead>\n",
       "    <tr style=\"text-align: right;\">\n",
       "      <th></th>\n",
       "      <th>0</th>\n",
       "      <th>1</th>\n",
       "      <th>2</th>\n",
       "    </tr>\n",
       "  </thead>\n",
       "  <tbody>\n",
       "    <tr>\n",
       "      <th>0</th>\n",
       "      <td>0.248526</td>\n",
       "      <td>0.183235</td>\n",
       "      <td>0.568240</td>\n",
       "    </tr>\n",
       "    <tr>\n",
       "      <th>1</th>\n",
       "      <td>0.694362</td>\n",
       "      <td>0.082573</td>\n",
       "      <td>0.223065</td>\n",
       "    </tr>\n",
       "    <tr>\n",
       "      <th>2</th>\n",
       "      <td>0.286326</td>\n",
       "      <td>0.155496</td>\n",
       "      <td>0.558177</td>\n",
       "    </tr>\n",
       "  </tbody>\n",
       "</table>\n",
       "</div>"
      ],
      "text/plain": [
       "          0         1         2\n",
       "0  0.248526  0.183235  0.568240\n",
       "1  0.694362  0.082573  0.223065\n",
       "2  0.286326  0.155496  0.558177"
      ]
     },
     "metadata": {},
     "output_type": "display_data"
    }
   ],
   "source": [
    "chmm_r = hmms.CtHMM.random( 3,3 )\n",
    "# We can print all the parameters.\n",
    "hmms.print_parameters( chmm_r )"
   ]
  },
  {
   "cell_type": "markdown",
   "metadata": {
    "deletable": true,
    "editable": true
   },
   "source": [
    "Now we can compare the probabilities, that the data was generated by the given model. Its ratio is most probably not so big as in the disrete model. It is because the intervals between the observations are the source of many unknown, so it is pushing the probability of real model down. "
   ]
  },
  {
   "cell_type": "code",
   "execution_count": 35,
   "metadata": {
    "collapsed": false,
    "deletable": true,
    "editable": true
   },
   "outputs": [
    {
     "name": "stdout",
     "output_type": "stream",
     "text": [
      "Generator model: 1.89341972012e-68\n",
      "Random model:    9.84605377048e-71\n"
     ]
    }
   ],
   "source": [
    "print( \"Generator model:\" , np.exp( chmm.data_estimate(t,e)   ) )\n",
    "print( \"Random model:   \" ,np.exp( chmm_r.data_estimate(t,e) ) )"
   ]
  },
  {
   "cell_type": "markdown",
   "metadata": {
    "deletable": true,
    "editable": true
   },
   "source": [
    "Let's run the EM algorithm for couple of iterations."
   ]
  },
  {
   "cell_type": "code",
   "execution_count": 36,
   "metadata": {
    "collapsed": false,
    "deletable": true,
    "editable": true
   },
   "outputs": [
    {
     "data": {
      "text/plain": [
       "array([  9.84605377e-71,   4.61351380e-69,   6.02991385e-69,\n",
       "         7.61954638e-69,   9.43175352e-69,   1.14760354e-68,\n",
       "         1.37776691e-68,   1.63807098e-68,   1.93463997e-68,\n",
       "         2.27497346e-68,   2.66761774e-68,   3.12193916e-68,\n",
       "         3.64800189e-68,   4.25651462e-68,   4.95880462e-68,\n",
       "         5.76678494e-68,   6.69289301e-68,   7.74999383e-68,\n",
       "         8.95125887e-68,   1.03100505e-67,   1.18398580e-67,\n",
       "         1.35543413e-67,   1.54675330e-67,   1.75942324e-67,\n",
       "         1.99505943e-67,   2.25548831e-67,   2.54283372e-67,\n",
       "         2.85960819e-67,   3.20880363e-67,   3.59397837e-67,\n",
       "         4.01933993e-67,   4.48982496e-67,   5.01117900e-67,\n",
       "         5.59003825e-67,   6.23401482e-67,   6.95178484e-67,\n",
       "         7.75317680e-67,   8.64925472e-67,   9.65238805e-67,\n",
       "         1.07762968e-66,   1.20360569e-66,   1.34480477e-66,\n",
       "         1.50298184e-66,   1.67998489e-66,   1.87771782e-66,\n",
       "         2.09808735e-66,   2.34293206e-66,   2.61393228e-66,\n",
       "         2.91250169e-66,   3.23966361e-66,   3.59591825e-66,\n",
       "         3.98111072e-66,   4.39431324e-66,   4.83373754e-66,\n",
       "         5.29669479e-66,   5.77961909e-66,   6.27816637e-66,\n",
       "         6.78739354e-66,   7.30201357e-66,   7.81671274e-66,\n",
       "         8.32650827e-66,   8.82711991e-66,   9.31533009e-66,\n",
       "         9.78931311e-66,   1.02489248e-65,   1.06959582e-65,\n",
       "         1.11343844e-65,   1.15706124e-65,   1.20138078e-65,\n",
       "         1.24763143e-65,   1.29742148e-65,   1.35280444e-65,\n",
       "         1.41636271e-65,   1.49129325e-65,   1.58147446e-65,\n",
       "         1.69148195e-65,   1.82651487e-65,   1.99220545e-65,\n",
       "         2.19432524e-65,   2.43846707e-65,   2.72983606e-65,\n",
       "         3.07326486e-65,   3.47345553e-65,   3.93530652e-65,\n",
       "         4.46411971e-65,   5.06554481e-65,   5.74524407e-65,\n",
       "         6.50835873e-65,   7.35889144e-65,   8.29910777e-65,\n",
       "         9.32903865e-65,   1.04461499e-64,   1.16452337e-64,\n",
       "         1.29185589e-64,   1.42562899e-64,   1.56471457e-64,\n",
       "         1.70792299e-64,   1.85409354e-64,   2.00218118e-64,\n",
       "         2.15132959e-64,   2.30092339e-64])"
      ]
     },
     "execution_count": 36,
     "metadata": {},
     "output_type": "execute_result"
    }
   ],
   "source": [
    "out = chmm_r.baum_welch( t,e, 100, est=True )\n",
    "\n",
    "np.exp(out)"
   ]
  },
  {
   "cell_type": "markdown",
   "metadata": {
    "deletable": true,
    "editable": true
   },
   "source": [
    "We will plot its probabilities estimations in ratio with generator model. (Notice, it is the ratio of logarithms of probabilities)"
   ]
  },
  {
   "cell_type": "code",
   "execution_count": 37,
   "metadata": {
    "collapsed": false,
    "deletable": true,
    "editable": true
   },
   "outputs": [
    {
     "data": {
      "image/png": "[encoded data removed]",
      "text/plain": [
       "<matplotlib.figure.Figure at 0x7fbc238c5240>"
      ]
     },
     "metadata": {},
     "output_type": "display_data"
    }
   ],
   "source": [
    "real = chmm.data_estimate( t, e )\n",
    "#For better visibility of the graph, we cut first two values.\n",
    "plt.plot( out[2:] / real  )\n",
    "\n",
    "plt.show()"
   ]
  },
  {
   "cell_type": "markdown",
   "metadata": {
    "deletable": true,
    "editable": true
   },
   "source": [
    "<a id='conv'></a>\n",
    "Part 3: Comparison of Models Convergences\n",
    "-----------------------------------------------------"
   ]
  },
  {
   "cell_type": "markdown",
   "metadata": {
    "deletable": true,
    "editable": true
   },
   "source": [
    "In this chapter we will compare the convergence rate of discrete and continuous models. It will show some functions usefull for convergence among model parameters.  "
   ]
  },
  {
   "cell_type": "code",
   "execution_count": 38,
   "metadata": {
    "collapsed": true,
    "deletable": true,
    "editable": true
   },
   "outputs": [],
   "source": [
    "import numpy as np\n",
    "import matplotlib.pyplot as plt\n",
    "import hmms\n",
    "\n",
    "%matplotlib inline"
   ]
  },
  {
   "cell_type": "markdown",
   "metadata": {
    "deletable": true,
    "editable": true
   },
   "source": [
    "We will start by defining the continuous time model. For that, who have read the previous section, it will be the familiar."
   ]
  },
  {
   "cell_type": "code",
   "execution_count": 39,
   "metadata": {
    "collapsed": false,
    "deletable": true,
    "editable": true
   },
   "outputs": [
    {
     "name": "stdout",
     "output_type": "stream",
     "text": [
      "Initial probabilities (π) :\n"
     ]
    },
    {
     "data": {
      "text/html": [
       "<div>\n",
       "<table border=\"1\" class=\"dataframe\">\n",
       "  <thead>\n",
       "    <tr style=\"text-align: right;\">\n",
       "      <th></th>\n",
       "      <th>0</th>\n",
       "    </tr>\n",
       "  </thead>\n",
       "  <tbody>\n",
       "    <tr>\n",
       "      <th>0</th>\n",
       "      <td>0.6</td>\n",
       "    </tr>\n",
       "    <tr>\n",
       "      <th>1</th>\n",
       "      <td>0.0</td>\n",
       "    </tr>\n",
       "    <tr>\n",
       "      <th>2</th>\n",
       "      <td>0.4</td>\n",
       "    </tr>\n",
       "  </tbody>\n",
       "</table>\n",
       "</div>"
      ],
      "text/plain": [
       "     0\n",
       "0  0.6\n",
       "1  0.0\n",
       "2  0.4"
      ]
     },
     "metadata": {},
     "output_type": "display_data"
    },
    {
     "name": "stdout",
     "output_type": "stream",
     "text": [
      "Transition rate matrix (Q):\n"
     ]
    },
    {
     "data": {
      "text/html": [
       "<div>\n",
       "<table border=\"1\" class=\"dataframe\">\n",
       "  <thead>\n",
       "    <tr style=\"text-align: right;\">\n",
       "      <th></th>\n",
       "      <th>0</th>\n",
       "      <th>1</th>\n",
       "      <th>2</th>\n",
       "    </tr>\n",
       "  </thead>\n",
       "  <tbody>\n",
       "    <tr>\n",
       "      <th>0</th>\n",
       "      <td>-0.375</td>\n",
       "      <td>0.125</td>\n",
       "      <td>0.250</td>\n",
       "    </tr>\n",
       "    <tr>\n",
       "      <th>1</th>\n",
       "      <td>0.250</td>\n",
       "      <td>-0.500</td>\n",
       "      <td>0.250</td>\n",
       "    </tr>\n",
       "    <tr>\n",
       "      <th>2</th>\n",
       "      <td>0.250</td>\n",
       "      <td>0.125</td>\n",
       "      <td>-0.375</td>\n",
       "    </tr>\n",
       "  </tbody>\n",
       "</table>\n",
       "</div>"
      ],
      "text/plain": [
       "       0      1      2\n",
       "0 -0.375  0.125  0.250\n",
       "1  0.250 -0.500  0.250\n",
       "2  0.250  0.125 -0.375"
      ]
     },
     "metadata": {},
     "output_type": "display_data"
    },
    {
     "name": "stdout",
     "output_type": "stream",
     "text": [
      "Transition probabilities for one time unit :\n"
     ]
    },
    {
     "data": {
      "text/html": [
       "<div>\n",
       "<table border=\"1\" class=\"dataframe\">\n",
       "  <thead>\n",
       "    <tr style=\"text-align: right;\">\n",
       "      <th></th>\n",
       "      <th>0</th>\n",
       "      <th>1</th>\n",
       "      <th>2</th>\n",
       "    </tr>\n",
       "  </thead>\n",
       "  <tbody>\n",
       "    <tr>\n",
       "      <th>0</th>\n",
       "      <td>0.721157</td>\n",
       "      <td>0.092948</td>\n",
       "      <td>0.185895</td>\n",
       "    </tr>\n",
       "    <tr>\n",
       "      <th>1</th>\n",
       "      <td>0.185895</td>\n",
       "      <td>0.628209</td>\n",
       "      <td>0.185895</td>\n",
       "    </tr>\n",
       "    <tr>\n",
       "      <th>2</th>\n",
       "      <td>0.185895</td>\n",
       "      <td>0.092948</td>\n",
       "      <td>0.721157</td>\n",
       "    </tr>\n",
       "  </tbody>\n",
       "</table>\n",
       "</div>"
      ],
      "text/plain": [
       "          0         1         2\n",
       "0  0.721157  0.092948  0.185895\n",
       "1  0.185895  0.628209  0.185895\n",
       "2  0.185895  0.092948  0.721157"
      ]
     },
     "metadata": {},
     "output_type": "display_data"
    },
    {
     "name": "stdout",
     "output_type": "stream",
     "text": [
      "Emission probabilities matrix (B):\n"
     ]
    },
    {
     "data": {
      "text/html": [
       "<div>\n",
       "<table border=\"1\" class=\"dataframe\">\n",
       "  <thead>\n",
       "    <tr style=\"text-align: right;\">\n",
       "      <th></th>\n",
       "      <th>0</th>\n",
       "      <th>1</th>\n",
       "      <th>2</th>\n",
       "    </tr>\n",
       "  </thead>\n",
       "  <tbody>\n",
       "    <tr>\n",
       "      <th>0</th>\n",
       "      <td>0.80</td>\n",
       "      <td>0.05</td>\n",
       "      <td>0.15</td>\n",
       "    </tr>\n",
       "    <tr>\n",
       "      <th>1</th>\n",
       "      <td>0.05</td>\n",
       "      <td>0.90</td>\n",
       "      <td>0.05</td>\n",
       "    </tr>\n",
       "    <tr>\n",
       "      <th>2</th>\n",
       "      <td>0.20</td>\n",
       "      <td>0.05</td>\n",
       "      <td>0.75</td>\n",
       "    </tr>\n",
       "  </tbody>\n",
       "</table>\n",
       "</div>"
      ],
      "text/plain": [
       "      0     1     2\n",
       "0  0.80  0.05  0.15\n",
       "1  0.05  0.90  0.05\n",
       "2  0.20  0.05  0.75"
      ]
     },
     "metadata": {},
     "output_type": "display_data"
    }
   ],
   "source": [
    "Q = np.array( [[-0.375,0.125,0.25],[0.25,-0.5,0.25],[0.25,0.125,-0.375]] )\n",
    "B = np.array( [[0.8,0.05,0.15],[0.05,0.9,0.05],[0.2,0.05,0.75]] )\n",
    "Pi = np.array( [0.6,0,0.4] )\n",
    "\n",
    "chmm = hmms.CtHMM( Q,B,Pi )\n",
    "hmms.print_parameters( chmm )"
   ]
  },
  {
   "cell_type": "markdown",
   "metadata": {
    "deletable": true,
    "editable": true
   },
   "source": [
    "We can simply create discrete model with equivalent parameters, using function *get_dthmm_params*.  \n",
    "By default, it will create the model with transition probabilities equal to one time unit probability transition in continuous model. You can pass the optional parameter for different time steps.\n"
   ]
  },
  {
   "cell_type": "code",
   "execution_count": 40,
   "metadata": {
    "collapsed": false,
    "deletable": true,
    "editable": true
   },
   "outputs": [
    {
     "name": "stdout",
     "output_type": "stream",
     "text": [
      "Initial probabilities (π) :\n"
     ]
    },
    {
     "data": {
      "text/html": [
       "<div>\n",
       "<table border=\"1\" class=\"dataframe\">\n",
       "  <thead>\n",
       "    <tr style=\"text-align: right;\">\n",
       "      <th></th>\n",
       "      <th>0</th>\n",
       "    </tr>\n",
       "  </thead>\n",
       "  <tbody>\n",
       "    <tr>\n",
       "      <th>0</th>\n",
       "      <td>0.6</td>\n",
       "    </tr>\n",
       "    <tr>\n",
       "      <th>1</th>\n",
       "      <td>0.0</td>\n",
       "    </tr>\n",
       "    <tr>\n",
       "      <th>2</th>\n",
       "      <td>0.4</td>\n",
       "    </tr>\n",
       "  </tbody>\n",
       "</table>\n",
       "</div>"
      ],
      "text/plain": [
       "     0\n",
       "0  0.6\n",
       "1  0.0\n",
       "2  0.4"
      ]
     },
     "metadata": {},
     "output_type": "display_data"
    },
    {
     "name": "stdout",
     "output_type": "stream",
     "text": [
      "Transition probabilities matrix (A):\n"
     ]
    },
    {
     "data": {
      "text/html": [
       "<div>\n",
       "<table border=\"1\" class=\"dataframe\">\n",
       "  <thead>\n",
       "    <tr style=\"text-align: right;\">\n",
       "      <th></th>\n",
       "      <th>0</th>\n",
       "      <th>1</th>\n",
       "      <th>2</th>\n",
       "    </tr>\n",
       "  </thead>\n",
       "  <tbody>\n",
       "    <tr>\n",
       "      <th>0</th>\n",
       "      <td>0.721157</td>\n",
       "      <td>0.092948</td>\n",
       "      <td>0.185895</td>\n",
       "    </tr>\n",
       "    <tr>\n",
       "      <th>1</th>\n",
       "      <td>0.185895</td>\n",
       "      <td>0.628209</td>\n",
       "      <td>0.185895</td>\n",
       "    </tr>\n",
       "    <tr>\n",
       "      <th>2</th>\n",
       "      <td>0.185895</td>\n",
       "      <td>0.092948</td>\n",
       "      <td>0.721157</td>\n",
       "    </tr>\n",
       "  </tbody>\n",
       "</table>\n",
       "</div>"
      ],
      "text/plain": [
       "          0         1         2\n",
       "0  0.721157  0.092948  0.185895\n",
       "1  0.185895  0.628209  0.185895\n",
       "2  0.185895  0.092948  0.721157"
      ]
     },
     "metadata": {},
     "output_type": "display_data"
    },
    {
     "name": "stdout",
     "output_type": "stream",
     "text": [
      "Emission probabilities matrix (B):\n"
     ]
    },
    {
     "data": {
      "text/html": [
       "<div>\n",
       "<table border=\"1\" class=\"dataframe\">\n",
       "  <thead>\n",
       "    <tr style=\"text-align: right;\">\n",
       "      <th></th>\n",
       "      <th>0</th>\n",
       "      <th>1</th>\n",
       "      <th>2</th>\n",
       "    </tr>\n",
       "  </thead>\n",
       "  <tbody>\n",
       "    <tr>\n",
       "      <th>0</th>\n",
       "      <td>0.80</td>\n",
       "      <td>0.05</td>\n",
       "      <td>0.15</td>\n",
       "    </tr>\n",
       "    <tr>\n",
       "      <th>1</th>\n",
       "      <td>0.05</td>\n",
       "      <td>0.90</td>\n",
       "      <td>0.05</td>\n",
       "    </tr>\n",
       "    <tr>\n",
       "      <th>2</th>\n",
       "      <td>0.20</td>\n",
       "      <td>0.05</td>\n",
       "      <td>0.75</td>\n",
       "    </tr>\n",
       "  </tbody>\n",
       "</table>\n",
       "</div>"
      ],
      "text/plain": [
       "      0     1     2\n",
       "0  0.80  0.05  0.15\n",
       "1  0.05  0.90  0.05\n",
       "2  0.20  0.05  0.75"
      ]
     },
     "metadata": {},
     "output_type": "display_data"
    }
   ],
   "source": [
    "dhmm = hmms.DtHMM( *chmm.get_dthmm_params() )\n",
    "hmms.print_parameters( dhmm )"
   ]
  },
  {
   "cell_type": "markdown",
   "metadata": {
    "deletable": true,
    "editable": true
   },
   "source": [
    "We can let the disrete model to generate the data sufficient for both models by passing the *times* parameter as *True*."
   ]
  },
  {
   "cell_type": "code",
   "execution_count": 41,
   "metadata": {
    "collapsed": false,
    "deletable": true,
    "editable": true
   },
   "outputs": [],
   "source": [
    "t,_,e = dhmm.generate_data( (50,50), times=True )   \n",
    "# The free space in the return triple is for the state sequences, we do not need them for the training "
   ]
  },
  {
   "cell_type": "markdown",
   "metadata": {
    "deletable": true,
    "editable": true
   },
   "source": [
    "We can compare the estimation of the data, using both of the model. (They should be the same.)"
   ]
  },
  {
   "cell_type": "code",
   "execution_count": 42,
   "metadata": {
    "collapsed": false,
    "deletable": true,
    "editable": true
   },
   "outputs": [
    {
     "name": "stdout",
     "output_type": "stream",
     "text": [
      "Data estimation by continuous model: -2435.9200974754785\n",
      "Data estimation by discrete model:   -2435.919921875\n"
     ]
    }
   ],
   "source": [
    "creal = chmm.data_estimate(t,e)\n",
    "dreal = dhmm.data_estimate(e)\n",
    "print(\"Data estimation by continuous model:\", creal)\n",
    "print(\"Data estimation by discrete model:  \", dreal)"
   ]
  },
  {
   "cell_type": "markdown",
   "metadata": {
    "deletable": true,
    "editable": true
   },
   "source": [
    "Now we will create two equivalent random models. "
   ]
  },
  {
   "cell_type": "code",
   "execution_count": 43,
   "metadata": {
    "collapsed": false,
    "deletable": true,
    "editable": true
   },
   "outputs": [
    {
     "name": "stdout",
     "output_type": "stream",
     "text": [
      "Initial probabilities (π) :\n"
     ]
    },
    {
     "data": {
      "text/html": [
       "<div>\n",
       "<table border=\"1\" class=\"dataframe\">\n",
       "  <thead>\n",
       "    <tr style=\"text-align: right;\">\n",
       "      <th></th>\n",
       "      <th>0</th>\n",
       "    </tr>\n",
       "  </thead>\n",
       "  <tbody>\n",
       "    <tr>\n",
       "      <th>0</th>\n",
       "      <td>0.550797</td>\n",
       "    </tr>\n",
       "    <tr>\n",
       "      <th>1</th>\n",
       "      <td>0.078757</td>\n",
       "    </tr>\n",
       "    <tr>\n",
       "      <th>2</th>\n",
       "      <td>0.370446</td>\n",
       "    </tr>\n",
       "  </tbody>\n",
       "</table>\n",
       "</div>"
      ],
      "text/plain": [
       "          0\n",
       "0  0.550797\n",
       "1  0.078757\n",
       "2  0.370446"
      ]
     },
     "metadata": {},
     "output_type": "display_data"
    },
    {
     "name": "stdout",
     "output_type": "stream",
     "text": [
      "Transition rate matrix (Q):\n"
     ]
    },
    {
     "data": {
      "text/html": [
       "<div>\n",
       "<table border=\"1\" class=\"dataframe\">\n",
       "  <thead>\n",
       "    <tr style=\"text-align: right;\">\n",
       "      <th></th>\n",
       "      <th>0</th>\n",
       "      <th>1</th>\n",
       "      <th>2</th>\n",
       "    </tr>\n",
       "  </thead>\n",
       "  <tbody>\n",
       "    <tr>\n",
       "      <th>0</th>\n",
       "      <td>-1.000000</td>\n",
       "      <td>0.266913</td>\n",
       "      <td>0.733087</td>\n",
       "    </tr>\n",
       "    <tr>\n",
       "      <th>1</th>\n",
       "      <td>0.651037</td>\n",
       "      <td>-1.000000</td>\n",
       "      <td>0.348963</td>\n",
       "    </tr>\n",
       "    <tr>\n",
       "      <th>2</th>\n",
       "      <td>0.380861</td>\n",
       "      <td>0.619139</td>\n",
       "      <td>-1.000000</td>\n",
       "    </tr>\n",
       "  </tbody>\n",
       "</table>\n",
       "</div>"
      ],
      "text/plain": [
       "          0         1         2\n",
       "0 -1.000000  0.266913  0.733087\n",
       "1  0.651037 -1.000000  0.348963\n",
       "2  0.380861  0.619139 -1.000000"
      ]
     },
     "metadata": {},
     "output_type": "display_data"
    },
    {
     "name": "stdout",
     "output_type": "stream",
     "text": [
      "Transition probabilities for one time unit :\n"
     ]
    },
    {
     "data": {
      "text/html": [
       "<div>\n",
       "<table border=\"1\" class=\"dataframe\">\n",
       "  <thead>\n",
       "    <tr style=\"text-align: right;\">\n",
       "      <th></th>\n",
       "      <th>0</th>\n",
       "      <th>1</th>\n",
       "      <th>2</th>\n",
       "    </tr>\n",
       "  </thead>\n",
       "  <tbody>\n",
       "    <tr>\n",
       "      <th>0</th>\n",
       "      <td>0.477464</td>\n",
       "      <td>0.199653</td>\n",
       "      <td>0.322882</td>\n",
       "    </tr>\n",
       "    <tr>\n",
       "      <th>1</th>\n",
       "      <td>0.296555</td>\n",
       "      <td>0.465121</td>\n",
       "      <td>0.238325</td>\n",
       "    </tr>\n",
       "    <tr>\n",
       "      <th>2</th>\n",
       "      <td>0.237080</td>\n",
       "      <td>0.277189</td>\n",
       "      <td>0.485730</td>\n",
       "    </tr>\n",
       "  </tbody>\n",
       "</table>\n",
       "</div>"
      ],
      "text/plain": [
       "          0         1         2\n",
       "0  0.477464  0.199653  0.322882\n",
       "1  0.296555  0.465121  0.238325\n",
       "2  0.237080  0.277189  0.485730"
      ]
     },
     "metadata": {},
     "output_type": "display_data"
    },
    {
     "name": "stdout",
     "output_type": "stream",
     "text": [
      "Emission probabilities matrix (B):\n"
     ]
    },
    {
     "data": {
      "text/html": [
       "<div>\n",
       "<table border=\"1\" class=\"dataframe\">\n",
       "  <thead>\n",
       "    <tr style=\"text-align: right;\">\n",
       "      <th></th>\n",
       "      <th>0</th>\n",
       "      <th>1</th>\n",
       "      <th>2</th>\n",
       "    </tr>\n",
       "  </thead>\n",
       "  <tbody>\n",
       "    <tr>\n",
       "      <th>0</th>\n",
       "      <td>0.305899</td>\n",
       "      <td>0.658286</td>\n",
       "      <td>0.035814</td>\n",
       "    </tr>\n",
       "    <tr>\n",
       "      <th>1</th>\n",
       "      <td>0.123913</td>\n",
       "      <td>0.644555</td>\n",
       "      <td>0.231532</td>\n",
       "    </tr>\n",
       "    <tr>\n",
       "      <th>2</th>\n",
       "      <td>0.063317</td>\n",
       "      <td>0.175607</td>\n",
       "      <td>0.761076</td>\n",
       "    </tr>\n",
       "  </tbody>\n",
       "</table>\n",
       "</div>"
      ],
      "text/plain": [
       "          0         1         2\n",
       "0  0.305899  0.658286  0.035814\n",
       "1  0.123913  0.644555  0.231532\n",
       "2  0.063317  0.175607  0.761076"
      ]
     },
     "metadata": {},
     "output_type": "display_data"
    },
    {
     "name": "stdout",
     "output_type": "stream",
     "text": [
      "Initial probabilities (π) :\n"
     ]
    },
    {
     "data": {
      "text/html": [
       "<div>\n",
       "<table border=\"1\" class=\"dataframe\">\n",
       "  <thead>\n",
       "    <tr style=\"text-align: right;\">\n",
       "      <th></th>\n",
       "      <th>0</th>\n",
       "    </tr>\n",
       "  </thead>\n",
       "  <tbody>\n",
       "    <tr>\n",
       "      <th>0</th>\n",
       "      <td>0.550797</td>\n",
       "    </tr>\n",
       "    <tr>\n",
       "      <th>1</th>\n",
       "      <td>0.078757</td>\n",
       "    </tr>\n",
       "    <tr>\n",
       "      <th>2</th>\n",
       "      <td>0.370446</td>\n",
       "    </tr>\n",
       "  </tbody>\n",
       "</table>\n",
       "</div>"
      ],
      "text/plain": [
       "          0\n",
       "0  0.550797\n",
       "1  0.078757\n",
       "2  0.370446"
      ]
     },
     "metadata": {},
     "output_type": "display_data"
    },
    {
     "name": "stdout",
     "output_type": "stream",
     "text": [
      "Transition probabilities matrix (A):\n"
     ]
    },
    {
     "data": {
      "text/html": [
       "<div>\n",
       "<table border=\"1\" class=\"dataframe\">\n",
       "  <thead>\n",
       "    <tr style=\"text-align: right;\">\n",
       "      <th></th>\n",
       "      <th>0</th>\n",
       "      <th>1</th>\n",
       "      <th>2</th>\n",
       "    </tr>\n",
       "  </thead>\n",
       "  <tbody>\n",
       "    <tr>\n",
       "      <th>0</th>\n",
       "      <td>0.477464</td>\n",
       "      <td>0.199653</td>\n",
       "      <td>0.322882</td>\n",
       "    </tr>\n",
       "    <tr>\n",
       "      <th>1</th>\n",
       "      <td>0.296555</td>\n",
       "      <td>0.465121</td>\n",
       "      <td>0.238325</td>\n",
       "    </tr>\n",
       "    <tr>\n",
       "      <th>2</th>\n",
       "      <td>0.237080</td>\n",
       "      <td>0.277189</td>\n",
       "      <td>0.485730</td>\n",
       "    </tr>\n",
       "  </tbody>\n",
       "</table>\n",
       "</div>"
      ],
      "text/plain": [
       "          0         1         2\n",
       "0  0.477464  0.199653  0.322882\n",
       "1  0.296555  0.465121  0.238325\n",
       "2  0.237080  0.277189  0.485730"
      ]
     },
     "metadata": {},
     "output_type": "display_data"
    },
    {
     "name": "stdout",
     "output_type": "stream",
     "text": [
      "Emission probabilities matrix (B):\n"
     ]
    },
    {
     "data": {
      "text/html": [
       "<div>\n",
       "<table border=\"1\" class=\"dataframe\">\n",
       "  <thead>\n",
       "    <tr style=\"text-align: right;\">\n",
       "      <th></th>\n",
       "      <th>0</th>\n",
       "      <th>1</th>\n",
       "      <th>2</th>\n",
       "    </tr>\n",
       "  </thead>\n",
       "  <tbody>\n",
       "    <tr>\n",
       "      <th>0</th>\n",
       "      <td>0.305899</td>\n",
       "      <td>0.658286</td>\n",
       "      <td>0.035814</td>\n",
       "    </tr>\n",
       "    <tr>\n",
       "      <th>1</th>\n",
       "      <td>0.123913</td>\n",
       "      <td>0.644555</td>\n",
       "      <td>0.231532</td>\n",
       "    </tr>\n",
       "    <tr>\n",
       "      <th>2</th>\n",
       "      <td>0.063317</td>\n",
       "      <td>0.175607</td>\n",
       "      <td>0.761076</td>\n",
       "    </tr>\n",
       "  </tbody>\n",
       "</table>\n",
       "</div>"
      ],
      "text/plain": [
       "          0         1         2\n",
       "0  0.305899  0.658286  0.035814\n",
       "1  0.123913  0.644555  0.231532\n",
       "2  0.063317  0.175607  0.761076"
      ]
     },
     "metadata": {},
     "output_type": "display_data"
    }
   ],
   "source": [
    "ct = hmms.CtHMM.random(3,3)\n",
    "dt = hmms.DtHMM( *ct.get_dthmm_params() )\n",
    "    \n",
    "hmms.print_parameters( ct )\n",
    "hmms.print_parameters( dt )"
   ]
  },
  {
   "cell_type": "markdown",
   "metadata": {
    "deletable": true,
    "editable": true
   },
   "source": [
    "We will train them at our dataset. (It can take a while.)"
   ]
  },
  {
   "cell_type": "code",
   "execution_count": 44,
   "metadata": {
    "collapsed": false,
    "deletable": true,
    "editable": true
   },
   "outputs": [
    {
     "data": {
      "text/plain": [
       "(array([-3209.85449856, -2548.81744225, -2540.02953558, -2532.54561033,\n",
       "        -2524.54780642, -2514.07156086, -2499.65516071, -2481.97159584,\n",
       "        -2464.81921725, -2452.31182019, -2445.21798914, -2441.65293846,\n",
       "        -2439.72641613, -2438.46475082, -2437.49309027, -2436.67598488,\n",
       "        -2435.95827834, -2435.31256159, -2434.72290439, -2434.17924356,\n",
       "        -2433.67496647, -2433.20561737, -2432.7681002 , -2432.36015099,\n",
       "        -2431.9799799 , -2431.62603145, -2431.29683187, -2430.9909025 ,\n",
       "        -2430.70672213, -2430.44272391, -2430.1973142 , -2429.96890302,\n",
       "        -2429.75593795, -2429.55693587, -2429.37050891, -2429.19538301,\n",
       "        -2429.03040893, -2428.87456614, -2428.72696092, -2428.5868201 ,\n",
       "        -2428.45348165, -2428.32638341, -2428.20505104, -2428.08908589,\n",
       "        -2427.9781533 , -2427.87197183, -2427.77030357, -2427.67294556,\n",
       "        -2427.5797225 , -2427.49048054, -2427.40527344]),\n",
       " array([-3209.85449856, -2556.33674245, -2551.9584318 , -2547.27069452,\n",
       "        -2542.04649013, -2535.97704159, -2528.67345065, -2519.82033526,\n",
       "        -2509.4466868 , -2498.12475081, -2486.82744225, -2476.49959162,\n",
       "        -2467.72492689, -2460.68297788, -2455.27002995, -2451.23122754,\n",
       "        -2448.25909944, -2446.06184701, -2444.40268988, -2443.11057295,\n",
       "        -2442.07043215, -2441.20616684, -2440.46623557, -2439.81476281,\n",
       "        -2439.22657126, -2438.68408378, -2438.17510439, -2437.6911968 ,\n",
       "        -2437.22655319, -2436.77723787, -2436.34068667, -2435.91536656,\n",
       "        -2435.50053018, -2435.09602609, -2434.70214239, -2434.31947228,\n",
       "        -2433.94879633, -2433.59097967, -2433.24688393, -2432.9172946 ,\n",
       "        -2432.60286443, -2432.30407288, -2432.02120148, -2431.7543236 ,\n",
       "        -2431.50330719, -2431.26782798, -2431.04739078, -2430.84135624,\n",
       "        -2430.6489706 , -2430.46939627, -2430.30174141]))"
      ]
     },
     "execution_count": 44,
     "metadata": {},
     "output_type": "execute_result"
    }
   ],
   "source": [
    "iter_num = 50\n",
    "outd = dt.baum_welch( e,   iter_num, est=True )\n",
    "outc = ct.baum_welch( t,e, iter_num, est=True )\n",
    "outd,outc"
   ]
  },
  {
   "cell_type": "markdown",
   "metadata": {
    "collapsed": false,
    "deletable": true,
    "editable": true
   },
   "source": [
    "We can plot and compare both convergence rates. From the essence of models, the continuous model will probably  converge a bit slower, but finally will reach the similar value."
   ]
  },
  {
   "cell_type": "code",
   "execution_count": 45,
   "metadata": {
    "collapsed": false,
    "deletable": true,
    "editable": true
   },
   "outputs": [
    {
     "data": {
      "image/png": "[encoded data removed]",
      "text/plain": [
       "<matplotlib.figure.Figure at 0x7fbc27e6fdd8>"
      ]
     },
     "metadata": {},
     "output_type": "display_data"
    }
   ],
   "source": [
    "plt.plot( outd[1:] / dreal  )\n",
    "plt.plot( outc[1:] / dreal  )\n",
    "#plt.savefig('my_plot.svg')  #Optional save the figure\n",
    "plt.show()"
   ]
  },
  {
   "cell_type": "code",
   "execution_count": null,
   "metadata": {
    "collapsed": false,
    "deletable": true,
    "editable": true
   },
   "outputs": [],
   "source": []
  },
  {
   "cell_type": "markdown",
   "metadata": {
    "collapsed": false,
    "deletable": true,
    "editable": true
   },
   "source": [
    "<hr/>\n",
    "You can play with the models as you like and feel free to share your result with me, if you have made some interesting experiment!"
   ]
  },
  {
   "cell_type": "markdown",
   "metadata": {
    "collapsed": true,
    "deletable": true,
    "editable": true
   },
   "source": [
    "Contact: (lopatovsky@gmail.com)"
   ]
  },
  {
   "cell_type": "markdown",
   "metadata": {
    "deletable": true,
    "editable": true
   },
   "source": [
    "### Experimental features\n",
    "#### Fast Convergence "
   ]
  },
  {
   "cell_type": "code",
   "execution_count": 46,
   "metadata": {
    "collapsed": false,
    "deletable": true,
    "editable": true
   },
   "outputs": [],
   "source": [
    "#The experiment is frozen\n",
    "\n",
    "\n",
    "seq_num= 1   #number of data sequences\n",
    "seq_len= 4  #length of each sequence\n",
    "\n",
    "t,e = chmm.generate_data( (seq_num,seq_len) )\n",
    "t,e\n",
    "\n",
    "\n",
    "t = np.array([[ 0,1,3,5,6,7,9,11,12]])\n",
    "e = np.array([[ 0,0,0,1,2,1,0,0,1]])\n"
   ]
  },
  {
   "cell_type": "code",
   "execution_count": 47,
   "metadata": {
    "collapsed": false,
    "deletable": true,
    "editable": true
   },
   "outputs": [],
   "source": [
    "ct1 = hmms.CtHMM.random(3,3)\n",
    "ct2 = hmms.CtHMM( *ct1.params )"
   ]
  },
  {
   "cell_type": "code",
   "execution_count": 48,
   "metadata": {
    "collapsed": false,
    "deletable": true,
    "editable": true
   },
   "outputs": [
    {
     "ename": "NameError",
     "evalue": "name 'out2' is not defined",
     "output_type": "error",
     "traceback": [
      "\u001b[0;31m---------------------------------------------------------------------------\u001b[0m",
      "\u001b[0;31mNameError\u001b[0m                                 Traceback (most recent call last)",
      "\u001b[0;32m<ipython-input-48-24acf34dafc1>\u001b[0m in \u001b[0;36m<module>\u001b[0;34m()\u001b[0m\n\u001b[1;32m      2\u001b[0m \u001b[0mout1\u001b[0m \u001b[0;34m=\u001b[0m \u001b[0mct1\u001b[0m\u001b[0;34m.\u001b[0m\u001b[0mbaum_welch\u001b[0m\u001b[0;34m(\u001b[0m \u001b[0mt\u001b[0m\u001b[0;34m,\u001b[0m\u001b[0me\u001b[0m\u001b[0;34m,\u001b[0m \u001b[0miter_num\u001b[0m\u001b[0;34m,\u001b[0m \u001b[0mest\u001b[0m\u001b[0;34m=\u001b[0m\u001b[0;32mTrue\u001b[0m \u001b[0;34m)\u001b[0m\u001b[0;34m\u001b[0m\u001b[0m\n\u001b[1;32m      3\u001b[0m \u001b[0;31m#out2 = ct2.baum_welch( t,e, iter_num )\u001b[0m\u001b[0;34m\u001b[0m\u001b[0;34m\u001b[0m\u001b[0m\n\u001b[0;32m----> 4\u001b[0;31m \u001b[0mout1\u001b[0m\u001b[0;34m,\u001b[0m\u001b[0mout2\u001b[0m\u001b[0;34m\u001b[0m\u001b[0m\n\u001b[0m",
      "\u001b[0;31mNameError\u001b[0m: name 'out2' is not defined"
     ]
    }
   ],
   "source": [
    "iter_num = 50\n",
    "out1 = ct1.baum_welch( t,e, iter_num, est=True )\n",
    "#out2 = ct2.baum_welch( t,e, iter_num )\n",
    "out1,out2"
   ]
  },
  {
   "cell_type": "code",
   "execution_count": null,
   "metadata": {
    "collapsed": false,
    "deletable": true,
    "editable": true
   },
   "outputs": [],
   "source": [
    "plt.plot( out1[1:] / dreal , color = \"red\" )\n",
    "plt.plot( out2[1:] / dreal  )\n",
    "#plt.savefig('graph.svg')  #Optional save the figure\n",
    "\n",
    "plt.show()"
   ]
  },
  {
   "cell_type": "code",
   "execution_count": null,
   "metadata": {
    "collapsed": false,
    "deletable": true,
    "editable": true
   },
   "outputs": [],
   "source": [
    "hmms.print_parameters(ct1)\n",
    "hmms.print_parameters(ct2)"
   ]
  },
  {
   "cell_type": "markdown",
   "metadata": {
    "collapsed": true,
    "deletable": true,
    "editable": true
   },
   "source": [
    "#### Exponential random generation"
   ]
  },
  {
   "cell_type": "code",
   "execution_count": null,
   "metadata": {
    "collapsed": true,
    "deletable": true,
    "editable": true
   },
   "outputs": [],
   "source": [
    "import numpy as np\n",
    "import matplotlib.pyplot as plt\n",
    "import hmms\n",
    "\n",
    "%matplotlib inline"
   ]
  },
  {
   "cell_type": "code",
   "execution_count": null,
   "metadata": {
    "collapsed": false,
    "deletable": true,
    "editable": true
   },
   "outputs": [],
   "source": [
    "# Q is the matrix of transition rates from state [row] to state [column].\n",
    "Q = np.array( [[-0.375,0.125,0.25],[0.25,-0.5,0.25],[0.25,0.125,-0.375]] )\n",
    "# B is the matrix of probabilities that the state [row] will emmit output variable [column].\n",
    "B = np.array( [[0.8,0.05,0.15],[0.05,0.9,0.05],[0.2,0.05,0.75]] )\n",
    "# Pi is the vector of initial state probabilities.   \n",
    "Pi = np.array( [0.6,0,0.4] )\n",
    "\n",
    "# Create CtHMM by given parameters.\n",
    "chmm = hmms.CtHMM(Q,B,Pi)"
   ]
  },
  {
   "cell_type": "code",
   "execution_count": null,
   "metadata": {
    "collapsed": true,
    "deletable": true,
    "editable": true
   },
   "outputs": [],
   "source": [
    "seq_num= 5   #number of data sequences\n",
    "seq_len= 30  #length of each sequence\n",
    "\n",
    "t,e = chmm.generate_data( (seq_num,seq_len) )"
   ]
  },
  {
   "cell_type": "code",
   "execution_count": null,
   "metadata": {
    "collapsed": false,
    "deletable": true,
    "editable": true
   },
   "outputs": [],
   "source": [
    "chmm_r = hmms.CtHMM.random( 3,3, method='unif' )\n",
    "chmm_re = hmms.CtHMM.random( 3,3, method='exp' )\n",
    "\n",
    "out  =  chmm_r.baum_welch( t,e, 10 )\n",
    "oute = chmm_re.baum_welch( t,e, 10 )\n",
    "\n",
    "\n",
    "#aout =  np.average(out,  axis=0)\n",
    "#aoute = np.average(oute, axis=0)\n"
   ]
  },
  {
   "cell_type": "code",
   "execution_count": null,
   "metadata": {
    "collapsed": false,
    "deletable": true,
    "editable": true
   },
   "outputs": [],
   "source": [
    "out = hmms.multi_train(3, t, e, 10, 200, ret='all', method='exp')"
   ]
  },
  {
   "cell_type": "code",
   "execution_count": null,
   "metadata": {
    "collapsed": false,
    "deletable": true,
    "editable": true
   },
   "outputs": [],
   "source": [
    "aout =  np.average(out,  axis=0)\n",
    "aoute = np.average(oute, axis=0)\n",
    "\n",
    "mout =  np.min(out,  axis=0)\n",
    "moute = np.min(oute, axis=0)\n",
    "\n",
    "\n",
    "real = chmm.data_estimate( t, e )\n",
    "#For better visibility of the graph, we cut first two values.\n",
    "\n",
    "offset = 3\n",
    "\n",
    "#plt.plot(  aout[offset:] / real , color = \"red\" )\n",
    "#plt.plot( aoute[offset:] / real , color = \"blue\" )\n",
    "\n",
    "#plt.plot(  mout[offset:] / real , color = \"orange\" )\n",
    "#plt.plot( moute[offset:] / real , color = \"green\")\n",
    "\n",
    "for line in out:\n",
    "    print( line/real )\n",
    "    plt.plot(  line[offset:] / real )\n",
    "\n",
    "\n",
    "plt.show()"
   ]
  },
  {
   "cell_type": "code",
   "execution_count": null,
   "metadata": {
    "collapsed": false,
    "deletable": true,
    "editable": true
   },
   "outputs": [],
   "source": [
    "real = chmm.data_estimate( t, e )\n",
    "\n",
    "offset = 3\n",
    "\n",
    "print(out)\n",
    "\n",
    "for line in out:\n",
    "    #graph= line[1]\n",
    "    #print( type(line) )\n",
    "    #print( line[1]/real )\n",
    "    plt.plot(  line[1][offset:] / real )\n",
    "\n",
    "\n",
    "\n",
    "\n"
   ]
  },
  {
   "cell_type": "code",
   "execution_count": null,
   "metadata": {
    "collapsed": false,
    "deletable": true,
    "editable": true
   },
   "outputs": [],
   "source": [
    "oute"
   ]
  },
  {
   "cell_type": "markdown",
   "metadata": {
    "collapsed": true,
    "deletable": true,
    "editable": true
   },
   "source": [
    "### Test different length of vectors"
   ]
  },
  {
   "cell_type": "code",
   "execution_count": null,
   "metadata": {
    "collapsed": true,
    "deletable": true,
    "editable": true
   },
   "outputs": [],
   "source": [
    "import numpy as np\n",
    "import matplotlib.pyplot as plt\n",
    "import hmms\n",
    "\n",
    "%matplotlib inline"
   ]
  },
  {
   "cell_type": "code",
   "execution_count": null,
   "metadata": {
    "collapsed": false,
    "deletable": true,
    "editable": true
   },
   "outputs": [],
   "source": [
    "data_l = [ np.array( [0, 0, 0, 0, 1, 1, 1, 1, 1, 1, 1, 1] ) ,\n",
    "         np.array( [0, 1, 0, 0, 1, 0, 1 ] ),\n",
    "         np.array( [2, 0, 1, 0, 0, 0, 0, 0, 0, 0] ) ]\n",
    "\n",
    "data_n = np.array(  [[0, 0, 0, 1, 1, 1, 1, 1, 1, 1],\n",
    "        [0, 0, 0, 0, 1, 1, 1, 0, 1, 0],\n",
    "        [2, 0, 1, 0, 0, 0, 0, 0, 0, 0]] )"
   ]
  },
  {
   "cell_type": "markdown",
   "metadata": {
    "deletable": true,
    "editable": true
   },
   "source": [
    "#### Test Numpy matrix"
   ]
  },
  {
   "cell_type": "code",
   "execution_count": null,
   "metadata": {
    "collapsed": true,
    "deletable": true,
    "editable": true
   },
   "outputs": [],
   "source": [
    "dhmm_r = hmms.DtHMM.random( 2,3 )"
   ]
  },
  {
   "cell_type": "code",
   "execution_count": null,
   "metadata": {
    "collapsed": false,
    "deletable": true,
    "editable": true
   },
   "outputs": [],
   "source": [
    "graph_n = dhmm_r.baum_welch( data_n, 10, est=True ) "
   ]
  },
  {
   "cell_type": "code",
   "execution_count": null,
   "metadata": {
    "collapsed": false,
    "deletable": true,
    "editable": true
   },
   "outputs": [],
   "source": [
    "np.exp( dhmm_r.data_estimate(data_n) )"
   ]
  },
  {
   "cell_type": "markdown",
   "metadata": {
    "deletable": true,
    "editable": true
   },
   "source": [
    "#### Test List of numpy arrays"
   ]
  },
  {
   "cell_type": "code",
   "execution_count": null,
   "metadata": {
    "collapsed": true,
    "deletable": true,
    "editable": true
   },
   "outputs": [],
   "source": [
    "dhmm_r = hmms.DtHMM.random( 2,3 )"
   ]
  },
  {
   "cell_type": "code",
   "execution_count": null,
   "metadata": {
    "collapsed": false,
    "deletable": true,
    "editable": true
   },
   "outputs": [],
   "source": [
    "graph_l = dhmm_r.baum_welch( data_l, 10, est=True )"
   ]
  },
  {
   "cell_type": "code",
   "execution_count": null,
   "metadata": {
    "collapsed": false,
    "deletable": true,
    "editable": true
   },
   "outputs": [],
   "source": [
    "np.exp( dhmm_r.data_estimate(data_l) )"
   ]
  },
  {
   "cell_type": "code",
   "execution_count": null,
   "metadata": {
    "collapsed": false,
    "deletable": true,
    "editable": true
   },
   "outputs": [],
   "source": [
    "plt.plot( graph_n, color='red' )\n",
    "plt.plot( graph_l )"
   ]
  },
  {
   "cell_type": "markdown",
   "metadata": {
    "deletable": true,
    "editable": true
   },
   "source": [
    "Make the similar for the continuous model "
   ]
  },
  {
   "cell_type": "code",
   "execution_count": null,
   "metadata": {
    "collapsed": true,
    "deletable": true,
    "editable": true
   },
   "outputs": [],
   "source": [
    "data_l = [ np.array( [0, 0, 2, 0 ] ) ,\n",
    "         np.array( [0, 1, 0, 0, 1 ] ),\n",
    "         np.array( [2, 0, 1 ] ) ]\n",
    "\n",
    "data_n = np.array(  [[0, 0, 0, 1],\n",
    "        [0, 2, 0, 0],\n",
    "        [2, 0, 1, 0] ] )\n",
    "\n",
    "time_l = [ np.array( [0, 1, 2, 4 ] ) ,\n",
    "         np.array( [0, 1, 3, 5, 6 ] ),\n",
    "         np.array( [0, 2, 3 ] ) ]\n",
    "\n",
    "time_n = np.array(  [[0, 1, 3, 4],\n",
    "        [0, 2, 3, 5],\n",
    "        [0, 2, 4, 6] ] )"
   ]
  },
  {
   "cell_type": "code",
   "execution_count": null,
   "metadata": {
    "collapsed": true,
    "deletable": true,
    "editable": true
   },
   "outputs": [],
   "source": [
    "chmm_r = hmms.CtHMM.random( 2,3 )"
   ]
  },
  {
   "cell_type": "code",
   "execution_count": null,
   "metadata": {
    "collapsed": false,
    "deletable": true,
    "editable": true
   },
   "outputs": [],
   "source": [
    "graph_n = chmm_r.baum_welch( time_n, data_n, 10, est=True ) "
   ]
  },
  {
   "cell_type": "code",
   "execution_count": null,
   "metadata": {
    "collapsed": false,
    "deletable": true,
    "editable": true
   },
   "outputs": [],
   "source": [
    "np.exp( chmm_r.data_estimate(time_n, data_n) )"
   ]
  },
  {
   "cell_type": "code",
   "execution_count": null,
   "metadata": {
    "collapsed": true,
    "deletable": true,
    "editable": true
   },
   "outputs": [],
   "source": [
    "chmm_r = hmms.CtHMM.random( 2,3 )"
   ]
  },
  {
   "cell_type": "code",
   "execution_count": null,
   "metadata": {
    "collapsed": false,
    "deletable": true,
    "editable": true
   },
   "outputs": [],
   "source": [
    "graph_n = chmm_r.baum_welch( time_l, data_l, 10, est=True ) "
   ]
  },
  {
   "cell_type": "code",
   "execution_count": null,
   "metadata": {
    "collapsed": false,
    "deletable": true,
    "editable": true
   },
   "outputs": [],
   "source": [
    "np.exp( chmm_r.data_estimate(time_l, data_l) )"
   ]
  },
  {
   "cell_type": "markdown",
   "metadata": {
    "collapsed": true,
    "deletable": true,
    "editable": true
   },
   "source": [
    "### Test double times"
   ]
  },
  {
   "cell_type": "code",
   "execution_count": 84,
   "metadata": {
    "collapsed": true,
    "deletable": true,
    "editable": true
   },
   "outputs": [],
   "source": [
    "import numpy as np\n",
    "import matplotlib.pyplot as plt\n",
    "import hmms\n",
    "\n",
    "%matplotlib inline"
   ]
  },
  {
   "cell_type": "code",
   "execution_count": 85,
   "metadata": {
    "collapsed": true
   },
   "outputs": [],
   "source": [
    "data = [ np.array( [0, 0, 2, 0 ] ) ,\n",
    "         np.array( [0, 1, 0, 0, 1 ] ),\n",
    "         np.array( [2, 0, 1 ] ) ]\n",
    "\n",
    "time_i = [ np.array( [0, 1, 2, 4 ] ) ,\n",
    "         np.array( [0, 1, 3, 5, 6 ] ),\n",
    "         np.array( [0, 2, 3 ] ) ]\n",
    "\n",
    "time_f = [ np.array( [0, 1.1, 2.1, 4.1 ] ) ,\n",
    "         np.array( [0, 1.1, 3.1, 5.1, 6.1 ] ),\n",
    "         np.array( [0, 2.1, 3.1 ] ) ]"
   ]
  },
  {
   "cell_type": "code",
   "execution_count": 86,
   "metadata": {
    "collapsed": true
   },
   "outputs": [],
   "source": [
    "chmm_r = hmms.CtHMM.random( 2,3 )"
   ]
  },
  {
   "cell_type": "code",
   "execution_count": 87,
   "metadata": {
    "collapsed": false
   },
   "outputs": [],
   "source": [
    "graph_i = chmm_r.baum_welch( time_i, data, 10, est=True ) "
   ]
  },
  {
   "cell_type": "code",
   "execution_count": 88,
   "metadata": {
    "collapsed": false
   },
   "outputs": [
    {
     "data": {
      "text/plain": [
       "2.6789449041946378e-05"
      ]
     },
     "execution_count": 88,
     "metadata": {},
     "output_type": "execute_result"
    }
   ],
   "source": [
    "np.exp( chmm_r.data_estimate(time_i, data) )"
   ]
  },
  {
   "cell_type": "markdown",
   "metadata": {},
   "source": [
    "double"
   ]
  },
  {
   "cell_type": "code",
   "execution_count": 89,
   "metadata": {
    "collapsed": true
   },
   "outputs": [],
   "source": [
    "chmm_r = hmms.CtHMM.random( 2,3 )"
   ]
  },
  {
   "cell_type": "code",
   "execution_count": 90,
   "metadata": {
    "collapsed": false
   },
   "outputs": [],
   "source": [
    "graph_f = chmm_r.baum_welch( time_f, data, 10, est=True ) "
   ]
  },
  {
   "cell_type": "code",
   "execution_count": 91,
   "metadata": {
    "collapsed": false
   },
   "outputs": [
    {
     "data": {
      "text/plain": [
       "2.9952185404560035e-05"
      ]
     },
     "execution_count": 91,
     "metadata": {},
     "output_type": "execute_result"
    }
   ],
   "source": [
    "np.exp( chmm_r.data_estimate(time_f, data) )"
   ]
  },
  {
   "cell_type": "code",
   "execution_count": 92,
   "metadata": {
    "collapsed": false
   },
   "outputs": [
    {
     "data": {
      "text/plain": [
       "[<matplotlib.lines.Line2D at 0x7fbc2a2dbe48>]"
      ]
     },
     "execution_count": 92,
     "metadata": {},
     "output_type": "execute_result"
    },
    {
     "data": {
      "image/png": "[encoded data removed]",
      "text/plain": [
       "<matplotlib.figure.Figure at 0x7fbc2a2dba90>"
      ]
     },
     "metadata": {},
     "output_type": "display_data"
    }
   ],
   "source": [
    "plt.plot( graph_i, color='red' )\n",
    "plt.plot( graph_f )"
   ]
  },
  {
   "cell_type": "code",
   "execution_count": null,
   "metadata": {
    "collapsed": true
   },
   "outputs": [],
   "source": []
  }
 ],
 "metadata": {
  "kernelspec": {
   "display_name": "Python 3",
   "language": "python",
   "name": "python3"
  },
  "language_info": {
   "codemirror_mode": {
    "name": "ipython",
    "version": 3
   },
   "file_extension": ".py",
   "mimetype": "text/x-python",
   "name": "python",
   "nbconvert_exporter": "python",
   "pygments_lexer": "ipython3",
   "version": "3.5.2"
  }
 },
 "nbformat": 4,
 "nbformat_minor": 2
}
