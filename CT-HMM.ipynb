{
 "cells": [
  {
   "cell_type": "markdown",
   "metadata": {},
   "source": [
    "HMMs Library \n",
    "============================\n",
    "#### (Discrete & Continuous hidden markov models )\n",
    "\n",
    "The document contain the tutorial ( usage explained by example ) for the hidden markov models library [link to pip].\n",
    "* [The **first** part](#dthmm) will cover disrete-time hidden markov model (**DtHMM**)\n",
    "* [The **second** part](#cthmm) will be dedicated to continuous-time hidden markov model (**CtHMM**)\n",
    "* [The **third** part](#conv) will compare the convergences of **both** models\n",
    "\n",
    "The all of the part are independent, so you do not need to run all notebook, if you are interested only in one of them. \n",
    "\n",
    "\n",
    "If you are not familiar with the hidden markov model theory, We recommend ...\n",
    "%todo: refer to DP theory, (simple guide to cthmm?), github, sources\n"
   ]
  },
  {
   "cell_type": "markdown",
   "metadata": {},
   "source": [
    "<a id='dthmm'></a>\n",
    "Part 1: Discrete Time Hidden Markov Model\n",
    "---------------------------------------------------"
   ]
  },
  {
   "cell_type": "code",
   "execution_count": 1,
   "metadata": {
    "collapsed": false
   },
   "outputs": [],
   "source": [
    "import numpy as np\n",
    "import matplotlib.pyplot as plt\n",
    "import hmms\n",
    "\n",
    "%matplotlib inline"
   ]
  },
  {
   "cell_type": "markdown",
   "metadata": {},
   "source": [
    "### Construct DtHMM \n",
    "You can directly initialize the DtHMM by passing the **model parameters**.  \n",
    "\n",
    "We will create simple DtHMM of two hidden states and three output variables."
   ]
  },
  {
   "cell_type": "code",
   "execution_count": 2,
   "metadata": {
    "collapsed": false
   },
   "outputs": [],
   "source": [
    "# A is the matrix of transition probabilities from state [row] to state [column].\n",
    "A = np.array([[0.9,0.1],[0.4,0.6]])\n",
    "# B is the matrix of probabilities that the state [row] will emmit output variable [column].\n",
    "B = np.array([[0.9,0.08,0.02],[0.2,0.5,0.3]])\n",
    "# Pi is the vector of initial state probabilities.   \n",
    "Pi = np.array( [0.8,0.2] )\n",
    "\n",
    "# Create DtHMM by given parameters.\n",
    "dhmm = hmms.DtHMM(A,B,Pi)"
   ]
  },
  {
   "cell_type": "markdown",
   "metadata": {},
   "source": [
    "Or you can initialize it by **random parameters**. Passing the number of hidden states and output variables. "
   ]
  },
  {
   "cell_type": "code",
   "execution_count": 3,
   "metadata": {
    "collapsed": false
   },
   "outputs": [],
   "source": [
    "dhmm_random = hmms.DtHMM.random(2,3)"
   ]
  },
  {
   "cell_type": "markdown",
   "metadata": {},
   "source": [
    "### Save & Read from File\n",
    "Once you have created the model you can **save** its parameters in file simply by calling *save_params* method.  "
   ]
  },
  {
   "cell_type": "code",
   "execution_count": 4,
   "metadata": {
    "collapsed": true
   },
   "outputs": [],
   "source": [
    "dhmm.save_params(\"Models/hello_dthmm\") "
   ]
  },
  {
   "cell_type": "markdown",
   "metadata": {},
   "source": [
    "The method stored the parameters in *.npz* format.  \n",
    "\n",
    "The saved file can be later used to **read** parametrs for model initialization."
   ]
  },
  {
   "cell_type": "code",
   "execution_count": 5,
   "metadata": {
    "collapsed": false
   },
   "outputs": [],
   "source": [
    "dhmm_from_file = hmms.DtHMM.from_file( \"Models/hello_dthmm.npz\" )"
   ]
  },
  {
   "cell_type": "markdown",
   "metadata": {},
   "source": [
    "### Set & Get Parameters\n",
    "Later you can always **set** parameters with triple of methods corresponding to the constructors."
   ]
  },
  {
   "cell_type": "code",
   "execution_count": 6,
   "metadata": {
    "collapsed": false,
    "scrolled": true
   },
   "outputs": [],
   "source": [
    "dhmm.set_params(A,B,Pi)\n",
    "dhmm.set_params_random(2,3)\n",
    "dhmm.set_params_from_file( \"Models/hello_dthmm.npz\" )"
   ]
  },
  {
   "cell_type": "markdown",
   "metadata": {},
   "source": [
    "You can **get** parameters by calling them separately,"
   ]
  },
  {
   "cell_type": "code",
   "execution_count": 7,
   "metadata": {
    "collapsed": false
   },
   "outputs": [
    {
     "data": {
      "text/plain": [
       "(array([[ 0.9,  0.1],\n",
       "        [ 0.4,  0.6]]), array([[ 0.9 ,  0.08,  0.02],\n",
       "        [ 0.2 ,  0.5 ,  0.3 ]]), array([ 0.8,  0.2]))"
      ]
     },
     "execution_count": 7,
     "metadata": {},
     "output_type": "execute_result"
    }
   ],
   "source": [
    "dhmm.a, dhmm.b, dhmm.pi"
   ]
  },
  {
   "cell_type": "markdown",
   "metadata": {},
   "source": [
    "or **get** them **all** together as the triple."
   ]
  },
  {
   "cell_type": "code",
   "execution_count": 8,
   "metadata": {
    "collapsed": false
   },
   "outputs": [],
   "source": [
    "(A,B,Pi) = dhmm.params"
   ]
  },
  {
   "cell_type": "markdown",
   "metadata": {},
   "source": [
    "### Generate Random State and Emission Sequence\n",
    " Now we can use our model to generate state and emission sequence.   \n",
    " The model will randomly choose which transition or emission will happen, taking into consideration the parameters we have previously defined.\n"
   ]
  },
  {
   "cell_type": "code",
   "execution_count": 9,
   "metadata": {
    "collapsed": false
   },
   "outputs": [
    {
     "data": {
      "image/png": "[encoded data removed]",
      "text/plain": [
       "<matplotlib.figure.Figure at 0x7fb7426db128>"
      ]
     },
     "metadata": {},
     "output_type": "display_data"
    }
   ],
   "source": [
    "seq_len = 20\n",
    "s_seq, e_seq = dhmm.generate( seq_len )\n",
    "\n",
    "#resize plot\n",
    "plt.rcParams['figure.figsize'] = [20,20]\n",
    "\n",
    "hmms.plot_hmm( s_seq, e_seq )"
   ]
  },
  {
   "cell_type": "markdown",
   "metadata": {
    "collapsed": false
   },
   "source": [
    "### Find Most Likely State Sequence\n",
    "If we have the model parameters and emission sequence, we can find the most probable state sequence that would generate it. Notice, that it can be different, than the actual sequence that has generated the emissions.  \n",
    "We will use Viterbi algorithm for the calculation.\n"
   ]
  },
  {
   "cell_type": "code",
   "execution_count": 10,
   "metadata": {
    "collapsed": false
   },
   "outputs": [
    {
     "data": {
      "image/png": "[encoded data removed]",
      "text/plain": [
       "<matplotlib.figure.Figure at 0x7fb7426c8d68>"
      ]
     },
     "metadata": {},
     "output_type": "display_data"
    }
   ],
   "source": [
    "( log_prob, s_seq ) =  dhmm.viterbi( e_seq )\n",
    "# Let's print the most likely state sequence, it can be same or differ from the sequence above.\n",
    "hmms.plot_hmm( s_seq, e_seq )"
   ]
  },
  {
   "cell_type": "markdown",
   "metadata": {
    "collapsed": true
   },
   "source": [
    "The *prob* parameter store the probability of the sequence.  \n",
    "All the probabilities in the library are stored in the logarithm of their actual value. As the number of possible sequences grows exponentialy by it length, it could easily lead to float underflow.  \n",
    "You can easily transform it to the normal scale value applying *exp* function. "
   ]
  },
  {
   "cell_type": "code",
   "execution_count": 11,
   "metadata": {
    "collapsed": false
   },
   "outputs": [
    {
     "data": {
      "text/plain": [
       "1.5822415043907773e-07"
      ]
     },
     "execution_count": 11,
     "metadata": {},
     "output_type": "execute_result"
    }
   ],
   "source": [
    "np.exp( log_prob )"
   ]
  },
  {
   "cell_type": "markdown",
   "metadata": {},
   "source": [
    "### The Probability of the Emission Sequence\n",
    "We can compute the probabilityoft the model generating the emission sequence."
   ]
  },
  {
   "cell_type": "code",
   "execution_count": 12,
   "metadata": {
    "collapsed": false
   },
   "outputs": [
    {
     "data": {
      "text/plain": [
       "1.1839976408168135e-06"
      ]
     },
     "execution_count": 12,
     "metadata": {},
     "output_type": "execute_result"
    }
   ],
   "source": [
    "np.exp( dhmm.emission_estimate( e_seq ) )"
   ]
  },
  {
   "cell_type": "markdown",
   "metadata": {},
   "source": [
    "### Generate Artificial Dataset\n",
    "\n",
    "You can easily generate many sequences in once by using the generate_data function.\n",
    "The generated emission sequences are in the form that is suitable for training of parameters. You can switch times=True, if you want to generate also the corresponding equidistant time sequences."
   ]
  },
  {
   "cell_type": "code",
   "execution_count": 13,
   "metadata": {
    "collapsed": false
   },
   "outputs": [
    {
     "data": {
      "text/plain": [
       "(array([[0, 0, 1, 0, 1, 1, 1, 0, 0, 0],\n",
       "        [0, 0, 1, 1, 1, 1, 1, 0, 0, 0],\n",
       "        [0, 0, 0, 1, 1, 0, 0, 0, 0, 1]]),\n",
       " array([[0, 0, 1, 0, 1, 2, 1, 0, 0, 0],\n",
       "        [0, 0, 0, 1, 1, 2, 0, 0, 0, 0],\n",
       "        [0, 0, 0, 2, 0, 0, 0, 0, 0, 1]]))"
      ]
     },
     "execution_count": 13,
     "metadata": {},
     "output_type": "execute_result"
    }
   ],
   "source": [
    "seq_num= 3   #number of data sequences\n",
    "seq_len= 10  #length of each sequence\n",
    "\n",
    "dhmm.generate_data( (seq_num,seq_len) )"
   ]
  },
  {
   "cell_type": "markdown",
   "metadata": {},
   "source": [
    "### Parameters Estimation - Baum Welch Algorithm\n",
    "We usually do not know the real parameters of the model. But, if we have sufficient data, we can estimate them by EM algorithm.  \n",
    "Here we will have several output variables (emissions) sequences and we will show, how to use them to train the model parameters\n",
    "\n",
    "Let's start by creating some artifficial data. We will use the previously defined *dhmm* model for it.\n"
   ]
  },
  {
   "cell_type": "code",
   "execution_count": 14,
   "metadata": {
    "collapsed": false
   },
   "outputs": [
    {
     "data": {
      "text/plain": [
       "array([[0, 0, 0, 0, 0, 0, 0, 0, 0, 0, 1, 0, 0, 0, 0, 0, 1, 0, 0, 0, 0, 0,\n",
       "        0, 0, 1, 1, 1, 1, 0, 0, 0, 0, 0, 0, 0, 0, 1, 0, 0, 2, 1, 0, 0, 0,\n",
       "        1, 1, 0, 1, 1, 0],\n",
       "       [0, 0, 0, 0, 1, 0, 0, 0, 2, 0, 0, 0, 0, 1, 1, 0, 0, 1, 1, 0, 0, 0,\n",
       "        0, 0, 0, 0, 0, 0, 0, 0, 0, 1, 0, 0, 1, 0, 0, 0, 2, 0, 0, 0, 0, 0,\n",
       "        0, 0, 0, 1, 0, 0],\n",
       "       [1, 0, 2, 1, 1, 0, 0, 0, 1, 0, 0, 0, 0, 0, 0, 0, 0, 1, 0, 0, 1, 0,\n",
       "        0, 2, 0, 0, 0, 0, 0, 0, 0, 0, 0, 0, 0, 0, 0, 0, 0, 0, 0, 0, 0, 0,\n",
       "        0, 0, 1, 1, 0, 0],\n",
       "       [1, 2, 2, 0, 0, 0, 0, 0, 0, 0, 0, 1, 2, 1, 2, 2, 1, 1, 1, 0, 1, 0,\n",
       "        0, 0, 0, 0, 1, 0, 0, 0, 0, 0, 0, 0, 0, 1, 0, 0, 0, 0, 0, 0, 0, 0,\n",
       "        0, 1, 0, 0, 0, 0],\n",
       "       [1, 0, 0, 0, 0, 2, 1, 1, 0, 0, 0, 0, 0, 0, 0, 0, 0, 0, 0, 0, 0, 0,\n",
       "        0, 0, 0, 0, 0, 0, 0, 1, 0, 0, 0, 0, 0, 0, 0, 0, 0, 0, 2, 0, 0, 0,\n",
       "        0, 1, 2, 1, 2, 0]])"
      ]
     },
     "execution_count": 14,
     "metadata": {},
     "output_type": "execute_result"
    }
   ],
   "source": [
    "seq_num = 5\n",
    "seq_len = 50\n",
    "data = np.empty( (seq_num, seq_len), dtype=int )\n",
    "\n",
    "_ , data = dhmm.generate_data( (seq_num,seq_len) )\n",
    "\n",
    "data"
   ]
  },
  {
   "cell_type": "markdown",
   "metadata": {},
   "source": [
    "Now, we will create the model with random parameters, that will be eventually trained to much the data."
   ]
  },
  {
   "cell_type": "code",
   "execution_count": 15,
   "metadata": {
    "collapsed": false
   },
   "outputs": [
    {
     "name": "stdout",
     "output_type": "stream",
     "text": [
      "Initial probabilities (π) :\n"
     ]
    },
    {
     "data": {
      "text/html": [
       "<div>\n",
       "<table border=\"1\" class=\"dataframe\">\n",
       "  <thead>\n",
       "    <tr style=\"text-align: right;\">\n",
       "      <th></th>\n",
       "      <th>0</th>\n",
       "    </tr>\n",
       "  </thead>\n",
       "  <tbody>\n",
       "    <tr>\n",
       "      <th>0</th>\n",
       "      <td>0.487431</td>\n",
       "    </tr>\n",
       "    <tr>\n",
       "      <th>1</th>\n",
       "      <td>0.512569</td>\n",
       "    </tr>\n",
       "  </tbody>\n",
       "</table>\n",
       "</div>"
      ],
      "text/plain": [
       "          0\n",
       "0  0.487431\n",
       "1  0.512569"
      ]
     },
     "metadata": {},
     "output_type": "display_data"
    },
    {
     "name": "stdout",
     "output_type": "stream",
     "text": [
      "Transition probabilities matrix (A):\n"
     ]
    },
    {
     "data": {
      "text/html": [
       "<div>\n",
       "<table border=\"1\" class=\"dataframe\">\n",
       "  <thead>\n",
       "    <tr style=\"text-align: right;\">\n",
       "      <th></th>\n",
       "      <th>0</th>\n",
       "      <th>1</th>\n",
       "    </tr>\n",
       "  </thead>\n",
       "  <tbody>\n",
       "    <tr>\n",
       "      <th>0</th>\n",
       "      <td>0.225174</td>\n",
       "      <td>0.774826</td>\n",
       "    </tr>\n",
       "    <tr>\n",
       "      <th>1</th>\n",
       "      <td>0.440121</td>\n",
       "      <td>0.559879</td>\n",
       "    </tr>\n",
       "  </tbody>\n",
       "</table>\n",
       "</div>"
      ],
      "text/plain": [
       "          0         1\n",
       "0  0.225174  0.774826\n",
       "1  0.440121  0.559879"
      ]
     },
     "metadata": {},
     "output_type": "display_data"
    },
    {
     "name": "stdout",
     "output_type": "stream",
     "text": [
      "Emission probabilities matrix (B):\n"
     ]
    },
    {
     "data": {
      "text/html": [
       "<div>\n",
       "<table border=\"1\" class=\"dataframe\">\n",
       "  <thead>\n",
       "    <tr style=\"text-align: right;\">\n",
       "      <th></th>\n",
       "      <th>0</th>\n",
       "      <th>1</th>\n",
       "      <th>2</th>\n",
       "    </tr>\n",
       "  </thead>\n",
       "  <tbody>\n",
       "    <tr>\n",
       "      <th>0</th>\n",
       "      <td>0.481975</td>\n",
       "      <td>0.006696</td>\n",
       "      <td>0.511330</td>\n",
       "    </tr>\n",
       "    <tr>\n",
       "      <th>1</th>\n",
       "      <td>0.489328</td>\n",
       "      <td>0.065943</td>\n",
       "      <td>0.444729</td>\n",
       "    </tr>\n",
       "  </tbody>\n",
       "</table>\n",
       "</div>"
      ],
      "text/plain": [
       "          0         1         2\n",
       "0  0.481975  0.006696  0.511330\n",
       "1  0.489328  0.065943  0.444729"
      ]
     },
     "metadata": {},
     "output_type": "display_data"
    }
   ],
   "source": [
    "dhmm_r = hmms.DtHMM.random( 2,3 )\n",
    "# We can print all the parameters.\n",
    "hmms.print_parameters( dhmm_r )"
   ]
  },
  {
   "cell_type": "markdown",
   "metadata": {},
   "source": [
    "Let's compare the dataset likelihood estimation of model used for generating the data and the random parameters model. "
   ]
  },
  {
   "cell_type": "code",
   "execution_count": 16,
   "metadata": {
    "collapsed": false
   },
   "outputs": [
    {
     "name": "stdout",
     "output_type": "stream",
     "text": [
      "Generator model: 5.92028078546e-70\n",
      "Random model:    1.56696982137e-125\n"
     ]
    }
   ],
   "source": [
    "print( \"Generator model:\" , np.exp( dhmm.data_estimate(data)   ) )\n",
    "print( \"Random model:   \" ,np.exp( dhmm_r.data_estimate(data) ) )"
   ]
  },
  {
   "cell_type": "markdown",
   "metadata": {},
   "source": [
    "Most likely the probability that the data was generated by random model is extremly low.\n",
    "\n",
    "Now we can take the random model and reestimate it to fit the data better."
   ]
  },
  {
   "cell_type": "code",
   "execution_count": 17,
   "metadata": {
    "collapsed": false
   },
   "outputs": [
    {
     "name": "stdout",
     "output_type": "stream",
     "text": [
      "Reestimated model after 10 iterations:    4.29626311587e-73\n"
     ]
    }
   ],
   "source": [
    "dhmm_r.baum_welch( data, 10 )\n",
    "print( \"Reestimated model after 10 iterations:   \" ,np.exp( dhmm_r.data_estimate(data) ) )"
   ]
  },
  {
   "cell_type": "markdown",
   "metadata": {},
   "source": [
    "The probability of the reestimated model should now be similiar (possibly even higher) that the generator's model. If it is not, you can try to run the estimation procedure more time at different randomly generated models. It could happen that the estimation fall in the local optima.\n",
    "\n",
    "If you are satisfied with the results, you can run some more iteration to fine-tune it."
   ]
  },
  {
   "cell_type": "code",
   "execution_count": 18,
   "metadata": {
    "collapsed": false
   },
   "outputs": [
    {
     "name": "stdout",
     "output_type": "stream",
     "text": [
      "Reestimated model after 110 iterations:    1.32552480235e-72\n"
     ]
    }
   ],
   "source": [
    "dhmm_r.baum_welch( data, 100 )\n",
    "print( \"Reestimated model after 110 iterations:   \" ,np.exp( dhmm_r.data_estimate(data) ) )"
   ]
  },
  {
   "cell_type": "markdown",
   "metadata": {},
   "source": [
    "We can compare the parameters of the model."
   ]
  },
  {
   "cell_type": "code",
   "execution_count": 19,
   "metadata": {
    "collapsed": false
   },
   "outputs": [
    {
     "name": "stdout",
     "output_type": "stream",
     "text": [
      "Initial probabilities (π) :\n"
     ]
    },
    {
     "data": {
      "text/html": [
       "<div>\n",
       "<table border=\"1\" class=\"dataframe\">\n",
       "  <thead>\n",
       "    <tr style=\"text-align: right;\">\n",
       "      <th></th>\n",
       "      <th>0</th>\n",
       "    </tr>\n",
       "  </thead>\n",
       "  <tbody>\n",
       "    <tr>\n",
       "      <th>0</th>\n",
       "      <td>3.587002e-32</td>\n",
       "    </tr>\n",
       "    <tr>\n",
       "      <th>1</th>\n",
       "      <td>1.000000e+00</td>\n",
       "    </tr>\n",
       "  </tbody>\n",
       "</table>\n",
       "</div>"
      ],
      "text/plain": [
       "              0\n",
       "0  3.587002e-32\n",
       "1  1.000000e+00"
      ]
     },
     "metadata": {},
     "output_type": "display_data"
    },
    {
     "name": "stdout",
     "output_type": "stream",
     "text": [
      "Transition probabilities matrix (A):\n"
     ]
    },
    {
     "data": {
      "text/html": [
       "<div>\n",
       "<table border=\"1\" class=\"dataframe\">\n",
       "  <thead>\n",
       "    <tr style=\"text-align: right;\">\n",
       "      <th></th>\n",
       "      <th>0</th>\n",
       "      <th>1</th>\n",
       "    </tr>\n",
       "  </thead>\n",
       "  <tbody>\n",
       "    <tr>\n",
       "      <th>0</th>\n",
       "      <td>0.566020</td>\n",
       "      <td>0.433980</td>\n",
       "    </tr>\n",
       "    <tr>\n",
       "      <th>1</th>\n",
       "      <td>0.528711</td>\n",
       "      <td>0.471289</td>\n",
       "    </tr>\n",
       "  </tbody>\n",
       "</table>\n",
       "</div>"
      ],
      "text/plain": [
       "          0         1\n",
       "0  0.566020  0.433980\n",
       "1  0.528711  0.471289"
      ]
     },
     "metadata": {},
     "output_type": "display_data"
    },
    {
     "name": "stdout",
     "output_type": "stream",
     "text": [
      "Emission probabilities matrix (B):\n"
     ]
    },
    {
     "data": {
      "text/html": [
       "<div>\n",
       "<table border=\"1\" class=\"dataframe\">\n",
       "  <thead>\n",
       "    <tr style=\"text-align: right;\">\n",
       "      <th></th>\n",
       "      <th>0</th>\n",
       "      <th>1</th>\n",
       "      <th>2</th>\n",
       "    </tr>\n",
       "  </thead>\n",
       "  <tbody>\n",
       "    <tr>\n",
       "      <th>0</th>\n",
       "      <td>0.894397</td>\n",
       "      <td>0.001844</td>\n",
       "      <td>0.103759</td>\n",
       "    </tr>\n",
       "    <tr>\n",
       "      <th>1</th>\n",
       "      <td>0.620972</td>\n",
       "      <td>0.378582</td>\n",
       "      <td>0.000446</td>\n",
       "    </tr>\n",
       "  </tbody>\n",
       "</table>\n",
       "</div>"
      ],
      "text/plain": [
       "          0         1         2\n",
       "0  0.894397  0.001844  0.103759\n",
       "1  0.620972  0.378582  0.000446"
      ]
     },
     "metadata": {},
     "output_type": "display_data"
    },
    {
     "name": "stdout",
     "output_type": "stream",
     "text": [
      "Initial probabilities (π) :\n"
     ]
    },
    {
     "data": {
      "text/html": [
       "<div>\n",
       "<table border=\"1\" class=\"dataframe\">\n",
       "  <thead>\n",
       "    <tr style=\"text-align: right;\">\n",
       "      <th></th>\n",
       "      <th>0</th>\n",
       "    </tr>\n",
       "  </thead>\n",
       "  <tbody>\n",
       "    <tr>\n",
       "      <th>0</th>\n",
       "      <td>0.8</td>\n",
       "    </tr>\n",
       "    <tr>\n",
       "      <th>1</th>\n",
       "      <td>0.2</td>\n",
       "    </tr>\n",
       "  </tbody>\n",
       "</table>\n",
       "</div>"
      ],
      "text/plain": [
       "     0\n",
       "0  0.8\n",
       "1  0.2"
      ]
     },
     "metadata": {},
     "output_type": "display_data"
    },
    {
     "name": "stdout",
     "output_type": "stream",
     "text": [
      "Transition probabilities matrix (A):\n"
     ]
    },
    {
     "data": {
      "text/html": [
       "<div>\n",
       "<table border=\"1\" class=\"dataframe\">\n",
       "  <thead>\n",
       "    <tr style=\"text-align: right;\">\n",
       "      <th></th>\n",
       "      <th>0</th>\n",
       "      <th>1</th>\n",
       "    </tr>\n",
       "  </thead>\n",
       "  <tbody>\n",
       "    <tr>\n",
       "      <th>0</th>\n",
       "      <td>0.9</td>\n",
       "      <td>0.1</td>\n",
       "    </tr>\n",
       "    <tr>\n",
       "      <th>1</th>\n",
       "      <td>0.4</td>\n",
       "      <td>0.6</td>\n",
       "    </tr>\n",
       "  </tbody>\n",
       "</table>\n",
       "</div>"
      ],
      "text/plain": [
       "     0    1\n",
       "0  0.9  0.1\n",
       "1  0.4  0.6"
      ]
     },
     "metadata": {},
     "output_type": "display_data"
    },
    {
     "name": "stdout",
     "output_type": "stream",
     "text": [
      "Emission probabilities matrix (B):\n"
     ]
    },
    {
     "data": {
      "text/html": [
       "<div>\n",
       "<table border=\"1\" class=\"dataframe\">\n",
       "  <thead>\n",
       "    <tr style=\"text-align: right;\">\n",
       "      <th></th>\n",
       "      <th>0</th>\n",
       "      <th>1</th>\n",
       "      <th>2</th>\n",
       "    </tr>\n",
       "  </thead>\n",
       "  <tbody>\n",
       "    <tr>\n",
       "      <th>0</th>\n",
       "      <td>0.9</td>\n",
       "      <td>0.08</td>\n",
       "      <td>0.02</td>\n",
       "    </tr>\n",
       "    <tr>\n",
       "      <th>1</th>\n",
       "      <td>0.2</td>\n",
       "      <td>0.50</td>\n",
       "      <td>0.30</td>\n",
       "    </tr>\n",
       "  </tbody>\n",
       "</table>\n",
       "</div>"
      ],
      "text/plain": [
       "     0     1     2\n",
       "0  0.9  0.08  0.02\n",
       "1  0.2  0.50  0.30"
      ]
     },
     "metadata": {},
     "output_type": "display_data"
    }
   ],
   "source": [
    "hmms.print_parameters( dhmm_r )\n",
    "hmms.print_parameters( dhmm )"
   ]
  },
  {
   "cell_type": "markdown",
   "metadata": {
    "collapsed": false,
    "scrolled": true
   },
   "source": [
    "Alternatively, we can run *baum_welch_graph* method to get learning curve of estimated probabilities."
   ]
  },
  {
   "cell_type": "code",
   "execution_count": 20,
   "metadata": {
    "collapsed": false,
    "scrolled": false
   },
   "outputs": [
    {
     "data": {
      "text/plain": [
       "array([  1.86483957e-108,   8.66892470e-074,   1.20591400e-073,\n",
       "         1.51720118e-073,   1.82126310e-073,   2.14351791e-073,\n",
       "         2.50770940e-073,   2.93337549e-073,   3.43433349e-073,\n",
       "         4.01722623e-073,   4.68201643e-073,   5.42311849e-073,\n",
       "         6.23245389e-073,   7.10336402e-073,   8.03284739e-073,\n",
       "         9.02496059e-073,   1.00920654e-072,   1.12579971e-072,\n",
       "         1.25622699e-072,   1.40664991e-072,   1.58659072e-072,\n",
       "         1.81150116e-072,   2.10725411e-072,   2.52059099e-072,\n",
       "         3.14315489e-072,   4.17609336e-072,   6.12439674e-072,\n",
       "         1.04686236e-071,   2.22515323e-071,   5.95345605e-071,\n",
       "         1.72003677e-070,   4.08574363e-070,   7.07430500e-070,\n",
       "         9.89374921e-070,   1.30080650e-069,   1.74102340e-069,\n",
       "         2.32680691e-069,   2.93745744e-069,   3.48012961e-069,\n",
       "         3.97382636e-069,   4.45557049e-069,   4.93917202e-069,\n",
       "         5.42461924e-069,   5.90717697e-069,   6.38133626e-069,\n",
       "         6.84137077e-069,   7.28282352e-069,   7.70147276e-069,\n",
       "         8.09376648e-069,   8.45789684e-069,   8.79240591e-069])"
      ]
     },
     "execution_count": 20,
     "metadata": {},
     "output_type": "execute_result"
    }
   ],
   "source": [
    "dhmm_r = hmms.DtHMM.random(2,3) \n",
    "out = dhmm_r.baum_welch_graph( data, 50 )\n",
    "\n",
    "np.exp(out)"
   ]
  },
  {
   "cell_type": "markdown",
   "metadata": {},
   "source": [
    "Let's plot it in the graph, comparing the results in ratio with *real* data-generator model. ( Notice, it is the ratio of logaritmic probability values. )"
   ]
  },
  {
   "cell_type": "code",
   "execution_count": 21,
   "metadata": {
    "collapsed": false
   },
   "outputs": [
    {
     "data": {
      "image/png": "[encoded data removed]",
      "text/plain": [
       "<matplotlib.figure.Figure at 0x7fb74027c8d0>"
      ]
     },
     "metadata": {},
     "output_type": "display_data"
    }
   ],
   "source": [
    "real = dhmm.data_estimate(data)\n",
    "#For better visibility of the graph, we cut first two values.\n",
    "plt.plot( out[2:] / real  )\n",
    "plt.show()"
   ]
  },
  {
   "cell_type": "markdown",
   "metadata": {},
   "source": [
    "<a id='cthmm'></a>\n",
    "Part 2: Continuous Time Hidden Markov Model\n",
    "-----------------------------------------------------"
   ]
  },
  {
   "cell_type": "code",
   "execution_count": 22,
   "metadata": {
    "collapsed": true
   },
   "outputs": [],
   "source": [
    "import numpy as np\n",
    "import matplotlib.pyplot as plt\n",
    "import hmms\n",
    "\n",
    "%matplotlib inline"
   ]
  },
  {
   "cell_type": "markdown",
   "metadata": {},
   "source": [
    "### Construct CtHMM \n",
    "Construction of CtHMM is similar to the discrete model. \n",
    "\n",
    "You can directly initialize the CtHMM by passing the **model parameters**.  \n",
    "We will create simple CtHMM of three hidden states and three output variables."
   ]
  },
  {
   "cell_type": "code",
   "execution_count": 23,
   "metadata": {
    "collapsed": false
   },
   "outputs": [],
   "source": [
    "# Q is the matrix of transition rates from state [row] to state [column].\n",
    "Q = np.array( [[-0.375,0.125,0.25],[0.25,-0.5,0.25],[0.25,0.125,-0.375]] )\n",
    "# B is the matrix of probabilities that the state [row] will emmit output variable [column].\n",
    "B = np.array( [[0.8,0.05,0.15],[0.05,0.9,0.05],[0.2,0.05,0.75]] )\n",
    "# Pi is the vector of initial state probabilities.   \n",
    "Pi = np.array( [0.6,0,0.4] )\n",
    "\n",
    "# Create CtHMM by given parameters.\n",
    "chmm = hmms.CtHMM(Q,B,Pi)"
   ]
  },
  {
   "cell_type": "markdown",
   "metadata": {},
   "source": [
    "Or you can initialize it by **random parameters**. Passing the number of hidden states and output variables. "
   ]
  },
  {
   "cell_type": "code",
   "execution_count": 24,
   "metadata": {
    "collapsed": true
   },
   "outputs": [],
   "source": [
    "chmm_random = hmms.CtHMM.random(3,3)"
   ]
  },
  {
   "cell_type": "markdown",
   "metadata": {},
   "source": [
    "### Save & Read from File\n",
    "\n",
    "Once you have created the model you can save its parameters in file simply by calling save_params method."
   ]
  },
  {
   "cell_type": "code",
   "execution_count": 25,
   "metadata": {
    "collapsed": false
   },
   "outputs": [],
   "source": [
    "chmm.save_params(\"Models/hello_cthmm\") "
   ]
  },
  {
   "cell_type": "markdown",
   "metadata": {},
   "source": [
    "The method stored the parameters in .npz format.\n",
    "The saved file can be later used to read parametrs for model initialization."
   ]
  },
  {
   "cell_type": "code",
   "execution_count": 26,
   "metadata": {
    "collapsed": false
   },
   "outputs": [],
   "source": [
    "chmm_from_file = hmms.CtHMM.from_file( \"Models/hello_cthmm.npz\" )"
   ]
  },
  {
   "cell_type": "markdown",
   "metadata": {},
   "source": [
    "### Set & Get Parameters\n",
    "Later you can always set parameters with triple of methods corresponding to the constructors."
   ]
  },
  {
   "cell_type": "code",
   "execution_count": 27,
   "metadata": {
    "collapsed": false
   },
   "outputs": [],
   "source": [
    "chmm.set_params(Q,B,Pi)\n",
    "chmm.set_params_random(3,3)\n",
    "chmm.set_params_from_file( \"Models/hello_cthmm.npz\" )"
   ]
  },
  {
   "cell_type": "markdown",
   "metadata": {},
   "source": [
    "You can **get** parameters by calling them separately,"
   ]
  },
  {
   "cell_type": "code",
   "execution_count": 28,
   "metadata": {
    "collapsed": false
   },
   "outputs": [
    {
     "data": {
      "text/plain": [
       "(array([[-0.375,  0.125,  0.25 ],\n",
       "        [ 0.25 , -0.5  ,  0.25 ],\n",
       "        [ 0.25 ,  0.125, -0.375]]), array([[ 0.8 ,  0.05,  0.15],\n",
       "        [ 0.05,  0.9 ,  0.05],\n",
       "        [ 0.2 ,  0.05,  0.75]]), array([ 0.6,  0. ,  0.4]))"
      ]
     },
     "execution_count": 28,
     "metadata": {},
     "output_type": "execute_result"
    }
   ],
   "source": [
    "chmm.q, chmm.b, chmm.pi"
   ]
  },
  {
   "cell_type": "markdown",
   "metadata": {},
   "source": [
    "or get them all together as the triple."
   ]
  },
  {
   "cell_type": "code",
   "execution_count": 29,
   "metadata": {
    "collapsed": false
   },
   "outputs": [],
   "source": [
    "(A,B,Pi) = chmm.params"
   ]
  },
  {
   "cell_type": "markdown",
   "metadata": {},
   "source": [
    "### Generate Random Sequence\n",
    "Now we can use our model to **generate** time, state and emission sequence.\n",
    "The model will **randomly** choose which transition or emission will happen, taking into consideration the parameters we have previously defined.\n",
    "\n",
    "The times are generated with **exponencial** waiting times, you can define the parameter of exponencial distribution as second optional parameter. \n"
   ]
  },
  {
   "cell_type": "code",
   "execution_count": 30,
   "metadata": {
    "collapsed": false
   },
   "outputs": [
    {
     "data": {
      "image/png": "[encoded data removed]",
      "text/plain": [
       "<matplotlib.figure.Figure at 0x7fb740240ac8>"
      ]
     },
     "metadata": {},
     "output_type": "display_data"
    }
   ],
   "source": [
    "seq_len = 10\n",
    "t_seq, s_seq, e_seq = chmm.generate( seq_len, 0.5 )\n",
    "\n",
    "#resize plot\n",
    "plt.rcParams['figure.figsize'] = [20,20]\n",
    "\n",
    "hmms.plot_hmm( s_seq, e_seq, time=t_seq )"
   ]
  },
  {
   "cell_type": "markdown",
   "metadata": {},
   "source": [
    "### Generate Artificial  Dataset\n",
    "You can easily generate many sequences in once by using the *generate_data* function.  \n",
    "The generated data are in the form that is suitable for training of parameters. \n",
    "You can switch *states=True*, if you want to generate also the corresponding state sequences.\n",
    "\n",
    "TODO: The times are generated with **exponencial** waiting times, you can define the parameter of exponencial distribution as second optional parameter. "
   ]
  },
  {
   "cell_type": "code",
   "execution_count": 31,
   "metadata": {
    "collapsed": false
   },
   "outputs": [
    {
     "data": {
      "text/plain": [
       "(array([[ 0,  2,  4,  5,  6,  7,  8, 13, 14, 15, 19, 33, 41, 42, 43, 45, 50,\n",
       "         51, 52, 58, 64, 70, 71, 73, 75, 77, 79, 80, 82, 83],\n",
       "        [ 0,  1,  4,  9, 11, 14, 16, 19, 28, 30, 34, 36, 44, 45, 46, 52, 56,\n",
       "         57, 59, 61, 63, 65, 72, 74, 75, 82, 83, 86, 95, 97],\n",
       "        [ 0,  3,  5,  9, 13, 15, 16, 17, 20, 21, 28, 30, 33, 34, 35, 37, 41,\n",
       "         42, 43, 45, 48, 51, 56, 58, 62, 65, 67, 70, 71, 72],\n",
       "        [ 0,  1,  5,  8, 10, 11, 14, 16, 17, 21, 23, 26, 27, 30, 31, 33, 34,\n",
       "         35, 39, 41, 42, 43, 47, 50, 53, 54, 55, 60, 61, 65],\n",
       "        [ 0,  8,  9, 10, 13, 14, 16, 17, 18, 21, 22, 25, 26, 28, 30, 31, 32,\n",
       "         34, 35, 39, 41, 45, 48, 50, 52, 54, 55, 58, 59, 63]]),\n",
       " array([[2, 2, 1, 2, 2, 2, 2, 2, 2, 2, 2, 2, 1, 2, 2, 2, 2, 2, 1, 2, 0, 0,\n",
       "         1, 1, 0, 2, 1, 1, 1, 2],\n",
       "        [0, 0, 2, 0, 1, 0, 1, 2, 0, 1, 2, 1, 0, 1, 2, 0, 2, 2, 2, 2, 0, 0,\n",
       "         2, 0, 2, 2, 2, 1, 1, 0],\n",
       "        [2, 1, 2, 0, 0, 0, 0, 0, 0, 0, 1, 0, 0, 0, 0, 0, 2, 0, 0, 2, 0, 0,\n",
       "         1, 2, 1, 2, 2, 2, 2, 2],\n",
       "        [0, 1, 1, 2, 2, 2, 0, 0, 0, 2, 2, 2, 2, 0, 1, 2, 2, 1, 0, 2, 2, 2,\n",
       "         1, 1, 2, 0, 2, 1, 1, 2],\n",
       "        [2, 1, 1, 1, 2, 0, 1, 1, 1, 2, 2, 1, 2, 0, 1, 1, 1, 2, 0, 0, 1, 2,\n",
       "         2, 2, 0, 0, 1, 1, 1, 0]]))"
      ]
     },
     "execution_count": 31,
     "metadata": {},
     "output_type": "execute_result"
    }
   ],
   "source": [
    "seq_num= 5   #number of data sequences\n",
    "seq_len= 30  #length of each sequence\n",
    "\n",
    "t,e = chmm.generate_data( (seq_num,seq_len) )\n",
    "t,e"
   ]
  },
  {
   "cell_type": "markdown",
   "metadata": {
    "collapsed": true
   },
   "source": [
    "### Parameters Estimation - Continuous Version of Baum Welch Algorithm\n",
    "\n",
    "We will use the previously generated data for the training of randomly generated model."
   ]
  },
  {
   "cell_type": "code",
   "execution_count": 32,
   "metadata": {
    "collapsed": false
   },
   "outputs": [
    {
     "name": "stdout",
     "output_type": "stream",
     "text": [
      "Initial probabilities (π) :\n"
     ]
    },
    {
     "data": {
      "text/html": [
       "<div>\n",
       "<table border=\"1\" class=\"dataframe\">\n",
       "  <thead>\n",
       "    <tr style=\"text-align: right;\">\n",
       "      <th></th>\n",
       "      <th>0</th>\n",
       "    </tr>\n",
       "  </thead>\n",
       "  <tbody>\n",
       "    <tr>\n",
       "      <th>0</th>\n",
       "      <td>0.217989</td>\n",
       "    </tr>\n",
       "    <tr>\n",
       "      <th>1</th>\n",
       "      <td>0.431969</td>\n",
       "    </tr>\n",
       "    <tr>\n",
       "      <th>2</th>\n",
       "      <td>0.350042</td>\n",
       "    </tr>\n",
       "  </tbody>\n",
       "</table>\n",
       "</div>"
      ],
      "text/plain": [
       "          0\n",
       "0  0.217989\n",
       "1  0.431969\n",
       "2  0.350042"
      ]
     },
     "metadata": {},
     "output_type": "display_data"
    },
    {
     "name": "stdout",
     "output_type": "stream",
     "text": [
      "Transition rate matrix (Q):\n"
     ]
    },
    {
     "data": {
      "text/html": [
       "<div>\n",
       "<table border=\"1\" class=\"dataframe\">\n",
       "  <thead>\n",
       "    <tr style=\"text-align: right;\">\n",
       "      <th></th>\n",
       "      <th>0</th>\n",
       "      <th>1</th>\n",
       "      <th>2</th>\n",
       "    </tr>\n",
       "  </thead>\n",
       "  <tbody>\n",
       "    <tr>\n",
       "      <th>0</th>\n",
       "      <td>-1.000000</td>\n",
       "      <td>0.643831</td>\n",
       "      <td>0.356169</td>\n",
       "    </tr>\n",
       "    <tr>\n",
       "      <th>1</th>\n",
       "      <td>0.642132</td>\n",
       "      <td>-1.000000</td>\n",
       "      <td>0.357868</td>\n",
       "    </tr>\n",
       "    <tr>\n",
       "      <th>2</th>\n",
       "      <td>0.991635</td>\n",
       "      <td>0.008365</td>\n",
       "      <td>-1.000000</td>\n",
       "    </tr>\n",
       "  </tbody>\n",
       "</table>\n",
       "</div>"
      ],
      "text/plain": [
       "          0         1         2\n",
       "0 -1.000000  0.643831  0.356169\n",
       "1  0.642132 -1.000000  0.357868\n",
       "2  0.991635  0.008365 -1.000000"
      ]
     },
     "metadata": {},
     "output_type": "display_data"
    },
    {
     "name": "stdout",
     "output_type": "stream",
     "text": [
      "Transition probabilities for one time unit :\n"
     ]
    },
    {
     "data": {
      "text/html": [
       "<div>\n",
       "<table border=\"1\" class=\"dataframe\">\n",
       "  <thead>\n",
       "    <tr style=\"text-align: right;\">\n",
       "      <th></th>\n",
       "      <th>0</th>\n",
       "      <th>1</th>\n",
       "      <th>2</th>\n",
       "    </tr>\n",
       "  </thead>\n",
       "  <tbody>\n",
       "    <tr>\n",
       "      <th>0</th>\n",
       "      <td>0.533439</td>\n",
       "      <td>0.271405</td>\n",
       "      <td>0.195156</td>\n",
       "    </tr>\n",
       "    <tr>\n",
       "      <th>1</th>\n",
       "      <td>0.339935</td>\n",
       "      <td>0.464528</td>\n",
       "      <td>0.195536</td>\n",
       "    </tr>\n",
       "    <tr>\n",
       "      <th>2</th>\n",
       "      <td>0.418175</td>\n",
       "      <td>0.129150</td>\n",
       "      <td>0.452675</td>\n",
       "    </tr>\n",
       "  </tbody>\n",
       "</table>\n",
       "</div>"
      ],
      "text/plain": [
       "          0         1         2\n",
       "0  0.533439  0.271405  0.195156\n",
       "1  0.339935  0.464528  0.195536\n",
       "2  0.418175  0.129150  0.452675"
      ]
     },
     "metadata": {},
     "output_type": "display_data"
    },
    {
     "name": "stdout",
     "output_type": "stream",
     "text": [
      "Emission probabilities matrix (B):\n"
     ]
    },
    {
     "data": {
      "text/html": [
       "<div>\n",
       "<table border=\"1\" class=\"dataframe\">\n",
       "  <thead>\n",
       "    <tr style=\"text-align: right;\">\n",
       "      <th></th>\n",
       "      <th>0</th>\n",
       "      <th>1</th>\n",
       "      <th>2</th>\n",
       "    </tr>\n",
       "  </thead>\n",
       "  <tbody>\n",
       "    <tr>\n",
       "      <th>0</th>\n",
       "      <td>0.203888</td>\n",
       "      <td>0.223744</td>\n",
       "      <td>0.572368</td>\n",
       "    </tr>\n",
       "    <tr>\n",
       "      <th>1</th>\n",
       "      <td>0.328629</td>\n",
       "      <td>0.366821</td>\n",
       "      <td>0.304550</td>\n",
       "    </tr>\n",
       "    <tr>\n",
       "      <th>2</th>\n",
       "      <td>0.063882</td>\n",
       "      <td>0.410970</td>\n",
       "      <td>0.525148</td>\n",
       "    </tr>\n",
       "  </tbody>\n",
       "</table>\n",
       "</div>"
      ],
      "text/plain": [
       "          0         1         2\n",
       "0  0.203888  0.223744  0.572368\n",
       "1  0.328629  0.366821  0.304550\n",
       "2  0.063882  0.410970  0.525148"
      ]
     },
     "metadata": {},
     "output_type": "display_data"
    }
   ],
   "source": [
    "chmm_r = hmms.CtHMM.random( 3,3 )\n",
    "# We can print all the parameters.\n",
    "hmms.print_parameters( chmm_r )"
   ]
  },
  {
   "cell_type": "markdown",
   "metadata": {},
   "source": [
    "Now we can compare the probabilities, that the data was generated by the given model. Its ratio is most probably not so big as in the disrete model. It is because the intervals between the observations are the source of many unknown, so it is pushing the probability of real model down. "
   ]
  },
  {
   "cell_type": "code",
   "execution_count": 33,
   "metadata": {
    "collapsed": false
   },
   "outputs": [
    {
     "name": "stdout",
     "output_type": "stream",
     "text": [
      "Generator model: 7.85828538368e-69\n",
      "Random model:    4.39631991872e-72\n"
     ]
    }
   ],
   "source": [
    "print( \"Generator model:\" , np.exp( chmm.data_estimate(t,e)   ) )\n",
    "print( \"Random model:   \" ,np.exp( chmm_r.data_estimate(t,e) ) )"
   ]
  },
  {
   "cell_type": "markdown",
   "metadata": {},
   "source": [
    "Let's run the EM algorithm for couple of iterations."
   ]
  },
  {
   "cell_type": "code",
   "execution_count": 34,
   "metadata": {
    "collapsed": false
   },
   "outputs": [
    {
     "data": {
      "text/plain": [
       "array([  4.39631992e-72,   1.54479818e-70,   1.82714605e-70,\n",
       "         2.17429704e-70,   2.62843186e-70,   3.23381582e-70,\n",
       "         4.05574241e-70,   5.19267950e-70,   6.79478553e-70,\n",
       "         9.09398871e-70,   1.24529797e-69,   1.74479985e-69,\n",
       "         2.50110344e-69,   3.66779362e-69,   5.50307062e-69,\n",
       "         8.44448553e-69,   1.32344586e-68,   2.11173257e-68,\n",
       "         3.41343149e-68,   5.55451320e-68,   9.04079965e-68,\n",
       "         1.46362030e-67,   2.34765436e-67,   3.72314152e-67,\n",
       "         5.83537859e-67,   9.04408120e-67,   1.38760640e-66,\n",
       "         2.10946426e-66,   3.17892943e-66,   4.74751704e-66,\n",
       "         7.01937371e-66,   1.02577961e-65,   1.47844738e-65,\n",
       "         2.09671737e-65,   2.91941097e-65,   3.98312258e-65,\n",
       "         5.31719269e-65,   6.93916066e-65,   8.85124839e-65,\n",
       "         1.10387766e-64,   1.34716462e-64,   1.61079573e-64,\n",
       "         1.88986062e-64,   2.17916958e-64,   2.47373500e-64,\n",
       "         2.76909935e-64,   3.06142098e-64,   3.34777412e-64,\n",
       "         3.62588773e-64,   3.89422631e-64,   4.15196592e-64,\n",
       "         4.39868634e-64,   4.63418560e-64,   4.85880849e-64,\n",
       "         5.07298721e-64,   5.27716524e-64,   5.47191524e-64,\n",
       "         5.65785836e-64,   5.83567688e-64,   6.00587299e-64,\n",
       "         6.16897227e-64,   6.32548801e-64,   6.47578906e-64,\n",
       "         6.62026019e-64,   6.75938833e-64,   6.89323121e-64,\n",
       "         7.02211262e-64,   7.14631232e-64,   7.26594255e-64,\n",
       "         7.38115284e-64,   7.49224281e-64,   7.59897288e-64,\n",
       "         7.70181552e-64,   7.80069187e-64,   7.89589630e-64,\n",
       "         7.98726418e-64,   8.07500581e-64,   8.15922807e-64,\n",
       "         8.24017846e-64,   8.31774262e-64,   8.39206630e-64,\n",
       "         8.46330823e-64,   8.53150911e-64,   8.59684829e-64,\n",
       "         8.65938396e-64,   8.71904783e-64,   8.77631011e-64,\n",
       "         8.83098347e-64,   8.88315049e-64,   8.93303546e-64,\n",
       "         8.98059657e-64,   9.02606924e-64,   9.06955764e-64,\n",
       "         9.11089190e-64,   9.15045959e-64,   9.18809588e-64,\n",
       "         9.22391632e-64,   9.25818104e-64,   9.29087167e-64,\n",
       "         9.32197068e-64,   9.35160401e-64])"
      ]
     },
     "execution_count": 34,
     "metadata": {},
     "output_type": "execute_result"
    }
   ],
   "source": [
    "out = chmm_r.baum_welch_graph( t,e, 100 )\n",
    "\n",
    "np.exp(out)"
   ]
  },
  {
   "cell_type": "markdown",
   "metadata": {},
   "source": [
    "We will plot its probabilities estimations in ratio with generator model. (Notice, it is the ratio of logarithms of probabilities)"
   ]
  },
  {
   "cell_type": "code",
   "execution_count": 35,
   "metadata": {
    "collapsed": false
   },
   "outputs": [
    {
     "data": {
      "image/png": "[encoded data removed]",
      "text/plain": [
       "<matplotlib.figure.Figure at 0x7fb74020f6d8>"
      ]
     },
     "metadata": {},
     "output_type": "display_data"
    }
   ],
   "source": [
    "real = chmm.data_estimate( t, e )\n",
    "#For better visibility of the graph, we cut first two values.\n",
    "plt.plot( out[2:] / real  )\n",
    "\n",
    "plt.show()"
   ]
  },
  {
   "cell_type": "markdown",
   "metadata": {},
   "source": [
    "<a id='conv'></a>\n",
    "Part 3: Comparison of Models Convergences\n",
    "-----------------------------------------------------"
   ]
  },
  {
   "cell_type": "markdown",
   "metadata": {},
   "source": [
    "In this chapter we will compare the convergence rate of discrete and continuous models. It will show some functions usefull for convergence among model parameters.  "
   ]
  },
  {
   "cell_type": "code",
   "execution_count": 36,
   "metadata": {
    "collapsed": true
   },
   "outputs": [],
   "source": [
    "import numpy as np\n",
    "import matplotlib.pyplot as plt\n",
    "import hmms\n",
    "\n",
    "%matplotlib inline"
   ]
  },
  {
   "cell_type": "markdown",
   "metadata": {},
   "source": [
    "We will start by defining the continuous time model. For that, who have read the previous section, it will be the familiar."
   ]
  },
  {
   "cell_type": "code",
   "execution_count": 37,
   "metadata": {
    "collapsed": false
   },
   "outputs": [
    {
     "name": "stdout",
     "output_type": "stream",
     "text": [
      "Initial probabilities (π) :\n"
     ]
    },
    {
     "data": {
      "text/html": [
       "<div>\n",
       "<table border=\"1\" class=\"dataframe\">\n",
       "  <thead>\n",
       "    <tr style=\"text-align: right;\">\n",
       "      <th></th>\n",
       "      <th>0</th>\n",
       "    </tr>\n",
       "  </thead>\n",
       "  <tbody>\n",
       "    <tr>\n",
       "      <th>0</th>\n",
       "      <td>0.6</td>\n",
       "    </tr>\n",
       "    <tr>\n",
       "      <th>1</th>\n",
       "      <td>0.0</td>\n",
       "    </tr>\n",
       "    <tr>\n",
       "      <th>2</th>\n",
       "      <td>0.4</td>\n",
       "    </tr>\n",
       "  </tbody>\n",
       "</table>\n",
       "</div>"
      ],
      "text/plain": [
       "     0\n",
       "0  0.6\n",
       "1  0.0\n",
       "2  0.4"
      ]
     },
     "metadata": {},
     "output_type": "display_data"
    },
    {
     "name": "stdout",
     "output_type": "stream",
     "text": [
      "Transition rate matrix (Q):\n"
     ]
    },
    {
     "data": {
      "text/html": [
       "<div>\n",
       "<table border=\"1\" class=\"dataframe\">\n",
       "  <thead>\n",
       "    <tr style=\"text-align: right;\">\n",
       "      <th></th>\n",
       "      <th>0</th>\n",
       "      <th>1</th>\n",
       "      <th>2</th>\n",
       "    </tr>\n",
       "  </thead>\n",
       "  <tbody>\n",
       "    <tr>\n",
       "      <th>0</th>\n",
       "      <td>-0.375</td>\n",
       "      <td>0.125</td>\n",
       "      <td>0.250</td>\n",
       "    </tr>\n",
       "    <tr>\n",
       "      <th>1</th>\n",
       "      <td>0.250</td>\n",
       "      <td>-0.500</td>\n",
       "      <td>0.250</td>\n",
       "    </tr>\n",
       "    <tr>\n",
       "      <th>2</th>\n",
       "      <td>0.250</td>\n",
       "      <td>0.125</td>\n",
       "      <td>-0.375</td>\n",
       "    </tr>\n",
       "  </tbody>\n",
       "</table>\n",
       "</div>"
      ],
      "text/plain": [
       "       0      1      2\n",
       "0 -0.375  0.125  0.250\n",
       "1  0.250 -0.500  0.250\n",
       "2  0.250  0.125 -0.375"
      ]
     },
     "metadata": {},
     "output_type": "display_data"
    },
    {
     "name": "stdout",
     "output_type": "stream",
     "text": [
      "Transition probabilities for one time unit :\n"
     ]
    },
    {
     "data": {
      "text/html": [
       "<div>\n",
       "<table border=\"1\" class=\"dataframe\">\n",
       "  <thead>\n",
       "    <tr style=\"text-align: right;\">\n",
       "      <th></th>\n",
       "      <th>0</th>\n",
       "      <th>1</th>\n",
       "      <th>2</th>\n",
       "    </tr>\n",
       "  </thead>\n",
       "  <tbody>\n",
       "    <tr>\n",
       "      <th>0</th>\n",
       "      <td>0.721157</td>\n",
       "      <td>0.092948</td>\n",
       "      <td>0.185895</td>\n",
       "    </tr>\n",
       "    <tr>\n",
       "      <th>1</th>\n",
       "      <td>0.185895</td>\n",
       "      <td>0.628209</td>\n",
       "      <td>0.185895</td>\n",
       "    </tr>\n",
       "    <tr>\n",
       "      <th>2</th>\n",
       "      <td>0.185895</td>\n",
       "      <td>0.092948</td>\n",
       "      <td>0.721157</td>\n",
       "    </tr>\n",
       "  </tbody>\n",
       "</table>\n",
       "</div>"
      ],
      "text/plain": [
       "          0         1         2\n",
       "0  0.721157  0.092948  0.185895\n",
       "1  0.185895  0.628209  0.185895\n",
       "2  0.185895  0.092948  0.721157"
      ]
     },
     "metadata": {},
     "output_type": "display_data"
    },
    {
     "name": "stdout",
     "output_type": "stream",
     "text": [
      "Emission probabilities matrix (B):\n"
     ]
    },
    {
     "data": {
      "text/html": [
       "<div>\n",
       "<table border=\"1\" class=\"dataframe\">\n",
       "  <thead>\n",
       "    <tr style=\"text-align: right;\">\n",
       "      <th></th>\n",
       "      <th>0</th>\n",
       "      <th>1</th>\n",
       "      <th>2</th>\n",
       "    </tr>\n",
       "  </thead>\n",
       "  <tbody>\n",
       "    <tr>\n",
       "      <th>0</th>\n",
       "      <td>0.80</td>\n",
       "      <td>0.05</td>\n",
       "      <td>0.15</td>\n",
       "    </tr>\n",
       "    <tr>\n",
       "      <th>1</th>\n",
       "      <td>0.05</td>\n",
       "      <td>0.90</td>\n",
       "      <td>0.05</td>\n",
       "    </tr>\n",
       "    <tr>\n",
       "      <th>2</th>\n",
       "      <td>0.20</td>\n",
       "      <td>0.05</td>\n",
       "      <td>0.75</td>\n",
       "    </tr>\n",
       "  </tbody>\n",
       "</table>\n",
       "</div>"
      ],
      "text/plain": [
       "      0     1     2\n",
       "0  0.80  0.05  0.15\n",
       "1  0.05  0.90  0.05\n",
       "2  0.20  0.05  0.75"
      ]
     },
     "metadata": {},
     "output_type": "display_data"
    }
   ],
   "source": [
    "Q = np.array( [[-0.375,0.125,0.25],[0.25,-0.5,0.25],[0.25,0.125,-0.375]] )\n",
    "B = np.array( [[0.8,0.05,0.15],[0.05,0.9,0.05],[0.2,0.05,0.75]] )\n",
    "Pi = np.array( [0.6,0,0.4] )\n",
    "\n",
    "chmm = hmms.CtHMM( Q,B,Pi )\n",
    "hmms.print_parameters( chmm )"
   ]
  },
  {
   "cell_type": "markdown",
   "metadata": {},
   "source": [
    "We can simply create discrete model with equivalent parameters, using function *get_dthmm_params*.  \n",
    "By default, it will create the model with transition probabilities equal to one time unit probability transition in continuous model. You can pass the optional parameter for different time steps.\n"
   ]
  },
  {
   "cell_type": "code",
   "execution_count": 38,
   "metadata": {
    "collapsed": false
   },
   "outputs": [
    {
     "name": "stdout",
     "output_type": "stream",
     "text": [
      "Initial probabilities (π) :\n"
     ]
    },
    {
     "data": {
      "text/html": [
       "<div>\n",
       "<table border=\"1\" class=\"dataframe\">\n",
       "  <thead>\n",
       "    <tr style=\"text-align: right;\">\n",
       "      <th></th>\n",
       "      <th>0</th>\n",
       "    </tr>\n",
       "  </thead>\n",
       "  <tbody>\n",
       "    <tr>\n",
       "      <th>0</th>\n",
       "      <td>0.6</td>\n",
       "    </tr>\n",
       "    <tr>\n",
       "      <th>1</th>\n",
       "      <td>0.0</td>\n",
       "    </tr>\n",
       "    <tr>\n",
       "      <th>2</th>\n",
       "      <td>0.4</td>\n",
       "    </tr>\n",
       "  </tbody>\n",
       "</table>\n",
       "</div>"
      ],
      "text/plain": [
       "     0\n",
       "0  0.6\n",
       "1  0.0\n",
       "2  0.4"
      ]
     },
     "metadata": {},
     "output_type": "display_data"
    },
    {
     "name": "stdout",
     "output_type": "stream",
     "text": [
      "Transition probabilities matrix (A):\n"
     ]
    },
    {
     "data": {
      "text/html": [
       "<div>\n",
       "<table border=\"1\" class=\"dataframe\">\n",
       "  <thead>\n",
       "    <tr style=\"text-align: right;\">\n",
       "      <th></th>\n",
       "      <th>0</th>\n",
       "      <th>1</th>\n",
       "      <th>2</th>\n",
       "    </tr>\n",
       "  </thead>\n",
       "  <tbody>\n",
       "    <tr>\n",
       "      <th>0</th>\n",
       "      <td>0.721157</td>\n",
       "      <td>0.092948</td>\n",
       "      <td>0.185895</td>\n",
       "    </tr>\n",
       "    <tr>\n",
       "      <th>1</th>\n",
       "      <td>0.185895</td>\n",
       "      <td>0.628209</td>\n",
       "      <td>0.185895</td>\n",
       "    </tr>\n",
       "    <tr>\n",
       "      <th>2</th>\n",
       "      <td>0.185895</td>\n",
       "      <td>0.092948</td>\n",
       "      <td>0.721157</td>\n",
       "    </tr>\n",
       "  </tbody>\n",
       "</table>\n",
       "</div>"
      ],
      "text/plain": [
       "          0         1         2\n",
       "0  0.721157  0.092948  0.185895\n",
       "1  0.185895  0.628209  0.185895\n",
       "2  0.185895  0.092948  0.721157"
      ]
     },
     "metadata": {},
     "output_type": "display_data"
    },
    {
     "name": "stdout",
     "output_type": "stream",
     "text": [
      "Emission probabilities matrix (B):\n"
     ]
    },
    {
     "data": {
      "text/html": [
       "<div>\n",
       "<table border=\"1\" class=\"dataframe\">\n",
       "  <thead>\n",
       "    <tr style=\"text-align: right;\">\n",
       "      <th></th>\n",
       "      <th>0</th>\n",
       "      <th>1</th>\n",
       "      <th>2</th>\n",
       "    </tr>\n",
       "  </thead>\n",
       "  <tbody>\n",
       "    <tr>\n",
       "      <th>0</th>\n",
       "      <td>0.80</td>\n",
       "      <td>0.05</td>\n",
       "      <td>0.15</td>\n",
       "    </tr>\n",
       "    <tr>\n",
       "      <th>1</th>\n",
       "      <td>0.05</td>\n",
       "      <td>0.90</td>\n",
       "      <td>0.05</td>\n",
       "    </tr>\n",
       "    <tr>\n",
       "      <th>2</th>\n",
       "      <td>0.20</td>\n",
       "      <td>0.05</td>\n",
       "      <td>0.75</td>\n",
       "    </tr>\n",
       "  </tbody>\n",
       "</table>\n",
       "</div>"
      ],
      "text/plain": [
       "      0     1     2\n",
       "0  0.80  0.05  0.15\n",
       "1  0.05  0.90  0.05\n",
       "2  0.20  0.05  0.75"
      ]
     },
     "metadata": {},
     "output_type": "display_data"
    }
   ],
   "source": [
    "dhmm = hmms.DtHMM( *chmm.get_dthmm_params() )\n",
    "hmms.print_parameters( dhmm )"
   ]
  },
  {
   "cell_type": "markdown",
   "metadata": {},
   "source": [
    "We can let the disrete model to generate the data sufficient for both models by passing the *times* parameter as *True*."
   ]
  },
  {
   "cell_type": "code",
   "execution_count": 39,
   "metadata": {
    "collapsed": false
   },
   "outputs": [],
   "source": [
    "t,_,e = dhmm.generate_data( (50,50), times=True )   \n",
    "# The free space in the return triple is for the state sequences, we do not need them for the training "
   ]
  },
  {
   "cell_type": "markdown",
   "metadata": {},
   "source": [
    "We can compare the estimation of the data, using both of the model. (They should be the same.)"
   ]
  },
  {
   "cell_type": "code",
   "execution_count": 40,
   "metadata": {
    "collapsed": false
   },
   "outputs": [
    {
     "name": "stdout",
     "output_type": "stream",
     "text": [
      "Data estimation by continuous model: -2406.437744140625\n",
      "Data estimation by discrete model:   -2406.437744140625\n"
     ]
    }
   ],
   "source": [
    "creal = chmm.data_estimate(t,e)\n",
    "dreal = dhmm.data_estimate(e)\n",
    "print(\"Data estimation by continuous model:\", creal)\n",
    "print(\"Data estimation by discrete model:  \", dreal)"
   ]
  },
  {
   "cell_type": "markdown",
   "metadata": {},
   "source": [
    "Now we will create two equivalent random models. "
   ]
  },
  {
   "cell_type": "code",
   "execution_count": 41,
   "metadata": {
    "collapsed": false
   },
   "outputs": [
    {
     "name": "stdout",
     "output_type": "stream",
     "text": [
      "Initial probabilities (π) :\n"
     ]
    },
    {
     "data": {
      "text/html": [
       "<div>\n",
       "<table border=\"1\" class=\"dataframe\">\n",
       "  <thead>\n",
       "    <tr style=\"text-align: right;\">\n",
       "      <th></th>\n",
       "      <th>0</th>\n",
       "    </tr>\n",
       "  </thead>\n",
       "  <tbody>\n",
       "    <tr>\n",
       "      <th>0</th>\n",
       "      <td>0.826497</td>\n",
       "    </tr>\n",
       "    <tr>\n",
       "      <th>1</th>\n",
       "      <td>0.020565</td>\n",
       "    </tr>\n",
       "    <tr>\n",
       "      <th>2</th>\n",
       "      <td>0.152938</td>\n",
       "    </tr>\n",
       "  </tbody>\n",
       "</table>\n",
       "</div>"
      ],
      "text/plain": [
       "          0\n",
       "0  0.826497\n",
       "1  0.020565\n",
       "2  0.152938"
      ]
     },
     "metadata": {},
     "output_type": "display_data"
    },
    {
     "name": "stdout",
     "output_type": "stream",
     "text": [
      "Transition rate matrix (Q):\n"
     ]
    },
    {
     "data": {
      "text/html": [
       "<div>\n",
       "<table border=\"1\" class=\"dataframe\">\n",
       "  <thead>\n",
       "    <tr style=\"text-align: right;\">\n",
       "      <th></th>\n",
       "      <th>0</th>\n",
       "      <th>1</th>\n",
       "      <th>2</th>\n",
       "    </tr>\n",
       "  </thead>\n",
       "  <tbody>\n",
       "    <tr>\n",
       "      <th>0</th>\n",
       "      <td>-1.000000</td>\n",
       "      <td>0.488117</td>\n",
       "      <td>0.511883</td>\n",
       "    </tr>\n",
       "    <tr>\n",
       "      <th>1</th>\n",
       "      <td>0.941786</td>\n",
       "      <td>-1.000000</td>\n",
       "      <td>0.058214</td>\n",
       "    </tr>\n",
       "    <tr>\n",
       "      <th>2</th>\n",
       "      <td>0.146352</td>\n",
       "      <td>0.853648</td>\n",
       "      <td>-1.000000</td>\n",
       "    </tr>\n",
       "  </tbody>\n",
       "</table>\n",
       "</div>"
      ],
      "text/plain": [
       "          0         1         2\n",
       "0 -1.000000  0.488117  0.511883\n",
       "1  0.941786 -1.000000  0.058214\n",
       "2  0.146352  0.853648 -1.000000"
      ]
     },
     "metadata": {},
     "output_type": "display_data"
    },
    {
     "name": "stdout",
     "output_type": "stream",
     "text": [
      "Transition probabilities for one time unit :\n"
     ]
    },
    {
     "data": {
      "text/html": [
       "<div>\n",
       "<table border=\"1\" class=\"dataframe\">\n",
       "  <thead>\n",
       "    <tr style=\"text-align: right;\">\n",
       "      <th></th>\n",
       "      <th>0</th>\n",
       "      <th>1</th>\n",
       "      <th>2</th>\n",
       "    </tr>\n",
       "  </thead>\n",
       "  <tbody>\n",
       "    <tr>\n",
       "      <th>0</th>\n",
       "      <td>0.498133</td>\n",
       "      <td>0.285753</td>\n",
       "      <td>0.216114</td>\n",
       "    </tr>\n",
       "    <tr>\n",
       "      <th>1</th>\n",
       "      <td>0.389110</td>\n",
       "      <td>0.493231</td>\n",
       "      <td>0.117659</td>\n",
       "    </tr>\n",
       "    <tr>\n",
       "      <th>2</th>\n",
       "      <td>0.216486</td>\n",
       "      <td>0.365080</td>\n",
       "      <td>0.418434</td>\n",
       "    </tr>\n",
       "  </tbody>\n",
       "</table>\n",
       "</div>"
      ],
      "text/plain": [
       "          0         1         2\n",
       "0  0.498133  0.285753  0.216114\n",
       "1  0.389110  0.493231  0.117659\n",
       "2  0.216486  0.365080  0.418434"
      ]
     },
     "metadata": {},
     "output_type": "display_data"
    },
    {
     "name": "stdout",
     "output_type": "stream",
     "text": [
      "Emission probabilities matrix (B):\n"
     ]
    },
    {
     "data": {
      "text/html": [
       "<div>\n",
       "<table border=\"1\" class=\"dataframe\">\n",
       "  <thead>\n",
       "    <tr style=\"text-align: right;\">\n",
       "      <th></th>\n",
       "      <th>0</th>\n",
       "      <th>1</th>\n",
       "      <th>2</th>\n",
       "    </tr>\n",
       "  </thead>\n",
       "  <tbody>\n",
       "    <tr>\n",
       "      <th>0</th>\n",
       "      <td>0.249766</td>\n",
       "      <td>0.401267</td>\n",
       "      <td>0.348967</td>\n",
       "    </tr>\n",
       "    <tr>\n",
       "      <th>1</th>\n",
       "      <td>0.114444</td>\n",
       "      <td>0.563583</td>\n",
       "      <td>0.321973</td>\n",
       "    </tr>\n",
       "    <tr>\n",
       "      <th>2</th>\n",
       "      <td>0.160617</td>\n",
       "      <td>0.319921</td>\n",
       "      <td>0.519461</td>\n",
       "    </tr>\n",
       "  </tbody>\n",
       "</table>\n",
       "</div>"
      ],
      "text/plain": [
       "          0         1         2\n",
       "0  0.249766  0.401267  0.348967\n",
       "1  0.114444  0.563583  0.321973\n",
       "2  0.160617  0.319921  0.519461"
      ]
     },
     "metadata": {},
     "output_type": "display_data"
    },
    {
     "name": "stdout",
     "output_type": "stream",
     "text": [
      "Initial probabilities (π) :\n"
     ]
    },
    {
     "data": {
      "text/html": [
       "<div>\n",
       "<table border=\"1\" class=\"dataframe\">\n",
       "  <thead>\n",
       "    <tr style=\"text-align: right;\">\n",
       "      <th></th>\n",
       "      <th>0</th>\n",
       "    </tr>\n",
       "  </thead>\n",
       "  <tbody>\n",
       "    <tr>\n",
       "      <th>0</th>\n",
       "      <td>0.826497</td>\n",
       "    </tr>\n",
       "    <tr>\n",
       "      <th>1</th>\n",
       "      <td>0.020565</td>\n",
       "    </tr>\n",
       "    <tr>\n",
       "      <th>2</th>\n",
       "      <td>0.152938</td>\n",
       "    </tr>\n",
       "  </tbody>\n",
       "</table>\n",
       "</div>"
      ],
      "text/plain": [
       "          0\n",
       "0  0.826497\n",
       "1  0.020565\n",
       "2  0.152938"
      ]
     },
     "metadata": {},
     "output_type": "display_data"
    },
    {
     "name": "stdout",
     "output_type": "stream",
     "text": [
      "Transition probabilities matrix (A):\n"
     ]
    },
    {
     "data": {
      "text/html": [
       "<div>\n",
       "<table border=\"1\" class=\"dataframe\">\n",
       "  <thead>\n",
       "    <tr style=\"text-align: right;\">\n",
       "      <th></th>\n",
       "      <th>0</th>\n",
       "      <th>1</th>\n",
       "      <th>2</th>\n",
       "    </tr>\n",
       "  </thead>\n",
       "  <tbody>\n",
       "    <tr>\n",
       "      <th>0</th>\n",
       "      <td>0.498133</td>\n",
       "      <td>0.285753</td>\n",
       "      <td>0.216114</td>\n",
       "    </tr>\n",
       "    <tr>\n",
       "      <th>1</th>\n",
       "      <td>0.389110</td>\n",
       "      <td>0.493231</td>\n",
       "      <td>0.117659</td>\n",
       "    </tr>\n",
       "    <tr>\n",
       "      <th>2</th>\n",
       "      <td>0.216486</td>\n",
       "      <td>0.365080</td>\n",
       "      <td>0.418434</td>\n",
       "    </tr>\n",
       "  </tbody>\n",
       "</table>\n",
       "</div>"
      ],
      "text/plain": [
       "          0         1         2\n",
       "0  0.498133  0.285753  0.216114\n",
       "1  0.389110  0.493231  0.117659\n",
       "2  0.216486  0.365080  0.418434"
      ]
     },
     "metadata": {},
     "output_type": "display_data"
    },
    {
     "name": "stdout",
     "output_type": "stream",
     "text": [
      "Emission probabilities matrix (B):\n"
     ]
    },
    {
     "data": {
      "text/html": [
       "<div>\n",
       "<table border=\"1\" class=\"dataframe\">\n",
       "  <thead>\n",
       "    <tr style=\"text-align: right;\">\n",
       "      <th></th>\n",
       "      <th>0</th>\n",
       "      <th>1</th>\n",
       "      <th>2</th>\n",
       "    </tr>\n",
       "  </thead>\n",
       "  <tbody>\n",
       "    <tr>\n",
       "      <th>0</th>\n",
       "      <td>0.249766</td>\n",
       "      <td>0.401267</td>\n",
       "      <td>0.348967</td>\n",
       "    </tr>\n",
       "    <tr>\n",
       "      <th>1</th>\n",
       "      <td>0.114444</td>\n",
       "      <td>0.563583</td>\n",
       "      <td>0.321973</td>\n",
       "    </tr>\n",
       "    <tr>\n",
       "      <th>2</th>\n",
       "      <td>0.160617</td>\n",
       "      <td>0.319921</td>\n",
       "      <td>0.519461</td>\n",
       "    </tr>\n",
       "  </tbody>\n",
       "</table>\n",
       "</div>"
      ],
      "text/plain": [
       "          0         1         2\n",
       "0  0.249766  0.401267  0.348967\n",
       "1  0.114444  0.563583  0.321973\n",
       "2  0.160617  0.319921  0.519461"
      ]
     },
     "metadata": {},
     "output_type": "display_data"
    }
   ],
   "source": [
    "ct = hmms.CtHMM.random(3,3)\n",
    "dt = hmms.DtHMM( *ct.get_dthmm_params() )\n",
    "    \n",
    "hmms.print_parameters( ct )\n",
    "hmms.print_parameters( dt )"
   ]
  },
  {
   "cell_type": "markdown",
   "metadata": {},
   "source": [
    "We will train them at our dataset. (It can take a while.)"
   ]
  },
  {
   "cell_type": "code",
   "execution_count": 42,
   "metadata": {
    "collapsed": false
   },
   "outputs": [
    {
     "data": {
      "text/plain": [
       "(array([-3163.96655273, -2603.32617188, -2597.24609375, -2587.56445312,\n",
       "        -2571.99023438, -2547.92700195, -2514.99414062, -2478.57006836,\n",
       "        -2448.11865234, -2428.83105469, -2418.56860352, -2413.22021484,\n",
       "        -2410.21020508, -2408.33227539, -2407.04223633, -2406.08227539,\n",
       "        -2405.32666016, -2404.70654297, -2404.18701172, -2403.74267578,\n",
       "        -2403.36035156, -2403.02685547, -2402.73681641, -2402.48291016,\n",
       "        -2402.25927734, -2402.06274414, -2401.88916016, -2401.73608398,\n",
       "        -2401.60083008, -2401.48120117, -2401.37451172, -2401.28051758,\n",
       "        -2401.19702148, -2401.12207031, -2401.0559082 , -2400.99707031,\n",
       "        -2400.94360352, -2400.89575195, -2400.85400391, -2400.81542969,\n",
       "        -2400.78125   , -2400.75048828, -2400.72216797, -2400.69677734,\n",
       "        -2400.67382812, -2400.65234375, -2400.63330078, -2400.61547852,\n",
       "        -2400.60009766, -2400.58520508, -2400.5715332 ]),\n",
       " array([-3163.96655273, -2604.10888672, -2599.90869141, -2594.45043945,\n",
       "        -2587.25341797, -2577.86450195, -2565.85302734, -2550.99438477,\n",
       "        -2533.5390625 , -2514.48413086, -2495.50292969, -2478.31298828,\n",
       "        -2463.90161133, -2452.32373047, -2443.10205078, -2435.71142578,\n",
       "        -2429.76757812, -2425.00610352, -2421.20996094, -2418.18652344,\n",
       "        -2415.76293945, -2413.79833984, -2412.17749023, -2410.81103516,\n",
       "        -2409.63818359, -2408.61865234, -2407.7265625 , -2406.94555664,\n",
       "        -2406.25927734, -2405.65625   , -2405.12670898, -2404.65942383,\n",
       "        -2404.24658203, -2403.87890625, -2403.55200195, -2403.25854492,\n",
       "        -2402.99487305, -2402.75732422, -2402.54174805, -2402.34643555,\n",
       "        -2402.16870117, -2402.00708008, -2401.85986328, -2401.72607422,\n",
       "        -2401.60473633, -2401.49487305, -2401.39477539, -2401.3046875 ,\n",
       "        -2401.22314453, -2401.14941406, -2401.08276367]))"
      ]
     },
     "execution_count": 42,
     "metadata": {},
     "output_type": "execute_result"
    }
   ],
   "source": [
    "iter_num = 50\n",
    "outd = dt.baum_welch_graph( e, iter_num )\n",
    "outc = ct.baum_welch_graph( t,e, iter_num )\n",
    "outd,outc"
   ]
  },
  {
   "cell_type": "markdown",
   "metadata": {
    "collapsed": false
   },
   "source": [
    "We can plot and compare both convergence rates. From the essence of models, the continuous model will probably  converge a bit slower, but finally will reach the similar value."
   ]
  },
  {
   "cell_type": "code",
   "execution_count": 43,
   "metadata": {
    "collapsed": false
   },
   "outputs": [
    {
     "data": {
      "image/png": "[encoded data removed]",
      "text/plain": [
       "<matplotlib.figure.Figure at 0x7fb740249b38>"
      ]
     },
     "metadata": {},
     "output_type": "display_data"
    }
   ],
   "source": [
    "plt.plot( outd[1:] / dreal  )\n",
    "plt.plot( outc[1:] / dreal  )\n",
    "#plt.savefig('my_plot.svg')  #Optional save the figure\n",
    "plt.show()"
   ]
  },
  {
   "cell_type": "code",
   "execution_count": null,
   "metadata": {
    "collapsed": false
   },
   "outputs": [],
   "source": []
  },
  {
   "cell_type": "markdown",
   "metadata": {
    "collapsed": false
   },
   "source": [
    "<hr/>\n",
    "You can play with the models as you like and feel free to share your result with me, if you have made some interesting experiment!"
   ]
  },
  {
   "cell_type": "markdown",
   "metadata": {
    "collapsed": true
   },
   "source": [
    "Contact: (lopatovsky@gmail.com)"
   ]
  },
  {
   "cell_type": "markdown",
   "metadata": {},
   "source": [
    "### Experimental features\n",
    "#### Fast Convergence"
   ]
  },
  {
   "cell_type": "code",
   "execution_count": 44,
   "metadata": {
    "collapsed": false
   },
   "outputs": [
    {
     "data": {
      "text/plain": [
       "(array([[ 0,  1,  2,  5,  7,  8, 11, 12, 15, 16, 17, 18, 23, 24, 25, 28, 30,\n",
       "         31, 32, 33, 42, 47, 48, 49, 55, 56, 61, 64, 68, 70],\n",
       "        [ 0,  2,  3,  5,  8, 14, 16, 17, 18, 20, 23, 24, 32, 33, 34, 37, 40,\n",
       "         43, 50, 58, 63, 68, 73, 75, 78, 82, 86, 87, 92, 97],\n",
       "        [ 0,  2,  4,  7,  9, 10, 13, 14, 15, 16, 18, 20, 22, 31, 33, 35, 36,\n",
       "         37, 39, 40, 42, 43, 45, 46, 47, 50, 51, 52, 55, 59],\n",
       "        [ 0,  2, 10, 13, 17, 18, 19, 22, 23, 24, 26, 27, 28, 30, 32, 35, 36,\n",
       "         37, 39, 40, 43, 44, 45, 47, 50, 51, 53, 55, 56, 58],\n",
       "        [ 0,  3,  4,  8, 12, 13, 14, 24, 25, 27, 28, 34, 39, 40, 41, 43, 45,\n",
       "         51, 54, 58, 59, 68, 73, 75, 76, 77, 78, 79, 80, 82]]),\n",
       " array([[2, 1, 2, 0, 0, 0, 2, 1, 2, 2, 0, 0, 2, 0, 2, 2, 1, 1, 2, 0, 0, 0,\n",
       "         2, 0, 0, 2, 2, 2, 2, 2],\n",
       "        [0, 0, 1, 1, 2, 0, 0, 0, 2, 2, 0, 0, 0, 0, 0, 2, 0, 2, 2, 1, 0, 0,\n",
       "         0, 2, 0, 0, 1, 1, 2, 0],\n",
       "        [0, 0, 0, 2, 2, 1, 2, 2, 2, 2, 0, 0, 2, 1, 1, 2, 2, 1, 0, 0, 2, 0,\n",
       "         0, 0, 2, 0, 0, 1, 1, 1],\n",
       "        [0, 0, 0, 0, 2, 2, 1, 2, 2, 0, 0, 2, 1, 1, 2, 2, 2, 2, 1, 0, 0, 0,\n",
       "         1, 2, 2, 2, 0, 0, 0, 2],\n",
       "        [2, 1, 2, 1, 0, 1, 2, 1, 2, 0, 0, 1, 0, 0, 0, 0, 2, 0, 0, 0, 0, 1,\n",
       "         1, 1, 1, 0, 0, 0, 2, 2]]))"
      ]
     },
     "execution_count": 44,
     "metadata": {},
     "output_type": "execute_result"
    }
   ],
   "source": [
    "seq_num= 5   #number of data sequences\n",
    "seq_len= 30  #length of each sequence\n",
    "\n",
    "t,e = chmm.generate_data( (seq_num,seq_len) )\n",
    "t,e"
   ]
  },
  {
   "cell_type": "code",
   "execution_count": 45,
   "metadata": {
    "collapsed": false
   },
   "outputs": [],
   "source": [
    "ct1 = hmms.CtHMM.random(3,3)\n",
    "ct2 = hmms.CtHMM( *ct1.params )"
   ]
  },
  {
   "cell_type": "code",
   "execution_count": 46,
   "metadata": {
    "collapsed": false
   },
   "outputs": [
    {
     "data": {
      "text/plain": [
       "(array([-168.41700745, -156.10179138, -155.78437805, -155.63241577,\n",
       "        -155.48513794, -155.33778381, -155.18902588, -155.03756714,\n",
       "        -154.88232422, -154.72253418, -154.55778503, -154.3881073 ,\n",
       "        -154.21382141, -154.03556824, -153.85417175, -153.67068481,\n",
       "        -153.48623657, -153.30209351, -153.11953735, -152.93986511,\n",
       "        -152.76434326]),\n",
       " array([-168.41700745, -156.01750183, -155.73823547, -155.53729248,\n",
       "        -155.33224487, -155.11868286, -154.8939209 , -154.65582275,\n",
       "        -154.40332031, -154.13710022, -153.85978699, -153.57592773,\n",
       "        -153.29138184, -153.01269531, -152.74632263, -152.4979248 ,\n",
       "        -152.27180481, -152.07046509, -151.89460754, -151.74328613,\n",
       "        -151.61431885]))"
      ]
     },
     "execution_count": 46,
     "metadata": {},
     "output_type": "execute_result"
    }
   ],
   "source": [
    "iter_num = 20\n",
    "out1 = ct1.baum_welch_graph( t,e, iter_num )\n",
    "out2 = ct2.baum_welch_graph2( t,e, iter_num )\n",
    "out1,out2"
   ]
  },
  {
   "cell_type": "code",
   "execution_count": 47,
   "metadata": {
    "collapsed": false
   },
   "outputs": [
    {
     "data": {
      "image/png": "[encoded data removed]",
      "text/plain": [
       "<matplotlib.figure.Figure at 0x7fb7402bfa20>"
      ]
     },
     "metadata": {},
     "output_type": "display_data"
    }
   ],
   "source": [
    "plt.plot( out1[1:] / dreal , color = \"red\" )\n",
    "plt.plot( out2[1:] / dreal  )\n",
    "#plt.savefig('graph.svg')  #Optional save the figure\n",
    "\n",
    "plt.show()"
   ]
  },
  {
   "cell_type": "code",
   "execution_count": 48,
   "metadata": {
    "collapsed": false
   },
   "outputs": [
    {
     "name": "stdout",
     "output_type": "stream",
     "text": [
      "Initial probabilities (π) :\n"
     ]
    },
    {
     "data": {
      "text/html": [
       "<div>\n",
       "<table border=\"1\" class=\"dataframe\">\n",
       "  <thead>\n",
       "    <tr style=\"text-align: right;\">\n",
       "      <th></th>\n",
       "      <th>0</th>\n",
       "    </tr>\n",
       "  </thead>\n",
       "  <tbody>\n",
       "    <tr>\n",
       "      <th>0</th>\n",
       "      <td>0.678244</td>\n",
       "    </tr>\n",
       "    <tr>\n",
       "      <th>1</th>\n",
       "      <td>0.000559</td>\n",
       "    </tr>\n",
       "    <tr>\n",
       "      <th>2</th>\n",
       "      <td>0.321197</td>\n",
       "    </tr>\n",
       "  </tbody>\n",
       "</table>\n",
       "</div>"
      ],
      "text/plain": [
       "          0\n",
       "0  0.678244\n",
       "1  0.000559\n",
       "2  0.321197"
      ]
     },
     "metadata": {},
     "output_type": "display_data"
    },
    {
     "name": "stdout",
     "output_type": "stream",
     "text": [
      "Transition rate matrix (Q):\n"
     ]
    },
    {
     "data": {
      "text/html": [
       "<div>\n",
       "<table border=\"1\" class=\"dataframe\">\n",
       "  <thead>\n",
       "    <tr style=\"text-align: right;\">\n",
       "      <th></th>\n",
       "      <th>0</th>\n",
       "      <th>1</th>\n",
       "      <th>2</th>\n",
       "    </tr>\n",
       "  </thead>\n",
       "  <tbody>\n",
       "    <tr>\n",
       "      <th>0</th>\n",
       "      <td>-0.645827</td>\n",
       "      <td>0.397310</td>\n",
       "      <td>0.248517</td>\n",
       "    </tr>\n",
       "    <tr>\n",
       "      <th>1</th>\n",
       "      <td>0.350691</td>\n",
       "      <td>-1.115204</td>\n",
       "      <td>0.764513</td>\n",
       "    </tr>\n",
       "    <tr>\n",
       "      <th>2</th>\n",
       "      <td>0.378523</td>\n",
       "      <td>0.399412</td>\n",
       "      <td>-0.777935</td>\n",
       "    </tr>\n",
       "  </tbody>\n",
       "</table>\n",
       "</div>"
      ],
      "text/plain": [
       "          0         1         2\n",
       "0 -0.645827  0.397310  0.248517\n",
       "1  0.350691 -1.115204  0.764513\n",
       "2  0.378523  0.399412 -0.777935"
      ]
     },
     "metadata": {},
     "output_type": "display_data"
    },
    {
     "name": "stdout",
     "output_type": "stream",
     "text": [
      "Transition probabilities for one time unit :\n"
     ]
    },
    {
     "data": {
      "text/html": [
       "<div>\n",
       "<table border=\"1\" class=\"dataframe\">\n",
       "  <thead>\n",
       "    <tr style=\"text-align: right;\">\n",
       "      <th></th>\n",
       "      <th>0</th>\n",
       "      <th>1</th>\n",
       "      <th>2</th>\n",
       "    </tr>\n",
       "  </thead>\n",
       "  <tbody>\n",
       "    <tr>\n",
       "      <th>0</th>\n",
       "      <td>0.593385</td>\n",
       "      <td>0.204944</td>\n",
       "      <td>0.201671</td>\n",
       "    </tr>\n",
       "    <tr>\n",
       "      <th>1</th>\n",
       "      <td>0.226448</td>\n",
       "      <td>0.425441</td>\n",
       "      <td>0.348112</td>\n",
       "    </tr>\n",
       "    <tr>\n",
       "      <th>2</th>\n",
       "      <td>0.234347</td>\n",
       "      <td>0.205540</td>\n",
       "      <td>0.560113</td>\n",
       "    </tr>\n",
       "  </tbody>\n",
       "</table>\n",
       "</div>"
      ],
      "text/plain": [
       "          0         1         2\n",
       "0  0.593385  0.204944  0.201671\n",
       "1  0.226448  0.425441  0.348112\n",
       "2  0.234347  0.205540  0.560113"
      ]
     },
     "metadata": {},
     "output_type": "display_data"
    },
    {
     "name": "stdout",
     "output_type": "stream",
     "text": [
      "Emission probabilities matrix (B):\n"
     ]
    },
    {
     "data": {
      "text/html": [
       "<div>\n",
       "<table border=\"1\" class=\"dataframe\">\n",
       "  <thead>\n",
       "    <tr style=\"text-align: right;\">\n",
       "      <th></th>\n",
       "      <th>0</th>\n",
       "      <th>1</th>\n",
       "      <th>2</th>\n",
       "    </tr>\n",
       "  </thead>\n",
       "  <tbody>\n",
       "    <tr>\n",
       "      <th>0</th>\n",
       "      <td>0.892944</td>\n",
       "      <td>0.001717</td>\n",
       "      <td>0.105339</td>\n",
       "    </tr>\n",
       "    <tr>\n",
       "      <th>1</th>\n",
       "      <td>0.395908</td>\n",
       "      <td>0.360690</td>\n",
       "      <td>0.243403</td>\n",
       "    </tr>\n",
       "    <tr>\n",
       "      <th>2</th>\n",
       "      <td>0.010507</td>\n",
       "      <td>0.294039</td>\n",
       "      <td>0.695454</td>\n",
       "    </tr>\n",
       "  </tbody>\n",
       "</table>\n",
       "</div>"
      ],
      "text/plain": [
       "          0         1         2\n",
       "0  0.892944  0.001717  0.105339\n",
       "1  0.395908  0.360690  0.243403\n",
       "2  0.010507  0.294039  0.695454"
      ]
     },
     "metadata": {},
     "output_type": "display_data"
    },
    {
     "name": "stdout",
     "output_type": "stream",
     "text": [
      "Initial probabilities (π) :\n"
     ]
    },
    {
     "data": {
      "text/html": [
       "<div>\n",
       "<table border=\"1\" class=\"dataframe\">\n",
       "  <thead>\n",
       "    <tr style=\"text-align: right;\">\n",
       "      <th></th>\n",
       "      <th>0</th>\n",
       "    </tr>\n",
       "  </thead>\n",
       "  <tbody>\n",
       "    <tr>\n",
       "      <th>0</th>\n",
       "      <td>0.650437</td>\n",
       "    </tr>\n",
       "    <tr>\n",
       "      <th>1</th>\n",
       "      <td>0.000430</td>\n",
       "    </tr>\n",
       "    <tr>\n",
       "      <th>2</th>\n",
       "      <td>0.349133</td>\n",
       "    </tr>\n",
       "  </tbody>\n",
       "</table>\n",
       "</div>"
      ],
      "text/plain": [
       "          0\n",
       "0  0.650437\n",
       "1  0.000430\n",
       "2  0.349133"
      ]
     },
     "metadata": {},
     "output_type": "display_data"
    },
    {
     "name": "stdout",
     "output_type": "stream",
     "text": [
      "Transition rate matrix (Q):\n"
     ]
    },
    {
     "data": {
      "text/html": [
       "<div>\n",
       "<table border=\"1\" class=\"dataframe\">\n",
       "  <thead>\n",
       "    <tr style=\"text-align: right;\">\n",
       "      <th></th>\n",
       "      <th>0</th>\n",
       "      <th>1</th>\n",
       "      <th>2</th>\n",
       "    </tr>\n",
       "  </thead>\n",
       "  <tbody>\n",
       "    <tr>\n",
       "      <th>0</th>\n",
       "      <td>-0.558960</td>\n",
       "      <td>0.353887</td>\n",
       "      <td>0.205074</td>\n",
       "    </tr>\n",
       "    <tr>\n",
       "      <th>1</th>\n",
       "      <td>0.388868</td>\n",
       "      <td>-1.232566</td>\n",
       "      <td>0.843698</td>\n",
       "    </tr>\n",
       "    <tr>\n",
       "      <th>2</th>\n",
       "      <td>0.236991</td>\n",
       "      <td>0.270316</td>\n",
       "      <td>-0.507307</td>\n",
       "    </tr>\n",
       "  </tbody>\n",
       "</table>\n",
       "</div>"
      ],
      "text/plain": [
       "          0         1         2\n",
       "0 -0.558960  0.353887  0.205074\n",
       "1  0.388868 -1.232566  0.843698\n",
       "2  0.236991  0.270316 -0.507307"
      ]
     },
     "metadata": {},
     "output_type": "display_data"
    },
    {
     "name": "stdout",
     "output_type": "stream",
     "text": [
      "Transition probabilities for one time unit :\n"
     ]
    },
    {
     "data": {
      "text/html": [
       "<div>\n",
       "<table border=\"1\" class=\"dataframe\">\n",
       "  <thead>\n",
       "    <tr style=\"text-align: right;\">\n",
       "      <th></th>\n",
       "      <th>0</th>\n",
       "      <th>1</th>\n",
       "      <th>2</th>\n",
       "    </tr>\n",
       "  </thead>\n",
       "  <tbody>\n",
       "    <tr>\n",
       "      <th>0</th>\n",
       "      <td>0.627111</td>\n",
       "      <td>0.171995</td>\n",
       "      <td>0.200894</td>\n",
       "    </tr>\n",
       "    <tr>\n",
       "      <th>1</th>\n",
       "      <td>0.222894</td>\n",
       "      <td>0.369209</td>\n",
       "      <td>0.407897</td>\n",
       "    </tr>\n",
       "    <tr>\n",
       "      <th>2</th>\n",
       "      <td>0.173664</td>\n",
       "      <td>0.144906</td>\n",
       "      <td>0.681429</td>\n",
       "    </tr>\n",
       "  </tbody>\n",
       "</table>\n",
       "</div>"
      ],
      "text/plain": [
       "          0         1         2\n",
       "0  0.627111  0.171995  0.200894\n",
       "1  0.222894  0.369209  0.407897\n",
       "2  0.173664  0.144906  0.681429"
      ]
     },
     "metadata": {},
     "output_type": "display_data"
    },
    {
     "name": "stdout",
     "output_type": "stream",
     "text": [
      "Emission probabilities matrix (B):\n"
     ]
    },
    {
     "data": {
      "text/html": [
       "<div>\n",
       "<table border=\"1\" class=\"dataframe\">\n",
       "  <thead>\n",
       "    <tr style=\"text-align: right;\">\n",
       "      <th></th>\n",
       "      <th>0</th>\n",
       "      <th>1</th>\n",
       "      <th>2</th>\n",
       "    </tr>\n",
       "  </thead>\n",
       "  <tbody>\n",
       "    <tr>\n",
       "      <th>0</th>\n",
       "      <td>0.917881</td>\n",
       "      <td>0.000748</td>\n",
       "      <td>0.081371</td>\n",
       "    </tr>\n",
       "    <tr>\n",
       "      <th>1</th>\n",
       "      <td>0.532974</td>\n",
       "      <td>0.262363</td>\n",
       "      <td>0.204663</td>\n",
       "    </tr>\n",
       "    <tr>\n",
       "      <th>2</th>\n",
       "      <td>0.011361</td>\n",
       "      <td>0.335583</td>\n",
       "      <td>0.653056</td>\n",
       "    </tr>\n",
       "  </tbody>\n",
       "</table>\n",
       "</div>"
      ],
      "text/plain": [
       "          0         1         2\n",
       "0  0.917881  0.000748  0.081371\n",
       "1  0.532974  0.262363  0.204663\n",
       "2  0.011361  0.335583  0.653056"
      ]
     },
     "metadata": {},
     "output_type": "display_data"
    }
   ],
   "source": [
    "hmms.print_parameters(ct1)\n",
    "hmms.print_parameters(ct2)"
   ]
  },
  {
   "cell_type": "code",
   "execution_count": 49,
   "metadata": {
    "collapsed": true
   },
   "outputs": [],
   "source": []
  },
  {
   "cell_type": "code",
   "execution_count": null,
   "metadata": {
    "collapsed": false
   },
   "outputs": [],
   "source": []
  },
  {
   "cell_type": "code",
   "execution_count": null,
   "metadata": {
    "collapsed": true
   },
   "outputs": [],
   "source": []
  }
 ],
 "metadata": {
  "kernelspec": {
   "display_name": "Python 3",
   "language": "python",
   "name": "python3"
  },
  "language_info": {
   "codemirror_mode": {
    "name": "ipython",
    "version": 3
   },
   "file_extension": ".py",
   "mimetype": "text/x-python",
   "name": "python",
   "nbconvert_exporter": "python",
   "pygments_lexer": "ipython3",
   "version": "3.5.2"
  }
 },
 "nbformat": 4,
 "nbformat_minor": 2
}
