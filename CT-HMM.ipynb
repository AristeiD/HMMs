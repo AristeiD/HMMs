{
 "cells": [
  {
   "cell_type": "markdown",
   "metadata": {
    "deletable": true,
    "editable": true
   },
   "source": [
    "HMMs Library \n",
    "============================\n",
    "#### (Discrete & Continuous hidden markov models )\n",
    "\n",
    "The document contain the tutorial ( usage explained by example ) for the hidden markov models library [link to pip].\n",
    "* [The **first** part](#dthmm) will cover disrete-time hidden markov model (**DtHMM**)\n",
    "* [The **second** part](#cthmm) will be dedicated to continuous-time hidden markov model (**CtHMM**)\n",
    "* [The **third** part](#conv) will compare the convergences of **both** models\n",
    "* [The **fourth** part](#dataset) will explain how to use more complex **datasets** and run **multiple trains** by one function call\n",
    "\n",
    "The all of the part are independent, so you do not need to run all notebook, if you are interested only in one of them. \n",
    "\n",
    "\n",
    "If you are not familiar with the hidden markov model theory, We recommend ...\n",
    "%todo: refer to DP theory, (simple guide to cthmm?), github, sources\n"
   ]
  },
  {
   "cell_type": "markdown",
   "metadata": {
    "deletable": true,
    "editable": true
   },
   "source": [
    "<a id='dthmm'></a>\n",
    "Part 1: Discrete Time Hidden Markov Model\n",
    "---------------------------------------------------"
   ]
  },
  {
   "cell_type": "code",
   "execution_count": null,
   "metadata": {
    "collapsed": false,
    "deletable": true,
    "editable": true
   },
   "outputs": [],
   "source": [
    "import numpy as np\n",
    "import matplotlib.pyplot as plt\n",
    "import hmms\n",
    "\n",
    "%matplotlib inline"
   ]
  },
  {
   "cell_type": "markdown",
   "metadata": {
    "deletable": true,
    "editable": true
   },
   "source": [
    "### Construct DtHMM \n",
    "You can directly initialize the DtHMM by passing the **model parameters**.  \n",
    "\n",
    "We will create simple DtHMM of two hidden states and three output variables."
   ]
  },
  {
   "cell_type": "code",
   "execution_count": null,
   "metadata": {
    "collapsed": false,
    "deletable": true,
    "editable": true
   },
   "outputs": [],
   "source": [
    "# A is the matrix of transition probabilities from state [row] to state [column].\n",
    "A = np.array([[0.9,0.1],[0.4,0.6]])\n",
    "# B is the matrix of probabilities that the state [row] will emmit output variable [column].\n",
    "B = np.array([[0.9,0.08,0.02],[0.2,0.5,0.3]])\n",
    "# Pi is the vector of initial state probabilities.   \n",
    "Pi = np.array( [0.8,0.2] )\n",
    "\n",
    "# Create DtHMM by given parameters.\n",
    "dhmm = hmms.DtHMM(A,B,Pi)"
   ]
  },
  {
   "cell_type": "markdown",
   "metadata": {
    "deletable": true,
    "editable": true
   },
   "source": [
    "Or you can initialize it by **random parameters**. Passing the number of hidden states and output variables. "
   ]
  },
  {
   "cell_type": "code",
   "execution_count": null,
   "metadata": {
    "collapsed": false,
    "deletable": true,
    "editable": true
   },
   "outputs": [],
   "source": [
    "dhmm_random = hmms.DtHMM.random(2,3)"
   ]
  },
  {
   "cell_type": "markdown",
   "metadata": {
    "deletable": true,
    "editable": true
   },
   "source": [
    "### Save & Read from File\n",
    "Once you have created the model you can **save** its parameters in file simply by calling *save_params* method.  "
   ]
  },
  {
   "cell_type": "code",
   "execution_count": null,
   "metadata": {
    "collapsed": false,
    "deletable": true,
    "editable": true
   },
   "outputs": [],
   "source": [
    "dhmm.save_params(\"Models/hello_dthmm\") "
   ]
  },
  {
   "cell_type": "markdown",
   "metadata": {
    "deletable": true,
    "editable": true
   },
   "source": [
    "The method stored the parameters in *.npz* format.  \n",
    "\n",
    "The saved file can be later used to **read** parametrs for model initialization."
   ]
  },
  {
   "cell_type": "code",
   "execution_count": null,
   "metadata": {
    "collapsed": false,
    "deletable": true,
    "editable": true
   },
   "outputs": [],
   "source": [
    "dhmm_from_file = hmms.DtHMM.from_file( \"Models/hello_dthmm.npz\" )"
   ]
  },
  {
   "cell_type": "markdown",
   "metadata": {
    "deletable": true,
    "editable": true
   },
   "source": [
    "### Set & Get Parameters\n",
    "Later you can always **set** parameters with triple of methods corresponding to the constructors."
   ]
  },
  {
   "cell_type": "code",
   "execution_count": null,
   "metadata": {
    "collapsed": false,
    "deletable": true,
    "editable": true,
    "scrolled": true
   },
   "outputs": [],
   "source": [
    "dhmm.set_params(A,B,Pi)\n",
    "dhmm.set_params_random(2,3)\n",
    "dhmm.set_params_from_file( \"Models/hello_dthmm.npz\" )"
   ]
  },
  {
   "cell_type": "markdown",
   "metadata": {
    "deletable": true,
    "editable": true
   },
   "source": [
    "You can **get** parameters by calling them separately,"
   ]
  },
  {
   "cell_type": "code",
   "execution_count": null,
   "metadata": {
    "collapsed": false,
    "deletable": true,
    "editable": true
   },
   "outputs": [],
   "source": [
    "dhmm.a, dhmm.b, dhmm.pi"
   ]
  },
  {
   "cell_type": "markdown",
   "metadata": {
    "deletable": true,
    "editable": true
   },
   "source": [
    "or **get** them **all** together as the triple."
   ]
  },
  {
   "cell_type": "code",
   "execution_count": null,
   "metadata": {
    "collapsed": false,
    "deletable": true,
    "editable": true
   },
   "outputs": [],
   "source": [
    "(A,B,Pi) = dhmm.params"
   ]
  },
  {
   "cell_type": "markdown",
   "metadata": {
    "deletable": true,
    "editable": true
   },
   "source": [
    "### Generate Random State and Emission Sequence\n",
    " Now we can use our model to generate state and emission sequence.   \n",
    " The model will randomly choose which transition or emission will happen, taking into consideration the parameters we have previously defined.\n"
   ]
  },
  {
   "cell_type": "code",
   "execution_count": null,
   "metadata": {
    "collapsed": false,
    "deletable": true,
    "editable": true
   },
   "outputs": [],
   "source": [
    "seq_len = 20\n",
    "s_seq, e_seq = dhmm.generate( seq_len )\n",
    "\n",
    "#resize plot\n",
    "plt.rcParams['figure.figsize'] = [20,20]\n",
    "\n",
    "hmms.plot_hmm( s_seq, e_seq )"
   ]
  },
  {
   "cell_type": "markdown",
   "metadata": {
    "collapsed": false,
    "deletable": true,
    "editable": true
   },
   "source": [
    "### Find Most Likely State Sequence\n",
    "If we have the model parameters and emission sequence, we can find the most probable state sequence that would generate it. Notice, that it can be different, than the actual sequence that has generated the emissions.  \n",
    "We will use Viterbi algorithm for the calculation.\n"
   ]
  },
  {
   "cell_type": "code",
   "execution_count": null,
   "metadata": {
    "collapsed": false,
    "deletable": true,
    "editable": true
   },
   "outputs": [],
   "source": [
    "( log_prob, s_seq ) =  dhmm.viterbi( e_seq )\n",
    "# Let's print the most likely state sequence, it can be same or differ from the sequence above.\n",
    "hmms.plot_hmm( s_seq, e_seq )"
   ]
  },
  {
   "cell_type": "markdown",
   "metadata": {
    "collapsed": true,
    "deletable": true,
    "editable": true
   },
   "source": [
    "The *log_prob* parameter store the probability of the sequence.  \n",
    "All the probabilities in the library are stored in the logarithm of their actual value. As the number of possible sequences grows exponentialy by it length, it could easily lead to float underflow.  \n",
    "You can easily transform it to the normal scale value applying *exp* function. "
   ]
  },
  {
   "cell_type": "code",
   "execution_count": null,
   "metadata": {
    "collapsed": false,
    "deletable": true,
    "editable": true
   },
   "outputs": [],
   "source": [
    "np.exp( log_prob )"
   ]
  },
  {
   "cell_type": "markdown",
   "metadata": {
    "deletable": true,
    "editable": true
   },
   "source": [
    "<a id='dtest'></a>\n",
    "### The Probability of the Emission Sequence"
   ]
  },
  {
   "cell_type": "markdown",
   "metadata": {
    "deletable": true,
    "editable": true
   },
   "source": [
    "We can compute the probability, that the model will generate the emission sequence."
   ]
  },
  {
   "cell_type": "code",
   "execution_count": null,
   "metadata": {
    "collapsed": false,
    "deletable": true,
    "editable": true
   },
   "outputs": [],
   "source": [
    "np.exp( dhmm.emission_estimate( e_seq ) )"
   ]
  },
  {
   "cell_type": "markdown",
   "metadata": {
    "deletable": true,
    "editable": true
   },
   "source": [
    "### The Probability of the State and Emission Sequences "
   ]
  },
  {
   "cell_type": "markdown",
   "metadata": {
    "deletable": true,
    "editable": true
   },
   "source": [
    "Similary we can compute the probabilty of the state and emission sequences given the model parameters."
   ]
  },
  {
   "cell_type": "code",
   "execution_count": null,
   "metadata": {
    "collapsed": false,
    "deletable": true,
    "editable": true
   },
   "outputs": [],
   "source": [
    "np.exp( dhmm.estimate( s_seq, e_seq ) )"
   ]
  },
  {
   "cell_type": "markdown",
   "metadata": {
    "deletable": true,
    "editable": true
   },
   "source": [
    "**Notice!**  - You can simply count the probability estimations for whole dataset by one command, watch [The chapter 4](#dsest)."
   ]
  },
  {
   "cell_type": "markdown",
   "metadata": {
    "deletable": true,
    "editable": true
   },
   "source": [
    "### Generate Artificial Dataset\n",
    "\n",
    "You can easily generate many sequences in once by using the generate_data function.\n",
    "The generated emission sequences are in the form that is suitable for training of parameters. You can switch times=True, if you want to generate also the corresponding equidistant time sequences."
   ]
  },
  {
   "cell_type": "code",
   "execution_count": null,
   "metadata": {
    "collapsed": false,
    "deletable": true,
    "editable": true
   },
   "outputs": [],
   "source": [
    "seq_num= 3   #number of data sequences\n",
    "seq_len= 10  #length of each sequence\n",
    "\n",
    "dhmm.generate_data( (seq_num,seq_len) )"
   ]
  },
  {
   "cell_type": "markdown",
   "metadata": {
    "deletable": true,
    "editable": true
   },
   "source": [
    "### Parameters Estimation - Baum Welch Algorithm\n",
    "We usually do not know the real parameters of the model. But, if we have sufficient data, we can estimate them by EM algorithm.  \n",
    "Here we will have several output variables (emissions) sequences and we will show, how to use them to train the model parameters\n",
    "\n",
    "Let's start by creating some artifficial data. We will use the previously defined *dhmm* model for it.\n",
    "\n",
    "**Notice!**  - For more detail information about possible datasets watch  [The chapter 4](#datasets).\n"
   ]
  },
  {
   "cell_type": "code",
   "execution_count": null,
   "metadata": {
    "collapsed": false,
    "deletable": true,
    "editable": true
   },
   "outputs": [],
   "source": [
    "seq_num = 5\n",
    "seq_len = 50\n",
    "data = np.empty( (seq_num, seq_len), dtype=int )\n",
    "\n",
    "_ , data = dhmm.generate_data( (seq_num,seq_len) )\n",
    "\n",
    "data"
   ]
  },
  {
   "cell_type": "markdown",
   "metadata": {
    "deletable": true,
    "editable": true
   },
   "source": [
    "Now, we will create the model with random parameters, that will be eventually trained to much the data."
   ]
  },
  {
   "cell_type": "code",
   "execution_count": null,
   "metadata": {
    "collapsed": false,
    "deletable": true,
    "editable": true
   },
   "outputs": [],
   "source": [
    "dhmm_r = hmms.DtHMM.random( 2,3 )\n",
    "# We can print all the parameters.\n",
    "hmms.print_parameters( dhmm_r )"
   ]
  },
  {
   "cell_type": "markdown",
   "metadata": {
    "deletable": true,
    "editable": true
   },
   "source": [
    "Let's compare the dataset likelihood estimation of model used for generating the data and the random parameters model. "
   ]
  },
  {
   "cell_type": "code",
   "execution_count": null,
   "metadata": {
    "collapsed": false,
    "deletable": true,
    "editable": true
   },
   "outputs": [],
   "source": [
    "print( \"Generator model:\" , np.exp( dhmm.data_estimate(data)   ) )\n",
    "print( \"Random model:   \" ,np.exp( dhmm_r.data_estimate(data) ) )"
   ]
  },
  {
   "cell_type": "markdown",
   "metadata": {
    "deletable": true,
    "editable": true
   },
   "source": [
    "Most likely the probability that the data was generated by random model is extremly low.\n",
    "\n",
    "Now we can take the random model and reestimate it to fit the data better."
   ]
  },
  {
   "cell_type": "code",
   "execution_count": null,
   "metadata": {
    "collapsed": false,
    "deletable": true,
    "editable": true
   },
   "outputs": [],
   "source": [
    "dhmm_r.baum_welch( data, 10 )\n",
    "print( \"Reestimated model after 10 iterations:   \" ,np.exp( dhmm_r.data_estimate(data) ) )"
   ]
  },
  {
   "cell_type": "markdown",
   "metadata": {
    "deletable": true,
    "editable": true
   },
   "source": [
    "The probability of the reestimated model should now be similiar (possibly even higher) that the generator's model. If it is not, you can try to run the estimation procedure more time at different randomly generated models. It could happen that the estimation fall in the local optima.\n",
    "\n",
    "If you are satisfied with the results, you can run some more iteration to fine-tune it."
   ]
  },
  {
   "cell_type": "code",
   "execution_count": null,
   "metadata": {
    "collapsed": false,
    "deletable": true,
    "editable": true
   },
   "outputs": [],
   "source": [
    "dhmm_r.baum_welch( data, 100 )\n",
    "print( \"Reestimated model after 110 iterations:   \" ,np.exp( dhmm_r.data_estimate(data) ) )"
   ]
  },
  {
   "cell_type": "markdown",
   "metadata": {
    "deletable": true,
    "editable": true
   },
   "source": [
    "We can compare the parameters of the model."
   ]
  },
  {
   "cell_type": "code",
   "execution_count": null,
   "metadata": {
    "collapsed": false,
    "deletable": true,
    "editable": true
   },
   "outputs": [],
   "source": [
    "hmms.print_parameters( dhmm_r )\n",
    "hmms.print_parameters( dhmm )"
   ]
  },
  {
   "cell_type": "markdown",
   "metadata": {
    "collapsed": false,
    "deletable": true,
    "editable": true,
    "scrolled": true
   },
   "source": [
    "Alternatively, we can run *baum_welch_graph* method to get learning curve of estimated probabilities."
   ]
  },
  {
   "cell_type": "code",
   "execution_count": null,
   "metadata": {
    "collapsed": false,
    "deletable": true,
    "editable": true,
    "scrolled": false
   },
   "outputs": [],
   "source": [
    "dhmm_r = hmms.DtHMM.random(2,3) \n",
    "out = dhmm_r.baum_welch( data, 50, est=True )\n",
    "\n",
    "np.exp(out)"
   ]
  },
  {
   "cell_type": "markdown",
   "metadata": {
    "deletable": true,
    "editable": true
   },
   "source": [
    "Let's plot it in the graph, comparing the results in ratio with *real* data-generator model. ( Notice, it is the ratio of logaritmic probability values. )"
   ]
  },
  {
   "cell_type": "code",
   "execution_count": null,
   "metadata": {
    "collapsed": false,
    "deletable": true,
    "editable": true
   },
   "outputs": [],
   "source": [
    "real = dhmm.data_estimate(data)\n",
    "#For better visibility of the graph, we cut first two values.\n",
    "plt.plot( out[2:] / real  )\n",
    "plt.show()"
   ]
  },
  {
   "cell_type": "markdown",
   "metadata": {
    "deletable": true,
    "editable": true
   },
   "source": [
    "<a id='cthmm'></a>\n",
    "Part 2: Continuous Time Hidden Markov Model\n",
    "-----------------------------------------------------"
   ]
  },
  {
   "cell_type": "code",
   "execution_count": null,
   "metadata": {
    "collapsed": true,
    "deletable": true,
    "editable": true
   },
   "outputs": [],
   "source": [
    "import numpy as np\n",
    "import matplotlib.pyplot as plt\n",
    "import hmms\n",
    "\n",
    "%matplotlib inline"
   ]
  },
  {
   "cell_type": "markdown",
   "metadata": {
    "deletable": true,
    "editable": true
   },
   "source": [
    "### Construct CtHMM \n",
    "Construction of CtHMM is similar to the discrete model. \n",
    "\n",
    "You can directly initialize the CtHMM by passing the **model parameters**.  \n",
    "We will create simple CtHMM of three hidden states and three output variables."
   ]
  },
  {
   "cell_type": "code",
   "execution_count": null,
   "metadata": {
    "collapsed": false,
    "deletable": true,
    "editable": true
   },
   "outputs": [],
   "source": [
    "# Q is the matrix of transition rates from state [row] to state [column].\n",
    "Q = np.array( [[-0.375,0.125,0.25],[0.25,-0.5,0.25],[0.25,0.125,-0.375]] )\n",
    "# B is the matrix of probabilities that the state [row] will emmit output variable [column].\n",
    "B = np.array( [[0.8,0.05,0.15],[0.05,0.9,0.05],[0.2,0.05,0.75]] )\n",
    "# Pi is the vector of initial state probabilities.   \n",
    "Pi = np.array( [0.6,0,0.4] )\n",
    "\n",
    "# Create CtHMM by given parameters.\n",
    "chmm = hmms.CtHMM(Q,B,Pi)"
   ]
  },
  {
   "cell_type": "markdown",
   "metadata": {
    "deletable": true,
    "editable": true
   },
   "source": [
    "Or you can initialize it by **random parameters**. Passing the number of hidden states and output variables.  \n",
    "By default are the parameters generated by exponential distribution and than normalized to sum to one."
   ]
  },
  {
   "cell_type": "code",
   "execution_count": null,
   "metadata": {
    "collapsed": true,
    "deletable": true,
    "editable": true
   },
   "outputs": [],
   "source": [
    "chmm_random = hmms.CtHMM.random(3,3)"
   ]
  },
  {
   "cell_type": "markdown",
   "metadata": {
    "deletable": true,
    "editable": true
   },
   "source": [
    "You can choose generating by uniform distribution passing the parameter *method*. "
   ]
  },
  {
   "cell_type": "code",
   "execution_count": null,
   "metadata": {
    "collapsed": true,
    "deletable": true,
    "editable": true
   },
   "outputs": [],
   "source": [
    "chmm_random = hmms.CtHMM.random(3,3,method=\"unif\")"
   ]
  },
  {
   "cell_type": "markdown",
   "metadata": {
    "deletable": true,
    "editable": true
   },
   "source": [
    "### Save & Read from File\n",
    "\n",
    "Once you have created the model you can save its parameters in file simply by calling save_params method."
   ]
  },
  {
   "cell_type": "code",
   "execution_count": null,
   "metadata": {
    "collapsed": false,
    "deletable": true,
    "editable": true
   },
   "outputs": [],
   "source": [
    "chmm.save_params(\"Models/hello_cthmm\") "
   ]
  },
  {
   "cell_type": "markdown",
   "metadata": {
    "deletable": true,
    "editable": true
   },
   "source": [
    "The method stored the parameters in .npz format.\n",
    "The saved file can be later used to read parametrs for model initialization."
   ]
  },
  {
   "cell_type": "code",
   "execution_count": null,
   "metadata": {
    "collapsed": false,
    "deletable": true,
    "editable": true
   },
   "outputs": [],
   "source": [
    "chmm_from_file = hmms.CtHMM.from_file( \"Models/hello_cthmm.npz\" )"
   ]
  },
  {
   "cell_type": "markdown",
   "metadata": {
    "deletable": true,
    "editable": true
   },
   "source": [
    "### Set & Get Parameters\n",
    "Later you can always set parameters with triple of methods corresponding to the constructors."
   ]
  },
  {
   "cell_type": "code",
   "execution_count": null,
   "metadata": {
    "collapsed": false,
    "deletable": true,
    "editable": true
   },
   "outputs": [],
   "source": [
    "chmm.set_params(Q,B,Pi)\n",
    "chmm.set_params_random(3,3)\n",
    "chmm.set_params_from_file( \"Models/hello_cthmm.npz\" )"
   ]
  },
  {
   "cell_type": "markdown",
   "metadata": {
    "deletable": true,
    "editable": true
   },
   "source": [
    "You can **get** parameters by calling them separately,"
   ]
  },
  {
   "cell_type": "code",
   "execution_count": null,
   "metadata": {
    "collapsed": false,
    "deletable": true,
    "editable": true
   },
   "outputs": [],
   "source": [
    "chmm.q, chmm.b, chmm.pi"
   ]
  },
  {
   "cell_type": "markdown",
   "metadata": {
    "deletable": true,
    "editable": true
   },
   "source": [
    "or get them all together as the triple."
   ]
  },
  {
   "cell_type": "code",
   "execution_count": null,
   "metadata": {
    "collapsed": false,
    "deletable": true,
    "editable": true
   },
   "outputs": [],
   "source": [
    "(A,B,Pi) = chmm.params"
   ]
  },
  {
   "cell_type": "markdown",
   "metadata": {
    "deletable": true,
    "editable": true
   },
   "source": [
    "### Generate Random Sequence\n",
    "Now we can use our model to **generate** time, state and emission sequence.\n",
    "The model will **randomly** choose which transition or emission will happen, taking into consideration the parameters we have previously defined.\n",
    "\n",
    "The times are generated with **exponencial** waiting times, you can define the parameter of exponencial distribution as second optional parameter. \n"
   ]
  },
  {
   "cell_type": "code",
   "execution_count": null,
   "metadata": {
    "collapsed": false,
    "deletable": true,
    "editable": true
   },
   "outputs": [],
   "source": [
    "seq_len = 10\n",
    "t_seq, s_seq, e_seq = chmm.generate( seq_len, 0.5)\n",
    "\n",
    "#resize plot\n",
    "plt.rcParams['figure.figsize'] = [20,20]\n",
    "\n",
    "hmms.plot_hmm( s_seq, e_seq, time=t_seq )"
   ]
  },
  {
   "cell_type": "markdown",
   "metadata": {
    "deletable": true,
    "editable": true
   },
   "source": [
    "### Find Most Likely State Sequence\n",
    "If we have corresponding time and emission sequence, we can find the most probable state sequence that would generate it given the current model parameters. Notice, that it can be different, than the actual sequence that has generated the emissions.  \n",
    "We will use Viterbi algorithm for the calculation."
   ]
  },
  {
   "cell_type": "code",
   "execution_count": null,
   "metadata": {
    "collapsed": false,
    "deletable": true,
    "editable": true
   },
   "outputs": [],
   "source": [
    "( log_prob, s_seq ) =  chmm.viterbi( t_seq, e_seq )\n",
    "# Let's print the most likely state sequence, it can be same or differ from the sequence above.\n",
    "hmms.plot_hmm( s_seq, e_seq, time = t_seq )\n",
    "print( \"Probability of being generated by the found state sequence:\", np.exp( log_prob ) )"
   ]
  },
  {
   "cell_type": "markdown",
   "metadata": {
    "deletable": true,
    "editable": true
   },
   "source": [
    "<a id='ctest'></a>\n",
    "### The Probability of the Time and Emission Sequence"
   ]
  },
  {
   "cell_type": "markdown",
   "metadata": {
    "deletable": true,
    "editable": true
   },
   "source": [
    "We can compute the probability, of the emission sequence given model and its time sequence."
   ]
  },
  {
   "cell_type": "code",
   "execution_count": null,
   "metadata": {
    "collapsed": false,
    "deletable": true,
    "editable": true
   },
   "outputs": [],
   "source": [
    "np.exp( chmm.emission_estimate( t_seq, e_seq ) )"
   ]
  },
  {
   "cell_type": "markdown",
   "metadata": {
    "deletable": true,
    "editable": true
   },
   "source": [
    "### The Probability of the State, Time and Emission Sequences"
   ]
  },
  {
   "cell_type": "markdown",
   "metadata": {
    "deletable": true,
    "editable": true
   },
   "source": [
    "Similary we can compute the probabilty of the state, time and emission sequences given the model parameters."
   ]
  },
  {
   "cell_type": "code",
   "execution_count": null,
   "metadata": {
    "collapsed": false,
    "deletable": true,
    "editable": true
   },
   "outputs": [],
   "source": [
    "np.exp( chmm.estimate( s_seq, t_seq, e_seq ) )"
   ]
  },
  {
   "cell_type": "markdown",
   "metadata": {
    "deletable": true,
    "editable": true
   },
   "source": [
    "**Notice!**  - You can simply count the probability estimations for whole dataset by one command, watch [The chapter 4](#dsest)."
   ]
  },
  {
   "cell_type": "markdown",
   "metadata": {
    "deletable": true,
    "editable": true
   },
   "source": [
    "### Generate Artificial  Dataset\n",
    "You can easily generate many sequences in once by using the *generate_data* function.  \n",
    "The generated data are in the form that is suitable for training of parameters. \n",
    "You can switch *states=True*, if you want to generate also the corresponding state sequences.\n",
    "\n",
    "TODO: The times are generated with **exponencial** waiting times, you can define the parameter of exponencial distribution as second optional parameter. "
   ]
  },
  {
   "cell_type": "code",
   "execution_count": null,
   "metadata": {
    "collapsed": false,
    "deletable": true,
    "editable": true
   },
   "outputs": [],
   "source": [
    "seq_num= 5   #number of data sequences\n",
    "seq_len= 30  #length of each sequence\n",
    "\n",
    "t,e = chmm.generate_data( (seq_num,seq_len) )\n",
    "t,e"
   ]
  },
  {
   "cell_type": "markdown",
   "metadata": {
    "collapsed": true,
    "deletable": true,
    "editable": true
   },
   "source": [
    "### Parameters Estimation - Continuous Version of Baum Welch Algorithm\n",
    "\n",
    "We will use the previously generated data for the training of randomly generated model.\n",
    "\n",
    "**Notice!**  - Always use the integers in your time points dataset. Floats times are also supported, but it can make the computation significantly slower and you should know, why you are using them. For more detail information watch [The chapter 4](#dataset)."
   ]
  },
  {
   "cell_type": "code",
   "execution_count": null,
   "metadata": {
    "collapsed": false,
    "deletable": true,
    "editable": true
   },
   "outputs": [],
   "source": [
    "chmm_r = hmms.CtHMM.random( 3,3 )\n",
    "# We can print all the parameters.\n",
    "hmms.print_parameters( chmm_r )"
   ]
  },
  {
   "cell_type": "markdown",
   "metadata": {
    "deletable": true,
    "editable": true
   },
   "source": [
    "Now we can compare the probabilities, that the data was generated by the given model. Its ratio is most probably not so big as in the disrete model. It is because the intervals between the observations are the source of many unknown, so it is pushing the probability of real model down. "
   ]
  },
  {
   "cell_type": "code",
   "execution_count": null,
   "metadata": {
    "collapsed": false,
    "deletable": true,
    "editable": true
   },
   "outputs": [],
   "source": [
    "print( \"Generator model:\" , np.exp( chmm.data_estimate(t,e)   ) )\n",
    "print( \"Random model:   \" ,np.exp( chmm_r.data_estimate(t,e) ) )"
   ]
  },
  {
   "cell_type": "markdown",
   "metadata": {
    "deletable": true,
    "editable": true
   },
   "source": [
    "Let's run the EM algorithm for couple of iterations."
   ]
  },
  {
   "cell_type": "code",
   "execution_count": null,
   "metadata": {
    "collapsed": false,
    "deletable": true,
    "editable": true
   },
   "outputs": [],
   "source": [
    "out = chmm_r.baum_welch( t,e, 100, est=True )\n",
    "\n",
    "np.exp(out)"
   ]
  },
  {
   "cell_type": "markdown",
   "metadata": {
    "deletable": true,
    "editable": true
   },
   "source": [
    "We will plot its probabilities estimations in ratio with generator model. (Notice, it is the ratio of logarithms of probabilities)"
   ]
  },
  {
   "cell_type": "code",
   "execution_count": null,
   "metadata": {
    "collapsed": false,
    "deletable": true,
    "editable": true
   },
   "outputs": [],
   "source": [
    "real = chmm.data_estimate( t, e )\n",
    "#For better visibility of the graph, we cut first two values.\n",
    "plt.plot( out[2:] / real  )\n",
    "\n",
    "plt.show()"
   ]
  },
  {
   "cell_type": "markdown",
   "metadata": {
    "deletable": true,
    "editable": true
   },
   "source": [
    "<a id='conv'></a>\n",
    "Part 3: Comparison of Models Convergences\n",
    "-----------------------------------------------------"
   ]
  },
  {
   "cell_type": "markdown",
   "metadata": {
    "deletable": true,
    "editable": true
   },
   "source": [
    "In this chapter we will compare the convergence rate of discrete and continuous models. It will show some functions usefull for convergence among model parameters.  "
   ]
  },
  {
   "cell_type": "code",
   "execution_count": null,
   "metadata": {
    "collapsed": true,
    "deletable": true,
    "editable": true
   },
   "outputs": [],
   "source": [
    "import numpy as np\n",
    "import matplotlib.pyplot as plt\n",
    "import hmms\n",
    "\n",
    "%matplotlib inline"
   ]
  },
  {
   "cell_type": "markdown",
   "metadata": {
    "deletable": true,
    "editable": true
   },
   "source": [
    "We will start by defining the continuous time model. For that, who have read the previous section, it will be the familiar."
   ]
  },
  {
   "cell_type": "code",
   "execution_count": null,
   "metadata": {
    "collapsed": false,
    "deletable": true,
    "editable": true
   },
   "outputs": [],
   "source": [
    "Q = np.array( [[-0.375,0.125,0.25],[0.25,-0.5,0.25],[0.25,0.125,-0.375]] )\n",
    "B = np.array( [[0.8,0.05,0.15],[0.05,0.9,0.05],[0.2,0.05,0.75]] )\n",
    "Pi = np.array( [0.6,0,0.4] )\n",
    "\n",
    "chmm = hmms.CtHMM( Q,B,Pi )\n",
    "hmms.print_parameters( chmm )"
   ]
  },
  {
   "cell_type": "markdown",
   "metadata": {
    "deletable": true,
    "editable": true
   },
   "source": [
    "We can simply create discrete model with equivalent parameters, using function *get_dthmm_params*.  \n",
    "By default, it will create the model with transition probabilities equal to one time unit probability transition in continuous model. You can pass the optional parameter for different time steps.\n"
   ]
  },
  {
   "cell_type": "code",
   "execution_count": null,
   "metadata": {
    "collapsed": false,
    "deletable": true,
    "editable": true
   },
   "outputs": [],
   "source": [
    "dhmm = hmms.DtHMM( *chmm.get_dthmm_params() )\n",
    "hmms.print_parameters( dhmm )"
   ]
  },
  {
   "cell_type": "markdown",
   "metadata": {
    "deletable": true,
    "editable": true
   },
   "source": [
    "We can let the disrete model to generate the data sufficient for both models by passing the *times* parameter as *True*."
   ]
  },
  {
   "cell_type": "code",
   "execution_count": null,
   "metadata": {
    "collapsed": false,
    "deletable": true,
    "editable": true
   },
   "outputs": [],
   "source": [
    "t,_,e = dhmm.generate_data( (50,50), times=True )   \n",
    "# The free space in the return triple is for the state sequences, we do not need them for the training "
   ]
  },
  {
   "cell_type": "markdown",
   "metadata": {
    "deletable": true,
    "editable": true
   },
   "source": [
    "We can compare the estimation of the data, using both of the model. (They should be the same.)"
   ]
  },
  {
   "cell_type": "code",
   "execution_count": null,
   "metadata": {
    "collapsed": false,
    "deletable": true,
    "editable": true
   },
   "outputs": [],
   "source": [
    "creal = chmm.data_estimate(t,e)\n",
    "dreal = dhmm.data_estimate(e)\n",
    "print(\"Data estimation by continuous model:\", creal)\n",
    "print(\"Data estimation by discrete model:  \", dreal)"
   ]
  },
  {
   "cell_type": "markdown",
   "metadata": {
    "deletable": true,
    "editable": true
   },
   "source": [
    "Now we will create two equivalent random models. "
   ]
  },
  {
   "cell_type": "code",
   "execution_count": null,
   "metadata": {
    "collapsed": false,
    "deletable": true,
    "editable": true
   },
   "outputs": [],
   "source": [
    "ct = hmms.CtHMM.random(3,3)\n",
    "dt = hmms.DtHMM( *ct.get_dthmm_params() )\n",
    "    \n",
    "hmms.print_parameters( ct )\n",
    "hmms.print_parameters( dt )"
   ]
  },
  {
   "cell_type": "markdown",
   "metadata": {
    "deletable": true,
    "editable": true
   },
   "source": [
    "We will train them at our dataset. (It can take a while.)"
   ]
  },
  {
   "cell_type": "code",
   "execution_count": null,
   "metadata": {
    "collapsed": false,
    "deletable": true,
    "editable": true
   },
   "outputs": [],
   "source": [
    "iter_num = 50\n",
    "outd = dt.baum_welch( e,   iter_num, est=True )\n",
    "outc = ct.baum_welch( t,e, iter_num, est=True )\n",
    "outd,outc"
   ]
  },
  {
   "cell_type": "markdown",
   "metadata": {
    "collapsed": false,
    "deletable": true,
    "editable": true
   },
   "source": [
    "We can plot and compare both convergence rates. From the essence of models, the continuous model will probably  converge a bit slower, but finally will reach the similar value."
   ]
  },
  {
   "cell_type": "code",
   "execution_count": null,
   "metadata": {
    "collapsed": false,
    "deletable": true,
    "editable": true
   },
   "outputs": [],
   "source": [
    "plt.plot( outd[1:] / dreal  )\n",
    "plt.plot( outc[1:] / dreal, color=\"red\"  )\n",
    "#plt.savefig('my_plot.svg')  #Optional save the figure\n",
    "plt.show()"
   ]
  },
  {
   "cell_type": "markdown",
   "metadata": {
    "deletable": true,
    "editable": true
   },
   "source": [
    "<a id='dataset'></a>\n",
    "## Part 4: Advance Work with Datasets"
   ]
  },
  {
   "cell_type": "code",
   "execution_count": null,
   "metadata": {
    "collapsed": true,
    "deletable": true,
    "editable": true
   },
   "outputs": [],
   "source": [
    "import numpy as np\n",
    "import matplotlib.pyplot as plt\n",
    "import hmms\n",
    "\n",
    "%matplotlib inline"
   ]
  },
  {
   "cell_type": "markdown",
   "metadata": {
    "collapsed": false,
    "deletable": true,
    "editable": true
   },
   "source": [
    "### Various Length of Training Vectors"
   ]
  },
  {
   "cell_type": "markdown",
   "metadata": {
    "deletable": true,
    "editable": true
   },
   "source": [
    "There are two supported data-structures, that you can pass toward training:"
   ]
  },
  {
   "cell_type": "markdown",
   "metadata": {
    "deletable": true,
    "editable": true
   },
   "source": [
    "#### 1. The Numpy Matrix\n",
    "The two dimensional array, where the rows consist of training sequences.  \n",
    "Though, this way is restricted in the way that all the vectors need to have the same size. "
   ]
  },
  {
   "cell_type": "code",
   "execution_count": null,
   "metadata": {
    "collapsed": true,
    "deletable": true,
    "editable": true
   },
   "outputs": [],
   "source": [
    "data_n = np.array(  [[0, 0, 0, 1, 1, 1, 1, 1, 1, 1],\n",
    "                     [0, 0, 0, 0, 1, 1, 1, 0, 1, 0],\n",
    "                     [2, 0, 1, 0, 0, 0, 0, 0, 0, 0]] )"
   ]
  },
  {
   "cell_type": "code",
   "execution_count": null,
   "metadata": {
    "collapsed": false,
    "deletable": true,
    "editable": true
   },
   "outputs": [],
   "source": [
    "dhmm_r = hmms.DtHMM.random( 2,3 )\n",
    "graph_n = dhmm_r.baum_welch( data_n, 10, est=True )\n",
    "np.exp( dhmm_r.data_estimate(data_n) )"
   ]
  },
  {
   "cell_type": "markdown",
   "metadata": {
    "deletable": true,
    "editable": true
   },
   "source": [
    "#### 2. The List of Numpy Vectors\n",
    "The standard Python list, consisting of Numpy vectors.\n",
    "Every vector can have different length."
   ]
  },
  {
   "cell_type": "code",
   "execution_count": null,
   "metadata": {
    "collapsed": true,
    "deletable": true,
    "editable": true
   },
   "outputs": [],
   "source": [
    "data_l = [ np.array( [0, 0, 0, 0, 1, 1, 1, 1, 1, 1, 1, 1] ) ,\n",
    "           np.array( [0, 1, 0, 0, 1, 0, 1 ] ),\n",
    "           np.array( [2, 0, 1, 0, 0, 0, 0, 0, 0, 0] ) ]"
   ]
  },
  {
   "cell_type": "code",
   "execution_count": null,
   "metadata": {
    "collapsed": false,
    "deletable": true,
    "editable": true
   },
   "outputs": [],
   "source": [
    "dhmm_r = hmms.DtHMM.random( 2,3 )\n",
    "graph_l = dhmm_r.baum_welch( data_l, 10, est=True )\n",
    "np.exp( dhmm_r.data_estimate(data_l) )"
   ]
  },
  {
   "cell_type": "code",
   "execution_count": null,
   "metadata": {
    "collapsed": false,
    "deletable": true,
    "editable": true
   },
   "outputs": [],
   "source": [
    "# you can plot the graphs, just for fun.\n",
    "plt.plot( graph_n, color='red' )\n",
    "plt.plot( graph_l )"
   ]
  },
  {
   "cell_type": "markdown",
   "metadata": {
    "deletable": true,
    "editable": true
   },
   "source": [
    "#### Continuous-Time HMM\n",
    "The work with datasets in CtHMM is analogous."
   ]
  },
  {
   "cell_type": "code",
   "execution_count": null,
   "metadata": {
    "collapsed": false,
    "deletable": true,
    "editable": true
   },
   "outputs": [],
   "source": [
    "data_n = np.array(  [[0, 0, 0, 1],\n",
    "                     [0, 2, 0, 0],\n",
    "                     [2, 0, 1, 0] ] )\n",
    "time_n = np.array(  [[0, 1, 3, 4],\n",
    "                     [0, 2, 3, 5],\n",
    "                     [0, 2, 4, 6] ] )\n",
    "\n",
    "chmm_r = hmms.CtHMM.random( 2,3 )\n",
    "graph_n = chmm_r.baum_welch( time_n, data_n, 10, est=True ) \n",
    "np.exp( chmm_r.data_estimate(time_n, data_n) )"
   ]
  },
  {
   "cell_type": "code",
   "execution_count": null,
   "metadata": {
    "collapsed": false,
    "deletable": true,
    "editable": true
   },
   "outputs": [],
   "source": [
    "data_l = [ np.array( [0, 0, 2, 0 ] ) ,\n",
    "           np.array( [0, 1, 0, 0, 1 ] ),\n",
    "           np.array( [2, 0, 1 ] ) ]\n",
    "time_l = [ np.array( [0, 1, 2, 4 ] ) ,\n",
    "           np.array( [0, 1, 3, 5, 6 ] ),\n",
    "           np.array( [0, 2, 3 ] ) ]\n",
    "\n",
    "chmm_r = hmms.CtHMM.random( 2,3 )\n",
    "graph_n = chmm_r.baum_welch( time_l, data_l, 10, est=True ) \n",
    "np.exp( chmm_r.data_estimate(time_l, data_l) )"
   ]
  },
  {
   "cell_type": "markdown",
   "metadata": {
    "deletable": true,
    "editable": true
   },
   "source": [
    "### Time Parameters in Floats"
   ]
  },
  {
   "cell_type": "markdown",
   "metadata": {
    "deletable": true,
    "editable": true
   },
   "source": [
    "The time parameters are supported as the **integers** or **floats**.\n",
    "However both datatypes are allowed, it is strongly *adviced* to *use* integers or floats with *integral distance*\n",
    "(be carefull about float operation unprecision here.)  \n",
    "The *non-integral* time intervals among two neigbouring observation are *computationaly costly*, as it doesn't allow to compute matrix power and more complex operations are needed.  \n",
    "Later are showed two examples with the float data and possible *tricks* how to make computation *faster*."
   ]
  },
  {
   "cell_type": "markdown",
   "metadata": {
    "deletable": true,
    "editable": true
   },
   "source": [
    "#### Example one:  Change intervals length to integer"
   ]
  },
  {
   "cell_type": "code",
   "execution_count": null,
   "metadata": {
    "collapsed": false,
    "deletable": true,
    "editable": true
   },
   "outputs": [],
   "source": [
    "data = np.array(  [[0, 0, 0, 1],\n",
    "                   [0, 2, 0, 0],\n",
    "                   [2, 0, 1, 0] ] )\n",
    "time = np.array(  [[0, 1.5, 3.4, 4.7],\n",
    "                   [0, 2.6, 5.7, 8.9],\n",
    "                   [0, 2.2, 4.1, 9.8] ] )"
   ]
  },
  {
   "cell_type": "markdown",
   "metadata": {
    "deletable": true,
    "editable": true
   },
   "source": [
    "Use data as float"
   ]
  },
  {
   "cell_type": "code",
   "execution_count": null,
   "metadata": {
    "collapsed": false,
    "deletable": true,
    "editable": true
   },
   "outputs": [],
   "source": [
    "chmm_r = hmms.CtHMM.random( 2,3 )\n",
    "graph_f = chmm_r.baum_welch( time, data, 10, est=True ) \n",
    "np.exp( chmm_r.data_estimate(time, data) )"
   ]
  },
  {
   "cell_type": "markdown",
   "metadata": {
    "deletable": true,
    "editable": true
   },
   "source": [
    "or use the **trick** so the intervals were integral.\n",
    "Here it is enough to **multiply** it times 10.   \n",
    "**Notice**: Here we are working with randomly generated jump rates matrix, otherwise you would need to reevaluate its values, when multiplying times. "
   ]
  },
  {
   "cell_type": "code",
   "execution_count": null,
   "metadata": {
    "collapsed": false,
    "deletable": true,
    "editable": true
   },
   "outputs": [],
   "source": [
    "chmm_r = hmms.CtHMM.random( 2,3 )\n",
    "graph = chmm_r.baum_welch( time*10, data, 10, est=True ) \n",
    "np.exp( chmm_r.data_estimate( time*10, data ) )"
   ]
  },
  {
   "cell_type": "markdown",
   "metadata": {
    "deletable": true,
    "editable": true
   },
   "source": [
    "#### Example 2: Approximate the time values"
   ]
  },
  {
   "cell_type": "markdown",
   "metadata": {
    "deletable": true,
    "editable": true
   },
   "source": [
    "Sometimes, depending upon the data, the exact observation time may not be important, so the small approximation can be helpful to get better computational time."
   ]
  },
  {
   "cell_type": "code",
   "execution_count": null,
   "metadata": {
    "collapsed": true,
    "deletable": true,
    "editable": true
   },
   "outputs": [],
   "source": [
    "data = np.array(  [[0, 0, 0, 1],\n",
    "                   [0, 2, 0, 0],\n",
    "                   [2, 0, 1, 0] ] )\n",
    "time = np.array(  [[0, 1.54587435, 3.4435434, 4.74535345],\n",
    "                   [0, 2.64353245, 5.7435435, 8.94353454],\n",
    "                   [0, 2.24353455, 4.1345435, 9.83454354] ] )"
   ]
  },
  {
   "cell_type": "markdown",
   "metadata": {
    "deletable": true,
    "editable": true
   },
   "source": [
    "Use data as float"
   ]
  },
  {
   "cell_type": "code",
   "execution_count": null,
   "metadata": {
    "collapsed": false,
    "deletable": true,
    "editable": true
   },
   "outputs": [],
   "source": [
    "chmm_r = hmms.CtHMM.random( 2,3 )\n",
    "graph_f = chmm_r.baum_welch( time, data, 10, est=True ) \n",
    "np.exp( chmm_r.data_estimate(time, data) )"
   ]
  },
  {
   "cell_type": "markdown",
   "metadata": {
    "deletable": true,
    "editable": true
   },
   "source": [
    "or perform the **trick**. Here multiply by 100 and round to the integers."
   ]
  },
  {
   "cell_type": "code",
   "execution_count": null,
   "metadata": {
    "collapsed": false,
    "deletable": true,
    "editable": true
   },
   "outputs": [],
   "source": [
    "time = np.round( time * 100 )\n",
    "\n",
    "chmm_r = hmms.CtHMM.random( 2,3 )\n",
    "graph = chmm_r.baum_welch( time, data, 10, est=True ) \n",
    "np.exp( chmm_r.data_estimate(time, data) )"
   ]
  },
  {
   "cell_type": "markdown",
   "metadata": {
    "deletable": true,
    "editable": true
   },
   "source": [
    "<a id='dsest'></a>\n",
    "### Datasets Probability Estimations "
   ]
  },
  {
   "cell_type": "markdown",
   "metadata": {
    "deletable": true,
    "editable": true
   },
   "source": [
    "We have showed previously how to compute sequence probability estimations in [The discrete](#dtest) and [continuous](#ctest) model.  \n",
    "Here it is showed, how to make it for whole dataset by using just one command.  \n",
    "(We will show it at continuous time model, the discrete one is analogous, just omit the time sequences.)"
   ]
  },
  {
   "cell_type": "code",
   "execution_count": null,
   "metadata": {
    "collapsed": true,
    "deletable": true,
    "editable": true
   },
   "outputs": [],
   "source": [
    "seq_num= 10   #number of data sequences\n",
    "seq_len= 10   #length of each sequence\n",
    "\n",
    "# Create data and generate model\n",
    "\n",
    "chmm = hmms.CtHMM.random(3,3)\n",
    "t,s,e = chmm.generate_data( (seq_num,seq_len), states=True )"
   ]
  },
  {
   "cell_type": "markdown",
   "metadata": {
    "deletable": true,
    "editable": true
   },
   "source": [
    "#### The Probability of the Time and Emission Sequences\n",
    "We can compute the probability, of the emissions sequence given model and its time sequences."
   ]
  },
  {
   "cell_type": "code",
   "execution_count": null,
   "metadata": {
    "collapsed": false,
    "deletable": true,
    "editable": true
   },
   "outputs": [],
   "source": [
    "np.exp( chmm.data_estimate( t, e ) )"
   ]
  },
  {
   "cell_type": "markdown",
   "metadata": {
    "deletable": true,
    "editable": true
   },
   "source": [
    "#### The Probability of the State, Time and Emission Sequences\n",
    "Similary we can compute the probabilty of the state, time and emission sequences given the model parameters."
   ]
  },
  {
   "cell_type": "code",
   "execution_count": null,
   "metadata": {
    "collapsed": false,
    "deletable": true,
    "editable": true
   },
   "outputs": [],
   "source": [
    "np.exp( chmm.full_data_estimate( s, t, e ) )"
   ]
  },
  {
   "cell_type": "markdown",
   "metadata": {
    "deletable": true,
    "editable": true
   },
   "source": [
    "### Multi Training"
   ]
  },
  {
   "cell_type": "markdown",
   "metadata": {
    "deletable": true,
    "editable": true
   },
   "source": [
    "\n",
    "For more convenient train from various random begnings, you can use *multi_train* function.  \n",
    "It has parameters   \n",
    "method: \n",
    "- 'exp' - [default] Use exponential distribution for random initialization\n",
    "- 'unif' - Use uniform distribution for random initialization  \n",
    "\n",
    "and ret: \n",
    "- 'all' - Return all trained models, sorted by their probability estimation\n",
    "- 'best' - [default] Return only the model with the best probability estimation"
   ]
  },
  {
   "cell_type": "code",
   "execution_count": null,
   "metadata": {
    "collapsed": false,
    "deletable": true,
    "editable": true
   },
   "outputs": [],
   "source": [
    "t,e = chmm.generate_data( (5,10) )\n",
    "hidden_states = 3\n",
    "runs = 10\n",
    "iterations = 50\n",
    "out = hmms.multi_train_ct( hidden_states , t, e, runs, iterations, ret='all', method='exp')\n",
    "out"
   ]
  },
  {
   "cell_type": "markdown",
   "metadata": {
    "collapsed": false,
    "deletable": true,
    "editable": true
   },
   "source": [
    "<hr/>\n",
    "You can play with the models as you like and feel free to share your result with me, if you have made some interesting experiment!"
   ]
  },
  {
   "cell_type": "markdown",
   "metadata": {
    "collapsed": true,
    "deletable": true,
    "editable": true
   },
   "source": [
    "Contact: (lopatovsky@gmail.com)"
   ]
  },
  {
   "cell_type": "markdown",
   "metadata": {
    "deletable": true,
    "editable": true
   },
   "source": [
    "### Experimental features\n",
    "#### Fast Convergence "
   ]
  },
  {
   "cell_type": "code",
   "execution_count": null,
   "metadata": {
    "collapsed": false,
    "deletable": true,
    "editable": true
   },
   "outputs": [],
   "source": [
    "#The experiment is frozen\n",
    "\n",
    "\n",
    "seq_num= 1   #number of data sequences\n",
    "seq_len= 4  #length of each sequence\n",
    "\n",
    "t,e = chmm.generate_data( (seq_num,seq_len) )\n",
    "t,e\n",
    "\n",
    "\n",
    "t = np.array([[ 0,1,3,5,6,7,9,11,12]])\n",
    "e = np.array([[ 0,0,0,1,2,1,0,0,1]])\n"
   ]
  },
  {
   "cell_type": "code",
   "execution_count": null,
   "metadata": {
    "collapsed": false,
    "deletable": true,
    "editable": true
   },
   "outputs": [],
   "source": [
    "ct1 = hmms.CtHMM.random(3,3)\n",
    "ct2 = hmms.CtHMM( *ct1.params )"
   ]
  },
  {
   "cell_type": "code",
   "execution_count": null,
   "metadata": {
    "collapsed": false,
    "deletable": true,
    "editable": true
   },
   "outputs": [],
   "source": [
    "iter_num = 50\n",
    "out1 = ct1.baum_welch( t,e, iter_num, est=True )\n",
    "#out2 = ct2.baum_welch( t,e, iter_num )\n",
    "out1,out2"
   ]
  },
  {
   "cell_type": "code",
   "execution_count": null,
   "metadata": {
    "collapsed": false,
    "deletable": true,
    "editable": true
   },
   "outputs": [],
   "source": [
    "plt.plot( out1[1:] / dreal , color = \"red\" )\n",
    "plt.plot( out2[1:] / dreal  )\n",
    "#plt.savefig('graph.svg')  #Optional save the figure\n",
    "\n",
    "plt.show()"
   ]
  },
  {
   "cell_type": "code",
   "execution_count": null,
   "metadata": {
    "collapsed": false,
    "deletable": true,
    "editable": true
   },
   "outputs": [],
   "source": [
    "hmms.print_parameters(ct1)\n",
    "hmms.print_parameters(ct2)"
   ]
  },
  {
   "cell_type": "markdown",
   "metadata": {
    "collapsed": true,
    "deletable": true,
    "editable": true
   },
   "source": [
    "#### Exponential random generation"
   ]
  },
  {
   "cell_type": "code",
   "execution_count": null,
   "metadata": {
    "collapsed": true,
    "deletable": true,
    "editable": true
   },
   "outputs": [],
   "source": [
    "import numpy as np\n",
    "import matplotlib.pyplot as plt\n",
    "import hmms\n",
    "\n",
    "%matplotlib inline"
   ]
  },
  {
   "cell_type": "code",
   "execution_count": null,
   "metadata": {
    "collapsed": false,
    "deletable": true,
    "editable": true
   },
   "outputs": [],
   "source": [
    "# Q is the matrix of transition rates from state [row] to state [column].\n",
    "Q = np.array( [[-0.375,0.125,0.25],[0.25,-0.5,0.25],[0.25,0.125,-0.375]] )\n",
    "# B is the matrix of probabilities that the state [row] will emmit output variable [column].\n",
    "B = np.array( [[0.8,0.05,0.15],[0.05,0.9,0.05],[0.2,0.05,0.75]] )\n",
    "# Pi is the vector of initial state probabilities.   \n",
    "Pi = np.array( [0.6,0,0.4] )\n",
    "\n",
    "# Create CtHMM by given parameters.\n",
    "chmm = hmms.CtHMM(Q,B,Pi)"
   ]
  },
  {
   "cell_type": "code",
   "execution_count": null,
   "metadata": {
    "collapsed": true,
    "deletable": true,
    "editable": true
   },
   "outputs": [],
   "source": [
    "seq_num= 5   #number of data sequences\n",
    "seq_len= 30  #length of each sequence\n",
    "\n",
    "t,e = chmm.generate_data( (seq_num,seq_len) )"
   ]
  },
  {
   "cell_type": "code",
   "execution_count": null,
   "metadata": {
    "collapsed": false,
    "deletable": true,
    "editable": true
   },
   "outputs": [],
   "source": [
    "chmm_r = hmms.CtHMM.random( 3,3, method='unif' )\n",
    "chmm_re = hmms.CtHMM.random( 3,3, method='exp' )\n",
    "\n",
    "out  =  chmm_r.baum_welch( t,e, 10 )\n",
    "oute = chmm_re.baum_welch( t,e, 10 )\n",
    "\n",
    "\n",
    "#aout =  np.average(out,  axis=0)\n",
    "#aoute = np.average(oute, axis=0)\n"
   ]
  },
  {
   "cell_type": "code",
   "execution_count": null,
   "metadata": {
    "collapsed": false,
    "deletable": true,
    "editable": true
   },
   "outputs": [],
   "source": [
    "out = hmms.multi_train(3, t, e, 10, 200, ret='all', method='exp')"
   ]
  },
  {
   "cell_type": "code",
   "execution_count": null,
   "metadata": {
    "collapsed": false,
    "deletable": true,
    "editable": true
   },
   "outputs": [],
   "source": [
    "aout =  np.average(out,  axis=0)\n",
    "aoute = np.average(oute, axis=0)\n",
    "\n",
    "mout =  np.min(out,  axis=0)\n",
    "moute = np.min(oute, axis=0)\n",
    "\n",
    "\n",
    "real = chmm.data_estimate( t, e )\n",
    "#For better visibility of the graph, we cut first two values.\n",
    "\n",
    "offset = 3\n",
    "\n",
    "#plt.plot(  aout[offset:] / real , color = \"red\" )\n",
    "#plt.plot( aoute[offset:] / real , color = \"blue\" )\n",
    "\n",
    "#plt.plot(  mout[offset:] / real , color = \"orange\" )\n",
    "#plt.plot( moute[offset:] / real , color = \"green\")\n",
    "\n",
    "for line in out:\n",
    "    print( line/real )\n",
    "    plt.plot(  line[offset:] / real )\n",
    "\n",
    "\n",
    "plt.show()"
   ]
  },
  {
   "cell_type": "code",
   "execution_count": null,
   "metadata": {
    "collapsed": false,
    "deletable": true,
    "editable": true
   },
   "outputs": [],
   "source": [
    "real = chmm.data_estimate( t, e )\n",
    "\n",
    "offset = 3\n",
    "\n",
    "print(out)\n",
    "\n",
    "for line in out:\n",
    "    #graph= line[1]\n",
    "    #print( type(line) )\n",
    "    #print( line[1]/real )\n",
    "    plt.plot(  line[1][offset:] / real )\n",
    "\n",
    "\n",
    "\n",
    "\n"
   ]
  },
  {
   "cell_type": "code",
   "execution_count": null,
   "metadata": {
    "collapsed": false,
    "deletable": true,
    "editable": true
   },
   "outputs": [],
   "source": [
    "oute"
   ]
  },
  {
   "cell_type": "markdown",
   "metadata": {
    "collapsed": true,
    "deletable": true,
    "editable": true
   },
   "source": [
    "### Test different length of vectors"
   ]
  },
  {
   "cell_type": "code",
   "execution_count": null,
   "metadata": {
    "collapsed": true,
    "deletable": true,
    "editable": true
   },
   "outputs": [],
   "source": [
    "import numpy as np\n",
    "import matplotlib.pyplot as plt\n",
    "import hmms\n",
    "\n",
    "%matplotlib inline"
   ]
  },
  {
   "cell_type": "code",
   "execution_count": null,
   "metadata": {
    "collapsed": false,
    "deletable": true,
    "editable": true
   },
   "outputs": [],
   "source": [
    "data_l = [ np.array( [0, 0, 0, 0, 1, 1, 1, 1, 1, 1, 1, 1] ) ,\n",
    "         np.array( [0, 1, 0, 0, 1, 0, 1 ] ),\n",
    "         np.array( [2, 0, 1, 0, 0, 0, 0, 0, 0, 0] ) ]\n",
    "\n",
    "data_n = np.array(  [[0, 0, 0, 1, 1, 1, 1, 1, 1, 1],\n",
    "        [0, 0, 0, 0, 1, 1, 1, 0, 1, 0],\n",
    "        [2, 0, 1, 0, 0, 0, 0, 0, 0, 0]] )"
   ]
  },
  {
   "cell_type": "markdown",
   "metadata": {
    "deletable": true,
    "editable": true
   },
   "source": [
    "#### Test Numpy matrix"
   ]
  },
  {
   "cell_type": "code",
   "execution_count": null,
   "metadata": {
    "collapsed": true,
    "deletable": true,
    "editable": true
   },
   "outputs": [],
   "source": [
    "dhmm_r = hmms.DtHMM.random( 2,3 )"
   ]
  },
  {
   "cell_type": "code",
   "execution_count": null,
   "metadata": {
    "collapsed": false,
    "deletable": true,
    "editable": true
   },
   "outputs": [],
   "source": [
    "graph_n = dhmm_r.baum_welch( data_n, 10, est=True ) "
   ]
  },
  {
   "cell_type": "code",
   "execution_count": null,
   "metadata": {
    "collapsed": false,
    "deletable": true,
    "editable": true
   },
   "outputs": [],
   "source": [
    "np.exp( dhmm_r.data_estimate(data_n) )"
   ]
  },
  {
   "cell_type": "markdown",
   "metadata": {
    "deletable": true,
    "editable": true
   },
   "source": [
    "#### Test List of numpy arrays"
   ]
  },
  {
   "cell_type": "code",
   "execution_count": null,
   "metadata": {
    "collapsed": true,
    "deletable": true,
    "editable": true
   },
   "outputs": [],
   "source": [
    "dhmm_r = hmms.DtHMM.random( 2,3 )"
   ]
  },
  {
   "cell_type": "code",
   "execution_count": null,
   "metadata": {
    "collapsed": false,
    "deletable": true,
    "editable": true
   },
   "outputs": [],
   "source": [
    "graph_l = dhmm_r.baum_welch( data_l, 10, est=True )"
   ]
  },
  {
   "cell_type": "code",
   "execution_count": null,
   "metadata": {
    "collapsed": false,
    "deletable": true,
    "editable": true
   },
   "outputs": [],
   "source": [
    "np.exp( dhmm_r.data_estimate(data_l) )"
   ]
  },
  {
   "cell_type": "code",
   "execution_count": null,
   "metadata": {
    "collapsed": false,
    "deletable": true,
    "editable": true
   },
   "outputs": [],
   "source": [
    "plt.plot( graph_n, color='red' )\n",
    "plt.plot( graph_l )"
   ]
  },
  {
   "cell_type": "markdown",
   "metadata": {
    "deletable": true,
    "editable": true
   },
   "source": [
    "Make the similar for the continuous model "
   ]
  },
  {
   "cell_type": "code",
   "execution_count": null,
   "metadata": {
    "collapsed": true,
    "deletable": true,
    "editable": true
   },
   "outputs": [],
   "source": [
    "data_l = [ np.array( [0, 0, 2, 0 ] ) ,\n",
    "         np.array( [0, 1, 0, 0, 1 ] ),\n",
    "         np.array( [2, 0, 1 ] ) ]\n",
    "\n",
    "data_n = np.array(  [[0, 0, 0, 1],\n",
    "        [0, 2, 0, 0],\n",
    "        [2, 0, 1, 0] ] )\n",
    "\n",
    "time_l = [ np.array( [0, 1, 2, 4 ] ) ,\n",
    "         np.array( [0, 1, 3, 5, 6 ] ),\n",
    "         np.array( [0, 2, 3 ] ) ]\n",
    "\n",
    "time_n = np.array(  [[0, 1, 3, 4],\n",
    "        [0, 2, 3, 5],\n",
    "        [0, 2, 4, 6] ] )"
   ]
  },
  {
   "cell_type": "code",
   "execution_count": null,
   "metadata": {
    "collapsed": true,
    "deletable": true,
    "editable": true
   },
   "outputs": [],
   "source": [
    "chmm_r = hmms.CtHMM.random( 2,3 )"
   ]
  },
  {
   "cell_type": "code",
   "execution_count": null,
   "metadata": {
    "collapsed": false,
    "deletable": true,
    "editable": true
   },
   "outputs": [],
   "source": [
    "graph_n = chmm_r.baum_welch( time_n, data_n, 10, est=True ) "
   ]
  },
  {
   "cell_type": "code",
   "execution_count": null,
   "metadata": {
    "collapsed": false,
    "deletable": true,
    "editable": true
   },
   "outputs": [],
   "source": [
    "np.exp( chmm_r.data_estimate(time_n, data_n) )"
   ]
  },
  {
   "cell_type": "code",
   "execution_count": null,
   "metadata": {
    "collapsed": true,
    "deletable": true,
    "editable": true
   },
   "outputs": [],
   "source": [
    "chmm_r = hmms.CtHMM.random( 2,3 )"
   ]
  },
  {
   "cell_type": "code",
   "execution_count": null,
   "metadata": {
    "collapsed": false,
    "deletable": true,
    "editable": true
   },
   "outputs": [],
   "source": [
    "graph_n = chmm_r.baum_welch( time_l, data_l, 10, est=True ) "
   ]
  },
  {
   "cell_type": "code",
   "execution_count": null,
   "metadata": {
    "collapsed": false,
    "deletable": true,
    "editable": true
   },
   "outputs": [],
   "source": [
    "np.exp( chmm_r.data_estimate(time_l, data_l) )"
   ]
  },
  {
   "cell_type": "markdown",
   "metadata": {
    "collapsed": true,
    "deletable": true,
    "editable": true
   },
   "source": [
    "### Test double times"
   ]
  },
  {
   "cell_type": "code",
   "execution_count": null,
   "metadata": {
    "collapsed": true,
    "deletable": true,
    "editable": true
   },
   "outputs": [],
   "source": [
    "import numpy as np\n",
    "import matplotlib.pyplot as plt\n",
    "import hmms\n",
    "\n",
    "%matplotlib inline"
   ]
  },
  {
   "cell_type": "code",
   "execution_count": null,
   "metadata": {
    "collapsed": true,
    "deletable": true,
    "editable": true
   },
   "outputs": [],
   "source": [
    "data = [ np.array( [0, 0, 2, 0 ] ) ,\n",
    "         np.array( [0, 1, 0, 0, 1 ] ),\n",
    "         np.array( [2, 0, 1 ] ) ]\n",
    "\n",
    "time_i = [ np.array( [0, 1, 2, 4 ] ) ,\n",
    "         np.array( [0, 1, 3, 5, 6 ] ),\n",
    "         np.array( [0, 2, 3 ] ) ]\n",
    "\n",
    "time_f = [ np.array( [0, 1.1, 2.1, 4.1 ] ) ,\n",
    "         np.array( [0, 1.1, 3.1, 5.1, 6.1 ] ),\n",
    "         np.array( [0, 2.1, 3.1 ] ) ]"
   ]
  },
  {
   "cell_type": "code",
   "execution_count": null,
   "metadata": {
    "collapsed": true,
    "deletable": true,
    "editable": true
   },
   "outputs": [],
   "source": [
    "chmm_r = hmms.CtHMM.random( 2,3 )"
   ]
  },
  {
   "cell_type": "code",
   "execution_count": null,
   "metadata": {
    "collapsed": false,
    "deletable": true,
    "editable": true
   },
   "outputs": [],
   "source": [
    "graph_i = chmm_r.baum_welch( time_i, data, 10, est=True ) "
   ]
  },
  {
   "cell_type": "code",
   "execution_count": null,
   "metadata": {
    "collapsed": false,
    "deletable": true,
    "editable": true
   },
   "outputs": [],
   "source": [
    "np.exp( chmm_r.data_estimate(time_i, data) )"
   ]
  },
  {
   "cell_type": "markdown",
   "metadata": {
    "deletable": true,
    "editable": true
   },
   "source": [
    "double"
   ]
  },
  {
   "cell_type": "code",
   "execution_count": null,
   "metadata": {
    "collapsed": true,
    "deletable": true,
    "editable": true
   },
   "outputs": [],
   "source": [
    "chmm_r = hmms.CtHMM.random( 2,3 )"
   ]
  },
  {
   "cell_type": "code",
   "execution_count": null,
   "metadata": {
    "collapsed": false,
    "deletable": true,
    "editable": true
   },
   "outputs": [],
   "source": [
    "graph_f = chmm_r.baum_welch( time_f, data, 10, est=True ) "
   ]
  },
  {
   "cell_type": "code",
   "execution_count": null,
   "metadata": {
    "collapsed": false,
    "deletable": true,
    "editable": true
   },
   "outputs": [],
   "source": [
    "np.exp( chmm_r.data_estimate(time_f, data) )"
   ]
  },
  {
   "cell_type": "code",
   "execution_count": null,
   "metadata": {
    "collapsed": false,
    "deletable": true,
    "editable": true
   },
   "outputs": [],
   "source": [
    "plt.plot( graph_i, color='red' )\n",
    "plt.plot( graph_f )"
   ]
  },
  {
   "cell_type": "markdown",
   "metadata": {
    "collapsed": true,
    "deletable": true,
    "editable": true
   },
   "source": [
    "### Soft & Hard"
   ]
  },
  {
   "cell_type": "code",
   "execution_count": 15,
   "metadata": {
    "collapsed": true,
    "deletable": true,
    "editable": true
   },
   "outputs": [],
   "source": [
    "import numpy as np\n",
    "import matplotlib.pyplot as plt\n",
    "import hmms\n",
    "\n",
    "%matplotlib inline"
   ]
  },
  {
   "cell_type": "code",
   "execution_count": 16,
   "metadata": {
    "collapsed": false,
    "deletable": true,
    "editable": true
   },
   "outputs": [
    {
     "name": "stdout",
     "output_type": "stream",
     "text": [
      "[[-0.375  0.125  0.25 ]\n",
      " [ 0.25  -0.5    0.25 ]\n",
      " [ 0.25   0.125 -0.375]] [[ 0.8   0.05  0.15]\n",
      " [ 0.05  0.9   0.05]\n",
      " [ 0.2   0.05  0.75]] [ 0.6  0.   0.4]\n"
     ]
    }
   ],
   "source": [
    "Q = np.array( [[-0.375,0.125,0.25],[0.25,-0.5,0.25],[0.25,0.125,-0.375]] )\n",
    "B = np.array( [[0.8,0.05,0.15],[0.05,0.9,0.05],[0.2,0.05,0.75]] )\n",
    "Pi = np.array( [0.6,0,0.4] )\n",
    "\n",
    "chmm = hmms.CtHMM( Q,B,Pi )\n",
    "#chmm = hmms.CtHMM.random(15,15)"
   ]
  },
  {
   "cell_type": "code",
   "execution_count": 17,
   "metadata": {
    "collapsed": false,
    "deletable": true,
    "editable": true
   },
   "outputs": [],
   "source": [
    "t,e = chmm.generate_data( (50,10) )"
   ]
  },
  {
   "cell_type": "code",
   "execution_count": 18,
   "metadata": {
    "collapsed": false,
    "deletable": true,
    "editable": true,
    "scrolled": false
   },
   "outputs": [
    {
     "name": "stdout",
     "output_type": "stream",
     "text": [
      "[[-1.          0.83584487  0.16415513]\n",
      " [ 0.02565667 -1.          0.97434333]\n",
      " [ 0.27258783  0.72741217 -1.        ]] [[ 0.18708603  0.06910936  0.74380461]\n",
      " [ 0.11120051  0.59914632  0.28965317]\n",
      " [ 0.23189793  0.25075026  0.51735181]] [ 0.11255463  0.06705937  0.820386  ]\n",
      "[[-1.          0.83584487  0.16415513]\n",
      " [ 0.02565667 -1.          0.97434333]\n",
      " [ 0.27258783  0.72741217 -1.        ]] [[ 0.18708603  0.06910936  0.74380461]\n",
      " [ 0.11120051  0.59914632  0.28965317]\n",
      " [ 0.23189793  0.25075026  0.51735181]] [ 0.11255463  0.06705937  0.820386  ]\n",
      "[[-1.          0.83584487  0.16415513]\n",
      " [ 0.02565667 -1.          0.97434333]\n",
      " [ 0.27258783  0.72741217 -1.        ]] [[ 0.18708603  0.06910936  0.74380461]\n",
      " [ 0.11120051  0.59914632  0.28965317]\n",
      " [ 0.23189793  0.25075026  0.51735181]] [ 0.11255463  0.06705937  0.820386  ]\n",
      "comb\n",
      "hard\n",
      "it 0\n",
      "[[-1.          0.83584487  0.16415513]\n",
      " [ 0.02565667 -1.          0.97434333]\n",
      " [ 0.27258783  0.72741217 -1.        ]] [[ 0.18708603  0.06910936  0.74380461]\n",
      " [ 0.11120051  0.59914632  0.28965317]\n",
      " [ 0.23189793  0.25075026  0.51735181]] [ 0.11255463  0.06705937  0.820386  ]\n",
      "obs [[   0.    0.  232.]\n",
      " [   0.   82.    3.]\n",
      " [   0.    1.  182.]]\n",
      "full [   0.   83.  417.]\n",
      "obs [[ -1.00000000e+90  -1.00000000e+90   5.44673737e+00]\n",
      " [ -1.00000000e+90   4.40671925e+00   1.09861229e+00]\n",
      " [ -1.00000000e+90   0.00000000e+00   5.20400669e+00]]\n",
      "full [ -1.00000000e+90   4.41884061e+00   6.03308622e+00]\n",
      "b1 [[ 1.          1.          1.        ]\n",
      " [ 0.          0.98795181  0.01204819]\n",
      " [ 0.55635492  0.00719424  0.43645084]]\n",
      "[ 1.  1.  1.]\n",
      "b1 [[ 1.          1.          1.        ]\n",
      " [ 0.          0.98795181  0.01204819]\n",
      " [ 0.55635492  0.00719424  0.43645084]]\n",
      "b2 [[ 0.33333333  0.33333333  0.33333333]\n",
      " [ 0.          0.98795181  0.01204819]\n",
      " [ 0.55635492  0.00719424  0.43645084]]\n",
      "[ 0.          0.98795181  0.01204819]\n",
      "[ 0.55635492  0.00719424  0.43645084]\n",
      "it 1\n",
      "[[-1.49390096  1.19507297  0.29882799]\n",
      " [ 0.01805115 -1.21952312  1.20147197]\n",
      " [ 0.15584662  0.58803723 -0.74388385]] [[ 0.33333333  0.33333333  0.33333333]\n",
      " [ 0.          0.98795181  0.01204819]\n",
      " [ 0.55635492  0.00719424  0.43645084]] [ 0.  0.  1.]\n",
      "obs [[   0.    0.  232.]\n",
      " [   0.   82.    3.]\n",
      " [   0.    0.  183.]]\n",
      "full [   0.   82.  418.]\n",
      "obs [[ -1.00000000e+90  -1.00000000e+90   5.44673737e+00]\n",
      " [ -1.00000000e+90   4.40671925e+00   1.09861229e+00]\n",
      " [ -1.00000000e+90  -1.00000000e+90   5.20948615e+00]]\n",
      "full [ -1.00000000e+90   4.40671925e+00   6.03548143e+00]\n",
      "b1 [[ 1.          1.          1.        ]\n",
      " [ 0.          1.          0.        ]\n",
      " [ 0.55502392  0.00717703  0.43779904]]\n",
      "[ 1.  1.  1.]\n",
      "b1 [[ 1.          1.          1.        ]\n",
      " [ 0.          1.          0.        ]\n",
      " [ 0.55502392  0.00717703  0.43779904]]\n",
      "b2 [[ 0.33333333  0.33333333  0.33333333]\n",
      " [ 0.          1.          0.        ]\n",
      " [ 0.55502392  0.00717703  0.43779904]]\n",
      "[ 0.  1.  0.]\n",
      "[ 0.55502392  0.00717703  0.43779904]\n",
      "it 2\n",
      "[[-1.99378228  1.5402949   0.45348738]\n",
      " [ 0.01411347 -1.39142402  1.37731055]\n",
      " [ 0.1053039   0.50661134 -0.61191525]] [[ 0.33333333  0.33333333  0.33333333]\n",
      " [ 0.          1.          0.        ]\n",
      " [ 0.55502392  0.00717703  0.43779904]] [ 0.  0.  1.]\n",
      "obs [[   0.    0.  232.]\n",
      " [   0.   82.    3.]\n",
      " [   0.    0.  183.]]\n",
      "full [   0.   82.  418.]\n",
      "obs [[ -1.00000000e+90  -1.00000000e+90   5.44673737e+00]\n",
      " [ -1.00000000e+90   4.40671925e+00   1.09861229e+00]\n",
      " [ -1.00000000e+90  -1.00000000e+90   5.20948615e+00]]\n",
      "full [ -1.00000000e+90   4.40671925e+00   6.03548143e+00]\n",
      "b1 [[ 1.          1.          1.        ]\n",
      " [ 0.          1.          0.        ]\n",
      " [ 0.55502392  0.00717703  0.43779904]]\n",
      "[ 1.  1.  1.]\n",
      "b1 [[ 1.          1.          1.        ]\n",
      " [ 0.          1.          0.        ]\n",
      " [ 0.55502392  0.00717703  0.43779904]]\n",
      "b2 [[ 0.33333333  0.33333333  0.33333333]\n",
      " [ 0.          1.          0.        ]\n",
      " [ 0.55502392  0.00717703  0.43779904]]\n",
      "[ 0.  1.  0.]\n",
      "[ 0.55502392  0.00717703  0.43779904]\n",
      "it 3\n",
      "[[-2.49396574  1.87648788  0.61747786]\n",
      " [ 0.01167697 -1.51135921  1.49968224]\n",
      " [ 0.07882465  0.45698443 -0.53580908]] [[ 0.33333333  0.33333333  0.33333333]\n",
      " [ 0.          1.          0.        ]\n",
      " [ 0.55502392  0.00717703  0.43779904]] [ 0.  0.  1.]\n",
      "obs [[   0.    0.  232.]\n",
      " [   0.   82.    3.]\n",
      " [   0.    0.  183.]]\n",
      "full [   0.   82.  418.]\n",
      "obs [[ -1.00000000e+90  -1.00000000e+90   5.44673737e+00]\n",
      " [ -1.00000000e+90   4.40671925e+00   1.09861229e+00]\n",
      " [ -1.00000000e+90  -1.00000000e+90   5.20948615e+00]]\n",
      "full [ -1.00000000e+90   4.40671925e+00   6.03548143e+00]\n",
      "b1 [[ 1.          1.          1.        ]\n",
      " [ 0.          1.          0.        ]\n",
      " [ 0.55502392  0.00717703  0.43779904]]\n",
      "[ 1.  1.  1.]\n",
      "b1 [[ 1.          1.          1.        ]\n",
      " [ 0.          1.          0.        ]\n",
      " [ 0.55502392  0.00717703  0.43779904]]\n",
      "b2 [[ 0.33333333  0.33333333  0.33333333]\n",
      " [ 0.          1.          0.        ]\n",
      " [ 0.55502392  0.00717703  0.43779904]]\n",
      "[ 0.  1.  0.]\n",
      "[ 0.55502392  0.00717703  0.43779904]\n",
      "it 4\n",
      "[[-2.99142321  2.20717401  0.7842492 ]\n",
      " [ 0.01000256 -1.58813069  1.57812813]\n",
      " [ 0.06302847  0.42529514 -0.48832362]] [[ 0.33333333  0.33333333  0.33333333]\n",
      " [ 0.          1.          0.        ]\n",
      " [ 0.55502392  0.00717703  0.43779904]] [ 0.  0.  1.]\n",
      "obs [[   0.    0.  232.]\n",
      " [   0.   82.    3.]\n",
      " [   0.    0.  183.]]\n",
      "full [   0.   82.  418.]\n",
      "obs [[ -1.00000000e+90  -1.00000000e+90   5.44673737e+00]\n",
      " [ -1.00000000e+90   4.40671925e+00   1.09861229e+00]\n",
      " [ -1.00000000e+90  -1.00000000e+90   5.20948615e+00]]\n",
      "full [ -1.00000000e+90   4.40671925e+00   6.03548143e+00]\n",
      "b1 [[ 1.          1.          1.        ]\n",
      " [ 0.          1.          0.        ]\n",
      " [ 0.55502392  0.00717703  0.43779904]]\n",
      "[ 1.  1.  1.]\n",
      "b1 [[ 1.          1.          1.        ]\n",
      " [ 0.          1.          0.        ]\n",
      " [ 0.55502392  0.00717703  0.43779904]]\n",
      "b2 [[ 0.33333333  0.33333333  0.33333333]\n",
      " [ 0.          1.          0.        ]\n",
      " [ 0.55502392  0.00717703  0.43779904]]\n",
      "[ 0.  1.  0.]\n",
      "[ 0.55502392  0.00717703  0.43779904]\n",
      "it 5\n",
      "[[-3.48446398  2.53415532  0.95030866]\n",
      " [ 0.00876994 -1.63216122  1.62339128]\n",
      " [ 0.05268473  0.40418543 -0.45687016]] [[ 0.33333333  0.33333333  0.33333333]\n",
      " [ 0.          1.          0.        ]\n",
      " [ 0.55502392  0.00717703  0.43779904]] [ 0.  0.  1.]\n",
      "obs [[   0.    0.  232.]\n",
      " [   0.   82.    3.]\n",
      " [   0.    0.  183.]]\n",
      "full [   0.   82.  418.]\n",
      "obs [[ -1.00000000e+90  -1.00000000e+90   5.44673737e+00]\n",
      " [ -1.00000000e+90   4.40671925e+00   1.09861229e+00]\n",
      " [ -1.00000000e+90  -1.00000000e+90   5.20948615e+00]]\n",
      "full [ -1.00000000e+90   4.40671925e+00   6.03548143e+00]\n",
      "b1 [[ 1.          1.          1.        ]\n",
      " [ 0.          1.          0.        ]\n",
      " [ 0.55502392  0.00717703  0.43779904]]\n",
      "[ 1.  1.  1.]\n",
      "b1 [[ 1.          1.          1.        ]\n",
      " [ 0.          1.          0.        ]\n",
      " [ 0.55502392  0.00717703  0.43779904]]\n",
      "b2 [[ 0.33333333  0.33333333  0.33333333]\n",
      " [ 0.          1.          0.        ]\n",
      " [ 0.55502392  0.00717703  0.43779904]]\n",
      "[ 0.  1.  0.]\n",
      "[ 0.55502392  0.00717703  0.43779904]\n",
      "it 6\n",
      "[[-3.97226482  2.8580702   1.11419462]\n",
      " [ 0.00781832 -1.65272782  1.6449095 ]\n",
      " [ 0.04541881  0.38951172 -0.43493053]] [[ 0.33333333  0.33333333  0.33333333]\n",
      " [ 0.          1.          0.        ]\n",
      " [ 0.55502392  0.00717703  0.43779904]] [ 0.  0.  1.]\n",
      "obs [[   0.    0.  232.]\n",
      " [   0.   82.    3.]\n",
      " [   0.    0.  183.]]\n",
      "full [   0.   82.  418.]\n",
      "obs [[ -1.00000000e+90  -1.00000000e+90   5.44673737e+00]\n",
      " [ -1.00000000e+90   4.40671925e+00   1.09861229e+00]\n",
      " [ -1.00000000e+90  -1.00000000e+90   5.20948615e+00]]\n",
      "full [ -1.00000000e+90   4.40671925e+00   6.03548143e+00]\n",
      "b1 [[ 1.          1.          1.        ]\n",
      " [ 0.          1.          0.        ]\n",
      " [ 0.55502392  0.00717703  0.43779904]]\n",
      "[ 1.  1.  1.]\n",
      "b1 [[ 1.          1.          1.        ]\n",
      " [ 0.          1.          0.        ]\n",
      " [ 0.55502392  0.00717703  0.43779904]]\n",
      "b2 [[ 0.33333333  0.33333333  0.33333333]\n",
      " [ 0.          1.          0.        ]\n",
      " [ 0.55502392  0.00717703  0.43779904]]\n",
      "[ 0.  1.  0.]\n",
      "[ 0.55502392  0.00717703  0.43779904]\n",
      "it 7\n",
      "[[-4.45456139  3.17892045  1.27564093]\n",
      " [ 0.00705796 -1.65713022  1.65007226]\n",
      " [ 0.04002891  0.37882299 -0.4188519 ]] [[ 0.33333333  0.33333333  0.33333333]\n",
      " [ 0.          1.          0.        ]\n",
      " [ 0.55502392  0.00717703  0.43779904]] [ 0.  0.  1.]\n",
      "obs [[   0.    0.  232.]\n",
      " [   0.   82.    3.]\n",
      " [   0.    0.  183.]]\n",
      "full [   0.   82.  418.]\n",
      "obs [[ -1.00000000e+90  -1.00000000e+90   5.44673737e+00]\n",
      " [ -1.00000000e+90   4.40671925e+00   1.09861229e+00]\n",
      " [ -1.00000000e+90  -1.00000000e+90   5.20948615e+00]]\n",
      "full [ -1.00000000e+90   4.40671925e+00   6.03548143e+00]\n",
      "b1 [[ 1.          1.          1.        ]\n",
      " [ 0.          1.          0.        ]\n",
      " [ 0.55502392  0.00717703  0.43779904]]\n",
      "[ 1.  1.  1.]\n",
      "b1 [[ 1.          1.          1.        ]\n",
      " [ 0.          1.          0.        ]\n",
      " [ 0.55502392  0.00717703  0.43779904]]\n",
      "b2 [[ 0.33333333  0.33333333  0.33333333]\n",
      " [ 0.          1.          0.        ]\n",
      " [ 0.55502392  0.00717703  0.43779904]]\n",
      "[ 0.  1.  0.]\n",
      "[ 0.55502392  0.00717703  0.43779904]\n",
      "it 8\n",
      "[[-4.93143352  3.49643113  1.43500239]\n",
      " [ 0.00643456 -1.65072648  1.64429193]\n",
      " [ 0.03585466  0.37061839 -0.40647305]] [[ 0.33333333  0.33333333  0.33333333]\n",
      " [ 0.          1.          0.        ]\n",
      " [ 0.55502392  0.00717703  0.43779904]] [ 0.  0.  1.]\n",
      "obs [[   0.    0.  232.]\n",
      " [   0.   82.    3.]\n",
      " [   0.    0.  183.]]\n",
      "full [   0.   82.  418.]\n",
      "obs [[ -1.00000000e+90  -1.00000000e+90   5.44673737e+00]\n",
      " [ -1.00000000e+90   4.40671925e+00   1.09861229e+00]\n",
      " [ -1.00000000e+90  -1.00000000e+90   5.20948615e+00]]\n",
      "full [ -1.00000000e+90   4.40671925e+00   6.03548143e+00]\n",
      "b1 [[ 1.          1.          1.        ]\n",
      " [ 0.          1.          0.        ]\n",
      " [ 0.55502392  0.00717703  0.43779904]]\n",
      "[ 1.  1.  1.]\n",
      "b1 [[ 1.          1.          1.        ]\n",
      " [ 0.          1.          0.        ]\n",
      " [ 0.55502392  0.00717703  0.43779904]]\n",
      "b2 [[ 0.33333333  0.33333333  0.33333333]\n",
      " [ 0.          1.          0.        ]\n",
      " [ 0.55502392  0.00717703  0.43779904]]\n",
      "[ 0.  1.  0.]\n",
      "[ 0.55502392  0.00717703  0.43779904]\n",
      "it 9\n",
      "[[-5.40315679  3.81025746  1.59289934]\n",
      " [ 0.0059131  -1.63727821  1.63136512]\n",
      " [ 0.03250898  0.36395889 -0.39646787]] [[ 0.33333333  0.33333333  0.33333333]\n",
      " [ 0.          1.          0.        ]\n",
      " [ 0.55502392  0.00717703  0.43779904]] [ 0.  0.  1.]\n",
      "obs [[   0.    0.  232.]\n",
      " [   0.   82.    3.]\n",
      " [   0.    0.  183.]]\n",
      "full [   0.   82.  418.]\n",
      "obs [[ -1.00000000e+90  -1.00000000e+90   5.44673737e+00]\n",
      " [ -1.00000000e+90   4.40671925e+00   1.09861229e+00]\n",
      " [ -1.00000000e+90  -1.00000000e+90   5.20948615e+00]]\n",
      "full [ -1.00000000e+90   4.40671925e+00   6.03548143e+00]\n",
      "b1 [[ 1.          1.          1.        ]\n",
      " [ 0.          1.          0.        ]\n",
      " [ 0.55502392  0.00717703  0.43779904]]\n",
      "[ 1.  1.  1.]\n",
      "b1 [[ 1.          1.          1.        ]\n",
      " [ 0.          1.          0.        ]\n",
      " [ 0.55502392  0.00717703  0.43779904]]\n",
      "b2 [[ 0.33333333  0.33333333  0.33333333]\n",
      " [ 0.          1.          0.        ]\n",
      " [ 0.55502392  0.00717703  0.43779904]]\n",
      "[ 0.  1.  0.]\n",
      "[ 0.55502392  0.00717703  0.43779904]\n",
      "it 10\n",
      "[[ -5.87010404e+00   4.12008663e+00   1.75001741e+00]\n",
      " [  5.46982306e-03  -1.61934549e+00   1.61387566e+00]\n",
      " [  2.97527236e-02   3.58250431e-01  -3.88003155e-01]] [[ 0.33333333  0.33333333  0.33333333]\n",
      " [ 0.          1.          0.        ]\n",
      " [ 0.55502392  0.00717703  0.43779904]] [ 0.  0.  1.]\n",
      "obs [[   0.    0.  232.]\n",
      " [   0.   82.    3.]\n",
      " [   0.    0.  183.]]\n",
      "full [   0.   82.  418.]\n",
      "obs [[ -1.00000000e+90  -1.00000000e+90   5.44673737e+00]\n",
      " [ -1.00000000e+90   4.40671925e+00   1.09861229e+00]\n",
      " [ -1.00000000e+90  -1.00000000e+90   5.20948615e+00]]\n",
      "full [ -1.00000000e+90   4.40671925e+00   6.03548143e+00]\n",
      "b1 [[ 1.          1.          1.        ]\n",
      " [ 0.          1.          0.        ]\n",
      " [ 0.55502392  0.00717703  0.43779904]]\n",
      "[ 1.  1.  1.]\n",
      "b1 [[ 1.          1.          1.        ]\n",
      " [ 0.          1.          0.        ]\n",
      " [ 0.55502392  0.00717703  0.43779904]]\n",
      "b2 [[ 0.33333333  0.33333333  0.33333333]\n",
      " [ 0.          1.          0.        ]\n",
      " [ 0.55502392  0.00717703  0.43779904]]\n",
      "[ 0.  1.  0.]\n",
      "[ 0.55502392  0.00717703  0.43779904]\n",
      "it 11\n",
      "[[ -6.33268343e+00   4.42567725e+00   1.90700619e+00]\n",
      " [  5.08796322e-03  -1.59863042e+00   1.59354246e+00]\n",
      " [  2.74314254e-02   3.53116227e-01  -3.80547653e-01]] [[ 0.33333333  0.33333333  0.33333333]\n",
      " [ 0.          1.          0.        ]\n",
      " [ 0.55502392  0.00717703  0.43779904]] [ 0.  0.  1.]\n",
      "obs [[   0.    0.  232.]\n",
      " [   0.   82.    3.]\n",
      " [   0.    0.  183.]]\n",
      "full [   0.   82.  418.]\n",
      "obs [[ -1.00000000e+90  -1.00000000e+90   5.44673737e+00]\n",
      " [ -1.00000000e+90   4.40671925e+00   1.09861229e+00]\n",
      " [ -1.00000000e+90  -1.00000000e+90   5.20948615e+00]]\n",
      "full [ -1.00000000e+90   4.40671925e+00   6.03548143e+00]\n",
      "b1 [[ 1.          1.          1.        ]\n",
      " [ 0.          1.          0.        ]\n",
      " [ 0.55502392  0.00717703  0.43779904]]\n",
      "[ 1.  1.  1.]\n",
      "b1 [[ 1.          1.          1.        ]\n",
      " [ 0.          1.          0.        ]\n",
      " [ 0.55502392  0.00717703  0.43779904]]\n",
      "b2 [[ 0.33333333  0.33333333  0.33333333]\n",
      " [ 0.          1.          0.        ]\n",
      " [ 0.55502392  0.00717703  0.43779904]]\n",
      "[ 0.  1.  0.]\n",
      "[ 0.55502392  0.00717703  0.43779904]\n",
      "it 12\n",
      "[[ -6.79130181e+00   4.72686551e+00   2.06443629e+00]\n",
      " [  4.75527929e-03  -1.57624349e+00   1.57148821e+00]\n",
      " [  2.54413989e-02   3.48318275e-01  -3.73759674e-01]] [[ 0.33333333  0.33333333  0.33333333]\n",
      " [ 0.          1.          0.        ]\n",
      " [ 0.55502392  0.00717703  0.43779904]] [ 0.  0.  1.]\n",
      "obs [[   0.    0.  232.]\n",
      " [   0.   82.    3.]\n",
      " [   0.    0.  183.]]\n",
      "full [   0.   82.  418.]\n",
      "obs [[ -1.00000000e+90  -1.00000000e+90   5.44673737e+00]\n",
      " [ -1.00000000e+90   4.40671925e+00   1.09861229e+00]\n",
      " [ -1.00000000e+90  -1.00000000e+90   5.20948615e+00]]\n",
      "full [ -1.00000000e+90   4.40671925e+00   6.03548143e+00]\n",
      "b1 [[ 1.          1.          1.        ]\n",
      " [ 0.          1.          0.        ]\n",
      " [ 0.55502392  0.00717703  0.43779904]]\n",
      "[ 1.  1.  1.]\n",
      "b1 [[ 1.          1.          1.        ]\n",
      " [ 0.          1.          0.        ]\n",
      " [ 0.55502392  0.00717703  0.43779904]]\n",
      "b2 [[ 0.33333333  0.33333333  0.33333333]\n",
      " [ 0.          1.          0.        ]\n",
      " [ 0.55502392  0.00717703  0.43779904]]\n",
      "[ 0.  1.  0.]\n",
      "[ 0.55502392  0.00717703  0.43779904]\n",
      "it 13\n",
      "[[ -7.24634464e+00   5.02355610e+00   2.22278854e+00]\n",
      " [  4.46260860e-03  -1.55289728e+00   1.54843467e+00]\n",
      " [  2.37106145e-02   3.43707872e-01  -3.67418486e-01]] [[ 0.33333333  0.33333333  0.33333333]\n",
      " [ 0.          1.          0.        ]\n",
      " [ 0.55502392  0.00717703  0.43779904]] [ 0.  0.  1.]\n",
      "obs [[   0.    0.  232.]\n",
      " [   0.   82.    3.]\n",
      " [   0.    0.  183.]]\n",
      "full [   0.   82.  418.]\n",
      "obs [[ -1.00000000e+90  -1.00000000e+90   5.44673737e+00]\n",
      " [ -1.00000000e+90   4.40671925e+00   1.09861229e+00]\n",
      " [ -1.00000000e+90  -1.00000000e+90   5.20948615e+00]]\n",
      "full [ -1.00000000e+90   4.40671925e+00   6.03548143e+00]\n",
      "b1 [[ 1.          1.          1.        ]\n",
      " [ 0.          1.          0.        ]\n",
      " [ 0.55502392  0.00717703  0.43779904]]\n",
      "[ 1.  1.  1.]\n",
      "b1 [[ 1.          1.          1.        ]\n",
      " [ 0.          1.          0.        ]\n",
      " [ 0.55502392  0.00717703  0.43779904]]\n",
      "b2 [[ 0.33333333  0.33333333  0.33333333]\n",
      " [ 0.          1.          0.        ]\n",
      " [ 0.55502392  0.00717703  0.43779904]]\n",
      "[ 0.  1.  0.]\n",
      "[ 0.55502392  0.00717703  0.43779904]\n",
      "it 14\n",
      "[[ -7.69816634e+00   5.31570762e+00   2.38245872e+00]\n",
      " [  4.20294269e-03  -1.52904210e+00   1.52483915e+00]\n",
      " [  2.21874704e-02   3.39193801e-01  -3.61381272e-01]] [[ 0.33333333  0.33333333  0.33333333]\n",
      " [ 0.          1.          0.        ]\n",
      " [ 0.55502392  0.00717703  0.43779904]] [ 0.  0.  1.]\n",
      "obs [[   0.    0.  232.]\n",
      " [   0.   82.    3.]\n",
      " [   0.    0.  183.]]\n",
      "full [   0.   82.  418.]\n",
      "obs [[ -1.00000000e+90  -1.00000000e+90   5.44673737e+00]\n",
      " [ -1.00000000e+90   4.40671925e+00   1.09861229e+00]\n",
      " [ -1.00000000e+90  -1.00000000e+90   5.20948615e+00]]\n",
      "full [ -1.00000000e+90   4.40671925e+00   6.03548143e+00]\n",
      "b1 [[ 1.          1.          1.        ]\n",
      " [ 0.          1.          0.        ]\n",
      " [ 0.55502392  0.00717703  0.43779904]]\n",
      "[ 1.  1.  1.]\n",
      "b1 [[ 1.          1.          1.        ]\n",
      " [ 0.          1.          0.        ]\n",
      " [ 0.55502392  0.00717703  0.43779904]]\n",
      "b2 [[ 0.33333333  0.33333333  0.33333333]\n",
      " [ 0.          1.          0.        ]\n",
      " [ 0.55502392  0.00717703  0.43779904]]\n",
      "[ 0.  1.  0.]\n",
      "[ 0.55502392  0.00717703  0.43779904]\n",
      "it 15\n",
      "[[ -8.14708687e+00   5.60331780e+00   2.54376907e+00]\n",
      " [  3.97082482e-03  -1.50495834e+00   1.50098752e+00]\n",
      " [  2.08339588e-02   3.34721728e-01  -3.55555687e-01]] [[ 0.33333333  0.33333333  0.33333333]\n",
      " [ 0.          1.          0.        ]\n",
      " [ 0.55502392  0.00717703  0.43779904]] [ 0.  0.  1.]\n",
      "obs [[   0.    0.  232.]\n",
      " [   0.   82.    3.]\n",
      " [   0.    0.  183.]]\n",
      "full [   0.   82.  418.]\n",
      "obs [[ -1.00000000e+90  -1.00000000e+90   5.44673737e+00]\n",
      " [ -1.00000000e+90   4.40671925e+00   1.09861229e+00]\n",
      " [ -1.00000000e+90  -1.00000000e+90   5.20948615e+00]]\n",
      "full [ -1.00000000e+90   4.40671925e+00   6.03548143e+00]\n",
      "b1 [[ 1.          1.          1.        ]\n",
      " [ 0.          1.          0.        ]\n",
      " [ 0.55502392  0.00717703  0.43779904]]\n",
      "[ 1.  1.  1.]\n",
      "b1 [[ 1.          1.          1.        ]\n",
      " [ 0.          1.          0.        ]\n",
      " [ 0.55502392  0.00717703  0.43779904]]\n",
      "b2 [[ 0.33333333  0.33333333  0.33333333]\n",
      " [ 0.          1.          0.        ]\n",
      " [ 0.55502392  0.00717703  0.43779904]]\n",
      "[ 0.  1.  0.]\n",
      "[ 0.55502392  0.00717703  0.43779904]\n",
      "it 16\n",
      "[[ -8.59339185e+00   5.88641068e+00   2.70698117e+00]\n",
      " [  3.76194198e-03  -1.48081817e+00   1.47705623e+00]\n",
      " [  1.96213783e-02   3.30260805e-01  -3.49882184e-01]] [[ 0.33333333  0.33333333  0.33333333]\n",
      " [ 0.          1.          0.        ]\n",
      " [ 0.55502392  0.00717703  0.43779904]] [ 0.  0.  1.]\n",
      "obs [[   0.    0.  232.]\n",
      " [   0.   82.    3.]\n",
      " [   0.    0.  183.]]\n",
      "full [   0.   82.  418.]\n",
      "obs [[ -1.00000000e+90  -1.00000000e+90   5.44673737e+00]\n",
      " [ -1.00000000e+90   4.40671925e+00   1.09861229e+00]\n",
      " [ -1.00000000e+90  -1.00000000e+90   5.20948615e+00]]\n",
      "full [ -1.00000000e+90   4.40671925e+00   6.03548143e+00]\n",
      "b1 [[ 1.          1.          1.        ]\n",
      " [ 0.          1.          0.        ]\n",
      " [ 0.55502392  0.00717703  0.43779904]]\n",
      "[ 1.  1.  1.]\n",
      "b1 [[ 1.          1.          1.        ]\n",
      " [ 0.          1.          0.        ]\n",
      " [ 0.55502392  0.00717703  0.43779904]]\n",
      "b2 [[ 0.33333333  0.33333333  0.33333333]\n",
      " [ 0.          1.          0.        ]\n",
      " [ 0.55502392  0.00717703  0.43779904]]\n",
      "[ 0.  1.  0.]\n",
      "[ 0.55502392  0.00717703  0.43779904]\n",
      "it 17\n",
      "[[ -9.03733456e+00   6.16502651e+00   2.87230805e+00]\n",
      " [  3.57284041e-03  -1.45672603e+00   1.45315319e+00]\n",
      " [  1.85275691e-02   3.25794996e-01  -3.44322565e-01]] [[ 0.33333333  0.33333333  0.33333333]\n",
      " [ 0.          1.          0.        ]\n",
      " [ 0.55502392  0.00717703  0.43779904]] [ 0.  0.  1.]\n",
      "obs [[   0.    0.  232.]\n",
      " [   0.   82.    3.]\n",
      " [   0.    0.  183.]]\n",
      "full [   0.   82.  418.]\n",
      "obs [[ -1.00000000e+90  -1.00000000e+90   5.44673737e+00]\n",
      " [ -1.00000000e+90   4.40671925e+00   1.09861229e+00]\n",
      " [ -1.00000000e+90  -1.00000000e+90   5.20948615e+00]]\n",
      "full [ -1.00000000e+90   4.40671925e+00   6.03548143e+00]\n",
      "b1 [[ 1.          1.          1.        ]\n",
      " [ 0.          1.          0.        ]\n",
      " [ 0.55502392  0.00717703  0.43779904]]\n",
      "[ 1.  1.  1.]\n",
      "b1 [[ 1.          1.          1.        ]\n",
      " [ 0.          1.          0.        ]\n",
      " [ 0.55502392  0.00717703  0.43779904]]\n",
      "b2 [[ 0.33333333  0.33333333  0.33333333]\n",
      " [ 0.          1.          0.        ]\n",
      " [ 0.55502392  0.00717703  0.43779904]]\n",
      "[ 0.  1.  0.]\n",
      "[ 0.55502392  0.00717703  0.43779904]\n",
      "it 18\n",
      "[[ -9.47913886e+00   6.43921439e+00   3.03992447e+00]\n",
      " [  3.40072259e-03  -1.43274491e+00   1.42934419e+00]\n",
      " [  1.75350826e-02   3.21317479e-01  -3.38852561e-01]] [[ 0.33333333  0.33333333  0.33333333]\n",
      " [ 0.          1.          0.        ]\n",
      " [ 0.55502392  0.00717703  0.43779904]] [ 0.  0.  1.]\n",
      "obs [[   0.    0.  232.]\n",
      " [   0.   82.    3.]\n",
      " [   0.    0.  183.]]\n",
      "full [   0.   82.  418.]\n",
      "obs [[ -1.00000000e+90  -1.00000000e+90   5.44673737e+00]\n",
      " [ -1.00000000e+90   4.40671925e+00   1.09861229e+00]\n",
      " [ -1.00000000e+90  -1.00000000e+90   5.20948615e+00]]\n",
      "full [ -1.00000000e+90   4.40671925e+00   6.03548143e+00]\n",
      "b1 [[ 1.          1.          1.        ]\n",
      " [ 0.          1.          0.        ]\n",
      " [ 0.55502392  0.00717703  0.43779904]]\n",
      "[ 1.  1.  1.]\n",
      "b1 [[ 1.          1.          1.        ]\n",
      " [ 0.          1.          0.        ]\n",
      " [ 0.55502392  0.00717703  0.43779904]]\n",
      "b2 [[ 0.33333333  0.33333333  0.33333333]\n",
      " [ 0.          1.          0.        ]\n",
      " [ 0.55502392  0.00717703  0.43779904]]\n",
      "[ 0.  1.  0.]\n",
      "[ 0.55502392  0.00717703  0.43779904]\n",
      "it 19\n",
      "[[ -9.91900237e+00   6.70902732e+00   3.20997504e+00]\n",
      " [  3.24329924e-03  -1.40891315e+00   1.40566985e+00]\n",
      " [  1.66299416e-02   3.16827076e-01  -3.33457017e-01]] [[ 0.33333333  0.33333333  0.33333333]\n",
      " [ 0.          1.          0.        ]\n",
      " [ 0.55502392  0.00717703  0.43779904]] [ 0.  0.  1.]\n",
      "obs [[   0.    0.  232.]\n",
      " [   0.   82.    3.]\n",
      " [   0.    0.  183.]]\n",
      "full [   0.   82.  418.]\n",
      "obs [[ -1.00000000e+90  -1.00000000e+90   5.44673737e+00]\n",
      " [ -1.00000000e+90   4.40671925e+00   1.09861229e+00]\n",
      " [ -1.00000000e+90  -1.00000000e+90   5.20948615e+00]]\n",
      "full [ -1.00000000e+90   4.40671925e+00   6.03548143e+00]\n",
      "b1 [[ 1.          1.          1.        ]\n",
      " [ 0.          1.          0.        ]\n",
      " [ 0.55502392  0.00717703  0.43779904]]\n",
      "[ 1.  1.  1.]\n",
      "b1 [[ 1.          1.          1.        ]\n",
      " [ 0.          1.          0.        ]\n",
      " [ 0.55502392  0.00717703  0.43779904]]\n",
      "b2 [[ 0.33333333  0.33333333  0.33333333]\n",
      " [ 0.          1.          0.        ]\n",
      " [ 0.55502392  0.00717703  0.43779904]]\n",
      "[ 0.  1.  0.]\n",
      "[ 0.55502392  0.00717703  0.43779904]\n",
      "it 20\n",
      "[[ -1.03570996e+01   6.97451909e+00   3.38258049e+00]\n",
      " [  3.09867961e-03  -1.38525495e+00   1.38215627e+00]\n",
      " [  1.58007812e-02   3.12325990e-01  -3.28126771e-01]] [[ 0.33333333  0.33333333  0.33333333]\n",
      " [ 0.          1.          0.        ]\n",
      " [ 0.55502392  0.00717703  0.43779904]] [ 0.  0.  1.]\n",
      "obs [[   0.    0.  232.]\n",
      " [   0.   82.    3.]\n",
      " [   0.    0.  183.]]\n",
      "full [   0.   82.  418.]\n",
      "obs [[ -1.00000000e+90  -1.00000000e+90   5.44673737e+00]\n",
      " [ -1.00000000e+90   4.40671925e+00   1.09861229e+00]\n",
      " [ -1.00000000e+90  -1.00000000e+90   5.20948615e+00]]\n",
      "full [ -1.00000000e+90   4.40671925e+00   6.03548143e+00]\n",
      "b1 [[ 1.          1.          1.        ]\n",
      " [ 0.          1.          0.        ]\n",
      " [ 0.55502392  0.00717703  0.43779904]]\n",
      "[ 1.  1.  1.]\n",
      "b1 [[ 1.          1.          1.        ]\n",
      " [ 0.          1.          0.        ]\n",
      " [ 0.55502392  0.00717703  0.43779904]]\n",
      "b2 [[ 0.33333333  0.33333333  0.33333333]\n",
      " [ 0.          1.          0.        ]\n",
      " [ 0.55502392  0.00717703  0.43779904]]\n",
      "[ 0.  1.  0.]\n",
      "[ 0.55502392  0.00717703  0.43779904]\n",
      "it 21\n",
      "[[ -1.07935849e+01   7.23574268e+00   3.55784217e+00]\n",
      " [  2.96528891e-03  -1.36178697e+00   1.35882169e+00]\n",
      " [  1.50382390e-02   3.07818396e-01  -3.22856635e-01]] [[ 0.33333333  0.33333333  0.33333333]\n",
      " [ 0.          1.          0.        ]\n",
      " [ 0.55502392  0.00717703  0.43779904]] [ 0.  0.  1.]\n",
      "obs [[   0.    0.  232.]\n",
      " [   0.   82.    3.]\n",
      " [   0.    0.  183.]]\n",
      "full [   0.   82.  418.]\n",
      "obs [[ -1.00000000e+90  -1.00000000e+90   5.44673737e+00]\n",
      " [ -1.00000000e+90   4.40671925e+00   1.09861229e+00]\n",
      " [ -1.00000000e+90  -1.00000000e+90   5.20948615e+00]]\n",
      "full [ -1.00000000e+90   4.40671925e+00   6.03548143e+00]\n",
      "b1 [[ 1.          1.          1.        ]\n",
      " [ 0.          1.          0.        ]\n",
      " [ 0.55502392  0.00717703  0.43779904]]\n",
      "[ 1.  1.  1.]\n",
      "b1 [[ 1.          1.          1.        ]\n",
      " [ 0.          1.          0.        ]\n",
      " [ 0.55502392  0.00717703  0.43779904]]\n",
      "b2 [[ 0.33333333  0.33333333  0.33333333]\n",
      " [ 0.          1.          0.        ]\n",
      " [ 0.55502392  0.00717703  0.43779904]]\n",
      "[ 0.  1.  0.]\n",
      "[ 0.55502392  0.00717703  0.43779904]\n",
      "it 22\n",
      "[[ -1.12285951e+01   7.49274977e+00   3.73584530e+00]\n",
      " [  2.84180539e-03  -1.33852227e+00   1.33568046e+00]\n",
      " [  1.43345150e-02   3.03309577e-01  -3.17644092e-01]] [[ 0.33333333  0.33333333  0.33333333]\n",
      " [ 0.          1.          0.        ]\n",
      " [ 0.55502392  0.00717703  0.43779904]] [ 0.  0.  1.]\n",
      "obs [[   0.    0.  232.]\n",
      " [   0.   82.    3.]\n",
      " [   0.    0.  183.]]\n",
      "full [   0.   82.  418.]\n",
      "obs [[ -1.00000000e+90  -1.00000000e+90   5.44673737e+00]\n",
      " [ -1.00000000e+90   4.40671925e+00   1.09861229e+00]\n",
      " [ -1.00000000e+90  -1.00000000e+90   5.20948615e+00]]\n",
      "full [ -1.00000000e+90   4.40671925e+00   6.03548143e+00]\n",
      "b1 [[ 1.          1.          1.        ]\n",
      " [ 0.          1.          0.        ]\n",
      " [ 0.55502392  0.00717703  0.43779904]]\n",
      "[ 1.  1.  1.]\n",
      "b1 [[ 1.          1.          1.        ]\n",
      " [ 0.          1.          0.        ]\n",
      " [ 0.55502392  0.00717703  0.43779904]]\n",
      "b2 [[ 0.33333333  0.33333333  0.33333333]\n",
      " [ 0.          1.          0.        ]\n",
      " [ 0.55502392  0.00717703  0.43779904]]\n",
      "[ 0.  1.  0.]\n",
      "[ 0.55502392  0.00717703  0.43779904]\n",
      "it 23\n",
      "[[ -1.16622520e+01   7.74559090e+00   3.91666105e+00]\n",
      " [  2.72711183e-03  -1.31547264e+00   1.31274553e+00]\n",
      " [  1.36830463e-02   2.98805403e-01  -3.12488449e-01]] [[ 0.33333333  0.33333333  0.33333333]\n",
      " [ 0.          1.          0.        ]\n",
      " [ 0.55502392  0.00717703  0.43779904]] [ 0.  0.  1.]\n",
      "obs [[   0.    0.  232.]\n",
      " [   0.   82.    3.]\n",
      " [   0.    0.  183.]]\n",
      "full [   0.   82.  418.]\n",
      "obs [[ -1.00000000e+90  -1.00000000e+90   5.44673737e+00]\n",
      " [ -1.00000000e+90   4.40671925e+00   1.09861229e+00]\n",
      " [ -1.00000000e+90  -1.00000000e+90   5.20948615e+00]]\n",
      "full [ -1.00000000e+90   4.40671925e+00   6.03548143e+00]\n",
      "b1 [[ 1.          1.          1.        ]\n",
      " [ 0.          1.          0.        ]\n",
      " [ 0.55502392  0.00717703  0.43779904]]\n",
      "[ 1.  1.  1.]\n",
      "b1 [[ 1.          1.          1.        ]\n",
      " [ 0.          1.          0.        ]\n",
      " [ 0.55502392  0.00717703  0.43779904]]\n",
      "b2 [[ 0.33333333  0.33333333  0.33333333]\n",
      " [ 0.          1.          0.        ]\n",
      " [ 0.55502392  0.00717703  0.43779904]]\n",
      "[ 0.  1.  0.]\n",
      "[ 0.55502392  0.00717703  0.43779904]\n",
      "it 24\n",
      "[[ -1.20946642e+01   7.99431624e+00   4.10034791e+00]\n",
      " [  2.62025769e-03  -1.29264998e+00   1.29002972e+00]\n",
      " [  1.30782630e-02   2.94312024e-01  -3.07390288e-01]] [[ 0.33333333  0.33333333  0.33333333]\n",
      " [ 0.          1.          0.        ]\n",
      " [ 0.55502392  0.00717703  0.43779904]] [ 0.  0.  1.]\n",
      "obs [[   0.    0.  232.]\n",
      " [   0.   82.    3.]\n",
      " [   0.    0.  183.]]\n",
      "full [   0.   82.  418.]\n",
      "obs [[ -1.00000000e+90  -1.00000000e+90   5.44673737e+00]\n",
      " [ -1.00000000e+90   4.40671925e+00   1.09861229e+00]\n",
      " [ -1.00000000e+90  -1.00000000e+90   5.20948615e+00]]\n",
      "full [ -1.00000000e+90   4.40671925e+00   6.03548143e+00]\n",
      "b1 [[ 1.          1.          1.        ]\n",
      " [ 0.          1.          0.        ]\n",
      " [ 0.55502392  0.00717703  0.43779904]]\n",
      "[ 1.  1.  1.]\n",
      "b1 [[ 1.          1.          1.        ]\n",
      " [ 0.          1.          0.        ]\n",
      " [ 0.55502392  0.00717703  0.43779904]]\n",
      "b2 [[ 0.33333333  0.33333333  0.33333333]\n",
      " [ 0.          1.          0.        ]\n",
      " [ 0.55502392  0.00717703  0.43779904]]\n",
      "[ 0.  1.  0.]\n",
      "[ 0.55502392  0.00717703  0.43779904]\n",
      "it 25\n",
      "[[ -1.25259290e+01   8.23897666e+00   4.28695237e+00]\n",
      " [  2.52042944e-03  -1.27006695e+00   1.26754652e+00]\n",
      " [  1.25154023e-02   2.89835704e-01  -3.02351106e-01]] [[ 0.33333333  0.33333333  0.33333333]\n",
      " [ 0.          1.          0.        ]\n",
      " [ 0.55502392  0.00717703  0.43779904]] [ 0.  0.  1.]\n",
      "obs [[   0.    0.  232.]\n",
      " [   0.   82.    3.]\n",
      " [   0.    0.  183.]]\n",
      "full [   0.   82.  418.]\n",
      "obs [[ -1.00000000e+90  -1.00000000e+90   5.44673737e+00]\n",
      " [ -1.00000000e+90   4.40671925e+00   1.09861229e+00]\n",
      " [ -1.00000000e+90  -1.00000000e+90   5.20948615e+00]]\n",
      "full [ -1.00000000e+90   4.40671925e+00   6.03548143e+00]\n",
      "b1 [[ 1.          1.          1.        ]\n",
      " [ 0.          1.          0.        ]\n",
      " [ 0.55502392  0.00717703  0.43779904]]\n",
      "[ 1.  1.  1.]\n",
      "b1 [[ 1.          1.          1.        ]\n",
      " [ 0.          1.          0.        ]\n",
      " [ 0.55502392  0.00717703  0.43779904]]\n",
      "b2 [[ 0.33333333  0.33333333  0.33333333]\n",
      " [ 0.          1.          0.        ]\n",
      " [ 0.55502392  0.00717703  0.43779904]]\n",
      "[ 0.  1.  0.]\n",
      "[ 0.55502392  0.00717703  0.43779904]\n",
      "it 26\n",
      "[[ -1.29561342e+01   8.47962497e+00   4.47650921e+00]\n",
      " [  2.42692690e-03  -1.24773736e+00   1.24531043e+00]\n",
      " [  1.19903631e-02   2.85382716e-01  -2.97373079e-01]] [[ 0.33333333  0.33333333  0.33333333]\n",
      " [ 0.          1.          0.        ]\n",
      " [ 0.55502392  0.00717703  0.43779904]] [ 0.  0.  1.]\n",
      "obs [[   0.    0.  232.]\n",
      " [   0.   82.    3.]\n",
      " [   0.    0.  183.]]\n",
      "full [   0.   82.  418.]\n",
      "obs [[ -1.00000000e+90  -1.00000000e+90   5.44673737e+00]\n",
      " [ -1.00000000e+90   4.40671925e+00   1.09861229e+00]\n",
      " [ -1.00000000e+90  -1.00000000e+90   5.20948615e+00]]\n",
      "full [ -1.00000000e+90   4.40671925e+00   6.03548143e+00]\n",
      "b1 [[ 1.          1.          1.        ]\n",
      " [ 0.          1.          0.        ]\n",
      " [ 0.55502392  0.00717703  0.43779904]]\n",
      "[ 1.  1.  1.]\n",
      "b1 [[ 1.          1.          1.        ]\n",
      " [ 0.          1.          0.        ]\n",
      " [ 0.55502392  0.00717703  0.43779904]]\n",
      "b2 [[ 0.33333333  0.33333333  0.33333333]\n",
      " [ 0.          1.          0.        ]\n",
      " [ 0.55502392  0.00717703  0.43779904]]\n",
      "[ 0.  1.  0.]\n",
      "[ 0.55502392  0.00717703  0.43779904]\n",
      "it 27\n",
      "[[ -1.33853587e+01   8.71631727e+00   4.66904147e+00]\n",
      " [  2.33914441e-03  -1.22567621e+00   1.22333706e+00]\n",
      " [  1.14995930e-02   2.80959301e-01  -2.92458894e-01]] [[ 0.33333333  0.33333333  0.33333333]\n",
      " [ 0.          1.          0.        ]\n",
      " [ 0.55502392  0.00717703  0.43779904]] [ 0.  0.  1.]\n",
      "obs [[   0.    0.  232.]\n",
      " [   0.   82.    3.]\n",
      " [   0.    0.  183.]]\n",
      "full [   0.   82.  418.]\n",
      "obs [[ -1.00000000e+90  -1.00000000e+90   5.44673737e+00]\n",
      " [ -1.00000000e+90   4.40671925e+00   1.09861229e+00]\n",
      " [ -1.00000000e+90  -1.00000000e+90   5.20948615e+00]]\n",
      "full [ -1.00000000e+90   4.40671925e+00   6.03548143e+00]\n",
      "b1 [[ 1.          1.          1.        ]\n",
      " [ 0.          1.          0.        ]\n",
      " [ 0.55502392  0.00717703  0.43779904]]\n",
      "[ 1.  1.  1.]\n",
      "b1 [[ 1.          1.          1.        ]\n",
      " [ 0.          1.          0.        ]\n",
      " [ 0.55502392  0.00717703  0.43779904]]\n",
      "b2 [[ 0.33333333  0.33333333  0.33333333]\n",
      " [ 0.          1.          0.        ]\n",
      " [ 0.55502392  0.00717703  0.43779904]]\n",
      "[ 0.  1.  0.]\n",
      "[ 0.55502392  0.00717703  0.43779904]\n",
      "it 28\n",
      "[[ -1.38136745e+01   8.94911435e+00   4.86456015e+00]\n",
      " [  2.25655562e-03  -1.20389968e+00   1.20164313e+00]\n",
      " [  1.10399977e-02   2.76571636e-01  -2.87611634e-01]] [[ 0.33333333  0.33333333  0.33333333]\n",
      " [ 0.          1.          0.        ]\n",
      " [ 0.55502392  0.00717703  0.43779904]] [ 0.  0.  1.]\n",
      "obs [[   0.    0.  232.]\n",
      " [   0.   82.    3.]\n",
      " [   0.    0.  183.]]\n",
      "full [   0.   82.  418.]\n",
      "obs [[ -1.00000000e+90  -1.00000000e+90   5.44673737e+00]\n",
      " [ -1.00000000e+90   4.40671925e+00   1.09861229e+00]\n",
      " [ -1.00000000e+90  -1.00000000e+90   5.20948615e+00]]\n",
      "full [ -1.00000000e+90   4.40671925e+00   6.03548143e+00]\n",
      "b1 [[ 1.          1.          1.        ]\n",
      " [ 0.          1.          0.        ]\n",
      " [ 0.55502392  0.00717703  0.43779904]]\n",
      "[ 1.  1.  1.]\n",
      "b1 [[ 1.          1.          1.        ]\n",
      " [ 0.          1.          0.        ]\n",
      " [ 0.55502392  0.00717703  0.43779904]]\n",
      "b2 [[ 0.33333333  0.33333333  0.33333333]\n",
      " [ 0.          1.          0.        ]\n",
      " [ 0.55502392  0.00717703  0.43779904]]\n",
      "[ 0.  1.  0.]\n",
      "[ 0.55502392  0.00717703  0.43779904]\n",
      "it 29\n",
      "[[ -1.42411469e+01   9.17808306e+00   5.06306382e+00]\n",
      " [  2.17870108e-03  -1.18242506e+00   1.18024636e+00]\n",
      " [  1.06088679e-02   2.72225827e-01  -2.82834695e-01]] [[ 0.33333333  0.33333333  0.33333333]\n",
      " [ 0.          1.          0.        ]\n",
      " [ 0.55502392  0.00717703  0.43779904]] [ 0.  0.  1.]\n",
      "obs [[   0.    0.  232.]\n",
      " [   0.   82.    3.]\n",
      " [   0.    0.  183.]]\n",
      "full [   0.   82.  418.]\n",
      "obs [[ -1.00000000e+90  -1.00000000e+90   5.44673737e+00]\n",
      " [ -1.00000000e+90   4.40671925e+00   1.09861229e+00]\n",
      " [ -1.00000000e+90  -1.00000000e+90   5.20948615e+00]]\n",
      "full [ -1.00000000e+90   4.40671925e+00   6.03548143e+00]\n",
      "b1 [[ 1.          1.          1.        ]\n",
      " [ 0.          1.          0.        ]\n",
      " [ 0.55502392  0.00717703  0.43779904]]\n",
      "[ 1.  1.  1.]\n",
      "b1 [[ 1.          1.          1.        ]\n",
      " [ 0.          1.          0.        ]\n",
      " [ 0.55502392  0.00717703  0.43779904]]\n",
      "b2 [[ 0.33333333  0.33333333  0.33333333]\n",
      " [ 0.          1.          0.        ]\n",
      " [ 0.55502392  0.00717703  0.43779904]]\n",
      "[ 0.  1.  0.]\n",
      "[ 0.55502392  0.00717703  0.43779904]\n",
      "it 30\n",
      "[[ -1.46678357e+01   9.40329758e+00   5.26453814e+00]\n",
      " [  2.10517815e-03  -1.16127051e+00   1.15916534e+00]\n",
      " [  1.02038206e-02   2.67927896e-01  -2.78131716e-01]] [[ 0.33333333  0.33333333  0.33333333]\n",
      " [ 0.          1.          0.        ]\n",
      " [ 0.55502392  0.00717703  0.43779904]] [ 0.  0.  1.]\n",
      "obs [[   0.    0.  232.]\n",
      " [   0.   82.    3.]\n",
      " [   0.    0.  183.]]\n",
      "full [   0.   82.  418.]\n",
      "obs [[ -1.00000000e+90  -1.00000000e+90   5.44673737e+00]\n",
      " [ -1.00000000e+90   4.40671925e+00   1.09861229e+00]\n",
      " [ -1.00000000e+90  -1.00000000e+90   5.20948615e+00]]\n",
      "full [ -1.00000000e+90   4.40671925e+00   6.03548143e+00]\n",
      "b1 [[ 1.          1.          1.        ]\n",
      " [ 0.          1.          0.        ]\n",
      " [ 0.55502392  0.00717703  0.43779904]]\n",
      "[ 1.  1.  1.]\n",
      "b1 [[ 1.          1.          1.        ]\n",
      " [ 0.          1.          0.        ]\n",
      " [ 0.55502392  0.00717703  0.43779904]]\n",
      "b2 [[ 0.33333333  0.33333333  0.33333333]\n",
      " [ 0.          1.          0.        ]\n",
      " [ 0.55502392  0.00717703  0.43779904]]\n",
      "[ 0.  1.  0.]\n",
      "[ 0.55502392  0.00717703  0.43779904]\n",
      "it 31\n",
      "[[ -1.50937960e+01   9.62484065e+00   5.46895530e+00]\n",
      " [  2.03563268e-03  -1.14045498e+00   1.13841935e+00]\n",
      " [  9.82275007e-03   2.63683771e-01  -2.73506521e-01]] [[ 0.33333333  0.33333333  0.33333333]\n",
      " [ 0.          1.          0.        ]\n",
      " [ 0.55502392  0.00717703  0.43779904]] [ 0.  0.  1.]\n",
      "obs [[   0.    0.  232.]\n",
      " [   0.   82.    3.]\n",
      " [   0.    0.  183.]]\n",
      "full [   0.   82.  418.]\n",
      "obs [[ -1.00000000e+90  -1.00000000e+90   5.44673737e+00]\n",
      " [ -1.00000000e+90   4.40671925e+00   1.09861229e+00]\n",
      " [ -1.00000000e+90  -1.00000000e+90   5.20948615e+00]]\n",
      "full [ -1.00000000e+90   4.40671925e+00   6.03548143e+00]\n",
      "b1 [[ 1.          1.          1.        ]\n",
      " [ 0.          1.          0.        ]\n",
      " [ 0.55502392  0.00717703  0.43779904]]\n",
      "[ 1.  1.  1.]\n",
      "b1 [[ 1.          1.          1.        ]\n",
      " [ 0.          1.          0.        ]\n",
      " [ 0.55502392  0.00717703  0.43779904]]\n",
      "b2 [[ 0.33333333  0.33333333  0.33333333]\n",
      " [ 0.          1.          0.        ]\n",
      " [ 0.55502392  0.00717703  0.43779904]]\n",
      "[ 0.  1.  0.]\n",
      "[ 0.55502392  0.00717703  0.43779904]\n",
      "it 32\n",
      "[[ -1.55190782e+01   9.84280468e+00   5.67627355e+00]\n",
      " [  1.96975206e-03  -1.11999795e+00   1.11802819e+00]\n",
      " [  9.46378791e-03   2.59499281e-01  -2.68963068e-01]] [[ 0.33333333  0.33333333  0.33333333]\n",
      " [ 0.          1.          0.        ]\n",
      " [ 0.55502392  0.00717703  0.43779904]] [ 0.  0.  1.]\n",
      "obs [[   0.    0.  232.]\n",
      " [   0.   82.    3.]\n",
      " [   0.    0.  183.]]\n",
      "full [   0.   82.  418.]\n",
      "obs [[ -1.00000000e+90  -1.00000000e+90   5.44673737e+00]\n",
      " [ -1.00000000e+90   4.40671925e+00   1.09861229e+00]\n",
      " [ -1.00000000e+90  -1.00000000e+90   5.20948615e+00]]\n",
      "full [ -1.00000000e+90   4.40671925e+00   6.03548143e+00]\n",
      "b1 [[ 1.          1.          1.        ]\n",
      " [ 0.          1.          0.        ]\n",
      " [ 0.55502392  0.00717703  0.43779904]]\n",
      "[ 1.  1.  1.]\n",
      "b1 [[ 1.          1.          1.        ]\n",
      " [ 0.          1.          0.        ]\n",
      " [ 0.55502392  0.00717703  0.43779904]]\n",
      "b2 [[ 0.33333333  0.33333333  0.33333333]\n",
      " [ 0.          1.          0.        ]\n",
      " [ 0.55502392  0.00717703  0.43779904]]\n",
      "[ 0.  1.  0.]\n",
      "[ 0.55502392  0.00717703  0.43779904]\n",
      "it 33\n",
      "[[ -1.59437294e+01   1.00572926e+01   5.88643672e+00]\n",
      " [  1.90725943e-03  -1.09991921e+00   1.09801195e+00]\n",
      " [  9.12526966e-03   2.55380132e-01  -2.64505402e-01]] [[ 0.33333333  0.33333333  0.33333333]\n",
      " [ 0.          1.          0.        ]\n",
      " [ 0.55502392  0.00717703  0.43779904]] [ 0.  0.  1.]\n",
      "obs [[   0.    0.  232.]\n",
      " [   0.   82.    3.]\n",
      " [   0.    0.  183.]]\n",
      "full [   0.   82.  418.]\n",
      "obs [[ -1.00000000e+90  -1.00000000e+90   5.44673737e+00]\n",
      " [ -1.00000000e+90   4.40671925e+00   1.09861229e+00]\n",
      " [ -1.00000000e+90  -1.00000000e+90   5.20948615e+00]]\n",
      "full [ -1.00000000e+90   4.40671925e+00   6.03548143e+00]\n",
      "b1 [[ 1.          1.          1.        ]\n",
      " [ 0.          1.          0.        ]\n",
      " [ 0.55502392  0.00717703  0.43779904]]\n",
      "[ 1.  1.  1.]\n",
      "b1 [[ 1.          1.          1.        ]\n",
      " [ 0.          1.          0.        ]\n",
      " [ 0.55502392  0.00717703  0.43779904]]\n",
      "b2 [[ 0.33333333  0.33333333  0.33333333]\n",
      " [ 0.          1.          0.        ]\n",
      " [ 0.55502392  0.00717703  0.43779904]]\n",
      "[ 0.  1.  0.]\n",
      "[ 0.55502392  0.00717703  0.43779904]\n",
      "it 34\n",
      "[[ -1.63677928e+01   1.02684189e+01   6.09937385e+00]\n",
      " [  1.84790886e-03  -1.08023873e+00   1.07839083e+00]\n",
      " [  8.80570665e-03   2.51331897e-01  -2.60137604e-01]] [[ 0.33333333  0.33333333  0.33333333]\n",
      " [ 0.          1.          0.        ]\n",
      " [ 0.55502392  0.00717703  0.43779904]] [ 0.  0.  1.]\n",
      "obs [[   0.    0.  232.]\n",
      " [   0.   82.    3.]\n",
      " [   0.    0.  183.]]\n",
      "full [   0.   82.  418.]\n",
      "obs [[ -1.00000000e+90  -1.00000000e+90   5.44673737e+00]\n",
      " [ -1.00000000e+90   4.40671925e+00   1.09861229e+00]\n",
      " [ -1.00000000e+90  -1.00000000e+90   5.20948615e+00]]\n",
      "full [ -1.00000000e+90   4.40671925e+00   6.03548143e+00]\n",
      "b1 [[ 1.          1.          1.        ]\n",
      " [ 0.          1.          0.        ]\n",
      " [ 0.55502392  0.00717703  0.43779904]]\n",
      "[ 1.  1.  1.]\n",
      "b1 [[ 1.          1.          1.        ]\n",
      " [ 0.          1.          0.        ]\n",
      " [ 0.55502392  0.00717703  0.43779904]]\n",
      "b2 [[ 0.33333333  0.33333333  0.33333333]\n",
      " [ 0.          1.          0.        ]\n",
      " [ 0.55502392  0.00717703  0.43779904]]\n",
      "[ 0.  1.  0.]\n",
      "[ 0.55502392  0.00717703  0.43779904]\n",
      "it 35\n",
      "[[ -1.67913088e+01   1.04763098e+01   6.31499898e+00]\n",
      " [  1.79148120e-03  -1.06097636e+00   1.05918488e+00]\n",
      " [  8.50376237e-03   2.47359988e-01  -2.55863750e-01]] [[ 0.33333333  0.33333333  0.33333333]\n",
      " [ 0.          1.          0.        ]\n",
      " [ 0.55502392  0.00717703  0.43779904]] [ 0.  0.  1.]\n",
      "obs [[   0.    0.  232.]\n",
      " [   0.   82.    3.]\n",
      " [   0.    0.  183.]]\n",
      "full [   0.   82.  418.]\n",
      "obs [[ -1.00000000e+90  -1.00000000e+90   5.44673737e+00]\n",
      " [ -1.00000000e+90   4.40671925e+00   1.09861229e+00]\n",
      " [ -1.00000000e+90  -1.00000000e+90   5.20948615e+00]]\n",
      "full [ -1.00000000e+90   4.40671925e+00   6.03548143e+00]\n",
      "b1 [[ 1.          1.          1.        ]\n",
      " [ 0.          1.          0.        ]\n",
      " [ 0.55502392  0.00717703  0.43779904]]\n",
      "[ 1.  1.  1.]\n",
      "b1 [[ 1.          1.          1.        ]\n",
      " [ 0.          1.          0.        ]\n",
      " [ 0.55502392  0.00717703  0.43779904]]\n",
      "b2 [[ 0.33333333  0.33333333  0.33333333]\n",
      " [ 0.          1.          0.        ]\n",
      " [ 0.55502392  0.00717703  0.43779904]]\n",
      "[ 0.  1.  0.]\n",
      "[ 0.55502392  0.00717703  0.43779904]\n",
      "it 36\n",
      "[[ -1.72143151e+01   1.06811040e+01   6.53321107e+00]\n",
      " [  1.73778055e-03  -1.04215163e+00   1.04041385e+00]\n",
      " [  8.21823240e-03   2.43469629e-01  -2.51687861e-01]] [[ 0.33333333  0.33333333  0.33333333]\n",
      " [ 0.          1.          0.        ]\n",
      " [ 0.55502392  0.00717703  0.43779904]] [ 0.  0.  1.]\n",
      "obs [[   0.    0.  232.]\n",
      " [   0.   82.    3.]\n",
      " [   0.    0.  183.]]\n",
      "full [   0.   82.  418.]\n",
      "obs [[ -1.00000000e+90  -1.00000000e+90   5.44673737e+00]\n",
      " [ -1.00000000e+90   4.40671925e+00   1.09861229e+00]\n",
      " [ -1.00000000e+90  -1.00000000e+90   5.20948615e+00]]\n",
      "full [ -1.00000000e+90   4.40671925e+00   6.03548143e+00]\n",
      "b1 [[ 1.          1.          1.        ]\n",
      " [ 0.          1.          0.        ]\n",
      " [ 0.55502392  0.00717703  0.43779904]]\n",
      "[ 1.  1.  1.]\n",
      "b1 [[ 1.          1.          1.        ]\n",
      " [ 0.          1.          0.        ]\n",
      " [ 0.55502392  0.00717703  0.43779904]]\n",
      "b2 [[ 0.33333333  0.33333333  0.33333333]\n",
      " [ 0.          1.          0.        ]\n",
      " [ 0.55502392  0.00717703  0.43779904]]\n",
      "[ 0.  1.  0.]\n",
      "[ 0.55502392  0.00717703  0.43779904]\n",
      "it 37\n",
      "[[ -1.76368467e+01   1.08829526e+01   6.75389407e+00]\n",
      " [  1.68663130e-03  -1.02378356e+00   1.02209693e+00]\n",
      " [  7.94802727e-03   2.39665828e-01  -2.47613855e-01]] [[ 0.33333333  0.33333333  0.33333333]\n",
      " [ 0.          1.          0.        ]\n",
      " [ 0.55502392  0.00717703  0.43779904]] [ 0.  0.  1.]\n",
      "obs [[   0.    0.  232.]\n",
      " [   0.   82.    3.]\n",
      " [   0.    0.  183.]]\n",
      "full [   0.   82.  418.]\n",
      "obs [[ -1.00000000e+90  -1.00000000e+90   5.44673737e+00]\n",
      " [ -1.00000000e+90   4.40671925e+00   1.09861229e+00]\n",
      " [ -1.00000000e+90  -1.00000000e+90   5.20948615e+00]]\n",
      "full [ -1.00000000e+90   4.40671925e+00   6.03548143e+00]\n",
      "b1 [[ 1.          1.          1.        ]\n",
      " [ 0.          1.          0.        ]\n",
      " [ 0.55502392  0.00717703  0.43779904]]\n",
      "[ 1.  1.  1.]\n",
      "b1 [[ 1.          1.          1.        ]\n",
      " [ 0.          1.          0.        ]\n",
      " [ 0.55502392  0.00717703  0.43779904]]\n",
      "b2 [[ 0.33333333  0.33333333  0.33333333]\n",
      " [ 0.          1.          0.        ]\n",
      " [ 0.55502392  0.00717703  0.43779904]]\n",
      "[ 0.  1.  0.]\n",
      "[ 0.55502392  0.00717703  0.43779904]\n",
      "it 38\n",
      "[[ -1.80589364e+01   1.10820191e+01   6.97691728e+00]\n",
      " [  1.63787550e-03  -1.00589038e+00   1.00425251e+00]\n",
      " [  7.69215780e-03   2.35953345e-01  -2.43645503e-01]] [[ 0.33333333  0.33333333  0.33333333]\n",
      " [ 0.          1.          0.        ]\n",
      " [ 0.55502392  0.00717703  0.43779904]] [ 0.  0.  1.]\n",
      "obs [[   0.    0.  232.]\n",
      " [   0.   82.    3.]\n",
      " [   0.    0.  183.]]\n",
      "full [   0.   82.  418.]\n",
      "obs [[ -1.00000000e+90  -1.00000000e+90   5.44673737e+00]\n",
      " [ -1.00000000e+90   4.40671925e+00   1.09861229e+00]\n",
      " [ -1.00000000e+90  -1.00000000e+90   5.20948615e+00]]\n",
      "full [ -1.00000000e+90   4.40671925e+00   6.03548143e+00]\n",
      "b1 [[ 1.          1.          1.        ]\n",
      " [ 0.          1.          0.        ]\n",
      " [ 0.55502392  0.00717703  0.43779904]]\n",
      "[ 1.  1.  1.]\n",
      "b1 [[ 1.          1.          1.        ]\n",
      " [ 0.          1.          0.        ]\n",
      " [ 0.55502392  0.00717703  0.43779904]]\n",
      "b2 [[ 0.33333333  0.33333333  0.33333333]\n",
      " [ 0.          1.          0.        ]\n",
      " [ 0.55502392  0.00717703  0.43779904]]\n",
      "[ 0.  1.  0.]\n",
      "[ 0.55502392  0.00717703  0.43779904]\n",
      "it 39\n",
      "[[ -1.84806148e+01   1.12784789e+01   7.20213592e+00]\n",
      " [  1.59137062e-03  -9.88489354e-01   9.86897983e-01]\n",
      " [  7.44972253e-03   2.32336655e-01  -2.39786378e-01]] [[ 0.33333333  0.33333333  0.33333333]\n",
      " [ 0.          1.          0.        ]\n",
      " [ 0.55502392  0.00717703  0.43779904]] [ 0.  0.  1.]\n",
      "obs [[   0.    0.  232.]\n",
      " [   0.   82.    3.]\n",
      " [   0.    0.  183.]]\n",
      "full [   0.   82.  418.]\n",
      "obs [[ -1.00000000e+90  -1.00000000e+90   5.44673737e+00]\n",
      " [ -1.00000000e+90   4.40671925e+00   1.09861229e+00]\n",
      " [ -1.00000000e+90  -1.00000000e+90   5.20948615e+00]]\n",
      "full [ -1.00000000e+90   4.40671925e+00   6.03548143e+00]\n",
      "b1 [[ 1.          1.          1.        ]\n",
      " [ 0.          1.          0.        ]\n",
      " [ 0.55502392  0.00717703  0.43779904]]\n",
      "[ 1.  1.  1.]\n",
      "b1 [[ 1.          1.          1.        ]\n",
      " [ 0.          1.          0.        ]\n",
      " [ 0.55502392  0.00717703  0.43779904]]\n",
      "b2 [[ 0.33333333  0.33333333  0.33333333]\n",
      " [ 0.          1.          0.        ]\n",
      " [ 0.55502392  0.00717703  0.43779904]]\n",
      "[ 0.  1.  0.]\n",
      "[ 0.55502392  0.00717703  0.43779904]\n",
      "it 40\n",
      "[[ -1.89019106e+01   1.14725187e+01   7.42939189e+00]\n",
      " [  1.54698757e-03  -9.71596537e-01   9.70049549e-01]\n",
      " [  7.21989685e-03   2.28819917e-01  -2.36039813e-01]] [[ 0.33333333  0.33333333  0.33333333]\n",
      " [ 0.          1.          0.        ]\n",
      " [ 0.55502392  0.00717703  0.43779904]] [ 0.  0.  1.]\n",
      "obs [[   0.    0.  232.]\n",
      " [   0.   82.    3.]\n",
      " [   0.    0.  183.]]\n",
      "full [   0.   82.  418.]\n",
      "obs [[ -1.00000000e+90  -1.00000000e+90   5.44673737e+00]\n",
      " [ -1.00000000e+90   4.40671925e+00   1.09861229e+00]\n",
      " [ -1.00000000e+90  -1.00000000e+90   5.20948615e+00]]\n",
      "full [ -1.00000000e+90   4.40671925e+00   6.03548143e+00]\n",
      "b1 [[ 1.          1.          1.        ]\n",
      " [ 0.          1.          0.        ]\n",
      " [ 0.55502392  0.00717703  0.43779904]]\n",
      "[ 1.  1.  1.]\n",
      "b1 [[ 1.          1.          1.        ]\n",
      " [ 0.          1.          0.        ]\n",
      " [ 0.55502392  0.00717703  0.43779904]]\n",
      "b2 [[ 0.33333333  0.33333333  0.33333333]\n",
      " [ 0.          1.          0.        ]\n",
      " [ 0.55502392  0.00717703  0.43779904]]\n",
      "[ 0.  1.  0.]\n",
      "[ 0.55502392  0.00717703  0.43779904]\n",
      "it 41\n",
      "[[ -1.93228505e+01   1.16643356e+01   7.65851490e+00]\n",
      " [  1.50460902e-03  -9.55226580e-01   9.53721971e-01]\n",
      " [  7.00192359e-03   2.25406932e-01  -2.32408855e-01]] [[ 0.33333333  0.33333333  0.33333333]\n",
      " [ 0.          1.          0.        ]\n",
      " [ 0.55502392  0.00717703  0.43779904]] [ 0.  0.  1.]\n",
      "obs [[   0.    0.  232.]\n",
      " [   0.   82.    3.]\n",
      " [   0.    0.  183.]]\n",
      "full [   0.   82.  418.]\n",
      "obs [[ -1.00000000e+90  -1.00000000e+90   5.44673737e+00]\n",
      " [ -1.00000000e+90   4.40671925e+00   1.09861229e+00]\n",
      " [ -1.00000000e+90  -1.00000000e+90   5.20948615e+00]]\n",
      "full [ -1.00000000e+90   4.40671925e+00   6.03548143e+00]\n",
      "b1 [[ 1.          1.          1.        ]\n",
      " [ 0.          1.          0.        ]\n",
      " [ 0.55502392  0.00717703  0.43779904]]\n",
      "[ 1.  1.  1.]\n",
      "b1 [[ 1.          1.          1.        ]\n",
      " [ 0.          1.          0.        ]\n",
      " [ 0.55502392  0.00717703  0.43779904]]\n",
      "b2 [[ 0.33333333  0.33333333  0.33333333]\n",
      " [ 0.          1.          0.        ]\n",
      " [ 0.55502392  0.00717703  0.43779904]]\n",
      "[ 0.  1.  0.]\n",
      "[ 0.55502392  0.00717703  0.43779904]\n",
      "it 42\n",
      "[[ -1.97434593e+01   1.18541356e+01   7.88932372e+00]\n",
      " [  1.46412784e-03  -9.39392530e-01   9.37928403e-01]\n",
      " [  6.79510492e-03   2.22101118e-01  -2.28896223e-01]] [[ 0.33333333  0.33333333  0.33333333]\n",
      " [ 0.          1.          0.        ]\n",
      " [ 0.55502392  0.00717703  0.43779904]] [ 0.  0.  1.]\n",
      "obs [[   0.    0.  232.]\n",
      " [   0.   82.    3.]\n",
      " [   0.    0.  183.]]\n",
      "full [   0.   82.  418.]\n",
      "obs [[ -1.00000000e+90  -1.00000000e+90   5.44673737e+00]\n",
      " [ -1.00000000e+90   4.40671925e+00   1.09861229e+00]\n",
      " [ -1.00000000e+90  -1.00000000e+90   5.20948615e+00]]\n",
      "full [ -1.00000000e+90   4.40671925e+00   6.03548143e+00]\n",
      "b1 [[ 1.          1.          1.        ]\n",
      " [ 0.          1.          0.        ]\n",
      " [ 0.55502392  0.00717703  0.43779904]]\n",
      "[ 1.  1.  1.]\n",
      "b1 [[ 1.          1.          1.        ]\n",
      " [ 0.          1.          0.        ]\n",
      " [ 0.55502392  0.00717703  0.43779904]]\n",
      "b2 [[ 0.33333333  0.33333333  0.33333333]\n",
      " [ 0.          1.          0.        ]\n",
      " [ 0.55502392  0.00717703  0.43779904]]\n",
      "[ 0.  1.  0.]\n",
      "[ 0.55502392  0.00717703  0.43779904]\n",
      "it 43\n",
      "[[ -2.01637604e+01   1.20421326e+01   8.12162782e+00]\n",
      " [  1.42544582e-03  -9.24105659e-01   9.22680213e-01]\n",
      " [  6.59879536e-03   2.18905473e-01  -2.25504268e-01]] [[ 0.33333333  0.33333333  0.33333333]\n",
      " [ 0.          1.          0.        ]\n",
      " [ 0.55502392  0.00717703  0.43779904]] [ 0.  0.  1.]\n",
      "obs [[   0.    0.  232.]\n",
      " [   0.   82.    3.]\n",
      " [   0.    0.  183.]]\n",
      "full [   0.   82.  418.]\n",
      "obs [[ -1.00000000e+90  -1.00000000e+90   5.44673737e+00]\n",
      " [ -1.00000000e+90   4.40671925e+00   1.09861229e+00]\n",
      " [ -1.00000000e+90  -1.00000000e+90   5.20948615e+00]]\n",
      "full [ -1.00000000e+90   4.40671925e+00   6.03548143e+00]\n",
      "b1 [[ 1.          1.          1.        ]\n",
      " [ 0.          1.          0.        ]\n",
      " [ 0.55502392  0.00717703  0.43779904]]\n",
      "[ 1.  1.  1.]\n",
      "b1 [[ 1.          1.          1.        ]\n",
      " [ 0.          1.          0.        ]\n",
      " [ 0.55502392  0.00717703  0.43779904]]\n",
      "b2 [[ 0.33333333  0.33333333  0.33333333]\n",
      " [ 0.          1.          0.        ]\n",
      " [ 0.55502392  0.00717703  0.43779904]]\n",
      "[ 0.  1.  0.]\n",
      "[ 0.55502392  0.00717703  0.43779904]\n",
      "it 44\n",
      "[[ -2.05837753e+01   1.22285462e+01   8.35522911e+00]\n",
      " [  1.38847249e-03  -9.09375302e-01   9.07986829e-01]\n",
      " [  6.41239563e-03   2.15822546e-01  -2.22234941e-01]] [[ 0.33333333  0.33333333  0.33333333]\n",
      " [ 0.          1.          0.        ]\n",
      " [ 0.55502392  0.00717703  0.43779904]] [ 0.  0.  1.]\n",
      "obs [[   0.    0.  232.]\n",
      " [   0.   82.    3.]\n",
      " [   0.    0.  183.]]\n",
      "full [   0.   82.  418.]\n",
      "obs [[ -1.00000000e+90  -1.00000000e+90   5.44673737e+00]\n",
      " [ -1.00000000e+90   4.40671925e+00   1.09861229e+00]\n",
      " [ -1.00000000e+90  -1.00000000e+90   5.20948615e+00]]\n",
      "full [ -1.00000000e+90   4.40671925e+00   6.03548143e+00]\n",
      "b1 [[ 1.          1.          1.        ]\n",
      " [ 0.          1.          0.        ]\n",
      " [ 0.55502392  0.00717703  0.43779904]]\n",
      "[ 1.  1.  1.]\n",
      "b1 [[ 1.          1.          1.        ]\n",
      " [ 0.          1.          0.        ]\n",
      " [ 0.55502392  0.00717703  0.43779904]]\n",
      "b2 [[ 0.33333333  0.33333333  0.33333333]\n",
      " [ 0.          1.          0.        ]\n",
      " [ 0.55502392  0.00717703  0.43779904]]\n",
      "[ 0.  1.  0.]\n",
      "[ 0.55502392  0.00717703  0.43779904]\n",
      "it 45\n",
      "[[ -2.10035240e+01   1.24136001e+01   8.58992392e+00]\n",
      " [  1.35312409e-03  -8.95208732e-01   8.93855608e-01]\n",
      " [  6.23534747e-03   2.12854416e-01  -2.19089763e-01]] [[ 0.33333333  0.33333333  0.33333333]\n",
      " [ 0.          1.          0.        ]\n",
      " [ 0.55502392  0.00717703  0.43779904]] [ 0.  0.  1.]\n",
      "obs [[   0.    0.  232.]\n",
      " [   0.   82.    3.]\n",
      " [   0.    0.  183.]]\n",
      "full [   0.   82.  418.]\n",
      "obs [[ -1.00000000e+90  -1.00000000e+90   5.44673737e+00]\n",
      " [ -1.00000000e+90   4.40671925e+00   1.09861229e+00]\n",
      " [ -1.00000000e+90  -1.00000000e+90   5.20948615e+00]]\n",
      "full [ -1.00000000e+90   4.40671925e+00   6.03548143e+00]\n",
      "b1 [[ 1.          1.          1.        ]\n",
      " [ 0.          1.          0.        ]\n",
      " [ 0.55502392  0.00717703  0.43779904]]\n",
      "[ 1.  1.  1.]\n",
      "b1 [[ 1.          1.          1.        ]\n",
      " [ 0.          1.          0.        ]\n",
      " [ 0.55502392  0.00717703  0.43779904]]\n",
      "b2 [[ 0.33333333  0.33333333  0.33333333]\n",
      " [ 0.          1.          0.        ]\n",
      " [ 0.55502392  0.00717703  0.43779904]]\n",
      "[ 0.  1.  0.]\n",
      "[ 0.55502392  0.00717703  0.43779904]\n",
      "it 46\n",
      "[[ -2.14230249e+01   1.25975198e+01   8.82550517e+00]\n",
      " [  1.31932269e-03  -8.81611060e-01   8.80291737e-01]\n",
      " [  6.06712904e-03   2.10002671e-01  -2.16069800e-01]] [[ 0.33333333  0.33333333  0.33333333]\n",
      " [ 0.          1.          0.        ]\n",
      " [ 0.55502392  0.00717703  0.43779904]] [ 0.  0.  1.]\n",
      "obs [[   0.    0.  232.]\n",
      " [   0.   82.    3.]\n",
      " [   0.    0.  183.]]\n",
      "full [   0.   82.  418.]\n",
      "obs [[ -1.00000000e+90  -1.00000000e+90   5.44673737e+00]\n",
      " [ -1.00000000e+90   4.40671925e+00   1.09861229e+00]\n",
      " [ -1.00000000e+90  -1.00000000e+90   5.20948615e+00]]\n",
      "full [ -1.00000000e+90   4.40671925e+00   6.03548143e+00]\n",
      "b1 [[ 1.          1.          1.        ]\n",
      " [ 0.          1.          0.        ]\n",
      " [ 0.55502392  0.00717703  0.43779904]]\n",
      "[ 1.  1.  1.]\n",
      "b1 [[ 1.          1.          1.        ]\n",
      " [ 0.          1.          0.        ]\n",
      " [ 0.55502392  0.00717703  0.43779904]]\n",
      "b2 [[ 0.33333333  0.33333333  0.33333333]\n",
      " [ 0.          1.          0.        ]\n",
      " [ 0.55502392  0.00717703  0.43779904]]\n",
      "[ 0.  1.  0.]\n",
      "[ 0.55502392  0.00717703  0.43779904]\n",
      "it 47\n",
      "[[ -2.18422951e+01   1.27805306e+01   9.06176455e+00]\n",
      " [  1.28699537e-03  -8.68585161e-01   8.67298165e-01]\n",
      " [  5.90725110e-03   2.07268397e-01  -2.13175648e-01]] [[ 0.33333333  0.33333333  0.33333333]\n",
      " [ 0.          1.          0.        ]\n",
      " [ 0.55502392  0.00717703  0.43779904]] [ 0.  0.  1.]\n",
      "obs [[   0.    0.  232.]\n",
      " [   0.   82.    3.]\n",
      " [   0.    0.  183.]]\n",
      "full [   0.   82.  418.]\n",
      "obs [[ -1.00000000e+90  -1.00000000e+90   5.44673737e+00]\n",
      " [ -1.00000000e+90   4.40671925e+00   1.09861229e+00]\n",
      " [ -1.00000000e+90  -1.00000000e+90   5.20948615e+00]]\n",
      "full [ -1.00000000e+90   4.40671925e+00   6.03548143e+00]\n",
      "b1 [[ 1.          1.          1.        ]\n",
      " [ 0.          1.          0.        ]\n",
      " [ 0.55502392  0.00717703  0.43779904]]\n",
      "[ 1.  1.  1.]\n",
      "b1 [[ 1.          1.          1.        ]\n",
      " [ 0.          1.          0.        ]\n",
      " [ 0.55502392  0.00717703  0.43779904]]\n",
      "b2 [[ 0.33333333  0.33333333  0.33333333]\n",
      " [ 0.          1.          0.        ]\n",
      " [ 0.55502392  0.00717703  0.43779904]]\n",
      "[ 0.  1.  0.]\n",
      "[ 0.55502392  0.00717703  0.43779904]\n",
      "it 48\n",
      "[[ -2.22613501e+01   1.29628553e+01   9.29849484e+00]\n",
      " [  1.25607362e-03  -8.56131640e-01   8.54875566e-01]\n",
      " [  5.75525364e-03   2.04652168e-01  -2.10407421e-01]] [[ 0.33333333  0.33333333  0.33333333]\n",
      " [ 0.          1.          0.        ]\n",
      " [ 0.55502392  0.00717703  0.43779904]] [ 0.  0.  1.]\n",
      "obs [[   0.    0.  232.]\n",
      " [   0.   82.    3.]\n",
      " [   0.    0.  183.]]\n",
      "full [   0.   82.  418.]\n",
      "obs [[ -1.00000000e+90  -1.00000000e+90   5.44673737e+00]\n",
      " [ -1.00000000e+90   4.40671925e+00   1.09861229e+00]\n",
      " [ -1.00000000e+90  -1.00000000e+90   5.20948615e+00]]\n",
      "full [ -1.00000000e+90   4.40671925e+00   6.03548143e+00]\n",
      "b1 [[ 1.          1.          1.        ]\n",
      " [ 0.          1.          0.        ]\n",
      " [ 0.55502392  0.00717703  0.43779904]]\n",
      "[ 1.  1.  1.]\n",
      "b1 [[ 1.          1.          1.        ]\n",
      " [ 0.          1.          0.        ]\n",
      " [ 0.55502392  0.00717703  0.43779904]]\n",
      "b2 [[ 0.33333333  0.33333333  0.33333333]\n",
      " [ 0.          1.          0.        ]\n",
      " [ 0.55502392  0.00717703  0.43779904]]\n",
      "[ 0.  1.  0.]\n",
      "[ 0.55502392  0.00717703  0.43779904]\n",
      "it 49\n",
      "[[ -2.26802041e+01   1.31447119e+01   9.53549215e+00]\n",
      " [  1.22649268e-03  -8.44248832e-01   8.43022339e-01]\n",
      " [  5.61070304e-03   2.02154048e-01  -2.07764751e-01]] [[ 0.33333333  0.33333333  0.33333333]\n",
      " [ 0.          1.          0.        ]\n",
      " [ 0.55502392  0.00717703  0.43779904]] [ 0.  0.  1.]\n",
      "obs [[   0.    0.  232.]\n",
      " [   0.   82.    3.]\n",
      " [   0.    0.  183.]]\n",
      "full [   0.   82.  418.]\n",
      "obs [[ -1.00000000e+90  -1.00000000e+90   5.44673737e+00]\n",
      " [ -1.00000000e+90   4.40671925e+00   1.09861229e+00]\n",
      " [ -1.00000000e+90  -1.00000000e+90   5.20948615e+00]]\n",
      "full [ -1.00000000e+90   4.40671925e+00   6.03548143e+00]\n",
      "b1 [[ 1.          1.          1.        ]\n",
      " [ 0.          1.          0.        ]\n",
      " [ 0.55502392  0.00717703  0.43779904]]\n",
      "[ 1.  1.  1.]\n",
      "b1 [[ 1.          1.          1.        ]\n",
      " [ 0.          1.          0.        ]\n",
      " [ 0.55502392  0.00717703  0.43779904]]\n",
      "b2 [[ 0.33333333  0.33333333  0.33333333]\n",
      " [ 0.          1.          0.        ]\n",
      " [ 0.55502392  0.00717703  0.43779904]]\n",
      "[ 0.  1.  0.]\n",
      "[ 0.55502392  0.00717703  0.43779904]\n",
      "it 50\n",
      "[[ -2.30988699e+01   1.33263118e+01   9.77255816e+00]\n",
      " [  1.19819111e-03  -8.32932833e-01   8.31734642e-01]\n",
      " [  5.47318967e-03   1.99773598e-01  -2.05246788e-01]] [[ 0.33333333  0.33333333  0.33333333]\n",
      " [ 0.          1.          0.        ]\n",
      " [ 0.55502392  0.00717703  0.43779904]] [ 0.  0.  1.]\n",
      "obs [[   0.    0.  232.]\n",
      " [   0.   82.    3.]\n",
      " [   0.    0.  183.]]\n",
      "full [   0.   82.  418.]\n",
      "obs [[ -1.00000000e+90  -1.00000000e+90   5.44673737e+00]\n",
      " [ -1.00000000e+90   4.40671925e+00   1.09861229e+00]\n",
      " [ -1.00000000e+90  -1.00000000e+90   5.20948615e+00]]\n",
      "full [ -1.00000000e+90   4.40671925e+00   6.03548143e+00]\n",
      "b1 [[ 1.          1.          1.        ]\n",
      " [ 0.          1.          0.        ]\n",
      " [ 0.55502392  0.00717703  0.43779904]]\n",
      "[ 1.  1.  1.]\n",
      "b1 [[ 1.          1.          1.        ]\n",
      " [ 0.          1.          0.        ]\n",
      " [ 0.55502392  0.00717703  0.43779904]]\n",
      "b2 [[ 0.33333333  0.33333333  0.33333333]\n",
      " [ 0.          1.          0.        ]\n",
      " [ 0.55502392  0.00717703  0.43779904]]\n",
      "[ 0.  1.  0.]\n",
      "[ 0.55502392  0.00717703  0.43779904]\n",
      "it 51\n",
      "[[ -2.35173592e+01   1.35078571e+01   1.00095021e+01]\n",
      " [  1.17111034e-03  -8.22177566e-01   8.21006456e-01]\n",
      " [  5.34232588e-03   1.97509893e-01  -2.02852219e-01]] [[ 0.33333333  0.33333333  0.33333333]\n",
      " [ 0.          1.          0.        ]\n",
      " [ 0.55502392  0.00717703  0.43779904]] [ 0.  0.  1.]\n",
      "obs [[   0.    0.  232.]\n",
      " [   0.   82.    3.]\n",
      " [   0.    0.  183.]]\n",
      "full [   0.   82.  418.]\n",
      "obs [[ -1.00000000e+90  -1.00000000e+90   5.44673737e+00]\n",
      " [ -1.00000000e+90   4.40671925e+00   1.09861229e+00]\n",
      " [ -1.00000000e+90  -1.00000000e+90   5.20948615e+00]]\n",
      "full [ -1.00000000e+90   4.40671925e+00   6.03548143e+00]\n",
      "b1 [[ 1.          1.          1.        ]\n",
      " [ 0.          1.          0.        ]\n",
      " [ 0.55502392  0.00717703  0.43779904]]\n",
      "[ 1.  1.  1.]\n",
      "b1 [[ 1.          1.          1.        ]\n",
      " [ 0.          1.          0.        ]\n",
      " [ 0.55502392  0.00717703  0.43779904]]\n",
      "b2 [[ 0.33333333  0.33333333  0.33333333]\n",
      " [ 0.          1.          0.        ]\n",
      " [ 0.55502392  0.00717703  0.43779904]]\n",
      "[ 0.  1.  0.]\n",
      "[ 0.55502392  0.00717703  0.43779904]\n",
      "it 52\n",
      "[[ -2.39356825e+01   1.36895396e+01   1.02461428e+01]\n",
      " [  1.14519436e-03  -8.11974879e-01   8.10829684e-01]\n",
      " [  5.21774428e-03   1.95361537e-01  -2.00579282e-01]] [[ 0.33333333  0.33333333  0.33333333]\n",
      " [ 0.          1.          0.        ]\n",
      " [ 0.55502392  0.00717703  0.43779904]] [ 0.  0.  1.]\n",
      "obs [[   0.    0.  232.]\n",
      " [   0.   82.    3.]\n",
      " [   0.    0.  183.]]\n",
      "full [   0.   82.  418.]\n",
      "obs [[ -1.00000000e+90  -1.00000000e+90   5.44673737e+00]\n",
      " [ -1.00000000e+90   4.40671925e+00   1.09861229e+00]\n",
      " [ -1.00000000e+90  -1.00000000e+90   5.20948615e+00]]\n",
      "full [ -1.00000000e+90   4.40671925e+00   6.03548143e+00]\n",
      "b1 [[ 1.          1.          1.        ]\n",
      " [ 0.          1.          0.        ]\n",
      " [ 0.55502392  0.00717703  0.43779904]]\n",
      "[ 1.  1.  1.]\n",
      "b1 [[ 1.          1.          1.        ]\n",
      " [ 0.          1.          0.        ]\n",
      " [ 0.55502392  0.00717703  0.43779904]]\n",
      "b2 [[ 0.33333333  0.33333333  0.33333333]\n",
      " [ 0.          1.          0.        ]\n",
      " [ 0.55502392  0.00717703  0.43779904]]\n",
      "[ 0.  1.  0.]\n",
      "[ 0.55502392  0.00717703  0.43779904]\n",
      "it 53\n",
      "[[ -2.43538490e+01   1.38715387e+01   1.04823103e+01]\n",
      " [  1.12038945e-03  -8.02314669e-01   8.01194279e-01]\n",
      " [  5.09909629e-03   1.93326694e-01  -1.98425790e-01]] [[ 0.33333333  0.33333333  0.33333333]\n",
      " [ 0.          1.          0.        ]\n",
      " [ 0.55502392  0.00717703  0.43779904]] [ 0.  0.  1.]\n",
      "obs [[   0.    0.  232.]\n",
      " [   0.   82.    3.]\n",
      " [   0.    0.  183.]]\n",
      "full [   0.   82.  418.]\n",
      "obs [[ -1.00000000e+90  -1.00000000e+90   5.44673737e+00]\n",
      " [ -1.00000000e+90   4.40671925e+00   1.09861229e+00]\n",
      " [ -1.00000000e+90  -1.00000000e+90   5.20948615e+00]]\n",
      "full [ -1.00000000e+90   4.40671925e+00   6.03548143e+00]\n",
      "b1 [[ 1.          1.          1.        ]\n",
      " [ 0.          1.          0.        ]\n",
      " [ 0.55502392  0.00717703  0.43779904]]\n",
      "[ 1.  1.  1.]\n",
      "b1 [[ 1.          1.          1.        ]\n",
      " [ 0.          1.          0.        ]\n",
      " [ 0.55502392  0.00717703  0.43779904]]\n",
      "b2 [[ 0.33333333  0.33333333  0.33333333]\n",
      " [ 0.          1.          0.        ]\n",
      " [ 0.55502392  0.00717703  0.43779904]]\n",
      "[ 0.  1.  0.]\n",
      "[ 0.55502392  0.00717703  0.43779904]\n",
      "it 54\n",
      "[[ -2.47718669e+01   1.40540199e+01   1.07178470e+01]\n",
      " [  1.09664395e-03  -7.93185035e-01   7.92088391e-01]\n",
      " [  4.98605099e-03   1.91403117e-01  -1.96389168e-01]] [[ 0.33333333  0.33333333  0.33333333]\n",
      " [ 0.          1.          0.        ]\n",
      " [ 0.55502392  0.00717703  0.43779904]] [ 0.  0.  1.]\n",
      "obs [[   0.    0.  232.]\n",
      " [   0.   82.    3.]\n",
      " [   0.    0.  183.]]\n",
      "full [   0.   82.  418.]\n",
      "obs [[ -1.00000000e+90  -1.00000000e+90   5.44673737e+00]\n",
      " [ -1.00000000e+90   4.40671925e+00   1.09861229e+00]\n",
      " [ -1.00000000e+90  -1.00000000e+90   5.20948615e+00]]\n",
      "full [ -1.00000000e+90   4.40671925e+00   6.03548143e+00]\n",
      "b1 [[ 1.          1.          1.        ]\n",
      " [ 0.          1.          0.        ]\n",
      " [ 0.55502392  0.00717703  0.43779904]]\n",
      "[ 1.  1.  1.]\n",
      "b1 [[ 1.          1.          1.        ]\n",
      " [ 0.          1.          0.        ]\n",
      " [ 0.55502392  0.00717703  0.43779904]]\n",
      "b2 [[ 0.33333333  0.33333333  0.33333333]\n",
      " [ 0.          1.          0.        ]\n",
      " [ 0.55502392  0.00717703  0.43779904]]\n",
      "[ 0.  1.  0.]\n",
      "[ 0.55502392  0.00717703  0.43779904]\n",
      "it 55\n",
      "[[ -2.51897435e+01   1.42371343e+01   1.09526093e+01]\n",
      " [  1.07390811e-03  -7.84572448e-01   7.83498540e-01]\n",
      " [  4.87829409e-03   1.89588190e-01  -1.94466484e-01]] [[ 0.33333333  0.33333333  0.33333333]\n",
      " [ 0.          1.          0.        ]\n",
      " [ 0.55502392  0.00717703  0.43779904]] [ 0.  0.  1.]\n",
      "obs [[   0.    0.  232.]\n",
      " [   0.   82.    3.]\n",
      " [   0.    0.  183.]]\n",
      "full [   0.   82.  418.]\n",
      "obs [[ -1.00000000e+90  -1.00000000e+90   5.44673737e+00]\n",
      " [ -1.00000000e+90   4.40671925e+00   1.09861229e+00]\n",
      " [ -1.00000000e+90  -1.00000000e+90   5.20948615e+00]]\n",
      "full [ -1.00000000e+90   4.40671925e+00   6.03548143e+00]\n",
      "b1 [[ 1.          1.          1.        ]\n",
      " [ 0.          1.          0.        ]\n",
      " [ 0.55502392  0.00717703  0.43779904]]\n",
      "[ 1.  1.  1.]\n",
      "b1 [[ 1.          1.          1.        ]\n",
      " [ 0.          1.          0.        ]\n",
      " [ 0.55502392  0.00717703  0.43779904]]\n",
      "b2 [[ 0.33333333  0.33333333  0.33333333]\n",
      " [ 0.          1.          0.        ]\n",
      " [ 0.55502392  0.00717703  0.43779904]]\n",
      "[ 0.  1.  0.]\n",
      "[ 0.55502392  0.00717703  0.43779904]\n",
      "it 56\n",
      "[[ -2.56074853e+01   1.44210174e+01   1.11864679e+01]\n",
      " [  1.05213394e-03  -7.76461934e-01   7.75409800e-01]\n",
      " [  4.77552710e-03   1.87878959e-01  -1.92654486e-01]] [[ 0.33333333  0.33333333  0.33333333]\n",
      " [ 0.          1.          0.        ]\n",
      " [ 0.55502392  0.00717703  0.43779904]] [ 0.  0.  1.]\n",
      "obs [[   0.    0.  232.]\n",
      " [   0.   82.    3.]\n",
      " [   0.    0.  183.]]\n",
      "full [   0.   82.  418.]\n",
      "obs [[ -1.00000000e+90  -1.00000000e+90   5.44673737e+00]\n",
      " [ -1.00000000e+90   4.40671925e+00   1.09861229e+00]\n",
      " [ -1.00000000e+90  -1.00000000e+90   5.20948615e+00]]\n",
      "full [ -1.00000000e+90   4.40671925e+00   6.03548143e+00]\n",
      "b1 [[ 1.          1.          1.        ]\n",
      " [ 0.          1.          0.        ]\n",
      " [ 0.55502392  0.00717703  0.43779904]]\n",
      "[ 1.  1.  1.]\n",
      "b1 [[ 1.          1.          1.        ]\n",
      " [ 0.          1.          0.        ]\n",
      " [ 0.55502392  0.00717703  0.43779904]]\n",
      "b2 [[ 0.33333333  0.33333333  0.33333333]\n",
      " [ 0.          1.          0.        ]\n",
      " [ 0.55502392  0.00717703  0.43779904]]\n",
      "[ 0.  1.  0.]\n",
      "[ 0.55502392  0.00717703  0.43779904]\n",
      "it 57\n",
      "[[ -2.60250976e+01   1.46057889e+01   1.14193087e+01]\n",
      " [  1.03127520e-03  -7.68837272e-01   7.67805997e-01]\n",
      " [  4.67746659e-03   1.86272185e-01  -1.90949651e-01]] [[ 0.33333333  0.33333333  0.33333333]\n",
      " [ 0.          1.          0.        ]\n",
      " [ 0.55502392  0.00717703  0.43779904]] [ 0.  0.  1.]\n",
      "obs [[   0.    0.  232.]\n",
      " [   0.   82.    3.]\n",
      " [   0.    0.  183.]]\n",
      "full [   0.   82.  418.]\n",
      "obs [[ -1.00000000e+90  -1.00000000e+90   5.44673737e+00]\n",
      " [ -1.00000000e+90   4.40671925e+00   1.09861229e+00]\n",
      " [ -1.00000000e+90  -1.00000000e+90   5.20948615e+00]]\n",
      "full [ -1.00000000e+90   4.40671925e+00   6.03548143e+00]\n",
      "b1 [[ 1.          1.          1.        ]\n",
      " [ 0.          1.          0.        ]\n",
      " [ 0.55502392  0.00717703  0.43779904]]\n",
      "[ 1.  1.  1.]\n",
      "b1 [[ 1.          1.          1.        ]\n",
      " [ 0.          1.          0.        ]\n",
      " [ 0.55502392  0.00717703  0.43779904]]\n",
      "b2 [[ 0.33333333  0.33333333  0.33333333]\n",
      " [ 0.          1.          0.        ]\n",
      " [ 0.55502392  0.00717703  0.43779904]]\n",
      "[ 0.  1.  0.]\n",
      "[ 0.55502392  0.00717703  0.43779904]\n",
      "it 58\n",
      "[[ -2.64425853e+01   1.47915524e+01   1.16510329e+01]\n",
      " [  1.01128725e-03  -7.61681198e-01   7.60669911e-01]\n",
      " [  4.58384359e-03   1.84764378e-01  -1.89348222e-01]] [[ 0.33333333  0.33333333  0.33333333]\n",
      " [ 0.          1.          0.        ]\n",
      " [ 0.55502392  0.00717703  0.43779904]] [ 0.  0.  1.]\n",
      "obs [[   0.    0.  232.]\n",
      " [   0.   82.    3.]\n",
      " [   0.    0.  183.]]\n",
      "full [   0.   82.  418.]\n",
      "obs [[ -1.00000000e+90  -1.00000000e+90   5.44673737e+00]\n",
      " [ -1.00000000e+90   4.40671925e+00   1.09861229e+00]\n",
      " [ -1.00000000e+90  -1.00000000e+90   5.20948615e+00]]\n",
      "full [ -1.00000000e+90   4.40671925e+00   6.03548143e+00]\n",
      "b1 [[ 1.          1.          1.        ]\n",
      " [ 0.          1.          0.        ]\n",
      " [ 0.55502392  0.00717703  0.43779904]]\n",
      "[ 1.  1.  1.]\n",
      "b1 [[ 1.          1.          1.        ]\n",
      " [ 0.          1.          0.        ]\n",
      " [ 0.55502392  0.00717703  0.43779904]]\n",
      "b2 [[ 0.33333333  0.33333333  0.33333333]\n",
      " [ 0.          1.          0.        ]\n",
      " [ 0.55502392  0.00717703  0.43779904]]\n",
      "[ 0.  1.  0.]\n",
      "[ 0.55502392  0.00717703  0.43779904]\n",
      "it 59\n",
      "[[ -2.68599524e+01   1.49783955e+01   1.18815569e+01]\n",
      " [  9.92127082e-04  -7.54975606e-01   7.53983479e-01]\n",
      " [  4.49440305e-03   1.83351850e-01  -1.87846253e-01]] [[ 0.33333333  0.33333333  0.33333333]\n",
      " [ 0.          1.          0.        ]\n",
      " [ 0.55502392  0.00717703  0.43779904]] [ 0.  0.  1.]\n",
      "obs [[   0.    0.  232.]\n",
      " [   0.   82.    3.]\n",
      " [   0.    0.  183.]]\n",
      "full [   0.   82.  418.]\n",
      "obs [[ -1.00000000e+90  -1.00000000e+90   5.44673737e+00]\n",
      " [ -1.00000000e+90   4.40671925e+00   1.09861229e+00]\n",
      " [ -1.00000000e+90  -1.00000000e+90   5.20948615e+00]]\n",
      "full [ -1.00000000e+90   4.40671925e+00   6.03548143e+00]\n",
      "b1 [[ 1.          1.          1.        ]\n",
      " [ 0.          1.          0.        ]\n",
      " [ 0.55502392  0.00717703  0.43779904]]\n",
      "[ 1.  1.  1.]\n",
      "b1 [[ 1.          1.          1.        ]\n",
      " [ 0.          1.          0.        ]\n",
      " [ 0.55502392  0.00717703  0.43779904]]\n",
      "b2 [[ 0.33333333  0.33333333  0.33333333]\n",
      " [ 0.          1.          0.        ]\n",
      " [ 0.55502392  0.00717703  0.43779904]]\n",
      "[ 0.  1.  0.]\n",
      "[ 0.55502392  0.00717703  0.43779904]\n",
      "it 60\n",
      "[[ -2.72772025e+01   1.51663904e+01   1.21108120e+01]\n",
      " [  9.73753275e-04  -7.48701747e-01   7.47727994e-01]\n",
      " [  4.40890331e-03   1.82030751e-01  -1.86439654e-01]] [[ 0.33333333  0.33333333  0.33333333]\n",
      " [ 0.          1.          0.        ]\n",
      " [ 0.55502392  0.00717703  0.43779904]] [ 0.  0.  1.]\n",
      "obs [[   0.    0.  232.]\n",
      " [   0.   82.    3.]\n",
      " [   0.    0.  183.]]\n",
      "full [   0.   82.  418.]\n",
      "obs [[ -1.00000000e+90  -1.00000000e+90   5.44673737e+00]\n",
      " [ -1.00000000e+90   4.40671925e+00   1.09861229e+00]\n",
      " [ -1.00000000e+90  -1.00000000e+90   5.20948615e+00]]\n",
      "full [ -1.00000000e+90   4.40671925e+00   6.03548143e+00]\n",
      "b1 [[ 1.          1.          1.        ]\n",
      " [ 0.          1.          0.        ]\n",
      " [ 0.55502392  0.00717703  0.43779904]]\n",
      "[ 1.  1.  1.]\n",
      "b1 [[ 1.          1.          1.        ]\n",
      " [ 0.          1.          0.        ]\n",
      " [ 0.55502392  0.00717703  0.43779904]]\n",
      "b2 [[ 0.33333333  0.33333333  0.33333333]\n",
      " [ 0.          1.          0.        ]\n",
      " [ 0.55502392  0.00717703  0.43779904]]\n",
      "[ 0.  1.  0.]\n",
      "[ 0.55502392  0.00717703  0.43779904]\n",
      "it 61\n",
      "[[ -2.76943384e+01   1.53555943e+01   1.23387441e+01]\n",
      " [  9.56125988e-04  -7.42840424e-01   7.41884298e-01]\n",
      " [  4.32711565e-03   1.80797118e-01  -1.85124234e-01]] [[ 0.33333333  0.33333333  0.33333333]\n",
      " [ 0.          1.          0.        ]\n",
      " [ 0.55502392  0.00717703  0.43779904]] [ 0.  0.  1.]\n",
      "obs [[   0.    0.  232.]\n",
      " [   0.   82.    3.]\n",
      " [   0.    0.  183.]]\n",
      "full [   0.   82.  418.]\n",
      "obs [[ -1.00000000e+90  -1.00000000e+90   5.44673737e+00]\n",
      " [ -1.00000000e+90   4.40671925e+00   1.09861229e+00]\n",
      " [ -1.00000000e+90  -1.00000000e+90   5.20948615e+00]]\n",
      "full [ -1.00000000e+90   4.40671925e+00   6.03548143e+00]\n",
      "b1 [[ 1.          1.          1.        ]\n",
      " [ 0.          1.          0.        ]\n",
      " [ 0.55502392  0.00717703  0.43779904]]\n",
      "[ 1.  1.  1.]\n",
      "b1 [[ 1.          1.          1.        ]\n",
      " [ 0.          1.          0.        ]\n",
      " [ 0.55502392  0.00717703  0.43779904]]\n",
      "b2 [[ 0.33333333  0.33333333  0.33333333]\n",
      " [ 0.          1.          0.        ]\n",
      " [ 0.55502392  0.00717703  0.43779904]]\n",
      "[ 0.  1.  0.]\n",
      "[ 0.55502392  0.00717703  0.43779904]\n",
      "it 62\n",
      "[[ -2.81113627e+01   1.55460502e+01   1.25653126e+01]\n",
      " [  9.39206962e-04  -7.37372174e-01   7.36432967e-01]\n",
      " [  4.24882383e-03   1.79646912e-01  -1.83895736e-01]] [[ 0.33333333  0.33333333  0.33333333]\n",
      " [ 0.          1.          0.        ]\n",
      " [ 0.55502392  0.00717703  0.43779904]] [ 0.  0.  1.]\n",
      "obs [[   0.    0.  232.]\n",
      " [   0.   82.    3.]\n",
      " [   0.    0.  183.]]\n",
      "full [   0.   82.  418.]\n",
      "obs [[ -1.00000000e+90  -1.00000000e+90   5.44673737e+00]\n",
      " [ -1.00000000e+90   4.40671925e+00   1.09861229e+00]\n",
      " [ -1.00000000e+90  -1.00000000e+90   5.20948615e+00]]\n",
      "full [ -1.00000000e+90   4.40671925e+00   6.03548143e+00]\n",
      "b1 [[ 1.          1.          1.        ]\n",
      " [ 0.          1.          0.        ]\n",
      " [ 0.55502392  0.00717703  0.43779904]]\n",
      "[ 1.  1.  1.]\n",
      "b1 [[ 1.          1.          1.        ]\n",
      " [ 0.          1.          0.        ]\n",
      " [ 0.55502392  0.00717703  0.43779904]]\n",
      "b2 [[ 0.33333333  0.33333333  0.33333333]\n",
      " [ 0.          1.          0.        ]\n",
      " [ 0.55502392  0.00717703  0.43779904]]\n",
      "[ 0.  1.  0.]\n",
      "[ 0.55502392  0.00717703  0.43779904]\n",
      "it 63\n",
      "[[ -2.85282775e+01   1.57377877e+01   1.27904898e+01]\n",
      " [  9.22959517e-04  -7.32277437e-01   7.31354477e-01]\n",
      " [  4.17382366e-03   1.78576055e-01  -1.82749878e-01]] [[ 0.33333333  0.33333333  0.33333333]\n",
      " [ 0.          1.          0.        ]\n",
      " [ 0.55502392  0.00717703  0.43779904]] [ 0.  0.  1.]\n",
      "obs [[   0.    0.  232.]\n",
      " [   0.   82.    3.]\n",
      " [   0.    0.  183.]]\n",
      "full [   0.   82.  418.]\n",
      "obs [[ -1.00000000e+90  -1.00000000e+90   5.44673737e+00]\n",
      " [ -1.00000000e+90   4.40671925e+00   1.09861229e+00]\n",
      " [ -1.00000000e+90  -1.00000000e+90   5.20948615e+00]]\n",
      "full [ -1.00000000e+90   4.40671925e+00   6.03548143e+00]\n",
      "b1 [[ 1.          1.          1.        ]\n",
      " [ 0.          1.          0.        ]\n",
      " [ 0.55502392  0.00717703  0.43779904]]\n",
      "[ 1.  1.  1.]\n",
      "b1 [[ 1.          1.          1.        ]\n",
      " [ 0.          1.          0.        ]\n",
      " [ 0.55502392  0.00717703  0.43779904]]\n",
      "b2 [[ 0.33333333  0.33333333  0.33333333]\n",
      " [ 0.          1.          0.        ]\n",
      " [ 0.55502392  0.00717703  0.43779904]]\n",
      "[ 0.  1.  0.]\n",
      "[ 0.55502392  0.00717703  0.43779904]\n",
      "it 64\n",
      "[[ -2.89450845e+01   1.59308245e+01   1.30142601e+01]\n",
      " [  9.07348551e-04  -7.27536711e-01   7.26629362e-01]\n",
      " [  4.10192260e-03   1.77580467e-01  -1.81682389e-01]] [[ 0.33333333  0.33333333  0.33333333]\n",
      " [ 0.          1.          0.        ]\n",
      " [ 0.55502392  0.00717703  0.43779904]] [ 0.  0.  1.]\n",
      "obs [[   0.    0.  232.]\n",
      " [   0.   82.    3.]\n",
      " [   0.    0.  183.]]\n",
      "full [   0.   82.  418.]\n",
      "obs [[ -1.00000000e+90  -1.00000000e+90   5.44673737e+00]\n",
      " [ -1.00000000e+90   4.40671925e+00   1.09861229e+00]\n",
      " [ -1.00000000e+90  -1.00000000e+90   5.20948615e+00]]\n",
      "full [ -1.00000000e+90   4.40671925e+00   6.03548143e+00]\n",
      "b1 [[ 1.          1.          1.        ]\n",
      " [ 0.          1.          0.        ]\n",
      " [ 0.55502392  0.00717703  0.43779904]]\n",
      "[ 1.  1.  1.]\n",
      "b1 [[ 1.          1.          1.        ]\n",
      " [ 0.          1.          0.        ]\n",
      " [ 0.55502392  0.00717703  0.43779904]]\n",
      "b2 [[ 0.33333333  0.33333333  0.33333333]\n",
      " [ 0.          1.          0.        ]\n",
      " [ 0.55502392  0.00717703  0.43779904]]\n",
      "[ 0.  1.  0.]\n",
      "[ 0.55502392  0.00717703  0.43779904]\n",
      "it 65\n",
      "[[ -2.93617853e+01   1.61251668e+01   1.32366185e+01]\n",
      " [  8.92340535e-04  -7.23130692e-01   7.22238352e-01]\n",
      " [  4.03293925e-03   1.76656095e-01  -1.80689035e-01]] [[ 0.33333333  0.33333333  0.33333333]\n",
      " [ 0.          1.          0.        ]\n",
      " [ 0.55502392  0.00717703  0.43779904]] [ 0.  0.  1.]\n",
      "obs [[   0.    0.  232.]\n",
      " [   0.   82.    3.]\n",
      " [   0.    0.  183.]]\n",
      "full [   0.   82.  418.]\n",
      "obs [[ -1.00000000e+90  -1.00000000e+90   5.44673737e+00]\n",
      " [ -1.00000000e+90   4.40671925e+00   1.09861229e+00]\n",
      " [ -1.00000000e+90  -1.00000000e+90   5.20948615e+00]]\n",
      "full [ -1.00000000e+90   4.40671925e+00   6.03548143e+00]\n",
      "b1 [[ 1.          1.          1.        ]\n",
      " [ 0.          1.          0.        ]\n",
      " [ 0.55502392  0.00717703  0.43779904]]\n",
      "[ 1.  1.  1.]\n",
      "b1 [[ 1.          1.          1.        ]\n",
      " [ 0.          1.          0.        ]\n",
      " [ 0.55502392  0.00717703  0.43779904]]\n",
      "b2 [[ 0.33333333  0.33333333  0.33333333]\n",
      " [ 0.          1.          0.        ]\n",
      " [ 0.55502392  0.00717703  0.43779904]]\n",
      "[ 0.  1.  0.]\n",
      "[ 0.55502392  0.00717703  0.43779904]\n",
      "it 66\n",
      "[[ -2.97783809e+01   1.63208111e+01   1.34575699e+01]\n",
      " [  8.77903503e-04  -7.19040398e-01   7.18162494e-01]\n",
      " [  3.96670297e-03   1.75798945e-01  -1.79765648e-01]] [[ 0.33333333  0.33333333  0.33333333]\n",
      " [ 0.          1.          0.        ]\n",
      " [ 0.55502392  0.00717703  0.43779904]] [ 0.  0.  1.]\n",
      "obs [[   0.    0.  232.]\n",
      " [   0.   82.    3.]\n",
      " [   0.    0.  183.]]\n",
      "full [   0.   82.  418.]\n",
      "obs [[ -1.00000000e+90  -1.00000000e+90   5.44673737e+00]\n",
      " [ -1.00000000e+90   4.40671925e+00   1.09861229e+00]\n",
      " [ -1.00000000e+90  -1.00000000e+90   5.20948615e+00]]\n",
      "full [ -1.00000000e+90   4.40671925e+00   6.03548143e+00]\n",
      "b1 [[ 1.          1.          1.        ]\n",
      " [ 0.          1.          0.        ]\n",
      " [ 0.55502392  0.00717703  0.43779904]]\n",
      "[ 1.  1.  1.]\n",
      "b1 [[ 1.          1.          1.        ]\n",
      " [ 0.          1.          0.        ]\n",
      " [ 0.55502392  0.00717703  0.43779904]]\n",
      "b2 [[ 0.33333333  0.33333333  0.33333333]\n",
      " [ 0.          1.          0.        ]\n",
      " [ 0.55502392  0.00717703  0.43779904]]\n",
      "[ 0.  1.  0.]\n",
      "[ 0.55502392  0.00717703  0.43779904]\n",
      "it 67\n",
      "[[ -3.01948726e+01   1.65177448e+01   1.36771278e+01]\n",
      " [  8.64007038e-04  -7.15247271e-01   7.14383263e-01]\n",
      " [  3.90305340e-03   1.75005099e-01  -1.78908153e-01]] [[ 0.33333333  0.33333333  0.33333333]\n",
      " [ 0.          1.          0.        ]\n",
      " [ 0.55502392  0.00717703  0.43779904]] [ 0.  0.  1.]\n",
      "obs [[   0.    0.  232.]\n",
      " [   0.   82.    3.]\n",
      " [   0.    0.  183.]]\n",
      "full [   0.   82.  418.]\n",
      "obs [[ -1.00000000e+90  -1.00000000e+90   5.44673737e+00]\n",
      " [ -1.00000000e+90   4.40671925e+00   1.09861229e+00]\n",
      " [ -1.00000000e+90  -1.00000000e+90   5.20948615e+00]]\n",
      "full [ -1.00000000e+90   4.40671925e+00   6.03548143e+00]\n",
      "b1 [[ 1.          1.          1.        ]\n",
      " [ 0.          1.          0.        ]\n",
      " [ 0.55502392  0.00717703  0.43779904]]\n",
      "[ 1.  1.  1.]\n",
      "b1 [[ 1.          1.          1.        ]\n",
      " [ 0.          1.          0.        ]\n",
      " [ 0.55502392  0.00717703  0.43779904]]\n",
      "b2 [[ 0.33333333  0.33333333  0.33333333]\n",
      " [ 0.          1.          0.        ]\n",
      " [ 0.55502392  0.00717703  0.43779904]]\n",
      "[ 0.  1.  0.]\n",
      "[ 0.55502392  0.00717703  0.43779904]\n",
      "it 68\n",
      "[[ -3.06112612e+01   1.67159480e+01   1.38953132e+01]\n",
      " [  8.50622248e-04  -7.11733267e-01   7.10882645e-01]\n",
      " [  3.84184004e-03   1.74270742e-01  -1.78112582e-01]] [[ 0.33333333  0.33333333  0.33333333]\n",
      " [ 0.          1.          0.        ]\n",
      " [ 0.55502392  0.00717703  0.43779904]] [ 0.  0.  1.]\n",
      "obs [[   0.    0.  232.]\n",
      " [   0.   82.    3.]\n",
      " [   0.    0.  183.]]\n",
      "full [   0.   82.  418.]\n",
      "obs [[ -1.00000000e+90  -1.00000000e+90   5.44673737e+00]\n",
      " [ -1.00000000e+90   4.40671925e+00   1.09861229e+00]\n",
      " [ -1.00000000e+90  -1.00000000e+90   5.20948615e+00]]\n",
      "full [ -1.00000000e+90   4.40671925e+00   6.03548143e+00]\n",
      "b1 [[ 1.          1.          1.        ]\n",
      " [ 0.          1.          0.        ]\n",
      " [ 0.55502392  0.00717703  0.43779904]]\n",
      "[ 1.  1.  1.]\n",
      "b1 [[ 1.          1.          1.        ]\n",
      " [ 0.          1.          0.        ]\n",
      " [ 0.55502392  0.00717703  0.43779904]]\n",
      "b2 [[ 0.33333333  0.33333333  0.33333333]\n",
      " [ 0.          1.          0.        ]\n",
      " [ 0.55502392  0.00717703  0.43779904]]\n",
      "[ 0.  1.  0.]\n",
      "[ 0.55502392  0.00717703  0.43779904]\n",
      "it 69\n",
      "[[ -3.10275476e+01   1.69153940e+01   1.41121536e+01]\n",
      " [  8.37721741e-04  -7.08480933e-01   7.07643212e-01]\n",
      " [  3.78292173e-03   1.73592174e-01  -1.77375095e-01]] [[ 0.33333333  0.33333333  0.33333333]\n",
      " [ 0.          1.          0.        ]\n",
      " [ 0.55502392  0.00717703  0.43779904]] [ 0.  0.  1.]\n",
      "obs [[   0.    0.  232.]\n",
      " [   0.   82.    3.]\n",
      " [   0.    0.  183.]]\n",
      "full [   0.   82.  418.]\n",
      "obs [[ -1.00000000e+90  -1.00000000e+90   5.44673737e+00]\n",
      " [ -1.00000000e+90   4.40671925e+00   1.09861229e+00]\n",
      " [ -1.00000000e+90  -1.00000000e+90   5.20948615e+00]]\n",
      "full [ -1.00000000e+90   4.40671925e+00   6.03548143e+00]\n",
      "b1 [[ 1.          1.          1.        ]\n",
      " [ 0.          1.          0.        ]\n",
      " [ 0.55502392  0.00717703  0.43779904]]\n",
      "[ 1.  1.  1.]\n",
      "b1 [[ 1.          1.          1.        ]\n",
      " [ 0.          1.          0.        ]\n",
      " [ 0.55502392  0.00717703  0.43779904]]\n",
      "b2 [[ 0.33333333  0.33333333  0.33333333]\n",
      " [ 0.          1.          0.        ]\n",
      " [ 0.55502392  0.00717703  0.43779904]]\n",
      "[ 0.  1.  0.]\n",
      "[ 0.55502392  0.00717703  0.43779904]\n",
      "it 70\n",
      "[[ -3.14437324e+01   1.71160503e+01   1.43276821e+01]\n",
      " [  8.25279587e-04  -7.05473460e-01   7.04648181e-01]\n",
      " [  3.72616628e-03   1.72965826e-01  -1.76691992e-01]] [[ 0.33333333  0.33333333  0.33333333]\n",
      " [ 0.          1.          0.        ]\n",
      " [ 0.55502392  0.00717703  0.43779904]] [ 0.  0.  1.]\n",
      "obs [[   0.    0.  232.]\n",
      " [   0.   82.    3.]\n",
      " [   0.    0.  183.]]\n",
      "full [   0.   82.  418.]\n",
      "obs [[ -1.00000000e+90  -1.00000000e+90   5.44673737e+00]\n",
      " [ -1.00000000e+90   4.40671925e+00   1.09861229e+00]\n",
      " [ -1.00000000e+90  -1.00000000e+90   5.20948615e+00]]\n",
      "full [ -1.00000000e+90   4.40671925e+00   6.03548143e+00]\n",
      "b1 [[ 1.          1.          1.        ]\n",
      " [ 0.          1.          0.        ]\n",
      " [ 0.55502392  0.00717703  0.43779904]]\n",
      "[ 1.  1.  1.]\n",
      "b1 [[ 1.          1.          1.        ]\n",
      " [ 0.          1.          0.        ]\n",
      " [ 0.55502392  0.00717703  0.43779904]]\n",
      "b2 [[ 0.33333333  0.33333333  0.33333333]\n",
      " [ 0.          1.          0.        ]\n",
      " [ 0.55502392  0.00717703  0.43779904]]\n",
      "[ 0.  1.  0.]\n",
      "[ 0.55502392  0.00717703  0.43779904]\n",
      "it 71\n",
      "[[ -3.18598164e+01   1.73178804e+01   1.45419359e+01]\n",
      " [  8.13271281e-04  -7.02694729e-01   7.01881458e-01]\n",
      " [  3.67144994e-03   1.72388272e-01  -1.76059722e-01]] [[ 0.33333333  0.33333333  0.33333333]\n",
      " [ 0.          1.          0.        ]\n",
      " [ 0.55502392  0.00717703  0.43779904]] [ 0.  0.  1.]\n",
      "obs [[   0.    0.  232.]\n",
      " [   0.   82.    3.]\n",
      " [   0.    0.  183.]]\n",
      "full [   0.   82.  418.]\n",
      "obs [[ -1.00000000e+90  -1.00000000e+90   5.44673737e+00]\n",
      " [ -1.00000000e+90   4.40671925e+00   1.09861229e+00]\n",
      " [ -1.00000000e+90  -1.00000000e+90   5.20948615e+00]]\n",
      "full [ -1.00000000e+90   4.40671925e+00   6.03548143e+00]\n",
      "b1 [[ 1.          1.          1.        ]\n",
      " [ 0.          1.          0.        ]\n",
      " [ 0.55502392  0.00717703  0.43779904]]\n",
      "[ 1.  1.  1.]\n",
      "b1 [[ 1.          1.          1.        ]\n",
      " [ 0.          1.          0.        ]\n",
      " [ 0.55502392  0.00717703  0.43779904]]\n",
      "b2 [[ 0.33333333  0.33333333  0.33333333]\n",
      " [ 0.          1.          0.        ]\n",
      " [ 0.55502392  0.00717703  0.43779904]]\n",
      "[ 0.  1.  0.]\n",
      "[ 0.55502392  0.00717703  0.43779904]\n",
      "it 72\n",
      "[[ -3.22758001e+01   1.75208439e+01   1.47549562e+01]\n",
      " [  8.01673696e-04  -7.00129342e-01   6.99327668e-01]\n",
      " [  3.61865697e-03   1.71856233e-01  -1.75474890e-01]] [[ 0.33333333  0.33333333  0.33333333]\n",
      " [ 0.          1.          0.        ]\n",
      " [ 0.55502392  0.00717703  0.43779904]] [ 0.  0.  1.]\n",
      "obs [[   0.    0.  232.]\n",
      " [   0.   82.    3.]\n",
      " [   0.    0.  183.]]\n",
      "full [   0.   82.  418.]\n",
      "obs [[ -1.00000000e+90  -1.00000000e+90   5.44673737e+00]\n",
      " [ -1.00000000e+90   4.40671925e+00   1.09861229e+00]\n",
      " [ -1.00000000e+90  -1.00000000e+90   5.20948615e+00]]\n",
      "full [ -1.00000000e+90   4.40671925e+00   6.03548143e+00]\n",
      "b1 [[ 1.          1.          1.        ]\n",
      " [ 0.          1.          0.        ]\n",
      " [ 0.55502392  0.00717703  0.43779904]]\n",
      "[ 1.  1.  1.]\n",
      "b1 [[ 1.          1.          1.        ]\n",
      " [ 0.          1.          0.        ]\n",
      " [ 0.55502392  0.00717703  0.43779904]]\n",
      "b2 [[ 0.33333333  0.33333333  0.33333333]\n",
      " [ 0.          1.          0.        ]\n",
      " [ 0.55502392  0.00717703  0.43779904]]\n",
      "[ 0.  1.  0.]\n",
      "[ 0.55502392  0.00717703  0.43779904]\n",
      "it 73\n",
      "[[ -3.26916843e+01   1.77248974e+01   1.49667868e+01]\n",
      " [  7.90465035e-04  -6.97762642e-01   6.96972177e-01]\n",
      " [  3.56767921e-03   1.71366584e-01  -1.74934263e-01]] [[ 0.33333333  0.33333333  0.33333333]\n",
      " [ 0.          1.          0.        ]\n",
      " [ 0.55502392  0.00717703  0.43779904]] [ 0.  0.  1.]\n",
      "obs [[   0.    0.  232.]\n",
      " [   0.   82.    3.]\n",
      " [   0.    0.  183.]]\n",
      "full [   0.   82.  418.]\n",
      "obs [[ -1.00000000e+90  -1.00000000e+90   5.44673737e+00]\n",
      " [ -1.00000000e+90   4.40671925e+00   1.09861229e+00]\n",
      " [ -1.00000000e+90  -1.00000000e+90   5.20948615e+00]]\n",
      "full [ -1.00000000e+90   4.40671925e+00   6.03548143e+00]\n",
      "b1 [[ 1.          1.          1.        ]\n",
      " [ 0.          1.          0.        ]\n",
      " [ 0.55502392  0.00717703  0.43779904]]\n",
      "[ 1.  1.  1.]\n",
      "b1 [[ 1.          1.          1.        ]\n",
      " [ 0.          1.          0.        ]\n",
      " [ 0.55502392  0.00717703  0.43779904]]\n",
      "b2 [[ 0.33333333  0.33333333  0.33333333]\n",
      " [ 0.          1.          0.        ]\n",
      " [ 0.55502392  0.00717703  0.43779904]]\n",
      "[ 0.  1.  0.]\n",
      "[ 0.55502392  0.00717703  0.43779904]\n",
      "it 74\n",
      "[[ -3.31074695e+01   1.79299959e+01   1.51774736e+01]\n",
      " [  7.79624780e-04  -6.95580723e-01   6.94801098e-01]\n",
      " [  3.51841561e-03   1.70916358e-01  -1.74434773e-01]] [[ 0.33333333  0.33333333  0.33333333]\n",
      " [ 0.          1.          0.        ]\n",
      " [ 0.55502392  0.00717703  0.43779904]] [ 0.  0.  1.]\n",
      "obs [[   0.    0.  232.]\n",
      " [   0.   82.    3.]\n",
      " [   0.    0.  183.]]\n",
      "full [   0.   82.  418.]\n",
      "obs [[ -1.00000000e+90  -1.00000000e+90   5.44673737e+00]\n",
      " [ -1.00000000e+90   4.40671925e+00   1.09861229e+00]\n",
      " [ -1.00000000e+90  -1.00000000e+90   5.20948615e+00]]\n",
      "full [ -1.00000000e+90   4.40671925e+00   6.03548143e+00]\n",
      "b1 [[ 1.          1.          1.        ]\n",
      " [ 0.          1.          0.        ]\n",
      " [ 0.55502392  0.00717703  0.43779904]]\n",
      "[ 1.  1.  1.]\n",
      "b1 [[ 1.          1.          1.        ]\n",
      " [ 0.          1.          0.        ]\n",
      " [ 0.55502392  0.00717703  0.43779904]]\n",
      "b2 [[ 0.33333333  0.33333333  0.33333333]\n",
      " [ 0.          1.          0.        ]\n",
      " [ 0.55502392  0.00717703  0.43779904]]\n",
      "[ 0.  1.  0.]\n",
      "[ 0.55502392  0.00717703  0.43779904]\n",
      "it 75\n",
      "[[ -3.35231564e+01   1.81360927e+01   1.53870636e+01]\n",
      " [  7.69133632e-04  -6.93570431e-01   6.92801297e-01]\n",
      " [  3.47077184e-03   1.70502744e-01  -1.73973515e-01]] [[ 0.33333333  0.33333333  0.33333333]\n",
      " [ 0.          1.          0.        ]\n",
      " [ 0.55502392  0.00717703  0.43779904]] [ 0.  0.  1.]\n",
      "obs [[   0.    0.  232.]\n",
      " [   0.   82.    3.]\n",
      " [   0.    0.  183.]]\n",
      "full [   0.   82.  418.]\n",
      "obs [[ -1.00000000e+90  -1.00000000e+90   5.44673737e+00]\n",
      " [ -1.00000000e+90   4.40671925e+00   1.09861229e+00]\n",
      " [ -1.00000000e+90  -1.00000000e+90   5.20948615e+00]]\n",
      "full [ -1.00000000e+90   4.40671925e+00   6.03548143e+00]\n",
      "b1 [[ 1.          1.          1.        ]\n",
      " [ 0.          1.          0.        ]\n",
      " [ 0.55502392  0.00717703  0.43779904]]\n",
      "[ 1.  1.  1.]\n",
      "b1 [[ 1.          1.          1.        ]\n",
      " [ 0.          1.          0.        ]\n",
      " [ 0.55502392  0.00717703  0.43779904]]\n",
      "b2 [[ 0.33333333  0.33333333  0.33333333]\n",
      " [ 0.          1.          0.        ]\n",
      " [ 0.55502392  0.00717703  0.43779904]]\n",
      "[ 0.  1.  0.]\n",
      "[ 0.55502392  0.00717703  0.43779904]\n",
      "it 76\n",
      "[[ -3.39387456e+01   1.83431405e+01   1.55956051e+01]\n",
      " [  7.58973460e-04  -6.91719357e-01   6.90960383e-01]\n",
      " [  3.42465983e-03   1.70123089e-01  -1.73547748e-01]] [[ 0.33333333  0.33333333  0.33333333]\n",
      " [ 0.          1.          0.        ]\n",
      " [ 0.55502392  0.00717703  0.43779904]] [ 0.  0.  1.]\n",
      "obs [[   0.    0.  232.]\n",
      " [   0.   82.    3.]\n",
      " [   0.    0.  183.]]\n",
      "full [   0.   82.  418.]\n",
      "obs [[ -1.00000000e+90  -1.00000000e+90   5.44673737e+00]\n",
      " [ -1.00000000e+90   4.40671925e+00   1.09861229e+00]\n",
      " [ -1.00000000e+90  -1.00000000e+90   5.20948615e+00]]\n",
      "full [ -1.00000000e+90   4.40671925e+00   6.03548143e+00]\n",
      "b1 [[ 1.          1.          1.        ]\n",
      " [ 0.          1.          0.        ]\n",
      " [ 0.55502392  0.00717703  0.43779904]]\n",
      "[ 1.  1.  1.]\n",
      "b1 [[ 1.          1.          1.        ]\n",
      " [ 0.          1.          0.        ]\n",
      " [ 0.55502392  0.00717703  0.43779904]]\n",
      "b2 [[ 0.33333333  0.33333333  0.33333333]\n",
      " [ 0.          1.          0.        ]\n",
      " [ 0.55502392  0.00717703  0.43779904]]\n",
      "[ 0.  1.  0.]\n",
      "[ 0.55502392  0.00717703  0.43779904]\n",
      "it 77\n",
      "[[ -3.43542379e+01   1.85510916e+01   1.58031463e+01]\n",
      " [  7.49127240e-04  -6.90015824e-01   6.89266697e-01]\n",
      " [  3.37999741e-03   1.69774894e-01  -1.73154892e-01]] [[ 0.33333333  0.33333333  0.33333333]\n",
      " [ 0.          1.          0.        ]\n",
      " [ 0.55502392  0.00717703  0.43779904]] [ 0.  0.  1.]\n",
      "obs [[   0.    0.  232.]\n",
      " [   0.   82.    3.]\n",
      " [   0.    0.  183.]]\n",
      "full [   0.   82.  418.]\n",
      "obs [[ -1.00000000e+90  -1.00000000e+90   5.44673737e+00]\n",
      " [ -1.00000000e+90   4.40671925e+00   1.09861229e+00]\n",
      " [ -1.00000000e+90  -1.00000000e+90   5.20948615e+00]]\n",
      "full [ -1.00000000e+90   4.40671925e+00   6.03548143e+00]\n",
      "b1 [[ 1.          1.          1.        ]\n",
      " [ 0.          1.          0.        ]\n",
      " [ 0.55502392  0.00717703  0.43779904]]\n",
      "[ 1.  1.  1.]\n",
      "b1 [[ 1.          1.          1.        ]\n",
      " [ 0.          1.          0.        ]\n",
      " [ 0.55502392  0.00717703  0.43779904]]\n",
      "b2 [[ 0.33333333  0.33333333  0.33333333]\n",
      " [ 0.          1.          0.        ]\n",
      " [ 0.55502392  0.00717703  0.43779904]]\n",
      "[ 0.  1.  0.]\n",
      "[ 0.55502392  0.00717703  0.43779904]\n",
      "it 78\n",
      "[[ -3.47696339e+01   1.87598985e+01   1.60097354e+01]\n",
      " [  7.39578998e-04  -6.88448872e-01   6.87709293e-01]\n",
      " [  3.33670792e-03   1.69455814e-01  -1.72792522e-01]] [[ 0.33333333  0.33333333  0.33333333]\n",
      " [ 0.          1.          0.        ]\n",
      " [ 0.55502392  0.00717703  0.43779904]] [ 0.  0.  1.]\n",
      "obs [[   0.    0.  232.]\n",
      " [   0.   82.    3.]\n",
      " [   0.    0.  183.]]\n",
      "full [   0.   82.  418.]\n",
      "obs [[ -1.00000000e+90  -1.00000000e+90   5.44673737e+00]\n",
      " [ -1.00000000e+90   4.40671925e+00   1.09861229e+00]\n",
      " [ -1.00000000e+90  -1.00000000e+90   5.20948615e+00]]\n",
      "full [ -1.00000000e+90   4.40671925e+00   6.03548143e+00]\n",
      "b1 [[ 1.          1.          1.        ]\n",
      " [ 0.          1.          0.        ]\n",
      " [ 0.55502392  0.00717703  0.43779904]]\n",
      "[ 1.  1.  1.]\n",
      "b1 [[ 1.          1.          1.        ]\n",
      " [ 0.          1.          0.        ]\n",
      " [ 0.55502392  0.00717703  0.43779904]]\n",
      "b2 [[ 0.33333333  0.33333333  0.33333333]\n",
      " [ 0.          1.          0.        ]\n",
      " [ 0.55502392  0.00717703  0.43779904]]\n",
      "[ 0.  1.  0.]\n",
      "[ 0.55502392  0.00717703  0.43779904]\n",
      "it 79\n",
      "[[ -3.51849345e+01   1.89695144e+01   1.62154201e+01]\n",
      " [  7.30313754e-04  -6.87008232e-01   6.86277919e-01]\n",
      " [  3.29471981e-03   1.69163647e-01  -1.72458367e-01]] [[ 0.33333333  0.33333333  0.33333333]\n",
      " [ 0.          1.          0.        ]\n",
      " [ 0.55502392  0.00717703  0.43779904]] [ 0.  0.  1.]\n",
      "obs [[   0.    0.  232.]\n",
      " [   0.   82.    3.]\n",
      " [   0.    0.  183.]]\n",
      "full [   0.   82.  418.]\n",
      "obs [[ -1.00000000e+90  -1.00000000e+90   5.44673737e+00]\n",
      " [ -1.00000000e+90   4.40671925e+00   1.09861229e+00]\n",
      " [ -1.00000000e+90  -1.00000000e+90   5.20948615e+00]]\n",
      "full [ -1.00000000e+90   4.40671925e+00   6.03548143e+00]\n",
      "b1 [[ 1.          1.          1.        ]\n",
      " [ 0.          1.          0.        ]\n",
      " [ 0.55502392  0.00717703  0.43779904]]\n",
      "[ 1.  1.  1.]\n",
      "b1 [[ 1.          1.          1.        ]\n",
      " [ 0.          1.          0.        ]\n",
      " [ 0.55502392  0.00717703  0.43779904]]\n",
      "b2 [[ 0.33333333  0.33333333  0.33333333]\n",
      " [ 0.          1.          0.        ]\n",
      " [ 0.55502392  0.00717703  0.43779904]]\n",
      "[ 0.  1.  0.]\n",
      "[ 0.55502392  0.00717703  0.43779904]\n",
      "it 80\n",
      "[[ -3.56001404e+01   1.91798931e+01   1.64202473e+01]\n",
      " [  7.21317463e-04  -6.85684307e-01   6.84962989e-01]\n",
      " [  3.25396635e-03   1.68896337e-01  -1.72150303e-01]] [[ 0.33333333  0.33333333  0.33333333]\n",
      " [ 0.          1.          0.        ]\n",
      " [ 0.55502392  0.00717703  0.43779904]] [ 0.  0.  1.]\n",
      "obs [[   0.    0.  232.]\n",
      " [   0.   82.    3.]\n",
      " [   0.    0.  183.]]\n",
      "full [   0.   82.  418.]\n",
      "obs [[ -1.00000000e+90  -1.00000000e+90   5.44673737e+00]\n",
      " [ -1.00000000e+90   4.40671925e+00   1.09861229e+00]\n",
      " [ -1.00000000e+90  -1.00000000e+90   5.20948615e+00]]\n",
      "full [ -1.00000000e+90   4.40671925e+00   6.03548143e+00]\n",
      "b1 [[ 1.          1.          1.        ]\n",
      " [ 0.          1.          0.        ]\n",
      " [ 0.55502392  0.00717703  0.43779904]]\n",
      "[ 1.  1.  1.]\n",
      "b1 [[ 1.          1.          1.        ]\n",
      " [ 0.          1.          0.        ]\n",
      " [ 0.55502392  0.00717703  0.43779904]]\n",
      "b2 [[ 0.33333333  0.33333333  0.33333333]\n",
      " [ 0.          1.          0.        ]\n",
      " [ 0.55502392  0.00717703  0.43779904]]\n",
      "[ 0.  1.  0.]\n",
      "[ 0.55502392  0.00717703  0.43779904]\n",
      "it 81\n",
      "[[ -3.60152525e+01   1.93909898e+01   1.66242627e+01]\n",
      " [  7.12576959e-04  -6.84468136e-01   6.83755559e-01]\n",
      " [  3.21438524e-03   1.68651961e-01  -1.71866347e-01]] [[ 0.33333333  0.33333333  0.33333333]\n",
      " [ 0.          1.          0.        ]\n",
      " [ 0.55502392  0.00717703  0.43779904]] [ 0.  0.  1.]\n",
      "obs [[   0.    0.  232.]\n",
      " [   0.   82.    3.]\n",
      " [   0.    0.  183.]]\n",
      "full [   0.   82.  418.]\n",
      "obs [[ -1.00000000e+90  -1.00000000e+90   5.44673737e+00]\n",
      " [ -1.00000000e+90   4.40671925e+00   1.09861229e+00]\n",
      " [ -1.00000000e+90  -1.00000000e+90   5.20948615e+00]]\n",
      "full [ -1.00000000e+90   4.40671925e+00   6.03548143e+00]\n",
      "b1 [[ 1.          1.          1.        ]\n",
      " [ 0.          1.          0.        ]\n",
      " [ 0.55502392  0.00717703  0.43779904]]\n",
      "[ 1.  1.  1.]\n",
      "b1 [[ 1.          1.          1.        ]\n",
      " [ 0.          1.          0.        ]\n",
      " [ 0.55502392  0.00717703  0.43779904]]\n",
      "b2 [[ 0.33333333  0.33333333  0.33333333]\n",
      " [ 0.          1.          0.        ]\n",
      " [ 0.55502392  0.00717703  0.43779904]]\n",
      "[ 0.  1.  0.]\n",
      "[ 0.55502392  0.00717703  0.43779904]\n",
      "it 82\n",
      "[[ -3.64302716e+01   1.96027607e+01   1.68275109e+01]\n",
      " [  7.04079906e-04  -6.83351375e-01   6.82647295e-01]\n",
      " [  3.17591834e-03   1.68428731e-01  -1.71604649e-01]] [[ 0.33333333  0.33333333  0.33333333]\n",
      " [ 0.          1.          0.        ]\n",
      " [ 0.55502392  0.00717703  0.43779904]] [ 0.  0.  1.]\n",
      "obs [[   0.    0.  232.]\n",
      " [   0.   82.    3.]\n",
      " [   0.    0.  183.]]\n",
      "full [   0.   82.  418.]\n",
      "obs [[ -1.00000000e+90  -1.00000000e+90   5.44673737e+00]\n",
      " [ -1.00000000e+90   4.40671925e+00   1.09861229e+00]\n",
      " [ -1.00000000e+90  -1.00000000e+90   5.20948615e+00]]\n",
      "full [ -1.00000000e+90   4.40671925e+00   6.03548143e+00]\n",
      "b1 [[ 1.          1.          1.        ]\n",
      " [ 0.          1.          0.        ]\n",
      " [ 0.55502392  0.00717703  0.43779904]]\n",
      "[ 1.  1.  1.]\n",
      "b1 [[ 1.          1.          1.        ]\n",
      " [ 0.          1.          0.        ]\n",
      " [ 0.55502392  0.00717703  0.43779904]]\n",
      "b2 [[ 0.33333333  0.33333333  0.33333333]\n",
      " [ 0.          1.          0.        ]\n",
      " [ 0.55502392  0.00717703  0.43779904]]\n",
      "[ 0.  1.  0.]\n",
      "[ 0.55502392  0.00717703  0.43779904]\n",
      "it 83\n",
      "[[ -3.68451987e+01   1.98151637e+01   1.70300350e+01]\n",
      " [  6.95814740e-04  -6.82326260e-01   6.81630445e-01]\n",
      " [  3.13851136e-03   1.68224979e-01  -1.71363490e-01]] [[ 0.33333333  0.33333333  0.33333333]\n",
      " [ 0.          1.          0.        ]\n",
      " [ 0.55502392  0.00717703  0.43779904]] [ 0.  0.  1.]\n",
      "obs [[   0.    0.  232.]\n",
      " [   0.   82.    3.]\n",
      " [   0.    0.  183.]]\n",
      "full [   0.   82.  418.]\n",
      "obs [[ -1.00000000e+90  -1.00000000e+90   5.44673737e+00]\n",
      " [ -1.00000000e+90   4.40671925e+00   1.09861229e+00]\n",
      " [ -1.00000000e+90  -1.00000000e+90   5.20948615e+00]]\n",
      "full [ -1.00000000e+90   4.40671925e+00   6.03548143e+00]\n",
      "b1 [[ 1.          1.          1.        ]\n",
      " [ 0.          1.          0.        ]\n",
      " [ 0.55502392  0.00717703  0.43779904]]\n",
      "[ 1.  1.  1.]\n",
      "b1 [[ 1.          1.          1.        ]\n",
      " [ 0.          1.          0.        ]\n",
      " [ 0.55502392  0.00717703  0.43779904]]\n",
      "b2 [[ 0.33333333  0.33333333  0.33333333]\n",
      " [ 0.          1.          0.        ]\n",
      " [ 0.55502392  0.00717703  0.43779904]]\n",
      "[ 0.  1.  0.]\n",
      "[ 0.55502392  0.00717703  0.43779904]\n",
      "it 84\n",
      "[[ -3.72600346e+01   2.00281581e+01   1.72318765e+01]\n",
      " [  6.87770624e-04  -6.81385578e-01   6.80697807e-01]\n",
      " [  3.10211358e-03   1.68039157e-01  -1.71141271e-01]] [[ 0.33333333  0.33333333  0.33333333]\n",
      " [ 0.          1.          0.        ]\n",
      " [ 0.55502392  0.00717703  0.43779904]] [ 0.  0.  1.]\n",
      "obs [[   0.    0.  232.]\n",
      " [   0.   82.    3.]\n",
      " [   0.    0.  183.]]\n",
      "full [   0.   82.  418.]\n",
      "obs [[ -1.00000000e+90  -1.00000000e+90   5.44673737e+00]\n",
      " [ -1.00000000e+90   4.40671925e+00   1.09861229e+00]\n",
      " [ -1.00000000e+90  -1.00000000e+90   5.20948615e+00]]\n",
      "full [ -1.00000000e+90   4.40671925e+00   6.03548143e+00]\n",
      "b1 [[ 1.          1.          1.        ]\n",
      " [ 0.          1.          0.        ]\n",
      " [ 0.55502392  0.00717703  0.43779904]]\n",
      "[ 1.  1.  1.]\n",
      "b1 [[ 1.          1.          1.        ]\n",
      " [ 0.          1.          0.        ]\n",
      " [ 0.55502392  0.00717703  0.43779904]]\n",
      "b2 [[ 0.33333333  0.33333333  0.33333333]\n",
      " [ 0.          1.          0.        ]\n",
      " [ 0.55502392  0.00717703  0.43779904]]\n",
      "[ 0.  1.  0.]\n",
      "[ 0.55502392  0.00717703  0.43779904]\n",
      "it 85\n",
      "[[ -3.76747803e+01   2.02417051e+01   1.74330752e+01]\n",
      " [  6.79937397e-04  -6.80522639e-01   6.79842702e-01]\n",
      " [  3.06667759e-03   1.67869829e-01  -1.70936507e-01]] [[ 0.33333333  0.33333333  0.33333333]\n",
      " [ 0.          1.          0.        ]\n",
      " [ 0.55502392  0.00717703  0.43779904]] [ 0.  0.  1.]\n",
      "obs [[   0.    0.  232.]\n",
      " [   0.   82.    3.]\n",
      " [   0.    0.  183.]]\n",
      "full [   0.   82.  418.]\n",
      "obs [[ -1.00000000e+90  -1.00000000e+90   5.44673737e+00]\n",
      " [ -1.00000000e+90   4.40671925e+00   1.09861229e+00]\n",
      " [ -1.00000000e+90  -1.00000000e+90   5.20948615e+00]]\n",
      "full [ -1.00000000e+90   4.40671925e+00   6.03548143e+00]\n",
      "b1 [[ 1.          1.          1.        ]\n",
      " [ 0.          1.          0.        ]\n",
      " [ 0.55502392  0.00717703  0.43779904]]\n",
      "[ 1.  1.  1.]\n",
      "b1 [[ 1.          1.          1.        ]\n",
      " [ 0.          1.          0.        ]\n",
      " [ 0.55502392  0.00717703  0.43779904]]\n",
      "b2 [[ 0.33333333  0.33333333  0.33333333]\n",
      " [ 0.          1.          0.        ]\n",
      " [ 0.55502392  0.00717703  0.43779904]]\n",
      "[ 0.  1.  0.]\n",
      "[ 0.55502392  0.00717703  0.43779904]\n",
      "it 86\n",
      "[[ -3.80894369e+01   2.04557675e+01   1.76336695e+01]\n",
      " [  6.72305534e-04  -6.79731243e-01   6.79058937e-01]\n",
      " [  3.03215908e-03   1.67715665e-01  -1.70747824e-01]] [[ 0.33333333  0.33333333  0.33333333]\n",
      " [ 0.          1.          0.        ]\n",
      " [ 0.55502392  0.00717703  0.43779904]] [ 0.  0.  1.]\n",
      "obs [[   0.    0.  232.]\n",
      " [   0.   82.    3.]\n",
      " [   0.    0.  183.]]\n",
      "full [   0.   82.  418.]\n",
      "obs [[ -1.00000000e+90  -1.00000000e+90   5.44673737e+00]\n",
      " [ -1.00000000e+90   4.40671925e+00   1.09861229e+00]\n",
      " [ -1.00000000e+90  -1.00000000e+90   5.20948615e+00]]\n",
      "full [ -1.00000000e+90   4.40671925e+00   6.03548143e+00]\n",
      "b1 [[ 1.          1.          1.        ]\n",
      " [ 0.          1.          0.        ]\n",
      " [ 0.55502392  0.00717703  0.43779904]]\n",
      "[ 1.  1.  1.]\n",
      "b1 [[ 1.          1.          1.        ]\n",
      " [ 0.          1.          0.        ]\n",
      " [ 0.55502392  0.00717703  0.43779904]]\n",
      "b2 [[ 0.33333333  0.33333333  0.33333333]\n",
      " [ 0.          1.          0.        ]\n",
      " [ 0.55502392  0.00717703  0.43779904]]\n",
      "[ 0.  1.  0.]\n",
      "[ 0.55502392  0.00717703  0.43779904]\n",
      "it 87\n",
      "[[ -3.85040054e+01   2.06703097e+01   1.78336957e+01]\n",
      " [  6.64866095e-04  -6.79005650e-01   6.78340784e-01]\n",
      " [  2.99851657e-03   1.67575431e-01  -1.70573947e-01]] [[ 0.33333333  0.33333333  0.33333333]\n",
      " [ 0.          1.          0.        ]\n",
      " [ 0.55502392  0.00717703  0.43779904]] [ 0.  0.  1.]\n",
      "obs [[   0.    0.  232.]\n",
      " [   0.   82.    3.]\n",
      " [   0.    0.  183.]]\n",
      "full [   0.   82.  418.]\n",
      "obs [[ -1.00000000e+90  -1.00000000e+90   5.44673737e+00]\n",
      " [ -1.00000000e+90   4.40671925e+00   1.09861229e+00]\n",
      " [ -1.00000000e+90  -1.00000000e+90   5.20948615e+00]]\n",
      "full [ -1.00000000e+90   4.40671925e+00   6.03548143e+00]\n",
      "b1 [[ 1.          1.          1.        ]\n",
      " [ 0.          1.          0.        ]\n",
      " [ 0.55502392  0.00717703  0.43779904]]\n",
      "[ 1.  1.  1.]\n",
      "b1 [[ 1.          1.          1.        ]\n",
      " [ 0.          1.          0.        ]\n",
      " [ 0.55502392  0.00717703  0.43779904]]\n",
      "b2 [[ 0.33333333  0.33333333  0.33333333]\n",
      " [ 0.          1.          0.        ]\n",
      " [ 0.55502392  0.00717703  0.43779904]]\n",
      "[ 0.  1.  0.]\n",
      "[ 0.55502392  0.00717703  0.43779904]\n",
      "it 88\n",
      "[[ -3.89184868e+01   2.08852982e+01   1.80331886e+01]\n",
      " [  6.57610695e-04  -6.78340555e-01   6.77682944e-01]\n",
      " [  2.96571123e-03   1.67447987e-01  -1.70413698e-01]] [[ 0.33333333  0.33333333  0.33333333]\n",
      " [ 0.          1.          0.        ]\n",
      " [ 0.55502392  0.00717703  0.43779904]] [ 0.  0.  1.]\n",
      "obs [[   0.    0.  232.]\n",
      " [   0.   82.    3.]\n",
      " [   0.    0.  183.]]\n",
      "full [   0.   82.  418.]\n",
      "obs [[ -1.00000000e+90  -1.00000000e+90   5.44673737e+00]\n",
      " [ -1.00000000e+90   4.40671925e+00   1.09861229e+00]\n",
      " [ -1.00000000e+90  -1.00000000e+90   5.20948615e+00]]\n",
      "full [ -1.00000000e+90   4.40671925e+00   6.03548143e+00]\n",
      "b1 [[ 1.          1.          1.        ]\n",
      " [ 0.          1.          0.        ]\n",
      " [ 0.55502392  0.00717703  0.43779904]]\n",
      "[ 1.  1.  1.]\n",
      "b1 [[ 1.          1.          1.        ]\n",
      " [ 0.          1.          0.        ]\n",
      " [ 0.55502392  0.00717703  0.43779904]]\n",
      "b2 [[ 0.33333333  0.33333333  0.33333333]\n",
      " [ 0.          1.          0.        ]\n",
      " [ 0.55502392  0.00717703  0.43779904]]\n",
      "[ 0.  1.  0.]\n",
      "[ 0.55502392  0.00717703  0.43779904]\n",
      "it 89\n",
      "[[ -3.93328821e+01   2.11007010e+01   1.82321811e+01]\n",
      " [  6.50531457e-04  -6.77731053e-01   6.77080521e-01]\n",
      " [  2.93370669e-03   1.67332282e-01  -1.70265988e-01]] [[ 0.33333333  0.33333333  0.33333333]\n",
      " [ 0.          1.          0.        ]\n",
      " [ 0.55502392  0.00717703  0.43779904]] [ 0.  0.  1.]\n",
      "obs [[   0.    0.  232.]\n",
      " [   0.   82.    3.]\n",
      " [   0.    0.  183.]]\n",
      "full [   0.   82.  418.]\n",
      "obs [[ -1.00000000e+90  -1.00000000e+90   5.44673737e+00]\n",
      " [ -1.00000000e+90   4.40671925e+00   1.09861229e+00]\n",
      " [ -1.00000000e+90  -1.00000000e+90   5.20948615e+00]]\n",
      "full [ -1.00000000e+90   4.40671925e+00   6.03548143e+00]\n",
      "b1 [[ 1.          1.          1.        ]\n",
      " [ 0.          1.          0.        ]\n",
      " [ 0.55502392  0.00717703  0.43779904]]\n",
      "[ 1.  1.  1.]\n",
      "b1 [[ 1.          1.          1.        ]\n",
      " [ 0.          1.          0.        ]\n",
      " [ 0.55502392  0.00717703  0.43779904]]\n",
      "b2 [[ 0.33333333  0.33333333  0.33333333]\n",
      " [ 0.          1.          0.        ]\n",
      " [ 0.55502392  0.00717703  0.43779904]]\n",
      "[ 0.  1.  0.]\n",
      "[ 0.55502392  0.00717703  0.43779904]\n",
      "it 90\n",
      "[[ -3.97471925e+01   2.13164879e+01   1.84307046e+01]\n",
      " [  6.43620984e-04  -6.77172618e-01   6.76528997e-01]\n",
      " [  2.90246882e-03   1.67227343e-01  -1.70129812e-01]] [[ 0.33333333  0.33333333  0.33333333]\n",
      " [ 0.          1.          0.        ]\n",
      " [ 0.55502392  0.00717703  0.43779904]] [ 0.  0.  1.]\n",
      "obs [[   0.    0.  232.]\n",
      " [   0.   82.    3.]\n",
      " [   0.    0.  183.]]\n",
      "full [   0.   82.  418.]\n",
      "obs [[ -1.00000000e+90  -1.00000000e+90   5.44673737e+00]\n",
      " [ -1.00000000e+90   4.40671925e+00   1.09861229e+00]\n",
      " [ -1.00000000e+90  -1.00000000e+90   5.20948615e+00]]\n",
      "full [ -1.00000000e+90   4.40671925e+00   6.03548143e+00]\n",
      "b1 [[ 1.          1.          1.        ]\n",
      " [ 0.          1.          0.        ]\n",
      " [ 0.55502392  0.00717703  0.43779904]]\n",
      "[ 1.  1.  1.]\n",
      "b1 [[ 1.          1.          1.        ]\n",
      " [ 0.          1.          0.        ]\n",
      " [ 0.55502392  0.00717703  0.43779904]]\n",
      "b2 [[ 0.33333333  0.33333333  0.33333333]\n",
      " [ 0.          1.          0.        ]\n",
      " [ 0.55502392  0.00717703  0.43779904]]\n",
      "[ 0.  1.  0.]\n",
      "[ 0.55502392  0.00717703  0.43779904]\n",
      "it 91\n",
      "[[ -4.01614191e+01   2.15326304e+01   1.86287887e+01]\n",
      " [  6.36872319e-04  -6.76661076e-01   6.76024204e-01]\n",
      " [  2.87196562e-03   1.67132274e-01  -1.70004239e-01]] [[ 0.33333333  0.33333333  0.33333333]\n",
      " [ 0.          1.          0.        ]\n",
      " [ 0.55502392  0.00717703  0.43779904]] [ 0.  0.  1.]\n",
      "obs [[   0.    0.  232.]\n",
      " [   0.   82.    3.]\n",
      " [   0.    0.  183.]]\n",
      "full [   0.   82.  418.]\n",
      "obs [[ -1.00000000e+90  -1.00000000e+90   5.44673737e+00]\n",
      " [ -1.00000000e+90   4.40671925e+00   1.09861229e+00]\n",
      " [ -1.00000000e+90  -1.00000000e+90   5.20948615e+00]]\n",
      "full [ -1.00000000e+90   4.40671925e+00   6.03548143e+00]\n",
      "b1 [[ 1.          1.          1.        ]\n",
      " [ 0.          1.          0.        ]\n",
      " [ 0.55502392  0.00717703  0.43779904]]\n",
      "[ 1.  1.  1.]\n",
      "b1 [[ 1.          1.          1.        ]\n",
      " [ 0.          1.          0.        ]\n",
      " [ 0.55502392  0.00717703  0.43779904]]\n",
      "b2 [[ 0.33333333  0.33333333  0.33333333]\n",
      " [ 0.          1.          0.        ]\n",
      " [ 0.55502392  0.00717703  0.43779904]]\n",
      "[ 0.  1.  0.]\n",
      "[ 0.55502392  0.00717703  0.43779904]\n",
      "it 92\n",
      "[[ -4.05755629e+01   2.17491017e+01   1.88264612e+01]\n",
      " [  6.30278919e-04  -6.76192580e-01   6.75562301e-01]\n",
      " [  2.84216702e-03   1.67046249e-01  -1.69888416e-01]] [[ 0.33333333  0.33333333  0.33333333]\n",
      " [ 0.          1.          0.        ]\n",
      " [ 0.55502392  0.00717703  0.43779904]] [ 0.  0.  1.]\n",
      "obs [[   0.    0.  232.]\n",
      " [   0.   82.    3.]\n",
      " [   0.    0.  183.]]\n",
      "full [   0.   82.  418.]\n",
      "obs [[ -1.00000000e+90  -1.00000000e+90   5.44673737e+00]\n",
      " [ -1.00000000e+90   4.40671925e+00   1.09861229e+00]\n",
      " [ -1.00000000e+90  -1.00000000e+90   5.20948615e+00]]\n",
      "full [ -1.00000000e+90   4.40671925e+00   6.03548143e+00]\n",
      "b1 [[ 1.          1.          1.        ]\n",
      " [ 0.          1.          0.        ]\n",
      " [ 0.55502392  0.00717703  0.43779904]]\n",
      "[ 1.  1.  1.]\n",
      "b1 [[ 1.          1.          1.        ]\n",
      " [ 0.          1.          0.        ]\n",
      " [ 0.55502392  0.00717703  0.43779904]]\n",
      "b2 [[ 0.33333333  0.33333333  0.33333333]\n",
      " [ 0.          1.          0.        ]\n",
      " [ 0.55502392  0.00717703  0.43779904]]\n",
      "[ 0.  1.  0.]\n",
      "[ 0.55502392  0.00717703  0.43779904]\n",
      "it 93\n",
      "[[ -4.09896251e+01   2.19658765e+01   1.90237486e+01]\n",
      " [  6.23834625e-04  -6.75763583e-01   6.75139749e-01]\n",
      " [  2.81304475e-03   1.66968507e-01  -1.69781552e-01]] [[ 0.33333333  0.33333333  0.33333333]\n",
      " [ 0.          1.          0.        ]\n",
      " [ 0.55502392  0.00717703  0.43779904]] [ 0.  0.  1.]\n",
      "obs [[   0.    0.  232.]\n",
      " [   0.   82.    3.]\n",
      " [   0.    0.  183.]]\n",
      "full [   0.   82.  418.]\n",
      "obs [[ -1.00000000e+90  -1.00000000e+90   5.44673737e+00]\n",
      " [ -1.00000000e+90   4.40671925e+00   1.09861229e+00]\n",
      " [ -1.00000000e+90  -1.00000000e+90   5.20948615e+00]]\n",
      "full [ -1.00000000e+90   4.40671925e+00   6.03548143e+00]\n",
      "b1 [[ 1.          1.          1.        ]\n",
      " [ 0.          1.          0.        ]\n",
      " [ 0.55502392  0.00717703  0.43779904]]\n",
      "[ 1.  1.  1.]\n",
      "b1 [[ 1.          1.          1.        ]\n",
      " [ 0.          1.          0.        ]\n",
      " [ 0.55502392  0.00717703  0.43779904]]\n",
      "b2 [[ 0.33333333  0.33333333  0.33333333]\n",
      " [ 0.          1.          0.        ]\n",
      " [ 0.55502392  0.00717703  0.43779904]]\n",
      "[ 0.  1.  0.]\n",
      "[ 0.55502392  0.00717703  0.43779904]\n",
      "it 94\n",
      "[[ -4.14036068e+01   2.21829310e+01   1.92206757e+01]\n",
      " [  6.17533632e-04  -6.75370824e-01   6.74753290e-01]\n",
      " [  2.78457223e-03   1.66898349e-01  -1.69682921e-01]] [[ 0.33333333  0.33333333  0.33333333]\n",
      " [ 0.          1.          0.        ]\n",
      " [ 0.55502392  0.00717703  0.43779904]] [ 0.  0.  1.]\n",
      "obs [[   0.    0.  232.]\n",
      " [   0.   82.    3.]\n",
      " [   0.    0.  183.]]\n",
      "full [   0.   82.  418.]\n",
      "obs [[ -1.00000000e+90  -1.00000000e+90   5.44673737e+00]\n",
      " [ -1.00000000e+90   4.40671925e+00   1.09861229e+00]\n",
      " [ -1.00000000e+90  -1.00000000e+90   5.20948615e+00]]\n",
      "full [ -1.00000000e+90   4.40671925e+00   6.03548143e+00]\n",
      "b1 [[ 1.          1.          1.        ]\n",
      " [ 0.          1.          0.        ]\n",
      " [ 0.55502392  0.00717703  0.43779904]]\n",
      "[ 1.  1.  1.]\n",
      "b1 [[ 1.          1.          1.        ]\n",
      " [ 0.          1.          0.        ]\n",
      " [ 0.55502392  0.00717703  0.43779904]]\n",
      "b2 [[ 0.33333333  0.33333333  0.33333333]\n",
      " [ 0.          1.          0.        ]\n",
      " [ 0.55502392  0.00717703  0.43779904]]\n",
      "[ 0.  1.  0.]\n",
      "[ 0.55502392  0.00717703  0.43779904]\n",
      "it 95\n",
      "[[ -4.18175090e+01   2.24002432e+01   1.94172658e+01]\n",
      " [  6.11370470e-04  -6.75011299e-01   6.74399929e-01]\n",
      " [  2.75672440e-03   1.66835130e-01  -1.69591854e-01]] [[ 0.33333333  0.33333333  0.33333333]\n",
      " [ 0.          1.          0.        ]\n",
      " [ 0.55502392  0.00717703  0.43779904]] [ 0.  0.  1.]\n",
      "obs [[   0.    0.  232.]\n",
      " [   0.   82.    3.]\n",
      " [   0.    0.  183.]]\n",
      "full [   0.   82.  418.]\n",
      "obs [[ -1.00000000e+90  -1.00000000e+90   5.44673737e+00]\n",
      " [ -1.00000000e+90   4.40671925e+00   1.09861229e+00]\n",
      " [ -1.00000000e+90  -1.00000000e+90   5.20948615e+00]]\n",
      "full [ -1.00000000e+90   4.40671925e+00   6.03548143e+00]\n",
      "b1 [[ 1.          1.          1.        ]\n",
      " [ 0.          1.          0.        ]\n",
      " [ 0.55502392  0.00717703  0.43779904]]\n",
      "[ 1.  1.  1.]\n",
      "b1 [[ 1.          1.          1.        ]\n",
      " [ 0.          1.          0.        ]\n",
      " [ 0.55502392  0.00717703  0.43779904]]\n",
      "b2 [[ 0.33333333  0.33333333  0.33333333]\n",
      " [ 0.          1.          0.        ]\n",
      " [ 0.55502392  0.00717703  0.43779904]]\n",
      "[ 0.  1.  0.]\n",
      "[ 0.55502392  0.00717703  0.43779904]\n",
      "it 96\n",
      "[[ -4.22313330e+01   2.26177921e+01   1.96135409e+01]\n",
      " [  6.05339974e-04  -6.74682247e-01   6.74076907e-01]\n",
      " [  2.72947768e-03   1.66778258e-01  -1.69507736e-01]] [[ 0.33333333  0.33333333  0.33333333]\n",
      " [ 0.          1.          0.        ]\n",
      " [ 0.55502392  0.00717703  0.43779904]] [ 0.  0.  1.]\n",
      "obs [[   0.    0.  232.]\n",
      " [   0.   82.    3.]\n",
      " [   0.    0.  183.]]\n",
      "full [   0.   82.  418.]\n",
      "obs [[ -1.00000000e+90  -1.00000000e+90   5.44673737e+00]\n",
      " [ -1.00000000e+90   4.40671925e+00   1.09861229e+00]\n",
      " [ -1.00000000e+90  -1.00000000e+90   5.20948615e+00]]\n",
      "full [ -1.00000000e+90   4.40671925e+00   6.03548143e+00]\n",
      "b1 [[ 1.          1.          1.        ]\n",
      " [ 0.          1.          0.        ]\n",
      " [ 0.55502392  0.00717703  0.43779904]]\n",
      "[ 1.  1.  1.]\n",
      "b1 [[ 1.          1.          1.        ]\n",
      " [ 0.          1.          0.        ]\n",
      " [ 0.55502392  0.00717703  0.43779904]]\n",
      "b2 [[ 0.33333333  0.33333333  0.33333333]\n",
      " [ 0.          1.          0.        ]\n",
      " [ 0.55502392  0.00717703  0.43779904]]\n",
      "[ 0.  1.  0.]\n",
      "[ 0.55502392  0.00717703  0.43779904]\n",
      "it 97\n",
      "[[ -4.26450799e+01   2.28355583e+01   1.98095216e+01]\n",
      " [  5.99437269e-04  -6.74381131e-01   6.73781694e-01]\n",
      " [  2.70280978e-03   1.66727190e-01  -1.69430000e-01]] [[ 0.33333333  0.33333333  0.33333333]\n",
      " [ 0.          1.          0.        ]\n",
      " [ 0.55502392  0.00717703  0.43779904]] [ 0.  0.  1.]\n",
      "obs [[   0.    0.  232.]\n",
      " [   0.   82.    3.]\n",
      " [   0.    0.  183.]]\n",
      "full [   0.   82.  418.]\n",
      "obs [[ -1.00000000e+90  -1.00000000e+90   5.44673737e+00]\n",
      " [ -1.00000000e+90   4.40671925e+00   1.09861229e+00]\n",
      " [ -1.00000000e+90  -1.00000000e+90   5.20948615e+00]]\n",
      "full [ -1.00000000e+90   4.40671925e+00   6.03548143e+00]\n",
      "b1 [[ 1.          1.          1.        ]\n",
      " [ 0.          1.          0.        ]\n",
      " [ 0.55502392  0.00717703  0.43779904]]\n",
      "[ 1.  1.  1.]\n",
      "b1 [[ 1.          1.          1.        ]\n",
      " [ 0.          1.          0.        ]\n",
      " [ 0.55502392  0.00717703  0.43779904]]\n",
      "b2 [[ 0.33333333  0.33333333  0.33333333]\n",
      " [ 0.          1.          0.        ]\n",
      " [ 0.55502392  0.00717703  0.43779904]]\n",
      "[ 0.  1.  0.]\n",
      "[ 0.55502392  0.00717703  0.43779904]\n",
      "it 98\n",
      "[[ -4.30587508e+01   2.30535237e+01   2.00052271e+01]\n",
      " [  5.93657744e-04  -6.74105617e-01   6.73511960e-01]\n",
      " [  2.67669968e-03   1.66681427e-01  -1.69358126e-01]] [[ 0.33333333  0.33333333  0.33333333]\n",
      " [ 0.          1.          0.        ]\n",
      " [ 0.55502392  0.00717703  0.43779904]] [ 0.  0.  1.]\n",
      "obs [[   0.    0.  232.]\n",
      " [   0.   82.    3.]\n",
      " [   0.    0.  183.]]\n",
      "full [   0.   82.  418.]\n",
      "obs [[ -1.00000000e+90  -1.00000000e+90   5.44673737e+00]\n",
      " [ -1.00000000e+90   4.40671925e+00   1.09861229e+00]\n",
      " [ -1.00000000e+90  -1.00000000e+90   5.20948615e+00]]\n",
      "full [ -1.00000000e+90   4.40671925e+00   6.03548143e+00]\n",
      "b1 [[ 1.          1.          1.        ]\n",
      " [ 0.          1.          0.        ]\n",
      " [ 0.55502392  0.00717703  0.43779904]]\n",
      "[ 1.  1.  1.]\n",
      "b1 [[ 1.          1.          1.        ]\n",
      " [ 0.          1.          0.        ]\n",
      " [ 0.55502392  0.00717703  0.43779904]]\n",
      "b2 [[ 0.33333333  0.33333333  0.33333333]\n",
      " [ 0.          1.          0.        ]\n",
      " [ 0.55502392  0.00717703  0.43779904]]\n",
      "[ 0.  1.  0.]\n",
      "[ 0.55502392  0.00717703  0.43779904]\n",
      "it 99\n",
      "[[ -4.34723467e+01   2.32716712e+01   2.02006756e+01]\n",
      " [  5.87997038e-04  -6.73853565e-01   6.73265568e-01]\n",
      " [  2.65112749e-03   1.66640509e-01  -1.69291636e-01]] [[ 0.33333333  0.33333333  0.33333333]\n",
      " [ 0.          1.          0.        ]\n",
      " [ 0.55502392  0.00717703  0.43779904]] [ 0.  0.  1.]\n",
      "obs [[   0.    0.  232.]\n",
      " [   0.   82.    3.]\n",
      " [   0.    0.  183.]]\n",
      "full [   0.   82.  418.]\n",
      "obs [[ -1.00000000e+90  -1.00000000e+90   5.44673737e+00]\n",
      " [ -1.00000000e+90   4.40671925e+00   1.09861229e+00]\n",
      " [ -1.00000000e+90  -1.00000000e+90   5.20948615e+00]]\n",
      "full [ -1.00000000e+90   4.40671925e+00   6.03548143e+00]\n",
      "b1 [[ 1.          1.          1.        ]\n",
      " [ 0.          1.          0.        ]\n",
      " [ 0.55502392  0.00717703  0.43779904]]\n",
      "[ 1.  1.  1.]\n",
      "b1 [[ 1.          1.          1.        ]\n",
      " [ 0.          1.          0.        ]\n",
      " [ 0.55502392  0.00717703  0.43779904]]\n",
      "b2 [[ 0.33333333  0.33333333  0.33333333]\n",
      " [ 0.          1.          0.        ]\n",
      " [ 0.55502392  0.00717703  0.43779904]]\n",
      "[ 0.  1.  0.]\n",
      "[ 0.55502392  0.00717703  0.43779904]\n",
      "soft\n"
     ]
    }
   ],
   "source": [
    "chmm_s = hmms.CtHMM.random( 3,3 )\n",
    "chmm_h = hmms.CtHMM( * chmm_s.params )\n",
    "chmm_c = hmms.CtHMM( * chmm_s.params )\n",
    "\n",
    "print(\"comb\")\n",
    "#graph_comb = chmm_c.baum_welch( t, e, 5, est=True, method=\"hard\" ) \n",
    "#graph_comb = np.append( graph_comb,  chmm_c.baum_welch( t, e, 95, est=True, method=\"soft\" ) )\n",
    "print(\"hard\")\n",
    "graph_hard = chmm_h.baum_welch( t, e, 100, est=True, method=\"hard\" )\n",
    "print(\"soft\")\n",
    "#graph_soft = chmm_s.baum_welch( t, e, 100, est=True, method=\"soft\" ) \n",
    "\n"
   ]
  },
  {
   "cell_type": "code",
   "execution_count": 20,
   "metadata": {
    "collapsed": false,
    "deletable": true,
    "editable": true
   },
   "outputs": [
    {
     "data": {
      "image/png": "[encoded data removed]",
      "text/plain": [
       "<matplotlib.figure.Figure at 0x7feaf7d965f8>"
      ]
     },
     "metadata": {},
     "output_type": "display_data"
    }
   ],
   "source": [
    "real = chmm.data_estimate( t,e )\n",
    "#real = 0\n",
    "#for tt,ee in zip(t,e): \n",
    "#   x,_ = chmm.viterbi( tt, ee )\n",
    "#    real += x\n",
    "\n",
    "#For better visibility of the graph, we cut first two values.\n",
    "##plt.plot( graph_soft[1:-1] / real, color=\"red\"  )\n",
    "plt.plot( graph_hard[1:-1] / real, color=\"blue\"  )\n",
    "##plt.plot( graph_comb[1:-1] / real, color=\"purple\")\n",
    "plt.rcParams['figure.figsize'] = [20,20]\n",
    "plt.show()"
   ]
  },
  {
   "cell_type": "code",
   "execution_count": null,
   "metadata": {
    "collapsed": false,
    "deletable": true,
    "editable": true
   },
   "outputs": [],
   "source": [
    "print( chmm_h.data_estimate( t,e ) )"
   ]
  },
  {
   "cell_type": "code",
   "execution_count": null,
   "metadata": {
    "collapsed": false
   },
   "outputs": [],
   "source": [
    "hmms.print_parameters( chmm )\n",
    "hmms.print_parameters( chmm_s )\n",
    "hmms.print_parameters( chmm_h )"
   ]
  },
  {
   "cell_type": "code",
   "execution_count": null,
   "metadata": {
    "collapsed": false
   },
   "outputs": [],
   "source": [
    "chmm_h.check_params() "
   ]
  },
  {
   "cell_type": "markdown",
   "metadata": {},
   "source": [
    "### Int-intervals vs Double-intervals"
   ]
  },
  {
   "cell_type": "code",
   "execution_count": null,
   "metadata": {
    "collapsed": true
   },
   "outputs": [],
   "source": [
    "import numpy as np\n",
    "import matplotlib.pyplot as plt\n",
    "import hmms\n",
    "\n",
    "%matplotlib inline"
   ]
  },
  {
   "cell_type": "code",
   "execution_count": null,
   "metadata": {
    "collapsed": true
   },
   "outputs": [],
   "source": [
    "Q = np.array( [[-0.375,0.125,0.25],[0.25,-0.5,0.25],[0.25,0.125,-0.375]] )\n",
    "B = np.array( [[0.8,0.05,0.15],[0.05,0.9,0.05],[0.2,0.05,0.75]] )\n",
    "Pi = np.array( [0.6,0,0.4] )\n",
    "\n",
    "chmm = hmms.CtHMM( Q,B,Pi )"
   ]
  },
  {
   "cell_type": "code",
   "execution_count": null,
   "metadata": {
    "collapsed": true
   },
   "outputs": [],
   "source": [
    "t,e = chmm.generate_data( (50,50) )"
   ]
  },
  {
   "cell_type": "code",
   "execution_count": null,
   "metadata": {
    "collapsed": false
   },
   "outputs": [],
   "source": [
    "chmm_i = hmms.CtHMM.random( 3,3 )\n",
    "chmm_d = hmms.CtHMM( * chmm_i.params )\n",
    "\n",
    "import time\n",
    "\n",
    "time0 = time.time()\n",
    "graph_i = chmm_i.baum_welch( t, e, 100, est=True, method=\"soft\", fast=True )\n",
    "time1 = time.time()\n",
    "graph_d = chmm_d.baum_welch( t, e, 100, est=True, method=\"soft\", fast=False ) \n",
    "time2 = time.time()\n",
    "print(time2-time1)\n",
    "print(time1-time0)\n",
    "chmm_i.print_ts()\n",
    "chmm_d.print_ts()"
   ]
  },
  {
   "cell_type": "code",
   "execution_count": null,
   "metadata": {
    "collapsed": false
   },
   "outputs": [],
   "source": [
    "real = chmm.data_estimate( t,e )\n",
    "plt.plot( graph_i[1:] / real, color=\"red\"  )\n",
    "plt.plot( graph_d[1:] / real, color=\"blue\"  )\n",
    "\n",
    "hmms.print_parameters( chmm_i )\n",
    "hmms.print_parameters( chmm_d )\n",
    "\n",
    "plt.rcParams['figure.figsize'] = [25,25]\n",
    "plt.show()"
   ]
  },
  {
   "cell_type": "code",
   "execution_count": null,
   "metadata": {
    "collapsed": false
   },
   "outputs": [],
   "source": [
    "chmm_i.q[0,0]"
   ]
  },
  {
   "cell_type": "code",
   "execution_count": null,
   "metadata": {
    "collapsed": false
   },
   "outputs": [],
   "source": [
    "chmm_d.q[0,0]"
   ]
  },
  {
   "cell_type": "code",
   "execution_count": null,
   "metadata": {
    "collapsed": true
   },
   "outputs": [],
   "source": []
  }
 ],
 "metadata": {
  "kernelspec": {
   "display_name": "Python 3",
   "language": "python",
   "name": "python3"
  },
  "language_info": {
   "codemirror_mode": {
    "name": "ipython",
    "version": 3
   },
   "file_extension": ".py",
   "mimetype": "text/x-python",
   "name": "python",
   "nbconvert_exporter": "python",
   "pygments_lexer": "ipython3",
   "version": "3.5.2"
  }
 },
 "nbformat": 4,
 "nbformat_minor": 2
}
