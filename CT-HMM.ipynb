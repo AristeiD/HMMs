{
 "cells": [
  {
   "cell_type": "markdown",
   "metadata": {
    "deletable": true,
    "editable": true
   },
   "source": [
    "HMMs Library \n",
    "============================\n",
    "#### (Discrete & Continuous hidden markov models )\n",
    "\n",
    "The document contain the tutorial ( usage explained by example ) for the hidden markov models library [link to pip].\n",
    "* [The **first** part](#dthmm) will cover disrete-time hidden markov model (**DtHMM**)\n",
    "* [The **second** part](#cthmm) will be dedicated to continuous-time hidden markov model (**CtHMM**)\n",
    "* [The **third** part](#conv) will compare the convergences of **both** models\n",
    "* [The **fourth** part](#dataset) will explain how to use more complex **datasets** and run **multiple trains** by one function call\n",
    "\n",
    "The all of the part are independent, so you do not need to run all notebook, if you are interested only in one of them. \n",
    "\n",
    "\n",
    "If you are not familiar with the hidden markov model theory, We recommend ...\n",
    "%todo: refer to DP theory, (simple guide to cthmm?), github, sources\n"
   ]
  },
  {
   "cell_type": "markdown",
   "metadata": {
    "deletable": true,
    "editable": true
   },
   "source": [
    "<a id='dthmm'></a>\n",
    "Part 1: Discrete Time Hidden Markov Model\n",
    "---------------------------------------------------"
   ]
  },
  {
   "cell_type": "code",
   "execution_count": null,
   "metadata": {
    "collapsed": false,
    "deletable": true,
    "editable": true
   },
   "outputs": [],
   "source": [
    "import numpy as np\n",
    "import matplotlib.pyplot as plt\n",
    "import hmms\n",
    "\n",
    "%matplotlib inline"
   ]
  },
  {
   "cell_type": "markdown",
   "metadata": {
    "deletable": true,
    "editable": true
   },
   "source": [
    "### Construct DtHMM \n",
    "You can directly initialize the DtHMM by passing the **model parameters**.  \n",
    "\n",
    "We will create simple DtHMM of two hidden states and three output variables."
   ]
  },
  {
   "cell_type": "code",
   "execution_count": null,
   "metadata": {
    "collapsed": false,
    "deletable": true,
    "editable": true
   },
   "outputs": [],
   "source": [
    "# A is the matrix of transition probabilities from state [row] to state [column].\n",
    "A = np.array([[0.9,0.1],[0.4,0.6]])\n",
    "# B is the matrix of probabilities that the state [row] will emmit output variable [column].\n",
    "B = np.array([[0.9,0.08,0.02],[0.2,0.5,0.3]])\n",
    "# Pi is the vector of initial state probabilities.   \n",
    "Pi = np.array( [0.8,0.2] )\n",
    "\n",
    "# Create DtHMM by given parameters.\n",
    "dhmm = hmms.DtHMM(A,B,Pi)"
   ]
  },
  {
   "cell_type": "markdown",
   "metadata": {
    "deletable": true,
    "editable": true
   },
   "source": [
    "Or you can initialize it by **random parameters**. Passing the number of hidden states and output variables. "
   ]
  },
  {
   "cell_type": "code",
   "execution_count": null,
   "metadata": {
    "collapsed": false,
    "deletable": true,
    "editable": true
   },
   "outputs": [],
   "source": [
    "dhmm_random = hmms.DtHMM.random(2,3)"
   ]
  },
  {
   "cell_type": "markdown",
   "metadata": {
    "deletable": true,
    "editable": true
   },
   "source": [
    "### Save & Read from File\n",
    "Once you have created the model you can **save** its parameters in file simply by calling *save_params* method.  "
   ]
  },
  {
   "cell_type": "code",
   "execution_count": null,
   "metadata": {
    "collapsed": false,
    "deletable": true,
    "editable": true
   },
   "outputs": [],
   "source": [
    "dhmm.save_params(\"Models/hello_dthmm\") "
   ]
  },
  {
   "cell_type": "markdown",
   "metadata": {
    "deletable": true,
    "editable": true
   },
   "source": [
    "The method stored the parameters in *.npz* format.  \n",
    "\n",
    "The saved file can be later used to **read** parametrs for model initialization."
   ]
  },
  {
   "cell_type": "code",
   "execution_count": null,
   "metadata": {
    "collapsed": false,
    "deletable": true,
    "editable": true
   },
   "outputs": [],
   "source": [
    "dhmm_from_file = hmms.DtHMM.from_file( \"Models/hello_dthmm.npz\" )"
   ]
  },
  {
   "cell_type": "markdown",
   "metadata": {
    "deletable": true,
    "editable": true
   },
   "source": [
    "### Set & Get Parameters\n",
    "Later you can always **set** parameters with triple of methods corresponding to the constructors."
   ]
  },
  {
   "cell_type": "code",
   "execution_count": null,
   "metadata": {
    "collapsed": false,
    "deletable": true,
    "editable": true,
    "scrolled": true
   },
   "outputs": [],
   "source": [
    "dhmm.set_params(A,B,Pi)\n",
    "dhmm.set_params_random(2,3)\n",
    "dhmm.set_params_from_file( \"Models/hello_dthmm.npz\" )"
   ]
  },
  {
   "cell_type": "markdown",
   "metadata": {
    "deletable": true,
    "editable": true
   },
   "source": [
    "You can **get** parameters by calling them separately,"
   ]
  },
  {
   "cell_type": "code",
   "execution_count": null,
   "metadata": {
    "collapsed": false,
    "deletable": true,
    "editable": true
   },
   "outputs": [],
   "source": [
    "dhmm.a, dhmm.b, dhmm.pi"
   ]
  },
  {
   "cell_type": "markdown",
   "metadata": {
    "deletable": true,
    "editable": true
   },
   "source": [
    "or **get** them **all** together as the triple."
   ]
  },
  {
   "cell_type": "code",
   "execution_count": null,
   "metadata": {
    "collapsed": false,
    "deletable": true,
    "editable": true
   },
   "outputs": [],
   "source": [
    "(A,B,Pi) = dhmm.params"
   ]
  },
  {
   "cell_type": "markdown",
   "metadata": {
    "deletable": true,
    "editable": true
   },
   "source": [
    "### Generate Random State and Emission Sequence\n",
    " Now we can use our model to generate state and emission sequence.   \n",
    " The model will randomly choose which transition or emission will happen, taking into consideration the parameters we have previously defined.\n"
   ]
  },
  {
   "cell_type": "code",
   "execution_count": null,
   "metadata": {
    "collapsed": false,
    "deletable": true,
    "editable": true
   },
   "outputs": [],
   "source": [
    "seq_len = 20\n",
    "s_seq, e_seq = dhmm.generate( seq_len )\n",
    "\n",
    "#resize plot\n",
    "plt.rcParams['figure.figsize'] = [20,20]\n",
    "\n",
    "hmms.plot_hmm( s_seq, e_seq )"
   ]
  },
  {
   "cell_type": "markdown",
   "metadata": {
    "collapsed": false,
    "deletable": true,
    "editable": true
   },
   "source": [
    "### Find Most Likely State Sequence\n",
    "If we have the model parameters and emission sequence, we can find the most probable state sequence that would generate it. Notice, that it can be different, than the actual sequence that has generated the emissions.  \n",
    "We will use Viterbi algorithm for the calculation.\n"
   ]
  },
  {
   "cell_type": "code",
   "execution_count": null,
   "metadata": {
    "collapsed": false,
    "deletable": true,
    "editable": true
   },
   "outputs": [],
   "source": [
    "( log_prob, s_seq ) =  dhmm.viterbi( e_seq )\n",
    "# Let's print the most likely state sequence, it can be same or differ from the sequence above.\n",
    "hmms.plot_hmm( s_seq, e_seq )"
   ]
  },
  {
   "cell_type": "markdown",
   "metadata": {
    "collapsed": true,
    "deletable": true,
    "editable": true
   },
   "source": [
    "The *log_prob* parameter store the probability of the sequence.  \n",
    "All the probabilities in the library are stored in the logarithm of their actual value. As the number of possible sequences grows exponentialy by it length, it could easily lead to float underflow.  \n",
    "You can easily transform it to the normal scale value applying *exp* function. "
   ]
  },
  {
   "cell_type": "code",
   "execution_count": null,
   "metadata": {
    "collapsed": false,
    "deletable": true,
    "editable": true
   },
   "outputs": [],
   "source": [
    "np.exp( log_prob )"
   ]
  },
  {
   "cell_type": "markdown",
   "metadata": {
    "deletable": true,
    "editable": true
   },
   "source": [
    "<a id='dtest'></a>\n",
    "### The Probability of the Emission Sequence"
   ]
  },
  {
   "cell_type": "markdown",
   "metadata": {
    "deletable": true,
    "editable": true
   },
   "source": [
    "We can compute the probability, that the model will generate the emission sequence."
   ]
  },
  {
   "cell_type": "code",
   "execution_count": null,
   "metadata": {
    "collapsed": false,
    "deletable": true,
    "editable": true
   },
   "outputs": [],
   "source": [
    "np.exp( dhmm.emission_estimate( e_seq ) )"
   ]
  },
  {
   "cell_type": "markdown",
   "metadata": {
    "deletable": true,
    "editable": true
   },
   "source": [
    "### The Probability of the State and Emission Sequences "
   ]
  },
  {
   "cell_type": "markdown",
   "metadata": {
    "deletable": true,
    "editable": true
   },
   "source": [
    "Similary we can compute the probabilty of the state and emission sequences given the model parameters."
   ]
  },
  {
   "cell_type": "code",
   "execution_count": null,
   "metadata": {
    "collapsed": false,
    "deletable": true,
    "editable": true
   },
   "outputs": [],
   "source": [
    "np.exp( dhmm.estimate( s_seq, e_seq ) )"
   ]
  },
  {
   "cell_type": "markdown",
   "metadata": {
    "deletable": true,
    "editable": true
   },
   "source": [
    "**Notice!**  - You can simply count the probability estimations for whole dataset by one command, watch [The chapter 4](#dsest)."
   ]
  },
  {
   "cell_type": "markdown",
   "metadata": {
    "deletable": true,
    "editable": true
   },
   "source": [
    "### Generate Artificial Dataset\n",
    "\n",
    "You can easily generate many sequences in once by using the generate_data function.\n",
    "The generated emission sequences are in the form that is suitable for training of parameters. You can switch times=True, if you want to generate also the corresponding equidistant time sequences."
   ]
  },
  {
   "cell_type": "code",
   "execution_count": null,
   "metadata": {
    "collapsed": false,
    "deletable": true,
    "editable": true
   },
   "outputs": [],
   "source": [
    "seq_num= 3   #number of data sequences\n",
    "seq_len= 10  #length of each sequence\n",
    "\n",
    "dhmm.generate_data( (seq_num,seq_len) )"
   ]
  },
  {
   "cell_type": "markdown",
   "metadata": {
    "deletable": true,
    "editable": true
   },
   "source": [
    "### Parameters Estimation - Baum Welch Algorithm\n",
    "We usually do not know the real parameters of the model. But, if we have sufficient data, we can estimate them by EM algorithm.  \n",
    "Here we will have several output variables (emissions) sequences and we will show, how to use them to train the model parameters\n",
    "\n",
    "Let's start by creating some artifficial data. We will use the previously defined *dhmm* model for it.\n",
    "\n",
    "**Notice!**  - For more detail information about possible datasets watch  [The chapter 4](#datasets).\n"
   ]
  },
  {
   "cell_type": "code",
   "execution_count": null,
   "metadata": {
    "collapsed": false,
    "deletable": true,
    "editable": true
   },
   "outputs": [],
   "source": [
    "seq_num = 5\n",
    "seq_len = 50\n",
    "data = np.empty( (seq_num, seq_len), dtype=int )\n",
    "\n",
    "_ , data = dhmm.generate_data( (seq_num,seq_len) )\n",
    "\n",
    "data"
   ]
  },
  {
   "cell_type": "markdown",
   "metadata": {
    "deletable": true,
    "editable": true
   },
   "source": [
    "Now, we will create the model with random parameters, that will be eventually trained to much the data."
   ]
  },
  {
   "cell_type": "code",
   "execution_count": null,
   "metadata": {
    "collapsed": false,
    "deletable": true,
    "editable": true
   },
   "outputs": [],
   "source": [
    "dhmm_r = hmms.DtHMM.random( 2,3 )\n",
    "# We can print all the parameters.\n",
    "hmms.print_parameters( dhmm_r )"
   ]
  },
  {
   "cell_type": "markdown",
   "metadata": {
    "deletable": true,
    "editable": true
   },
   "source": [
    "Let's compare the dataset likelihood estimation of model used for generating the data and the random parameters model. "
   ]
  },
  {
   "cell_type": "code",
   "execution_count": null,
   "metadata": {
    "collapsed": false,
    "deletable": true,
    "editable": true
   },
   "outputs": [],
   "source": [
    "print( \"Generator model:\" , np.exp( dhmm.data_estimate(data)   ) )\n",
    "print( \"Random model:   \" ,np.exp( dhmm_r.data_estimate(data) ) )"
   ]
  },
  {
   "cell_type": "markdown",
   "metadata": {
    "deletable": true,
    "editable": true
   },
   "source": [
    "Most likely the probability that the data was generated by random model is extremly low.\n",
    "\n",
    "Now we can take the random model and reestimate it to fit the data better."
   ]
  },
  {
   "cell_type": "code",
   "execution_count": null,
   "metadata": {
    "collapsed": false,
    "deletable": true,
    "editable": true
   },
   "outputs": [],
   "source": [
    "dhmm_r.baum_welch( data, 10 )\n",
    "print( \"Reestimated model after 10 iterations:   \" ,np.exp( dhmm_r.data_estimate(data) ) )"
   ]
  },
  {
   "cell_type": "markdown",
   "metadata": {
    "deletable": true,
    "editable": true
   },
   "source": [
    "The probability of the reestimated model should now be similiar (possibly even higher) that the generator's model. If it is not, you can try to run the estimation procedure more time at different randomly generated models. It could happen that the estimation fall in the local optima.\n",
    "\n",
    "If you are satisfied with the results, you can run some more iteration to fine-tune it."
   ]
  },
  {
   "cell_type": "code",
   "execution_count": null,
   "metadata": {
    "collapsed": false,
    "deletable": true,
    "editable": true
   },
   "outputs": [],
   "source": [
    "dhmm_r.baum_welch( data, 100 )\n",
    "print( \"Reestimated model after 110 iterations:   \" ,np.exp( dhmm_r.data_estimate(data) ) )"
   ]
  },
  {
   "cell_type": "markdown",
   "metadata": {
    "deletable": true,
    "editable": true
   },
   "source": [
    "We can compare the parameters of the model."
   ]
  },
  {
   "cell_type": "code",
   "execution_count": null,
   "metadata": {
    "collapsed": false,
    "deletable": true,
    "editable": true
   },
   "outputs": [],
   "source": [
    "hmms.print_parameters( dhmm_r )\n",
    "hmms.print_parameters( dhmm )"
   ]
  },
  {
   "cell_type": "markdown",
   "metadata": {
    "collapsed": false,
    "deletable": true,
    "editable": true,
    "scrolled": true
   },
   "source": [
    "Alternatively, we can run *baum_welch_graph* method to get learning curve of estimated probabilities."
   ]
  },
  {
   "cell_type": "code",
   "execution_count": null,
   "metadata": {
    "collapsed": false,
    "deletable": true,
    "editable": true,
    "scrolled": false
   },
   "outputs": [],
   "source": [
    "dhmm_r = hmms.DtHMM.random(2,3) \n",
    "out = dhmm_r.baum_welch( data, 50, est=True )\n",
    "\n",
    "np.exp(out)"
   ]
  },
  {
   "cell_type": "markdown",
   "metadata": {
    "deletable": true,
    "editable": true
   },
   "source": [
    "Let's plot it in the graph, comparing the results in ratio with *real* data-generator model. ( Notice, it is the ratio of logaritmic probability values. )"
   ]
  },
  {
   "cell_type": "code",
   "execution_count": null,
   "metadata": {
    "collapsed": false,
    "deletable": true,
    "editable": true
   },
   "outputs": [],
   "source": [
    "real = dhmm.data_estimate(data)\n",
    "#For better visibility of the graph, we cut first two values.\n",
    "plt.plot( out[2:] / real  )\n",
    "plt.show()"
   ]
  },
  {
   "cell_type": "markdown",
   "metadata": {
    "deletable": true,
    "editable": true
   },
   "source": [
    "<a id='cthmm'></a>\n",
    "Part 2: Continuous Time Hidden Markov Model\n",
    "-----------------------------------------------------"
   ]
  },
  {
   "cell_type": "code",
   "execution_count": null,
   "metadata": {
    "collapsed": true,
    "deletable": true,
    "editable": true
   },
   "outputs": [],
   "source": [
    "import numpy as np\n",
    "import matplotlib.pyplot as plt\n",
    "import hmms\n",
    "\n",
    "%matplotlib inline"
   ]
  },
  {
   "cell_type": "markdown",
   "metadata": {
    "deletable": true,
    "editable": true
   },
   "source": [
    "### Construct CtHMM \n",
    "Construction of CtHMM is similar to the discrete model. \n",
    "\n",
    "You can directly initialize the CtHMM by passing the **model parameters**.  \n",
    "We will create simple CtHMM of three hidden states and three output variables."
   ]
  },
  {
   "cell_type": "code",
   "execution_count": null,
   "metadata": {
    "collapsed": false,
    "deletable": true,
    "editable": true
   },
   "outputs": [],
   "source": [
    "# Q is the matrix of transition rates from state [row] to state [column].\n",
    "Q = np.array( [[-0.375,0.125,0.25],[0.25,-0.5,0.25],[0.25,0.125,-0.375]] )\n",
    "# B is the matrix of probabilities that the state [row] will emmit output variable [column].\n",
    "B = np.array( [[0.8,0.05,0.15],[0.05,0.9,0.05],[0.2,0.05,0.75]] )\n",
    "# Pi is the vector of initial state probabilities.   \n",
    "Pi = np.array( [0.6,0,0.4] )\n",
    "\n",
    "# Create CtHMM by given parameters.\n",
    "chmm = hmms.CtHMM(Q,B,Pi)"
   ]
  },
  {
   "cell_type": "markdown",
   "metadata": {
    "deletable": true,
    "editable": true
   },
   "source": [
    "Or you can initialize it by **random parameters**. Passing the number of hidden states and output variables.  \n",
    "By default are the parameters generated by exponential distribution and than normalized to sum to one."
   ]
  },
  {
   "cell_type": "code",
   "execution_count": null,
   "metadata": {
    "collapsed": true,
    "deletable": true,
    "editable": true
   },
   "outputs": [],
   "source": [
    "chmm_random = hmms.CtHMM.random(3,3)"
   ]
  },
  {
   "cell_type": "markdown",
   "metadata": {
    "deletable": true,
    "editable": true
   },
   "source": [
    "You can choose generating by uniform distribution passing the parameter *method*. "
   ]
  },
  {
   "cell_type": "code",
   "execution_count": null,
   "metadata": {
    "collapsed": true,
    "deletable": true,
    "editable": true
   },
   "outputs": [],
   "source": [
    "chmm_random = hmms.CtHMM.random(3,3,method=\"unif\")"
   ]
  },
  {
   "cell_type": "markdown",
   "metadata": {
    "deletable": true,
    "editable": true
   },
   "source": [
    "### Save & Read from File\n",
    "\n",
    "Once you have created the model you can save its parameters in file simply by calling save_params method."
   ]
  },
  {
   "cell_type": "code",
   "execution_count": null,
   "metadata": {
    "collapsed": false,
    "deletable": true,
    "editable": true
   },
   "outputs": [],
   "source": [
    "chmm.save_params(\"Models/hello_cthmm\") "
   ]
  },
  {
   "cell_type": "markdown",
   "metadata": {
    "deletable": true,
    "editable": true
   },
   "source": [
    "The method stored the parameters in .npz format.\n",
    "The saved file can be later used to read parametrs for model initialization."
   ]
  },
  {
   "cell_type": "code",
   "execution_count": null,
   "metadata": {
    "collapsed": false,
    "deletable": true,
    "editable": true
   },
   "outputs": [],
   "source": [
    "chmm_from_file = hmms.CtHMM.from_file( \"Models/hello_cthmm.npz\" )"
   ]
  },
  {
   "cell_type": "markdown",
   "metadata": {
    "deletable": true,
    "editable": true
   },
   "source": [
    "### Set & Get Parameters\n",
    "Later you can always set parameters with triple of methods corresponding to the constructors."
   ]
  },
  {
   "cell_type": "code",
   "execution_count": null,
   "metadata": {
    "collapsed": false,
    "deletable": true,
    "editable": true
   },
   "outputs": [],
   "source": [
    "chmm.set_params(Q,B,Pi)\n",
    "chmm.set_params_random(3,3)\n",
    "chmm.set_params_from_file( \"Models/hello_cthmm.npz\" )"
   ]
  },
  {
   "cell_type": "markdown",
   "metadata": {
    "deletable": true,
    "editable": true
   },
   "source": [
    "You can **get** parameters by calling them separately,"
   ]
  },
  {
   "cell_type": "code",
   "execution_count": null,
   "metadata": {
    "collapsed": false,
    "deletable": true,
    "editable": true
   },
   "outputs": [],
   "source": [
    "chmm.q, chmm.b, chmm.pi"
   ]
  },
  {
   "cell_type": "markdown",
   "metadata": {
    "deletable": true,
    "editable": true
   },
   "source": [
    "or get them all together as the triple."
   ]
  },
  {
   "cell_type": "code",
   "execution_count": null,
   "metadata": {
    "collapsed": false,
    "deletable": true,
    "editable": true
   },
   "outputs": [],
   "source": [
    "(A,B,Pi) = chmm.params"
   ]
  },
  {
   "cell_type": "markdown",
   "metadata": {
    "deletable": true,
    "editable": true
   },
   "source": [
    "### Generate Random Sequence\n",
    "Now we can use our model to **generate** time, state and emission sequence.\n",
    "The model will **randomly** choose which transition or emission will happen, taking into consideration the parameters we have previously defined.\n",
    "\n",
    "The times are generated with **exponencial** waiting times, you can define the parameter of exponencial distribution as second optional parameter. \n"
   ]
  },
  {
   "cell_type": "code",
   "execution_count": null,
   "metadata": {
    "collapsed": false,
    "deletable": true,
    "editable": true
   },
   "outputs": [],
   "source": [
    "seq_len = 10\n",
    "t_seq, s_seq, e_seq = chmm.generate( seq_len, 0.5)\n",
    "\n",
    "#resize plot\n",
    "plt.rcParams['figure.figsize'] = [20,20]\n",
    "\n",
    "hmms.plot_hmm( s_seq, e_seq, time=t_seq )"
   ]
  },
  {
   "cell_type": "markdown",
   "metadata": {
    "deletable": true,
    "editable": true
   },
   "source": [
    "### Find Most Likely State Sequence\n",
    "If we have corresponding time and emission sequence, we can find the most probable state sequence that would generate it given the current model parameters. Notice, that it can be different, than the actual sequence that has generated the emissions.  \n",
    "We will use Viterbi algorithm for the calculation."
   ]
  },
  {
   "cell_type": "code",
   "execution_count": null,
   "metadata": {
    "collapsed": false,
    "deletable": true,
    "editable": true
   },
   "outputs": [],
   "source": [
    "( log_prob, s_seq ) =  chmm.viterbi( t_seq, e_seq )\n",
    "# Let's print the most likely state sequence, it can be same or differ from the sequence above.\n",
    "hmms.plot_hmm( s_seq, e_seq, time = t_seq )\n",
    "print( \"Probability of being generated by the found state sequence:\", np.exp( log_prob ) )"
   ]
  },
  {
   "cell_type": "markdown",
   "metadata": {
    "deletable": true,
    "editable": true
   },
   "source": [
    "<a id='ctest'></a>\n",
    "### The Probability of the Time and Emission Sequence"
   ]
  },
  {
   "cell_type": "markdown",
   "metadata": {
    "deletable": true,
    "editable": true
   },
   "source": [
    "We can compute the probability, of the emission sequence given model and its time sequence."
   ]
  },
  {
   "cell_type": "code",
   "execution_count": null,
   "metadata": {
    "collapsed": false,
    "deletable": true,
    "editable": true
   },
   "outputs": [],
   "source": [
    "np.exp( chmm.emission_estimate( t_seq, e_seq ) )"
   ]
  },
  {
   "cell_type": "markdown",
   "metadata": {
    "deletable": true,
    "editable": true
   },
   "source": [
    "### The Probability of the State, Time and Emission Sequences"
   ]
  },
  {
   "cell_type": "markdown",
   "metadata": {
    "deletable": true,
    "editable": true
   },
   "source": [
    "Similary we can compute the probabilty of the state, time and emission sequences given the model parameters."
   ]
  },
  {
   "cell_type": "code",
   "execution_count": null,
   "metadata": {
    "collapsed": false,
    "deletable": true,
    "editable": true
   },
   "outputs": [],
   "source": [
    "np.exp( chmm.estimate( s_seq, t_seq, e_seq ) )"
   ]
  },
  {
   "cell_type": "markdown",
   "metadata": {
    "deletable": true,
    "editable": true
   },
   "source": [
    "**Notice!**  - You can simply count the probability estimations for whole dataset by one command, watch [The chapter 4](#dsest)."
   ]
  },
  {
   "cell_type": "markdown",
   "metadata": {
    "deletable": true,
    "editable": true
   },
   "source": [
    "### Generate Artificial  Dataset\n",
    "You can easily generate many sequences in once by using the *generate_data* function.  \n",
    "The generated data are in the form that is suitable for training of parameters. \n",
    "You can switch *states=True*, if you want to generate also the corresponding state sequences.\n",
    "\n",
    "TODO: The times are generated with **exponencial** waiting times, you can define the parameter of exponencial distribution as second optional parameter. "
   ]
  },
  {
   "cell_type": "code",
   "execution_count": null,
   "metadata": {
    "collapsed": false,
    "deletable": true,
    "editable": true
   },
   "outputs": [],
   "source": [
    "seq_num= 5   #number of data sequences\n",
    "seq_len= 30  #length of each sequence\n",
    "\n",
    "t,e = chmm.generate_data( (seq_num,seq_len) )\n",
    "t,e"
   ]
  },
  {
   "cell_type": "markdown",
   "metadata": {
    "collapsed": true,
    "deletable": true,
    "editable": true
   },
   "source": [
    "### Parameters Estimation - Continuous Version of Baum Welch Algorithm\n",
    "\n",
    "We will use the previously generated data for the training of randomly generated model.\n",
    "\n",
    "**Notice!**  - Always use the integers in your time points dataset. Floats times are also supported, but it can make the computation significantly slower and you should know, why you are using them. For more detail information watch [The chapter 4](#dataset)."
   ]
  },
  {
   "cell_type": "code",
   "execution_count": null,
   "metadata": {
    "collapsed": false,
    "deletable": true,
    "editable": true
   },
   "outputs": [],
   "source": [
    "chmm_r = hmms.CtHMM.random( 3,3 )\n",
    "# We can print all the parameters.\n",
    "hmms.print_parameters( chmm_r )"
   ]
  },
  {
   "cell_type": "markdown",
   "metadata": {
    "deletable": true,
    "editable": true
   },
   "source": [
    "Now we can compare the probabilities, that the data was generated by the given model. Its ratio is most probably not so big as in the disrete model. It is because the intervals between the observations are the source of many unknown, so it is pushing the probability of real model down. "
   ]
  },
  {
   "cell_type": "code",
   "execution_count": null,
   "metadata": {
    "collapsed": false,
    "deletable": true,
    "editable": true
   },
   "outputs": [],
   "source": [
    "print( \"Generator model:\" , np.exp( chmm.data_estimate(t,e)   ) )\n",
    "print( \"Random model:   \" ,np.exp( chmm_r.data_estimate(t,e) ) )"
   ]
  },
  {
   "cell_type": "markdown",
   "metadata": {
    "deletable": true,
    "editable": true
   },
   "source": [
    "Let's run the EM algorithm for couple of iterations."
   ]
  },
  {
   "cell_type": "code",
   "execution_count": null,
   "metadata": {
    "collapsed": false,
    "deletable": true,
    "editable": true
   },
   "outputs": [],
   "source": [
    "out = chmm_r.baum_welch( t,e, 100, est=True )\n",
    "\n",
    "np.exp(out)"
   ]
  },
  {
   "cell_type": "markdown",
   "metadata": {
    "deletable": true,
    "editable": true
   },
   "source": [
    "We will plot its probabilities estimations in ratio with generator model. (Notice, it is the ratio of logarithms of probabilities)"
   ]
  },
  {
   "cell_type": "code",
   "execution_count": null,
   "metadata": {
    "collapsed": false,
    "deletable": true,
    "editable": true
   },
   "outputs": [],
   "source": [
    "real = chmm.data_estimate( t, e )\n",
    "#For better visibility of the graph, we cut first two values.\n",
    "plt.plot( out[2:] / real  )\n",
    "\n",
    "plt.show()"
   ]
  },
  {
   "cell_type": "markdown",
   "metadata": {
    "deletable": true,
    "editable": true
   },
   "source": [
    "<a id='conv'></a>\n",
    "Part 3: Comparison of Models Convergences\n",
    "-----------------------------------------------------"
   ]
  },
  {
   "cell_type": "markdown",
   "metadata": {
    "deletable": true,
    "editable": true
   },
   "source": [
    "In this chapter we will compare the convergence rate of discrete and continuous models. It will show some functions usefull for convergence among model parameters.  "
   ]
  },
  {
   "cell_type": "code",
   "execution_count": null,
   "metadata": {
    "collapsed": true,
    "deletable": true,
    "editable": true
   },
   "outputs": [],
   "source": [
    "import numpy as np\n",
    "import matplotlib.pyplot as plt\n",
    "import hmms\n",
    "\n",
    "%matplotlib inline"
   ]
  },
  {
   "cell_type": "markdown",
   "metadata": {
    "deletable": true,
    "editable": true
   },
   "source": [
    "We will start by defining the continuous time model. For that, who have read the previous section, it will be the familiar."
   ]
  },
  {
   "cell_type": "code",
   "execution_count": null,
   "metadata": {
    "collapsed": false,
    "deletable": true,
    "editable": true
   },
   "outputs": [],
   "source": [
    "Q = np.array( [[-0.375,0.125,0.25],[0.25,-0.5,0.25],[0.25,0.125,-0.375]] )\n",
    "B = np.array( [[0.8,0.05,0.15],[0.05,0.9,0.05],[0.2,0.05,0.75]] )\n",
    "Pi = np.array( [0.6,0,0.4] )\n",
    "\n",
    "chmm = hmms.CtHMM( Q,B,Pi )\n",
    "hmms.print_parameters( chmm )"
   ]
  },
  {
   "cell_type": "markdown",
   "metadata": {
    "deletable": true,
    "editable": true
   },
   "source": [
    "We can simply create discrete model with equivalent parameters, using function *get_dthmm_params*.  \n",
    "By default, it will create the model with transition probabilities equal to one time unit probability transition in continuous model. You can pass the optional parameter for different time steps.\n"
   ]
  },
  {
   "cell_type": "code",
   "execution_count": null,
   "metadata": {
    "collapsed": false,
    "deletable": true,
    "editable": true
   },
   "outputs": [],
   "source": [
    "dhmm = hmms.DtHMM( *chmm.get_dthmm_params() )\n",
    "hmms.print_parameters( dhmm )"
   ]
  },
  {
   "cell_type": "markdown",
   "metadata": {
    "deletable": true,
    "editable": true
   },
   "source": [
    "We can let the disrete model to generate the data sufficient for both models by passing the *times* parameter as *True*."
   ]
  },
  {
   "cell_type": "code",
   "execution_count": null,
   "metadata": {
    "collapsed": false,
    "deletable": true,
    "editable": true
   },
   "outputs": [],
   "source": [
    "t,_,e = dhmm.generate_data( (50,50), times=True )   \n",
    "# The free space in the return triple is for the state sequences, we do not need them for the training "
   ]
  },
  {
   "cell_type": "markdown",
   "metadata": {
    "deletable": true,
    "editable": true
   },
   "source": [
    "We can compare the estimation of the data, using both of the model. (They should be the same.)"
   ]
  },
  {
   "cell_type": "code",
   "execution_count": null,
   "metadata": {
    "collapsed": false,
    "deletable": true,
    "editable": true
   },
   "outputs": [],
   "source": [
    "creal = chmm.data_estimate(t,e)\n",
    "dreal = dhmm.data_estimate(e)\n",
    "print(\"Data estimation by continuous model:\", creal)\n",
    "print(\"Data estimation by discrete model:  \", dreal)"
   ]
  },
  {
   "cell_type": "markdown",
   "metadata": {
    "deletable": true,
    "editable": true
   },
   "source": [
    "Now we will create two equivalent random models. "
   ]
  },
  {
   "cell_type": "code",
   "execution_count": null,
   "metadata": {
    "collapsed": false,
    "deletable": true,
    "editable": true
   },
   "outputs": [],
   "source": [
    "ct = hmms.CtHMM.random(3,3)\n",
    "dt = hmms.DtHMM( *ct.get_dthmm_params() )\n",
    "    \n",
    "hmms.print_parameters( ct )\n",
    "hmms.print_parameters( dt )"
   ]
  },
  {
   "cell_type": "markdown",
   "metadata": {
    "deletable": true,
    "editable": true
   },
   "source": [
    "We will train them at our dataset. (It can take a while.)"
   ]
  },
  {
   "cell_type": "code",
   "execution_count": null,
   "metadata": {
    "collapsed": false,
    "deletable": true,
    "editable": true
   },
   "outputs": [],
   "source": [
    "iter_num = 50\n",
    "outd = dt.baum_welch( e,   iter_num, est=True )\n",
    "outc = ct.baum_welch( t,e, iter_num, est=True )\n",
    "outd,outc"
   ]
  },
  {
   "cell_type": "markdown",
   "metadata": {
    "collapsed": false,
    "deletable": true,
    "editable": true
   },
   "source": [
    "We can plot and compare both convergence rates. From the essence of models, the continuous model will probably  converge a bit slower, but finally will reach the similar value."
   ]
  },
  {
   "cell_type": "code",
   "execution_count": null,
   "metadata": {
    "collapsed": false,
    "deletable": true,
    "editable": true
   },
   "outputs": [],
   "source": [
    "plt.plot( outd[1:] / dreal  )\n",
    "plt.plot( outc[1:] / dreal, color=\"red\"  )\n",
    "#plt.savefig('my_plot.svg')  #Optional save the figure\n",
    "plt.show()"
   ]
  },
  {
   "cell_type": "markdown",
   "metadata": {
    "deletable": true,
    "editable": true
   },
   "source": [
    "<a id='dataset'></a>\n",
    "## Part 4: Advance Work with Datasets"
   ]
  },
  {
   "cell_type": "code",
   "execution_count": null,
   "metadata": {
    "collapsed": true,
    "deletable": true,
    "editable": true
   },
   "outputs": [],
   "source": [
    "import numpy as np\n",
    "import matplotlib.pyplot as plt\n",
    "import hmms\n",
    "\n",
    "%matplotlib inline"
   ]
  },
  {
   "cell_type": "markdown",
   "metadata": {
    "collapsed": false,
    "deletable": true,
    "editable": true
   },
   "source": [
    "### Various Length of Training Vectors"
   ]
  },
  {
   "cell_type": "markdown",
   "metadata": {
    "deletable": true,
    "editable": true
   },
   "source": [
    "There are two supported data-structures, that you can pass toward training:"
   ]
  },
  {
   "cell_type": "markdown",
   "metadata": {
    "deletable": true,
    "editable": true
   },
   "source": [
    "#### 1. The Numpy Matrix\n",
    "The two dimensional array, where the rows consist of training sequences.  \n",
    "Though, this way is restricted in the way that all the vectors need to have the same size. "
   ]
  },
  {
   "cell_type": "code",
   "execution_count": null,
   "metadata": {
    "collapsed": true,
    "deletable": true,
    "editable": true
   },
   "outputs": [],
   "source": [
    "data_n = np.array(  [[0, 0, 0, 1, 1, 1, 1, 1, 1, 1],\n",
    "                     [0, 0, 0, 0, 1, 1, 1, 0, 1, 0],\n",
    "                     [2, 0, 1, 0, 0, 0, 0, 0, 0, 0]] )"
   ]
  },
  {
   "cell_type": "code",
   "execution_count": null,
   "metadata": {
    "collapsed": false,
    "deletable": true,
    "editable": true
   },
   "outputs": [],
   "source": [
    "dhmm_r = hmms.DtHMM.random( 2,3 )\n",
    "graph_n = dhmm_r.baum_welch( data_n, 10, est=True )\n",
    "np.exp( dhmm_r.data_estimate(data_n) )"
   ]
  },
  {
   "cell_type": "markdown",
   "metadata": {
    "deletable": true,
    "editable": true
   },
   "source": [
    "#### 2. The List of Numpy Vectors\n",
    "The standard Python list, consisting of Numpy vectors.\n",
    "Every vector can have different length."
   ]
  },
  {
   "cell_type": "code",
   "execution_count": null,
   "metadata": {
    "collapsed": true,
    "deletable": true,
    "editable": true
   },
   "outputs": [],
   "source": [
    "data_l = [ np.array( [0, 0, 0, 0, 1, 1, 1, 1, 1, 1, 1, 1] ) ,\n",
    "           np.array( [0, 1, 0, 0, 1, 0, 1 ] ),\n",
    "           np.array( [2, 0, 1, 0, 0, 0, 0, 0, 0, 0] ) ]"
   ]
  },
  {
   "cell_type": "code",
   "execution_count": null,
   "metadata": {
    "collapsed": false,
    "deletable": true,
    "editable": true
   },
   "outputs": [],
   "source": [
    "dhmm_r = hmms.DtHMM.random( 2,3 )\n",
    "graph_l = dhmm_r.baum_welch( data_l, 10, est=True )\n",
    "np.exp( dhmm_r.data_estimate(data_l) )"
   ]
  },
  {
   "cell_type": "code",
   "execution_count": null,
   "metadata": {
    "collapsed": false,
    "deletable": true,
    "editable": true
   },
   "outputs": [],
   "source": [
    "# you can plot the graphs, just for fun.\n",
    "plt.plot( graph_n, color='red' )\n",
    "plt.plot( graph_l )"
   ]
  },
  {
   "cell_type": "markdown",
   "metadata": {
    "deletable": true,
    "editable": true
   },
   "source": [
    "#### Continuous-Time HMM\n",
    "The work with datasets in CtHMM is analogous."
   ]
  },
  {
   "cell_type": "code",
   "execution_count": null,
   "metadata": {
    "collapsed": false,
    "deletable": true,
    "editable": true
   },
   "outputs": [],
   "source": [
    "data_n = np.array(  [[0, 0, 0, 1],\n",
    "                     [0, 2, 0, 0],\n",
    "                     [2, 0, 1, 0] ] )\n",
    "time_n = np.array(  [[0, 1, 3, 4],\n",
    "                     [0, 2, 3, 5],\n",
    "                     [0, 2, 4, 6] ] )\n",
    "\n",
    "chmm_r = hmms.CtHMM.random( 2,3 )\n",
    "graph_n = chmm_r.baum_welch( time_n, data_n, 10, est=True ) \n",
    "np.exp( chmm_r.data_estimate(time_n, data_n) )"
   ]
  },
  {
   "cell_type": "code",
   "execution_count": null,
   "metadata": {
    "collapsed": false,
    "deletable": true,
    "editable": true
   },
   "outputs": [],
   "source": [
    "data_l = [ np.array( [0, 0, 2, 0 ] ) ,\n",
    "           np.array( [0, 1, 0, 0, 1 ] ),\n",
    "           np.array( [2, 0, 1 ] ) ]\n",
    "time_l = [ np.array( [0, 1, 2, 4 ] ) ,\n",
    "           np.array( [0, 1, 3, 5, 6 ] ),\n",
    "           np.array( [0, 2, 3 ] ) ]\n",
    "\n",
    "chmm_r = hmms.CtHMM.random( 2,3 )\n",
    "graph_n = chmm_r.baum_welch( time_l, data_l, 10, est=True ) \n",
    "np.exp( chmm_r.data_estimate(time_l, data_l) )"
   ]
  },
  {
   "cell_type": "markdown",
   "metadata": {
    "deletable": true,
    "editable": true
   },
   "source": [
    "### Time Parameters in Floats"
   ]
  },
  {
   "cell_type": "markdown",
   "metadata": {
    "deletable": true,
    "editable": true
   },
   "source": [
    "The time parameters are supported as the **integers** or **floats**.\n",
    "However both datatypes are allowed, it is strongly *adviced* to *use* integers or floats with *integral distance*\n",
    "(be carefull about float operation unprecision here.)  \n",
    "The *non-integral* time intervals among two neigbouring observation are *computationaly costly*, as it doesn't allow to compute matrix power and more complex operations are needed.  \n",
    "Later are showed two examples with the float data and possible *tricks* how to make computation *faster*."
   ]
  },
  {
   "cell_type": "markdown",
   "metadata": {
    "deletable": true,
    "editable": true
   },
   "source": [
    "#### Example one:  Change intervals length to integer"
   ]
  },
  {
   "cell_type": "code",
   "execution_count": null,
   "metadata": {
    "collapsed": false,
    "deletable": true,
    "editable": true
   },
   "outputs": [],
   "source": [
    "data = np.array(  [[0, 0, 0, 1],\n",
    "                   [0, 2, 0, 0],\n",
    "                   [2, 0, 1, 0] ] )\n",
    "time = np.array(  [[0, 1.5, 3.4, 4.7],\n",
    "                   [0, 2.6, 5.7, 8.9],\n",
    "                   [0, 2.2, 4.1, 9.8] ] )"
   ]
  },
  {
   "cell_type": "markdown",
   "metadata": {
    "deletable": true,
    "editable": true
   },
   "source": [
    "Use data as float"
   ]
  },
  {
   "cell_type": "code",
   "execution_count": null,
   "metadata": {
    "collapsed": false,
    "deletable": true,
    "editable": true
   },
   "outputs": [],
   "source": [
    "chmm_r = hmms.CtHMM.random( 2,3 )\n",
    "graph_f = chmm_r.baum_welch( time, data, 10, est=True ) \n",
    "np.exp( chmm_r.data_estimate(time, data) )"
   ]
  },
  {
   "cell_type": "markdown",
   "metadata": {
    "deletable": true,
    "editable": true
   },
   "source": [
    "or use the **trick** so the intervals were integral.\n",
    "Here it is enough to **multiply** it times 10.   \n",
    "**Notice**: Here we are working with randomly generated jump rates matrix, otherwise you would need to reevaluate its values, when multiplying times. "
   ]
  },
  {
   "cell_type": "code",
   "execution_count": null,
   "metadata": {
    "collapsed": false,
    "deletable": true,
    "editable": true
   },
   "outputs": [],
   "source": [
    "chmm_r = hmms.CtHMM.random( 2,3 )\n",
    "graph = chmm_r.baum_welch( time*10, data, 10, est=True ) \n",
    "np.exp( chmm_r.data_estimate( time*10, data ) )"
   ]
  },
  {
   "cell_type": "markdown",
   "metadata": {
    "deletable": true,
    "editable": true
   },
   "source": [
    "#### Example 2: Approximate the time values"
   ]
  },
  {
   "cell_type": "markdown",
   "metadata": {
    "deletable": true,
    "editable": true
   },
   "source": [
    "Sometimes, depending upon the data, the exact observation time may not be important, so the small approximation can be helpful to get better computational time."
   ]
  },
  {
   "cell_type": "code",
   "execution_count": null,
   "metadata": {
    "collapsed": true,
    "deletable": true,
    "editable": true
   },
   "outputs": [],
   "source": [
    "data = np.array(  [[0, 0, 0, 1],\n",
    "                   [0, 2, 0, 0],\n",
    "                   [2, 0, 1, 0] ] )\n",
    "time = np.array(  [[0, 1.54587435, 3.4435434, 4.74535345],\n",
    "                   [0, 2.64353245, 5.7435435, 8.94353454],\n",
    "                   [0, 2.24353455, 4.1345435, 9.83454354] ] )"
   ]
  },
  {
   "cell_type": "markdown",
   "metadata": {
    "deletable": true,
    "editable": true
   },
   "source": [
    "Use data as float"
   ]
  },
  {
   "cell_type": "code",
   "execution_count": null,
   "metadata": {
    "collapsed": false,
    "deletable": true,
    "editable": true
   },
   "outputs": [],
   "source": [
    "chmm_r = hmms.CtHMM.random( 2,3 )\n",
    "graph_f = chmm_r.baum_welch( time, data, 10, est=True ) \n",
    "np.exp( chmm_r.data_estimate(time, data) )"
   ]
  },
  {
   "cell_type": "markdown",
   "metadata": {
    "deletable": true,
    "editable": true
   },
   "source": [
    "or perform the **trick**. Here multiply by 100 and round to the integers."
   ]
  },
  {
   "cell_type": "code",
   "execution_count": null,
   "metadata": {
    "collapsed": false,
    "deletable": true,
    "editable": true
   },
   "outputs": [],
   "source": [
    "time = np.round( time * 100 )\n",
    "\n",
    "chmm_r = hmms.CtHMM.random( 2,3 )\n",
    "graph = chmm_r.baum_welch( time, data, 10, est=True ) \n",
    "np.exp( chmm_r.data_estimate(time, data) )"
   ]
  },
  {
   "cell_type": "markdown",
   "metadata": {
    "deletable": true,
    "editable": true
   },
   "source": [
    "<a id='dsest'></a>\n",
    "### Datasets Probability Estimations "
   ]
  },
  {
   "cell_type": "markdown",
   "metadata": {
    "deletable": true,
    "editable": true
   },
   "source": [
    "We have showed previously how to compute sequence probability estimations in [The discrete](#dtest) and [continuous](#ctest) model.  \n",
    "Here it is showed, how to make it for whole dataset by using just one command.  \n",
    "(We will show it at continuous time model, the discrete one is analogous, just omit the time sequences.)"
   ]
  },
  {
   "cell_type": "code",
   "execution_count": null,
   "metadata": {
    "collapsed": true,
    "deletable": true,
    "editable": true
   },
   "outputs": [],
   "source": [
    "seq_num= 10   #number of data sequences\n",
    "seq_len= 10   #length of each sequence\n",
    "\n",
    "# Create data and generate model\n",
    "\n",
    "chmm = hmms.CtHMM.random(3,3)\n",
    "t,s,e = chmm.generate_data( (seq_num,seq_len), states=True )"
   ]
  },
  {
   "cell_type": "markdown",
   "metadata": {
    "deletable": true,
    "editable": true
   },
   "source": [
    "#### The Probability of the Time and Emission Sequences\n",
    "We can compute the probability, of the emissions sequence given model and its time sequences."
   ]
  },
  {
   "cell_type": "code",
   "execution_count": null,
   "metadata": {
    "collapsed": false,
    "deletable": true,
    "editable": true
   },
   "outputs": [],
   "source": [
    "np.exp( chmm.data_estimate( t, e ) )"
   ]
  },
  {
   "cell_type": "markdown",
   "metadata": {
    "deletable": true,
    "editable": true
   },
   "source": [
    "#### The Probability of the State, Time and Emission Sequences\n",
    "Similary we can compute the probabilty of the state, time and emission sequences given the model parameters."
   ]
  },
  {
   "cell_type": "code",
   "execution_count": null,
   "metadata": {
    "collapsed": false,
    "deletable": true,
    "editable": true
   },
   "outputs": [],
   "source": [
    "np.exp( chmm.full_data_estimate( s, t, e ) )"
   ]
  },
  {
   "cell_type": "markdown",
   "metadata": {
    "deletable": true,
    "editable": true
   },
   "source": [
    "### Multi Training"
   ]
  },
  {
   "cell_type": "markdown",
   "metadata": {
    "deletable": true,
    "editable": true
   },
   "source": [
    "\n",
    "For more convenient train from various random begnings, you can use *multi_train* function.  \n",
    "It has parameters   \n",
    "method: \n",
    "- 'exp' - [default] Use exponential distribution for random initialization\n",
    "- 'unif' - Use uniform distribution for random initialization  \n",
    "\n",
    "and ret: \n",
    "- 'all' - Return all trained models, sorted by their probability estimation\n",
    "- 'best' - [default] Return only the model with the best probability estimation"
   ]
  },
  {
   "cell_type": "code",
   "execution_count": null,
   "metadata": {
    "collapsed": false,
    "deletable": true,
    "editable": true
   },
   "outputs": [],
   "source": [
    "t,e = chmm.generate_data( (5,10) )\n",
    "hidden_states = 3\n",
    "runs = 10\n",
    "iterations = 50\n",
    "out = hmms.multi_train_ct( hidden_states , t, e, runs, iterations, ret='all', method='exp')\n",
    "out"
   ]
  },
  {
   "cell_type": "markdown",
   "metadata": {
    "collapsed": false,
    "deletable": true,
    "editable": true
   },
   "source": [
    "<hr/>\n",
    "You can play with the models as you like and feel free to share your result with me, if you have made some interesting experiment!"
   ]
  },
  {
   "cell_type": "markdown",
   "metadata": {
    "collapsed": true,
    "deletable": true,
    "editable": true
   },
   "source": [
    "Contact: (lopatovsky@gmail.com)"
   ]
  },
  {
   "cell_type": "markdown",
   "metadata": {
    "deletable": true,
    "editable": true
   },
   "source": [
    "### Experimental features\n",
    "#### Fast Convergence "
   ]
  },
  {
   "cell_type": "code",
   "execution_count": null,
   "metadata": {
    "collapsed": false,
    "deletable": true,
    "editable": true
   },
   "outputs": [],
   "source": [
    "#The experiment is frozen\n",
    "\n",
    "\n",
    "seq_num= 1   #number of data sequences\n",
    "seq_len= 4  #length of each sequence\n",
    "\n",
    "t,e = chmm.generate_data( (seq_num,seq_len) )\n",
    "t,e\n",
    "\n",
    "\n",
    "t = np.array([[ 0,1,3,5,6,7,9,11,12]])\n",
    "e = np.array([[ 0,0,0,1,2,1,0,0,1]])\n"
   ]
  },
  {
   "cell_type": "code",
   "execution_count": null,
   "metadata": {
    "collapsed": false,
    "deletable": true,
    "editable": true
   },
   "outputs": [],
   "source": [
    "ct1 = hmms.CtHMM.random(3,3)\n",
    "ct2 = hmms.CtHMM( *ct1.params )"
   ]
  },
  {
   "cell_type": "code",
   "execution_count": null,
   "metadata": {
    "collapsed": false,
    "deletable": true,
    "editable": true
   },
   "outputs": [],
   "source": [
    "iter_num = 50\n",
    "out1 = ct1.baum_welch( t,e, iter_num, est=True )\n",
    "#out2 = ct2.baum_welch( t,e, iter_num )\n",
    "out1,out2"
   ]
  },
  {
   "cell_type": "code",
   "execution_count": null,
   "metadata": {
    "collapsed": false,
    "deletable": true,
    "editable": true
   },
   "outputs": [],
   "source": [
    "plt.plot( out1[1:] / dreal , color = \"red\" )\n",
    "plt.plot( out2[1:] / dreal  )\n",
    "#plt.savefig('graph.svg')  #Optional save the figure\n",
    "\n",
    "plt.show()"
   ]
  },
  {
   "cell_type": "code",
   "execution_count": null,
   "metadata": {
    "collapsed": false,
    "deletable": true,
    "editable": true
   },
   "outputs": [],
   "source": [
    "hmms.print_parameters(ct1)\n",
    "hmms.print_parameters(ct2)"
   ]
  },
  {
   "cell_type": "markdown",
   "metadata": {
    "collapsed": true,
    "deletable": true,
    "editable": true
   },
   "source": [
    "#### Exponential random generation"
   ]
  },
  {
   "cell_type": "code",
   "execution_count": null,
   "metadata": {
    "collapsed": true,
    "deletable": true,
    "editable": true
   },
   "outputs": [],
   "source": [
    "import numpy as np\n",
    "import matplotlib.pyplot as plt\n",
    "import hmms\n",
    "\n",
    "%matplotlib inline"
   ]
  },
  {
   "cell_type": "code",
   "execution_count": null,
   "metadata": {
    "collapsed": false,
    "deletable": true,
    "editable": true
   },
   "outputs": [],
   "source": [
    "# Q is the matrix of transition rates from state [row] to state [column].\n",
    "Q = np.array( [[-0.375,0.125,0.25],[0.25,-0.5,0.25],[0.25,0.125,-0.375]] )\n",
    "# B is the matrix of probabilities that the state [row] will emmit output variable [column].\n",
    "B = np.array( [[0.8,0.05,0.15],[0.05,0.9,0.05],[0.2,0.05,0.75]] )\n",
    "# Pi is the vector of initial state probabilities.   \n",
    "Pi = np.array( [0.6,0,0.4] )\n",
    "\n",
    "# Create CtHMM by given parameters.\n",
    "chmm = hmms.CtHMM(Q,B,Pi)"
   ]
  },
  {
   "cell_type": "code",
   "execution_count": null,
   "metadata": {
    "collapsed": true,
    "deletable": true,
    "editable": true
   },
   "outputs": [],
   "source": [
    "seq_num= 5   #number of data sequences\n",
    "seq_len= 30  #length of each sequence\n",
    "\n",
    "t,e = chmm.generate_data( (seq_num,seq_len) )"
   ]
  },
  {
   "cell_type": "code",
   "execution_count": null,
   "metadata": {
    "collapsed": false,
    "deletable": true,
    "editable": true
   },
   "outputs": [],
   "source": [
    "chmm_r = hmms.CtHMM.random( 3,3, method='unif' )\n",
    "chmm_re = hmms.CtHMM.random( 3,3, method='exp' )\n",
    "\n",
    "out  =  chmm_r.baum_welch( t,e, 10 )\n",
    "oute = chmm_re.baum_welch( t,e, 10 )\n",
    "\n",
    "\n",
    "#aout =  np.average(out,  axis=0)\n",
    "#aoute = np.average(oute, axis=0)\n"
   ]
  },
  {
   "cell_type": "code",
   "execution_count": null,
   "metadata": {
    "collapsed": false,
    "deletable": true,
    "editable": true
   },
   "outputs": [],
   "source": [
    "out = hmms.multi_train(3, t, e, 10, 200, ret='all', method='exp')"
   ]
  },
  {
   "cell_type": "code",
   "execution_count": null,
   "metadata": {
    "collapsed": false,
    "deletable": true,
    "editable": true
   },
   "outputs": [],
   "source": [
    "aout =  np.average(out,  axis=0)\n",
    "aoute = np.average(oute, axis=0)\n",
    "\n",
    "mout =  np.min(out,  axis=0)\n",
    "moute = np.min(oute, axis=0)\n",
    "\n",
    "\n",
    "real = chmm.data_estimate( t, e )\n",
    "#For better visibility of the graph, we cut first two values.\n",
    "\n",
    "offset = 3\n",
    "\n",
    "#plt.plot(  aout[offset:] / real , color = \"red\" )\n",
    "#plt.plot( aoute[offset:] / real , color = \"blue\" )\n",
    "\n",
    "#plt.plot(  mout[offset:] / real , color = \"orange\" )\n",
    "#plt.plot( moute[offset:] / real , color = \"green\")\n",
    "\n",
    "for line in out:\n",
    "    print( line/real )\n",
    "    plt.plot(  line[offset:] / real )\n",
    "\n",
    "\n",
    "plt.show()"
   ]
  },
  {
   "cell_type": "code",
   "execution_count": null,
   "metadata": {
    "collapsed": false,
    "deletable": true,
    "editable": true
   },
   "outputs": [],
   "source": [
    "real = chmm.data_estimate( t, e )\n",
    "\n",
    "offset = 3\n",
    "\n",
    "print(out)\n",
    "\n",
    "for line in out:\n",
    "    #graph= line[1]\n",
    "    #print( type(line) )\n",
    "    #print( line[1]/real )\n",
    "    plt.plot(  line[1][offset:] / real )\n",
    "\n",
    "\n",
    "\n",
    "\n"
   ]
  },
  {
   "cell_type": "code",
   "execution_count": null,
   "metadata": {
    "collapsed": false,
    "deletable": true,
    "editable": true
   },
   "outputs": [],
   "source": [
    "oute"
   ]
  },
  {
   "cell_type": "markdown",
   "metadata": {
    "collapsed": true,
    "deletable": true,
    "editable": true
   },
   "source": [
    "### Test different length of vectors"
   ]
  },
  {
   "cell_type": "code",
   "execution_count": null,
   "metadata": {
    "collapsed": true,
    "deletable": true,
    "editable": true
   },
   "outputs": [],
   "source": [
    "import numpy as np\n",
    "import matplotlib.pyplot as plt\n",
    "import hmms\n",
    "\n",
    "%matplotlib inline"
   ]
  },
  {
   "cell_type": "code",
   "execution_count": null,
   "metadata": {
    "collapsed": false,
    "deletable": true,
    "editable": true
   },
   "outputs": [],
   "source": [
    "data_l = [ np.array( [0, 0, 0, 0, 1, 1, 1, 1, 1, 1, 1, 1] ) ,\n",
    "         np.array( [0, 1, 0, 0, 1, 0, 1 ] ),\n",
    "         np.array( [2, 0, 1, 0, 0, 0, 0, 0, 0, 0] ) ]\n",
    "\n",
    "data_n = np.array(  [[0, 0, 0, 1, 1, 1, 1, 1, 1, 1],\n",
    "        [0, 0, 0, 0, 1, 1, 1, 0, 1, 0],\n",
    "        [2, 0, 1, 0, 0, 0, 0, 0, 0, 0]] )"
   ]
  },
  {
   "cell_type": "markdown",
   "metadata": {
    "deletable": true,
    "editable": true
   },
   "source": [
    "#### Test Numpy matrix"
   ]
  },
  {
   "cell_type": "code",
   "execution_count": null,
   "metadata": {
    "collapsed": true,
    "deletable": true,
    "editable": true
   },
   "outputs": [],
   "source": [
    "dhmm_r = hmms.DtHMM.random( 2,3 )"
   ]
  },
  {
   "cell_type": "code",
   "execution_count": null,
   "metadata": {
    "collapsed": false,
    "deletable": true,
    "editable": true
   },
   "outputs": [],
   "source": [
    "graph_n = dhmm_r.baum_welch( data_n, 10, est=True ) "
   ]
  },
  {
   "cell_type": "code",
   "execution_count": null,
   "metadata": {
    "collapsed": false,
    "deletable": true,
    "editable": true
   },
   "outputs": [],
   "source": [
    "np.exp( dhmm_r.data_estimate(data_n) )"
   ]
  },
  {
   "cell_type": "markdown",
   "metadata": {
    "deletable": true,
    "editable": true
   },
   "source": [
    "#### Test List of numpy arrays"
   ]
  },
  {
   "cell_type": "code",
   "execution_count": null,
   "metadata": {
    "collapsed": true,
    "deletable": true,
    "editable": true
   },
   "outputs": [],
   "source": [
    "dhmm_r = hmms.DtHMM.random( 2,3 )"
   ]
  },
  {
   "cell_type": "code",
   "execution_count": null,
   "metadata": {
    "collapsed": false,
    "deletable": true,
    "editable": true
   },
   "outputs": [],
   "source": [
    "graph_l = dhmm_r.baum_welch( data_l, 10, est=True )"
   ]
  },
  {
   "cell_type": "code",
   "execution_count": null,
   "metadata": {
    "collapsed": false,
    "deletable": true,
    "editable": true
   },
   "outputs": [],
   "source": [
    "np.exp( dhmm_r.data_estimate(data_l) )"
   ]
  },
  {
   "cell_type": "code",
   "execution_count": null,
   "metadata": {
    "collapsed": false,
    "deletable": true,
    "editable": true
   },
   "outputs": [],
   "source": [
    "plt.plot( graph_n, color='red' )\n",
    "plt.plot( graph_l )"
   ]
  },
  {
   "cell_type": "markdown",
   "metadata": {
    "deletable": true,
    "editable": true
   },
   "source": [
    "Make the similar for the continuous model "
   ]
  },
  {
   "cell_type": "code",
   "execution_count": null,
   "metadata": {
    "collapsed": true,
    "deletable": true,
    "editable": true
   },
   "outputs": [],
   "source": [
    "data_l = [ np.array( [0, 0, 2, 0 ] ) ,\n",
    "         np.array( [0, 1, 0, 0, 1 ] ),\n",
    "         np.array( [2, 0, 1 ] ) ]\n",
    "\n",
    "data_n = np.array(  [[0, 0, 0, 1],\n",
    "        [0, 2, 0, 0],\n",
    "        [2, 0, 1, 0] ] )\n",
    "\n",
    "time_l = [ np.array( [0, 1, 2, 4 ] ) ,\n",
    "         np.array( [0, 1, 3, 5, 6 ] ),\n",
    "         np.array( [0, 2, 3 ] ) ]\n",
    "\n",
    "time_n = np.array(  [[0, 1, 3, 4],\n",
    "        [0, 2, 3, 5],\n",
    "        [0, 2, 4, 6] ] )"
   ]
  },
  {
   "cell_type": "code",
   "execution_count": null,
   "metadata": {
    "collapsed": true,
    "deletable": true,
    "editable": true
   },
   "outputs": [],
   "source": [
    "chmm_r = hmms.CtHMM.random( 2,3 )"
   ]
  },
  {
   "cell_type": "code",
   "execution_count": null,
   "metadata": {
    "collapsed": false,
    "deletable": true,
    "editable": true
   },
   "outputs": [],
   "source": [
    "graph_n = chmm_r.baum_welch( time_n, data_n, 10, est=True ) "
   ]
  },
  {
   "cell_type": "code",
   "execution_count": null,
   "metadata": {
    "collapsed": false,
    "deletable": true,
    "editable": true
   },
   "outputs": [],
   "source": [
    "np.exp( chmm_r.data_estimate(time_n, data_n) )"
   ]
  },
  {
   "cell_type": "code",
   "execution_count": null,
   "metadata": {
    "collapsed": true,
    "deletable": true,
    "editable": true
   },
   "outputs": [],
   "source": [
    "chmm_r = hmms.CtHMM.random( 2,3 )"
   ]
  },
  {
   "cell_type": "code",
   "execution_count": null,
   "metadata": {
    "collapsed": false,
    "deletable": true,
    "editable": true
   },
   "outputs": [],
   "source": [
    "graph_n = chmm_r.baum_welch( time_l, data_l, 10, est=True ) "
   ]
  },
  {
   "cell_type": "code",
   "execution_count": null,
   "metadata": {
    "collapsed": false,
    "deletable": true,
    "editable": true
   },
   "outputs": [],
   "source": [
    "np.exp( chmm_r.data_estimate(time_l, data_l) )"
   ]
  },
  {
   "cell_type": "markdown",
   "metadata": {
    "collapsed": true,
    "deletable": true,
    "editable": true
   },
   "source": [
    "### Test double times"
   ]
  },
  {
   "cell_type": "code",
   "execution_count": null,
   "metadata": {
    "collapsed": true,
    "deletable": true,
    "editable": true
   },
   "outputs": [],
   "source": [
    "import numpy as np\n",
    "import matplotlib.pyplot as plt\n",
    "import hmms\n",
    "\n",
    "%matplotlib inline"
   ]
  },
  {
   "cell_type": "code",
   "execution_count": null,
   "metadata": {
    "collapsed": true,
    "deletable": true,
    "editable": true
   },
   "outputs": [],
   "source": [
    "data = [ np.array( [0, 0, 2, 0 ] ) ,\n",
    "         np.array( [0, 1, 0, 0, 1 ] ),\n",
    "         np.array( [2, 0, 1 ] ) ]\n",
    "\n",
    "time_i = [ np.array( [0, 1, 2, 4 ] ) ,\n",
    "         np.array( [0, 1, 3, 5, 6 ] ),\n",
    "         np.array( [0, 2, 3 ] ) ]\n",
    "\n",
    "time_f = [ np.array( [0, 1.1, 2.1, 4.1 ] ) ,\n",
    "         np.array( [0, 1.1, 3.1, 5.1, 6.1 ] ),\n",
    "         np.array( [0, 2.1, 3.1 ] ) ]"
   ]
  },
  {
   "cell_type": "code",
   "execution_count": null,
   "metadata": {
    "collapsed": true,
    "deletable": true,
    "editable": true
   },
   "outputs": [],
   "source": [
    "chmm_r = hmms.CtHMM.random( 2,3 )"
   ]
  },
  {
   "cell_type": "code",
   "execution_count": null,
   "metadata": {
    "collapsed": false,
    "deletable": true,
    "editable": true
   },
   "outputs": [],
   "source": [
    "graph_i = chmm_r.baum_welch( time_i, data, 10, est=True ) "
   ]
  },
  {
   "cell_type": "code",
   "execution_count": null,
   "metadata": {
    "collapsed": false,
    "deletable": true,
    "editable": true
   },
   "outputs": [],
   "source": [
    "np.exp( chmm_r.data_estimate(time_i, data) )"
   ]
  },
  {
   "cell_type": "markdown",
   "metadata": {
    "deletable": true,
    "editable": true
   },
   "source": [
    "double"
   ]
  },
  {
   "cell_type": "code",
   "execution_count": null,
   "metadata": {
    "collapsed": true,
    "deletable": true,
    "editable": true
   },
   "outputs": [],
   "source": [
    "chmm_r = hmms.CtHMM.random( 2,3 )"
   ]
  },
  {
   "cell_type": "code",
   "execution_count": null,
   "metadata": {
    "collapsed": false,
    "deletable": true,
    "editable": true
   },
   "outputs": [],
   "source": [
    "graph_f = chmm_r.baum_welch( time_f, data, 10, est=True ) "
   ]
  },
  {
   "cell_type": "code",
   "execution_count": null,
   "metadata": {
    "collapsed": false,
    "deletable": true,
    "editable": true
   },
   "outputs": [],
   "source": [
    "np.exp( chmm_r.data_estimate(time_f, data) )"
   ]
  },
  {
   "cell_type": "code",
   "execution_count": null,
   "metadata": {
    "collapsed": false,
    "deletable": true,
    "editable": true
   },
   "outputs": [],
   "source": [
    "plt.plot( graph_i, color='red' )\n",
    "plt.plot( graph_f )"
   ]
  },
  {
   "cell_type": "markdown",
   "metadata": {
    "collapsed": true,
    "deletable": true,
    "editable": true
   },
   "source": [
    "### Soft & Hard"
   ]
  },
  {
   "cell_type": "code",
   "execution_count": null,
   "metadata": {
    "collapsed": true,
    "deletable": true,
    "editable": true
   },
   "outputs": [],
   "source": [
    "import numpy as np\n",
    "import matplotlib.pyplot as plt\n",
    "import hmms\n",
    "\n",
    "%matplotlib inline"
   ]
  },
  {
   "cell_type": "code",
   "execution_count": null,
   "metadata": {
    "collapsed": false,
    "deletable": true,
    "editable": true
   },
   "outputs": [],
   "source": [
    "Q = np.array( [[-0.375,0.125,0.25],[0.25,-0.5,0.25],[0.25,0.125,-0.375]] )\n",
    "B = np.array( [[0.8,0.05,0.15],[0.05,0.9,0.05],[0.2,0.05,0.75]] )\n",
    "Pi = np.array( [0.6,0,0.4] )\n",
    "\n",
    "chmm = hmms.CtHMM( Q,B,Pi )\n",
    "#chmm = hmms.CtHMM.random(15,15)"
   ]
  },
  {
   "cell_type": "code",
   "execution_count": null,
   "metadata": {
    "collapsed": false,
    "deletable": true,
    "editable": true
   },
   "outputs": [],
   "source": [
    "t,e = chmm.generate_data( (50,10) )"
   ]
  },
  {
   "cell_type": "code",
   "execution_count": null,
   "metadata": {
    "collapsed": false,
    "deletable": true,
    "editable": true
   },
   "outputs": [],
   "source": [
    "chmm_s = hmms.CtHMM.random( 3,3 )\n",
    "chmm_h = hmms.CtHMM( * chmm_s.params )\n",
    "chmm_c = hmms.CtHMM( * chmm_s.params )\n",
    "\n",
    "print(\"comb\")\n",
    "graph_comb = chmm_c.baum_welch( t, e, 5, est=True, method=\"hard\" ) \n",
    "graph_comb = np.append( graph_comb,  chmm_c.baum_welch( t, e, 95, est=True, method=\"soft\" ) )\n",
    "print(\"hard\")\n",
    "graph_hard = chmm_h.baum_welch( t, e, 100, est=True, method=\"hard\" )\n",
    "print(\"soft\")\n",
    "graph_soft = chmm_s.baum_welch( t, e, 100, est=True, method=\"soft\" ) \n",
    "\n"
   ]
  },
  {
   "cell_type": "code",
   "execution_count": null,
   "metadata": {
    "collapsed": false,
    "deletable": true,
    "editable": true
   },
   "outputs": [],
   "source": [
    "#real = chmm.data_estimate( t,e )\n",
    "real = 0\n",
    "for tt,ee in zip(t,e): \n",
    "    x,_ = chmm.viterbi( tt, ee )\n",
    "    real += x\n",
    "#For better visibility of the graph, we cut first two values.\n",
    "plt.plot( graph_soft[1:-1] / real, color=\"red\"  )\n",
    "plt.plot( graph_hard[1:-1] / real, color=\"blue\"  )\n",
    "plt.plot( graph_comb[1:-1] / real, color=\"purple\")\n",
    "plt.rcParams['figure.figsize'] = [20,20]\n",
    "plt.show()"
   ]
  },
  {
   "cell_type": "code",
   "execution_count": null,
   "metadata": {
    "collapsed": false,
    "deletable": true,
    "editable": true
   },
   "outputs": [],
   "source": [
    "print( chmm_h.data_estimate( t,e ) )"
   ]
  },
  {
   "cell_type": "code",
   "execution_count": null,
   "metadata": {
    "collapsed": false
   },
   "outputs": [],
   "source": [
    "hmms.print_parameters( chmm )\n",
    "hmms.print_parameters( chmm_s )\n",
    "hmms.print_parameters( chmm_h )"
   ]
  },
  {
   "cell_type": "markdown",
   "metadata": {},
   "source": [
    "### Int-intervals vs Double-intervals"
   ]
  },
  {
   "cell_type": "code",
   "execution_count": 43,
   "metadata": {
    "collapsed": true
   },
   "outputs": [],
   "source": [
    "import numpy as np\n",
    "import matplotlib.pyplot as plt\n",
    "import hmms\n",
    "\n",
    "%matplotlib inline"
   ]
  },
  {
   "cell_type": "code",
   "execution_count": 44,
   "metadata": {
    "collapsed": true
   },
   "outputs": [],
   "source": [
    "Q = np.array( [[-0.375,0.125,0.25],[0.25,-0.5,0.25],[0.25,0.125,-0.375]] )\n",
    "B = np.array( [[0.8,0.05,0.15],[0.05,0.9,0.05],[0.2,0.05,0.75]] )\n",
    "Pi = np.array( [0.6,0,0.4] )\n",
    "\n",
    "chmm = hmms.CtHMM( Q,B,Pi )"
   ]
  },
  {
   "cell_type": "code",
   "execution_count": 45,
   "metadata": {
    "collapsed": true
   },
   "outputs": [],
   "source": [
    "t,e = chmm.generate_data( (50,50) )"
   ]
  },
  {
   "cell_type": "code",
   "execution_count": 46,
   "metadata": {
    "collapsed": false
   },
   "outputs": [
    {
     "name": "stdout",
     "output_type": "stream",
     "text": [
      "{1.0: 0, 2.0: 2, 3.0: 3, 4.0: 5, 5.0: 8, 6.0: 4, 7.0: 9, 8.0: 7, 9.0: 1, 10.0: 6, 11.0: 11, 12.0: 10, 13.0: 12, 14.0: 14, 21.0: 13}\n",
      "{1.0: 0, 2.0: 2, 3.0: 3, 4.0: 5, 5.0: 8, 6.0: 4, 7.0: 9, 8.0: 7, 9.0: 1, 10.0: 6, 11.0: 11, 12.0: 10, 13.0: 12, 14.0: 14, 21.0: 13}\n",
      "{1.0: 0, 2.0: 2, 3.0: 3, 4.0: 5, 5.0: 8, 6.0: 4, 7.0: 9, 8.0: 7, 9.0: 1, 10.0: 6, 11.0: 11, 12.0: 10, 13.0: 12, 14.0: 14, 21.0: 13}\n",
      "{1.0: 0, 2.0: 2, 3.0: 3, 4.0: 5, 5.0: 8, 6.0: 4, 7.0: 9, 8.0: 7, 9.0: 1, 10.0: 6, 11.0: 11, 12.0: 10, 13.0: 12, 14.0: 14, 21.0: 13}\n",
      "{1.0: 0, 2.0: 2, 3.0: 3, 4.0: 5, 5.0: 8, 6.0: 4, 7.0: 9, 8.0: 7, 9.0: 1, 10.0: 6, 11.0: 11, 12.0: 10, 13.0: 12, 14.0: 14, 21.0: 13}\n",
      "{1.0: 0, 2.0: 2, 3.0: 3, 4.0: 5, 5.0: 8, 6.0: 4, 7.0: 9, 8.0: 7, 9.0: 1, 10.0: 6, 11.0: 11, 12.0: 10, 13.0: 12, 14.0: 14, 21.0: 13}\n",
      "{1.0: 0, 2.0: 2, 3.0: 3, 4.0: 5, 5.0: 8, 6.0: 4, 7.0: 9, 8.0: 7, 9.0: 1, 10.0: 6, 11.0: 11, 12.0: 10, 13.0: 12, 14.0: 14, 21.0: 13}\n",
      "{1.0: 0, 2.0: 2, 3.0: 3, 4.0: 5, 5.0: 8, 6.0: 4, 7.0: 9, 8.0: 7, 9.0: 1, 10.0: 6, 11.0: 11, 12.0: 10, 13.0: 12, 14.0: 14, 21.0: 13}\n",
      "{1.0: 0, 2.0: 2, 3.0: 3, 4.0: 5, 5.0: 8, 6.0: 4, 7.0: 9, 8.0: 7, 9.0: 1, 10.0: 6, 11.0: 11, 12.0: 10, 13.0: 12, 14.0: 14, 21.0: 13}\n",
      "{1.0: 0, 2.0: 2, 3.0: 3, 4.0: 5, 5.0: 8, 6.0: 4, 7.0: 9, 8.0: 7, 9.0: 1, 10.0: 6, 11.0: 11, 12.0: 10, 13.0: 12, 14.0: 14, 21.0: 13}\n",
      "{1.0: 0, 2.0: 2, 3.0: 3, 4.0: 5, 5.0: 8, 6.0: 4, 7.0: 9, 8.0: 7, 9.0: 1, 10.0: 6, 11.0: 11, 12.0: 10, 13.0: 12, 14.0: 14, 21.0: 13}\n",
      "{1.0: 0, 2.0: 2, 3.0: 3, 4.0: 5, 5.0: 8, 6.0: 4, 7.0: 9, 8.0: 7, 9.0: 1, 10.0: 6, 11.0: 11, 12.0: 10, 13.0: 12, 14.0: 14, 21.0: 13}\n",
      "{1.0: 0, 2.0: 2, 3.0: 3, 4.0: 5, 5.0: 8, 6.0: 4, 7.0: 9, 8.0: 7, 9.0: 1, 10.0: 6, 11.0: 11, 12.0: 10, 13.0: 12, 14.0: 14, 21.0: 13}\n",
      "{1.0: 0, 2.0: 2, 3.0: 3, 4.0: 5, 5.0: 8, 6.0: 4, 7.0: 9, 8.0: 7, 9.0: 1, 10.0: 6, 11.0: 11, 12.0: 10, 13.0: 12, 14.0: 14, 21.0: 13}\n",
      "{1.0: 0, 2.0: 2, 3.0: 3, 4.0: 5, 5.0: 8, 6.0: 4, 7.0: 9, 8.0: 7, 9.0: 1, 10.0: 6, 11.0: 11, 12.0: 10, 13.0: 12, 14.0: 14, 21.0: 13}\n",
      "{1.0: 0, 2.0: 2, 3.0: 3, 4.0: 5, 5.0: 8, 6.0: 4, 7.0: 9, 8.0: 7, 9.0: 1, 10.0: 6, 11.0: 11, 12.0: 10, 13.0: 12, 14.0: 14, 21.0: 13}\n",
      "{1.0: 0, 2.0: 2, 3.0: 3, 4.0: 5, 5.0: 8, 6.0: 4, 7.0: 9, 8.0: 7, 9.0: 1, 10.0: 6, 11.0: 11, 12.0: 10, 13.0: 12, 14.0: 14, 21.0: 13}\n",
      "{1.0: 0, 2.0: 2, 3.0: 3, 4.0: 5, 5.0: 8, 6.0: 4, 7.0: 9, 8.0: 7, 9.0: 1, 10.0: 6, 11.0: 11, 12.0: 10, 13.0: 12, 14.0: 14, 21.0: 13}\n",
      "{1.0: 0, 2.0: 2, 3.0: 3, 4.0: 5, 5.0: 8, 6.0: 4, 7.0: 9, 8.0: 7, 9.0: 1, 10.0: 6, 11.0: 11, 12.0: 10, 13.0: 12, 14.0: 14, 21.0: 13}\n",
      "{1.0: 0, 2.0: 2, 3.0: 3, 4.0: 5, 5.0: 8, 6.0: 4, 7.0: 9, 8.0: 7, 9.0: 1, 10.0: 6, 11.0: 11, 12.0: 10, 13.0: 12, 14.0: 14, 21.0: 13}\n",
      "{1.0: 0, 2.0: 2, 3.0: 3, 4.0: 5, 5.0: 8, 6.0: 4, 7.0: 9, 8.0: 7, 9.0: 1, 10.0: 6, 11.0: 11, 12.0: 10, 13.0: 12, 14.0: 14, 21.0: 13}\n",
      "{1.0: 0, 2.0: 2, 3.0: 3, 4.0: 5, 5.0: 8, 6.0: 4, 7.0: 9, 8.0: 7, 9.0: 1, 10.0: 6, 11.0: 11, 12.0: 10, 13.0: 12, 14.0: 14, 21.0: 13}\n",
      "{1.0: 0, 2.0: 2, 3.0: 3, 4.0: 5, 5.0: 8, 6.0: 4, 7.0: 9, 8.0: 7, 9.0: 1, 10.0: 6, 11.0: 11, 12.0: 10, 13.0: 12, 14.0: 14, 21.0: 13}\n",
      "{1.0: 0, 2.0: 2, 3.0: 3, 4.0: 5, 5.0: 8, 6.0: 4, 7.0: 9, 8.0: 7, 9.0: 1, 10.0: 6, 11.0: 11, 12.0: 10, 13.0: 12, 14.0: 14, 21.0: 13}\n",
      "{1.0: 0, 2.0: 2, 3.0: 3, 4.0: 5, 5.0: 8, 6.0: 4, 7.0: 9, 8.0: 7, 9.0: 1, 10.0: 6, 11.0: 11, 12.0: 10, 13.0: 12, 14.0: 14, 21.0: 13}\n",
      "{1.0: 0, 2.0: 2, 3.0: 3, 4.0: 5, 5.0: 8, 6.0: 4, 7.0: 9, 8.0: 7, 9.0: 1, 10.0: 6, 11.0: 11, 12.0: 10, 13.0: 12, 14.0: 14, 21.0: 13}\n",
      "{1.0: 0, 2.0: 2, 3.0: 3, 4.0: 5, 5.0: 8, 6.0: 4, 7.0: 9, 8.0: 7, 9.0: 1, 10.0: 6, 11.0: 11, 12.0: 10, 13.0: 12, 14.0: 14, 21.0: 13}\n",
      "{1.0: 0, 2.0: 2, 3.0: 3, 4.0: 5, 5.0: 8, 6.0: 4, 7.0: 9, 8.0: 7, 9.0: 1, 10.0: 6, 11.0: 11, 12.0: 10, 13.0: 12, 14.0: 14, 21.0: 13}\n",
      "{1.0: 0, 2.0: 2, 3.0: 3, 4.0: 5, 5.0: 8, 6.0: 4, 7.0: 9, 8.0: 7, 9.0: 1, 10.0: 6, 11.0: 11, 12.0: 10, 13.0: 12, 14.0: 14, 21.0: 13}\n",
      "{1.0: 0, 2.0: 2, 3.0: 3, 4.0: 5, 5.0: 8, 6.0: 4, 7.0: 9, 8.0: 7, 9.0: 1, 10.0: 6, 11.0: 11, 12.0: 10, 13.0: 12, 14.0: 14, 21.0: 13}\n",
      "{1.0: 0, 2.0: 2, 3.0: 3, 4.0: 5, 5.0: 8, 6.0: 4, 7.0: 9, 8.0: 7, 9.0: 1, 10.0: 6, 11.0: 11, 12.0: 10, 13.0: 12, 14.0: 14, 21.0: 13}\n",
      "{1.0: 0, 2.0: 2, 3.0: 3, 4.0: 5, 5.0: 8, 6.0: 4, 7.0: 9, 8.0: 7, 9.0: 1, 10.0: 6, 11.0: 11, 12.0: 10, 13.0: 12, 14.0: 14, 21.0: 13}\n",
      "{1.0: 0, 2.0: 2, 3.0: 3, 4.0: 5, 5.0: 8, 6.0: 4, 7.0: 9, 8.0: 7, 9.0: 1, 10.0: 6, 11.0: 11, 12.0: 10, 13.0: 12, 14.0: 14, 21.0: 13}\n",
      "{1.0: 0, 2.0: 2, 3.0: 3, 4.0: 5, 5.0: 8, 6.0: 4, 7.0: 9, 8.0: 7, 9.0: 1, 10.0: 6, 11.0: 11, 12.0: 10, 13.0: 12, 14.0: 14, 21.0: 13}\n",
      "{1.0: 0, 2.0: 2, 3.0: 3, 4.0: 5, 5.0: 8, 6.0: 4, 7.0: 9, 8.0: 7, 9.0: 1, 10.0: 6, 11.0: 11, 12.0: 10, 13.0: 12, 14.0: 14, 21.0: 13}\n",
      "{1.0: 0, 2.0: 2, 3.0: 3, 4.0: 5, 5.0: 8, 6.0: 4, 7.0: 9, 8.0: 7, 9.0: 1, 10.0: 6, 11.0: 11, 12.0: 10, 13.0: 12, 14.0: 14, 21.0: 13}\n",
      "{1.0: 0, 2.0: 2, 3.0: 3, 4.0: 5, 5.0: 8, 6.0: 4, 7.0: 9, 8.0: 7, 9.0: 1, 10.0: 6, 11.0: 11, 12.0: 10, 13.0: 12, 14.0: 14, 21.0: 13}\n",
      "{1.0: 0, 2.0: 2, 3.0: 3, 4.0: 5, 5.0: 8, 6.0: 4, 7.0: 9, 8.0: 7, 9.0: 1, 10.0: 6, 11.0: 11, 12.0: 10, 13.0: 12, 14.0: 14, 21.0: 13}\n",
      "{1.0: 0, 2.0: 2, 3.0: 3, 4.0: 5, 5.0: 8, 6.0: 4, 7.0: 9, 8.0: 7, 9.0: 1, 10.0: 6, 11.0: 11, 12.0: 10, 13.0: 12, 14.0: 14, 21.0: 13}\n",
      "{1.0: 0, 2.0: 2, 3.0: 3, 4.0: 5, 5.0: 8, 6.0: 4, 7.0: 9, 8.0: 7, 9.0: 1, 10.0: 6, 11.0: 11, 12.0: 10, 13.0: 12, 14.0: 14, 21.0: 13}\n",
      "{1.0: 0, 2.0: 2, 3.0: 3, 4.0: 5, 5.0: 8, 6.0: 4, 7.0: 9, 8.0: 7, 9.0: 1, 10.0: 6, 11.0: 11, 12.0: 10, 13.0: 12, 14.0: 14, 21.0: 13}\n",
      "{1.0: 0, 2.0: 2, 3.0: 3, 4.0: 5, 5.0: 8, 6.0: 4, 7.0: 9, 8.0: 7, 9.0: 1, 10.0: 6, 11.0: 11, 12.0: 10, 13.0: 12, 14.0: 14, 21.0: 13}\n",
      "{1.0: 0, 2.0: 2, 3.0: 3, 4.0: 5, 5.0: 8, 6.0: 4, 7.0: 9, 8.0: 7, 9.0: 1, 10.0: 6, 11.0: 11, 12.0: 10, 13.0: 12, 14.0: 14, 21.0: 13}\n",
      "{1.0: 0, 2.0: 2, 3.0: 3, 4.0: 5, 5.0: 8, 6.0: 4, 7.0: 9, 8.0: 7, 9.0: 1, 10.0: 6, 11.0: 11, 12.0: 10, 13.0: 12, 14.0: 14, 21.0: 13}\n",
      "{1.0: 0, 2.0: 2, 3.0: 3, 4.0: 5, 5.0: 8, 6.0: 4, 7.0: 9, 8.0: 7, 9.0: 1, 10.0: 6, 11.0: 11, 12.0: 10, 13.0: 12, 14.0: 14, 21.0: 13}\n",
      "{1.0: 0, 2.0: 2, 3.0: 3, 4.0: 5, 5.0: 8, 6.0: 4, 7.0: 9, 8.0: 7, 9.0: 1, 10.0: 6, 11.0: 11, 12.0: 10, 13.0: 12, 14.0: 14, 21.0: 13}\n",
      "{1.0: 0, 2.0: 2, 3.0: 3, 4.0: 5, 5.0: 8, 6.0: 4, 7.0: 9, 8.0: 7, 9.0: 1, 10.0: 6, 11.0: 11, 12.0: 10, 13.0: 12, 14.0: 14, 21.0: 13}\n",
      "{1.0: 0, 2.0: 2, 3.0: 3, 4.0: 5, 5.0: 8, 6.0: 4, 7.0: 9, 8.0: 7, 9.0: 1, 10.0: 6, 11.0: 11, 12.0: 10, 13.0: 12, 14.0: 14, 21.0: 13}\n",
      "{1.0: 0, 2.0: 2, 3.0: 3, 4.0: 5, 5.0: 8, 6.0: 4, 7.0: 9, 8.0: 7, 9.0: 1, 10.0: 6, 11.0: 11, 12.0: 10, 13.0: 12, 14.0: 14, 21.0: 13}\n",
      "{1.0: 0, 2.0: 2, 3.0: 3, 4.0: 5, 5.0: 8, 6.0: 4, 7.0: 9, 8.0: 7, 9.0: 1, 10.0: 6, 11.0: 11, 12.0: 10, 13.0: 12, 14.0: 14, 21.0: 13}\n",
      "{1.0: 0, 2.0: 2, 3.0: 3, 4.0: 5, 5.0: 8, 6.0: 4, 7.0: 9, 8.0: 7, 9.0: 1, 10.0: 6, 11.0: 11, 12.0: 10, 13.0: 12, 14.0: 14, 21.0: 13}\n",
      "{1.0: 0, 2.0: 2, 3.0: 3, 4.0: 5, 5.0: 8, 6.0: 4, 7.0: 9, 8.0: 7, 9.0: 1, 10.0: 6, 11.0: 11, 12.0: 10, 13.0: 12, 14.0: 14, 21.0: 13}\n",
      "{1.0: 0, 2.0: 2, 3.0: 3, 4.0: 5, 5.0: 8, 6.0: 4, 7.0: 9, 8.0: 7, 9.0: 1, 10.0: 6, 11.0: 11, 12.0: 10, 13.0: 12, 14.0: 14, 21.0: 13}\n",
      "{1.0: 0, 2.0: 2, 3.0: 3, 4.0: 5, 5.0: 8, 6.0: 4, 7.0: 9, 8.0: 7, 9.0: 1, 10.0: 6, 11.0: 11, 12.0: 10, 13.0: 12, 14.0: 14, 21.0: 13}\n",
      "{1.0: 0, 2.0: 2, 3.0: 3, 4.0: 5, 5.0: 8, 6.0: 4, 7.0: 9, 8.0: 7, 9.0: 1, 10.0: 6, 11.0: 11, 12.0: 10, 13.0: 12, 14.0: 14, 21.0: 13}\n",
      "{1.0: 0, 2.0: 2, 3.0: 3, 4.0: 5, 5.0: 8, 6.0: 4, 7.0: 9, 8.0: 7, 9.0: 1, 10.0: 6, 11.0: 11, 12.0: 10, 13.0: 12, 14.0: 14, 21.0: 13}\n",
      "{1.0: 0, 2.0: 2, 3.0: 3, 4.0: 5, 5.0: 8, 6.0: 4, 7.0: 9, 8.0: 7, 9.0: 1, 10.0: 6, 11.0: 11, 12.0: 10, 13.0: 12, 14.0: 14, 21.0: 13}\n",
      "{1.0: 0, 2.0: 2, 3.0: 3, 4.0: 5, 5.0: 8, 6.0: 4, 7.0: 9, 8.0: 7, 9.0: 1, 10.0: 6, 11.0: 11, 12.0: 10, 13.0: 12, 14.0: 14, 21.0: 13}\n",
      "{1.0: 0, 2.0: 2, 3.0: 3, 4.0: 5, 5.0: 8, 6.0: 4, 7.0: 9, 8.0: 7, 9.0: 1, 10.0: 6, 11.0: 11, 12.0: 10, 13.0: 12, 14.0: 14, 21.0: 13}\n",
      "{1.0: 0, 2.0: 2, 3.0: 3, 4.0: 5, 5.0: 8, 6.0: 4, 7.0: 9, 8.0: 7, 9.0: 1, 10.0: 6, 11.0: 11, 12.0: 10, 13.0: 12, 14.0: 14, 21.0: 13}\n",
      "{1.0: 0, 2.0: 2, 3.0: 3, 4.0: 5, 5.0: 8, 6.0: 4, 7.0: 9, 8.0: 7, 9.0: 1, 10.0: 6, 11.0: 11, 12.0: 10, 13.0: 12, 14.0: 14, 21.0: 13}\n",
      "{1.0: 0, 2.0: 2, 3.0: 3, 4.0: 5, 5.0: 8, 6.0: 4, 7.0: 9, 8.0: 7, 9.0: 1, 10.0: 6, 11.0: 11, 12.0: 10, 13.0: 12, 14.0: 14, 21.0: 13}\n",
      "{1.0: 0, 2.0: 2, 3.0: 3, 4.0: 5, 5.0: 8, 6.0: 4, 7.0: 9, 8.0: 7, 9.0: 1, 10.0: 6, 11.0: 11, 12.0: 10, 13.0: 12, 14.0: 14, 21.0: 13}\n",
      "{1.0: 0, 2.0: 2, 3.0: 3, 4.0: 5, 5.0: 8, 6.0: 4, 7.0: 9, 8.0: 7, 9.0: 1, 10.0: 6, 11.0: 11, 12.0: 10, 13.0: 12, 14.0: 14, 21.0: 13}\n",
      "{1.0: 0, 2.0: 2, 3.0: 3, 4.0: 5, 5.0: 8, 6.0: 4, 7.0: 9, 8.0: 7, 9.0: 1, 10.0: 6, 11.0: 11, 12.0: 10, 13.0: 12, 14.0: 14, 21.0: 13}\n",
      "{1.0: 0, 2.0: 2, 3.0: 3, 4.0: 5, 5.0: 8, 6.0: 4, 7.0: 9, 8.0: 7, 9.0: 1, 10.0: 6, 11.0: 11, 12.0: 10, 13.0: 12, 14.0: 14, 21.0: 13}\n",
      "{1.0: 0, 2.0: 2, 3.0: 3, 4.0: 5, 5.0: 8, 6.0: 4, 7.0: 9, 8.0: 7, 9.0: 1, 10.0: 6, 11.0: 11, 12.0: 10, 13.0: 12, 14.0: 14, 21.0: 13}\n",
      "{1.0: 0, 2.0: 2, 3.0: 3, 4.0: 5, 5.0: 8, 6.0: 4, 7.0: 9, 8.0: 7, 9.0: 1, 10.0: 6, 11.0: 11, 12.0: 10, 13.0: 12, 14.0: 14, 21.0: 13}\n",
      "{1.0: 0, 2.0: 2, 3.0: 3, 4.0: 5, 5.0: 8, 6.0: 4, 7.0: 9, 8.0: 7, 9.0: 1, 10.0: 6, 11.0: 11, 12.0: 10, 13.0: 12, 14.0: 14, 21.0: 13}\n",
      "{1.0: 0, 2.0: 2, 3.0: 3, 4.0: 5, 5.0: 8, 6.0: 4, 7.0: 9, 8.0: 7, 9.0: 1, 10.0: 6, 11.0: 11, 12.0: 10, 13.0: 12, 14.0: 14, 21.0: 13}\n",
      "{1.0: 0, 2.0: 2, 3.0: 3, 4.0: 5, 5.0: 8, 6.0: 4, 7.0: 9, 8.0: 7, 9.0: 1, 10.0: 6, 11.0: 11, 12.0: 10, 13.0: 12, 14.0: 14, 21.0: 13}\n",
      "{1.0: 0, 2.0: 2, 3.0: 3, 4.0: 5, 5.0: 8, 6.0: 4, 7.0: 9, 8.0: 7, 9.0: 1, 10.0: 6, 11.0: 11, 12.0: 10, 13.0: 12, 14.0: 14, 21.0: 13}\n",
      "{1.0: 0, 2.0: 2, 3.0: 3, 4.0: 5, 5.0: 8, 6.0: 4, 7.0: 9, 8.0: 7, 9.0: 1, 10.0: 6, 11.0: 11, 12.0: 10, 13.0: 12, 14.0: 14, 21.0: 13}\n",
      "{1.0: 0, 2.0: 2, 3.0: 3, 4.0: 5, 5.0: 8, 6.0: 4, 7.0: 9, 8.0: 7, 9.0: 1, 10.0: 6, 11.0: 11, 12.0: 10, 13.0: 12, 14.0: 14, 21.0: 13}\n",
      "{1.0: 0, 2.0: 2, 3.0: 3, 4.0: 5, 5.0: 8, 6.0: 4, 7.0: 9, 8.0: 7, 9.0: 1, 10.0: 6, 11.0: 11, 12.0: 10, 13.0: 12, 14.0: 14, 21.0: 13}\n",
      "{1.0: 0, 2.0: 2, 3.0: 3, 4.0: 5, 5.0: 8, 6.0: 4, 7.0: 9, 8.0: 7, 9.0: 1, 10.0: 6, 11.0: 11, 12.0: 10, 13.0: 12, 14.0: 14, 21.0: 13}\n",
      "{1.0: 0, 2.0: 2, 3.0: 3, 4.0: 5, 5.0: 8, 6.0: 4, 7.0: 9, 8.0: 7, 9.0: 1, 10.0: 6, 11.0: 11, 12.0: 10, 13.0: 12, 14.0: 14, 21.0: 13}\n",
      "{1.0: 0, 2.0: 2, 3.0: 3, 4.0: 5, 5.0: 8, 6.0: 4, 7.0: 9, 8.0: 7, 9.0: 1, 10.0: 6, 11.0: 11, 12.0: 10, 13.0: 12, 14.0: 14, 21.0: 13}\n",
      "{1.0: 0, 2.0: 2, 3.0: 3, 4.0: 5, 5.0: 8, 6.0: 4, 7.0: 9, 8.0: 7, 9.0: 1, 10.0: 6, 11.0: 11, 12.0: 10, 13.0: 12, 14.0: 14, 21.0: 13}\n",
      "{1.0: 0, 2.0: 2, 3.0: 3, 4.0: 5, 5.0: 8, 6.0: 4, 7.0: 9, 8.0: 7, 9.0: 1, 10.0: 6, 11.0: 11, 12.0: 10, 13.0: 12, 14.0: 14, 21.0: 13}\n",
      "{1.0: 0, 2.0: 2, 3.0: 3, 4.0: 5, 5.0: 8, 6.0: 4, 7.0: 9, 8.0: 7, 9.0: 1, 10.0: 6, 11.0: 11, 12.0: 10, 13.0: 12, 14.0: 14, 21.0: 13}\n",
      "{1.0: 0, 2.0: 2, 3.0: 3, 4.0: 5, 5.0: 8, 6.0: 4, 7.0: 9, 8.0: 7, 9.0: 1, 10.0: 6, 11.0: 11, 12.0: 10, 13.0: 12, 14.0: 14, 21.0: 13}\n",
      "{1.0: 0, 2.0: 2, 3.0: 3, 4.0: 5, 5.0: 8, 6.0: 4, 7.0: 9, 8.0: 7, 9.0: 1, 10.0: 6, 11.0: 11, 12.0: 10, 13.0: 12, 14.0: 14, 21.0: 13}\n",
      "{1.0: 0, 2.0: 2, 3.0: 3, 4.0: 5, 5.0: 8, 6.0: 4, 7.0: 9, 8.0: 7, 9.0: 1, 10.0: 6, 11.0: 11, 12.0: 10, 13.0: 12, 14.0: 14, 21.0: 13}\n",
      "{1.0: 0, 2.0: 2, 3.0: 3, 4.0: 5, 5.0: 8, 6.0: 4, 7.0: 9, 8.0: 7, 9.0: 1, 10.0: 6, 11.0: 11, 12.0: 10, 13.0: 12, 14.0: 14, 21.0: 13}\n",
      "{1.0: 0, 2.0: 2, 3.0: 3, 4.0: 5, 5.0: 8, 6.0: 4, 7.0: 9, 8.0: 7, 9.0: 1, 10.0: 6, 11.0: 11, 12.0: 10, 13.0: 12, 14.0: 14, 21.0: 13}\n",
      "{1.0: 0, 2.0: 2, 3.0: 3, 4.0: 5, 5.0: 8, 6.0: 4, 7.0: 9, 8.0: 7, 9.0: 1, 10.0: 6, 11.0: 11, 12.0: 10, 13.0: 12, 14.0: 14, 21.0: 13}\n",
      "{1.0: 0, 2.0: 2, 3.0: 3, 4.0: 5, 5.0: 8, 6.0: 4, 7.0: 9, 8.0: 7, 9.0: 1, 10.0: 6, 11.0: 11, 12.0: 10, 13.0: 12, 14.0: 14, 21.0: 13}\n",
      "{1.0: 0, 2.0: 2, 3.0: 3, 4.0: 5, 5.0: 8, 6.0: 4, 7.0: 9, 8.0: 7, 9.0: 1, 10.0: 6, 11.0: 11, 12.0: 10, 13.0: 12, 14.0: 14, 21.0: 13}\n",
      "{1.0: 0, 2.0: 2, 3.0: 3, 4.0: 5, 5.0: 8, 6.0: 4, 7.0: 9, 8.0: 7, 9.0: 1, 10.0: 6, 11.0: 11, 12.0: 10, 13.0: 12, 14.0: 14, 21.0: 13}\n",
      "{1.0: 0, 2.0: 2, 3.0: 3, 4.0: 5, 5.0: 8, 6.0: 4, 7.0: 9, 8.0: 7, 9.0: 1, 10.0: 6, 11.0: 11, 12.0: 10, 13.0: 12, 14.0: 14, 21.0: 13}\n",
      "{1.0: 0, 2.0: 2, 3.0: 3, 4.0: 5, 5.0: 8, 6.0: 4, 7.0: 9, 8.0: 7, 9.0: 1, 10.0: 6, 11.0: 11, 12.0: 10, 13.0: 12, 14.0: 14, 21.0: 13}\n",
      "{1.0: 0, 2.0: 2, 3.0: 3, 4.0: 5, 5.0: 8, 6.0: 4, 7.0: 9, 8.0: 7, 9.0: 1, 10.0: 6, 11.0: 11, 12.0: 10, 13.0: 12, 14.0: 14, 21.0: 13}\n",
      "{1.0: 0, 2.0: 2, 3.0: 3, 4.0: 5, 5.0: 8, 6.0: 4, 7.0: 9, 8.0: 7, 9.0: 1, 10.0: 6, 11.0: 11, 12.0: 10, 13.0: 12, 14.0: 14, 21.0: 13}\n",
      "{1.0: 0, 2.0: 2, 3.0: 3, 4.0: 5, 5.0: 8, 6.0: 4, 7.0: 9, 8.0: 7, 9.0: 1, 10.0: 6, 11.0: 11, 12.0: 10, 13.0: 12, 14.0: 14, 21.0: 13}\n",
      "{1.0: 0, 2.0: 2, 3.0: 3, 4.0: 5, 5.0: 8, 6.0: 4, 7.0: 9, 8.0: 7, 9.0: 1, 10.0: 6, 11.0: 11, 12.0: 10, 13.0: 12, 14.0: 14, 21.0: 13}\n",
      "{1.0: 0, 2.0: 2, 3.0: 3, 4.0: 5, 5.0: 8, 6.0: 4, 7.0: 9, 8.0: 7, 9.0: 1, 10.0: 6, 11.0: 11, 12.0: 10, 13.0: 12, 14.0: 14, 21.0: 13}\n",
      "{1.0: 0, 2.0: 2, 3.0: 3, 4.0: 5, 5.0: 8, 6.0: 4, 7.0: 9, 8.0: 7, 9.0: 1, 10.0: 6, 11.0: 11, 12.0: 10, 13.0: 12, 14.0: 14, 21.0: 13}\n",
      "{1.0: 0, 2.0: 2, 3.0: 3, 4.0: 5, 5.0: 8, 6.0: 4, 7.0: 9, 8.0: 7, 9.0: 1, 10.0: 6, 11.0: 11, 12.0: 10, 13.0: 12, 14.0: 14, 21.0: 13}\n",
      "{1.0: 0, 2.0: 2, 3.0: 3, 4.0: 5, 5.0: 8, 6.0: 4, 7.0: 9, 8.0: 7, 9.0: 1, 10.0: 6, 11.0: 11, 12.0: 10, 13.0: 12, 14.0: 14, 21.0: 13}\n",
      "{1.0: 0, 2.0: 2, 3.0: 3, 4.0: 5, 5.0: 8, 6.0: 4, 7.0: 9, 8.0: 7, 9.0: 1, 10.0: 6, 11.0: 11, 12.0: 10, 13.0: 12, 14.0: 14, 21.0: 13}\n",
      "{1.0: 0, 2.0: 2, 3.0: 3, 4.0: 5, 5.0: 8, 6.0: 4, 7.0: 9, 8.0: 7, 9.0: 1, 10.0: 6, 11.0: 11, 12.0: 10, 13.0: 12, 14.0: 14, 21.0: 13}\n",
      "{1.0: 0, 2.0: 2, 3.0: 3, 4.0: 5, 5.0: 8, 6.0: 4, 7.0: 9, 8.0: 7, 9.0: 1, 10.0: 6, 11.0: 11, 12.0: 10, 13.0: 12, 14.0: 14, 21.0: 13}\n",
      "{1.0: 0, 2.0: 2, 3.0: 3, 4.0: 5, 5.0: 8, 6.0: 4, 7.0: 9, 8.0: 7, 9.0: 1, 10.0: 6, 11.0: 11, 12.0: 10, 13.0: 12, 14.0: 14, 21.0: 13}\n",
      "{1.0: 0, 2.0: 2, 3.0: 3, 4.0: 5, 5.0: 8, 6.0: 4, 7.0: 9, 8.0: 7, 9.0: 1, 10.0: 6, 11.0: 11, 12.0: 10, 13.0: 12, 14.0: 14, 21.0: 13}\n",
      "{1.0: 0, 2.0: 2, 3.0: 3, 4.0: 5, 5.0: 8, 6.0: 4, 7.0: 9, 8.0: 7, 9.0: 1, 10.0: 6, 11.0: 11, 12.0: 10, 13.0: 12, 14.0: 14, 21.0: 13}\n",
      "{1.0: 0, 2.0: 2, 3.0: 3, 4.0: 5, 5.0: 8, 6.0: 4, 7.0: 9, 8.0: 7, 9.0: 1, 10.0: 6, 11.0: 11, 12.0: 10, 13.0: 12, 14.0: 14, 21.0: 13}\n",
      "{1.0: 0, 2.0: 2, 3.0: 3, 4.0: 5, 5.0: 8, 6.0: 4, 7.0: 9, 8.0: 7, 9.0: 1, 10.0: 6, 11.0: 11, 12.0: 10, 13.0: 12, 14.0: 14, 21.0: 13}\n",
      "{1.0: 0, 2.0: 2, 3.0: 3, 4.0: 5, 5.0: 8, 6.0: 4, 7.0: 9, 8.0: 7, 9.0: 1, 10.0: 6, 11.0: 11, 12.0: 10, 13.0: 12, 14.0: 14, 21.0: 13}\n",
      "{1.0: 0, 2.0: 2, 3.0: 3, 4.0: 5, 5.0: 8, 6.0: 4, 7.0: 9, 8.0: 7, 9.0: 1, 10.0: 6, 11.0: 11, 12.0: 10, 13.0: 12, 14.0: 14, 21.0: 13}\n",
      "{1.0: 0, 2.0: 2, 3.0: 3, 4.0: 5, 5.0: 8, 6.0: 4, 7.0: 9, 8.0: 7, 9.0: 1, 10.0: 6, 11.0: 11, 12.0: 10, 13.0: 12, 14.0: 14, 21.0: 13}\n",
      "{1.0: 0, 2.0: 2, 3.0: 3, 4.0: 5, 5.0: 8, 6.0: 4, 7.0: 9, 8.0: 7, 9.0: 1, 10.0: 6, 11.0: 11, 12.0: 10, 13.0: 12, 14.0: 14, 21.0: 13}\n",
      "{1.0: 0, 2.0: 2, 3.0: 3, 4.0: 5, 5.0: 8, 6.0: 4, 7.0: 9, 8.0: 7, 9.0: 1, 10.0: 6, 11.0: 11, 12.0: 10, 13.0: 12, 14.0: 14, 21.0: 13}\n",
      "{1.0: 0, 2.0: 2, 3.0: 3, 4.0: 5, 5.0: 8, 6.0: 4, 7.0: 9, 8.0: 7, 9.0: 1, 10.0: 6, 11.0: 11, 12.0: 10, 13.0: 12, 14.0: 14, 21.0: 13}\n",
      "{1.0: 0, 2.0: 2, 3.0: 3, 4.0: 5, 5.0: 8, 6.0: 4, 7.0: 9, 8.0: 7, 9.0: 1, 10.0: 6, 11.0: 11, 12.0: 10, 13.0: 12, 14.0: 14, 21.0: 13}\n",
      "{1.0: 0, 2.0: 2, 3.0: 3, 4.0: 5, 5.0: 8, 6.0: 4, 7.0: 9, 8.0: 7, 9.0: 1, 10.0: 6, 11.0: 11, 12.0: 10, 13.0: 12, 14.0: 14, 21.0: 13}\n",
      "{1.0: 0, 2.0: 2, 3.0: 3, 4.0: 5, 5.0: 8, 6.0: 4, 7.0: 9, 8.0: 7, 9.0: 1, 10.0: 6, 11.0: 11, 12.0: 10, 13.0: 12, 14.0: 14, 21.0: 13}\n",
      "{1.0: 0, 2.0: 2, 3.0: 3, 4.0: 5, 5.0: 8, 6.0: 4, 7.0: 9, 8.0: 7, 9.0: 1, 10.0: 6, 11.0: 11, 12.0: 10, 13.0: 12, 14.0: 14, 21.0: 13}\n",
      "{1.0: 0, 2.0: 2, 3.0: 3, 4.0: 5, 5.0: 8, 6.0: 4, 7.0: 9, 8.0: 7, 9.0: 1, 10.0: 6, 11.0: 11, 12.0: 10, 13.0: 12, 14.0: 14, 21.0: 13}\n",
      "{1.0: 0, 2.0: 2, 3.0: 3, 4.0: 5, 5.0: 8, 6.0: 4, 7.0: 9, 8.0: 7, 9.0: 1, 10.0: 6, 11.0: 11, 12.0: 10, 13.0: 12, 14.0: 14, 21.0: 13}\n",
      "{1.0: 0, 2.0: 2, 3.0: 3, 4.0: 5, 5.0: 8, 6.0: 4, 7.0: 9, 8.0: 7, 9.0: 1, 10.0: 6, 11.0: 11, 12.0: 10, 13.0: 12, 14.0: 14, 21.0: 13}\n",
      "{1.0: 0, 2.0: 2, 3.0: 3, 4.0: 5, 5.0: 8, 6.0: 4, 7.0: 9, 8.0: 7, 9.0: 1, 10.0: 6, 11.0: 11, 12.0: 10, 13.0: 12, 14.0: 14, 21.0: 13}\n",
      "{1.0: 0, 2.0: 2, 3.0: 3, 4.0: 5, 5.0: 8, 6.0: 4, 7.0: 9, 8.0: 7, 9.0: 1, 10.0: 6, 11.0: 11, 12.0: 10, 13.0: 12, 14.0: 14, 21.0: 13}\n",
      "{1.0: 0, 2.0: 2, 3.0: 3, 4.0: 5, 5.0: 8, 6.0: 4, 7.0: 9, 8.0: 7, 9.0: 1, 10.0: 6, 11.0: 11, 12.0: 10, 13.0: 12, 14.0: 14, 21.0: 13}\n",
      "{1.0: 0, 2.0: 2, 3.0: 3, 4.0: 5, 5.0: 8, 6.0: 4, 7.0: 9, 8.0: 7, 9.0: 1, 10.0: 6, 11.0: 11, 12.0: 10, 13.0: 12, 14.0: 14, 21.0: 13}\n",
      "{1.0: 0, 2.0: 2, 3.0: 3, 4.0: 5, 5.0: 8, 6.0: 4, 7.0: 9, 8.0: 7, 9.0: 1, 10.0: 6, 11.0: 11, 12.0: 10, 13.0: 12, 14.0: 14, 21.0: 13}\n",
      "{1.0: 0, 2.0: 2, 3.0: 3, 4.0: 5, 5.0: 8, 6.0: 4, 7.0: 9, 8.0: 7, 9.0: 1, 10.0: 6, 11.0: 11, 12.0: 10, 13.0: 12, 14.0: 14, 21.0: 13}\n",
      "{1.0: 0, 2.0: 2, 3.0: 3, 4.0: 5, 5.0: 8, 6.0: 4, 7.0: 9, 8.0: 7, 9.0: 1, 10.0: 6, 11.0: 11, 12.0: 10, 13.0: 12, 14.0: 14, 21.0: 13}\n",
      "{1.0: 0, 2.0: 2, 3.0: 3, 4.0: 5, 5.0: 8, 6.0: 4, 7.0: 9, 8.0: 7, 9.0: 1, 10.0: 6, 11.0: 11, 12.0: 10, 13.0: 12, 14.0: 14, 21.0: 13}\n",
      "{1.0: 0, 2.0: 2, 3.0: 3, 4.0: 5, 5.0: 8, 6.0: 4, 7.0: 9, 8.0: 7, 9.0: 1, 10.0: 6, 11.0: 11, 12.0: 10, 13.0: 12, 14.0: 14, 21.0: 13}\n",
      "{1.0: 0, 2.0: 2, 3.0: 3, 4.0: 5, 5.0: 8, 6.0: 4, 7.0: 9, 8.0: 7, 9.0: 1, 10.0: 6, 11.0: 11, 12.0: 10, 13.0: 12, 14.0: 14, 21.0: 13}\n",
      "{1.0: 0, 2.0: 2, 3.0: 3, 4.0: 5, 5.0: 8, 6.0: 4, 7.0: 9, 8.0: 7, 9.0: 1, 10.0: 6, 11.0: 11, 12.0: 10, 13.0: 12, 14.0: 14, 21.0: 13}\n",
      "{1.0: 0, 2.0: 2, 3.0: 3, 4.0: 5, 5.0: 8, 6.0: 4, 7.0: 9, 8.0: 7, 9.0: 1, 10.0: 6, 11.0: 11, 12.0: 10, 13.0: 12, 14.0: 14, 21.0: 13}\n",
      "{1.0: 0, 2.0: 2, 3.0: 3, 4.0: 5, 5.0: 8, 6.0: 4, 7.0: 9, 8.0: 7, 9.0: 1, 10.0: 6, 11.0: 11, 12.0: 10, 13.0: 12, 14.0: 14, 21.0: 13}\n",
      "{1.0: 0, 2.0: 2, 3.0: 3, 4.0: 5, 5.0: 8, 6.0: 4, 7.0: 9, 8.0: 7, 9.0: 1, 10.0: 6, 11.0: 11, 12.0: 10, 13.0: 12, 14.0: 14, 21.0: 13}\n",
      "{1.0: 0, 2.0: 2, 3.0: 3, 4.0: 5, 5.0: 8, 6.0: 4, 7.0: 9, 8.0: 7, 9.0: 1, 10.0: 6, 11.0: 11, 12.0: 10, 13.0: 12, 14.0: 14, 21.0: 13}\n",
      "{1.0: 0, 2.0: 2, 3.0: 3, 4.0: 5, 5.0: 8, 6.0: 4, 7.0: 9, 8.0: 7, 9.0: 1, 10.0: 6, 11.0: 11, 12.0: 10, 13.0: 12, 14.0: 14, 21.0: 13}\n",
      "{1.0: 0, 2.0: 2, 3.0: 3, 4.0: 5, 5.0: 8, 6.0: 4, 7.0: 9, 8.0: 7, 9.0: 1, 10.0: 6, 11.0: 11, 12.0: 10, 13.0: 12, 14.0: 14, 21.0: 13}\n",
      "{1.0: 0, 2.0: 2, 3.0: 3, 4.0: 5, 5.0: 8, 6.0: 4, 7.0: 9, 8.0: 7, 9.0: 1, 10.0: 6, 11.0: 11, 12.0: 10, 13.0: 12, 14.0: 14, 21.0: 13}\n",
      "{1.0: 0, 2.0: 2, 3.0: 3, 4.0: 5, 5.0: 8, 6.0: 4, 7.0: 9, 8.0: 7, 9.0: 1, 10.0: 6, 11.0: 11, 12.0: 10, 13.0: 12, 14.0: 14, 21.0: 13}\n",
      "{1.0: 0, 2.0: 2, 3.0: 3, 4.0: 5, 5.0: 8, 6.0: 4, 7.0: 9, 8.0: 7, 9.0: 1, 10.0: 6, 11.0: 11, 12.0: 10, 13.0: 12, 14.0: 14, 21.0: 13}\n",
      "{1.0: 0, 2.0: 2, 3.0: 3, 4.0: 5, 5.0: 8, 6.0: 4, 7.0: 9, 8.0: 7, 9.0: 1, 10.0: 6, 11.0: 11, 12.0: 10, 13.0: 12, 14.0: 14, 21.0: 13}\n",
      "{1.0: 0, 2.0: 2, 3.0: 3, 4.0: 5, 5.0: 8, 6.0: 4, 7.0: 9, 8.0: 7, 9.0: 1, 10.0: 6, 11.0: 11, 12.0: 10, 13.0: 12, 14.0: 14, 21.0: 13}\n",
      "{1.0: 0, 2.0: 2, 3.0: 3, 4.0: 5, 5.0: 8, 6.0: 4, 7.0: 9, 8.0: 7, 9.0: 1, 10.0: 6, 11.0: 11, 12.0: 10, 13.0: 12, 14.0: 14, 21.0: 13}\n",
      "{1.0: 0, 2.0: 2, 3.0: 3, 4.0: 5, 5.0: 8, 6.0: 4, 7.0: 9, 8.0: 7, 9.0: 1, 10.0: 6, 11.0: 11, 12.0: 10, 13.0: 12, 14.0: 14, 21.0: 13}\n",
      "{1.0: 0, 2.0: 2, 3.0: 3, 4.0: 5, 5.0: 8, 6.0: 4, 7.0: 9, 8.0: 7, 9.0: 1, 10.0: 6, 11.0: 11, 12.0: 10, 13.0: 12, 14.0: 14, 21.0: 13}\n",
      "{1.0: 0, 2.0: 2, 3.0: 3, 4.0: 5, 5.0: 8, 6.0: 4, 7.0: 9, 8.0: 7, 9.0: 1, 10.0: 6, 11.0: 11, 12.0: 10, 13.0: 12, 14.0: 14, 21.0: 13}\n",
      "{1.0: 0, 2.0: 2, 3.0: 3, 4.0: 5, 5.0: 8, 6.0: 4, 7.0: 9, 8.0: 7, 9.0: 1, 10.0: 6, 11.0: 11, 12.0: 10, 13.0: 12, 14.0: 14, 21.0: 13}\n",
      "{1.0: 0, 2.0: 2, 3.0: 3, 4.0: 5, 5.0: 8, 6.0: 4, 7.0: 9, 8.0: 7, 9.0: 1, 10.0: 6, 11.0: 11, 12.0: 10, 13.0: 12, 14.0: 14, 21.0: 13}\n",
      "{1.0: 0, 2.0: 2, 3.0: 3, 4.0: 5, 5.0: 8, 6.0: 4, 7.0: 9, 8.0: 7, 9.0: 1, 10.0: 6, 11.0: 11, 12.0: 10, 13.0: 12, 14.0: 14, 21.0: 13}\n",
      "{1.0: 0, 2.0: 2, 3.0: 3, 4.0: 5, 5.0: 8, 6.0: 4, 7.0: 9, 8.0: 7, 9.0: 1, 10.0: 6, 11.0: 11, 12.0: 10, 13.0: 12, 14.0: 14, 21.0: 13}\n",
      "{1.0: 0, 2.0: 2, 3.0: 3, 4.0: 5, 5.0: 8, 6.0: 4, 7.0: 9, 8.0: 7, 9.0: 1, 10.0: 6, 11.0: 11, 12.0: 10, 13.0: 12, 14.0: 14, 21.0: 13}\n",
      "{1.0: 0, 2.0: 2, 3.0: 3, 4.0: 5, 5.0: 8, 6.0: 4, 7.0: 9, 8.0: 7, 9.0: 1, 10.0: 6, 11.0: 11, 12.0: 10, 13.0: 12, 14.0: 14, 21.0: 13}\n",
      "{1.0: 0, 2.0: 2, 3.0: 3, 4.0: 5, 5.0: 8, 6.0: 4, 7.0: 9, 8.0: 7, 9.0: 1, 10.0: 6, 11.0: 11, 12.0: 10, 13.0: 12, 14.0: 14, 21.0: 13}\n",
      "{1.0: 0, 2.0: 2, 3.0: 3, 4.0: 5, 5.0: 8, 6.0: 4, 7.0: 9, 8.0: 7, 9.0: 1, 10.0: 6, 11.0: 11, 12.0: 10, 13.0: 12, 14.0: 14, 21.0: 13}\n",
      "{1.0: 0, 2.0: 2, 3.0: 3, 4.0: 5, 5.0: 8, 6.0: 4, 7.0: 9, 8.0: 7, 9.0: 1, 10.0: 6, 11.0: 11, 12.0: 10, 13.0: 12, 14.0: 14, 21.0: 13}\n",
      "{1.0: 0, 2.0: 2, 3.0: 3, 4.0: 5, 5.0: 8, 6.0: 4, 7.0: 9, 8.0: 7, 9.0: 1, 10.0: 6, 11.0: 11, 12.0: 10, 13.0: 12, 14.0: 14, 21.0: 13}\n",
      "{1.0: 0, 2.0: 2, 3.0: 3, 4.0: 5, 5.0: 8, 6.0: 4, 7.0: 9, 8.0: 7, 9.0: 1, 10.0: 6, 11.0: 11, 12.0: 10, 13.0: 12, 14.0: 14, 21.0: 13}\n",
      "{1.0: 0, 2.0: 2, 3.0: 3, 4.0: 5, 5.0: 8, 6.0: 4, 7.0: 9, 8.0: 7, 9.0: 1, 10.0: 6, 11.0: 11, 12.0: 10, 13.0: 12, 14.0: 14, 21.0: 13}\n",
      "{1.0: 0, 2.0: 2, 3.0: 3, 4.0: 5, 5.0: 8, 6.0: 4, 7.0: 9, 8.0: 7, 9.0: 1, 10.0: 6, 11.0: 11, 12.0: 10, 13.0: 12, 14.0: 14, 21.0: 13}\n",
      "{1.0: 0, 2.0: 2, 3.0: 3, 4.0: 5, 5.0: 8, 6.0: 4, 7.0: 9, 8.0: 7, 9.0: 1, 10.0: 6, 11.0: 11, 12.0: 10, 13.0: 12, 14.0: 14, 21.0: 13}\n",
      "{1.0: 0, 2.0: 2, 3.0: 3, 4.0: 5, 5.0: 8, 6.0: 4, 7.0: 9, 8.0: 7, 9.0: 1, 10.0: 6, 11.0: 11, 12.0: 10, 13.0: 12, 14.0: 14, 21.0: 13}\n",
      "{1.0: 0, 2.0: 2, 3.0: 3, 4.0: 5, 5.0: 8, 6.0: 4, 7.0: 9, 8.0: 7, 9.0: 1, 10.0: 6, 11.0: 11, 12.0: 10, 13.0: 12, 14.0: 14, 21.0: 13}\n",
      "{1.0: 0, 2.0: 2, 3.0: 3, 4.0: 5, 5.0: 8, 6.0: 4, 7.0: 9, 8.0: 7, 9.0: 1, 10.0: 6, 11.0: 11, 12.0: 10, 13.0: 12, 14.0: 14, 21.0: 13}\n",
      "{1.0: 0, 2.0: 2, 3.0: 3, 4.0: 5, 5.0: 8, 6.0: 4, 7.0: 9, 8.0: 7, 9.0: 1, 10.0: 6, 11.0: 11, 12.0: 10, 13.0: 12, 14.0: 14, 21.0: 13}\n",
      "{1.0: 0, 2.0: 2, 3.0: 3, 4.0: 5, 5.0: 8, 6.0: 4, 7.0: 9, 8.0: 7, 9.0: 1, 10.0: 6, 11.0: 11, 12.0: 10, 13.0: 12, 14.0: 14, 21.0: 13}\n",
      "{1.0: 0, 2.0: 2, 3.0: 3, 4.0: 5, 5.0: 8, 6.0: 4, 7.0: 9, 8.0: 7, 9.0: 1, 10.0: 6, 11.0: 11, 12.0: 10, 13.0: 12, 14.0: 14, 21.0: 13}\n",
      "{1.0: 0, 2.0: 2, 3.0: 3, 4.0: 5, 5.0: 8, 6.0: 4, 7.0: 9, 8.0: 7, 9.0: 1, 10.0: 6, 11.0: 11, 12.0: 10, 13.0: 12, 14.0: 14, 21.0: 13}\n",
      "{1.0: 0, 2.0: 2, 3.0: 3, 4.0: 5, 5.0: 8, 6.0: 4, 7.0: 9, 8.0: 7, 9.0: 1, 10.0: 6, 11.0: 11, 12.0: 10, 13.0: 12, 14.0: 14, 21.0: 13}\n",
      "{1.0: 0, 2.0: 2, 3.0: 3, 4.0: 5, 5.0: 8, 6.0: 4, 7.0: 9, 8.0: 7, 9.0: 1, 10.0: 6, 11.0: 11, 12.0: 10, 13.0: 12, 14.0: 14, 21.0: 13}\n",
      "{1.0: 0, 2.0: 2, 3.0: 3, 4.0: 5, 5.0: 8, 6.0: 4, 7.0: 9, 8.0: 7, 9.0: 1, 10.0: 6, 11.0: 11, 12.0: 10, 13.0: 12, 14.0: 14, 21.0: 13}\n",
      "{1.0: 0, 2.0: 2, 3.0: 3, 4.0: 5, 5.0: 8, 6.0: 4, 7.0: 9, 8.0: 7, 9.0: 1, 10.0: 6, 11.0: 11, 12.0: 10, 13.0: 12, 14.0: 14, 21.0: 13}\n",
      "{1.0: 0, 2.0: 2, 3.0: 3, 4.0: 5, 5.0: 8, 6.0: 4, 7.0: 9, 8.0: 7, 9.0: 1, 10.0: 6, 11.0: 11, 12.0: 10, 13.0: 12, 14.0: 14, 21.0: 13}\n",
      "{1.0: 0, 2.0: 2, 3.0: 3, 4.0: 5, 5.0: 8, 6.0: 4, 7.0: 9, 8.0: 7, 9.0: 1, 10.0: 6, 11.0: 11, 12.0: 10, 13.0: 12, 14.0: 14, 21.0: 13}\n",
      "{1.0: 0, 2.0: 2, 3.0: 3, 4.0: 5, 5.0: 8, 6.0: 4, 7.0: 9, 8.0: 7, 9.0: 1, 10.0: 6, 11.0: 11, 12.0: 10, 13.0: 12, 14.0: 14, 21.0: 13}\n",
      "{1.0: 0, 2.0: 2, 3.0: 3, 4.0: 5, 5.0: 8, 6.0: 4, 7.0: 9, 8.0: 7, 9.0: 1, 10.0: 6, 11.0: 11, 12.0: 10, 13.0: 12, 14.0: 14, 21.0: 13}\n",
      "{1.0: 0, 2.0: 2, 3.0: 3, 4.0: 5, 5.0: 8, 6.0: 4, 7.0: 9, 8.0: 7, 9.0: 1, 10.0: 6, 11.0: 11, 12.0: 10, 13.0: 12, 14.0: 14, 21.0: 13}\n",
      "{1.0: 0, 2.0: 2, 3.0: 3, 4.0: 5, 5.0: 8, 6.0: 4, 7.0: 9, 8.0: 7, 9.0: 1, 10.0: 6, 11.0: 11, 12.0: 10, 13.0: 12, 14.0: 14, 21.0: 13}\n",
      "{1.0: 0, 2.0: 2, 3.0: 3, 4.0: 5, 5.0: 8, 6.0: 4, 7.0: 9, 8.0: 7, 9.0: 1, 10.0: 6, 11.0: 11, 12.0: 10, 13.0: 12, 14.0: 14, 21.0: 13}\n",
      "{1.0: 0, 2.0: 2, 3.0: 3, 4.0: 5, 5.0: 8, 6.0: 4, 7.0: 9, 8.0: 7, 9.0: 1, 10.0: 6, 11.0: 11, 12.0: 10, 13.0: 12, 14.0: 14, 21.0: 13}\n",
      "{1.0: 0, 2.0: 2, 3.0: 3, 4.0: 5, 5.0: 8, 6.0: 4, 7.0: 9, 8.0: 7, 9.0: 1, 10.0: 6, 11.0: 11, 12.0: 10, 13.0: 12, 14.0: 14, 21.0: 13}\n",
      "{1.0: 0, 2.0: 2, 3.0: 3, 4.0: 5, 5.0: 8, 6.0: 4, 7.0: 9, 8.0: 7, 9.0: 1, 10.0: 6, 11.0: 11, 12.0: 10, 13.0: 12, 14.0: 14, 21.0: 13}\n",
      "{1.0: 0, 2.0: 2, 3.0: 3, 4.0: 5, 5.0: 8, 6.0: 4, 7.0: 9, 8.0: 7, 9.0: 1, 10.0: 6, 11.0: 11, 12.0: 10, 13.0: 12, 14.0: 14, 21.0: 13}\n",
      "{1.0: 0, 2.0: 2, 3.0: 3, 4.0: 5, 5.0: 8, 6.0: 4, 7.0: 9, 8.0: 7, 9.0: 1, 10.0: 6, 11.0: 11, 12.0: 10, 13.0: 12, 14.0: 14, 21.0: 13}\n",
      "{1.0: 0, 2.0: 2, 3.0: 3, 4.0: 5, 5.0: 8, 6.0: 4, 7.0: 9, 8.0: 7, 9.0: 1, 10.0: 6, 11.0: 11, 12.0: 10, 13.0: 12, 14.0: 14, 21.0: 13}\n",
      "{1.0: 0, 2.0: 2, 3.0: 3, 4.0: 5, 5.0: 8, 6.0: 4, 7.0: 9, 8.0: 7, 9.0: 1, 10.0: 6, 11.0: 11, 12.0: 10, 13.0: 12, 14.0: 14, 21.0: 13}\n",
      "{1.0: 0, 2.0: 2, 3.0: 3, 4.0: 5, 5.0: 8, 6.0: 4, 7.0: 9, 8.0: 7, 9.0: 1, 10.0: 6, 11.0: 11, 12.0: 10, 13.0: 12, 14.0: 14, 21.0: 13}\n",
      "{1.0: 0, 2.0: 2, 3.0: 3, 4.0: 5, 5.0: 8, 6.0: 4, 7.0: 9, 8.0: 7, 9.0: 1, 10.0: 6, 11.0: 11, 12.0: 10, 13.0: 12, 14.0: 14, 21.0: 13}\n",
      "{1.0: 0, 2.0: 2, 3.0: 3, 4.0: 5, 5.0: 8, 6.0: 4, 7.0: 9, 8.0: 7, 9.0: 1, 10.0: 6, 11.0: 11, 12.0: 10, 13.0: 12, 14.0: 14, 21.0: 13}\n",
      "{1.0: 0, 2.0: 2, 3.0: 3, 4.0: 5, 5.0: 8, 6.0: 4, 7.0: 9, 8.0: 7, 9.0: 1, 10.0: 6, 11.0: 11, 12.0: 10, 13.0: 12, 14.0: 14, 21.0: 13}\n",
      "{1.0: 0, 2.0: 2, 3.0: 3, 4.0: 5, 5.0: 8, 6.0: 4, 7.0: 9, 8.0: 7, 9.0: 1, 10.0: 6, 11.0: 11, 12.0: 10, 13.0: 12, 14.0: 14, 21.0: 13}\n",
      "{1.0: 0, 2.0: 2, 3.0: 3, 4.0: 5, 5.0: 8, 6.0: 4, 7.0: 9, 8.0: 7, 9.0: 1, 10.0: 6, 11.0: 11, 12.0: 10, 13.0: 12, 14.0: 14, 21.0: 13}\n",
      "{1.0: 0, 2.0: 2, 3.0: 3, 4.0: 5, 5.0: 8, 6.0: 4, 7.0: 9, 8.0: 7, 9.0: 1, 10.0: 6, 11.0: 11, 12.0: 10, 13.0: 12, 14.0: 14, 21.0: 13}\n",
      "{1.0: 0, 2.0: 2, 3.0: 3, 4.0: 5, 5.0: 8, 6.0: 4, 7.0: 9, 8.0: 7, 9.0: 1, 10.0: 6, 11.0: 11, 12.0: 10, 13.0: 12, 14.0: 14, 21.0: 13}\n",
      "{1.0: 0, 2.0: 2, 3.0: 3, 4.0: 5, 5.0: 8, 6.0: 4, 7.0: 9, 8.0: 7, 9.0: 1, 10.0: 6, 11.0: 11, 12.0: 10, 13.0: 12, 14.0: 14, 21.0: 13}\n",
      "{1.0: 0, 2.0: 2, 3.0: 3, 4.0: 5, 5.0: 8, 6.0: 4, 7.0: 9, 8.0: 7, 9.0: 1, 10.0: 6, 11.0: 11, 12.0: 10, 13.0: 12, 14.0: 14, 21.0: 13}\n",
      "{1.0: 0, 2.0: 2, 3.0: 3, 4.0: 5, 5.0: 8, 6.0: 4, 7.0: 9, 8.0: 7, 9.0: 1, 10.0: 6, 11.0: 11, 12.0: 10, 13.0: 12, 14.0: 14, 21.0: 13}\n",
      "{1.0: 0, 2.0: 2, 3.0: 3, 4.0: 5, 5.0: 8, 6.0: 4, 7.0: 9, 8.0: 7, 9.0: 1, 10.0: 6, 11.0: 11, 12.0: 10, 13.0: 12, 14.0: 14, 21.0: 13}\n",
      "{1.0: 0, 2.0: 2, 3.0: 3, 4.0: 5, 5.0: 8, 6.0: 4, 7.0: 9, 8.0: 7, 9.0: 1, 10.0: 6, 11.0: 11, 12.0: 10, 13.0: 12, 14.0: 14, 21.0: 13}\n",
      "{1.0: 0, 2.0: 2, 3.0: 3, 4.0: 5, 5.0: 8, 6.0: 4, 7.0: 9, 8.0: 7, 9.0: 1, 10.0: 6, 11.0: 11, 12.0: 10, 13.0: 12, 14.0: 14, 21.0: 13}\n",
      "106.78446435928345\n",
      "85.43361306190491\n",
      "t1 1.4688551425933838\n",
      "t2 0.7558605670928955\n",
      "t3 0.5287623405456543\n",
      "t4 0.0\n",
      "t1 2.2338271141052246\n",
      "t2 13.55891466140747\n",
      "t3 0.0\n",
      "t4 0.0\n"
     ]
    }
   ],
   "source": [
    "chmm_i = hmms.CtHMM.random( 3,3 )\n",
    "chmm_d = hmms.CtHMM( * chmm_i.params )\n",
    "\n",
    "import time\n",
    "\n",
    "time0 = time.time()\n",
    "graph_i = chmm_i.baum_welch( t, e, 100, est=True, method=\"soft\", fast=True )\n",
    "time1 = time.time()\n",
    "graph_d = chmm_d.baum_welch( t, e, 100, est=True, method=\"soft\", fast=False ) \n",
    "time2 = time.time()\n",
    "print(time2-time1)\n",
    "print(time1-time0)\n",
    "chmm_i.print_ts()\n",
    "chmm_d.print_ts()"
   ]
  },
  {
   "cell_type": "code",
   "execution_count": 47,
   "metadata": {
    "collapsed": false
   },
   "outputs": [
    {
     "name": "stdout",
     "output_type": "stream",
     "text": [
      "Initial probabilities (π) :\n"
     ]
    },
    {
     "data": {
      "text/html": [
       "<div>\n",
       "<table border=\"1\" class=\"dataframe\">\n",
       "  <thead>\n",
       "    <tr style=\"text-align: right;\">\n",
       "      <th></th>\n",
       "      <th>0</th>\n",
       "    </tr>\n",
       "  </thead>\n",
       "  <tbody>\n",
       "    <tr>\n",
       "      <th>0</th>\n",
       "      <td>0.046143</td>\n",
       "    </tr>\n",
       "    <tr>\n",
       "      <th>1</th>\n",
       "      <td>0.948288</td>\n",
       "    </tr>\n",
       "    <tr>\n",
       "      <th>2</th>\n",
       "      <td>0.005568</td>\n",
       "    </tr>\n",
       "  </tbody>\n",
       "</table>\n",
       "</div>"
      ],
      "text/plain": [
       "          0\n",
       "0  0.046143\n",
       "1  0.948288\n",
       "2  0.005568"
      ]
     },
     "metadata": {},
     "output_type": "display_data"
    },
    {
     "name": "stdout",
     "output_type": "stream",
     "text": [
      "Transition rate matrix (Q):\n"
     ]
    },
    {
     "data": {
      "text/html": [
       "<div>\n",
       "<table border=\"1\" class=\"dataframe\">\n",
       "  <thead>\n",
       "    <tr style=\"text-align: right;\">\n",
       "      <th></th>\n",
       "      <th>0</th>\n",
       "      <th>1</th>\n",
       "      <th>2</th>\n",
       "    </tr>\n",
       "  </thead>\n",
       "  <tbody>\n",
       "    <tr>\n",
       "      <th>0</th>\n",
       "      <td>-0.555868</td>\n",
       "      <td>0.428307</td>\n",
       "      <td>0.127561</td>\n",
       "    </tr>\n",
       "    <tr>\n",
       "      <th>1</th>\n",
       "      <td>0.091631</td>\n",
       "      <td>-0.459891</td>\n",
       "      <td>0.368260</td>\n",
       "    </tr>\n",
       "    <tr>\n",
       "      <th>2</th>\n",
       "      <td>0.305485</td>\n",
       "      <td>0.188730</td>\n",
       "      <td>-0.494215</td>\n",
       "    </tr>\n",
       "  </tbody>\n",
       "</table>\n",
       "</div>"
      ],
      "text/plain": [
       "          0         1         2\n",
       "0 -0.555868  0.428307  0.127561\n",
       "1  0.091631 -0.459891  0.368260\n",
       "2  0.305485  0.188730 -0.494215"
      ]
     },
     "metadata": {},
     "output_type": "display_data"
    },
    {
     "name": "stdout",
     "output_type": "stream",
     "text": [
      "Transition probabilities for one time unit :\n"
     ]
    },
    {
     "data": {
      "text/html": [
       "<div>\n",
       "<table border=\"1\" class=\"dataframe\">\n",
       "  <thead>\n",
       "    <tr style=\"text-align: right;\">\n",
       "      <th></th>\n",
       "      <th>0</th>\n",
       "      <th>1</th>\n",
       "      <th>2</th>\n",
       "    </tr>\n",
       "  </thead>\n",
       "  <tbody>\n",
       "    <tr>\n",
       "      <th>0</th>\n",
       "      <td>0.601966</td>\n",
       "      <td>0.272190</td>\n",
       "      <td>0.125843</td>\n",
       "    </tr>\n",
       "    <tr>\n",
       "      <th>1</th>\n",
       "      <td>0.091115</td>\n",
       "      <td>0.670661</td>\n",
       "      <td>0.238224</td>\n",
       "    </tr>\n",
       "    <tr>\n",
       "      <th>2</th>\n",
       "      <td>0.190962</td>\n",
       "      <td>0.160333</td>\n",
       "      <td>0.648705</td>\n",
       "    </tr>\n",
       "  </tbody>\n",
       "</table>\n",
       "</div>"
      ],
      "text/plain": [
       "          0         1         2\n",
       "0  0.601966  0.272190  0.125843\n",
       "1  0.091115  0.670661  0.238224\n",
       "2  0.190962  0.160333  0.648705"
      ]
     },
     "metadata": {},
     "output_type": "display_data"
    },
    {
     "name": "stdout",
     "output_type": "stream",
     "text": [
      "Emission probabilities matrix (B):\n"
     ]
    },
    {
     "data": {
      "text/html": [
       "<div>\n",
       "<table border=\"1\" class=\"dataframe\">\n",
       "  <thead>\n",
       "    <tr style=\"text-align: right;\">\n",
       "      <th></th>\n",
       "      <th>0</th>\n",
       "      <th>1</th>\n",
       "      <th>2</th>\n",
       "    </tr>\n",
       "  </thead>\n",
       "  <tbody>\n",
       "    <tr>\n",
       "      <th>0</th>\n",
       "      <td>0.050789</td>\n",
       "      <td>0.852482</td>\n",
       "      <td>0.096729</td>\n",
       "    </tr>\n",
       "    <tr>\n",
       "      <th>1</th>\n",
       "      <td>0.800391</td>\n",
       "      <td>0.000182</td>\n",
       "      <td>0.199427</td>\n",
       "    </tr>\n",
       "    <tr>\n",
       "      <th>2</th>\n",
       "      <td>0.246928</td>\n",
       "      <td>0.002902</td>\n",
       "      <td>0.750170</td>\n",
       "    </tr>\n",
       "  </tbody>\n",
       "</table>\n",
       "</div>"
      ],
      "text/plain": [
       "          0         1         2\n",
       "0  0.050789  0.852482  0.096729\n",
       "1  0.800391  0.000182  0.199427\n",
       "2  0.246928  0.002902  0.750170"
      ]
     },
     "metadata": {},
     "output_type": "display_data"
    },
    {
     "name": "stdout",
     "output_type": "stream",
     "text": [
      "Initial probabilities (π) :\n"
     ]
    },
    {
     "data": {
      "text/html": [
       "<div>\n",
       "<table border=\"1\" class=\"dataframe\">\n",
       "  <thead>\n",
       "    <tr style=\"text-align: right;\">\n",
       "      <th></th>\n",
       "      <th>0</th>\n",
       "    </tr>\n",
       "  </thead>\n",
       "  <tbody>\n",
       "    <tr>\n",
       "      <th>0</th>\n",
       "      <td>0.046143</td>\n",
       "    </tr>\n",
       "    <tr>\n",
       "      <th>1</th>\n",
       "      <td>0.948288</td>\n",
       "    </tr>\n",
       "    <tr>\n",
       "      <th>2</th>\n",
       "      <td>0.005568</td>\n",
       "    </tr>\n",
       "  </tbody>\n",
       "</table>\n",
       "</div>"
      ],
      "text/plain": [
       "          0\n",
       "0  0.046143\n",
       "1  0.948288\n",
       "2  0.005568"
      ]
     },
     "metadata": {},
     "output_type": "display_data"
    },
    {
     "name": "stdout",
     "output_type": "stream",
     "text": [
      "Transition rate matrix (Q):\n"
     ]
    },
    {
     "data": {
      "text/html": [
       "<div>\n",
       "<table border=\"1\" class=\"dataframe\">\n",
       "  <thead>\n",
       "    <tr style=\"text-align: right;\">\n",
       "      <th></th>\n",
       "      <th>0</th>\n",
       "      <th>1</th>\n",
       "      <th>2</th>\n",
       "    </tr>\n",
       "  </thead>\n",
       "  <tbody>\n",
       "    <tr>\n",
       "      <th>0</th>\n",
       "      <td>-0.555868</td>\n",
       "      <td>0.428307</td>\n",
       "      <td>0.127561</td>\n",
       "    </tr>\n",
       "    <tr>\n",
       "      <th>1</th>\n",
       "      <td>0.091631</td>\n",
       "      <td>-0.459891</td>\n",
       "      <td>0.368260</td>\n",
       "    </tr>\n",
       "    <tr>\n",
       "      <th>2</th>\n",
       "      <td>0.305485</td>\n",
       "      <td>0.188730</td>\n",
       "      <td>-0.494215</td>\n",
       "    </tr>\n",
       "  </tbody>\n",
       "</table>\n",
       "</div>"
      ],
      "text/plain": [
       "          0         1         2\n",
       "0 -0.555868  0.428307  0.127561\n",
       "1  0.091631 -0.459891  0.368260\n",
       "2  0.305485  0.188730 -0.494215"
      ]
     },
     "metadata": {},
     "output_type": "display_data"
    },
    {
     "name": "stdout",
     "output_type": "stream",
     "text": [
      "Transition probabilities for one time unit :\n"
     ]
    },
    {
     "data": {
      "text/html": [
       "<div>\n",
       "<table border=\"1\" class=\"dataframe\">\n",
       "  <thead>\n",
       "    <tr style=\"text-align: right;\">\n",
       "      <th></th>\n",
       "      <th>0</th>\n",
       "      <th>1</th>\n",
       "      <th>2</th>\n",
       "    </tr>\n",
       "  </thead>\n",
       "  <tbody>\n",
       "    <tr>\n",
       "      <th>0</th>\n",
       "      <td>0.601966</td>\n",
       "      <td>0.272190</td>\n",
       "      <td>0.125843</td>\n",
       "    </tr>\n",
       "    <tr>\n",
       "      <th>1</th>\n",
       "      <td>0.091115</td>\n",
       "      <td>0.670661</td>\n",
       "      <td>0.238224</td>\n",
       "    </tr>\n",
       "    <tr>\n",
       "      <th>2</th>\n",
       "      <td>0.190962</td>\n",
       "      <td>0.160333</td>\n",
       "      <td>0.648705</td>\n",
       "    </tr>\n",
       "  </tbody>\n",
       "</table>\n",
       "</div>"
      ],
      "text/plain": [
       "          0         1         2\n",
       "0  0.601966  0.272190  0.125843\n",
       "1  0.091115  0.670661  0.238224\n",
       "2  0.190962  0.160333  0.648705"
      ]
     },
     "metadata": {},
     "output_type": "display_data"
    },
    {
     "name": "stdout",
     "output_type": "stream",
     "text": [
      "Emission probabilities matrix (B):\n"
     ]
    },
    {
     "data": {
      "text/html": [
       "<div>\n",
       "<table border=\"1\" class=\"dataframe\">\n",
       "  <thead>\n",
       "    <tr style=\"text-align: right;\">\n",
       "      <th></th>\n",
       "      <th>0</th>\n",
       "      <th>1</th>\n",
       "      <th>2</th>\n",
       "    </tr>\n",
       "  </thead>\n",
       "  <tbody>\n",
       "    <tr>\n",
       "      <th>0</th>\n",
       "      <td>0.050789</td>\n",
       "      <td>0.852482</td>\n",
       "      <td>0.096729</td>\n",
       "    </tr>\n",
       "    <tr>\n",
       "      <th>1</th>\n",
       "      <td>0.800391</td>\n",
       "      <td>0.000182</td>\n",
       "      <td>0.199427</td>\n",
       "    </tr>\n",
       "    <tr>\n",
       "      <th>2</th>\n",
       "      <td>0.246928</td>\n",
       "      <td>0.002902</td>\n",
       "      <td>0.750170</td>\n",
       "    </tr>\n",
       "  </tbody>\n",
       "</table>\n",
       "</div>"
      ],
      "text/plain": [
       "          0         1         2\n",
       "0  0.050789  0.852482  0.096729\n",
       "1  0.800391  0.000182  0.199427\n",
       "2  0.246928  0.002902  0.750170"
      ]
     },
     "metadata": {},
     "output_type": "display_data"
    },
    {
     "data": {
      "image/png": "[encoded data removed]",
      "text/plain": [
       "<matplotlib.figure.Figure at 0x7ffadaca39b0>"
      ]
     },
     "metadata": {},
     "output_type": "display_data"
    }
   ],
   "source": [
    "real = chmm.data_estimate( t,e )\n",
    "plt.plot( graph_i[1:] / real, color=\"red\"  )\n",
    "plt.plot( graph_d[1:] / real, color=\"blue\"  )\n",
    "\n",
    "hmms.print_parameters( chmm_i )\n",
    "hmms.print_parameters( chmm_d )\n",
    "\n",
    "plt.rcParams['figure.figsize'] = [25,25]\n",
    "plt.show()"
   ]
  },
  {
   "cell_type": "code",
   "execution_count": 48,
   "metadata": {
    "collapsed": false
   },
   "outputs": [
    {
     "data": {
      "text/plain": [
       "-0.55586836870356748"
      ]
     },
     "execution_count": 48,
     "metadata": {},
     "output_type": "execute_result"
    }
   ],
   "source": [
    "chmm_i.q[0,0]"
   ]
  },
  {
   "cell_type": "code",
   "execution_count": 49,
   "metadata": {
    "collapsed": false
   },
   "outputs": [
    {
     "data": {
      "text/plain": [
       "-0.55586836870356504"
      ]
     },
     "execution_count": 49,
     "metadata": {},
     "output_type": "execute_result"
    }
   ],
   "source": [
    "chmm_d.q[0,0]"
   ]
  },
  {
   "cell_type": "code",
   "execution_count": null,
   "metadata": {
    "collapsed": true
   },
   "outputs": [],
   "source": []
  }
 ],
 "metadata": {
  "kernelspec": {
   "display_name": "Python 3",
   "language": "python",
   "name": "python3"
  },
  "language_info": {
   "codemirror_mode": {
    "name": "ipython",
    "version": 3
   },
   "file_extension": ".py",
   "mimetype": "text/x-python",
   "name": "python",
   "nbconvert_exporter": "python",
   "pygments_lexer": "ipython3",
   "version": "3.5.2"
  }
 },
 "nbformat": 4,
 "nbformat_minor": 2
}
