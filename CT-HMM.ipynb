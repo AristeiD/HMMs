{
 "cells": [
  {
   "cell_type": "markdown",
   "metadata": {
    "deletable": true,
    "editable": true
   },
   "source": [
    "HMMs Library \n",
    "============================\n",
    "#### (Discrete & Continuous hidden markov models )\n",
    "\n",
    "The document contain the tutorial ( usage explained by example ) for the hidden markov models library [link to pip].\n",
    "* [The **first** part](#dthmm) will cover disrete-time hidden markov model (**DtHMM**)\n",
    "* [The **second** part](#cthmm) will be dedicated to continuous-time hidden markov model (**CtHMM**)\n",
    "* [The **third** part](#conv) will compare the convergences of **both** models\n",
    "\n",
    "The all of the part are independent, so you do not need to run all notebook, if you are interested only in one of them. \n",
    "\n",
    "\n",
    "If you are not familiar with the hidden markov model theory, We recommend ...\n",
    "%todo: refer to DP theory, (simple guide to cthmm?), github, sources\n"
   ]
  },
  {
   "cell_type": "markdown",
   "metadata": {
    "deletable": true,
    "editable": true
   },
   "source": [
    "<a id='dthmm'></a>\n",
    "Part 1: Discrete Time Hidden Markov Model\n",
    "---------------------------------------------------"
   ]
  },
  {
   "cell_type": "code",
   "execution_count": 1,
   "metadata": {
    "collapsed": false,
    "deletable": true,
    "editable": true
   },
   "outputs": [],
   "source": [
    "import numpy as np\n",
    "import matplotlib.pyplot as plt\n",
    "import hmms\n",
    "\n",
    "%matplotlib inline"
   ]
  },
  {
   "cell_type": "markdown",
   "metadata": {
    "deletable": true,
    "editable": true
   },
   "source": [
    "### Construct DtHMM \n",
    "You can directly initialize the DtHMM by passing the **model parameters**.  \n",
    "\n",
    "We will create simple DtHMM of two hidden states and three output variables."
   ]
  },
  {
   "cell_type": "code",
   "execution_count": 2,
   "metadata": {
    "collapsed": false,
    "deletable": true,
    "editable": true
   },
   "outputs": [],
   "source": [
    "# A is the matrix of transition probabilities from state [row] to state [column].\n",
    "A = np.array([[0.9,0.1],[0.4,0.6]])\n",
    "# B is the matrix of probabilities that the state [row] will emmit output variable [column].\n",
    "B = np.array([[0.9,0.08,0.02],[0.2,0.5,0.3]])\n",
    "# Pi is the vector of initial state probabilities.   \n",
    "Pi = np.array( [0.8,0.2] )\n",
    "\n",
    "# Create DtHMM by given parameters.\n",
    "dhmm = hmms.DtHMM(A,B,Pi)"
   ]
  },
  {
   "cell_type": "markdown",
   "metadata": {
    "deletable": true,
    "editable": true
   },
   "source": [
    "Or you can initialize it by **random parameters**. Passing the number of hidden states and output variables. "
   ]
  },
  {
   "cell_type": "code",
   "execution_count": 3,
   "metadata": {
    "collapsed": false,
    "deletable": true,
    "editable": true
   },
   "outputs": [],
   "source": [
    "dhmm_random = hmms.DtHMM.random(2,3)"
   ]
  },
  {
   "cell_type": "markdown",
   "metadata": {
    "deletable": true,
    "editable": true
   },
   "source": [
    "### Save & Read from File\n",
    "Once you have created the model you can **save** its parameters in file simply by calling *save_params* method.  "
   ]
  },
  {
   "cell_type": "code",
   "execution_count": 4,
   "metadata": {
    "collapsed": false,
    "deletable": true,
    "editable": true
   },
   "outputs": [],
   "source": [
    "dhmm.save_params(\"Models/hello_dthmm\") "
   ]
  },
  {
   "cell_type": "markdown",
   "metadata": {
    "deletable": true,
    "editable": true
   },
   "source": [
    "The method stored the parameters in *.npz* format.  \n",
    "\n",
    "The saved file can be later used to **read** parametrs for model initialization."
   ]
  },
  {
   "cell_type": "code",
   "execution_count": 5,
   "metadata": {
    "collapsed": false,
    "deletable": true,
    "editable": true
   },
   "outputs": [],
   "source": [
    "dhmm_from_file = hmms.DtHMM.from_file( \"Models/hello_dthmm.npz\" )"
   ]
  },
  {
   "cell_type": "markdown",
   "metadata": {
    "deletable": true,
    "editable": true
   },
   "source": [
    "### Set & Get Parameters\n",
    "Later you can always **set** parameters with triple of methods corresponding to the constructors."
   ]
  },
  {
   "cell_type": "code",
   "execution_count": 6,
   "metadata": {
    "collapsed": false,
    "deletable": true,
    "editable": true,
    "scrolled": true
   },
   "outputs": [],
   "source": [
    "dhmm.set_params(A,B,Pi)\n",
    "dhmm.set_params_random(2,3)\n",
    "dhmm.set_params_from_file( \"Models/hello_dthmm.npz\" )"
   ]
  },
  {
   "cell_type": "markdown",
   "metadata": {
    "deletable": true,
    "editable": true
   },
   "source": [
    "You can **get** parameters by calling them separately,"
   ]
  },
  {
   "cell_type": "code",
   "execution_count": 7,
   "metadata": {
    "collapsed": false,
    "deletable": true,
    "editable": true
   },
   "outputs": [
    {
     "data": {
      "text/plain": [
       "(array([[ 0.9,  0.1],\n",
       "        [ 0.4,  0.6]]), array([[ 0.9 ,  0.08,  0.02],\n",
       "        [ 0.2 ,  0.5 ,  0.3 ]]), array([ 0.8,  0.2]))"
      ]
     },
     "execution_count": 7,
     "metadata": {},
     "output_type": "execute_result"
    }
   ],
   "source": [
    "dhmm.a, dhmm.b, dhmm.pi"
   ]
  },
  {
   "cell_type": "markdown",
   "metadata": {
    "deletable": true,
    "editable": true
   },
   "source": [
    "or **get** them **all** together as the triple."
   ]
  },
  {
   "cell_type": "code",
   "execution_count": 8,
   "metadata": {
    "collapsed": false,
    "deletable": true,
    "editable": true
   },
   "outputs": [],
   "source": [
    "(A,B,Pi) = dhmm.params"
   ]
  },
  {
   "cell_type": "markdown",
   "metadata": {
    "deletable": true,
    "editable": true
   },
   "source": [
    "### Generate Random State and Emission Sequence\n",
    " Now we can use our model to generate state and emission sequence.   \n",
    " The model will randomly choose which transition or emission will happen, taking into consideration the parameters we have previously defined.\n"
   ]
  },
  {
   "cell_type": "code",
   "execution_count": 9,
   "metadata": {
    "collapsed": false,
    "deletable": true,
    "editable": true
   },
   "outputs": [
    {
     "data": {
      "image/png": "[encoded data removed]",
      "text/plain": [
       "<matplotlib.figure.Figure at 0x7f17b4c8e080>"
      ]
     },
     "metadata": {},
     "output_type": "display_data"
    }
   ],
   "source": [
    "seq_len = 20\n",
    "s_seq, e_seq = dhmm.generate( seq_len )\n",
    "\n",
    "#resize plot\n",
    "plt.rcParams['figure.figsize'] = [20,20]\n",
    "\n",
    "hmms.plot_hmm( s_seq, e_seq )"
   ]
  },
  {
   "cell_type": "markdown",
   "metadata": {
    "collapsed": false,
    "deletable": true,
    "editable": true
   },
   "source": [
    "### Find Most Likely State Sequence\n",
    "If we have the model parameters and emission sequence, we can find the most probable state sequence that would generate it. Notice, that it can be different, than the actual sequence that has generated the emissions.  \n",
    "We will use Viterbi algorithm for the calculation.\n"
   ]
  },
  {
   "cell_type": "code",
   "execution_count": 10,
   "metadata": {
    "collapsed": false,
    "deletable": true,
    "editable": true
   },
   "outputs": [
    {
     "data": {
      "image/png": "[encoded data removed]",
      "text/plain": [
       "<matplotlib.figure.Figure at 0x7f17eb105da0>"
      ]
     },
     "metadata": {},
     "output_type": "display_data"
    }
   ],
   "source": [
    "( log_prob, s_seq ) =  dhmm.viterbi( e_seq )\n",
    "# Let's print the most likely state sequence, it can be same or differ from the sequence above.\n",
    "hmms.plot_hmm( s_seq, e_seq )"
   ]
  },
  {
   "cell_type": "markdown",
   "metadata": {
    "collapsed": true,
    "deletable": true,
    "editable": true
   },
   "source": [
    "The *log_prob* parameter store the probability of the sequence.  \n",
    "All the probabilities in the library are stored in the logarithm of their actual value. As the number of possible sequences grows exponentialy by it length, it could easily lead to float underflow.  \n",
    "You can easily transform it to the normal scale value applying *exp* function. "
   ]
  },
  {
   "cell_type": "code",
   "execution_count": 11,
   "metadata": {
    "collapsed": false,
    "deletable": true,
    "editable": true
   },
   "outputs": [
    {
     "data": {
      "text/plain": [
       "0.0011678722324096585"
      ]
     },
     "execution_count": 11,
     "metadata": {},
     "output_type": "execute_result"
    }
   ],
   "source": [
    "np.exp( log_prob )"
   ]
  },
  {
   "cell_type": "markdown",
   "metadata": {
    "deletable": true,
    "editable": true
   },
   "source": [
    "### The Probability of the Emission Sequence\n",
    "We can compute the probabilityoft the model generating the emission sequence."
   ]
  },
  {
   "cell_type": "code",
   "execution_count": 12,
   "metadata": {
    "collapsed": false,
    "deletable": true,
    "editable": true
   },
   "outputs": [
    {
     "data": {
      "text/plain": [
       "0.0021547744805280322"
      ]
     },
     "execution_count": 12,
     "metadata": {},
     "output_type": "execute_result"
    }
   ],
   "source": [
    "np.exp( dhmm.emission_estimate( e_seq ) )"
   ]
  },
  {
   "cell_type": "markdown",
   "metadata": {
    "deletable": true,
    "editable": true
   },
   "source": [
    "### Generate Artificial Dataset\n",
    "\n",
    "You can easily generate many sequences in once by using the generate_data function.\n",
    "The generated emission sequences are in the form that is suitable for training of parameters. You can switch times=True, if you want to generate also the corresponding equidistant time sequences."
   ]
  },
  {
   "cell_type": "code",
   "execution_count": 13,
   "metadata": {
    "collapsed": false,
    "deletable": true,
    "editable": true
   },
   "outputs": [
    {
     "data": {
      "text/plain": [
       "(array([[0, 1, 1, 1, 0, 0, 0, 0, 0, 0],\n",
       "        [0, 0, 0, 0, 0, 0, 0, 0, 0, 0],\n",
       "        [1, 1, 1, 1, 0, 0, 0, 0, 0, 0]]),\n",
       " array([[0, 2, 0, 0, 0, 0, 0, 0, 0, 0],\n",
       "        [0, 1, 0, 0, 0, 0, 0, 0, 0, 0],\n",
       "        [2, 1, 2, 0, 0, 0, 0, 0, 0, 1]]))"
      ]
     },
     "execution_count": 13,
     "metadata": {},
     "output_type": "execute_result"
    }
   ],
   "source": [
    "seq_num= 3   #number of data sequences\n",
    "seq_len= 10  #length of each sequence\n",
    "\n",
    "dhmm.generate_data( (seq_num,seq_len) )"
   ]
  },
  {
   "cell_type": "markdown",
   "metadata": {
    "deletable": true,
    "editable": true
   },
   "source": [
    "### Parameters Estimation - Baum Welch Algorithm\n",
    "We usually do not know the real parameters of the model. But, if we have sufficient data, we can estimate them by EM algorithm.  \n",
    "Here we will have several output variables (emissions) sequences and we will show, how to use them to train the model parameters\n",
    "\n",
    "Let's start by creating some artifficial data. We will use the previously defined *dhmm* model for it.\n"
   ]
  },
  {
   "cell_type": "code",
   "execution_count": 14,
   "metadata": {
    "collapsed": false,
    "deletable": true,
    "editable": true
   },
   "outputs": [
    {
     "data": {
      "text/plain": [
       "array([[0, 1, 0, 0, 0, 2, 0, 0, 0, 0, 0, 0, 0, 0, 0, 0, 0, 0, 0, 0, 0, 0,\n",
       "        0, 0, 0, 0, 0, 1, 0, 0, 2, 0, 0, 0, 0, 0, 0, 0, 0, 0, 1, 0, 0, 0,\n",
       "        1, 1, 2, 2, 0, 0],\n",
       "       [0, 0, 0, 0, 1, 1, 1, 2, 2, 0, 1, 1, 0, 0, 0, 0, 0, 0, 1, 0, 0, 0,\n",
       "        1, 0, 0, 0, 1, 0, 0, 0, 1, 2, 0, 0, 1, 0, 1, 0, 1, 0, 1, 0, 0, 1,\n",
       "        0, 0, 0, 0, 0, 0],\n",
       "       [2, 0, 0, 0, 0, 2, 1, 0, 0, 0, 1, 0, 0, 0, 2, 0, 0, 1, 0, 0, 0, 0,\n",
       "        0, 0, 0, 0, 0, 0, 0, 0, 0, 1, 1, 0, 0, 0, 0, 0, 1, 0, 2, 0, 2, 0,\n",
       "        1, 0, 0, 0, 0, 0],\n",
       "       [0, 0, 0, 0, 0, 0, 0, 0, 1, 2, 0, 0, 0, 1, 0, 1, 0, 0, 0, 2, 0, 0,\n",
       "        0, 0, 0, 0, 1, 0, 0, 0, 0, 0, 0, 0, 0, 0, 0, 0, 0, 0, 0, 0, 0, 1,\n",
       "        2, 1, 1, 0, 0, 0],\n",
       "       [0, 0, 0, 0, 0, 1, 0, 1, 0, 0, 0, 0, 0, 0, 2, 1, 0, 0, 0, 0, 0, 0,\n",
       "        0, 0, 0, 0, 0, 0, 0, 0, 0, 1, 0, 1, 0, 1, 0, 1, 0, 0, 0, 0, 1, 1,\n",
       "        0, 0, 0, 0, 0, 0]])"
      ]
     },
     "execution_count": 14,
     "metadata": {},
     "output_type": "execute_result"
    }
   ],
   "source": [
    "seq_num = 5\n",
    "seq_len = 50\n",
    "data = np.empty( (seq_num, seq_len), dtype=int )\n",
    "\n",
    "_ , data = dhmm.generate_data( (seq_num,seq_len) )\n",
    "\n",
    "data"
   ]
  },
  {
   "cell_type": "markdown",
   "metadata": {
    "deletable": true,
    "editable": true
   },
   "source": [
    "Now, we will create the model with random parameters, that will be eventually trained to much the data."
   ]
  },
  {
   "cell_type": "code",
   "execution_count": 15,
   "metadata": {
    "collapsed": false,
    "deletable": true,
    "editable": true
   },
   "outputs": [
    {
     "name": "stdout",
     "output_type": "stream",
     "text": [
      "Initial probabilities (π) :\n"
     ]
    },
    {
     "data": {
      "text/html": [
       "<div>\n",
       "<table border=\"1\" class=\"dataframe\">\n",
       "  <thead>\n",
       "    <tr style=\"text-align: right;\">\n",
       "      <th></th>\n",
       "      <th>0</th>\n",
       "    </tr>\n",
       "  </thead>\n",
       "  <tbody>\n",
       "    <tr>\n",
       "      <th>0</th>\n",
       "      <td>0.536395</td>\n",
       "    </tr>\n",
       "    <tr>\n",
       "      <th>1</th>\n",
       "      <td>0.463605</td>\n",
       "    </tr>\n",
       "  </tbody>\n",
       "</table>\n",
       "</div>"
      ],
      "text/plain": [
       "          0\n",
       "0  0.536395\n",
       "1  0.463605"
      ]
     },
     "metadata": {},
     "output_type": "display_data"
    },
    {
     "name": "stdout",
     "output_type": "stream",
     "text": [
      "Transition probabilities matrix (A):\n"
     ]
    },
    {
     "data": {
      "text/html": [
       "<div>\n",
       "<table border=\"1\" class=\"dataframe\">\n",
       "  <thead>\n",
       "    <tr style=\"text-align: right;\">\n",
       "      <th></th>\n",
       "      <th>0</th>\n",
       "      <th>1</th>\n",
       "    </tr>\n",
       "  </thead>\n",
       "  <tbody>\n",
       "    <tr>\n",
       "      <th>0</th>\n",
       "      <td>0.320009</td>\n",
       "      <td>0.679991</td>\n",
       "    </tr>\n",
       "    <tr>\n",
       "      <th>1</th>\n",
       "      <td>0.362208</td>\n",
       "      <td>0.637792</td>\n",
       "    </tr>\n",
       "  </tbody>\n",
       "</table>\n",
       "</div>"
      ],
      "text/plain": [
       "          0         1\n",
       "0  0.320009  0.679991\n",
       "1  0.362208  0.637792"
      ]
     },
     "metadata": {},
     "output_type": "display_data"
    },
    {
     "name": "stdout",
     "output_type": "stream",
     "text": [
      "Emission probabilities matrix (B):\n"
     ]
    },
    {
     "data": {
      "text/html": [
       "<div>\n",
       "<table border=\"1\" class=\"dataframe\">\n",
       "  <thead>\n",
       "    <tr style=\"text-align: right;\">\n",
       "      <th></th>\n",
       "      <th>0</th>\n",
       "      <th>1</th>\n",
       "      <th>2</th>\n",
       "    </tr>\n",
       "  </thead>\n",
       "  <tbody>\n",
       "    <tr>\n",
       "      <th>0</th>\n",
       "      <td>0.402659</td>\n",
       "      <td>0.130977</td>\n",
       "      <td>0.466364</td>\n",
       "    </tr>\n",
       "    <tr>\n",
       "      <th>1</th>\n",
       "      <td>0.126905</td>\n",
       "      <td>0.515045</td>\n",
       "      <td>0.358050</td>\n",
       "    </tr>\n",
       "  </tbody>\n",
       "</table>\n",
       "</div>"
      ],
      "text/plain": [
       "          0         1         2\n",
       "0  0.402659  0.130977  0.466364\n",
       "1  0.126905  0.515045  0.358050"
      ]
     },
     "metadata": {},
     "output_type": "display_data"
    }
   ],
   "source": [
    "dhmm_r = hmms.DtHMM.random( 2,3 )\n",
    "# We can print all the parameters.\n",
    "hmms.print_parameters( dhmm_r )"
   ]
  },
  {
   "cell_type": "markdown",
   "metadata": {
    "deletable": true,
    "editable": true
   },
   "source": [
    "Let's compare the dataset likelihood estimation of model used for generating the data and the random parameters model. "
   ]
  },
  {
   "cell_type": "code",
   "execution_count": 16,
   "metadata": {
    "collapsed": false,
    "deletable": true,
    "editable": true
   },
   "outputs": [
    {
     "name": "stdout",
     "output_type": "stream",
     "text": [
      "Generator model: 2.69264716741e-74\n",
      "Random model:    3.10648383893e-150\n"
     ]
    }
   ],
   "source": [
    "print( \"Generator model:\" , np.exp( dhmm.data_estimate(data)   ) )\n",
    "print( \"Random model:   \" ,np.exp( dhmm_r.data_estimate(data) ) )"
   ]
  },
  {
   "cell_type": "markdown",
   "metadata": {
    "deletable": true,
    "editable": true
   },
   "source": [
    "Most likely the probability that the data was generated by random model is extremly low.\n",
    "\n",
    "Now we can take the random model and reestimate it to fit the data better."
   ]
  },
  {
   "cell_type": "code",
   "execution_count": 17,
   "metadata": {
    "collapsed": false,
    "deletable": true,
    "editable": true
   },
   "outputs": [
    {
     "name": "stdout",
     "output_type": "stream",
     "text": [
      "Reestimated model after 10 iterations:    4.56242042675e-74\n"
     ]
    }
   ],
   "source": [
    "dhmm_r.baum_welch( data, 10 )\n",
    "print( \"Reestimated model after 10 iterations:   \" ,np.exp( dhmm_r.data_estimate(data) ) )"
   ]
  },
  {
   "cell_type": "markdown",
   "metadata": {
    "deletable": true,
    "editable": true
   },
   "source": [
    "The probability of the reestimated model should now be similiar (possibly even higher) that the generator's model. If it is not, you can try to run the estimation procedure more time at different randomly generated models. It could happen that the estimation fall in the local optima.\n",
    "\n",
    "If you are satisfied with the results, you can run some more iteration to fine-tune it."
   ]
  },
  {
   "cell_type": "code",
   "execution_count": 18,
   "metadata": {
    "collapsed": false,
    "deletable": true,
    "editable": true
   },
   "outputs": [
    {
     "name": "stdout",
     "output_type": "stream",
     "text": [
      "Reestimated model after 110 iterations:    1.10929695081e-73\n"
     ]
    }
   ],
   "source": [
    "dhmm_r.baum_welch( data, 100 )\n",
    "print( \"Reestimated model after 110 iterations:   \" ,np.exp( dhmm_r.data_estimate(data) ) )"
   ]
  },
  {
   "cell_type": "markdown",
   "metadata": {
    "deletable": true,
    "editable": true
   },
   "source": [
    "We can compare the parameters of the model."
   ]
  },
  {
   "cell_type": "code",
   "execution_count": 19,
   "metadata": {
    "collapsed": false,
    "deletable": true,
    "editable": true
   },
   "outputs": [
    {
     "name": "stdout",
     "output_type": "stream",
     "text": [
      "Initial probabilities (π) :\n"
     ]
    },
    {
     "data": {
      "text/html": [
       "<div>\n",
       "<table border=\"1\" class=\"dataframe\">\n",
       "  <thead>\n",
       "    <tr style=\"text-align: right;\">\n",
       "      <th></th>\n",
       "      <th>0</th>\n",
       "    </tr>\n",
       "  </thead>\n",
       "  <tbody>\n",
       "    <tr>\n",
       "      <th>0</th>\n",
       "      <td>1.000000e+00</td>\n",
       "    </tr>\n",
       "    <tr>\n",
       "      <th>1</th>\n",
       "      <td>9.268433e-24</td>\n",
       "    </tr>\n",
       "  </tbody>\n",
       "</table>\n",
       "</div>"
      ],
      "text/plain": [
       "              0\n",
       "0  1.000000e+00\n",
       "1  9.268433e-24"
      ]
     },
     "metadata": {},
     "output_type": "display_data"
    },
    {
     "name": "stdout",
     "output_type": "stream",
     "text": [
      "Transition probabilities matrix (A):\n"
     ]
    },
    {
     "data": {
      "text/html": [
       "<div>\n",
       "<table border=\"1\" class=\"dataframe\">\n",
       "  <thead>\n",
       "    <tr style=\"text-align: right;\">\n",
       "      <th></th>\n",
       "      <th>0</th>\n",
       "      <th>1</th>\n",
       "    </tr>\n",
       "  </thead>\n",
       "  <tbody>\n",
       "    <tr>\n",
       "      <th>0</th>\n",
       "      <td>0.303946</td>\n",
       "      <td>0.696054</td>\n",
       "    </tr>\n",
       "    <tr>\n",
       "      <th>1</th>\n",
       "      <td>0.584490</td>\n",
       "      <td>0.415510</td>\n",
       "    </tr>\n",
       "  </tbody>\n",
       "</table>\n",
       "</div>"
      ],
      "text/plain": [
       "          0         1\n",
       "0  0.303946  0.696054\n",
       "1  0.584490  0.415510"
      ]
     },
     "metadata": {},
     "output_type": "display_data"
    },
    {
     "name": "stdout",
     "output_type": "stream",
     "text": [
      "Emission probabilities matrix (B):\n"
     ]
    },
    {
     "data": {
      "text/html": [
       "<div>\n",
       "<table border=\"1\" class=\"dataframe\">\n",
       "  <thead>\n",
       "    <tr style=\"text-align: right;\">\n",
       "      <th></th>\n",
       "      <th>0</th>\n",
       "      <th>1</th>\n",
       "      <th>2</th>\n",
       "    </tr>\n",
       "  </thead>\n",
       "  <tbody>\n",
       "    <tr>\n",
       "      <th>0</th>\n",
       "      <td>0.868485</td>\n",
       "      <td>0.000822</td>\n",
       "      <td>0.130693</td>\n",
       "    </tr>\n",
       "    <tr>\n",
       "      <th>1</th>\n",
       "      <td>0.680600</td>\n",
       "      <td>0.313408</td>\n",
       "      <td>0.005992</td>\n",
       "    </tr>\n",
       "  </tbody>\n",
       "</table>\n",
       "</div>"
      ],
      "text/plain": [
       "          0         1         2\n",
       "0  0.868485  0.000822  0.130693\n",
       "1  0.680600  0.313408  0.005992"
      ]
     },
     "metadata": {},
     "output_type": "display_data"
    },
    {
     "name": "stdout",
     "output_type": "stream",
     "text": [
      "Initial probabilities (π) :\n"
     ]
    },
    {
     "data": {
      "text/html": [
       "<div>\n",
       "<table border=\"1\" class=\"dataframe\">\n",
       "  <thead>\n",
       "    <tr style=\"text-align: right;\">\n",
       "      <th></th>\n",
       "      <th>0</th>\n",
       "    </tr>\n",
       "  </thead>\n",
       "  <tbody>\n",
       "    <tr>\n",
       "      <th>0</th>\n",
       "      <td>0.8</td>\n",
       "    </tr>\n",
       "    <tr>\n",
       "      <th>1</th>\n",
       "      <td>0.2</td>\n",
       "    </tr>\n",
       "  </tbody>\n",
       "</table>\n",
       "</div>"
      ],
      "text/plain": [
       "     0\n",
       "0  0.8\n",
       "1  0.2"
      ]
     },
     "metadata": {},
     "output_type": "display_data"
    },
    {
     "name": "stdout",
     "output_type": "stream",
     "text": [
      "Transition probabilities matrix (A):\n"
     ]
    },
    {
     "data": {
      "text/html": [
       "<div>\n",
       "<table border=\"1\" class=\"dataframe\">\n",
       "  <thead>\n",
       "    <tr style=\"text-align: right;\">\n",
       "      <th></th>\n",
       "      <th>0</th>\n",
       "      <th>1</th>\n",
       "    </tr>\n",
       "  </thead>\n",
       "  <tbody>\n",
       "    <tr>\n",
       "      <th>0</th>\n",
       "      <td>0.9</td>\n",
       "      <td>0.1</td>\n",
       "    </tr>\n",
       "    <tr>\n",
       "      <th>1</th>\n",
       "      <td>0.4</td>\n",
       "      <td>0.6</td>\n",
       "    </tr>\n",
       "  </tbody>\n",
       "</table>\n",
       "</div>"
      ],
      "text/plain": [
       "     0    1\n",
       "0  0.9  0.1\n",
       "1  0.4  0.6"
      ]
     },
     "metadata": {},
     "output_type": "display_data"
    },
    {
     "name": "stdout",
     "output_type": "stream",
     "text": [
      "Emission probabilities matrix (B):\n"
     ]
    },
    {
     "data": {
      "text/html": [
       "<div>\n",
       "<table border=\"1\" class=\"dataframe\">\n",
       "  <thead>\n",
       "    <tr style=\"text-align: right;\">\n",
       "      <th></th>\n",
       "      <th>0</th>\n",
       "      <th>1</th>\n",
       "      <th>2</th>\n",
       "    </tr>\n",
       "  </thead>\n",
       "  <tbody>\n",
       "    <tr>\n",
       "      <th>0</th>\n",
       "      <td>0.9</td>\n",
       "      <td>0.08</td>\n",
       "      <td>0.02</td>\n",
       "    </tr>\n",
       "    <tr>\n",
       "      <th>1</th>\n",
       "      <td>0.2</td>\n",
       "      <td>0.50</td>\n",
       "      <td>0.30</td>\n",
       "    </tr>\n",
       "  </tbody>\n",
       "</table>\n",
       "</div>"
      ],
      "text/plain": [
       "     0     1     2\n",
       "0  0.9  0.08  0.02\n",
       "1  0.2  0.50  0.30"
      ]
     },
     "metadata": {},
     "output_type": "display_data"
    }
   ],
   "source": [
    "hmms.print_parameters( dhmm_r )\n",
    "hmms.print_parameters( dhmm )"
   ]
  },
  {
   "cell_type": "markdown",
   "metadata": {
    "collapsed": false,
    "deletable": true,
    "editable": true,
    "scrolled": true
   },
   "source": [
    "Alternatively, we can run *baum_welch_graph* method to get learning curve of estimated probabilities."
   ]
  },
  {
   "cell_type": "code",
   "execution_count": 20,
   "metadata": {
    "collapsed": false,
    "deletable": true,
    "editable": true,
    "scrolled": false
   },
   "outputs": [
    {
     "data": {
      "text/plain": [
       "array([  7.54262568e-102,   1.70420173e-074,   1.88755987e-074,\n",
       "         2.04044063e-074,   2.17289962e-074,   2.29209963e-074,\n",
       "         2.40323631e-074,   2.50993803e-074,   2.61474578e-074,\n",
       "         2.71956929e-074,   2.82553233e-074,   2.93356424e-074,\n",
       "         3.04419339e-074,   3.15783788e-074,   3.27462546e-074,\n",
       "         3.39490329e-074,   3.51879348e-074,   3.64637012e-074,\n",
       "         3.77782268e-074,   3.91311840e-074,   4.05227004e-074,\n",
       "         4.19528156e-074,   4.34168366e-074,   4.49106986e-074,\n",
       "         4.64283231e-074,   4.79598944e-074,   4.94936318e-074,\n",
       "         5.10195555e-074,   5.25219521e-074,   5.39894464e-074,\n",
       "         5.54082518e-074,   5.67672451e-074,   5.80584896e-074,\n",
       "         5.92759049e-074,   6.04155104e-074,   6.14793853e-074,\n",
       "         6.24685115e-074,   6.33883781e-074,   6.42462610e-074,\n",
       "         6.50482253e-074,   6.58039473e-074,   6.65197109e-074,\n",
       "         6.72022304e-074,   6.78596461e-074,   6.84963133e-074,\n",
       "         6.91178575e-074,   6.97269521e-074,   7.03285356e-074,\n",
       "         7.09244864e-074,   7.15178478e-074,   7.21062703e-074])"
      ]
     },
     "execution_count": 20,
     "metadata": {},
     "output_type": "execute_result"
    }
   ],
   "source": [
    "dhmm_r = hmms.DtHMM.random(2,3) \n",
    "out = dhmm_r.baum_welch_graph( data, 50 )\n",
    "\n",
    "np.exp(out)"
   ]
  },
  {
   "cell_type": "markdown",
   "metadata": {
    "deletable": true,
    "editable": true
   },
   "source": [
    "Let's plot it in the graph, comparing the results in ratio with *real* data-generator model. ( Notice, it is the ratio of logaritmic probability values. )"
   ]
  },
  {
   "cell_type": "code",
   "execution_count": 21,
   "metadata": {
    "collapsed": false,
    "deletable": true,
    "editable": true
   },
   "outputs": [
    {
     "data": {
      "image/png": "[encoded data removed]",
      "text/plain": [
       "<matplotlib.figure.Figure at 0x7f17b4acd898>"
      ]
     },
     "metadata": {},
     "output_type": "display_data"
    }
   ],
   "source": [
    "real = dhmm.data_estimate(data)\n",
    "#For better visibility of the graph, we cut first two values.\n",
    "plt.plot( out[2:] / real  )\n",
    "plt.show()"
   ]
  },
  {
   "cell_type": "markdown",
   "metadata": {
    "deletable": true,
    "editable": true
   },
   "source": [
    "<a id='cthmm'></a>\n",
    "Part 2: Continuous Time Hidden Markov Model\n",
    "-----------------------------------------------------"
   ]
  },
  {
   "cell_type": "code",
   "execution_count": 22,
   "metadata": {
    "collapsed": true,
    "deletable": true,
    "editable": true
   },
   "outputs": [],
   "source": [
    "import numpy as np\n",
    "import matplotlib.pyplot as plt\n",
    "import hmms\n",
    "\n",
    "%matplotlib inline"
   ]
  },
  {
   "cell_type": "markdown",
   "metadata": {
    "deletable": true,
    "editable": true
   },
   "source": [
    "### Construct CtHMM \n",
    "Construction of CtHMM is similar to the discrete model. \n",
    "\n",
    "You can directly initialize the CtHMM by passing the **model parameters**.  \n",
    "We will create simple CtHMM of three hidden states and three output variables."
   ]
  },
  {
   "cell_type": "code",
   "execution_count": 23,
   "metadata": {
    "collapsed": false,
    "deletable": true,
    "editable": true
   },
   "outputs": [],
   "source": [
    "# Q is the matrix of transition rates from state [row] to state [column].\n",
    "Q = np.array( [[-0.375,0.125,0.25],[0.25,-0.5,0.25],[0.25,0.125,-0.375]] )\n",
    "# B is the matrix of probabilities that the state [row] will emmit output variable [column].\n",
    "B = np.array( [[0.8,0.05,0.15],[0.05,0.9,0.05],[0.2,0.05,0.75]] )\n",
    "# Pi is the vector of initial state probabilities.   \n",
    "Pi = np.array( [0.6,0,0.4] )\n",
    "\n",
    "# Create CtHMM by given parameters.\n",
    "chmm = hmms.CtHMM(Q,B,Pi)"
   ]
  },
  {
   "cell_type": "markdown",
   "metadata": {
    "deletable": true,
    "editable": true
   },
   "source": [
    "Or you can initialize it by **random parameters**. Passing the number of hidden states and output variables. "
   ]
  },
  {
   "cell_type": "code",
   "execution_count": 24,
   "metadata": {
    "collapsed": true,
    "deletable": true,
    "editable": true
   },
   "outputs": [],
   "source": [
    "chmm_random = hmms.CtHMM.random(3,3)"
   ]
  },
  {
   "cell_type": "markdown",
   "metadata": {
    "deletable": true,
    "editable": true
   },
   "source": [
    "### Save & Read from File\n",
    "\n",
    "Once you have created the model you can save its parameters in file simply by calling save_params method."
   ]
  },
  {
   "cell_type": "code",
   "execution_count": 25,
   "metadata": {
    "collapsed": false,
    "deletable": true,
    "editable": true
   },
   "outputs": [],
   "source": [
    "chmm.save_params(\"Models/hello_cthmm\") "
   ]
  },
  {
   "cell_type": "markdown",
   "metadata": {
    "deletable": true,
    "editable": true
   },
   "source": [
    "The method stored the parameters in .npz format.\n",
    "The saved file can be later used to read parametrs for model initialization."
   ]
  },
  {
   "cell_type": "code",
   "execution_count": 26,
   "metadata": {
    "collapsed": false,
    "deletable": true,
    "editable": true
   },
   "outputs": [],
   "source": [
    "chmm_from_file = hmms.CtHMM.from_file( \"Models/hello_cthmm.npz\" )"
   ]
  },
  {
   "cell_type": "markdown",
   "metadata": {
    "deletable": true,
    "editable": true
   },
   "source": [
    "### Set & Get Parameters\n",
    "Later you can always set parameters with triple of methods corresponding to the constructors."
   ]
  },
  {
   "cell_type": "code",
   "execution_count": 27,
   "metadata": {
    "collapsed": false,
    "deletable": true,
    "editable": true
   },
   "outputs": [],
   "source": [
    "chmm.set_params(Q,B,Pi)\n",
    "chmm.set_params_random(3,3)\n",
    "chmm.set_params_from_file( \"Models/hello_cthmm.npz\" )"
   ]
  },
  {
   "cell_type": "markdown",
   "metadata": {
    "deletable": true,
    "editable": true
   },
   "source": [
    "You can **get** parameters by calling them separately,"
   ]
  },
  {
   "cell_type": "code",
   "execution_count": 28,
   "metadata": {
    "collapsed": false,
    "deletable": true,
    "editable": true
   },
   "outputs": [
    {
     "data": {
      "text/plain": [
       "(array([[-0.375,  0.125,  0.25 ],\n",
       "        [ 0.25 , -0.5  ,  0.25 ],\n",
       "        [ 0.25 ,  0.125, -0.375]]), array([[ 0.8 ,  0.05,  0.15],\n",
       "        [ 0.05,  0.9 ,  0.05],\n",
       "        [ 0.2 ,  0.05,  0.75]]), array([ 0.6,  0. ,  0.4]))"
      ]
     },
     "execution_count": 28,
     "metadata": {},
     "output_type": "execute_result"
    }
   ],
   "source": [
    "chmm.q, chmm.b, chmm.pi"
   ]
  },
  {
   "cell_type": "markdown",
   "metadata": {
    "deletable": true,
    "editable": true
   },
   "source": [
    "or get them all together as the triple."
   ]
  },
  {
   "cell_type": "code",
   "execution_count": 29,
   "metadata": {
    "collapsed": false,
    "deletable": true,
    "editable": true
   },
   "outputs": [],
   "source": [
    "(A,B,Pi) = chmm.params"
   ]
  },
  {
   "cell_type": "markdown",
   "metadata": {
    "deletable": true,
    "editable": true
   },
   "source": [
    "### Generate Random Sequence\n",
    "Now we can use our model to **generate** time, state and emission sequence.\n",
    "The model will **randomly** choose which transition or emission will happen, taking into consideration the parameters we have previously defined.\n",
    "\n",
    "The times are generated with **exponencial** waiting times, you can define the parameter of exponencial distribution as second optional parameter. \n"
   ]
  },
  {
   "cell_type": "code",
   "execution_count": 30,
   "metadata": {
    "collapsed": false,
    "deletable": true,
    "editable": true
   },
   "outputs": [
    {
     "data": {
      "image/png": "[encoded data removed]",
      "text/plain": [
       "<matplotlib.figure.Figure at 0x7f17b4aaaf60>"
      ]
     },
     "metadata": {},
     "output_type": "display_data"
    }
   ],
   "source": [
    "seq_len = 10\n",
    "t_seq, s_seq, e_seq = chmm.generate( seq_len, 0.5)\n",
    "\n",
    "#resize plot\n",
    "plt.rcParams['figure.figsize'] = [20,20]\n",
    "\n",
    "hmms.plot_hmm( s_seq, e_seq, time=t_seq )"
   ]
  },
  {
   "cell_type": "markdown",
   "metadata": {
    "deletable": true,
    "editable": true
   },
   "source": [
    "### Find Most Likely State Sequence\n",
    "If we have corresponding time and emission sequence, we can find the most probable state sequence that would generate it given the current model parameters. Notice, that it can be different, than the actual sequence that has generated the emissions.  \n",
    "We will use Viterbi algorithm for the calculation."
   ]
  },
  {
   "cell_type": "code",
   "execution_count": 31,
   "metadata": {
    "collapsed": false,
    "deletable": true,
    "editable": true
   },
   "outputs": [
    {
     "data": {
      "image/png": "[encoded data removed]",
      "text/plain": [
       "<matplotlib.figure.Figure at 0x7f17b4ab01d0>"
      ]
     },
     "metadata": {},
     "output_type": "display_data"
    },
    {
     "name": "stdout",
     "output_type": "stream",
     "text": [
      "Probability of being generated by the found state sequence: 1.22504987315e-06\n"
     ]
    }
   ],
   "source": [
    "( log_prob, s_seq ) =  chmm.viterbi( t_seq, e_seq )\n",
    "# Let's print the most likely state sequence, it can be same or differ from the sequence above.\n",
    "hmms.plot_hmm( s_seq, e_seq, time = t_seq )\n",
    "print( \"Probability of being generated by the found state sequence:\", np.exp( log_prob ) )"
   ]
  },
  {
   "cell_type": "markdown",
   "metadata": {
    "deletable": true,
    "editable": true
   },
   "source": [
    "### Generate Artificial  Dataset\n",
    "You can easily generate many sequences in once by using the *generate_data* function.  \n",
    "The generated data are in the form that is suitable for training of parameters. \n",
    "You can switch *states=True*, if you want to generate also the corresponding state sequences.\n",
    "\n",
    "TODO: The times are generated with **exponencial** waiting times, you can define the parameter of exponencial distribution as second optional parameter. "
   ]
  },
  {
   "cell_type": "code",
   "execution_count": 32,
   "metadata": {
    "collapsed": false,
    "deletable": true,
    "editable": true
   },
   "outputs": [
    {
     "data": {
      "text/plain": [
       "(array([[ 0,  2,  3,  4,  7, 13, 16, 22, 34, 35, 39, 40, 41, 43, 44, 47, 49,\n",
       "         52, 53, 55, 57, 61, 64, 66, 67, 69, 70, 72, 74, 76],\n",
       "        [ 0,  1,  3,  7, 10, 11, 12, 15, 16, 22, 25, 27, 31, 33, 37, 39, 40,\n",
       "         41, 43, 44, 47, 49, 52, 54, 56, 57, 60, 62, 65, 69],\n",
       "        [ 0,  2,  6,  7, 12, 14, 18, 21, 25, 28, 29, 30, 32, 35, 38, 39, 41,\n",
       "         42, 50, 51, 52, 53, 55, 58, 64, 65, 71, 72, 81, 85],\n",
       "        [ 0,  2,  4,  5,  7,  9, 16, 17, 20, 21, 22, 24, 27, 28, 31, 32, 33,\n",
       "         34, 37, 41, 42, 43, 45, 48, 49, 52, 53, 54, 58, 59],\n",
       "        [ 0,  2,  4,  7,  8,  9, 10, 13, 19, 20, 24, 25, 29, 33, 34, 36, 40,\n",
       "         45, 54, 59, 61, 63, 65, 70, 72, 74, 75, 77, 80, 81]]),\n",
       " array([[0, 2, 2, 2, 2, 0, 0, 2, 0, 2, 2, 2, 2, 2, 2, 0, 0, 2, 2, 0, 1, 2,\n",
       "         0, 0, 0, 0, 0, 0, 0, 0],\n",
       "        [0, 0, 0, 2, 0, 0, 2, 2, 1, 1, 1, 1, 0, 0, 1, 2, 0, 0, 0, 0, 1, 2,\n",
       "         2, 1, 1, 1, 1, 0, 1, 0],\n",
       "        [2, 1, 1, 1, 1, 1, 2, 2, 0, 1, 2, 2, 0, 2, 0, 2, 0, 2, 0, 1, 2, 2,\n",
       "         0, 1, 0, 0, 1, 0, 0, 2],\n",
       "        [0, 1, 2, 2, 1, 0, 2, 1, 1, 0, 2, 0, 1, 0, 1, 0, 0, 0, 2, 0, 0, 2,\n",
       "         0, 0, 1, 0, 0, 0, 0, 2],\n",
       "        [0, 0, 0, 0, 1, 2, 2, 2, 2, 1, 0, 2, 2, 1, 1, 2, 0, 2, 2, 0, 0, 2,\n",
       "         0, 0, 2, 0, 0, 0, 2, 2]]))"
      ]
     },
     "execution_count": 32,
     "metadata": {},
     "output_type": "execute_result"
    }
   ],
   "source": [
    "seq_num= 5   #number of data sequences\n",
    "seq_len= 30  #length of each sequence\n",
    "\n",
    "t,e = chmm.generate_data( (seq_num,seq_len) )\n",
    "t,e"
   ]
  },
  {
   "cell_type": "markdown",
   "metadata": {
    "collapsed": true,
    "deletable": true,
    "editable": true
   },
   "source": [
    "### Parameters Estimation - Continuous Version of Baum Welch Algorithm\n",
    "\n",
    "We will use the previously generated data for the training of randomly generated model."
   ]
  },
  {
   "cell_type": "code",
   "execution_count": 33,
   "metadata": {
    "collapsed": false,
    "deletable": true,
    "editable": true
   },
   "outputs": [
    {
     "name": "stdout",
     "output_type": "stream",
     "text": [
      "Initial probabilities (π) :\n"
     ]
    },
    {
     "data": {
      "text/html": [
       "<div>\n",
       "<table border=\"1\" class=\"dataframe\">\n",
       "  <thead>\n",
       "    <tr style=\"text-align: right;\">\n",
       "      <th></th>\n",
       "      <th>0</th>\n",
       "    </tr>\n",
       "  </thead>\n",
       "  <tbody>\n",
       "    <tr>\n",
       "      <th>0</th>\n",
       "      <td>0.252766</td>\n",
       "    </tr>\n",
       "    <tr>\n",
       "      <th>1</th>\n",
       "      <td>0.737335</td>\n",
       "    </tr>\n",
       "    <tr>\n",
       "      <th>2</th>\n",
       "      <td>0.009899</td>\n",
       "    </tr>\n",
       "  </tbody>\n",
       "</table>\n",
       "</div>"
      ],
      "text/plain": [
       "          0\n",
       "0  0.252766\n",
       "1  0.737335\n",
       "2  0.009899"
      ]
     },
     "metadata": {},
     "output_type": "display_data"
    },
    {
     "name": "stdout",
     "output_type": "stream",
     "text": [
      "Transition rate matrix (Q):\n"
     ]
    },
    {
     "data": {
      "text/html": [
       "<div>\n",
       "<table border=\"1\" class=\"dataframe\">\n",
       "  <thead>\n",
       "    <tr style=\"text-align: right;\">\n",
       "      <th></th>\n",
       "      <th>0</th>\n",
       "      <th>1</th>\n",
       "      <th>2</th>\n",
       "    </tr>\n",
       "  </thead>\n",
       "  <tbody>\n",
       "    <tr>\n",
       "      <th>0</th>\n",
       "      <td>-1.000000</td>\n",
       "      <td>0.231986</td>\n",
       "      <td>0.768014</td>\n",
       "    </tr>\n",
       "    <tr>\n",
       "      <th>1</th>\n",
       "      <td>0.467281</td>\n",
       "      <td>-1.000000</td>\n",
       "      <td>0.532719</td>\n",
       "    </tr>\n",
       "    <tr>\n",
       "      <th>2</th>\n",
       "      <td>0.481666</td>\n",
       "      <td>0.518334</td>\n",
       "      <td>-1.000000</td>\n",
       "    </tr>\n",
       "  </tbody>\n",
       "</table>\n",
       "</div>"
      ],
      "text/plain": [
       "          0         1         2\n",
       "0 -1.000000  0.231986  0.768014\n",
       "1  0.467281 -1.000000  0.532719\n",
       "2  0.481666  0.518334 -1.000000"
      ]
     },
     "metadata": {},
     "output_type": "display_data"
    },
    {
     "name": "stdout",
     "output_type": "stream",
     "text": [
      "Transition probabilities for one time unit :\n"
     ]
    },
    {
     "data": {
      "text/html": [
       "<div>\n",
       "<table border=\"1\" class=\"dataframe\">\n",
       "  <thead>\n",
       "    <tr style=\"text-align: right;\">\n",
       "      <th></th>\n",
       "      <th>0</th>\n",
       "      <th>1</th>\n",
       "      <th>2</th>\n",
       "    </tr>\n",
       "  </thead>\n",
       "  <tbody>\n",
       "    <tr>\n",
       "      <th>0</th>\n",
       "      <td>0.477574</td>\n",
       "      <td>0.175661</td>\n",
       "      <td>0.346764</td>\n",
       "    </tr>\n",
       "    <tr>\n",
       "      <th>1</th>\n",
       "      <td>0.246641</td>\n",
       "      <td>0.459135</td>\n",
       "      <td>0.294224</td>\n",
       "    </tr>\n",
       "    <tr>\n",
       "      <th>2</th>\n",
       "      <td>0.249853</td>\n",
       "      <td>0.239602</td>\n",
       "      <td>0.510545</td>\n",
       "    </tr>\n",
       "  </tbody>\n",
       "</table>\n",
       "</div>"
      ],
      "text/plain": [
       "          0         1         2\n",
       "0  0.477574  0.175661  0.346764\n",
       "1  0.246641  0.459135  0.294224\n",
       "2  0.249853  0.239602  0.510545"
      ]
     },
     "metadata": {},
     "output_type": "display_data"
    },
    {
     "name": "stdout",
     "output_type": "stream",
     "text": [
      "Emission probabilities matrix (B):\n"
     ]
    },
    {
     "data": {
      "text/html": [
       "<div>\n",
       "<table border=\"1\" class=\"dataframe\">\n",
       "  <thead>\n",
       "    <tr style=\"text-align: right;\">\n",
       "      <th></th>\n",
       "      <th>0</th>\n",
       "      <th>1</th>\n",
       "      <th>2</th>\n",
       "    </tr>\n",
       "  </thead>\n",
       "  <tbody>\n",
       "    <tr>\n",
       "      <th>0</th>\n",
       "      <td>0.337555</td>\n",
       "      <td>0.324383</td>\n",
       "      <td>0.338062</td>\n",
       "    </tr>\n",
       "    <tr>\n",
       "      <th>1</th>\n",
       "      <td>0.517641</td>\n",
       "      <td>0.166086</td>\n",
       "      <td>0.316273</td>\n",
       "    </tr>\n",
       "    <tr>\n",
       "      <th>2</th>\n",
       "      <td>0.231116</td>\n",
       "      <td>0.340860</td>\n",
       "      <td>0.428024</td>\n",
       "    </tr>\n",
       "  </tbody>\n",
       "</table>\n",
       "</div>"
      ],
      "text/plain": [
       "          0         1         2\n",
       "0  0.337555  0.324383  0.338062\n",
       "1  0.517641  0.166086  0.316273\n",
       "2  0.231116  0.340860  0.428024"
      ]
     },
     "metadata": {},
     "output_type": "display_data"
    }
   ],
   "source": [
    "chmm_r = hmms.CtHMM.random( 3,3 )\n",
    "# We can print all the parameters.\n",
    "hmms.print_parameters( chmm_r )"
   ]
  },
  {
   "cell_type": "markdown",
   "metadata": {
    "deletable": true,
    "editable": true
   },
   "source": [
    "Now we can compare the probabilities, that the data was generated by the given model. Its ratio is most probably not so big as in the disrete model. It is because the intervals between the observations are the source of many unknown, so it is pushing the probability of real model down. "
   ]
  },
  {
   "cell_type": "code",
   "execution_count": 34,
   "metadata": {
    "collapsed": false,
    "deletable": true,
    "editable": true
   },
   "outputs": [
    {
     "name": "stdout",
     "output_type": "stream",
     "text": [
      "sm -25.062755290249306\n",
      "sm -56.67270364444578\n",
      "sm -90.42250210848829\n",
      "sm -123.90123892833674\n",
      "sm -153.7571509803126\n",
      "Generator model: 1.67539716447e-67\n",
      "sm -30.790030269764113\n",
      "sm -63.84549556296784\n",
      "sm -96.86151483196184\n",
      "sm -129.29358977418963\n",
      "sm -160.73124307272195\n",
      "Random model:    1.56786282942e-70\n"
     ]
    }
   ],
   "source": [
    "print( \"Generator model:\" , np.exp( chmm.data_estimate(t,e)   ) )\n",
    "print( \"Random model:   \" ,np.exp( chmm_r.data_estimate(t,e) ) )"
   ]
  },
  {
   "cell_type": "markdown",
   "metadata": {
    "deletable": true,
    "editable": true
   },
   "source": [
    "Let's run the EM algorithm for couple of iterations."
   ]
  },
  {
   "cell_type": "code",
   "execution_count": 35,
   "metadata": {
    "collapsed": false,
    "deletable": true,
    "editable": true
   },
   "outputs": [
    {
     "name": "stdout",
     "output_type": "stream",
     "text": [
      "gr -30.790030269764113\n",
      "gr -63.84549556296784\n",
      "gr -96.86151483196184\n",
      "gr -129.29358977418963\n",
      "gr -160.73124307272195\n",
      "should equal\n",
      "-160.73124307272195\n",
      "sm -30.790030269764113\n",
      "sm -63.84549556296784\n",
      "sm -96.86151483196184\n",
      "sm -129.29358977418963\n",
      "sm -160.73124307272195\n",
      "-160.73124307272195\n",
      "gr -28.46913209795783\n",
      "gr -61.860602107292166\n",
      "gr -95.77473033678962\n",
      "gr -126.86604162834881\n",
      "gr -157.1829356562005\n",
      "should equal\n",
      "-157.1829356562005\n",
      "sm -28.46913209795783\n",
      "sm -61.860602107292166\n",
      "sm -95.77473033678962\n",
      "sm -126.86604162834881\n",
      "sm -157.1829356562005\n",
      "-157.1829356562005\n",
      "gr -28.36603166907805\n",
      "gr -61.706690453583974\n",
      "gr -95.71794426651171\n",
      "gr -126.74169197513123\n",
      "gr -156.99694946749509\n",
      "should equal\n",
      "-156.99694946749509\n",
      "sm -28.36603166907805\n",
      "sm -61.706690453583974\n",
      "sm -95.71794426651171\n",
      "sm -126.74169197513123\n",
      "sm -156.99694946749509\n",
      "-156.99694946749509\n",
      "gr -28.31188253340404\n",
      "gr -61.574613784661594\n",
      "gr -95.6244903978868\n",
      "gr -126.61968743417398\n",
      "gr -156.8195397728835\n",
      "should equal\n",
      "-156.8195397728835\n",
      "sm -28.31188253340404\n",
      "sm -61.574613784661594\n",
      "sm -95.6244903978868\n",
      "sm -126.61968743417398\n",
      "sm -156.8195397728835\n",
      "-156.8195397728835\n",
      "gr -28.259886241069665\n",
      "gr -61.44482210781109\n",
      "gr -95.53305239584469\n",
      "gr -126.50358638638998\n",
      "gr -156.64925592493\n",
      "should equal\n",
      "-156.64925592493\n",
      "sm -28.259886241069665\n",
      "sm -61.44482210781109\n",
      "sm -95.53305239584469\n",
      "sm -126.50358638638998\n",
      "sm -156.64925592493\n",
      "-156.64925592493\n",
      "gr -28.208770874390147\n",
      "gr -61.31910834785672\n",
      "gr -95.4476527022476\n",
      "gr -126.39612226819169\n",
      "gr -156.48988376443447\n",
      "should equal\n",
      "-156.48988376443447\n",
      "sm -28.208770874390147\n",
      "sm -61.31910834785672\n",
      "sm -95.4476527022476\n",
      "sm -126.39612226819169\n",
      "sm -156.48988376443447\n",
      "-156.48988376443447\n",
      "gr -28.15927777951922\n",
      "gr -61.19948990505536\n",
      "gr -95.36945604148843\n",
      "gr -126.29867767647939\n",
      "gr -156.3436722795985\n",
      "should equal\n",
      "-156.3436722795985\n",
      "sm -28.15927777951922\n",
      "sm -61.19948990505536\n",
      "sm -95.36945604148843\n",
      "sm -126.29867767647939\n",
      "sm -156.3436722795985\n",
      "-156.3436722795985\n",
      "gr -28.11200755681702\n",
      "gr -61.0872281618751\n",
      "gr -95.29878074478309\n",
      "gr -126.21163187875295\n",
      "gr -156.2114852423109\n",
      "should equal\n",
      "-156.2114852423109\n",
      "sm -28.11200755681702\n",
      "sm -61.0872281618751\n",
      "sm -95.29878074478309\n",
      "sm -126.21163187875295\n",
      "sm -156.2114852423109\n",
      "-156.2114852423109\n",
      "gr -28.06731710252581\n",
      "gr -60.98290661560277\n",
      "gr -95.23543438763511\n",
      "gr -126.13466189560589\n",
      "gr -156.09316579997\n",
      "should equal\n",
      "-156.09316579997\n",
      "sm -28.06731710252581\n",
      "sm -60.98290661560277\n",
      "sm -95.23543438763511\n",
      "sm -126.13466189560589\n",
      "sm -156.09316579997\n",
      "-156.09316579997\n",
      "gr -28.02536853895558\n",
      "gr -60.88661943484897\n",
      "gr -95.17893095280651\n",
      "gr -126.06703269273616\n",
      "gr -155.98792514338598\n",
      "should equal\n",
      "-155.98792514338598\n",
      "sm -28.02536853895558\n",
      "sm -60.88661943484897\n",
      "sm -95.17893095280651\n",
      "sm -126.06703269273616\n",
      "sm -155.98792514338598\n",
      "-155.98792514338598\n",
      "gr -27.98618884430695\n",
      "gr -60.79814824727313\n",
      "gr -95.12864605594524\n",
      "gr -126.00781814497614\n",
      "gr -155.89465192755168\n",
      "should equal\n",
      "-155.89465192755168\n",
      "sm -27.98618884430695\n",
      "sm -60.79814824727313\n",
      "sm -95.12864605594524\n",
      "sm -126.00781814497614\n",
      "sm -155.89465192755168\n",
      "-155.89465192755168\n",
      "gr -27.94971878916678\n",
      "gr -60.71709550238863\n",
      "gr -95.08391415035211\n",
      "gr -125.95604295859104\n",
      "gr -155.81211881537288\n",
      "should equal\n",
      "-155.81211881537288\n",
      "sm -27.94971878916678\n",
      "sm -60.71709550238863\n",
      "sm -95.08391415035211\n",
      "sm -125.95604295859104\n",
      "sm -155.81211881537288\n",
      "-155.81211881537288\n",
      "gr -27.915847863569258\n",
      "gr -60.64297369537792\n",
      "gr -95.04408294768524\n",
      "gr -125.91076274256316\n",
      "gr -155.7391039757185\n",
      "should equal\n",
      "-155.7391039757185\n",
      "sm -27.915847863569258\n",
      "sm -60.64297369537792\n",
      "sm -95.04408294768524\n",
      "sm -125.91076274256316\n",
      "sm -155.7391039757185\n",
      "-155.7391039757185\n",
      "gr -27.884437417023186\n",
      "gr -60.57526074536992\n",
      "gr -95.00854128179593\n",
      "gr -125.87110402929324\n",
      "gr -155.6744552093228\n",
      "should equal\n",
      "-155.6744552093228\n",
      "sm -27.884437417023186\n",
      "sm -60.57526074536992\n",
      "sm -95.00854128179593\n",
      "sm -125.87110402929324\n",
      "sm -155.6744552093228\n",
      "-155.6744552093228\n",
      "gr -27.855335421617344\n",
      "gr -60.51343277957179\n",
      "gr -94.97673206673292\n",
      "gr -125.83628112831398\n",
      "gr -155.6171196895334\n",
      "should equal\n",
      "-155.6171196895334\n",
      "sm -27.855335421617344\n",
      "sm -60.51343277957179\n",
      "sm -94.97673206673292\n",
      "sm -125.83628112831398\n",
      "sm -155.6171196895334\n",
      "-155.6171196895334\n",
      "gr -27.82838576173817\n",
      "gr -60.45698293492631\n",
      "gr -94.94815721774428\n",
      "gr -125.80560043833736\n",
      "gr -155.56615451781633\n",
      "should equal\n",
      "-155.56615451781633\n",
      "sm -27.82838576173817\n",
      "sm -60.45698293492631\n",
      "sm -94.94815721774428\n",
      "sm -125.80560043833736\n",
      "sm -155.56615451781633\n",
      "-155.56615451781633\n",
      "gr -27.80343407166269\n",
      "gr -60.40543180258071\n",
      "gr -94.9223781589483\n",
      "gr -125.77845818571275\n",
      "gr -155.5207269949171\n",
      "should equal\n",
      "-155.5207269949171\n",
      "sm -27.80343407166269\n",
      "sm -60.40543180258071\n",
      "sm -94.9223781589483\n",
      "sm -125.77845818571275\n",
      "sm -155.5207269949171\n",
      "-155.5207269949171\n",
      "gr -27.78033139541709\n",
      "gr -60.35833289031099\n",
      "gr -94.8990137586172\n",
      "gr -125.7543347640219\n",
      "gr -155.48010949642267\n",
      "should equal\n",
      "-155.48010949642267\n",
      "sm -27.78033139541709\n",
      "sm -60.35833289031099\n",
      "sm -94.8990137586172\n",
      "sm -125.7543347640219\n",
      "sm -155.48010949642267\n",
      "-155.48010949642267\n",
      "gr -27.75893643757584\n",
      "gr -60.315275049762754\n",
      "gr -94.877736680959\n",
      "gr -125.73278736758354\n",
      "gr -155.44367159195775\n",
      "should equal\n",
      "-155.44367159195775\n",
      "sm -27.75893643757584\n",
      "sm -60.315275049762754\n",
      "sm -94.877736680959\n",
      "sm -125.73278736758354\n",
      "sm -155.44367159195775\n",
      "-155.44367159195775\n",
      "gr -27.739116867883926\n",
      "gr -60.27588299153004\n",
      "gr -94.85826876842614\n",
      "gr -125.71344187499697\n",
      "gr -155.41087087190394\n",
      "should equal\n",
      "-155.41087087190394\n",
      "sm -27.739116867883926\n",
      "sm -60.27588299153004\n",
      "sm -94.85826876842614\n",
      "sm -125.71344187499697\n",
      "sm -155.41087087190394\n",
      "-155.41087087190394\n",
      "gr -27.720749968506137\n",
      "gr -60.23981656045365\n",
      "gr -94.84037589826926\n",
      "gr -125.69598457174837\n",
      "gr -155.3812433428459\n",
      "should equal\n",
      "-155.3812433428459\n",
      "sm -27.720749968506137\n",
      "sm -60.23981656045365\n",
      "sm -94.84037589826926\n",
      "sm -125.69598457174837\n",
      "sm -155.3812433428459\n",
      "-155.3812433428459\n",
      "gr -27.70372281541297\n",
      "gr -60.20676920057045\n",
      "gr -94.82386265862371\n",
      "gr -125.6801540998344\n",
      "gr -155.35439392989895\n",
      "should equal\n",
      "-155.35439392989895\n",
      "sm -27.70372281541297\n",
      "sm -60.20676920057045\n",
      "sm -94.82386265862371\n",
      "sm -125.6801540998344\n",
      "sm -155.35439392989895\n",
      "-155.35439392989895\n",
      "gr -27.687932129540737\n",
      "gr -60.176465903983996\n",
      "gr -94.80856711085379\n",
      "gr -125.66573389258367\n",
      "gr -155.32998743157412\n",
      "should equal\n",
      "-155.32998743157412\n",
      "sm -27.687932129540737\n",
      "sm -60.176465903983996\n",
      "sm -94.80856711085379\n",
      "sm -125.66573389258367\n",
      "sm -155.32998743157412\n",
      "-155.32998743157412\n",
      "gr -27.673283898826064\n",
      "gr -60.148660856403794\n",
      "gr -94.79435583225302\n",
      "gr -125.6525452564142\n",
      "gr -155.3077401430867\n",
      "should equal\n",
      "-155.3077401430867\n",
      "sm -27.673283898826064\n",
      "sm -60.148660856403794\n",
      "sm -94.79435583225302\n",
      "sm -125.6525452564142\n",
      "sm -155.3077401430867\n",
      "-155.3077401430867\n",
      "gr -27.659692848582832\n",
      "gr -60.123134937205265\n",
      "gr -94.78111936676308\n",
      "gr -125.64044118542\n",
      "gr -155.28741226903605\n",
      "should equal\n",
      "-155.28741226903605\n",
      "sm -27.659692848582832\n",
      "sm -60.123134937205265\n",
      "sm -94.78111936676308\n",
      "sm -125.64044118542\n",
      "sm -155.28741226903605\n",
      "-155.28741226903605\n",
      "gr -27.647081819931444\n",
      "gr -60.09969319106409\n",
      "gr -94.76876815442208\n",
      "gr -125.62930093581026\n",
      "gr -155.26880117527014\n",
      "should equal\n",
      "-155.26880117527014\n",
      "sm -27.647081819931444\n",
      "sm -60.09969319106409\n",
      "sm -94.76876815442208\n",
      "sm -125.62930093581026\n",
      "sm -155.26880117527014\n",
      "-155.26880117527014\n",
      "gr -27.635381101834806\n",
      "gr -60.078162356066414\n",
      "gr -94.75722896504504\n",
      "gr -125.61902534391007\n",
      "gr -155.25173547778326\n",
      "should equal\n",
      "-155.25173547778326\n",
      "sm -27.635381101834806\n",
      "sm -60.078162356066414\n",
      "sm -94.75722896504504\n",
      "sm -125.61902534391007\n",
      "sm -155.25173547778326\n",
      "-155.25173547778326\n",
      "gr -27.624527750732767\n",
      "gr -60.05838850734629\n",
      "gr -94.74644182851782\n",
      "gr -125.60953284202341\n",
      "gr -155.23606993059852\n",
      "should equal\n",
      "-155.23606993059852\n",
      "sm -27.624527750732767\n",
      "sm -60.05838850734629\n",
      "sm -94.74644182851782\n",
      "sm -125.60953284202341\n",
      "sm -155.23606993059852\n",
      "-155.23606993059852\n",
      "gr -27.61446492232823\n",
      "gr -60.0402348546511\n",
      "gr -94.73635743192969\n",
      "gr -125.60075610874799\n",
      "gr -155.2216810519311\n",
      "should equal\n",
      "-155.2216810519311\n",
      "sm -27.61446492232823\n",
      "sm -60.0402348546511\n",
      "sm -94.73635743192969\n",
      "sm -125.60075610874799\n",
      "sm -155.2216810519311\n",
      "-155.2216810519311\n",
      "gr -27.60514123247277\n",
      "gr -60.023579716072575\n",
      "gr -94.72693494065877\n",
      "gr -125.59263928178196\n",
      "gr -155.20846341566482\n",
      "should equal\n",
      "-155.20846341566482\n",
      "sm -27.60514123247277\n",
      "sm -60.023579716072575\n",
      "sm -94.72693494065877\n",
      "sm -125.59263928178196\n",
      "sm -155.20846341566482\n",
      "-155.20846341566482\n",
      "gr -27.596510158095562\n",
      "gr -60.00831467788978\n",
      "gr -94.71814019430771\n",
      "gr -125.58513565940419\n",
      "gr -155.19632653063132\n",
      "should equal\n",
      "-155.19632653063132\n",
      "sm -27.596510158095562\n",
      "sm -60.00831467788978\n",
      "sm -94.71814019430771\n",
      "sm -125.58513565940419\n",
      "sm -155.19632653063132\n",
      "-155.19632653063132\n",
      "gr -27.588529484490255\n",
      "gr -59.9943429414446\n",
      "gr -94.70994422705792\n",
      "gr -125.57820581945174\n",
      "gr -155.18519223099628\n",
      "should equal\n",
      "-155.18519223099628\n",
      "sm -27.588529484490255\n",
      "sm -59.9943429414446\n",
      "sm -94.70994422705792\n",
      "sm -125.57820581945174\n",
      "sm -155.18519223099628\n",
      "-155.18519223099628\n",
      "gr -27.581160801796177\n",
      "gr -59.98157785162368\n",
      "gr -94.7023220638765\n",
      "gr -125.57181609000875\n",
      "gr -155.17499250531466\n",
      "should equal\n",
      "-155.17499250531466\n",
      "sm -27.581160801796177\n",
      "sm -59.98157785162368\n",
      "sm -94.7023220638765\n",
      "sm -125.57181609000875\n",
      "sm -155.17499250531466\n",
      "-155.17499250531466\n",
      "gr -27.57436905098275\n",
      "gr -59.969941597313365\n",
      "gr -94.69525174777817\n",
      "gr -125.565937312843\n",
      "gr -155.1656676980595\n",
      "should equal\n",
      "-155.1656676980595\n",
      "sm -27.57436905098275\n",
      "sm -59.969941597313365\n",
      "sm -94.69525174777817\n",
      "sm -125.565937312843\n",
      "sm -155.1656676980595\n",
      "-155.1656676980595\n",
      "gr -27.56812211786745\n",
      "gr -59.95936407163299\n",
      "gr -94.6887135580406\n",
      "gr -125.56054384792981\n",
      "gr -155.15716502456223\n",
      "should equal\n",
      "-155.15716502456223\n",
      "sm -27.56812211786745\n",
      "sm -59.95936407163299\n",
      "sm -94.6887135580406\n",
      "sm -125.56054384792981\n",
      "sm -155.15716502456223\n",
      "-155.15716502456223\n",
      "gr -27.562390472513094\n",
      "gr -59.94978187843377\n",
      "gr -94.68268938426351\n",
      "gr -125.55561277459448\n",
      "gr -155.1494373476329\n",
      "should equal\n",
      "-155.1494373476329\n",
      "sm -27.562390472513094\n",
      "sm -59.94978187843377\n",
      "sm -94.68268938426351\n",
      "sm -125.55561277459448\n",
      "sm -155.1494373476329\n",
      "-155.1494373476329\n",
      "gr -27.557146850614306\n",
      "gr -59.94113747113498\n",
      "gr -94.67716222603039\n",
      "gr -125.55112325150795\n",
      "gr -155.14244217117488\n",
      "should equal\n",
      "-155.14244217117488\n",
      "sm -27.557146850614306\n",
      "sm -59.94113747113498\n",
      "sm -94.67716222603039\n",
      "sm -125.55112325150795\n",
      "sm -155.14244217117488\n",
      "-155.14244217117488\n",
      "gr -27.55236597308007\n",
      "gr -59.933378410182684\n",
      "gr -94.6721157924309\n",
      "gr -125.54705600379198\n",
      "gr -155.13614081261161\n",
      "should equal\n",
      "-155.13614081261161\n",
      "sm -27.55236597308007\n",
      "sm -59.933378410182684\n",
      "sm -94.6721157924309\n",
      "sm -125.54705600379198\n",
      "sm -155.13614081261161\n",
      "-155.13614081261161\n",
      "gr -27.548024299861492\n",
      "gr -59.926456726056486\n",
      "gr -94.66753417972765\n",
      "gr -125.54339291077036\n",
      "gr -155.13049772177826\n",
      "should equal\n",
      "-155.13049772177826\n",
      "sm -27.548024299861492\n",
      "sm -59.926456726056486\n",
      "sm -94.66753417972765\n",
      "sm -125.54339291077036\n",
      "sm -155.13049772177826\n",
      "-155.13049772177826\n",
      "gr -27.54409981408167\n",
      "gr -59.92032837564539\n",
      "gr -94.66340160895334\n",
      "gr -125.54011667243016\n",
      "gr -155.12547991904992\n",
      "should equal\n",
      "-155.12547991904992\n",
      "sm -27.54409981408167\n",
      "sm -59.92032837564539\n",
      "sm -94.66340160895334\n",
      "sm -125.54011667243016\n",
      "sm -155.12547991904992\n",
      "-155.12547991904992\n",
      "gr -27.540571832648094\n",
      "gr -59.914952780855884\n",
      "gr -94.65970220823641\n",
      "gr -125.53721053650808\n",
      "gr -155.12105652991903\n",
      "should equal\n",
      "-155.12105652991903\n",
      "sm -27.540571832648094\n",
      "sm -59.914952780855884\n",
      "sm -94.65970220823641\n",
      "sm -125.53721053650808\n",
      "sm -155.12105652991903\n",
      "-155.12105652991903\n",
      "gr -27.5374208397208\n",
      "gr -59.91029243940629\n",
      "gr -94.65641982721988\n",
      "gr -125.53465807135863\n",
      "gr -155.11719839704566\n",
      "should equal\n",
      "-155.11719839704566\n",
      "sm -27.5374208397208\n",
      "sm -59.91029243940629\n",
      "sm -94.65641982721988\n",
      "sm -125.53465807135863\n",
      "sm -155.11719839704566\n",
      "-155.11719839704566\n",
      "gr -27.534628339640335\n",
      "gr -59.90631259883478\n",
      "gr -94.65353787312966\n",
      "gr -125.5324429724898\n",
      "gr -155.11387775405737\n",
      "should equal\n",
      "-155.11387775405737\n",
      "sm -27.534628339640335\n",
      "sm -59.90631259883478\n",
      "sm -94.65353787312966\n",
      "sm -125.5324429724898\n",
      "sm -155.11387775405737\n",
      "-155.11387775405737\n",
      "gr -27.532176726166206\n",
      "gr -59.9029809857562\n",
      "gr -94.65103915996107\n",
      "gr -125.53054889298227\n",
      "gr -155.1110679481737\n",
      "should equal\n",
      "-155.1110679481737\n",
      "sm -27.532176726166206\n",
      "sm -59.9029809857562\n",
      "sm -94.65103915996107\n",
      "sm -125.53054889298227\n",
      "sm -155.1110679481737\n",
      "-155.1110679481737\n",
      "gr -27.530049165123383\n",
      "gr -59.90026758330005\n",
      "gr -94.64890576398135\n",
      "gr -125.52895929004234\n",
      "gr -155.1087432011586\n",
      "should equal\n",
      "-155.1087432011586\n",
      "sm -27.530049165123383\n",
      "sm -59.90026758330005\n",
      "sm -94.64890576398135\n",
      "sm -125.52895929004234\n",
      "sm -155.1087432011586\n",
      "-155.1087432011586\n",
      "gr -27.528229487786444\n",
      "gr -59.89814445040423\n",
      "gr -94.64711888039228\n",
      "gr -125.52765728177764\n",
      "gr -155.10687840024372\n",
      "should equal\n",
      "-155.10687840024372\n",
      "sm -27.528229487786444\n",
      "sm -59.89814445040423\n",
      "sm -94.64711888039228\n",
      "sm -125.52765728177764\n",
      "sm -155.10687840024372\n",
      "-155.10687840024372\n",
      "gr -27.52670209254814\n",
      "gr -59.896585577198124\n",
      "gr -94.64565867770521\n",
      "gr -125.52662551007484\n",
      "gr -155.10544891264894\n",
      "should equal\n",
      "-155.10544891264894\n",
      "sm -27.52670209254814\n",
      "sm -59.896585577198124\n",
      "sm -94.64565867770521\n",
      "sm -125.52662551007484\n",
      "sm -155.10544891264894\n",
      "-155.10544891264894\n",
      "gr -27.525451852612104\n",
      "gr -59.89556677102546\n",
      "gr -94.6445041482684\n",
      "gr -125.5258460072928\n",
      "gr -155.10443041921118\n",
      "should equal\n",
      "-155.10443041921118\n",
      "sm -27.525451852612104\n",
      "sm -59.89556677102546\n",
      "sm -94.6445041482684\n",
      "sm -125.5258460072928\n",
      "sm -155.10443041921118\n",
      "-155.10443041921118\n",
      "gr -27.524464027622557\n",
      "gr -59.895065567689734\n",
      "gr -94.64363295562616\n",
      "gr -125.52530006652144\n",
      "gr -155.10379876455204\n",
      "should equal\n",
      "-155.10379876455204\n",
      "sm -27.524464027622557\n",
      "sm -59.895065567689734\n",
      "sm -94.64363295562616\n",
      "sm -125.52530006652144\n",
      "sm -155.10379876455204\n",
      "-155.10379876455204\n",
      "gr -27.523724177299165\n",
      "gr -59.895061162180674\n",
      "gr -94.64302128213944\n",
      "gr -125.5249681175144\n",
      "gr -155.10352982323934\n",
      "should equal\n",
      "-155.10352982323934\n",
      "sm -27.523724177299165\n",
      "sm -59.895061162180674\n",
      "sm -94.64302128213944\n",
      "sm -125.5249681175144\n",
      "sm -155.10352982323934\n",
      "-155.10352982323934\n",
      "gr -27.523218075294388\n",
      "gr -59.89553435240034\n",
      "gr -94.64264368374482\n",
      "gr -125.52482961323966\n",
      "gr -155.1035993836432\n",
      "should equal\n",
      "-155.1035993836432\n",
      "sm -27.523218075294388\n",
      "sm -59.89553435240034\n",
      "sm -94.64264368374482\n",
      "sm -125.52482961323966\n",
      "sm -155.1035993836432\n",
      "-155.1035993836432\n",
      "gr -27.522931621642147\n",
      "gr -59.89646748816598\n",
      "gr -94.6424729630111\n",
      "gr -125.52486293538747\n",
      "gr -155.10398305367738\n",
      "should equal\n",
      "-155.10398305367738\n",
      "sm -27.522931621642147\n",
      "sm -59.89646748816598\n",
      "sm -94.6424729630111\n",
      "sm -125.52486293538747\n",
      "sm -155.10398305367738\n",
      "-155.10398305367738\n",
      "gr -27.52285075235316\n",
      "gr -59.89784441598101\n",
      "gr -94.64248007688397\n",
      "gr -125.52504533121547\n",
      "gr -155.1046561953968\n",
      "should equal\n",
      "-155.1046561953968\n",
      "sm -27.52285075235316\n",
      "sm -59.89784441598101\n",
      "sm -94.64248007688397\n",
      "sm -125.52504533121547\n",
      "sm -155.1046561953968\n",
      "-155.1046561953968\n",
      "gr -27.52296134496439\n",
      "gr -59.8996504077121\n",
      "gr -94.64263410165083\n",
      "gr -125.52535289873008\n",
      "gr -155.10559389840452\n",
      "should equal\n",
      "-155.10559389840452\n",
      "sm -27.52296134496439\n",
      "sm -59.8996504077121\n",
      "sm -94.64263410165083\n",
      "sm -125.52535289873008\n",
      "sm -155.10559389840452\n",
      "-155.10559389840452\n",
      "gr -27.523249119224186\n",
      "gr -59.901872058455226\n",
      "gr -94.64290228443713\n",
      "gr -125.52576064214188\n",
      "gr -155.10677100496181\n",
      "should equal\n",
      "-155.10677100496181\n",
      "sm -27.523249119224186\n",
      "sm -59.901872058455226\n",
      "sm -94.64290228443713\n",
      "sm -125.52576064214188\n",
      "sm -155.10677100496181\n",
      "-155.10677100496181\n",
      "gr -27.523699532675316\n",
      "gr -59.904497135746695\n",
      "gr -94.64325021735456\n",
      "gr -125.52624262427913\n",
      "gr -155.10816220220744\n",
      "should equal\n",
      "-155.10816220220744\n",
      "sm -27.523699532675316\n",
      "sm -59.904497135746695\n",
      "sm -94.64325021735456\n",
      "sm -125.52624262427913\n",
      "sm -155.10816220220744\n",
      "-155.10816220220744\n",
      "gr -27.52429767179334\n",
      "gr -59.90751435932582\n",
      "gr -94.64364217607336\n",
      "gr -125.52677224621098\n",
      "gr -155.10974219822882\n",
      "should equal\n",
      "-155.10974219822882\n",
      "sm -27.52429767179334\n",
      "sm -59.90751435932582\n",
      "sm -94.64364217607336\n",
      "sm -125.52677224621098\n",
      "sm -155.10974219822882\n",
      "-155.10974219822882\n",
      "gr -27.5250281406933\n",
      "gr -59.910913088682484\n",
      "gr -94.64404166724096\n",
      "gr -125.52732268525396\n",
      "gr -155.1114859978888\n",
      "should equal\n",
      "-155.1114859978888\n",
      "sm -27.5250281406933\n",
      "sm -59.910913088682484\n",
      "sm -94.64404166724096\n",
      "sm -125.52732268525396\n",
      "sm -155.1114859978888\n",
      "-155.1114859978888\n",
      "gr -27.525874951411396\n",
      "gr -59.91468289585794\n",
      "gr -94.64441222619496\n",
      "gr -125.52786751878877\n",
      "gr -155.11336928998898\n",
      "should equal\n",
      "-155.11336928998898\n",
      "sm -27.525874951411396\n",
      "sm -59.91468289585794\n",
      "sm -94.64441222619496\n",
      "sm -125.52786751878877\n",
      "sm -155.11336928998898\n",
      "-155.11336928998898\n",
      "gr -27.52682142256511\n",
      "gr -59.91881300508163\n",
      "gr -94.64471849455968\n",
      "gr -125.5283815504724\n",
      "gr -155.11536894813116\n",
      "should equal\n",
      "-155.11536894813116\n",
      "sm -27.52682142256511\n",
      "sm -59.91881300508163\n",
      "sm -94.64471849455968\n",
      "sm -125.5283815504724\n",
      "sm -155.11536894813116\n",
      "-155.11536894813116\n",
      "gr -27.527850096915248\n",
      "gr -59.92329159084768\n",
      "gr -94.64492758320102\n",
      "gr -125.52884183516336\n",
      "gr -155.11746363244103\n",
      "should equal\n",
      "-155.11746363244103\n",
      "sm -27.527850096915248\n",
      "sm -59.92329159084768\n",
      "sm -94.64492758320102\n",
      "sm -125.52884183516336\n",
      "sm -155.11746363244103\n",
      "-155.11746363244103\n",
      "gr -27.528942692937726\n",
      "gr -59.92810494392424\n",
      "gr -94.64501068718332\n",
      "gr -125.52922886778785\n",
      "gr -155.1196344580277\n",
      "should equal\n",
      "-155.1196344580277\n",
      "sm -27.528942692937726\n",
      "sm -59.92810494392424\n",
      "sm -94.64501068718332\n",
      "sm -125.52922886778785\n",
      "sm -155.1196344580277\n",
      "-155.1196344580277\n",
      "gr -27.530080110582784\n",
      "gr -59.93323654173119\n",
      "gr -94.64494486595774\n",
      "gr -125.5295278603489\n",
      "gr -155.12186567045433\n",
      "should equal\n",
      "-155.12186567045433\n",
      "sm -27.530080110582784\n",
      "sm -59.93323654173119\n",
      "sm -94.64494486595774\n",
      "sm -125.5295278603489\n",
      "sm -155.12186567045433\n",
      "-155.12186567045433\n",
      "gr -27.531242516055993\n",
      "gr -59.93866609476626\n",
      "gr -94.6447148387006\n",
      "gr -125.52972998491435\n",
      "gr -155.12414524304873\n",
      "should equal\n",
      "-155.12414524304873\n",
      "sm -27.531242516055993\n",
      "sm -59.93866609476626\n",
      "sm -94.6447148387006\n",
      "sm -125.52972998491435\n",
      "sm -155.12414524304873\n",
      "-155.12414524304873\n",
      "gr -27.532409533138907\n",
      "gr -59.944368680326974\n",
      "gr -94.64431458246027\n",
      "gr -125.52983341808293\n",
      "gr -155.12646529298968\n",
      "should equal\n",
      "-155.12646529298968\n",
      "sm -27.532409533138907\n",
      "sm -59.944368680326974\n",
      "sm -94.64431458246027\n",
      "sm -125.52983341808293\n",
      "sm -155.12646529298968\n",
      "-155.12646529298968\n",
      "gr -27.533560567065194\n",
      "gr -59.9503141104359\n",
      "gr -94.6437484767909\n",
      "gr -125.52984399777029\n",
      "gr -155.12882221197088\n",
      "should equal\n",
      "-155.12882221197088\n",
      "sm -27.533560567065194\n",
      "sm -59.9503141104359\n",
      "sm -94.6437484767909\n",
      "sm -125.52984399777029\n",
      "sm -155.12882221197088\n",
      "-155.12882221197088\n",
      "gr -27.534675278809395\n",
      "gr -59.95646670039959\n",
      "gr -94.64303173359076\n",
      "gr -125.5297753113517\n",
      "gr -155.13121643110156\n",
      "should equal\n",
      "-155.13121643110156\n",
      "sm -27.534675278809395\n",
      "sm -59.95646670039959\n",
      "sm -94.64303173359076\n",
      "sm -125.5297753113517\n",
      "sm -155.13121643110156\n",
      "-155.13121643110156\n",
      "gr -27.535734210913972\n",
      "gr -59.962785593844785\n",
      "gr -94.64218990263231\n",
      "gr -125.52964808634607\n",
      "gr -155.13365179136312\n",
      "should equal\n",
      "-155.13365179136312\n",
      "sm -27.535734210913972\n",
      "sm -59.962785593844785\n",
      "sm -94.64218990263231\n",
      "sm -125.52964808634607\n",
      "sm -155.13365179136312\n",
      "-155.13365179136312\n",
      "gr -27.53671954062495\n",
      "gr -59.96922574856474\n",
      "gr -94.6412573577296\n",
      "gr -125.52948885139082\n",
      "gr -155.1361345638749\n",
      "should equal\n",
      "-155.1361345638749\n",
      "sm -27.53671954062495\n",
      "sm -59.96922574856474\n",
      "sm -94.6412573577296\n",
      "sm -125.52948885139082\n",
      "sm -155.1361345638749\n",
      "-155.1361345638749\n",
      "gr -27.53761590515144\n",
      "gr -59.97573959361664\n",
      "gr -94.64027483201917\n",
      "gr -125.52932796105733\n",
      "gr -155.13867224109788\n",
      "should equal\n",
      "-155.13867224109788\n",
      "sm -27.53761590515144\n",
      "sm -59.97573959361664\n",
      "sm -94.64027483201917\n",
      "sm -125.52932796105733\n",
      "sm -155.13867224109788\n",
      "-155.13867224109788\n",
      "gr -27.53841121394067\n",
      "gr -59.98227924493261\n",
      "gr -94.63928624886371\n",
      "gr -125.52919720335717\n",
      "gr -155.141272277066\n",
      "should equal\n",
      "-155.141272277066\n",
      "sm -27.53841121394067\n",
      "sm -59.98227924493261\n",
      "sm -94.63928624886371\n",
      "sm -125.52919720335717\n",
      "sm -155.141272277066\n",
      "-155.141272277066\n",
      "gr -27.53909734309066\n",
      "gr -59.988799042096474\n",
      "gr -94.63833523992655\n",
      "gr -125.52912729765504\n",
      "gr -155.14394097035768\n",
      "should equal\n",
      "-155.14394097035768\n",
      "sm -27.53909734309066\n",
      "sm -59.988799042096474\n",
      "sm -94.63833523992655\n",
      "sm -125.52912729765504\n",
      "sm -155.14394097035768\n",
      "-155.14394097035768\n",
      "gr -27.539670606149986\n",
      "gr -59.99525807866597\n",
      "gr -94.63746181010715\n",
      "gr -125.52914561472085\n",
      "gr -155.1466826492464\n",
      "should equal\n",
      "-155.1466826492464\n",
      "sm -27.539670606149986\n",
      "sm -59.99525807866597\n",
      "sm -94.63746181010715\n",
      "sm -125.52914561472085\n",
      "sm -155.1466826492464\n",
      "-155.1466826492464\n",
      "gr -27.54013191813238\n",
      "gr -60.001622373395584\n",
      "gr -94.63669957786627\n",
      "gr -125.52927440137226\n",
      "gr -155.1494992442226\n",
      "should equal\n",
      "-155.1494992442226\n",
      "sm -27.54013191813238\n",
      "sm -60.001622373395584\n",
      "sm -94.63669957786627\n",
      "sm -125.52927440137226\n",
      "sm -155.1494992442226\n",
      "-155.1494992442226\n",
      "gr -27.54048661306682\n",
      "gr -60.007866382710645\n",
      "gr -94.63607389805141\n",
      "gr -125.529529685185\n",
      "gr -155.15239024383303\n",
      "should equal\n",
      "-155.15239024383303\n",
      "sm -27.54048661306682\n",
      "sm -60.007866382710645\n",
      "sm -94.63607389805141\n",
      "sm -125.529529685185\n",
      "sm -155.15239024383303\n",
      "-155.15239024383303\n",
      "gr -27.540743930030875\n",
      "gr -60.01397367371162\n",
      "gr -94.6356009995637\n",
      "gr -125.5299209030546\n",
      "gr -155.15535295447816\n",
      "should equal\n",
      "-155.15535295447816\n",
      "sm -27.540743930030875\n",
      "sm -60.01397367371162\n",
      "sm -94.6356009995637\n",
      "sm -125.5299209030546\n",
      "sm -155.15535295447816\n",
      "-155.15535295447816\n",
      "gr -27.54091623451561\n",
      "gr -60.019936728855114\n",
      "gr -94.63528809151265\n",
      "gr -125.53045117742525\n",
      "gr -155.15838294378042\n",
      "should equal\n",
      "-155.15838294378042\n",
      "sm -27.54091623451561\n",
      "sm -60.019936728855114\n",
      "sm -94.63528809151265\n",
      "sm -125.53045117742525\n",
      "sm -155.15838294378042\n",
      "-155.15838294378042\n",
      "gr -27.541018078239663\n",
      "gr -60.025755997194906\n",
      "gr -94.6351342519956\n",
      "gr -125.5311180821291\n",
      "gr -155.16147454495845\n",
      "should equal\n",
      "-155.16147454495845\n",
      "sm -27.541018078239663\n",
      "sm -60.025755997194906\n",
      "sm -94.6351342519956\n",
      "sm -125.5311180821291\n",
      "sm -155.16147454495845\n",
      "-155.16147454495845\n",
      "gr -27.541065213789494\n",
      "gr -60.031438408796845\n",
      "gr -94.63513183709964\n",
      "gr -125.53191470570364\n",
      "gr -155.16462132674175\n",
      "should equal\n",
      "-155.16462132674175\n",
      "sm -27.541065213789494\n",
      "sm -60.031438408796845\n",
      "sm -94.63513183709964\n",
      "sm -125.53191470570364\n",
      "sm -155.16462132674175\n",
      "-155.16462132674175\n",
      "gr -27.541073670697877\n",
      "gr -60.036995612152786\n",
      "gr -94.63526813558659\n",
      "gr -125.53283082806924\n",
      "gr -155.16781647324314\n",
      "should equal\n",
      "-155.16781647324314\n",
      "sm -27.541073670697877\n",
      "sm -60.036995612152786\n",
      "sm -94.63526813558659\n",
      "sm -125.53283082806924\n",
      "sm -155.16781647324314\n",
      "-155.16781647324314\n",
      "gr -27.54105897294481\n",
      "gr -60.04244218176676\n",
      "gr -94.6355270319705\n",
      "gr -125.53385406215395\n",
      "gr -155.17105305582726\n",
      "should equal\n",
      "-155.17105305582726\n",
      "sm -27.54105897294481\n",
      "sm -60.04244218176676\n",
      "sm -94.6355270319705\n",
      "sm -125.53385406215395\n",
      "sm -155.17105305582726\n",
      "-155.17105305582726\n",
      "gr -27.54103554349511\n",
      "gr -60.04779399081636\n",
      "gr -94.63589050526795\n",
      "gr -125.5349708595115\n",
      "gr -155.17432420552723\n",
      "should equal\n",
      "-155.17432420552723\n",
      "sm -27.54103554349511\n",
      "sm -60.04779399081636\n",
      "sm -94.63589050526795\n",
      "sm -125.5349708595115\n",
      "sm -155.17432420552723\n",
      "-155.17432420552723\n",
      "gr -27.54101630805575\n",
      "gr -60.05306687318745\n",
      "gr -94.63633986185789\n",
      "gr -125.53616732561086\n",
      "gr -155.17762320795194\n",
      "should equal\n",
      "-155.17762320795194\n",
      "sm -27.54101630805575\n",
      "sm -60.05306687318745\n",
      "sm -94.63633986185789\n",
      "sm -125.53616732561086\n",
      "sm -155.17762320795194\n",
      "-155.17762320795194\n",
      "gr -27.54101248375876\n",
      "gr -60.05827562918371\n",
      "gr -94.6368566639395\n",
      "gr -125.53742982884742\n",
      "gr -155.18094354550328\n",
      "should equal\n",
      "-155.18094354550328\n",
      "sm -27.54101248375876\n",
      "sm -60.05827562918371\n",
      "sm -94.6368566639395\n",
      "sm -125.53742982884742\n",
      "sm -155.18094354550328\n",
      "-155.18094354550328\n",
      "gr -27.54103352157698\n",
      "gr -60.063433372301176\n",
      "gr -94.63742336240301\n",
      "gr -125.5387454145327\n",
      "gr -155.18427890830947\n",
      "should equal\n",
      "-155.18427890830947\n",
      "sm -27.54103352157698\n",
      "sm -60.063433372301176\n",
      "sm -94.63742336240301\n",
      "sm -125.5387454145327\n",
      "sm -155.18427890830947\n",
      "-155.18427890830947\n",
      "gr -27.541087163774186\n",
      "gr -60.06855117605262\n",
      "gr -94.63802367280181\n",
      "gr -125.54010205144542\n",
      "gr -155.1876231894614\n",
      "should equal\n",
      "-155.1876231894614\n",
      "sm -27.541087163774186\n",
      "sm -60.06855117605262\n",
      "sm -94.63802367280181\n",
      "sm -125.54010205144542\n",
      "sm -155.1876231894614\n",
      "-155.1876231894614\n",
      "gr -27.541179577644527\n",
      "gr -60.07363795975181\n",
      "gr -94.63864274754212\n",
      "gr -125.54148874588017\n",
      "gr -155.1909704744354\n",
      "should equal\n",
      "-155.1909704744354\n",
      "sm -27.541179577644527\n",
      "sm -60.07363795975181\n",
      "sm -94.63864274754212\n",
      "sm -125.54148874588017\n",
      "sm -155.1909704744354\n",
      "-155.1909704744354\n",
      "gr -27.541315531613733\n",
      "gr -60.0787005469235\n",
      "gr -94.63926720010906\n",
      "gr -125.54289555891691\n",
      "gr -155.19431503011944\n",
      "should equal\n",
      "-155.19431503011944\n",
      "sm -27.541315531613733\n",
      "sm -60.0787005469235\n",
      "sm -94.63926720010906\n",
      "sm -125.54289555891691\n",
      "sm -155.19431503011944\n",
      "-155.19431503011944\n",
      "gr -27.541498587025508\n",
      "gr -60.08374383491356\n",
      "gr -94.63988503223457\n",
      "gr -125.54431355926641\n",
      "gr -155.19765129592014\n",
      "should equal\n",
      "-155.19765129592014\n",
      "sm -27.541498587025508\n",
      "sm -60.08374383491356\n",
      "sm -94.63988503223457\n",
      "sm -125.54431355926641\n",
      "sm -155.19765129592014\n",
      "-155.19765129592014\n",
      "gr -27.541731286706042\n",
      "gr -60.08877102478894\n",
      "gr -94.64048550592993\n",
      "gr -125.54573473845196\n",
      "gr -155.20097387771744\n",
      "should equal\n",
      "-155.20097387771744\n",
      "sm -27.541731286706042\n",
      "sm -60.08877102478894\n",
      "sm -94.64048550592993\n",
      "sm -125.54573473845196\n",
      "sm -155.20097387771744\n",
      "-155.20097387771744\n",
      "gr -27.54201532846142\n",
      "gr -60.09378387316151\n",
      "gr -94.64105899197403\n",
      "gr -125.54715190875167\n",
      "gr -155.20427754457805\n",
      "should equal\n",
      "-155.20427754457805\n",
      "sm -27.54201532846142\n",
      "sm -60.09378387316151\n",
      "sm -94.64105899197403\n",
      "sm -125.54715190875167\n",
      "sm -155.20427754457805\n",
      "-155.20427754457805\n",
      "gr -27.542351717379784\n",
      "gr -60.098782939705885\n",
      "gr -94.64159681660148\n",
      "gr -125.54855859827171\n",
      "gr -155.20755722781675\n",
      "should equal\n",
      "-155.20755722781675\n",
      "sm -27.542351717379784\n",
      "sm -60.098782939705885\n",
      "sm -94.64159681660148\n",
      "sm -125.54855859827171\n",
      "sm -155.20755722781675\n",
      "-155.20755722781675\n",
      "gr -27.542740894984664\n",
      "gr -60.103767814464234\n",
      "gr -94.64209111975674\n",
      "gr -125.54994895228211\n",
      "gr -155.21080802189937\n",
      "should equal\n",
      "-155.21080802189937\n",
      "sm -27.542740894984664\n",
      "sm -60.103767814464234\n",
      "sm -94.64209111975674\n",
      "sm -125.54994895228211\n",
      "sm -155.21080802189937\n",
      "-155.21080802189937\n",
      "gr -27.54318284603288\n",
      "gr -60.108737317007154\n",
      "gr -94.64253473183032\n",
      "gr -125.55131764584596\n",
      "gr -155.21402518673926\n",
      "should equal\n",
      "-155.21402518673926\n",
      "sm -27.54318284603288\n",
      "sm -60.108737317007154\n",
      "sm -94.64253473183032\n",
      "sm -125.55131764584596\n",
      "sm -155.21402518673926\n",
      "-155.21402518673926\n",
      "gr -27.543677185307022\n",
      "gr -60.11368966510959\n",
      "gr -94.64292107121514\n",
      "gr -125.55265980976182\n",
      "gr -155.21720415098812\n",
      "should equal\n",
      "-155.21720415098812\n",
      "sm -27.543677185307022\n",
      "sm -60.11368966510959\n",
      "sm -94.64292107121514\n",
      "sm -125.55265980976182\n",
      "sm -155.21720415098812\n",
      "-155.21720415098812\n",
      "gr -27.5442232274375\n",
      "gr -60.118622614152166\n",
      "gr -94.6432440621243\n",
      "gr -125.55397096987491\n",
      "gr -155.22034051601747\n",
      "should equal\n",
      "-155.22034051601747\n",
      "sm -27.5442232274375\n",
      "sm -60.118622614152166\n",
      "sm -94.6432440621243\n",
      "sm -125.55397096987491\n",
      "sm -155.22034051601747\n",
      "-155.22034051601747\n",
      "gr -27.544820042878985\n",
      "gr -60.123533570389554\n",
      "gr -94.64349807048563\n",
      "gr -125.55524699862721\n",
      "gr -155.22343006033034\n",
      "should equal\n",
      "-155.22343006033034\n",
      "sm -27.544820042878985\n",
      "sm -60.123533570389554\n",
      "sm -94.64349807048563\n",
      "sm -125.55524699862721\n",
      "sm -155.22343006033034\n",
      "-155.22343006033034\n",
      "gr -27.545466502913783\n",
      "gr -60.12841968202863\n",
      "gr -94.64367785504726\n",
      "gr -125.55648407715988\n",
      "gr -155.22646874420536\n",
      "should equal\n",
      "-155.22646874420536\n",
      "sm -27.545466502913783\n",
      "sm -60.12841968202863\n",
      "sm -94.64367785504726\n",
      "sm -125.55648407715988\n",
      "sm -155.22646874420536\n",
      "-155.22646874420536\n",
      "gr -27.546161316130203\n",
      "gr -60.13327791211982\n",
      "gr -94.64377853073506\n",
      "gr -125.55767866611558\n",
      "gr -155.2294527144098\n",
      "should equal\n",
      "-155.2294527144098\n",
      "sm -27.546161316130203\n",
      "sm -60.13327791211982\n",
      "sm -94.64377853073506\n",
      "sm -125.55767866611558\n",
      "sm -155.2294527144098\n",
      "-155.2294527144098\n",
      "gr -27.546903058356808\n",
      "gr -60.13810509691304\n",
      "gr -94.64379554155353\n",
      "gr -125.55882748337288\n",
      "gr -155.23237830884858\n",
      "should equal\n",
      "-155.23237830884858\n",
      "sm -27.546903058356808\n",
      "sm -60.13810509691304\n",
      "sm -94.64379554155353\n",
      "sm -125.55882748337288\n",
      "sm -155.23237830884858\n",
      "-155.23237830884858\n",
      "print!!!\n",
      "[-160.73124307 -157.18293566 -156.99694947 -156.81953977 -156.64925592\n",
      " -156.48988376 -156.34367228 -156.21148524 -156.0931658  -155.98792514\n",
      " -155.89465193 -155.81211882 -155.73910398 -155.67445521 -155.61711969\n",
      " -155.56615452 -155.52072699 -155.4801095  -155.44367159 -155.41087087\n",
      " -155.38124334 -155.35439393 -155.32998743 -155.30774014 -155.28741227\n",
      " -155.26880118 -155.25173548 -155.23606993 -155.22168105 -155.20846342\n",
      " -155.19632653 -155.18519223 -155.17499251 -155.1656677  -155.15716502\n",
      " -155.14943735 -155.14244217 -155.13614081 -155.13049772 -155.12547992\n",
      " -155.12105653 -155.1171984  -155.11387775 -155.11106795 -155.1087432\n",
      " -155.1068784  -155.10544891 -155.10443042 -155.10379876 -155.10352982\n",
      " -155.10359938 -155.10398305 -155.1046562  -155.1055939  -155.106771\n",
      " -155.1081622  -155.1097422  -155.111486   -155.11336929 -155.11536895\n",
      " -155.11746363 -155.11963446 -155.12186567 -155.12414524 -155.12646529\n",
      " -155.12882221 -155.13121643 -155.13365179 -155.13613456 -155.13867224\n",
      " -155.14127228 -155.14394097 -155.14668265 -155.14949924 -155.15239024\n",
      " -155.15535295 -155.15838294 -155.16147454 -155.16462133 -155.16781647\n",
      " -155.17105306 -155.17432421 -155.17762321 -155.18094355 -155.18427891\n",
      " -155.18762319 -155.19097047 -155.19431503 -155.1976513  -155.20097388\n",
      " -155.20427754 -155.20755723 -155.21080802 -155.21402519 -155.21720415\n",
      " -155.22034052 -155.22343006 -155.22646874 -155.22945271 -155.23237831\n",
      "    0.        ]\n",
      "sm -27.547690197593933\n",
      "sm -60.142897992792896\n",
      "sm -94.64372464073003\n",
      "sm -125.55992748716191\n",
      "sm -155.2352420610471\n"
     ]
    },
    {
     "data": {
      "text/plain": [
       "array([  1.56786283e-70,   5.44901991e-69,   6.56283024e-69,\n",
       "         7.83680828e-69,   9.29164391e-69,   1.08970014e-68,\n",
       "         1.26126356e-68,   1.43950756e-68,   1.62031492e-68,\n",
       "         1.80013413e-68,   1.97611816e-68,   2.14613276e-68,\n",
       "         2.30869481e-68,   2.46287930e-68,   2.60821645e-68,\n",
       "         2.74459029e-68,   2.87214555e-68,   2.99120653e-68,\n",
       "         3.10220991e-68,   3.20565184e-68,   3.30204833e-68,\n",
       "         3.39190732e-68,   3.47571041e-68,   3.55390209e-68,\n",
       "         3.62688464e-68,   3.69501697e-68,   3.75861616e-68,\n",
       "         3.81796055e-68,   3.87329386e-68,   3.92482949e-68,\n",
       "         3.97275494e-68,   4.01723595e-68,   4.05842034e-68,\n",
       "         4.09644132e-68,   4.13142052e-68,   4.16347048e-68,\n",
       "         4.19269679e-68,   4.21919989e-68,   4.24307653e-68,\n",
       "         4.26442095e-68,   4.28332593e-68,   4.29988349e-68,\n",
       "         4.31418560e-68,   4.32632467e-68,   4.33639398e-68,\n",
       "         4.34448804e-68,   4.35070287e-68,   4.35513629e-68,\n",
       "         4.35788810e-68,   4.35906027e-68,   4.35875707e-68,\n",
       "         4.35708506e-68,   4.35415311e-68,   4.35007212e-68,\n",
       "         4.34495464e-68,   4.33891415e-68,   4.33206410e-68,\n",
       "         4.32451643e-68,   4.31637977e-68,   4.30775711e-68,\n",
       "         4.29874316e-68,   4.28942146e-68,   4.27986152e-68,\n",
       "         4.27011637e-68,   4.26022097e-68,   4.25019180e-68,\n",
       "         4.24002808e-68,   4.22971465e-68,   4.21922626e-68,\n",
       "         4.20853280e-68,   4.19760467e-68,   4.18641749e-68,\n",
       "         4.17495539e-68,   4.16321278e-68,   4.15119432e-68,\n",
       "         4.13891373e-68,   4.12639184e-68,   4.11365439e-68,\n",
       "         4.10072996e-68,   4.08764844e-68,   4.07443981e-68,\n",
       "         4.06113348e-68,   4.04775787e-68,   4.03434024e-68,\n",
       "         4.02090666e-68,   4.00748208e-68,   3.99409032e-68,\n",
       "         3.98075418e-68,   3.96749545e-68,   3.95433500e-68,\n",
       "         3.94129275e-68,   3.92838773e-68,   3.91563809e-68,\n",
       "         3.90306108e-68,   3.89067309e-68,   3.87848963e-68,\n",
       "         3.86652536e-68,   3.85479404e-68,   3.84330860e-68,\n",
       "         3.83208107e-68,   3.82112263e-68])"
      ]
     },
     "execution_count": 35,
     "metadata": {},
     "output_type": "execute_result"
    }
   ],
   "source": [
    "out = chmm_r.baum_welch( t,e, 100, out=\"est\" )\n",
    "\n",
    "np.exp(out)"
   ]
  },
  {
   "cell_type": "markdown",
   "metadata": {
    "deletable": true,
    "editable": true
   },
   "source": [
    "We will plot its probabilities estimations in ratio with generator model. (Notice, it is the ratio of logarithms of probabilities)"
   ]
  },
  {
   "cell_type": "code",
   "execution_count": 36,
   "metadata": {
    "collapsed": false,
    "deletable": true,
    "editable": true
   },
   "outputs": [
    {
     "name": "stdout",
     "output_type": "stream",
     "text": [
      "sm -25.062755290249306\n",
      "sm -56.67270364444578\n",
      "sm -90.42250210848829\n",
      "sm -123.90123892833674\n",
      "sm -153.7571509803126\n"
     ]
    },
    {
     "data": {
      "image/png": "[encoded data removed]",
      "text/plain": [
       "<matplotlib.figure.Figure at 0x7f17b4ab0278>"
      ]
     },
     "metadata": {},
     "output_type": "display_data"
    }
   ],
   "source": [
    "real = chmm.data_estimate( t, e )\n",
    "#For better visibility of the graph, we cut first two values.\n",
    "plt.plot( out[2:] / real  )\n",
    "\n",
    "plt.show()"
   ]
  },
  {
   "cell_type": "markdown",
   "metadata": {
    "deletable": true,
    "editable": true
   },
   "source": [
    "<a id='conv'></a>\n",
    "Part 3: Comparison of Models Convergences\n",
    "-----------------------------------------------------"
   ]
  },
  {
   "cell_type": "markdown",
   "metadata": {
    "deletable": true,
    "editable": true
   },
   "source": [
    "In this chapter we will compare the convergence rate of discrete and continuous models. It will show some functions usefull for convergence among model parameters.  "
   ]
  },
  {
   "cell_type": "code",
   "execution_count": 37,
   "metadata": {
    "collapsed": true,
    "deletable": true,
    "editable": true
   },
   "outputs": [],
   "source": [
    "import numpy as np\n",
    "import matplotlib.pyplot as plt\n",
    "import hmms\n",
    "\n",
    "%matplotlib inline"
   ]
  },
  {
   "cell_type": "markdown",
   "metadata": {
    "deletable": true,
    "editable": true
   },
   "source": [
    "We will start by defining the continuous time model. For that, who have read the previous section, it will be the familiar."
   ]
  },
  {
   "cell_type": "code",
   "execution_count": 38,
   "metadata": {
    "collapsed": false,
    "deletable": true,
    "editable": true
   },
   "outputs": [
    {
     "name": "stdout",
     "output_type": "stream",
     "text": [
      "Initial probabilities (π) :\n"
     ]
    },
    {
     "data": {
      "text/html": [
       "<div>\n",
       "<table border=\"1\" class=\"dataframe\">\n",
       "  <thead>\n",
       "    <tr style=\"text-align: right;\">\n",
       "      <th></th>\n",
       "      <th>0</th>\n",
       "    </tr>\n",
       "  </thead>\n",
       "  <tbody>\n",
       "    <tr>\n",
       "      <th>0</th>\n",
       "      <td>0.6</td>\n",
       "    </tr>\n",
       "    <tr>\n",
       "      <th>1</th>\n",
       "      <td>0.0</td>\n",
       "    </tr>\n",
       "    <tr>\n",
       "      <th>2</th>\n",
       "      <td>0.4</td>\n",
       "    </tr>\n",
       "  </tbody>\n",
       "</table>\n",
       "</div>"
      ],
      "text/plain": [
       "     0\n",
       "0  0.6\n",
       "1  0.0\n",
       "2  0.4"
      ]
     },
     "metadata": {},
     "output_type": "display_data"
    },
    {
     "name": "stdout",
     "output_type": "stream",
     "text": [
      "Transition rate matrix (Q):\n"
     ]
    },
    {
     "data": {
      "text/html": [
       "<div>\n",
       "<table border=\"1\" class=\"dataframe\">\n",
       "  <thead>\n",
       "    <tr style=\"text-align: right;\">\n",
       "      <th></th>\n",
       "      <th>0</th>\n",
       "      <th>1</th>\n",
       "      <th>2</th>\n",
       "    </tr>\n",
       "  </thead>\n",
       "  <tbody>\n",
       "    <tr>\n",
       "      <th>0</th>\n",
       "      <td>-0.375</td>\n",
       "      <td>0.125</td>\n",
       "      <td>0.250</td>\n",
       "    </tr>\n",
       "    <tr>\n",
       "      <th>1</th>\n",
       "      <td>0.250</td>\n",
       "      <td>-0.500</td>\n",
       "      <td>0.250</td>\n",
       "    </tr>\n",
       "    <tr>\n",
       "      <th>2</th>\n",
       "      <td>0.250</td>\n",
       "      <td>0.125</td>\n",
       "      <td>-0.375</td>\n",
       "    </tr>\n",
       "  </tbody>\n",
       "</table>\n",
       "</div>"
      ],
      "text/plain": [
       "       0      1      2\n",
       "0 -0.375  0.125  0.250\n",
       "1  0.250 -0.500  0.250\n",
       "2  0.250  0.125 -0.375"
      ]
     },
     "metadata": {},
     "output_type": "display_data"
    },
    {
     "name": "stdout",
     "output_type": "stream",
     "text": [
      "Transition probabilities for one time unit :\n"
     ]
    },
    {
     "data": {
      "text/html": [
       "<div>\n",
       "<table border=\"1\" class=\"dataframe\">\n",
       "  <thead>\n",
       "    <tr style=\"text-align: right;\">\n",
       "      <th></th>\n",
       "      <th>0</th>\n",
       "      <th>1</th>\n",
       "      <th>2</th>\n",
       "    </tr>\n",
       "  </thead>\n",
       "  <tbody>\n",
       "    <tr>\n",
       "      <th>0</th>\n",
       "      <td>0.721157</td>\n",
       "      <td>0.092948</td>\n",
       "      <td>0.185895</td>\n",
       "    </tr>\n",
       "    <tr>\n",
       "      <th>1</th>\n",
       "      <td>0.185895</td>\n",
       "      <td>0.628209</td>\n",
       "      <td>0.185895</td>\n",
       "    </tr>\n",
       "    <tr>\n",
       "      <th>2</th>\n",
       "      <td>0.185895</td>\n",
       "      <td>0.092948</td>\n",
       "      <td>0.721157</td>\n",
       "    </tr>\n",
       "  </tbody>\n",
       "</table>\n",
       "</div>"
      ],
      "text/plain": [
       "          0         1         2\n",
       "0  0.721157  0.092948  0.185895\n",
       "1  0.185895  0.628209  0.185895\n",
       "2  0.185895  0.092948  0.721157"
      ]
     },
     "metadata": {},
     "output_type": "display_data"
    },
    {
     "name": "stdout",
     "output_type": "stream",
     "text": [
      "Emission probabilities matrix (B):\n"
     ]
    },
    {
     "data": {
      "text/html": [
       "<div>\n",
       "<table border=\"1\" class=\"dataframe\">\n",
       "  <thead>\n",
       "    <tr style=\"text-align: right;\">\n",
       "      <th></th>\n",
       "      <th>0</th>\n",
       "      <th>1</th>\n",
       "      <th>2</th>\n",
       "    </tr>\n",
       "  </thead>\n",
       "  <tbody>\n",
       "    <tr>\n",
       "      <th>0</th>\n",
       "      <td>0.80</td>\n",
       "      <td>0.05</td>\n",
       "      <td>0.15</td>\n",
       "    </tr>\n",
       "    <tr>\n",
       "      <th>1</th>\n",
       "      <td>0.05</td>\n",
       "      <td>0.90</td>\n",
       "      <td>0.05</td>\n",
       "    </tr>\n",
       "    <tr>\n",
       "      <th>2</th>\n",
       "      <td>0.20</td>\n",
       "      <td>0.05</td>\n",
       "      <td>0.75</td>\n",
       "    </tr>\n",
       "  </tbody>\n",
       "</table>\n",
       "</div>"
      ],
      "text/plain": [
       "      0     1     2\n",
       "0  0.80  0.05  0.15\n",
       "1  0.05  0.90  0.05\n",
       "2  0.20  0.05  0.75"
      ]
     },
     "metadata": {},
     "output_type": "display_data"
    }
   ],
   "source": [
    "Q = np.array( [[-0.375,0.125,0.25],[0.25,-0.5,0.25],[0.25,0.125,-0.375]] )\n",
    "B = np.array( [[0.8,0.05,0.15],[0.05,0.9,0.05],[0.2,0.05,0.75]] )\n",
    "Pi = np.array( [0.6,0,0.4] )\n",
    "\n",
    "chmm = hmms.CtHMM( Q,B,Pi )\n",
    "hmms.print_parameters( chmm )"
   ]
  },
  {
   "cell_type": "markdown",
   "metadata": {
    "deletable": true,
    "editable": true
   },
   "source": [
    "We can simply create discrete model with equivalent parameters, using function *get_dthmm_params*.  \n",
    "By default, it will create the model with transition probabilities equal to one time unit probability transition in continuous model. You can pass the optional parameter for different time steps.\n"
   ]
  },
  {
   "cell_type": "code",
   "execution_count": 39,
   "metadata": {
    "collapsed": false,
    "deletable": true,
    "editable": true
   },
   "outputs": [
    {
     "name": "stdout",
     "output_type": "stream",
     "text": [
      "Initial probabilities (π) :\n"
     ]
    },
    {
     "data": {
      "text/html": [
       "<div>\n",
       "<table border=\"1\" class=\"dataframe\">\n",
       "  <thead>\n",
       "    <tr style=\"text-align: right;\">\n",
       "      <th></th>\n",
       "      <th>0</th>\n",
       "    </tr>\n",
       "  </thead>\n",
       "  <tbody>\n",
       "    <tr>\n",
       "      <th>0</th>\n",
       "      <td>0.6</td>\n",
       "    </tr>\n",
       "    <tr>\n",
       "      <th>1</th>\n",
       "      <td>0.0</td>\n",
       "    </tr>\n",
       "    <tr>\n",
       "      <th>2</th>\n",
       "      <td>0.4</td>\n",
       "    </tr>\n",
       "  </tbody>\n",
       "</table>\n",
       "</div>"
      ],
      "text/plain": [
       "     0\n",
       "0  0.6\n",
       "1  0.0\n",
       "2  0.4"
      ]
     },
     "metadata": {},
     "output_type": "display_data"
    },
    {
     "name": "stdout",
     "output_type": "stream",
     "text": [
      "Transition probabilities matrix (A):\n"
     ]
    },
    {
     "data": {
      "text/html": [
       "<div>\n",
       "<table border=\"1\" class=\"dataframe\">\n",
       "  <thead>\n",
       "    <tr style=\"text-align: right;\">\n",
       "      <th></th>\n",
       "      <th>0</th>\n",
       "      <th>1</th>\n",
       "      <th>2</th>\n",
       "    </tr>\n",
       "  </thead>\n",
       "  <tbody>\n",
       "    <tr>\n",
       "      <th>0</th>\n",
       "      <td>0.721157</td>\n",
       "      <td>0.092948</td>\n",
       "      <td>0.185895</td>\n",
       "    </tr>\n",
       "    <tr>\n",
       "      <th>1</th>\n",
       "      <td>0.185895</td>\n",
       "      <td>0.628209</td>\n",
       "      <td>0.185895</td>\n",
       "    </tr>\n",
       "    <tr>\n",
       "      <th>2</th>\n",
       "      <td>0.185895</td>\n",
       "      <td>0.092948</td>\n",
       "      <td>0.721157</td>\n",
       "    </tr>\n",
       "  </tbody>\n",
       "</table>\n",
       "</div>"
      ],
      "text/plain": [
       "          0         1         2\n",
       "0  0.721157  0.092948  0.185895\n",
       "1  0.185895  0.628209  0.185895\n",
       "2  0.185895  0.092948  0.721157"
      ]
     },
     "metadata": {},
     "output_type": "display_data"
    },
    {
     "name": "stdout",
     "output_type": "stream",
     "text": [
      "Emission probabilities matrix (B):\n"
     ]
    },
    {
     "data": {
      "text/html": [
       "<div>\n",
       "<table border=\"1\" class=\"dataframe\">\n",
       "  <thead>\n",
       "    <tr style=\"text-align: right;\">\n",
       "      <th></th>\n",
       "      <th>0</th>\n",
       "      <th>1</th>\n",
       "      <th>2</th>\n",
       "    </tr>\n",
       "  </thead>\n",
       "  <tbody>\n",
       "    <tr>\n",
       "      <th>0</th>\n",
       "      <td>0.80</td>\n",
       "      <td>0.05</td>\n",
       "      <td>0.15</td>\n",
       "    </tr>\n",
       "    <tr>\n",
       "      <th>1</th>\n",
       "      <td>0.05</td>\n",
       "      <td>0.90</td>\n",
       "      <td>0.05</td>\n",
       "    </tr>\n",
       "    <tr>\n",
       "      <th>2</th>\n",
       "      <td>0.20</td>\n",
       "      <td>0.05</td>\n",
       "      <td>0.75</td>\n",
       "    </tr>\n",
       "  </tbody>\n",
       "</table>\n",
       "</div>"
      ],
      "text/plain": [
       "      0     1     2\n",
       "0  0.80  0.05  0.15\n",
       "1  0.05  0.90  0.05\n",
       "2  0.20  0.05  0.75"
      ]
     },
     "metadata": {},
     "output_type": "display_data"
    }
   ],
   "source": [
    "dhmm = hmms.DtHMM( *chmm.get_dthmm_params() )\n",
    "hmms.print_parameters( dhmm )"
   ]
  },
  {
   "cell_type": "markdown",
   "metadata": {
    "deletable": true,
    "editable": true
   },
   "source": [
    "We can let the disrete model to generate the data sufficient for both models by passing the *times* parameter as *True*."
   ]
  },
  {
   "cell_type": "code",
   "execution_count": 40,
   "metadata": {
    "collapsed": false,
    "deletable": true,
    "editable": true
   },
   "outputs": [],
   "source": [
    "t,_,e = dhmm.generate_data( (50,50), times=True )   \n",
    "# The free space in the return triple is for the state sequences, we do not need them for the training "
   ]
  },
  {
   "cell_type": "markdown",
   "metadata": {
    "deletable": true,
    "editable": true
   },
   "source": [
    "We can compare the estimation of the data, using both of the model. (They should be the same.)"
   ]
  },
  {
   "cell_type": "code",
   "execution_count": 41,
   "metadata": {
    "collapsed": false,
    "deletable": true,
    "editable": true
   },
   "outputs": [
    {
     "name": "stdout",
     "output_type": "stream",
     "text": [
      "sm -51.4874852960109\n",
      "sm -106.35813561783068\n",
      "sm -154.33438226852363\n",
      "sm -199.8291676121101\n",
      "sm -246.97069837929735\n",
      "sm -295.9821734584607\n",
      "sm -341.4371808619665\n",
      "sm -388.0809152424955\n",
      "sm -431.6583626276362\n",
      "sm -480.2654745307699\n",
      "sm -531.514225385261\n",
      "sm -586.4581190780078\n",
      "sm -638.0329943810058\n",
      "sm -690.6789747453802\n",
      "sm -741.705681766006\n",
      "sm -793.3560409491027\n",
      "sm -853.6630583610139\n",
      "sm -898.3125609255297\n",
      "sm -942.8240441945077\n",
      "sm -994.4592107358475\n",
      "sm -1039.6469269703102\n",
      "sm -1091.5334521603108\n",
      "sm -1142.834703922665\n",
      "sm -1194.4780800368674\n",
      "sm -1243.4855312589327\n",
      "sm -1290.414741446167\n",
      "sm -1338.5600066685556\n",
      "sm -1387.7515420750394\n",
      "sm -1442.432422083379\n",
      "sm -1488.5642471120364\n",
      "sm -1542.7242654043607\n",
      "sm -1586.7926665047553\n",
      "sm -1634.1954138517067\n",
      "sm -1686.3625779048384\n",
      "sm -1735.4529141277108\n",
      "sm -1785.5176377920363\n",
      "sm -1837.6983161779665\n",
      "sm -1891.6009828016681\n",
      "sm -1944.2040221334655\n",
      "sm -1992.3527377440666\n",
      "sm -2039.4013551846756\n",
      "sm -2092.3783399961035\n",
      "sm -2138.4947068809333\n",
      "sm -2190.3957580822257\n",
      "sm -2239.8934882440794\n",
      "sm -2293.16542146275\n",
      "sm -2344.736721261415\n",
      "sm -2396.890453038559\n",
      "sm -2448.0590363409697\n",
      "sm -2500.3873015210697\n",
      "Data estimation by continuous model: -2500.3873015210697\n",
      "Data estimation by discrete model:   -2500.3876953125\n"
     ]
    }
   ],
   "source": [
    "creal = chmm.data_estimate(t,e)\n",
    "dreal = dhmm.data_estimate(e)\n",
    "print(\"Data estimation by continuous model:\", creal)\n",
    "print(\"Data estimation by discrete model:  \", dreal)"
   ]
  },
  {
   "cell_type": "markdown",
   "metadata": {
    "deletable": true,
    "editable": true
   },
   "source": [
    "Now we will create two equivalent random models. "
   ]
  },
  {
   "cell_type": "code",
   "execution_count": 42,
   "metadata": {
    "collapsed": false,
    "deletable": true,
    "editable": true
   },
   "outputs": [
    {
     "name": "stdout",
     "output_type": "stream",
     "text": [
      "Initial probabilities (π) :\n"
     ]
    },
    {
     "data": {
      "text/html": [
       "<div>\n",
       "<table border=\"1\" class=\"dataframe\">\n",
       "  <thead>\n",
       "    <tr style=\"text-align: right;\">\n",
       "      <th></th>\n",
       "      <th>0</th>\n",
       "    </tr>\n",
       "  </thead>\n",
       "  <tbody>\n",
       "    <tr>\n",
       "      <th>0</th>\n",
       "      <td>0.116866</td>\n",
       "    </tr>\n",
       "    <tr>\n",
       "      <th>1</th>\n",
       "      <td>0.713845</td>\n",
       "    </tr>\n",
       "    <tr>\n",
       "      <th>2</th>\n",
       "      <td>0.169288</td>\n",
       "    </tr>\n",
       "  </tbody>\n",
       "</table>\n",
       "</div>"
      ],
      "text/plain": [
       "          0\n",
       "0  0.116866\n",
       "1  0.713845\n",
       "2  0.169288"
      ]
     },
     "metadata": {},
     "output_type": "display_data"
    },
    {
     "name": "stdout",
     "output_type": "stream",
     "text": [
      "Transition rate matrix (Q):\n"
     ]
    },
    {
     "data": {
      "text/html": [
       "<div>\n",
       "<table border=\"1\" class=\"dataframe\">\n",
       "  <thead>\n",
       "    <tr style=\"text-align: right;\">\n",
       "      <th></th>\n",
       "      <th>0</th>\n",
       "      <th>1</th>\n",
       "      <th>2</th>\n",
       "    </tr>\n",
       "  </thead>\n",
       "  <tbody>\n",
       "    <tr>\n",
       "      <th>0</th>\n",
       "      <td>-1.000000</td>\n",
       "      <td>0.381057</td>\n",
       "      <td>0.618943</td>\n",
       "    </tr>\n",
       "    <tr>\n",
       "      <th>1</th>\n",
       "      <td>0.371634</td>\n",
       "      <td>-1.000000</td>\n",
       "      <td>0.628366</td>\n",
       "    </tr>\n",
       "    <tr>\n",
       "      <th>2</th>\n",
       "      <td>0.775523</td>\n",
       "      <td>0.224477</td>\n",
       "      <td>-1.000000</td>\n",
       "    </tr>\n",
       "  </tbody>\n",
       "</table>\n",
       "</div>"
      ],
      "text/plain": [
       "          0         1         2\n",
       "0 -1.000000  0.381057  0.618943\n",
       "1  0.371634 -1.000000  0.628366\n",
       "2  0.775523  0.224477 -1.000000"
      ]
     },
     "metadata": {},
     "output_type": "display_data"
    },
    {
     "name": "stdout",
     "output_type": "stream",
     "text": [
      "Transition probabilities for one time unit :\n"
     ]
    },
    {
     "data": {
      "text/html": [
       "<div>\n",
       "<table border=\"1\" class=\"dataframe\">\n",
       "  <thead>\n",
       "    <tr style=\"text-align: right;\">\n",
       "      <th></th>\n",
       "      <th>0</th>\n",
       "      <th>1</th>\n",
       "      <th>2</th>\n",
       "    </tr>\n",
       "  </thead>\n",
       "  <tbody>\n",
       "    <tr>\n",
       "      <th>0</th>\n",
       "      <td>0.505289</td>\n",
       "      <td>0.187481</td>\n",
       "      <td>0.307230</td>\n",
       "    </tr>\n",
       "    <tr>\n",
       "      <th>1</th>\n",
       "      <td>0.252041</td>\n",
       "      <td>0.438622</td>\n",
       "      <td>0.309337</td>\n",
       "    </tr>\n",
       "    <tr>\n",
       "      <th>2</th>\n",
       "      <td>0.342351</td>\n",
       "      <td>0.152470</td>\n",
       "      <td>0.505179</td>\n",
       "    </tr>\n",
       "  </tbody>\n",
       "</table>\n",
       "</div>"
      ],
      "text/plain": [
       "          0         1         2\n",
       "0  0.505289  0.187481  0.307230\n",
       "1  0.252041  0.438622  0.309337\n",
       "2  0.342351  0.152470  0.505179"
      ]
     },
     "metadata": {},
     "output_type": "display_data"
    },
    {
     "name": "stdout",
     "output_type": "stream",
     "text": [
      "Emission probabilities matrix (B):\n"
     ]
    },
    {
     "data": {
      "text/html": [
       "<div>\n",
       "<table border=\"1\" class=\"dataframe\">\n",
       "  <thead>\n",
       "    <tr style=\"text-align: right;\">\n",
       "      <th></th>\n",
       "      <th>0</th>\n",
       "      <th>1</th>\n",
       "      <th>2</th>\n",
       "    </tr>\n",
       "  </thead>\n",
       "  <tbody>\n",
       "    <tr>\n",
       "      <th>0</th>\n",
       "      <td>0.017825</td>\n",
       "      <td>0.450214</td>\n",
       "      <td>0.531962</td>\n",
       "    </tr>\n",
       "    <tr>\n",
       "      <th>1</th>\n",
       "      <td>0.422389</td>\n",
       "      <td>0.323598</td>\n",
       "      <td>0.254014</td>\n",
       "    </tr>\n",
       "    <tr>\n",
       "      <th>2</th>\n",
       "      <td>0.062971</td>\n",
       "      <td>0.917243</td>\n",
       "      <td>0.019786</td>\n",
       "    </tr>\n",
       "  </tbody>\n",
       "</table>\n",
       "</div>"
      ],
      "text/plain": [
       "          0         1         2\n",
       "0  0.017825  0.450214  0.531962\n",
       "1  0.422389  0.323598  0.254014\n",
       "2  0.062971  0.917243  0.019786"
      ]
     },
     "metadata": {},
     "output_type": "display_data"
    },
    {
     "name": "stdout",
     "output_type": "stream",
     "text": [
      "Initial probabilities (π) :\n"
     ]
    },
    {
     "data": {
      "text/html": [
       "<div>\n",
       "<table border=\"1\" class=\"dataframe\">\n",
       "  <thead>\n",
       "    <tr style=\"text-align: right;\">\n",
       "      <th></th>\n",
       "      <th>0</th>\n",
       "    </tr>\n",
       "  </thead>\n",
       "  <tbody>\n",
       "    <tr>\n",
       "      <th>0</th>\n",
       "      <td>0.116866</td>\n",
       "    </tr>\n",
       "    <tr>\n",
       "      <th>1</th>\n",
       "      <td>0.713845</td>\n",
       "    </tr>\n",
       "    <tr>\n",
       "      <th>2</th>\n",
       "      <td>0.169288</td>\n",
       "    </tr>\n",
       "  </tbody>\n",
       "</table>\n",
       "</div>"
      ],
      "text/plain": [
       "          0\n",
       "0  0.116866\n",
       "1  0.713845\n",
       "2  0.169288"
      ]
     },
     "metadata": {},
     "output_type": "display_data"
    },
    {
     "name": "stdout",
     "output_type": "stream",
     "text": [
      "Transition probabilities matrix (A):\n"
     ]
    },
    {
     "data": {
      "text/html": [
       "<div>\n",
       "<table border=\"1\" class=\"dataframe\">\n",
       "  <thead>\n",
       "    <tr style=\"text-align: right;\">\n",
       "      <th></th>\n",
       "      <th>0</th>\n",
       "      <th>1</th>\n",
       "      <th>2</th>\n",
       "    </tr>\n",
       "  </thead>\n",
       "  <tbody>\n",
       "    <tr>\n",
       "      <th>0</th>\n",
       "      <td>0.505289</td>\n",
       "      <td>0.187481</td>\n",
       "      <td>0.307230</td>\n",
       "    </tr>\n",
       "    <tr>\n",
       "      <th>1</th>\n",
       "      <td>0.252041</td>\n",
       "      <td>0.438622</td>\n",
       "      <td>0.309337</td>\n",
       "    </tr>\n",
       "    <tr>\n",
       "      <th>2</th>\n",
       "      <td>0.342351</td>\n",
       "      <td>0.152470</td>\n",
       "      <td>0.505179</td>\n",
       "    </tr>\n",
       "  </tbody>\n",
       "</table>\n",
       "</div>"
      ],
      "text/plain": [
       "          0         1         2\n",
       "0  0.505289  0.187481  0.307230\n",
       "1  0.252041  0.438622  0.309337\n",
       "2  0.342351  0.152470  0.505179"
      ]
     },
     "metadata": {},
     "output_type": "display_data"
    },
    {
     "name": "stdout",
     "output_type": "stream",
     "text": [
      "Emission probabilities matrix (B):\n"
     ]
    },
    {
     "data": {
      "text/html": [
       "<div>\n",
       "<table border=\"1\" class=\"dataframe\">\n",
       "  <thead>\n",
       "    <tr style=\"text-align: right;\">\n",
       "      <th></th>\n",
       "      <th>0</th>\n",
       "      <th>1</th>\n",
       "      <th>2</th>\n",
       "    </tr>\n",
       "  </thead>\n",
       "  <tbody>\n",
       "    <tr>\n",
       "      <th>0</th>\n",
       "      <td>0.017825</td>\n",
       "      <td>0.450214</td>\n",
       "      <td>0.531962</td>\n",
       "    </tr>\n",
       "    <tr>\n",
       "      <th>1</th>\n",
       "      <td>0.422389</td>\n",
       "      <td>0.323598</td>\n",
       "      <td>0.254014</td>\n",
       "    </tr>\n",
       "    <tr>\n",
       "      <th>2</th>\n",
       "      <td>0.062971</td>\n",
       "      <td>0.917243</td>\n",
       "      <td>0.019786</td>\n",
       "    </tr>\n",
       "  </tbody>\n",
       "</table>\n",
       "</div>"
      ],
      "text/plain": [
       "          0         1         2\n",
       "0  0.017825  0.450214  0.531962\n",
       "1  0.422389  0.323598  0.254014\n",
       "2  0.062971  0.917243  0.019786"
      ]
     },
     "metadata": {},
     "output_type": "display_data"
    }
   ],
   "source": [
    "ct = hmms.CtHMM.random(3,3)\n",
    "dt = hmms.DtHMM( *ct.get_dthmm_params() )\n",
    "    \n",
    "hmms.print_parameters( ct )\n",
    "hmms.print_parameters( dt )"
   ]
  },
  {
   "cell_type": "markdown",
   "metadata": {
    "deletable": true,
    "editable": true
   },
   "source": [
    "We will train them at our dataset. (It can take a while.)"
   ]
  },
  {
   "cell_type": "code",
   "execution_count": 43,
   "metadata": {
    "collapsed": false,
    "deletable": true,
    "editable": true
   },
   "outputs": [
    {
     "ename": "AttributeError",
     "evalue": "'hmms.cthmm.CtHMM' object has no attribute 'baum_welch_graph'",
     "output_type": "error",
     "traceback": [
      "\u001b[0;31m---------------------------------------------------------------------------\u001b[0m",
      "\u001b[0;31mAttributeError\u001b[0m                            Traceback (most recent call last)",
      "\u001b[0;32m<ipython-input-43-be9c6d706e7d>\u001b[0m in \u001b[0;36m<module>\u001b[0;34m()\u001b[0m\n\u001b[1;32m      1\u001b[0m \u001b[0miter_num\u001b[0m \u001b[0;34m=\u001b[0m \u001b[0;36m50\u001b[0m\u001b[0;34m\u001b[0m\u001b[0m\n\u001b[1;32m      2\u001b[0m \u001b[0moutd\u001b[0m \u001b[0;34m=\u001b[0m \u001b[0mdt\u001b[0m\u001b[0;34m.\u001b[0m\u001b[0mbaum_welch_graph\u001b[0m\u001b[0;34m(\u001b[0m \u001b[0me\u001b[0m\u001b[0;34m,\u001b[0m \u001b[0miter_num\u001b[0m \u001b[0;34m)\u001b[0m\u001b[0;34m\u001b[0m\u001b[0m\n\u001b[0;32m----> 3\u001b[0;31m \u001b[0moutc\u001b[0m \u001b[0;34m=\u001b[0m \u001b[0mct\u001b[0m\u001b[0;34m.\u001b[0m\u001b[0mbaum_welch_graph\u001b[0m\u001b[0;34m(\u001b[0m \u001b[0mt\u001b[0m\u001b[0;34m,\u001b[0m\u001b[0me\u001b[0m\u001b[0;34m,\u001b[0m \u001b[0miter_num\u001b[0m \u001b[0;34m)\u001b[0m\u001b[0;34m\u001b[0m\u001b[0m\n\u001b[0m\u001b[1;32m      4\u001b[0m \u001b[0moutd\u001b[0m\u001b[0;34m,\u001b[0m\u001b[0moutc\u001b[0m\u001b[0;34m\u001b[0m\u001b[0m\n",
      "\u001b[0;31mAttributeError\u001b[0m: 'hmms.cthmm.CtHMM' object has no attribute 'baum_welch_graph'"
     ]
    }
   ],
   "source": [
    "iter_num = 50\n",
    "outd = dt.baum_welch_graph( e, iter_num )\n",
    "outc = ct.baum_welch_graph( t,e, iter_num )\n",
    "outd,outc"
   ]
  },
  {
   "cell_type": "markdown",
   "metadata": {
    "collapsed": false,
    "deletable": true,
    "editable": true
   },
   "source": [
    "We can plot and compare both convergence rates. From the essence of models, the continuous model will probably  converge a bit slower, but finally will reach the similar value."
   ]
  },
  {
   "cell_type": "code",
   "execution_count": null,
   "metadata": {
    "collapsed": false,
    "deletable": true,
    "editable": true
   },
   "outputs": [],
   "source": [
    "plt.plot( outd[1:] / dreal  )\n",
    "plt.plot( outc[1:] / dreal  )\n",
    "#plt.savefig('my_plot.svg')  #Optional save the figure\n",
    "plt.show()"
   ]
  },
  {
   "cell_type": "code",
   "execution_count": null,
   "metadata": {
    "collapsed": false,
    "deletable": true,
    "editable": true
   },
   "outputs": [],
   "source": []
  },
  {
   "cell_type": "markdown",
   "metadata": {
    "collapsed": false,
    "deletable": true,
    "editable": true
   },
   "source": [
    "<hr/>\n",
    "You can play with the models as you like and feel free to share your result with me, if you have made some interesting experiment!"
   ]
  },
  {
   "cell_type": "markdown",
   "metadata": {
    "collapsed": true,
    "deletable": true,
    "editable": true
   },
   "source": [
    "Contact: (lopatovsky@gmail.com)"
   ]
  },
  {
   "cell_type": "markdown",
   "metadata": {
    "deletable": true,
    "editable": true
   },
   "source": [
    "### Experimental features\n",
    "#### Fast Convergence"
   ]
  },
  {
   "cell_type": "code",
   "execution_count": null,
   "metadata": {
    "collapsed": false,
    "deletable": true,
    "editable": true
   },
   "outputs": [],
   "source": [
    "seq_num= 1   #number of data sequences\n",
    "seq_len= 4  #length of each sequence\n",
    "\n",
    "t,e = chmm.generate_data( (seq_num,seq_len) )\n",
    "t,e\n",
    "\n",
    "\n",
    "t = np.array([[ 0,1,3,5,6,7,9,11,12]])\n",
    "e = np.array([[ 0,0,0,1,2,1,0,0,1]])\n"
   ]
  },
  {
   "cell_type": "code",
   "execution_count": null,
   "metadata": {
    "collapsed": false,
    "deletable": true,
    "editable": true
   },
   "outputs": [],
   "source": [
    "ct1 = hmms.CtHMM.random(3,3)\n",
    "ct2 = hmms.CtHMM( *ct1.params )"
   ]
  },
  {
   "cell_type": "code",
   "execution_count": null,
   "metadata": {
    "collapsed": false,
    "deletable": true,
    "editable": true
   },
   "outputs": [],
   "source": [
    "iter_num = 50\n",
    "out1 = ct1.baum_welch_graph( t,e, iter_num )\n",
    "out2 = ct2.baum_welch_graph2( t,e, iter_num )\n",
    "out1,out2"
   ]
  },
  {
   "cell_type": "code",
   "execution_count": null,
   "metadata": {
    "collapsed": false,
    "deletable": true,
    "editable": true
   },
   "outputs": [],
   "source": [
    "plt.plot( out1[1:] / dreal , color = \"red\" )\n",
    "plt.plot( out2[1:] / dreal  )\n",
    "#plt.savefig('graph.svg')  #Optional save the figure\n",
    "\n",
    "plt.show()"
   ]
  },
  {
   "cell_type": "code",
   "execution_count": null,
   "metadata": {
    "collapsed": false,
    "deletable": true,
    "editable": true
   },
   "outputs": [],
   "source": [
    "hmms.print_parameters(ct1)\n",
    "hmms.print_parameters(ct2)"
   ]
  },
  {
   "cell_type": "markdown",
   "metadata": {
    "collapsed": true,
    "deletable": true,
    "editable": true
   },
   "source": [
    "Exponential random generation"
   ]
  },
  {
   "cell_type": "code",
   "execution_count": 1,
   "metadata": {
    "collapsed": true,
    "deletable": true,
    "editable": true
   },
   "outputs": [],
   "source": [
    "import numpy as np\n",
    "import matplotlib.pyplot as plt\n",
    "import hmms\n",
    "\n",
    "%matplotlib inline"
   ]
  },
  {
   "cell_type": "code",
   "execution_count": 2,
   "metadata": {
    "collapsed": false,
    "deletable": true,
    "editable": true
   },
   "outputs": [],
   "source": [
    "# Q is the matrix of transition rates from state [row] to state [column].\n",
    "Q = np.array( [[-0.375,0.125,0.25],[0.25,-0.5,0.25],[0.25,0.125,-0.375]] )\n",
    "# B is the matrix of probabilities that the state [row] will emmit output variable [column].\n",
    "B = np.array( [[0.8,0.05,0.15],[0.05,0.9,0.05],[0.2,0.05,0.75]] )\n",
    "# Pi is the vector of initial state probabilities.   \n",
    "Pi = np.array( [0.6,0,0.4] )\n",
    "\n",
    "# Create CtHMM by given parameters.\n",
    "chmm = hmms.CtHMM(Q,B,Pi)"
   ]
  },
  {
   "cell_type": "code",
   "execution_count": 3,
   "metadata": {
    "collapsed": true,
    "deletable": true,
    "editable": true
   },
   "outputs": [],
   "source": [
    "seq_num= 5   #number of data sequences\n",
    "seq_len= 30  #length of each sequence\n",
    "\n",
    "t,e = chmm.generate_data( (seq_num,seq_len) )"
   ]
  },
  {
   "cell_type": "code",
   "execution_count": 4,
   "metadata": {
    "collapsed": false,
    "deletable": true,
    "editable": true
   },
   "outputs": [],
   "source": [
    "chmm_r = hmms.CtHMM.random( 3,3, method='unif' )\n",
    "chmm_re = hmms.CtHMM.random( 3,3, method='exp' )\n",
    "\n",
    "out  =  chmm_r.baum_welch( t,e, 10 )\n",
    "oute = chmm_re.baum_welch( t,e, 10 )\n",
    "\n",
    "\n",
    "#aout =  np.average(out,  axis=0)\n",
    "#aoute = np.average(oute, axis=0)\n"
   ]
  },
  {
   "cell_type": "code",
   "execution_count": 5,
   "metadata": {
    "collapsed": false,
    "deletable": true,
    "editable": true
   },
   "outputs": [
    {
     "ename": "NameError",
     "evalue": "name 'method' is not defined",
     "output_type": "error",
     "traceback": [
      "\u001b[0;31m---------------------------------------------------------------------------\u001b[0m",
      "\u001b[0;31mNameError\u001b[0m                                 Traceback (most recent call last)",
      "\u001b[0;32m<ipython-input-5-2bfc448798b8>\u001b[0m in \u001b[0;36m<module>\u001b[0;34m()\u001b[0m\n\u001b[0;32m----> 1\u001b[0;31m \u001b[0mout\u001b[0m \u001b[0;34m=\u001b[0m \u001b[0mhmms\u001b[0m\u001b[0;34m.\u001b[0m\u001b[0mmulti_train\u001b[0m\u001b[0;34m(\u001b[0m\u001b[0;36m3\u001b[0m\u001b[0;34m,\u001b[0m \u001b[0mt\u001b[0m\u001b[0;34m,\u001b[0m \u001b[0me\u001b[0m\u001b[0;34m,\u001b[0m \u001b[0;36m2\u001b[0m\u001b[0;34m,\u001b[0m \u001b[0;36m20\u001b[0m\u001b[0;34m)\u001b[0m\u001b[0;34m\u001b[0m\u001b[0m\n\u001b[0m",
      "\u001b[0;32m/home/jamaisvu/Desktop/HMMs/hmms/train.py\u001b[0m in \u001b[0;36mmulti_train\u001b[0;34m(hidden_states, times, data, runs, iteration, **kwargs)\u001b[0m\n\u001b[1;32m     12\u001b[0m         \"\"\"\n\u001b[1;32m     13\u001b[0m \u001b[0;34m\u001b[0m\u001b[0m\n\u001b[0;32m---> 14\u001b[0;31m         \u001b[0;32mif\u001b[0m \u001b[0mmethod\u001b[0m \u001b[0;32mnot\u001b[0m \u001b[0;32min\u001b[0m \u001b[0mkwargs\u001b[0m \u001b[0;34m:\u001b[0m \u001b[0mkwargs\u001b[0m\u001b[0;34m[\u001b[0m\u001b[0;34m'method'\u001b[0m\u001b[0;34m]\u001b[0m \u001b[0;34m=\u001b[0m \u001b[0;34m'exp'\u001b[0m\u001b[0;34m\u001b[0m\u001b[0m\n\u001b[0m\u001b[1;32m     15\u001b[0m \u001b[0;34m\u001b[0m\u001b[0m\n\u001b[1;32m     16\u001b[0m         \u001b[0mmodels\u001b[0m \u001b[0;34m=\u001b[0m \u001b[0;34m[\u001b[0m\u001b[0;34m]\u001b[0m\u001b[0;34m\u001b[0m\u001b[0m\n",
      "\u001b[0;31mNameError\u001b[0m: name 'method' is not defined"
     ]
    }
   ],
   "source": [
    "out = hmms.multi_train(3, t, e, 2, 20)"
   ]
  },
  {
   "cell_type": "code",
   "execution_count": null,
   "metadata": {
    "collapsed": false,
    "deletable": true,
    "editable": true
   },
   "outputs": [],
   "source": [
    "aout =  np.average(out,  axis=0)\n",
    "aoute = np.average(oute, axis=0)\n",
    "\n",
    "mout =  np.min(out,  axis=0)\n",
    "moute = np.min(oute, axis=0)\n",
    "\n",
    "\n",
    "real = chmm.data_estimate( t, e )\n",
    "#For better visibility of the graph, we cut first two values.\n",
    "\n",
    "offset = 3\n",
    "\n",
    "#plt.plot(  aout[offset:] / real , color = \"red\" )\n",
    "#plt.plot( aoute[offset:] / real , color = \"blue\" )\n",
    "\n",
    "#plt.plot(  mout[offset:] / real , color = \"orange\" )\n",
    "#plt.plot( moute[offset:] / real , color = \"green\")\n",
    "\n",
    "for line in out:\n",
    "    print( line/real )\n",
    "    plt.plot(  line[offset:] / real )\n",
    "\n",
    "\n",
    "plt.show()"
   ]
  },
  {
   "cell_type": "code",
   "execution_count": 8,
   "metadata": {
    "collapsed": false,
    "deletable": true,
    "editable": true
   },
   "outputs": [
    {
     "data": {
      "text/plain": [
       "[(<hmms.cthmm.CtHMM at 0x7fb80d02ec18>,\n",
       "  array([-188.91465011, -160.46042285, -155.68408737, -154.27222795,\n",
       "         -153.75380434, -153.5361346 , -153.43705799, -153.39082374,\n",
       "         -153.37077441, -153.36501159, -153.36774088, -153.37589742,\n",
       "         -153.38772691, -153.40214717, -153.41844284, -153.43611082,\n",
       "         -153.45477804, -153.47415586, -153.49401391, -153.51416452,\n",
       "         -153.53445322])),\n",
       " (<hmms.cthmm.CtHMM at 0x7fb80d02ee10>,\n",
       "  array([-205.19866259, -156.64268368, -155.96564178, -155.54174984,\n",
       "         -155.21981271, -154.94149443, -154.67910048, -154.41918837,\n",
       "         -154.15568211, -153.88681052, -153.61358681, -153.33885668,\n",
       "         -153.06655005, -152.80104012, -152.54661471, -152.30708212,\n",
       "         -152.08551735, -151.88413387, -151.70425516, -151.54635946,\n",
       "         -151.41017455]))]"
      ]
     },
     "execution_count": 8,
     "metadata": {},
     "output_type": "execute_result"
    }
   ],
   "source": [
    "out\n",
    "\n",
    "\n"
   ]
  },
  {
   "cell_type": "code",
   "execution_count": null,
   "metadata": {
    "collapsed": false,
    "deletable": true,
    "editable": true
   },
   "outputs": [],
   "source": [
    "oute"
   ]
  },
  {
   "cell_type": "code",
   "execution_count": null,
   "metadata": {
    "collapsed": true,
    "deletable": true,
    "editable": true
   },
   "outputs": [],
   "source": []
  }
 ],
 "metadata": {
  "kernelspec": {
   "display_name": "Python 3",
   "language": "python",
   "name": "python3"
  },
  "language_info": {
   "codemirror_mode": {
    "name": "ipython",
    "version": 3
   },
   "file_extension": ".py",
   "mimetype": "text/x-python",
   "name": "python",
   "nbconvert_exporter": "python",
   "pygments_lexer": "ipython3",
   "version": "3.5.2"
  }
 },
 "nbformat": 4,
 "nbformat_minor": 2
}
