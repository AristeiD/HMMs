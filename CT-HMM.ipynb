{
 "cells": [
  {
   "cell_type": "markdown",
   "metadata": {},
   "source": [
    "HMMs Library \n",
    "============================\n",
    "#### (Discrete & Continuous hidden markov models )\n",
    "\n",
    "The document contain the tutorial ( usage explained by example ) for the hidden markov models library [link to pip].\n",
    "* The **first** part will cover disrete-time hidden markov model (**DtHMM**)\n",
    "* The **second** part will be dedicated to continuous-time hidden markov model (**CT-DtHMM**)\n",
    "\n",
    "If you are not familiar with the hidden markov model theory, We recommend ...\n",
    "%todo: refer to DP theory, github, sources\n",
    "\n",
    "Part 1: Hidden Markov Model\n",
    "---------------------------------\n",
    "\n"
   ]
  },
  {
   "cell_type": "code",
   "execution_count": 1,
   "metadata": {
    "collapsed": false
   },
   "outputs": [],
   "source": [
    "import numpy as np\n",
    "import matplotlib.pyplot as plt\n",
    "import hmms\n",
    "\n",
    "%matplotlib inline"
   ]
  },
  {
   "cell_type": "markdown",
   "metadata": {},
   "source": [
    "### Construct DtHMM \n",
    "You can directly initialize the DtHMM by passing the **model parameters**.  \n",
    "\n",
    "We will create simple DtHMM of two hidden states and three output variables."
   ]
  },
  {
   "cell_type": "code",
   "execution_count": 2,
   "metadata": {
    "collapsed": false
   },
   "outputs": [],
   "source": [
    "# A is the matrix of transition probabilities from state [row] to state [column].\n",
    "A = np.array([[0.9,0.1],[0.4,0.6]])\n",
    "# B is the matrix of probabilities that the state [row] will emmit output variable [column].\n",
    "B = np.array([[0.9,0.08,0.02],[0.2,0.5,0.3]])\n",
    "# Pi is the vector of initial state probabilities.   \n",
    "Pi = np.array( [0.8,0.2] )\n",
    "\n",
    "# Create DtHMM by given parameters.\n",
    "hmm = hmms.DtHMM(A,B,Pi)"
   ]
  },
  {
   "cell_type": "markdown",
   "metadata": {},
   "source": [
    "Or you can initialize it by **random parameters**. Passing the number of hidden states and output variables. "
   ]
  },
  {
   "cell_type": "code",
   "execution_count": 3,
   "metadata": {
    "collapsed": false
   },
   "outputs": [],
   "source": [
    "hmm_random = hmms.DtHMM.random(2,3)"
   ]
  },
  {
   "cell_type": "markdown",
   "metadata": {},
   "source": [
    "### Save & Read from File\n",
    "Once you have created the model you can **save** its parameters in file simply by calling *save_params* method.  "
   ]
  },
  {
   "cell_type": "code",
   "execution_count": 4,
   "metadata": {
    "collapsed": true
   },
   "outputs": [],
   "source": [
    "hmm_random.save_params(\"Models/hmm_random\") "
   ]
  },
  {
   "cell_type": "markdown",
   "metadata": {},
   "source": [
    "The method stored the parameters in *.npz* format.  \n",
    "\n",
    "The saved file can be later used to **read** parametrs for model initialization."
   ]
  },
  {
   "cell_type": "code",
   "execution_count": 5,
   "metadata": {
    "collapsed": false
   },
   "outputs": [],
   "source": [
    "hmm_from_file = hmms.DtHMM.from_file( \"Models/hmm_random.npz\" )"
   ]
  },
  {
   "cell_type": "markdown",
   "metadata": {},
   "source": [
    "### Set & Get Parameters\n",
    "Later you can always **set** parameters with triple of methods corresponding to the constructors."
   ]
  },
  {
   "cell_type": "code",
   "execution_count": 6,
   "metadata": {
    "collapsed": false,
    "scrolled": true
   },
   "outputs": [],
   "source": [
    "hmm.set_params(A,B,Pi)\n",
    "hmm_random.set_params_random(2,3)\n",
    "hmm_from_file.set_params_from_file( \"Models/hmm_random.npz\" )"
   ]
  },
  {
   "cell_type": "markdown",
   "metadata": {},
   "source": [
    "You can **get** parameters by calling them separately."
   ]
  },
  {
   "cell_type": "code",
   "execution_count": 7,
   "metadata": {
    "collapsed": false
   },
   "outputs": [
    {
     "data": {
      "text/plain": [
       "(array([[ 0.9,  0.1],\n",
       "        [ 0.4,  0.6]]), array([[ 0.9 ,  0.08,  0.02],\n",
       "        [ 0.2 ,  0.5 ,  0.3 ]]), array([ 0.8,  0.2]))"
      ]
     },
     "execution_count": 7,
     "metadata": {},
     "output_type": "execute_result"
    }
   ],
   "source": [
    "hmm.a, hmm.b, hmm.pi"
   ]
  },
  {
   "cell_type": "markdown",
   "metadata": {},
   "source": [
    "Or **get** them **all** together as the triple."
   ]
  },
  {
   "cell_type": "code",
   "execution_count": 8,
   "metadata": {
    "collapsed": false
   },
   "outputs": [],
   "source": [
    "(A,B,Pi) = hmm.params"
   ]
  },
  {
   "cell_type": "markdown",
   "metadata": {},
   "source": [
    "### Generate Random State and Emission Sequence\n",
    " Now we can use our model to generate state and emission sequence.   \n",
    " The model will randomly choose which transition or emission will happen, taking into consideration the parameters we have previously defined.\n"
   ]
  },
  {
   "cell_type": "code",
   "execution_count": 9,
   "metadata": {
    "collapsed": false
   },
   "outputs": [
    {
     "data": {
      "image/png": "[encoded data removed]",
      "text/plain": [
       "<matplotlib.figure.Figure at 0x7f51b70c70f0>"
      ]
     },
     "metadata": {},
     "output_type": "display_data"
    }
   ],
   "source": [
    "seq_len = 20\n",
    "s_seq, e_seq = hmm.generate( seq_len )\n",
    "\n",
    "#resize plot\n",
    "plt.rcParams['figure.figsize'] = [20,20]\n",
    "\n",
    "hmms.plot_hmm( s_seq, e_seq )"
   ]
  },
  {
   "cell_type": "markdown",
   "metadata": {
    "collapsed": false
   },
   "source": [
    "### Find Most Likely State Sequence\n",
    "If we have the model parameters and emission sequence, we can find the most probable state sequence that would generate it. Notice, that it can be different, than the actual sequence that has generated the emissions.  \n",
    "We will use Viterbi algorithm for the calculation.\n"
   ]
  },
  {
   "cell_type": "code",
   "execution_count": 10,
   "metadata": {
    "collapsed": false
   },
   "outputs": [
    {
     "data": {
      "image/png": "[encoded data removed]",
      "text/plain": [
       "<matplotlib.figure.Figure at 0x7f51b70c7048>"
      ]
     },
     "metadata": {},
     "output_type": "display_data"
    }
   ],
   "source": [
    "( prob, s_seq ) =  hmm.viterbi( e_seq )\n",
    "# Let's print the most likely state sequence, it can be same or differ from the sequence above.\n",
    "hmms.plot_hmm( s_seq, e_seq )"
   ]
  },
  {
   "cell_type": "markdown",
   "metadata": {
    "collapsed": true
   },
   "source": [
    "The *prob* parameter store the probability of the sequence.  \n",
    "All the probabilities in the library are stored in the logarithm of their actual value. As the number of possible sequences grows exponentialy by it length, it could easily lead to float underflow.  \n",
    "You can easily transform it to the normal scale value applying *exp* function. "
   ]
  },
  {
   "cell_type": "code",
   "execution_count": 11,
   "metadata": {
    "collapsed": false
   },
   "outputs": [
    {
     "data": {
      "text/plain": [
       "1.0418051057717148e-09"
      ]
     },
     "execution_count": 11,
     "metadata": {},
     "output_type": "execute_result"
    }
   ],
   "source": [
    "np.exp( prob )"
   ]
  },
  {
   "cell_type": "markdown",
   "metadata": {},
   "source": [
    "### The Probability of the Emission Sequence\n",
    "We can compute the probabilityoft the model generating the emission sequence."
   ]
  },
  {
   "cell_type": "code",
   "execution_count": 12,
   "metadata": {
    "collapsed": false
   },
   "outputs": [
    {
     "data": {
      "text/plain": [
       "1.4720318879238009e-08"
      ]
     },
     "execution_count": 12,
     "metadata": {},
     "output_type": "execute_result"
    }
   ],
   "source": [
    "np.exp( hmm.emission_estimate( e_seq ) )"
   ]
  },
  {
   "cell_type": "markdown",
   "metadata": {},
   "source": [
    "### Create Hidden Markov Model with Random Parameters\n",
    "We will use *get_random_parameters* function to generate parameters. It takes arguments for number of hidden states and number of observation variables."
   ]
  },
  {
   "cell_type": "code",
   "execution_count": 13,
   "metadata": {
    "collapsed": false
   },
   "outputs": [
    {
     "name": "stdout",
     "output_type": "stream",
     "text": [
      "Initial probabilities (π) :\n"
     ]
    },
    {
     "data": {
      "text/html": [
       "<div>\n",
       "<table border=\"1\" class=\"dataframe\">\n",
       "  <thead>\n",
       "    <tr style=\"text-align: right;\">\n",
       "      <th></th>\n",
       "      <th>0</th>\n",
       "    </tr>\n",
       "  </thead>\n",
       "  <tbody>\n",
       "    <tr>\n",
       "      <th>0</th>\n",
       "      <td>0.662703</td>\n",
       "    </tr>\n",
       "    <tr>\n",
       "      <th>1</th>\n",
       "      <td>0.337297</td>\n",
       "    </tr>\n",
       "  </tbody>\n",
       "</table>\n",
       "</div>"
      ],
      "text/plain": [
       "          0\n",
       "0  0.662703\n",
       "1  0.337297"
      ]
     },
     "metadata": {},
     "output_type": "display_data"
    },
    {
     "name": "stdout",
     "output_type": "stream",
     "text": [
      "Transition probabilities matrix (A):\n"
     ]
    },
    {
     "data": {
      "text/html": [
       "<div>\n",
       "<table border=\"1\" class=\"dataframe\">\n",
       "  <thead>\n",
       "    <tr style=\"text-align: right;\">\n",
       "      <th></th>\n",
       "      <th>0</th>\n",
       "      <th>1</th>\n",
       "    </tr>\n",
       "  </thead>\n",
       "  <tbody>\n",
       "    <tr>\n",
       "      <th>0</th>\n",
       "      <td>0.759608</td>\n",
       "      <td>0.240392</td>\n",
       "    </tr>\n",
       "    <tr>\n",
       "      <th>1</th>\n",
       "      <td>0.570685</td>\n",
       "      <td>0.429315</td>\n",
       "    </tr>\n",
       "  </tbody>\n",
       "</table>\n",
       "</div>"
      ],
      "text/plain": [
       "          0         1\n",
       "0  0.759608  0.240392\n",
       "1  0.570685  0.429315"
      ]
     },
     "metadata": {},
     "output_type": "display_data"
    },
    {
     "name": "stdout",
     "output_type": "stream",
     "text": [
      "Emission probabilities matrix (B):\n"
     ]
    },
    {
     "data": {
      "text/html": [
       "<div>\n",
       "<table border=\"1\" class=\"dataframe\">\n",
       "  <thead>\n",
       "    <tr style=\"text-align: right;\">\n",
       "      <th></th>\n",
       "      <th>0</th>\n",
       "      <th>1</th>\n",
       "      <th>2</th>\n",
       "    </tr>\n",
       "  </thead>\n",
       "  <tbody>\n",
       "    <tr>\n",
       "      <th>0</th>\n",
       "      <td>0.073545</td>\n",
       "      <td>0.282215</td>\n",
       "      <td>0.644240</td>\n",
       "    </tr>\n",
       "    <tr>\n",
       "      <th>1</th>\n",
       "      <td>0.245959</td>\n",
       "      <td>0.378434</td>\n",
       "      <td>0.375607</td>\n",
       "    </tr>\n",
       "  </tbody>\n",
       "</table>\n",
       "</div>"
      ],
      "text/plain": [
       "          0         1         2\n",
       "0  0.073545  0.282215  0.644240\n",
       "1  0.245959  0.378434  0.375607"
      ]
     },
     "metadata": {},
     "output_type": "display_data"
    }
   ],
   "source": [
    "hmm_r = hmms.DtHMM.random( 2,3 )\n",
    "# We can print all the parameters.\n",
    "hmms.print_parameters( hmm_r )"
   ]
  },
  {
   "cell_type": "markdown",
   "metadata": {},
   "source": [
    "### Parameters Estimation - Baum Welch Algorithm\n",
    "We usually do not know the real parameters of the model.  \n",
    "Here we will have several output variables (emissions) sequences and we will show, how to estimate the model parameters\n",
    "\n",
    "Let's start by creating some artifficial data. We will use the previously defined model for it.\n"
   ]
  },
  {
   "cell_type": "code",
   "execution_count": 14,
   "metadata": {
    "collapsed": false
   },
   "outputs": [],
   "source": [
    "seq_num = 1\n",
    "seq_len = 200\n",
    "data = np.empty( (seq_num, seq_len), dtype=int )\n",
    "\n",
    "for i in range(seq_num):\n",
    "    _, data[i] = hmm.generate( seq_len )"
   ]
  },
  {
   "cell_type": "markdown",
   "metadata": {},
   "source": [
    "Let's compare the dataset likelihood estimation of model used for generating the data and the random parameters model. "
   ]
  },
  {
   "cell_type": "code",
   "execution_count": 15,
   "metadata": {
    "collapsed": false
   },
   "outputs": [
    {
     "name": "stdout",
     "output_type": "stream",
     "text": [
      "Generator model: 1.09142976114e-63\n",
      "Random model:    4.42856333746e-150\n"
     ]
    }
   ],
   "source": [
    "print( \"Generator model:\" , np.exp( hmm.data_estimate(data)   ) )\n",
    "print( \"Random model:   \" ,np.exp( hmm_r.data_estimate(data) ) )"
   ]
  },
  {
   "cell_type": "markdown",
   "metadata": {},
   "source": [
    "Most likely the probability that the data was generated by random model is extremly low.\n",
    "\n",
    "Now we can take the random model and reestimate it to fit the data better."
   ]
  },
  {
   "cell_type": "code",
   "execution_count": 16,
   "metadata": {
    "collapsed": false
   },
   "outputs": [
    {
     "name": "stdout",
     "output_type": "stream",
     "text": [
      "Reestimated model after 10 iterations:    2.92581340308e-63\n"
     ]
    }
   ],
   "source": [
    "hmm_r.baum_welch( data, 10 )\n",
    "print( \"Reestimated model after 10 iterations:   \" ,np.exp( hmm_r.data_estimate(data) ) )"
   ]
  },
  {
   "cell_type": "markdown",
   "metadata": {},
   "source": [
    "The probability of the reestimated model should now be similiar (possibly even better) that the generator's model. If it is not, you can try to run the estimation procedure more time at different randomly generated models. It could happen that the estimation fall in the local optima.\n",
    "\n",
    "If you are satisfied with the results, you can run some more iteration to fine-tune it."
   ]
  },
  {
   "cell_type": "code",
   "execution_count": 17,
   "metadata": {
    "collapsed": false
   },
   "outputs": [
    {
     "name": "stdout",
     "output_type": "stream",
     "text": [
      "Reestimated model after 110 iterations:    3.32916965209e-63\n"
     ]
    }
   ],
   "source": [
    "hmm_r.baum_welch( data, 1 )\n",
    "print( \"Reestimated model after 110 iterations:   \" ,np.exp( hmm_r.data_estimate(data) ) )"
   ]
  },
  {
   "cell_type": "code",
   "execution_count": 18,
   "metadata": {
    "collapsed": false
   },
   "outputs": [
    {
     "name": "stdout",
     "output_type": "stream",
     "text": [
      "Gnerator model after 10 iterations:    3.32916965209e-63\n"
     ]
    }
   ],
   "source": [
    "hmm.baum_welch( data, 10 )  \n",
    "print( \"Gnerator model after 10 iterations:   \" ,np.exp( hmm_r.data_estimate(data) ) )"
   ]
  },
  {
   "cell_type": "code",
   "execution_count": 19,
   "metadata": {
    "collapsed": false,
    "scrolled": true
   },
   "outputs": [
    {
     "name": "stdout",
     "output_type": "stream",
     "text": [
      "Initial probabilities (π) :\n"
     ]
    },
    {
     "data": {
      "text/html": [
       "<div>\n",
       "<table border=\"1\" class=\"dataframe\">\n",
       "  <thead>\n",
       "    <tr style=\"text-align: right;\">\n",
       "      <th></th>\n",
       "      <th>0</th>\n",
       "    </tr>\n",
       "  </thead>\n",
       "  <tbody>\n",
       "    <tr>\n",
       "      <th>0</th>\n",
       "      <td>0.000302</td>\n",
       "    </tr>\n",
       "    <tr>\n",
       "      <th>1</th>\n",
       "      <td>0.999698</td>\n",
       "    </tr>\n",
       "  </tbody>\n",
       "</table>\n",
       "</div>"
      ],
      "text/plain": [
       "          0\n",
       "0  0.000302\n",
       "1  0.999698"
      ]
     },
     "metadata": {},
     "output_type": "display_data"
    },
    {
     "name": "stdout",
     "output_type": "stream",
     "text": [
      "Transition probabilities matrix (A):\n"
     ]
    },
    {
     "data": {
      "text/html": [
       "<div>\n",
       "<table border=\"1\" class=\"dataframe\">\n",
       "  <thead>\n",
       "    <tr style=\"text-align: right;\">\n",
       "      <th></th>\n",
       "      <th>0</th>\n",
       "      <th>1</th>\n",
       "    </tr>\n",
       "  </thead>\n",
       "  <tbody>\n",
       "    <tr>\n",
       "      <th>0</th>\n",
       "      <td>0.722346</td>\n",
       "      <td>0.277654</td>\n",
       "    </tr>\n",
       "    <tr>\n",
       "      <th>1</th>\n",
       "      <td>0.139148</td>\n",
       "      <td>0.860852</td>\n",
       "    </tr>\n",
       "  </tbody>\n",
       "</table>\n",
       "</div>"
      ],
      "text/plain": [
       "          0         1\n",
       "0  0.722346  0.277654\n",
       "1  0.139148  0.860852"
      ]
     },
     "metadata": {},
     "output_type": "display_data"
    },
    {
     "name": "stdout",
     "output_type": "stream",
     "text": [
      "Emission probabilities matrix (B):\n"
     ]
    },
    {
     "data": {
      "text/html": [
       "<div>\n",
       "<table border=\"1\" class=\"dataframe\">\n",
       "  <thead>\n",
       "    <tr style=\"text-align: right;\">\n",
       "      <th></th>\n",
       "      <th>0</th>\n",
       "      <th>1</th>\n",
       "      <th>2</th>\n",
       "    </tr>\n",
       "  </thead>\n",
       "  <tbody>\n",
       "    <tr>\n",
       "      <th>0</th>\n",
       "      <td>0.271459</td>\n",
       "      <td>0.518616</td>\n",
       "      <td>0.209925</td>\n",
       "    </tr>\n",
       "    <tr>\n",
       "      <th>1</th>\n",
       "      <td>0.926448</td>\n",
       "      <td>0.065146</td>\n",
       "      <td>0.008406</td>\n",
       "    </tr>\n",
       "  </tbody>\n",
       "</table>\n",
       "</div>"
      ],
      "text/plain": [
       "          0         1         2\n",
       "0  0.271459  0.518616  0.209925\n",
       "1  0.926448  0.065146  0.008406"
      ]
     },
     "metadata": {},
     "output_type": "display_data"
    },
    {
     "name": "stdout",
     "output_type": "stream",
     "text": [
      "Initial probabilities (π) :\n"
     ]
    },
    {
     "data": {
      "text/html": [
       "<div>\n",
       "<table border=\"1\" class=\"dataframe\">\n",
       "  <thead>\n",
       "    <tr style=\"text-align: right;\">\n",
       "      <th></th>\n",
       "      <th>0</th>\n",
       "    </tr>\n",
       "  </thead>\n",
       "  <tbody>\n",
       "    <tr>\n",
       "      <th>0</th>\n",
       "      <td>1.000000e+00</td>\n",
       "    </tr>\n",
       "    <tr>\n",
       "      <th>1</th>\n",
       "      <td>3.311606e-10</td>\n",
       "    </tr>\n",
       "  </tbody>\n",
       "</table>\n",
       "</div>"
      ],
      "text/plain": [
       "              0\n",
       "0  1.000000e+00\n",
       "1  3.311606e-10"
      ]
     },
     "metadata": {},
     "output_type": "display_data"
    },
    {
     "name": "stdout",
     "output_type": "stream",
     "text": [
      "Transition probabilities matrix (A):\n"
     ]
    },
    {
     "data": {
      "text/html": [
       "<div>\n",
       "<table border=\"1\" class=\"dataframe\">\n",
       "  <thead>\n",
       "    <tr style=\"text-align: right;\">\n",
       "      <th></th>\n",
       "      <th>0</th>\n",
       "      <th>1</th>\n",
       "    </tr>\n",
       "  </thead>\n",
       "  <tbody>\n",
       "    <tr>\n",
       "      <th>0</th>\n",
       "      <td>0.917415</td>\n",
       "      <td>0.082585</td>\n",
       "    </tr>\n",
       "    <tr>\n",
       "      <th>1</th>\n",
       "      <td>0.308308</td>\n",
       "      <td>0.691692</td>\n",
       "    </tr>\n",
       "  </tbody>\n",
       "</table>\n",
       "</div>"
      ],
      "text/plain": [
       "          0         1\n",
       "0  0.917415  0.082585\n",
       "1  0.308308  0.691692"
      ]
     },
     "metadata": {},
     "output_type": "display_data"
    },
    {
     "name": "stdout",
     "output_type": "stream",
     "text": [
      "Emission probabilities matrix (B):\n"
     ]
    },
    {
     "data": {
      "text/html": [
       "<div>\n",
       "<table border=\"1\" class=\"dataframe\">\n",
       "  <thead>\n",
       "    <tr style=\"text-align: right;\">\n",
       "      <th></th>\n",
       "      <th>0</th>\n",
       "      <th>1</th>\n",
       "      <th>2</th>\n",
       "    </tr>\n",
       "  </thead>\n",
       "  <tbody>\n",
       "    <tr>\n",
       "      <th>0</th>\n",
       "      <td>0.87522</td>\n",
       "      <td>0.105439</td>\n",
       "      <td>0.019341</td>\n",
       "    </tr>\n",
       "    <tr>\n",
       "      <th>1</th>\n",
       "      <td>0.08792</td>\n",
       "      <td>0.627516</td>\n",
       "      <td>0.284565</td>\n",
       "    </tr>\n",
       "  </tbody>\n",
       "</table>\n",
       "</div>"
      ],
      "text/plain": [
       "         0         1         2\n",
       "0  0.87522  0.105439  0.019341\n",
       "1  0.08792  0.627516  0.284565"
      ]
     },
     "metadata": {},
     "output_type": "display_data"
    }
   ],
   "source": [
    "hmms.print_parameters( hmm_r )\n",
    "hmms.print_parameters( hmm )"
   ]
  },
  {
   "cell_type": "code",
   "execution_count": 20,
   "metadata": {
    "collapsed": false,
    "scrolled": false
   },
   "outputs": [
    {
     "name": "stdout",
     "output_type": "stream",
     "text": [
      "[  6.98010241e-109   6.82855661e-065   2.36680206e-064   4.18791566e-064\n",
      "   5.97743974e-064   7.55826749e-064   8.85892084e-064   9.92545763e-064\n",
      "   1.08381233e-063   1.16702686e-063   1.24814578e-063   1.33209524e-063\n",
      "   1.42321042e-063   1.52576398e-063   1.64416525e-063   1.78336337e-063\n",
      "   1.94886321e-063   2.14694949e-063   2.38448385e-063   2.66886579e-063\n",
      "   3.00714936e-063   3.40557140e-063   3.86803774e-063   4.39531716e-063\n",
      "   4.98404393e-063   5.62641614e-063   6.31062063e-063   7.02166082e-063\n",
      "   7.74232323e-063   8.45476134e-063   9.14107928e-063   9.78586964e-063\n",
      "   1.03765503e-062   1.09057714e-062   1.13703565e-062   1.17719950e-062\n",
      "   1.21158770e-062   1.24086864e-062   1.26578674e-062   1.28709401e-062\n",
      "   1.30544911e-062   1.32140178e-062   1.33542849e-062   1.34787537e-062\n",
      "   1.35900666e-062   1.36908042e-062   1.37821905e-062   1.38657212e-062\n",
      "   1.39423102e-062   1.40126924e-062   1.40774141e-062]\n"
     ]
    },
    {
     "data": {
      "image/png": "[encoded data removed]",
      "text/plain": [
       "<matplotlib.figure.Figure at 0x7f51b4ef90b8>"
      ]
     },
     "metadata": {},
     "output_type": "display_data"
    }
   ],
   "source": [
    "hmm_r = hmms.DtHMM.random(2,3) \n",
    "real = hmm.data_estimate(data)\n",
    "out = hmm_r.baum_welch_graph( data, 1 )\n",
    "print( np.exp(out) )\n",
    "plt.plot( out[2:] / real  )\n",
    "plt.show()"
   ]
  },
  {
   "cell_type": "code",
   "execution_count": 21,
   "metadata": {
    "collapsed": false
   },
   "outputs": [],
   "source": [
    "hmm.save_params(\"Models/my_file\")\n",
    "hmf = hmms.DtHMM.from_file(\"Models/my_file.npz\")"
   ]
  },
  {
   "cell_type": "code",
   "execution_count": 22,
   "metadata": {
    "collapsed": false
   },
   "outputs": [
    {
     "name": "stdout",
     "output_type": "stream",
     "text": [
      "Initial probabilities (π) :\n"
     ]
    },
    {
     "data": {
      "text/html": [
       "<div>\n",
       "<table border=\"1\" class=\"dataframe\">\n",
       "  <thead>\n",
       "    <tr style=\"text-align: right;\">\n",
       "      <th></th>\n",
       "      <th>0</th>\n",
       "    </tr>\n",
       "  </thead>\n",
       "  <tbody>\n",
       "    <tr>\n",
       "      <th>0</th>\n",
       "      <td>1.000000e+00</td>\n",
       "    </tr>\n",
       "    <tr>\n",
       "      <th>1</th>\n",
       "      <td>3.311606e-10</td>\n",
       "    </tr>\n",
       "  </tbody>\n",
       "</table>\n",
       "</div>"
      ],
      "text/plain": [
       "              0\n",
       "0  1.000000e+00\n",
       "1  3.311606e-10"
      ]
     },
     "metadata": {},
     "output_type": "display_data"
    },
    {
     "name": "stdout",
     "output_type": "stream",
     "text": [
      "Transition probabilities matrix (A):\n"
     ]
    },
    {
     "data": {
      "text/html": [
       "<div>\n",
       "<table border=\"1\" class=\"dataframe\">\n",
       "  <thead>\n",
       "    <tr style=\"text-align: right;\">\n",
       "      <th></th>\n",
       "      <th>0</th>\n",
       "      <th>1</th>\n",
       "    </tr>\n",
       "  </thead>\n",
       "  <tbody>\n",
       "    <tr>\n",
       "      <th>0</th>\n",
       "      <td>0.917415</td>\n",
       "      <td>0.082585</td>\n",
       "    </tr>\n",
       "    <tr>\n",
       "      <th>1</th>\n",
       "      <td>0.308308</td>\n",
       "      <td>0.691692</td>\n",
       "    </tr>\n",
       "  </tbody>\n",
       "</table>\n",
       "</div>"
      ],
      "text/plain": [
       "          0         1\n",
       "0  0.917415  0.082585\n",
       "1  0.308308  0.691692"
      ]
     },
     "metadata": {},
     "output_type": "display_data"
    },
    {
     "name": "stdout",
     "output_type": "stream",
     "text": [
      "Emission probabilities matrix (B):\n"
     ]
    },
    {
     "data": {
      "text/html": [
       "<div>\n",
       "<table border=\"1\" class=\"dataframe\">\n",
       "  <thead>\n",
       "    <tr style=\"text-align: right;\">\n",
       "      <th></th>\n",
       "      <th>0</th>\n",
       "      <th>1</th>\n",
       "      <th>2</th>\n",
       "    </tr>\n",
       "  </thead>\n",
       "  <tbody>\n",
       "    <tr>\n",
       "      <th>0</th>\n",
       "      <td>0.87522</td>\n",
       "      <td>0.105439</td>\n",
       "      <td>0.019341</td>\n",
       "    </tr>\n",
       "    <tr>\n",
       "      <th>1</th>\n",
       "      <td>0.08792</td>\n",
       "      <td>0.627516</td>\n",
       "      <td>0.284565</td>\n",
       "    </tr>\n",
       "  </tbody>\n",
       "</table>\n",
       "</div>"
      ],
      "text/plain": [
       "         0         1         2\n",
       "0  0.87522  0.105439  0.019341\n",
       "1  0.08792  0.627516  0.284565"
      ]
     },
     "metadata": {},
     "output_type": "display_data"
    },
    {
     "name": "stdout",
     "output_type": "stream",
     "text": [
      "Initial probabilities (π) :\n"
     ]
    },
    {
     "data": {
      "text/html": [
       "<div>\n",
       "<table border=\"1\" class=\"dataframe\">\n",
       "  <thead>\n",
       "    <tr style=\"text-align: right;\">\n",
       "      <th></th>\n",
       "      <th>0</th>\n",
       "    </tr>\n",
       "  </thead>\n",
       "  <tbody>\n",
       "    <tr>\n",
       "      <th>0</th>\n",
       "      <td>1.000000e+00</td>\n",
       "    </tr>\n",
       "    <tr>\n",
       "      <th>1</th>\n",
       "      <td>3.311606e-10</td>\n",
       "    </tr>\n",
       "  </tbody>\n",
       "</table>\n",
       "</div>"
      ],
      "text/plain": [
       "              0\n",
       "0  1.000000e+00\n",
       "1  3.311606e-10"
      ]
     },
     "metadata": {},
     "output_type": "display_data"
    },
    {
     "name": "stdout",
     "output_type": "stream",
     "text": [
      "Transition probabilities matrix (A):\n"
     ]
    },
    {
     "data": {
      "text/html": [
       "<div>\n",
       "<table border=\"1\" class=\"dataframe\">\n",
       "  <thead>\n",
       "    <tr style=\"text-align: right;\">\n",
       "      <th></th>\n",
       "      <th>0</th>\n",
       "      <th>1</th>\n",
       "    </tr>\n",
       "  </thead>\n",
       "  <tbody>\n",
       "    <tr>\n",
       "      <th>0</th>\n",
       "      <td>0.917415</td>\n",
       "      <td>0.082585</td>\n",
       "    </tr>\n",
       "    <tr>\n",
       "      <th>1</th>\n",
       "      <td>0.308308</td>\n",
       "      <td>0.691692</td>\n",
       "    </tr>\n",
       "  </tbody>\n",
       "</table>\n",
       "</div>"
      ],
      "text/plain": [
       "          0         1\n",
       "0  0.917415  0.082585\n",
       "1  0.308308  0.691692"
      ]
     },
     "metadata": {},
     "output_type": "display_data"
    },
    {
     "name": "stdout",
     "output_type": "stream",
     "text": [
      "Emission probabilities matrix (B):\n"
     ]
    },
    {
     "data": {
      "text/html": [
       "<div>\n",
       "<table border=\"1\" class=\"dataframe\">\n",
       "  <thead>\n",
       "    <tr style=\"text-align: right;\">\n",
       "      <th></th>\n",
       "      <th>0</th>\n",
       "      <th>1</th>\n",
       "      <th>2</th>\n",
       "    </tr>\n",
       "  </thead>\n",
       "  <tbody>\n",
       "    <tr>\n",
       "      <th>0</th>\n",
       "      <td>0.87522</td>\n",
       "      <td>0.105439</td>\n",
       "      <td>0.019341</td>\n",
       "    </tr>\n",
       "    <tr>\n",
       "      <th>1</th>\n",
       "      <td>0.08792</td>\n",
       "      <td>0.627516</td>\n",
       "      <td>0.284565</td>\n",
       "    </tr>\n",
       "  </tbody>\n",
       "</table>\n",
       "</div>"
      ],
      "text/plain": [
       "         0         1         2\n",
       "0  0.87522  0.105439  0.019341\n",
       "1  0.08792  0.627516  0.284565"
      ]
     },
     "metadata": {},
     "output_type": "display_data"
    }
   ],
   "source": [
    "hmms.print_parameters( hmf )\n",
    "hmms.print_parameters( hmm )"
   ]
  },
  {
   "cell_type": "code",
   "execution_count": 11,
   "metadata": {
    "collapsed": true
   },
   "outputs": [],
   "source": [
    "import numpy\n",
    "import scipy.linalg\n",
    "\n",
    "def get_dthmm_params( cthmm ):\n",
    "    \"\"\"given the cthmm get parameters for dthmm\"\"\"\n",
    "    A = scipy.linalg.expm( cthmm.q )  #the transition rate is set as the one time unit probabilities of continuos model\n",
    "    B = cthmm.b\n",
    "    Pi = cthmm.pi\n",
    "    return (A,B,Pi)\n",
    "\n",
    "\n",
    "def create_data( dthmm, size ):\n",
    "    \"\"\"Create output variables and time sequences generated by dthmm\n",
    "       size = ( number of sequences, length of sequences  )\n",
    "    \"\"\"\n",
    "\n",
    "    e = numpy.empty( size, dtype=int )\n",
    "    t = numpy.empty( size, dtype=int )\n",
    "\n",
    "    for i in range( size[0] ):\n",
    "        e[i] = dthmm.generate( size[1] )[1]\n",
    "        t[i] = numpy.arange(  size[1] )\n",
    "\n",
    "    return (t,e)"
   ]
  },
  {
   "cell_type": "code",
   "execution_count": 12,
   "metadata": {
    "collapsed": false
   },
   "outputs": [],
   "source": [
    "Q = numpy.array( [[-0.375,0.125,0.25],[0.25,-0.5,0.25],[0.25,0.125,-0.375]] )\n",
    "B = numpy.array( [[0.8,0.05,0.15],[0.05,0.9,0.05],[0.2,0.05,0.75]] )\n",
    "Pi = numpy.array( [0.6,0,0.4] )"
   ]
  },
  {
   "cell_type": "code",
   "execution_count": 13,
   "metadata": {
    "collapsed": false
   },
   "outputs": [],
   "source": [
    "cthmm = hmms.CtHMM( Q,B,Pi )\n",
    "dthmm = hmms.DtHMM( *get_dthmm_params(cthmm) )"
   ]
  },
  {
   "cell_type": "code",
   "execution_count": 14,
   "metadata": {
    "collapsed": false
   },
   "outputs": [
    {
     "name": "stdout",
     "output_type": "stream",
     "text": [
      "la\n",
      "alpha\n",
      "[-51.67725972 -49.61598524 -50.61047604]\n",
      "la\n",
      "alpha\n",
      "[-46.26789148 -50.6073474  -47.81173559]\n",
      "la\n",
      "alpha\n",
      "[-51.27818665 -55.97689849 -53.71859414]\n",
      "la\n",
      "alpha\n",
      "[-51.66212692 -54.31923919 -50.19349995]\n",
      "la\n",
      "alpha\n",
      "[-53.33388137 -55.23429642 -50.57952518]\n",
      "la\n",
      "alpha\n",
      "[-53.94350604 -58.58094151 -56.31543663]\n",
      "la\n",
      "alpha\n",
      "[-51.71173939 -55.77995508 -52.75736127]\n",
      "la\n",
      "alpha\n",
      "[-52.74748175 -48.72182068 -52.74627735]\n",
      "la\n",
      "alpha\n",
      "[-50.11025663 -54.09625199 -52.18838278]\n",
      "la\n",
      "alpha\n",
      "[-45.31965793 -50.00726776 -47.72446956]\n",
      "la\n",
      "alpha\n",
      "[-51.42567318 -52.16528686 -50.10366296]\n",
      "la\n",
      "alpha\n",
      "[-52.478064   -56.56432027 -53.55826688]\n",
      "la\n",
      "alpha\n",
      "[-46.6432514  -51.27733642 -49.01338314]\n",
      "la\n",
      "alpha\n",
      "[-51.49745597 -56.19281448 -53.92702532]\n",
      "la\n",
      "alpha\n",
      "[-47.61969495 -50.55780083 -46.80543669]\n",
      "la\n",
      "alpha\n",
      "[-52.56985351 -50.91999959 -53.26075942]\n",
      "la\n",
      "alpha\n",
      "[-48.6742645  -51.53441684 -47.65714777]\n",
      "la\n",
      "alpha\n",
      "[-44.33351132 -47.0229013  -43.07617231]\n",
      "la\n",
      "alpha\n",
      "[-54.30554732 -58.20505789 -55.11292947]\n",
      "la\n",
      "alpha\n",
      "[-51.00322031 -55.70852516 -53.46515969]\n",
      "la\n",
      "alpha\n",
      "[-55.56768022 -58.56506915 -54.98522622]\n",
      "la\n",
      "alpha\n",
      "[-56.19285136 -58.5675811  -54.20596384]\n",
      "la\n",
      "alpha\n",
      "[-48.60424481 -50.50557479 -45.8512269 ]\n",
      "la\n",
      "alpha\n",
      "[-53.13884043 -57.55187287 -54.91729795]\n",
      "la\n",
      "alpha\n",
      "[-51.8079417  -56.50595105 -54.25012653]\n",
      "la\n",
      "alpha\n",
      "[-55.02974759 -57.02420628 -52.4217209 ]\n",
      "la\n",
      "alpha\n",
      "[-53.55427178 -55.58704533 -50.99806499]\n",
      "la\n",
      "alpha\n",
      "[-45.26249091 -49.69545629 -47.00272356]\n",
      "la\n",
      "alpha\n",
      "[-43.61188192 -48.06687351 -45.40238693]\n",
      "la\n",
      "alpha\n",
      "[-51.80990233 -50.78203184 -52.7929024 ]\n",
      "la\n",
      "alpha\n",
      "[-50.63178828 -54.72129946 -51.71829084]\n",
      "la\n",
      "alpha\n",
      "[-49.84284286 -53.26342798 -50.39497125]\n",
      "la\n",
      "alpha\n",
      "[-49.88882073 -53.7211606  -50.52447206]\n",
      "la\n",
      "alpha\n",
      "[-52.93185659 -55.30175671 -50.93595169]\n",
      "la\n",
      "alpha\n",
      "[-51.00468017 -52.95792497 -48.32811242]\n",
      "la\n",
      "alpha\n",
      "[-46.71869228 -43.49566983 -47.03537373]\n",
      "la\n",
      "alpha\n",
      "[-49.33549675 -50.97401765 -50.72294381]\n",
      "la\n",
      "alpha\n",
      "[-46.16500793 -50.82423963 -48.4828731 ]\n",
      "la\n",
      "alpha\n",
      "[-53.04477439 -51.45373045 -52.71115007]\n",
      "la\n",
      "alpha\n",
      "[-53.57977746 -52.25858408 -53.74194778]\n",
      "la\n",
      "alpha\n",
      "[-60.09782251 -56.10571748 -60.08203257]\n",
      "la\n",
      "alpha\n",
      "[-48.20168143 -52.70707728 -50.1091894 ]\n",
      "la\n",
      "alpha\n",
      "[-49.57479776 -51.97547881 -47.63697066]\n",
      "la\n",
      "alpha\n",
      "[-47.56980727 -52.22676836 -49.88113149]\n",
      "la\n",
      "alpha\n",
      "[-47.40660019 -52.01935546 -49.58995176]\n",
      "la\n",
      "alpha\n",
      "[-60.73793997 -56.71366853 -60.73932611]\n",
      "la\n",
      "alpha\n",
      "[-56.48199125 -56.50057077 -54.86428786]\n",
      "la\n",
      "alpha\n",
      "[-50.87786664 -49.11582427 -50.30137155]\n",
      "la\n",
      "alpha\n",
      "[-50.76575463 -53.42294533 -49.29728367]\n",
      "la\n",
      "alpha\n",
      "[-53.31309368 -55.30204697 -50.68998922]\n",
      "-2484.839599609375\n",
      "-2484.839599609375\n"
     ]
    }
   ],
   "source": [
    "t, e = create_data( dthmm, (50,50) )\n",
    "\n",
    "ct = hmms.CtHMM.random(3,3)\n",
    "dt = hmms.DtHMM( *get_dthmm_params(ct) )\n",
    "    \n",
    "#hmms.print_parameters( dt )\n",
    "#hmms.print_parameters( ct )\n",
    "\n",
    "creal = cthmm.data_estimate(t,e)\n",
    "dreal = dthmm.data_estimate(e)\n",
    "print(creal)\n",
    "print(dreal)"
   ]
  },
  {
   "cell_type": "code",
   "execution_count": 27,
   "metadata": {
    "collapsed": false
   },
   "outputs": [
    {
     "name": "stdout",
     "output_type": "stream",
     "text": [
      "alpha\n",
      "[-55.92248229 -58.97715978 -56.38109707]\n",
      "alpha\n",
      "[-59.9063692  -55.83046616 -54.8284762 ]\n",
      "alpha\n",
      "[-59.15867971 -55.08506711 -54.07788799]\n",
      "alpha\n",
      "[-60.16913954 -56.08508225 -55.10171763]\n",
      "alpha\n",
      "[-59.96376083 -55.97512741 -55.46344402]\n",
      "alpha\n",
      "[-55.35188666 -57.65070501 -55.44413941]\n",
      "alpha\n",
      "[-60.17696145 -56.05619286 -55.16454268]\n",
      "alpha\n",
      "[-60.14447579 -56.07205772 -55.06217887]\n",
      "alpha\n",
      "[-59.61950903 -55.54581659 -54.53881811]\n",
      "alpha\n",
      "[-57.26218844 -56.21158575 -58.31063251]\n",
      "alpha\n",
      "[-56.89123334 -55.74548923 -57.3729151 ]\n",
      "alpha\n",
      "[-57.11079214 -53.92910799 -52.61014854]\n",
      "alpha\n",
      "[-60.54644199 -56.53100328 -56.00503803]\n",
      "alpha\n",
      "[-57.21468616 -56.08473805 -57.67633678]\n",
      "alpha\n",
      "[-54.2070589  -57.44247343 -54.80986057]\n",
      "alpha\n",
      "[-59.09137854 -55.09978925 -54.59106609]\n",
      "alpha\n",
      "[-57.36148804 -56.25573546 -57.80360136]\n",
      "alpha\n",
      "[-55.70927657 -54.57267273 -56.17923106]\n",
      "alpha\n",
      "[-54.57610623 -56.92212838 -54.59993437]\n",
      "alpha\n",
      "[-57.95118795 -54.77159666 -53.45225954]\n",
      "alpha\n",
      "[-58.56150983 -54.57767759 -54.06540264]\n",
      "alpha\n",
      "[-56.24951158 -55.20839635 -57.30297258]\n",
      "alpha\n",
      "[-56.80000458 -59.8725085  -57.282718  ]\n",
      "alpha\n",
      "[-59.33189232 -55.97128684 -54.69276297]\n",
      "alpha\n",
      "[-60.24736894 -56.12659448 -55.2349575 ]\n",
      "alpha\n",
      "[-55.69890271 -54.63112571 -56.70152768]\n",
      "alpha\n",
      "[-52.99380428 -56.23401635 -53.59928349]\n",
      "alpha\n",
      "[-56.7267642  -55.58057024 -57.20903234]\n",
      "alpha\n",
      "[-57.65161782 -56.4732909  -58.18185608]\n",
      "alpha\n",
      "[-59.40190773 -55.3953867  -54.85584755]\n",
      "alpha\n",
      "[-60.24845504 -56.17467404 -55.16787593]\n",
      "alpha\n",
      "[-55.35360984 -57.75841106 -55.91641287]\n",
      "alpha\n",
      "[-57.83453915 -56.65489136 -58.36654265]\n",
      "alpha\n",
      "[-57.42389078 -54.24220225 -52.92324359]\n",
      "alpha\n",
      "[-56.38232561 -55.33238969 -57.43077513]\n",
      "alpha\n",
      "[-58.51812919 -55.33682393 -54.01907123]\n",
      "alpha\n",
      "[-54.90247807 -58.14269811 -55.5079622 ]\n",
      "alpha\n",
      "[-60.09668102 -56.02300593 -55.0159682 ]\n",
      "alpha\n",
      "[-55.59606646 -58.02740724 -56.20015847]\n",
      "alpha\n",
      "[-59.52827277 -55.51327258 -54.98666766]\n",
      "alpha\n",
      "[-60.24613792 -56.14753511 -55.20632102]\n",
      "alpha\n",
      "[-58.67039676 -55.4907127  -54.17139073]\n",
      "alpha\n",
      "[-58.00412959 -56.85864531 -58.48547569]\n",
      "alpha\n",
      "[-53.50314874 -56.55775327 -53.96167682]\n",
      "alpha\n",
      "[-54.81066499 -53.73346392 -55.81825824]\n",
      "alpha\n",
      "[-56.1890176  -55.38424773 -57.27239305]\n",
      "alpha\n",
      "[-56.01447127 -58.39254461 -56.01263487]\n",
      "alpha\n",
      "[-55.49083198 -54.41362282 -56.49842146]\n",
      "alpha\n",
      "[-57.41323009 -56.23404302 -57.94461225]\n",
      "alpha\n",
      "[-56.38026862 -55.19779785 -56.91687742]\n",
      "iter  0\n",
      "alpha\n",
      "[-55.92248229 -58.97715978 -56.38109707]\n",
      "alpha\n",
      "[-59.9063692  -55.83046616 -54.8284762 ]\n",
      "alpha\n",
      "[-59.15867971 -55.08506711 -54.07788799]\n",
      "alpha\n",
      "[-60.16913954 -56.08508225 -55.10171763]\n",
      "alpha\n",
      "[-59.96376083 -55.97512741 -55.46344402]\n",
      "alpha\n",
      "[-55.35188666 -57.65070501 -55.44413941]\n",
      "alpha\n",
      "[-60.17696145 -56.05619286 -55.16454268]\n",
      "alpha\n",
      "[-60.14447579 -56.07205772 -55.06217887]\n",
      "alpha\n",
      "[-59.61950903 -55.54581659 -54.53881811]\n",
      "alpha\n",
      "[-57.26218844 -56.21158575 -58.31063251]\n",
      "alpha\n",
      "[-56.89123334 -55.74548923 -57.3729151 ]\n",
      "alpha\n",
      "[-57.11079214 -53.92910799 -52.61014854]\n",
      "alpha\n",
      "[-60.54644199 -56.53100328 -56.00503803]\n",
      "alpha\n",
      "[-57.21468616 -56.08473805 -57.67633678]\n",
      "alpha\n",
      "[-54.2070589  -57.44247343 -54.80986057]\n",
      "alpha\n",
      "[-59.09137854 -55.09978925 -54.59106609]\n",
      "alpha\n",
      "[-57.36148804 -56.25573546 -57.80360136]\n",
      "alpha\n",
      "[-55.70927657 -54.57267273 -56.17923106]\n",
      "alpha\n",
      "[-54.57610623 -56.92212838 -54.59993437]\n",
      "alpha\n",
      "[-57.95118795 -54.77159666 -53.45225954]\n",
      "alpha\n",
      "[-58.56150983 -54.57767759 -54.06540264]\n",
      "alpha\n",
      "[-56.24951158 -55.20839635 -57.30297258]\n",
      "alpha\n",
      "[-56.80000458 -59.8725085  -57.282718  ]\n",
      "alpha\n",
      "[-59.33189232 -55.97128684 -54.69276297]\n",
      "alpha\n",
      "[-60.24736894 -56.12659448 -55.2349575 ]\n",
      "alpha\n",
      "[-55.69890271 -54.63112571 -56.70152768]\n",
      "alpha\n",
      "[-52.99380428 -56.23401635 -53.59928349]\n",
      "alpha\n",
      "[-56.7267642  -55.58057024 -57.20903234]\n",
      "alpha\n",
      "[-57.65161782 -56.4732909  -58.18185608]\n",
      "alpha\n",
      "[-59.40190773 -55.3953867  -54.85584755]\n",
      "alpha\n",
      "[-60.24845504 -56.17467404 -55.16787593]\n",
      "alpha\n",
      "[-55.35360984 -57.75841106 -55.91641287]\n",
      "alpha\n",
      "[-57.83453915 -56.65489136 -58.36654265]\n",
      "alpha\n",
      "[-57.42389078 -54.24220225 -52.92324359]\n",
      "alpha\n",
      "[-56.38232561 -55.33238969 -57.43077513]\n",
      "alpha\n",
      "[-58.51812919 -55.33682393 -54.01907123]\n",
      "alpha\n",
      "[-54.90247807 -58.14269811 -55.5079622 ]\n",
      "alpha\n",
      "[-60.09668102 -56.02300593 -55.0159682 ]\n",
      "alpha\n",
      "[-55.59606646 -58.02740724 -56.20015847]\n",
      "alpha\n",
      "[-59.52827277 -55.51327258 -54.98666766]\n",
      "alpha\n",
      "[-60.24613792 -56.14753511 -55.20632102]\n",
      "alpha\n",
      "[-58.67039676 -55.4907127  -54.17139073]\n",
      "alpha\n",
      "[-58.00412959 -56.85864531 -58.48547569]\n",
      "alpha\n",
      "[-53.50314874 -56.55775327 -53.96167682]\n",
      "alpha\n",
      "[-54.81066499 -53.73346392 -55.81825824]\n",
      "alpha\n",
      "[-56.1890176  -55.38424773 -57.27239305]\n",
      "alpha\n",
      "[-56.01447127 -58.39254461 -56.01263487]\n",
      "alpha\n",
      "[-55.49083198 -54.41362282 -56.49842146]\n",
      "alpha\n",
      "[-57.41323009 -56.23404302 -57.94461225]\n",
      "alpha\n",
      "[-56.38026862 -55.19779785 -56.91687742]\n",
      "alpha\n",
      "[-51.5776326  -55.00899802 -52.25478228]\n",
      "alpha\n",
      "[-56.82725384 -52.65653153 -51.62777387]\n",
      "alpha\n",
      "[-59.31419829 -55.14668584 -54.11118313]\n",
      "alpha\n",
      "[-56.39687023 -52.21537421 -51.20945989]\n",
      "alpha\n",
      "[-58.54907514 -54.43069649 -53.95370363]\n",
      "alpha\n",
      "[-50.73094254 -53.29293783 -50.96935991]\n",
      "alpha\n",
      "[-55.68052774 -51.4515719  -50.55483969]\n",
      "alpha\n",
      "[-59.02711358 -54.86113347 -53.82241986]\n",
      "alpha\n",
      "[-52.63969465 -48.47206521 -47.43680794]\n",
      "alpha\n",
      "[-52.4325331  -51.22409301 -53.46053424]\n",
      "alpha\n",
      "[-56.00420144 -54.73305127 -56.44064266]\n",
      "alpha\n",
      "[-57.44407491 -54.28528421 -52.92154017]\n",
      "alpha\n",
      "[-60.06016424 -55.91920619 -55.42300668]\n",
      "alpha\n",
      "[-53.46709215 -52.21665623 -53.88064684]\n",
      "alpha\n",
      "[-53.66932361 -57.29560381 -54.50644907]\n",
      "alpha\n",
      "[-53.66409263 -49.5415736  -49.06849132]\n",
      "alpha\n",
      "[-54.40294261 -53.18119826 -54.79727227]\n",
      "alpha\n",
      "[-58.8117468  -57.55283675 -59.23449   ]\n",
      "alpha\n",
      "[-51.81696103 -54.44035687 -51.97809984]\n",
      "alpha\n",
      "[-55.69526398 -52.53808173 -51.17407854]\n",
      "alpha\n",
      "[-54.24985264 -50.13336856 -49.65822559]\n",
      "alpha\n",
      "[-53.66586829 -52.4656937  -54.69885403]\n",
      "alpha\n",
      "[-49.94269483 -53.39388337 -50.64603546]\n",
      "alpha\n",
      "[-59.72675732 -56.37157359 -55.04672154]\n",
      "alpha\n",
      "[-52.5143602  -48.28539378 -47.38868397]\n",
      "alpha\n",
      "[-48.61140727 -47.39336635 -49.59276952]\n",
      "alpha\n",
      "[-53.77260445 -57.40658506 -54.61529406]\n",
      "alpha\n",
      "[-51.25732156 -49.98542952 -51.69460661]\n",
      "alpha\n",
      "[-50.70712549 -49.39501674 -51.19671259]\n",
      "alpha\n",
      "[-57.22976889 -53.1006985  -52.58782116]\n",
      "alpha\n",
      "[-57.3440572  -53.1762904  -52.14132131]\n",
      "alpha\n",
      "[-50.24030708 -52.89116951 -50.96679086]\n",
      "alpha\n",
      "[-53.60215026 -52.28823373 -54.09387509]\n",
      "alpha\n",
      "[-58.91289762 -55.7541028  -54.39035943]\n",
      "alpha\n",
      "[-52.45103415 -51.24356873 -53.47909543]\n",
      "alpha\n",
      "[-54.84663523 -51.684406   -50.32213497]\n",
      "alpha\n",
      "[-55.15757107 -58.79169181 -56.00037748]\n",
      "alpha\n",
      "[-57.32815528 -53.16055329 -52.12523841]\n",
      "alpha\n",
      "[-47.99745928 -50.67050667 -48.76597888]\n",
      "alpha\n",
      "[-57.83104123 -53.69074403 -53.19364917]\n",
      "alpha\n",
      "[-55.86683276 -51.66852143 -50.70771076]\n",
      "alpha\n",
      "[-60.30514425 -57.14806552 -55.7840449 ]\n",
      "alpha\n",
      "[-51.55318329 -50.28241002 -51.98919866]\n",
      "alpha\n",
      "[-58.87890975 -62.31020181 -59.55597466]\n",
      "alpha\n",
      "[-51.68016166 -50.44926608 -52.66673132]\n",
      "alpha\n",
      "[-56.34035432 -55.43900629 -57.42273755]\n",
      "alpha\n",
      "[-50.38614791 -53.04780375 -50.52157753]\n",
      "alpha\n",
      "[-54.09295088 -52.86211404 -55.07949443]\n",
      "alpha\n",
      "[-49.92889902 -48.61564035 -50.41983898]\n",
      "alpha\n",
      "[-53.18409162 -51.86582274 -53.68178501]\n"
     ]
    },
    {
     "data": {
      "image/png": "[encoded data removed]",
      "text/plain": [
       "<matplotlib.figure.Figure at 0x7f51b09495f8>"
      ]
     },
     "metadata": {},
     "output_type": "display_data"
    }
   ],
   "source": [
    "\n",
    "out = dt.baum_welch_graph( e, 1 )\n",
    "plt.plot( out[2:] / dreal  )\n",
    "\n",
    "outc = ct.baum_welch_graph( t,e, 1 )\n",
    "plt.plot( outc[2:] / dreal  )\n",
    "\n",
    "plt.show()\n"
   ]
  },
  {
   "cell_type": "code",
   "execution_count": 28,
   "metadata": {
    "collapsed": false
   },
   "outputs": [
    {
     "data": {
      "image/png": "[encoded data removed]",
      "text/plain": [
       "<matplotlib.figure.Figure at 0x7f51b04e1a58>"
      ]
     },
     "metadata": {},
     "output_type": "display_data"
    }
   ],
   "source": [
    "\n",
    "plt.plot( out[1:] / dreal  )\n",
    "plt.plot( outc[1:] / dreal  )\n",
    "#plt.savefig('100itchmmvsdtmm3.svg')\n",
    "plt.show()\n"
   ]
  },
  {
   "cell_type": "code",
   "execution_count": 29,
   "metadata": {
    "collapsed": false
   },
   "outputs": [
    {
     "name": "stdout",
     "output_type": "stream",
     "text": [
      "alpha\n",
      "[-51.5776326  -55.00899802 -52.25478228]\n",
      "alpha\n",
      "[-56.82725384 -52.65653153 -51.62777387]\n",
      "alpha\n",
      "[-59.31419829 -55.14668584 -54.11118313]\n",
      "alpha\n",
      "[-56.39687023 -52.21537421 -51.20945989]\n",
      "alpha\n",
      "[-58.54907514 -54.43069649 -53.95370363]\n",
      "alpha\n",
      "[-50.73094254 -53.29293783 -50.96935991]\n",
      "alpha\n",
      "[-55.68052774 -51.4515719  -50.55483969]\n",
      "alpha\n",
      "[-59.02711358 -54.86113347 -53.82241986]\n",
      "alpha\n",
      "[-52.63969465 -48.47206521 -47.43680794]\n",
      "alpha\n",
      "[-52.4325331  -51.22409301 -53.46053424]\n",
      "alpha\n",
      "[-56.00420144 -54.73305127 -56.44064266]\n",
      "alpha\n",
      "[-57.44407491 -54.28528421 -52.92154017]\n",
      "alpha\n",
      "[-60.06016424 -55.91920619 -55.42300668]\n",
      "alpha\n",
      "[-53.46709215 -52.21665623 -53.88064684]\n",
      "alpha\n",
      "[-53.66932361 -57.29560381 -54.50644907]\n",
      "alpha\n",
      "[-53.66409263 -49.5415736  -49.06849132]\n",
      "alpha\n",
      "[-54.40294261 -53.18119826 -54.79727227]\n",
      "alpha\n",
      "[-58.8117468  -57.55283675 -59.23449   ]\n",
      "alpha\n",
      "[-51.81696103 -54.44035687 -51.97809984]\n",
      "alpha\n",
      "[-55.69526398 -52.53808173 -51.17407854]\n",
      "alpha\n",
      "[-54.24985264 -50.13336856 -49.65822559]\n",
      "alpha\n",
      "[-53.66586829 -52.4656937  -54.69885403]\n",
      "alpha\n",
      "[-49.94269483 -53.39388337 -50.64603546]\n",
      "alpha\n",
      "[-59.72675732 -56.37157359 -55.04672154]\n",
      "alpha\n",
      "[-52.5143602  -48.28539378 -47.38868397]\n",
      "alpha\n",
      "[-48.61140727 -47.39336635 -49.59276952]\n",
      "alpha\n",
      "[-53.77260445 -57.40658506 -54.61529406]\n",
      "alpha\n",
      "[-51.25732156 -49.98542952 -51.69460661]\n",
      "alpha\n",
      "[-50.70712549 -49.39501674 -51.19671259]\n",
      "alpha\n",
      "[-57.22976889 -53.1006985  -52.58782116]\n",
      "alpha\n",
      "[-57.3440572  -53.1762904  -52.14132131]\n",
      "alpha\n",
      "[-50.24030708 -52.89116951 -50.96679086]\n",
      "alpha\n",
      "[-53.60215026 -52.28823373 -54.09387509]\n",
      "alpha\n",
      "[-58.91289762 -55.7541028  -54.39035943]\n",
      "alpha\n",
      "[-52.45103415 -51.24356873 -53.47909543]\n",
      "alpha\n",
      "[-54.84663523 -51.684406   -50.32213497]\n",
      "alpha\n",
      "[-55.15757107 -58.79169181 -56.00037748]\n",
      "alpha\n",
      "[-57.32815528 -53.16055329 -52.12523841]\n",
      "alpha\n",
      "[-47.99745928 -50.67050667 -48.76597888]\n",
      "alpha\n",
      "[-57.83104123 -53.69074403 -53.19364917]\n",
      "alpha\n",
      "[-55.86683276 -51.66852143 -50.70771076]\n",
      "alpha\n",
      "[-60.30514425 -57.14806552 -55.7840449 ]\n",
      "alpha\n",
      "[-51.55318329 -50.28241002 -51.98919866]\n",
      "alpha\n",
      "[-58.87890975 -62.31020181 -59.55597466]\n",
      "alpha\n",
      "[-51.68016166 -50.44926608 -52.66673132]\n",
      "alpha\n",
      "[-56.34035432 -55.43900629 -57.42273755]\n",
      "alpha\n",
      "[-50.38614791 -53.04780375 -50.52157753]\n",
      "alpha\n",
      "[-54.09295088 -52.86211404 -55.07949443]\n",
      "alpha\n",
      "[-49.92889902 -48.61564035 -50.41983898]\n",
      "alpha\n",
      "[-53.18409162 -51.86582274 -53.68178501]\n",
      "-2581.042236328125\n",
      "-2563.478759765625\n"
     ]
    }
   ],
   "source": [
    "cest = ct.data_estimate(t,e)\n",
    "dest = dt.data_estimate(e)\n",
    "print(cest)\n",
    "print(dest)"
   ]
  },
  {
   "cell_type": "code",
   "execution_count": 1,
   "metadata": {
    "collapsed": false
   },
   "outputs": [],
   "source": [
    "import numpy as np\n",
    "import matplotlib.pyplot as plt\n",
    "import hmms\n",
    "\n",
    "%matplotlib inline\n",
    "import numpy\n",
    "\n",
    "Q = numpy.array( [[-0.375,0.125,0.25],[0.25,-0.5,0.25],[0.25,0.125,-0.375]] )\n",
    "B = numpy.array( [[0.8,0.05,0.15],[0.05,0.9,0.05],[0.2,0.05,0.75]] )\n",
    "Pi = numpy.array( [0.6,0,0.4] )\n",
    "cthmm = hmms.CtHMM(Q,B,Pi)\n",
    "#hmms.print_parameters(cthmm)"
   ]
  },
  {
   "cell_type": "code",
   "execution_count": 2,
   "metadata": {
    "collapsed": true
   },
   "outputs": [],
   "source": [
    "data = ( numpy.array([ [ 0,  1,  2,  3,  6,  8, 13, 14, 15, 16],\n",
    "                           [ 0,  1,  2,  3,  5,  8, 10, 14, 17, 20],\n",
    "                           [ 0,  6,  9, 14, 17, 21, 22, 25, 29, 30],\n",
    "                           [ 0,  1,  2,  5,  8, 10, 11, 14, 16, 17],\n",
    "                           [ 0,  1,  3,  5,  7,  9, 12, 15, 16, 22 ] ] ),\n",
    "             numpy.array([ [0, 0, 0, 0, 2, 1, 1, 1, 2, 0],\n",
    "                           [0, 0, 0, 1, 0, 0, 0, 0, 0, 2],\n",
    "                           [0, 0, 1, 0, 2, 0, 0, 2, 2, 2],\n",
    "                           [0, 0, 0, 2, 1, 2, 2, 2, 2, 0],\n",
    "                           [2, 0, 0, 2, 0, 2, 2, 0, 0, 0] ] )\n",
    "           )\n",
    "\n",
    "data = ( numpy.array([ [ 0,  1,  2,  3,  4,  5, 6, 7, 8, 10],\n",
    "                           [ 0,  1,  2,  3,  4,  5, 6, 7, 8, 9],\n",
    "                           [ 0,  1,  2,  3,  4,  5, 6, 7, 8, 9],\n",
    "                           [ 0,  1,  2,  3,  4,  5, 6, 7, 8, 9],\n",
    "                           [ 0,  1,  2,  3,  4,  5, 6, 7, 8, 9] ] ),\n",
    "             numpy.array([ [0, 0, 0, 0, 2, 1, 1, 1, 2, 0],\n",
    "                           [0, 0, 0, 1, 0, 0, 0, 0, 0, 2],\n",
    "                           [0, 0, 1, 0, 2, 0, 0, 2, 2, 2],\n",
    "                           [0, 0, 0, 2, 1, 2, 2, 2, 2, 0],\n",
    "                           [2, 0, 0, 2, 0, 2, 2, 0, 0, 0] ] )\n",
    "           )\n",
    "\n",
    "\n",
    "#data = ( numpy.array([[8,10]]) , numpy.array([[2,0]])  )\n",
    "\n",
    "datae = ( numpy.array([ [ 0,  1,  2,  3,  4,  5, 6, 7, 8, 9],\n",
    "                           [ 0,  1,  2,  3,  4,  5, 6, 7, 8, 9],\n",
    "                           [ 0,  1,  2,  3,  4,  5, 6, 7, 8, 9],\n",
    "                           [ 0,  1,  2,  3,  4,  5, 6, 7, 8, 9],\n",
    "                           [ 0,  1,  2,  3,  4,  5, 6, 7, 8, 9] ] ),\n",
    "             numpy.array([ [0, 0, 0, 0, 2, 1, 1, 1, 2, 0],\n",
    "                           [0, 0, 0, 1, 0, 0, 0, 0, 0, 2],\n",
    "                           [0, 0, 1, 0, 2, 0, 0, 2, 2, 2],\n",
    "                           [0, 0, 0, 2, 1, 2, 2, 2, 2, 0],\n",
    "                           [2, 0, 0, 2, 0, 2, 2, 0, 0, 0] ] )\n",
    "           )\n"
   ]
  },
  {
   "cell_type": "code",
   "execution_count": 3,
   "metadata": {
    "collapsed": false
   },
   "outputs": [],
   "source": [
    "#for i in range(5):\n",
    "#    hmms.plot_hmm( data[0][i], data[1][i], time = data[0][i] )"
   ]
  },
  {
   "cell_type": "code",
   "execution_count": 4,
   "metadata": {
    "collapsed": false
   },
   "outputs": [
    {
     "data": {
      "text/plain": [
       "(-45.7197380065918, -45.82431411743164)"
      ]
     },
     "execution_count": 4,
     "metadata": {},
     "output_type": "execute_result"
    }
   ],
   "source": [
    "t,e = data\n",
    "te,ee = datae\n",
    "\n",
    "\n",
    "cthmme = hmms.CtHMM( *cthmm.params )\n",
    "\n",
    "ceste = cthmme.data_estimate(te,ee)\n",
    "\n",
    "cest = cthmm.data_estimate(t,e)\n",
    "( cest, ceste )"
   ]
  },
  {
   "cell_type": "code",
   "execution_count": 5,
   "metadata": {
    "collapsed": false
   },
   "outputs": [
    {
     "name": "stdout",
     "output_type": "stream",
     "text": [
      "iter  0\n",
      "[[ 0.72115686  0.09294771  0.18589543  0.70961334  0.0455119   0.09102379]\n",
      " [ 0.18589543  0.62820914  0.18589543  0.09102379  0.00384784  0.00769568]\n",
      " [ 0.18589543  0.09294771  0.72115686  0.09102379  0.00384784  0.00769568]\n",
      " [ 0.          0.          0.          0.72115686  0.09294771  0.18589543]\n",
      " [ 0.          0.          0.          0.18589543  0.62820914  0.18589543]\n",
      " [ 0.          0.          0.          0.18589543  0.09294771  0.72115686]]\n",
      "tm ix 1 0\n",
      "0 0 [[ 0.72115686  0.09294771  0.18589543  0.70961334  0.0455119   0.09102379]\n",
      " [ 0.18589543  0.62820914  0.18589543  0.09102379  0.00384784  0.00769568]\n",
      " [ 0.18589543  0.09294771  0.72115686  0.09102379  0.00384784  0.00769568]\n",
      " [ 0.          0.          0.          0.72115686  0.09294771  0.18589543]\n",
      " [ 0.          0.          0.          0.18589543  0.62820914  0.18589543]\n",
      " [ 0.          0.          0.          0.18589543  0.09294771  0.72115686]]\n",
      "t1 [[ 0.  0.  0.  0.  0.  0.]\n",
      " [ 0.  0.  0.  0.  0.  0.]\n",
      " [ 0.  0.  0.  0.  0.  0.]\n",
      " [ 0.  0.  0.  0.  0.  0.]\n",
      " [ 0.  0.  0.  0.  0.  0.]\n",
      " [ 0.  0.  0.  0.  0.  0.]]\n",
      "0 0 [[ 0.72115686  0.09294771  0.18589543  0.70961334  0.0455119   0.09102379]\n",
      " [ 0.18589543  0.62820914  0.18589543  0.09102379  0.00384784  0.00769568]\n",
      " [ 0.18589543  0.09294771  0.72115686  0.09102379  0.00384784  0.00769568]\n",
      " [ 0.          0.          0.          0.72115686  0.09294771  0.18589543]\n",
      " [ 0.          0.          0.          0.18589543  0.62820914  0.18589543]\n",
      " [ 0.          0.          0.          0.18589543  0.09294771  0.72115686]]\n",
      "t2 [[ 0.72115686  0.09294771  0.18589543  0.70961334  0.0455119   0.09102379]\n",
      " [ 0.18589543  0.62820914  0.18589543  0.09102379  0.00384784  0.00769568]\n",
      " [ 0.18589543  0.09294771  0.72115686  0.09102379  0.00384784  0.00769568]\n",
      " [ 0.          0.          0.          0.72115686  0.09294771  0.18589543]\n",
      " [ 0.          0.          0.          0.18589543  0.62820914  0.18589543]\n",
      " [ 0.          0.          0.          0.18589543  0.09294771  0.72115686]]\n",
      "x 0 0 [[ 0.72115686  0.09294771  0.18589543  0.98399305  0.48965053  0.48965053]\n",
      " [ 0.18589543  0.62820914  0.18589543  0.48965053  0.00612509  0.0413979 ]\n",
      " [ 0.18589543  0.09294771  0.72115686  0.48965053  0.0413979   0.0106713 ]\n",
      " [ 0.          0.          0.          0.72115686  0.09294771  0.18589543]\n",
      " [ 0.          0.          0.          0.18589543  0.62820914  0.18589543]\n",
      " [ 0.          0.          0.          0.18589543  0.09294771  0.72115686]]\n",
      "h 0 0 [[ 0.72115686  0.09294771  0.18589543  0.98399305  0.48965053  0.48965053]\n",
      " [ 0.18589543  0.62820914  0.18589543  0.48965053  0.00612509  0.0413979 ]\n",
      " [ 0.18589543  0.09294771  0.72115686  0.48965053  0.0413979   0.0106713 ]\n",
      " [ 0.          0.          0.          0.72115686  0.09294771  0.18589543]\n",
      " [ 0.          0.          0.          0.18589543  0.62820914  0.18589543]\n",
      " [ 0.          0.          0.          0.18589543  0.09294771  0.72115686]]\n",
      "tau\n",
      " [ 24.22190595   4.77573699  15.00235706]\n",
      "tm ix 2 1\n",
      "0 0 [[ 0.72115686  0.09294771  0.18589543  0.98399305  0.48965053  0.48965053]\n",
      " [ 0.18589543  0.62820914  0.18589543  0.48965053  0.00612509  0.0413979 ]\n",
      " [ 0.18589543  0.09294771  0.72115686  0.48965053  0.0413979   0.0106713 ]\n",
      " [ 0.          0.          0.          0.72115686  0.09294771  0.18589543]\n",
      " [ 0.          0.          0.          0.18589543  0.62820914  0.18589543]\n",
      " [ 0.          0.          0.          0.18589543  0.09294771  0.72115686]]\n",
      "t1 [[ 0.72115686  0.09294771  0.18589543  0.0106713   0.0413979   0.48965053]\n",
      " [ 0.18589543  0.62820914  0.18589543  0.0413979   0.00612509  0.48965053]\n",
      " [ 0.18589543  0.09294771  0.72115686  0.48965053  0.48965053  0.98399305]\n",
      " [ 0.          0.          0.          0.72115686  0.09294771  0.18589543]\n",
      " [ 0.          0.          0.          0.18589543  0.62820914  0.18589543]\n",
      " [ 0.          0.          0.          0.18589543  0.09294771  0.72115686]]\n",
      "0 0 [[ 0.72115686  0.09294771  0.18589543  0.98399305  0.48965053  0.48965053]\n",
      " [ 0.18589543  0.62820914  0.18589543  0.48965053  0.00612509  0.0413979 ]\n",
      " [ 0.18589543  0.09294771  0.72115686  0.48965053  0.0413979   0.0106713 ]\n",
      " [ 0.          0.          0.          0.72115686  0.09294771  0.18589543]\n",
      " [ 0.          0.          0.          0.18589543  0.62820914  0.18589543]\n",
      " [ 0.          0.          0.          0.18589543  0.09294771  0.72115686]]\n",
      "t2 [[ 0.72115686  0.09294771  0.18589543  0.98399305  0.48965053  0.48965053]\n",
      " [ 0.18589543  0.62820914  0.18589543  0.48965053  0.00612509  0.0413979 ]\n",
      " [ 0.18589543  0.09294771  0.72115686  0.48965053  0.0413979   0.0106713 ]\n",
      " [ 0.          0.          0.          0.72115686  0.09294771  0.18589543]\n",
      " [ 0.          0.          0.          0.18589543  0.62820914  0.18589543]\n",
      " [ 0.          0.          0.          0.18589543  0.09294771  0.72115686]]\n",
      "x 0 0 [[ 0.72115686  0.09294771  0.18589543  0.98399305  0.48965053  0.48965053]\n",
      " [ 0.18589543  0.62820914  0.18589543  0.48965053  0.00612509  0.0413979 ]\n",
      " [ 0.18589543  0.09294771  0.72115686  0.48965053  0.0413979   0.0106713 ]\n",
      " [ 0.          0.          0.          0.72115686  0.09294771  0.18589543]\n",
      " [ 0.          0.          0.          0.18589543  0.62820914  0.18589543]\n",
      " [ 0.          0.          0.          0.18589543  0.09294771  0.72115686]]\n",
      "h 0 0 [[ 0.72115686  0.09294771  0.18589543  0.98399305  0.48965053  0.48965053]\n",
      " [ 0.18589543  0.62820914  0.18589543  0.48965053  0.00612509  0.0413979 ]\n",
      " [ 0.18589543  0.09294771  0.72115686  0.48965053  0.0413979   0.0106713 ]\n",
      " [ 0.          0.          0.          0.72115686  0.09294771  0.18589543]\n",
      " [ 0.          0.          0.          0.18589543  0.62820914  0.18589543]\n",
      " [ 0.          0.          0.          0.18589543  0.09294771  0.72115686]]\n",
      "tau\n",
      " [ 26.73366218   5.62934976  17.57206756]\n",
      "tau\n",
      " [ 26.73366218   5.62934976  17.57206756]\n",
      "iter  0\n",
      "[[ 0.77522672  0.05734538  0.1674279   0.76474128  0.02914328  0.08297464]\n",
      " [ 0.23223042  0.53658625  0.23118333  0.11723045  0.00304319  0.00855376]\n",
      " [ 0.20696866  0.06202273  0.73100861  0.10284118  0.00264829  0.00744224]\n",
      " [ 0.          0.          0.          0.77522672  0.05734538  0.1674279 ]\n",
      " [ 0.          0.          0.          0.23223042  0.53658625  0.23118333]\n",
      " [ 0.          0.          0.          0.20696866  0.06202273  0.73100861]]\n",
      "tm ix 1 0\n",
      "0 0 [[ 0.77522672  0.05734538  0.1674279   0.76474128  0.02914328  0.08297464]\n",
      " [ 0.23223042  0.53658625  0.23118333  0.11723045  0.00304319  0.00855376]\n",
      " [ 0.20696866  0.06202273  0.73100861  0.10284118  0.00264829  0.00744224]\n",
      " [ 0.          0.          0.          0.77522672  0.05734538  0.1674279 ]\n",
      " [ 0.          0.          0.          0.23223042  0.53658625  0.23118333]\n",
      " [ 0.          0.          0.          0.20696866  0.06202273  0.73100861]]\n",
      "t1 [[ 0.  0.  0.  0.  0.  0.]\n",
      " [ 0.  0.  0.  0.  0.  0.]\n",
      " [ 0.  0.  0.  0.  0.  0.]\n",
      " [ 0.  0.  0.  0.  0.  0.]\n",
      " [ 0.  0.  0.  0.  0.  0.]\n",
      " [ 0.  0.  0.  0.  0.  0.]]\n",
      "0 0 [[ 0.77522672  0.05734538  0.1674279   0.76474128  0.02914328  0.08297464]\n",
      " [ 0.23223042  0.53658625  0.23118333  0.11723045  0.00304319  0.00855376]\n",
      " [ 0.20696866  0.06202273  0.73100861  0.10284118  0.00264829  0.00744224]\n",
      " [ 0.          0.          0.          0.77522672  0.05734538  0.1674279 ]\n",
      " [ 0.          0.          0.          0.23223042  0.53658625  0.23118333]\n",
      " [ 0.          0.          0.          0.20696866  0.06202273  0.73100861]]\n",
      "t2 [[ 0.77522672  0.05734538  0.1674279   0.76474128  0.02914328  0.08297464]\n",
      " [ 0.23223042  0.53658625  0.23118333  0.11723045  0.00304319  0.00855376]\n",
      " [ 0.20696866  0.06202273  0.73100861  0.10284118  0.00264829  0.00744224]\n",
      " [ 0.          0.          0.          0.77522672  0.05734538  0.1674279 ]\n",
      " [ 0.          0.          0.          0.23223042  0.53658625  0.23118333]\n",
      " [ 0.          0.          0.          0.20696866  0.06202273  0.73100861]]\n",
      "x 0 0 [[ 0.77522672  0.05734538  0.1674279   0.98647436  0.50820623  0.49558433]\n",
      " [ 0.23223042  0.53658625  0.23118333  0.50480229  0.0056714   0.0369999 ]\n",
      " [ 0.20696866  0.06202273  0.73100861  0.49689251  0.04269867  0.01018078]\n",
      " [ 0.          0.          0.          0.77522672  0.05734538  0.1674279 ]\n",
      " [ 0.          0.          0.          0.23223042  0.53658625  0.23118333]\n",
      " [ 0.          0.          0.          0.20696866  0.06202273  0.73100861]]\n",
      "h 0 0 [[ 0.77522672  0.05734538  0.1674279   0.98647436  0.50820623  0.49558433]\n",
      " [ 0.23223042  0.53658625  0.23118333  0.50480229  0.0056714   0.0369999 ]\n",
      " [ 0.20696866  0.06202273  0.73100861  0.49689251  0.04269867  0.01018078]\n",
      " [ 0.          0.          0.          0.77522672  0.05734538  0.1674279 ]\n",
      " [ 0.          0.          0.          0.23223042  0.53658625  0.23118333]\n",
      " [ 0.          0.          0.          0.20696866  0.06202273  0.73100861]]\n",
      "tau\n",
      " [ 24.22771993   4.59825607  15.174024  ]\n",
      "tm ix 2 1\n",
      "0 0 [[ 0.77522672  0.05734538  0.1674279   0.98647436  0.50820623  0.49558433]\n",
      " [ 0.23223042  0.53658625  0.23118333  0.50480229  0.0056714   0.0369999 ]\n",
      " [ 0.20696866  0.06202273  0.73100861  0.49689251  0.04269867  0.01018078]\n",
      " [ 0.          0.          0.          0.77522672  0.05734538  0.1674279 ]\n",
      " [ 0.          0.          0.          0.23223042  0.53658625  0.23118333]\n",
      " [ 0.          0.          0.          0.20696866  0.06202273  0.73100861]]\n",
      "t1 [[ 0.77522672  0.05734538  0.1674279   0.00960008  0.04079837  0.48571832]\n",
      " [ 0.23223042  0.53658625  0.23118333  0.04703688  0.00639557  0.50551612]\n",
      " [ 0.20696866  0.06202273  0.73100861  0.48698702  0.50245003  0.98512464]\n",
      " [ 0.          0.          0.          0.77522672  0.05734538  0.1674279 ]\n",
      " [ 0.          0.          0.          0.23223042  0.53658625  0.23118333]\n",
      " [ 0.          0.          0.          0.20696866  0.06202273  0.73100861]]\n",
      "0 0 [[ 0.77522672  0.05734538  0.1674279   0.98647436  0.50820623  0.49558433]\n",
      " [ 0.23223042  0.53658625  0.23118333  0.50480229  0.0056714   0.0369999 ]\n",
      " [ 0.20696866  0.06202273  0.73100861  0.49689251  0.04269867  0.01018078]\n",
      " [ 0.          0.          0.          0.77522672  0.05734538  0.1674279 ]\n",
      " [ 0.          0.          0.          0.23223042  0.53658625  0.23118333]\n",
      " [ 0.          0.          0.          0.20696866  0.06202273  0.73100861]]\n",
      "t2 [[ 0.77522672  0.05734538  0.1674279   0.98647436  0.50820623  0.49558433]\n",
      " [ 0.23223042  0.53658625  0.23118333  0.50480229  0.0056714   0.0369999 ]\n",
      " [ 0.20696866  0.06202273  0.73100861  0.49689251  0.04269867  0.01018078]\n",
      " [ 0.          0.          0.          0.77522672  0.05734538  0.1674279 ]\n",
      " [ 0.          0.          0.          0.23223042  0.53658625  0.23118333]\n",
      " [ 0.          0.          0.          0.20696866  0.06202273  0.73100861]]\n",
      "x 0 0 [[ 0.77522672  0.05734538  0.1674279   0.98647436  0.50820623  0.49558433]\n",
      " [ 0.23223042  0.53658625  0.23118333  0.50480229  0.0056714   0.0369999 ]\n",
      " [ 0.20696866  0.06202273  0.73100861  0.49689251  0.04269867  0.01018078]\n",
      " [ 0.          0.          0.          0.77522672  0.05734538  0.1674279 ]\n",
      " [ 0.          0.          0.          0.23223042  0.53658625  0.23118333]\n",
      " [ 0.          0.          0.          0.20696866  0.06202273  0.73100861]]\n",
      "h 0 0 [[ 0.77522672  0.05734538  0.1674279   0.98647436  0.50820623  0.49558433]\n",
      " [ 0.23223042  0.53658625  0.23118333  0.50480229  0.0056714   0.0369999 ]\n",
      " [ 0.20696866  0.06202273  0.73100861  0.49689251  0.04269867  0.01018078]\n",
      " [ 0.          0.          0.          0.77522672  0.05734538  0.1674279 ]\n",
      " [ 0.          0.          0.          0.23223042  0.53658625  0.23118333]\n",
      " [ 0.          0.          0.          0.20696866  0.06202273  0.73100861]]\n",
      "tau\n",
      " [ 26.54556497   5.39886794  17.66158524]\n",
      "tau\n",
      " [ 26.54556497   5.39886794  17.66158524]\n",
      "iter  0\n",
      "[[ 0.77783398  0.05335176  0.16881426  0.76848995  0.02706977  0.08338477]\n",
      " [ 0.20660258  0.54706725  0.24633017  0.10349374  0.00246949  0.0075025 ]\n",
      " [ 0.19210796  0.05704589  0.75084614  0.09531179  0.00226309  0.00687454]\n",
      " [ 0.          0.          0.          0.77783398  0.05335176  0.16881426]\n",
      " [ 0.          0.          0.          0.20660258  0.54706725  0.24633017]\n",
      " [ 0.          0.          0.          0.19210796  0.05704589  0.75084614]]\n",
      "tm ix 1 0\n",
      "0 0 [[ 0.77783398  0.05335176  0.16881426  0.76848995  0.02706977  0.08338477]\n",
      " [ 0.20660258  0.54706725  0.24633017  0.10349374  0.00246949  0.0075025 ]\n",
      " [ 0.19210796  0.05704589  0.75084614  0.09531179  0.00226309  0.00687454]\n",
      " [ 0.          0.          0.          0.77783398  0.05335176  0.16881426]\n",
      " [ 0.          0.          0.          0.20660258  0.54706725  0.24633017]\n",
      " [ 0.          0.          0.          0.19210796  0.05704589  0.75084614]]\n",
      "t1 [[ 0.  0.  0.  0.  0.  0.]\n",
      " [ 0.  0.  0.  0.  0.  0.]\n",
      " [ 0.  0.  0.  0.  0.  0.]\n",
      " [ 0.  0.  0.  0.  0.  0.]\n",
      " [ 0.  0.  0.  0.  0.  0.]\n",
      " [ 0.  0.  0.  0.  0.  0.]]\n",
      "0 0 [[ 0.77783398  0.05335176  0.16881426  0.76848995  0.02706977  0.08338477]\n",
      " [ 0.20660258  0.54706725  0.24633017  0.10349374  0.00246949  0.0075025 ]\n",
      " [ 0.19210796  0.05704589  0.75084614  0.09531179  0.00226309  0.00687454]\n",
      " [ 0.          0.          0.          0.77783398  0.05335176  0.16881426]\n",
      " [ 0.          0.          0.          0.20660258  0.54706725  0.24633017]\n",
      " [ 0.          0.          0.          0.19210796  0.05704589  0.75084614]]\n",
      "t2 [[ 0.77783398  0.05335176  0.16881426  0.76848995  0.02706977  0.08338477]\n",
      " [ 0.20660258  0.54706725  0.24633017  0.10349374  0.00246949  0.0075025 ]\n",
      " [ 0.19210796  0.05704589  0.75084614  0.09531179  0.00226309  0.00687454]\n",
      " [ 0.          0.          0.          0.77783398  0.05335176  0.16881426]\n",
      " [ 0.          0.          0.          0.20660258  0.54706725  0.24633017]\n",
      " [ 0.          0.          0.          0.19210796  0.05704589  0.75084614]]\n",
      "x 0 0 [[ 0.77783398  0.05335176  0.16881426  0.98798711  0.50738288  0.49394387]\n",
      " [ 0.20660258  0.54706725  0.24633017  0.50093149  0.00451405  0.03045711]\n",
      " [ 0.19210796  0.05704589  0.75084614  0.49613659  0.03967147  0.00915573]\n",
      " [ 0.          0.          0.          0.77783398  0.05335176  0.16881426]\n",
      " [ 0.          0.          0.          0.20660258  0.54706725  0.24633017]\n",
      " [ 0.          0.          0.          0.19210796  0.05704589  0.75084614]]\n",
      "h 0 0 [[ 0.77783398  0.05335176  0.16881426  0.98798711  0.50738288  0.49394387]\n",
      " [ 0.20660258  0.54706725  0.24633017  0.50093149  0.00451405  0.03045711]\n",
      " [ 0.19210796  0.05704589  0.75084614  0.49613659  0.03967147  0.00915573]\n",
      " [ 0.          0.          0.          0.77783398  0.05335176  0.16881426]\n",
      " [ 0.          0.          0.          0.20660258  0.54706725  0.24633017]\n",
      " [ 0.          0.          0.          0.19210796  0.05704589  0.75084614]]\n",
      "tau\n",
      " [ 24.29771901   4.53659725  15.16568374]\n",
      "tm ix 2 1\n",
      "0 0 [[ 0.77783398  0.05335176  0.16881426  0.98798711  0.50738288  0.49394387]\n",
      " [ 0.20660258  0.54706725  0.24633017  0.50093149  0.00451405  0.03045711]\n",
      " [ 0.19210796  0.05704589  0.75084614  0.49613659  0.03967147  0.00915573]\n",
      " [ 0.          0.          0.          0.77783398  0.05335176  0.16881426]\n",
      " [ 0.          0.          0.          0.20660258  0.54706725  0.24633017]\n",
      " [ 0.          0.          0.          0.19210796  0.05704589  0.75084614]]\n",
      "t1 [[ 0.77783398  0.05335176  0.16881426  0.00883806  0.04002514  0.48781621]\n",
      " [ 0.20660258  0.54706725  0.24633017  0.05189267  0.00608356  0.50959823]\n",
      " [ 0.19210796  0.05704589  0.75084614  0.48996793  0.50463233  0.98641178]\n",
      " [ 0.          0.          0.          0.77783398  0.05335176  0.16881426]\n",
      " [ 0.          0.          0.          0.20660258  0.54706725  0.24633017]\n",
      " [ 0.          0.          0.          0.19210796  0.05704589  0.75084614]]\n",
      "0 0 [[ 0.77783398  0.05335176  0.16881426  0.98798711  0.50738288  0.49394387]\n",
      " [ 0.20660258  0.54706725  0.24633017  0.50093149  0.00451405  0.03045711]\n",
      " [ 0.19210796  0.05704589  0.75084614  0.49613659  0.03967147  0.00915573]\n",
      " [ 0.          0.          0.          0.77783398  0.05335176  0.16881426]\n",
      " [ 0.          0.          0.          0.20660258  0.54706725  0.24633017]\n",
      " [ 0.          0.          0.          0.19210796  0.05704589  0.75084614]]\n",
      "t2 [[ 0.77783398  0.05335176  0.16881426  0.98798711  0.50738288  0.49394387]\n",
      " [ 0.20660258  0.54706725  0.24633017  0.50093149  0.00451405  0.03045711]\n",
      " [ 0.19210796  0.05704589  0.75084614  0.49613659  0.03967147  0.00915573]\n",
      " [ 0.          0.          0.          0.77783398  0.05335176  0.16881426]\n",
      " [ 0.          0.          0.          0.20660258  0.54706725  0.24633017]\n",
      " [ 0.          0.          0.          0.19210796  0.05704589  0.75084614]]\n",
      "x 0 0 [[ 0.77783398  0.05335176  0.16881426  0.98798711  0.50738288  0.49394387]\n",
      " [ 0.20660258  0.54706725  0.24633017  0.50093149  0.00451405  0.03045711]\n",
      " [ 0.19210796  0.05704589  0.75084614  0.49613659  0.03967147  0.00915573]\n",
      " [ 0.          0.          0.          0.77783398  0.05335176  0.16881426]\n",
      " [ 0.          0.          0.          0.20660258  0.54706725  0.24633017]\n",
      " [ 0.          0.          0.          0.19210796  0.05704589  0.75084614]]\n",
      "h 0 0 [[ 0.77783398  0.05335176  0.16881426  0.98798711  0.50738288  0.49394387]\n",
      " [ 0.20660258  0.54706725  0.24633017  0.50093149  0.00451405  0.03045711]\n",
      " [ 0.19210796  0.05704589  0.75084614  0.49613659  0.03967147  0.00915573]\n",
      " [ 0.          0.          0.          0.77783398  0.05335176  0.16881426]\n",
      " [ 0.          0.          0.          0.20660258  0.54706725  0.24633017]\n",
      " [ 0.          0.          0.          0.19210796  0.05704589  0.75084614]]\n",
      "tau\n",
      " [ 26.62672242   5.40169889  17.72136908]\n",
      "tau\n",
      " [ 26.62672242   5.40169889  17.72136908]\n",
      "iter  0\n",
      "[[ 0.78335571  0.05028165  0.16636264  0.7751699   0.02541032  0.08204772]\n",
      " [ 0.17859684  0.56910347  0.2522997   0.08856733  0.00195078  0.0062195 ]\n",
      " [ 0.17897093  0.05419842  0.76683065  0.08877623  0.00195565  0.00623504]\n",
      " [ 0.          0.          0.          0.78335571  0.05028165  0.16636264]\n",
      " [ 0.          0.          0.          0.17859684  0.56910347  0.2522997 ]\n",
      " [ 0.          0.          0.          0.17897093  0.05419842  0.76683065]]\n",
      "tm ix 1 0\n",
      "0 0 [[ 0.78335571  0.05028165  0.16636264  0.7751699   0.02541032  0.08204772]\n",
      " [ 0.17859684  0.56910347  0.2522997   0.08856733  0.00195078  0.0062195 ]\n",
      " [ 0.17897093  0.05419842  0.76683065  0.08877623  0.00195565  0.00623504]\n",
      " [ 0.          0.          0.          0.78335571  0.05028165  0.16636264]\n",
      " [ 0.          0.          0.          0.17859684  0.56910347  0.2522997 ]\n",
      " [ 0.          0.          0.          0.17897093  0.05419842  0.76683065]]\n",
      "t1 [[ 0.  0.  0.  0.  0.  0.]\n",
      " [ 0.  0.  0.  0.  0.  0.]\n",
      " [ 0.  0.  0.  0.  0.  0.]\n",
      " [ 0.  0.  0.  0.  0.  0.]\n",
      " [ 0.  0.  0.  0.  0.  0.]\n",
      " [ 0.  0.  0.  0.  0.  0.]]\n",
      "0 0 [[ 0.78335571  0.05028165  0.16636264  0.7751699   0.02541032  0.08204772]\n",
      " [ 0.17859684  0.56910347  0.2522997   0.08856733  0.00195078  0.0062195 ]\n",
      " [ 0.17897093  0.05419842  0.76683065  0.08877623  0.00195565  0.00623504]\n",
      " [ 0.          0.          0.          0.78335571  0.05028165  0.16636264]\n",
      " [ 0.          0.          0.          0.17859684  0.56910347  0.2522997 ]\n",
      " [ 0.          0.          0.          0.17897093  0.05419842  0.76683065]]\n",
      "t2 [[ 0.78335571  0.05028165  0.16636264  0.7751699   0.02541032  0.08204772]\n",
      " [ 0.17859684  0.56910347  0.2522997   0.08856733  0.00195078  0.0062195 ]\n",
      " [ 0.17897093  0.05419842  0.76683065  0.08877623  0.00195565  0.00623504]\n",
      " [ 0.          0.          0.          0.78335571  0.05028165  0.16636264]\n",
      " [ 0.          0.          0.          0.17859684  0.56910347  0.2522997 ]\n",
      " [ 0.          0.          0.          0.17897093  0.05419842  0.76683065]]\n",
      "x 0 0 [[ 0.78335571  0.05028165  0.16636264  0.98955032  0.50535967  0.49318595]\n",
      " [ 0.17859684  0.56910347  0.2522997   0.49590648  0.00342781  0.02465123]\n",
      " [ 0.17897093  0.05419842  0.76683065  0.49603713  0.03608307  0.00813092]\n",
      " [ 0.          0.          0.          0.78335571  0.05028165  0.16636264]\n",
      " [ 0.          0.          0.          0.17859684  0.56910347  0.2522997 ]\n",
      " [ 0.          0.          0.          0.17897093  0.05419842  0.76683065]]\n",
      "h 0 0 [[ 0.78335571  0.05028165  0.16636264  0.98955032  0.50535967  0.49318595]\n",
      " [ 0.17859684  0.56910347  0.2522997   0.49590648  0.00342781  0.02465123]\n",
      " [ 0.17897093  0.05419842  0.76683065  0.49603713  0.03608307  0.00813092]\n",
      " [ 0.          0.          0.          0.78335571  0.05028165  0.16636264]\n",
      " [ 0.          0.          0.          0.17859684  0.56910347  0.2522997 ]\n",
      " [ 0.          0.          0.          0.17897093  0.05419842  0.76683065]]\n",
      "tau\n",
      " [ 24.39440856   4.51624678  15.08934466]\n",
      "tm ix 2 1\n",
      "0 0 [[ 0.78335571  0.05028165  0.16636264  0.98955032  0.50535967  0.49318595]\n",
      " [ 0.17859684  0.56910347  0.2522997   0.49590648  0.00342781  0.02465123]\n",
      " [ 0.17897093  0.05419842  0.76683065  0.49603713  0.03608307  0.00813092]\n",
      " [ 0.          0.          0.          0.78335571  0.05028165  0.16636264]\n",
      " [ 0.          0.          0.          0.17859684  0.56910347  0.2522997 ]\n",
      " [ 0.          0.          0.          0.17897093  0.05419842  0.76683065]]\n",
      "t1 [[ 0.78335571  0.05028165  0.16636264  0.00795939  0.03907406  0.4892618 ]\n",
      " [ 0.17859684  0.56910347  0.2522997   0.05659354  0.00559322  0.51121403]\n",
      " [ 0.17897093  0.05419842  0.76683065  0.49207919  0.50507949  0.98771807]\n",
      " [ 0.          0.          0.          0.78335571  0.05028165  0.16636264]\n",
      " [ 0.          0.          0.          0.17859684  0.56910347  0.2522997 ]\n",
      " [ 0.          0.          0.          0.17897093  0.05419842  0.76683065]]\n",
      "0 0 [[ 0.78335571  0.05028165  0.16636264  0.98955032  0.50535967  0.49318595]\n",
      " [ 0.17859684  0.56910347  0.2522997   0.49590648  0.00342781  0.02465123]\n",
      " [ 0.17897093  0.05419842  0.76683065  0.49603713  0.03608307  0.00813092]\n",
      " [ 0.          0.          0.          0.78335571  0.05028165  0.16636264]\n",
      " [ 0.          0.          0.          0.17859684  0.56910347  0.2522997 ]\n",
      " [ 0.          0.          0.          0.17897093  0.05419842  0.76683065]]\n",
      "t2 [[ 0.78335571  0.05028165  0.16636264  0.98955032  0.50535967  0.49318595]\n",
      " [ 0.17859684  0.56910347  0.2522997   0.49590648  0.00342781  0.02465123]\n",
      " [ 0.17897093  0.05419842  0.76683065  0.49603713  0.03608307  0.00813092]\n",
      " [ 0.          0.          0.          0.78335571  0.05028165  0.16636264]\n",
      " [ 0.          0.          0.          0.17859684  0.56910347  0.2522997 ]\n",
      " [ 0.          0.          0.          0.17897093  0.05419842  0.76683065]]\n",
      "x 0 0 [[ 0.78335571  0.05028165  0.16636264  0.98955032  0.50535967  0.49318595]\n",
      " [ 0.17859684  0.56910347  0.2522997   0.49590648  0.00342781  0.02465123]\n",
      " [ 0.17897093  0.05419842  0.76683065  0.49603713  0.03608307  0.00813092]\n",
      " [ 0.          0.          0.          0.78335571  0.05028165  0.16636264]\n",
      " [ 0.          0.          0.          0.17859684  0.56910347  0.2522997 ]\n",
      " [ 0.          0.          0.          0.17897093  0.05419842  0.76683065]]\n",
      "h 0 0 [[ 0.78335571  0.05028165  0.16636264  0.98955032  0.50535967  0.49318595]\n",
      " [ 0.17859684  0.56910347  0.2522997   0.49590648  0.00342781  0.02465123]\n",
      " [ 0.17897093  0.05419842  0.76683065  0.49603713  0.03608307  0.00813092]\n",
      " [ 0.          0.          0.          0.78335571  0.05028165  0.16636264]\n",
      " [ 0.          0.          0.          0.17859684  0.56910347  0.2522997 ]\n",
      " [ 0.          0.          0.          0.17897093  0.05419842  0.76683065]]\n",
      "tau\n",
      " [ 26.75441561   5.47739849  17.69394236]\n",
      "tau\n",
      " [ 26.75441561   5.47739849  17.69394236]\n",
      "iter  0\n",
      "[[ 0.79077948  0.04741419  0.16180633  0.78366081  0.02386105  0.0797601 ]\n",
      " [ 0.1514981   0.59515571  0.2533462   0.07429307  0.00150658  0.0049815 ]\n",
      " [ 0.16755237  0.05180993  0.78063771  0.08316332  0.00169707  0.00561209]\n",
      " [ 0.          0.          0.          0.79077948  0.04741419  0.16180633]\n",
      " [ 0.          0.          0.          0.1514981   0.59515571  0.2533462 ]\n",
      " [ 0.          0.          0.          0.16755237  0.05180993  0.78063771]]\n",
      "tm ix 1 0\n",
      "0 0 [[ 0.79077948  0.04741419  0.16180633  0.78366081  0.02386105  0.0797601 ]\n",
      " [ 0.1514981   0.59515571  0.2533462   0.07429307  0.00150658  0.0049815 ]\n",
      " [ 0.16755237  0.05180993  0.78063771  0.08316332  0.00169707  0.00561209]\n",
      " [ 0.          0.          0.          0.79077948  0.04741419  0.16180633]\n",
      " [ 0.          0.          0.          0.1514981   0.59515571  0.2533462 ]\n",
      " [ 0.          0.          0.          0.16755237  0.05180993  0.78063771]]\n",
      "t1 [[ 0.  0.  0.  0.  0.  0.]\n",
      " [ 0.  0.  0.  0.  0.  0.]\n",
      " [ 0.  0.  0.  0.  0.  0.]\n",
      " [ 0.  0.  0.  0.  0.  0.]\n",
      " [ 0.  0.  0.  0.  0.  0.]\n",
      " [ 0.  0.  0.  0.  0.  0.]]\n",
      "0 0 [[ 0.79077948  0.04741419  0.16180633  0.78366081  0.02386105  0.0797601 ]\n",
      " [ 0.1514981   0.59515571  0.2533462   0.07429307  0.00150658  0.0049815 ]\n",
      " [ 0.16755237  0.05180993  0.78063771  0.08316332  0.00169707  0.00561209]\n",
      " [ 0.          0.          0.          0.79077948  0.04741419  0.16180633]\n",
      " [ 0.          0.          0.          0.1514981   0.59515571  0.2533462 ]\n",
      " [ 0.          0.          0.          0.16755237  0.05180993  0.78063771]]\n",
      "t2 [[ 0.79077948  0.04741419  0.16180633  0.78366081  0.02386105  0.0797601 ]\n",
      " [ 0.1514981   0.59515571  0.2533462   0.07429307  0.00150658  0.0049815 ]\n",
      " [ 0.16755237  0.05180993  0.78063771  0.08316332  0.00169707  0.00561209]\n",
      " [ 0.          0.          0.          0.79077948  0.04741419  0.16180633]\n",
      " [ 0.          0.          0.          0.1514981   0.59515571  0.2533462 ]\n",
      " [ 0.          0.          0.          0.16755237  0.05180993  0.78063771]]\n",
      "x 0 0 [[ 0.79077948  0.04741419  0.16180633  0.99099791  0.50324706  0.49293558]\n",
      " [ 0.1514981   0.59515571  0.2533462   0.49038943  0.0025314   0.0196628 ]\n",
      " [ 0.16755237  0.05180993  0.78063771  0.49634225  0.03275578  0.00718911]\n",
      " [ 0.          0.          0.          0.79077948  0.04741419  0.16180633]\n",
      " [ 0.          0.          0.          0.1514981   0.59515571  0.2533462 ]\n",
      " [ 0.          0.          0.          0.16755237  0.05180993  0.78063771]]\n",
      "h 0 0 [[ 0.79077948  0.04741419  0.16180633  0.99099791  0.50324706  0.49293558]\n",
      " [ 0.1514981   0.59515571  0.2533462   0.49038943  0.0025314   0.0196628 ]\n",
      " [ 0.16755237  0.05180993  0.78063771  0.49634225  0.03275578  0.00718911]\n",
      " [ 0.          0.          0.          0.79077948  0.04741419  0.16180633]\n",
      " [ 0.          0.          0.          0.1514981   0.59515571  0.2533462 ]\n",
      " [ 0.          0.          0.          0.16755237  0.05180993  0.78063771]]\n",
      "tau\n",
      " [ 24.48313856   4.53067716  14.98618428]\n",
      "tm ix 2 1\n",
      "0 0 [[ 0.79077948  0.04741419  0.16180633  0.99099791  0.50324706  0.49293558]\n",
      " [ 0.1514981   0.59515571  0.2533462   0.49038943  0.0025314   0.0196628 ]\n",
      " [ 0.16755237  0.05180993  0.78063771  0.49634225  0.03275578  0.00718911]\n",
      " [ 0.          0.          0.          0.79077948  0.04741419  0.16180633]\n",
      " [ 0.          0.          0.          0.1514981   0.59515571  0.2533462 ]\n",
      " [ 0.          0.          0.          0.16755237  0.05180993  0.78063771]]\n",
      "t1 [[ 0.79077948  0.04741419  0.16180633  0.00709691  0.03784711  0.49032825]\n",
      " [ 0.1514981   0.59515571  0.2533462   0.06187142  0.00503365  0.5116899 ]\n",
      " [ 0.16755237  0.05180993  0.78063771  0.49370859  0.50470792  0.98897325]\n",
      " [ 0.          0.          0.          0.79077948  0.04741419  0.16180633]\n",
      " [ 0.          0.          0.          0.1514981   0.59515571  0.2533462 ]\n",
      " [ 0.          0.          0.          0.16755237  0.05180993  0.78063771]]\n",
      "0 0 [[ 0.79077948  0.04741419  0.16180633  0.99099791  0.50324706  0.49293558]\n",
      " [ 0.1514981   0.59515571  0.2533462   0.49038943  0.0025314   0.0196628 ]\n",
      " [ 0.16755237  0.05180993  0.78063771  0.49634225  0.03275578  0.00718911]\n",
      " [ 0.          0.          0.          0.79077948  0.04741419  0.16180633]\n",
      " [ 0.          0.          0.          0.1514981   0.59515571  0.2533462 ]\n",
      " [ 0.          0.          0.          0.16755237  0.05180993  0.78063771]]\n",
      "t2 [[ 0.79077948  0.04741419  0.16180633  0.99099791  0.50324706  0.49293558]\n",
      " [ 0.1514981   0.59515571  0.2533462   0.49038943  0.0025314   0.0196628 ]\n",
      " [ 0.16755237  0.05180993  0.78063771  0.49634225  0.03275578  0.00718911]\n",
      " [ 0.          0.          0.          0.79077948  0.04741419  0.16180633]\n",
      " [ 0.          0.          0.          0.1514981   0.59515571  0.2533462 ]\n",
      " [ 0.          0.          0.          0.16755237  0.05180993  0.78063771]]\n",
      "x 0 0 [[ 0.79077948  0.04741419  0.16180633  0.99099791  0.50324706  0.49293558]\n",
      " [ 0.1514981   0.59515571  0.2533462   0.49038943  0.0025314   0.0196628 ]\n",
      " [ 0.16755237  0.05180993  0.78063771  0.49634225  0.03275578  0.00718911]\n",
      " [ 0.          0.          0.          0.79077948  0.04741419  0.16180633]\n",
      " [ 0.          0.          0.          0.1514981   0.59515571  0.2533462 ]\n",
      " [ 0.          0.          0.          0.16755237  0.05180993  0.78063771]]\n",
      "h 0 0 [[ 0.79077948  0.04741419  0.16180633  0.99099791  0.50324706  0.49293558]\n",
      " [ 0.1514981   0.59515571  0.2533462   0.49038943  0.0025314   0.0196628 ]\n",
      " [ 0.16755237  0.05180993  0.78063771  0.49634225  0.03275578  0.00718911]\n",
      " [ 0.          0.          0.          0.79077948  0.04741419  0.16180633]\n",
      " [ 0.          0.          0.          0.1514981   0.59515571  0.2533462 ]\n",
      " [ 0.          0.          0.          0.16755237  0.05180993  0.78063771]]\n",
      "tau\n",
      " [ 26.88908711   5.61646417  17.64058882]\n",
      "tau\n",
      " [ 26.88908711   5.61646417  17.64058882]\n"
     ]
    },
    {
     "data": {
      "image/png": "[encoded data removed]",
      "text/plain": [
       "<matplotlib.figure.Figure at 0x7f6bfd612828>"
      ]
     },
     "metadata": {},
     "output_type": "display_data"
    },
    {
     "name": "stdout",
     "output_type": "stream",
     "text": [
      "iter  0\n",
      "[[ 0.72115686  0.09294771  0.18589543  0.70961334  0.0455119   0.09102379]\n",
      " [ 0.18589543  0.62820914  0.18589543  0.09102379  0.00384784  0.00769568]\n",
      " [ 0.18589543  0.09294771  0.72115686  0.09102379  0.00384784  0.00769568]\n",
      " [ 0.          0.          0.          0.72115686  0.09294771  0.18589543]\n",
      " [ 0.          0.          0.          0.18589543  0.62820914  0.18589543]\n",
      " [ 0.          0.          0.          0.18589543  0.09294771  0.72115686]]\n",
      "tm ix 1 0\n",
      "0 0 [[ 0.72115686  0.09294771  0.18589543  0.70961334  0.0455119   0.09102379]\n",
      " [ 0.18589543  0.62820914  0.18589543  0.09102379  0.00384784  0.00769568]\n",
      " [ 0.18589543  0.09294771  0.72115686  0.09102379  0.00384784  0.00769568]\n",
      " [ 0.          0.          0.          0.72115686  0.09294771  0.18589543]\n",
      " [ 0.          0.          0.          0.18589543  0.62820914  0.18589543]\n",
      " [ 0.          0.          0.          0.18589543  0.09294771  0.72115686]]\n",
      "t1 [[ 0.  0.  0.  0.  0.  0.]\n",
      " [ 0.  0.  0.  0.  0.  0.]\n",
      " [ 0.  0.  0.  0.  0.  0.]\n",
      " [ 0.  0.  0.  0.  0.  0.]\n",
      " [ 0.  0.  0.  0.  0.  0.]\n",
      " [ 0.  0.  0.  0.  0.  0.]]\n",
      "0 0 [[ 0.72115686  0.09294771  0.18589543  0.70961334  0.0455119   0.09102379]\n",
      " [ 0.18589543  0.62820914  0.18589543  0.09102379  0.00384784  0.00769568]\n",
      " [ 0.18589543  0.09294771  0.72115686  0.09102379  0.00384784  0.00769568]\n",
      " [ 0.          0.          0.          0.72115686  0.09294771  0.18589543]\n",
      " [ 0.          0.          0.          0.18589543  0.62820914  0.18589543]\n",
      " [ 0.          0.          0.          0.18589543  0.09294771  0.72115686]]\n",
      "t2 [[ 0.72115686  0.09294771  0.18589543  0.70961334  0.0455119   0.09102379]\n",
      " [ 0.18589543  0.62820914  0.18589543  0.09102379  0.00384784  0.00769568]\n",
      " [ 0.18589543  0.09294771  0.72115686  0.09102379  0.00384784  0.00769568]\n",
      " [ 0.          0.          0.          0.72115686  0.09294771  0.18589543]\n",
      " [ 0.          0.          0.          0.18589543  0.62820914  0.18589543]\n",
      " [ 0.          0.          0.          0.18589543  0.09294771  0.72115686]]\n",
      "x 0 0 [[ 0.72115686  0.09294771  0.18589543  0.98399305  0.48965053  0.48965053]\n",
      " [ 0.18589543  0.62820914  0.18589543  0.48965053  0.00612509  0.0413979 ]\n",
      " [ 0.18589543  0.09294771  0.72115686  0.48965053  0.0413979   0.0106713 ]\n",
      " [ 0.          0.          0.          0.72115686  0.09294771  0.18589543]\n",
      " [ 0.          0.          0.          0.18589543  0.62820914  0.18589543]\n",
      " [ 0.          0.          0.          0.18589543  0.09294771  0.72115686]]\n",
      "h 0 0 [[ 0.72115686  0.09294771  0.18589543  0.98399305  0.48965053  0.48965053]\n",
      " [ 0.18589543  0.62820914  0.18589543  0.48965053  0.00612509  0.0413979 ]\n",
      " [ 0.18589543  0.09294771  0.72115686  0.48965053  0.0413979   0.0106713 ]\n",
      " [ 0.          0.          0.          0.72115686  0.09294771  0.18589543]\n",
      " [ 0.          0.          0.          0.18589543  0.62820914  0.18589543]\n",
      " [ 0.          0.          0.          0.18589543  0.09294771  0.72115686]]\n",
      "tau\n",
      " [ 24.70059273   4.82780555  15.47160172]\n",
      "tau\n",
      " [ 24.70059273   4.82780555  15.47160172]\n",
      "iter  0\n",
      "[[ 0.76392728  0.05948032  0.1765924   0.75199302  0.0303741   0.08743066]\n",
      " [ 0.2530743   0.49799655  0.24892915  0.12851934  0.00356024  0.01008783]\n",
      " [ 0.21762614  0.06547247  0.71690139  0.10798726  0.0029565   0.00837402]\n",
      " [ 0.          0.          0.          0.76392728  0.05948032  0.1765924 ]\n",
      " [ 0.          0.          0.          0.2530743   0.49799655  0.24892915]\n",
      " [ 0.          0.          0.          0.21762614  0.06547247  0.71690139]]\n",
      "tm ix 1 0\n",
      "0 0 [[ 0.76392728  0.05948032  0.1765924   0.75199302  0.0303741   0.08743066]\n",
      " [ 0.2530743   0.49799655  0.24892915  0.12851934  0.00356024  0.01008783]\n",
      " [ 0.21762614  0.06547247  0.71690139  0.10798726  0.0029565   0.00837402]\n",
      " [ 0.          0.          0.          0.76392728  0.05948032  0.1765924 ]\n",
      " [ 0.          0.          0.          0.2530743   0.49799655  0.24892915]\n",
      " [ 0.          0.          0.          0.21762614  0.06547247  0.71690139]]\n",
      "t1 [[ 0.  0.  0.  0.  0.  0.]\n",
      " [ 0.  0.  0.  0.  0.  0.]\n",
      " [ 0.  0.  0.  0.  0.  0.]\n",
      " [ 0.  0.  0.  0.  0.  0.]\n",
      " [ 0.  0.  0.  0.  0.  0.]\n",
      " [ 0.  0.  0.  0.  0.  0.]]\n",
      "0 0 [[ 0.76392728  0.05948032  0.1765924   0.75199302  0.0303741   0.08743066]\n",
      " [ 0.2530743   0.49799655  0.24892915  0.12851934  0.00356024  0.01008783]\n",
      " [ 0.21762614  0.06547247  0.71690139  0.10798726  0.0029565   0.00837402]\n",
      " [ 0.          0.          0.          0.76392728  0.05948032  0.1765924 ]\n",
      " [ 0.          0.          0.          0.2530743   0.49799655  0.24892915]\n",
      " [ 0.          0.          0.          0.21762614  0.06547247  0.71690139]]\n",
      "t2 [[ 0.76392728  0.05948032  0.1765924   0.75199302  0.0303741   0.08743066]\n",
      " [ 0.2530743   0.49799655  0.24892915  0.12851934  0.00356024  0.01008783]\n",
      " [ 0.21762614  0.06547247  0.71690139  0.10798726  0.0029565   0.00837402]\n",
      " [ 0.          0.          0.          0.76392728  0.05948032  0.1765924 ]\n",
      " [ 0.          0.          0.          0.2530743   0.49799655  0.24892915]\n",
      " [ 0.          0.          0.          0.21762614  0.06547247  0.71690139]]\n",
      "x 0 0 [[ 0.76392728  0.05948032  0.1765924   0.98437775  0.51065793  0.49509867]\n",
      " [ 0.2530743   0.49799655  0.24892915  0.50783244  0.00714913  0.04052492]\n",
      " [ 0.21762614  0.06547247  0.71690139  0.49620537  0.04515638  0.01168086]\n",
      " [ 0.          0.          0.          0.76392728  0.05948032  0.1765924 ]\n",
      " [ 0.          0.          0.          0.2530743   0.49799655  0.24892915]\n",
      " [ 0.          0.          0.          0.21762614  0.06547247  0.71690139]]\n",
      "h 0 0 [[ 0.76392728  0.05948032  0.1765924   0.98437775  0.51065793  0.49509867]\n",
      " [ 0.2530743   0.49799655  0.24892915  0.50783244  0.00714913  0.04052492]\n",
      " [ 0.21762614  0.06547247  0.71690139  0.49620537  0.04515638  0.01168086]\n",
      " [ 0.          0.          0.          0.76392728  0.05948032  0.1765924 ]\n",
      " [ 0.          0.          0.          0.2530743   0.49799655  0.24892915]\n",
      " [ 0.          0.          0.          0.21762614  0.06547247  0.71690139]]\n",
      "tau\n",
      " [ 24.56079592   4.68376572  15.75543836]\n",
      "tau\n",
      " [ 24.56079592   4.68376572  15.75543836]\n",
      "iter  0\n",
      "[[ 0.75716085  0.05802215  0.184817    0.74547602  0.02958726  0.0911342 ]\n",
      " [ 0.23765334  0.48777894  0.27456772  0.11998289  0.0032542   0.00985222]\n",
      " [ 0.20965031  0.06501607  0.72533362  0.10375755  0.00278563  0.00843063]\n",
      " [ 0.          0.          0.          0.75716085  0.05802215  0.184817  ]\n",
      " [ 0.          0.          0.          0.23765334  0.48777894  0.27456772]\n",
      " [ 0.          0.          0.          0.20965031  0.06501607  0.72533362]]\n",
      "tm ix 1 0\n",
      "0 0 [[ 0.75716085  0.05802215  0.184817    0.74547602  0.02958726  0.0911342 ]\n",
      " [ 0.23765334  0.48777894  0.27456772  0.11998289  0.0032542   0.00985222]\n",
      " [ 0.20965031  0.06501607  0.72533362  0.10375755  0.00278563  0.00843063]\n",
      " [ 0.          0.          0.          0.75716085  0.05802215  0.184817  ]\n",
      " [ 0.          0.          0.          0.23765334  0.48777894  0.27456772]\n",
      " [ 0.          0.          0.          0.20965031  0.06501607  0.72533362]]\n",
      "t1 [[ 0.  0.  0.  0.  0.  0.]\n",
      " [ 0.  0.  0.  0.  0.  0.]\n",
      " [ 0.  0.  0.  0.  0.  0.]\n",
      " [ 0.  0.  0.  0.  0.  0.]\n",
      " [ 0.  0.  0.  0.  0.  0.]\n",
      " [ 0.  0.  0.  0.  0.  0.]]\n",
      "0 0 [[ 0.75716085  0.05802215  0.184817    0.74547602  0.02958726  0.0911342 ]\n",
      " [ 0.23765334  0.48777894  0.27456772  0.11998289  0.0032542   0.00985222]\n",
      " [ 0.20965031  0.06501607  0.72533362  0.10375755  0.00278563  0.00843063]\n",
      " [ 0.          0.          0.          0.75716085  0.05802215  0.184817  ]\n",
      " [ 0.          0.          0.          0.23765334  0.48777894  0.27456772]\n",
      " [ 0.          0.          0.          0.20965031  0.06501607  0.72533362]]\n",
      "t2 [[ 0.75716085  0.05802215  0.184817    0.74547602  0.02958726  0.0911342 ]\n",
      " [ 0.23765334  0.48777894  0.27456772  0.11998289  0.0032542   0.00985222]\n",
      " [ 0.20965031  0.06501607  0.72533362  0.10375755  0.00278563  0.00843063]\n",
      " [ 0.          0.          0.          0.75716085  0.05802215  0.184817  ]\n",
      " [ 0.          0.          0.          0.23765334  0.48777894  0.27456772]\n",
      " [ 0.          0.          0.          0.20965031  0.06501607  0.72533362]]\n",
      "x 0 0 [[ 0.75716085  0.05802215  0.184817    0.98456757  0.50993048  0.49310506]\n",
      " [ 0.23765334  0.48777894  0.27456772  0.50486515  0.00667147  0.03588267]\n",
      " [ 0.20965031  0.06501607  0.72533362  0.49490769  0.04284526  0.0116231 ]\n",
      " [ 0.          0.          0.          0.75716085  0.05802215  0.184817  ]\n",
      " [ 0.          0.          0.          0.23765334  0.48777894  0.27456772]\n",
      " [ 0.          0.          0.          0.20965031  0.06501607  0.72533362]]\n",
      "h 0 0 [[ 0.75716085  0.05802215  0.184817    0.98456757  0.50993048  0.49310506]\n",
      " [ 0.23765334  0.48777894  0.27456772  0.50486515  0.00667147  0.03588267]\n",
      " [ 0.20965031  0.06501607  0.72533362  0.49490769  0.04284526  0.0116231 ]\n",
      " [ 0.          0.          0.          0.75716085  0.05802215  0.184817  ]\n",
      " [ 0.          0.          0.          0.23765334  0.48777894  0.27456772]\n",
      " [ 0.          0.          0.          0.20965031  0.06501607  0.72533362]]\n",
      "tau\n",
      " [ 24.4297108    4.67113393  15.89915527]\n",
      "tau\n",
      " [ 24.4297108    4.67113393  15.89915527]\n",
      "iter  0\n",
      "[[ 0.75446862  0.05688347  0.18864791  0.74325895  0.02889527  0.09282707]\n",
      " [ 0.22013875  0.48809475  0.29176649  0.11029511  0.00291249  0.00920308]\n",
      " [ 0.2025976   0.0663807   0.73102171  0.10015241  0.0026264   0.00829718]\n",
      " [ 0.          0.          0.          0.75446862  0.05688347  0.18864791]\n",
      " [ 0.          0.          0.          0.22013875  0.48809475  0.29176649]\n",
      " [ 0.          0.          0.          0.2025976   0.0663807   0.73102171]]\n",
      "tm ix 1 0\n",
      "0 0 [[ 0.75446862  0.05688347  0.18864791  0.74325895  0.02889527  0.09282707]\n",
      " [ 0.22013875  0.48809475  0.29176649  0.11029511  0.00291249  0.00920308]\n",
      " [ 0.2025976   0.0663807   0.73102171  0.10015241  0.0026264   0.00829718]\n",
      " [ 0.          0.          0.          0.75446862  0.05688347  0.18864791]\n",
      " [ 0.          0.          0.          0.22013875  0.48809475  0.29176649]\n",
      " [ 0.          0.          0.          0.2025976   0.0663807   0.73102171]]\n",
      "t1 [[ 0.  0.  0.  0.  0.  0.]\n",
      " [ 0.  0.  0.  0.  0.  0.]\n",
      " [ 0.  0.  0.  0.  0.  0.]\n",
      " [ 0.  0.  0.  0.  0.  0.]\n",
      " [ 0.  0.  0.  0.  0.  0.]\n",
      " [ 0.  0.  0.  0.  0.  0.]]\n",
      "0 0 [[ 0.75446862  0.05688347  0.18864791  0.74325895  0.02889527  0.09282707]\n",
      " [ 0.22013875  0.48809475  0.29176649  0.11029511  0.00291249  0.00920308]\n",
      " [ 0.2025976   0.0663807   0.73102171  0.10015241  0.0026264   0.00829718]\n",
      " [ 0.          0.          0.          0.75446862  0.05688347  0.18864791]\n",
      " [ 0.          0.          0.          0.22013875  0.48809475  0.29176649]\n",
      " [ 0.          0.          0.          0.2025976   0.0663807   0.73102171]]\n",
      "t2 [[ 0.75446862  0.05688347  0.18864791  0.74325895  0.02889527  0.09282707]\n",
      " [ 0.22013875  0.48809475  0.29176649  0.11029511  0.00291249  0.00920308]\n",
      " [ 0.2025976   0.0663807   0.73102171  0.10015241  0.0026264   0.00829718]\n",
      " [ 0.          0.          0.          0.75446862  0.05688347  0.18864791]\n",
      " [ 0.          0.          0.          0.22013875  0.48809475  0.29176649]\n",
      " [ 0.          0.          0.          0.2025976   0.0663807   0.73102171]]\n",
      "x 0 0 [[ 0.75446862  0.05688347  0.18864791  0.9851423   0.50797309  0.4920652 ]\n",
      " [ 0.22013875  0.48809475  0.29176649  0.50102544  0.00596706  0.03154263]\n",
      " [ 0.2025976   0.0663807   0.73102171  0.49434153  0.03956568  0.01135011]\n",
      " [ 0.          0.          0.          0.75446862  0.05688347  0.18864791]\n",
      " [ 0.          0.          0.          0.22013875  0.48809475  0.29176649]\n",
      " [ 0.          0.          0.          0.2025976   0.0663807   0.73102171]]\n",
      "h 0 0 [[ 0.75446862  0.05688347  0.18864791  0.9851423   0.50797309  0.4920652 ]\n",
      " [ 0.22013875  0.48809475  0.29176649  0.50102544  0.00596706  0.03154263]\n",
      " [ 0.2025976   0.0663807   0.73102171  0.49434153  0.03956568  0.01135011]\n",
      " [ 0.          0.          0.          0.75446862  0.05688347  0.18864791]\n",
      " [ 0.          0.          0.          0.22013875  0.48809475  0.29176649]\n",
      " [ 0.          0.          0.          0.2025976   0.0663807   0.73102171]]\n",
      "tau\n",
      " [ 24.33765893   4.67510632  15.98723474]\n",
      "tau\n",
      " [ 24.33765893   4.67510632  15.98723474]\n",
      "iter  0\n",
      "[[ 0.75465851  0.05539823  0.18994326  0.74400583  0.02802096  0.09338453]\n",
      " [ 0.20353609  0.49143005  0.30503385  0.10117933  0.00257129  0.00844232]\n",
      " [ 0.19655401  0.06812856  0.73531743  0.09715125  0.00246158  0.00808139]\n",
      " [ 0.          0.          0.          0.75465851  0.05539823  0.18994326]\n",
      " [ 0.          0.          0.          0.20353609  0.49143005  0.30503385]\n",
      " [ 0.          0.          0.          0.19655401  0.06812856  0.73531743]]\n",
      "tm ix 1 0\n",
      "0 0 [[ 0.75465851  0.05539823  0.18994326  0.74400583  0.02802096  0.09338453]\n",
      " [ 0.20353609  0.49143005  0.30503385  0.10117933  0.00257129  0.00844232]\n",
      " [ 0.19655401  0.06812856  0.73531743  0.09715125  0.00246158  0.00808139]\n",
      " [ 0.          0.          0.          0.75465851  0.05539823  0.18994326]\n",
      " [ 0.          0.          0.          0.20353609  0.49143005  0.30503385]\n",
      " [ 0.          0.          0.          0.19655401  0.06812856  0.73531743]]\n",
      "t1 [[ 0.  0.  0.  0.  0.  0.]\n",
      " [ 0.  0.  0.  0.  0.  0.]\n",
      " [ 0.  0.  0.  0.  0.  0.]\n",
      " [ 0.  0.  0.  0.  0.  0.]\n",
      " [ 0.  0.  0.  0.  0.  0.]\n",
      " [ 0.  0.  0.  0.  0.  0.]]\n",
      "0 0 [[ 0.75465851  0.05539823  0.18994326  0.74400583  0.02802096  0.09338453]\n",
      " [ 0.20353609  0.49143005  0.30503385  0.10117933  0.00257129  0.00844232]\n",
      " [ 0.19655401  0.06812856  0.73531743  0.09715125  0.00246158  0.00808139]\n",
      " [ 0.          0.          0.          0.75465851  0.05539823  0.18994326]\n",
      " [ 0.          0.          0.          0.20353609  0.49143005  0.30503385]\n",
      " [ 0.          0.          0.          0.19655401  0.06812856  0.73531743]]\n",
      "t2 [[ 0.75465851  0.05539823  0.18994326  0.74400583  0.02802096  0.09338453]\n",
      " [ 0.20353609  0.49143005  0.30503385  0.10117933  0.00257129  0.00844232]\n",
      " [ 0.19655401  0.06812856  0.73531743  0.09715125  0.00246158  0.00808139]\n",
      " [ 0.          0.          0.          0.75465851  0.05539823  0.18994326]\n",
      " [ 0.          0.          0.          0.20353609  0.49143005  0.30503385]\n",
      " [ 0.          0.          0.          0.19655401  0.06812856  0.73531743]]\n",
      "x 0 0 [[ 0.75465851  0.05539823  0.18994326  0.9858841   0.50580975  0.49164431]\n",
      " [ 0.20353609  0.49143005  0.30503385  0.49710758  0.00523226  0.02767666]\n",
      " [ 0.19655401  0.06812856  0.73531743  0.49427252  0.03613137  0.01099035]\n",
      " [ 0.          0.          0.          0.75465851  0.05539823  0.18994326]\n",
      " [ 0.          0.          0.          0.20353609  0.49143005  0.30503385]\n",
      " [ 0.          0.          0.          0.19655401  0.06812856  0.73531743]]\n",
      "h 0 0 [[ 0.75465851  0.05539823  0.18994326  0.9858841   0.50580975  0.49164431]\n",
      " [ 0.20353609  0.49143005  0.30503385  0.49710758  0.00523226  0.02767666]\n",
      " [ 0.19655401  0.06812856  0.73531743  0.49427252  0.03613137  0.01099035]\n",
      " [ 0.          0.          0.          0.75465851  0.05539823  0.18994326]\n",
      " [ 0.          0.          0.          0.20353609  0.49143005  0.30503385]\n",
      " [ 0.          0.          0.          0.19655401  0.06812856  0.73531743]]\n",
      "tau\n",
      " [ 24.27104975   4.68044493  16.04850532]\n",
      "tau\n",
      " [ 24.27104975   4.68044493  16.04850532]\n"
     ]
    },
    {
     "data": {
      "image/png": "[encoded data removed]",
      "text/plain": [
       "<matplotlib.figure.Figure at 0x7f6bfb189f60>"
      ]
     },
     "metadata": {},
     "output_type": "display_data"
    }
   ],
   "source": [
    "#cthmm.baum_welch( t,e,20 )\n",
    "outc = cthmm.baum_welch_graph( t,e,5 )\n",
    "plt.plot( outc / cest  )\n",
    "plt.show()\n",
    "\n",
    "outce = cthmme.baum_welch_graph( te,ee,5 )\n",
    "plt.plot( outce / ceste  )\n",
    "plt.show()\n",
    "\n"
   ]
  },
  {
   "cell_type": "code",
   "execution_count": 20,
   "metadata": {
    "collapsed": false
   },
   "outputs": [
    {
     "name": "stdout",
     "output_type": "stream",
     "text": [
      "Initial probabilities (π) :\n"
     ]
    },
    {
     "data": {
      "text/html": [
       "<div>\n",
       "<table border=\"1\" class=\"dataframe\">\n",
       "  <thead>\n",
       "    <tr style=\"text-align: right;\">\n",
       "      <th></th>\n",
       "      <th>0</th>\n",
       "    </tr>\n",
       "  </thead>\n",
       "  <tbody>\n",
       "    <tr>\n",
       "      <th>0</th>\n",
       "      <td>0.000014</td>\n",
       "    </tr>\n",
       "    <tr>\n",
       "      <th>1</th>\n",
       "      <td>0.000000</td>\n",
       "    </tr>\n",
       "    <tr>\n",
       "      <th>2</th>\n",
       "      <td>0.999986</td>\n",
       "    </tr>\n",
       "  </tbody>\n",
       "</table>\n",
       "</div>"
      ],
      "text/plain": [
       "          0\n",
       "0  0.000014\n",
       "1  0.000000\n",
       "2  0.999986"
      ]
     },
     "metadata": {},
     "output_type": "display_data"
    },
    {
     "name": "stdout",
     "output_type": "stream",
     "text": [
      "Transition rate matrix (Q):\n"
     ]
    },
    {
     "data": {
      "text/html": [
       "<div>\n",
       "<table border=\"1\" class=\"dataframe\">\n",
       "  <thead>\n",
       "    <tr style=\"text-align: right;\">\n",
       "      <th></th>\n",
       "      <th>0</th>\n",
       "      <th>1</th>\n",
       "      <th>2</th>\n",
       "    </tr>\n",
       "  </thead>\n",
       "  <tbody>\n",
       "    <tr>\n",
       "      <th>0</th>\n",
       "      <td>-0.061178</td>\n",
       "      <td>0.046817</td>\n",
       "      <td>0.014361</td>\n",
       "    </tr>\n",
       "    <tr>\n",
       "      <th>1</th>\n",
       "      <td>0.810701</td>\n",
       "      <td>-0.861532</td>\n",
       "      <td>0.050831</td>\n",
       "    </tr>\n",
       "    <tr>\n",
       "      <th>2</th>\n",
       "      <td>1.569271</td>\n",
       "      <td>0.292831</td>\n",
       "      <td>-1.862102</td>\n",
       "    </tr>\n",
       "  </tbody>\n",
       "</table>\n",
       "</div>"
      ],
      "text/plain": [
       "          0         1         2\n",
       "0 -0.061178  0.046817  0.014361\n",
       "1  0.810701 -0.861532  0.050831\n",
       "2  1.569271  0.292831 -1.862102"
      ]
     },
     "metadata": {},
     "output_type": "display_data"
    },
    {
     "name": "stdout",
     "output_type": "stream",
     "text": [
      "Transition probabilities for one time unit :\n"
     ]
    },
    {
     "data": {
      "text/html": [
       "<div>\n",
       "<table border=\"1\" class=\"dataframe\">\n",
       "  <thead>\n",
       "    <tr style=\"text-align: right;\">\n",
       "      <th></th>\n",
       "      <th>0</th>\n",
       "      <th>1</th>\n",
       "      <th>2</th>\n",
       "    </tr>\n",
       "  </thead>\n",
       "  <tbody>\n",
       "    <tr>\n",
       "      <th>0</th>\n",
       "      <td>0.961608</td>\n",
       "      <td>0.031540</td>\n",
       "      <td>0.006852</td>\n",
       "    </tr>\n",
       "    <tr>\n",
       "      <th>1</th>\n",
       "      <td>0.547641</td>\n",
       "      <td>0.436073</td>\n",
       "      <td>0.016285</td>\n",
       "    </tr>\n",
       "    <tr>\n",
       "      <th>2</th>\n",
       "      <td>0.743864</td>\n",
       "      <td>0.095178</td>\n",
       "      <td>0.160958</td>\n",
       "    </tr>\n",
       "  </tbody>\n",
       "</table>\n",
       "</div>"
      ],
      "text/plain": [
       "          0         1         2\n",
       "0  0.961608  0.031540  0.006852\n",
       "1  0.547641  0.436073  0.016285\n",
       "2  0.743864  0.095178  0.160958"
      ]
     },
     "metadata": {},
     "output_type": "display_data"
    },
    {
     "name": "stdout",
     "output_type": "stream",
     "text": [
      "Emission probabilities matrix (B):\n"
     ]
    },
    {
     "data": {
      "text/html": [
       "<div>\n",
       "<table border=\"1\" class=\"dataframe\">\n",
       "  <thead>\n",
       "    <tr style=\"text-align: right;\">\n",
       "      <th></th>\n",
       "      <th>0</th>\n",
       "      <th>1</th>\n",
       "      <th>2</th>\n",
       "    </tr>\n",
       "  </thead>\n",
       "  <tbody>\n",
       "    <tr>\n",
       "      <th>0</th>\n",
       "      <td>0.999984</td>\n",
       "      <td>0.0</td>\n",
       "      <td>0.000016</td>\n",
       "    </tr>\n",
       "    <tr>\n",
       "      <th>1</th>\n",
       "      <td>1.000000</td>\n",
       "      <td>0.0</td>\n",
       "      <td>0.000000</td>\n",
       "    </tr>\n",
       "    <tr>\n",
       "      <th>2</th>\n",
       "      <td>0.000365</td>\n",
       "      <td>0.0</td>\n",
       "      <td>0.999635</td>\n",
       "    </tr>\n",
       "  </tbody>\n",
       "</table>\n",
       "</div>"
      ],
      "text/plain": [
       "          0    1         2\n",
       "0  0.999984  0.0  0.000016\n",
       "1  1.000000  0.0  0.000000\n",
       "2  0.000365  0.0  0.999635"
      ]
     },
     "metadata": {},
     "output_type": "display_data"
    }
   ],
   "source": [
    "hmms.print_parameters(cthmm)"
   ]
  },
  {
   "cell_type": "code",
   "execution_count": 7,
   "metadata": {
    "collapsed": false
   },
   "outputs": [
    {
     "data": {
      "text/plain": [
       "-47.17228698730469"
      ]
     },
     "execution_count": 7,
     "metadata": {},
     "output_type": "execute_result"
    }
   ],
   "source": [
    "cthmm.data_estimate(t,e)"
   ]
  },
  {
   "cell_type": "code",
   "execution_count": 37,
   "metadata": {
    "collapsed": false
   },
   "outputs": [
    {
     "data": {
      "text/plain": [
       "array([-2462.39013672, -2460.34350586, -2459.47973633, -2458.9453125 ,\n",
       "       -2458.58984375, -2458.33837891, -2458.14990234, -2458.00366211,\n",
       "       -2457.88476562, -2457.78491211, -2457.70068359, -2457.62695312,\n",
       "       -2457.56274414, -2457.50561523, -2457.45458984, -2457.40844727,\n",
       "       -2457.36694336, -2457.32958984, -2457.29614258, -2457.26513672,\n",
       "       -2457.23730469])"
      ]
     },
     "execution_count": 37,
     "metadata": {},
     "output_type": "execute_result"
    }
   ],
   "source": [
    "outc"
   ]
  },
  {
   "cell_type": "code",
   "execution_count": 15,
   "metadata": {
    "collapsed": false
   },
   "outputs": [
    {
     "data": {
      "text/plain": [
       "array([[ 0,  1,  2, ..., 47, 48, 49],\n",
       "       [ 0,  1,  2, ..., 47, 48, 49],\n",
       "       [ 0,  1,  2, ..., 47, 48, 49],\n",
       "       ..., \n",
       "       [ 0,  1,  2, ..., 47, 48, 49],\n",
       "       [ 0,  1,  2, ..., 47, 48, 49],\n",
       "       [ 0,  1,  2, ..., 47, 48, 49]])"
      ]
     },
     "execution_count": 15,
     "metadata": {},
     "output_type": "execute_result"
    }
   ],
   "source": [
    "t\n"
   ]
  },
  {
   "cell_type": "code",
   "execution_count": 16,
   "metadata": {
    "collapsed": false
   },
   "outputs": [
    {
     "data": {
      "text/plain": [
       "array([[2, 2, 2, ..., 2, 2, 1],\n",
       "       [2, 2, 2, ..., 2, 0, 0],\n",
       "       [1, 0, 0, ..., 0, 0, 0],\n",
       "       ..., \n",
       "       [0, 2, 2, ..., 0, 2, 1],\n",
       "       [2, 2, 2, ..., 2, 0, 2],\n",
       "       [0, 2, 2, ..., 2, 2, 2]])"
      ]
     },
     "execution_count": 16,
     "metadata": {},
     "output_type": "execute_result"
    }
   ],
   "source": [
    "e"
   ]
  },
  {
   "cell_type": "code",
   "execution_count": null,
   "metadata": {
    "collapsed": true
   },
   "outputs": [],
   "source": []
  }
 ],
 "metadata": {
  "kernelspec": {
   "display_name": "Python 3",
   "language": "python",
   "name": "python3"
  },
  "language_info": {
   "codemirror_mode": {
    "name": "ipython",
    "version": 3
   },
   "file_extension": ".py",
   "mimetype": "text/x-python",
   "name": "python",
   "nbconvert_exporter": "python",
   "pygments_lexer": "ipython3",
   "version": "3.5.2"
  }
 },
 "nbformat": 4,
 "nbformat_minor": 2
}
